{
 "cells": [
  {
   "cell_type": "markdown",
   "metadata": {
    "colab_type": "text",
    "id": "oEyHhHF39Bui"
   },
   "source": [
    "## Usage\n",
    "Like a regular notebook:\n",
    "- __run a cell__ with **_ctrl-enter_** or **_shift-enter_**\n",
    "- __use the command palette__ with **_ctrl-shift-P_** to find more complex commands\n",
    "\n",
    "Use it only with __Chrome__\n"
   ]
  },
  {
   "cell_type": "code",
   "execution_count": 0,
   "metadata": {
    "colab": {
     "base_uri": "https://localhost:8080/",
     "height": 51
    },
    "colab_type": "code",
    "executionInfo": {
     "elapsed": 2394,
     "status": "ok",
     "timestamp": 1571386884741,
     "user": {
      "displayName": "Marie Vachelard",
      "photoUrl": "https://lh3.googleusercontent.com/a-/AAuE7mBn-10cnCca1iyV0nxvMecKnK0XyPJ-qq4bBdJ4=s64",
      "userId": "06987863607739470266"
     },
     "user_tz": -120
    },
    "id": "oy8-Z4EV2nQm",
    "outputId": "4e84d5e2-1b18-4ddf-e919-d81f3f705d8f"
   },
   "outputs": [
    {
     "name": "stdout",
     "output_type": "stream",
     "text": [
      "[nltk_data] Downloading package stopwords to /root/nltk_data...\n",
      "[nltk_data]   Package stopwords is already up-to-date!\n"
     ]
    }
   ],
   "source": [
    "import pandas as pd\n",
    "import numpy as np\n",
    "\n",
    "import seaborn as sns\n",
    "import matplotlib.pyplot as plt\n",
    "from sklearn.preprocessing import PowerTransformer, MinMaxScaler\n",
    "\n",
    "import nltk\n",
    "from nltk.corpus import stopwords\n",
    "nltk.download('stopwords')\n",
    "\n",
    "from sklearn.feature_extraction.text import CountVectorizer\n",
    "from sklearn.feature_extraction.text import TfidfVectorizer\n",
    "from sklearn.model_selection import train_test_split\n",
    "from sklearn.linear_model import LogisticRegression\n",
    "from sklearn.pipeline import Pipeline\n",
    "from sklearn.metrics import confusion_matrix\n",
    "from sklearn.metrics import accuracy_score\n",
    "from sklearn.metrics import classification_report\n",
    "from sklearn.metrics import f1_score\n",
    "from sklearn.model_selection import GridSearchCV\n",
    "\n",
    "from PIL import Image\n",
    "from wordcloud import WordCloud, STOPWORDS, ImageColorGenerator"
   ]
  },
  {
   "cell_type": "markdown",
   "metadata": {
    "colab_type": "text",
    "id": "BwCsLx1L47iW"
   },
   "source": [
    "# Session 1\n",
    "\n",
    "This introduction will altern theory & practice, and will be divided as follow:\n",
    "0. Data Exploration \n",
    "1. Problematic \n",
    "2. From Text to numbers\n",
    "    1. From one text to a list of tokens \n",
    "    2. From a list of tokens to an embedding \n",
    "3. Modelling \n",
    "    1. Baseline model \n",
    "    2. Logistic Regression\n",
    "4. Neural Network\n",
    "    1. Architecture \n",
    "    2. Parameters and initialization \n",
    "    3. Activation functions  \n",
    "    4. Forward propagation  \n",
    "    5. Measuring progress\n",
    "    6. Computing gradients with backpropagation\n",
    "    7. Updating parameters - teaching\n",
    "    8. Assembling bricks - training\n",
    "    9. Let’s try\n",
    "        1. Archi 1\n",
    "        2. Archi 2"
   ]
  },
  {
   "cell_type": "markdown",
   "metadata": {
    "colab_type": "text",
    "id": "z175aef45DLp"
   },
   "source": [
    "## 0. Data exploration\n",
    "\n",
    "Let's download datasets"
   ]
  },
  {
   "cell_type": "code",
   "execution_count": 0,
   "metadata": {
    "colab": {
     "base_uri": "https://localhost:8080/",
     "height": 68
    },
    "colab_type": "code",
    "executionInfo": {
     "elapsed": 83835,
     "status": "ok",
     "timestamp": 1571386972615,
     "user": {
      "displayName": "Marie Vachelard",
      "photoUrl": "https://lh3.googleusercontent.com/a-/AAuE7mBn-10cnCca1iyV0nxvMecKnK0XyPJ-qq4bBdJ4=s64",
      "userId": "06987863607739470266"
     },
     "user_tz": -120
    },
    "id": "_NtCfm105Eas",
    "outputId": "96f60a9a-3616-47fb-9f86-0f885db0cbf9"
   },
   "outputs": [
    {
     "name": "stdout",
     "output_type": "stream",
     "text": [
      "Downloading ..  test_set.csv\n",
      "Downloading ..  test_set_with_rating.csv\n",
      "Downloading ..  train_set.csv\n"
     ]
    }
   ],
   "source": [
    "def download_data():\n",
    "    import urllib.request\n",
    "    import os\n",
    "    folder = './data'\n",
    "    list_urls = [\n",
    "        ('https://bendrive.s3-eu-west-1.amazonaws.com/test_set.csv', 'test_set.csv'),\n",
    "        ('https://bendrive.s3-eu-west-1.amazonaws.com/test_set_with_rating.csv', 'test_set_with_rating.csv'),\n",
    "        ('https://bendrive.s3-eu-west-1.amazonaws.com/train_set.csv', 'train_set.csv')\n",
    "        \n",
    "    ]\n",
    "    if not os.path.isdir(folder):\n",
    "        os.mkdir(folder)\n",
    "    for url, file in list_urls:\n",
    "        if not os.path.isfile(folder + '/' + file):\n",
    "            print(\"Downloading .. \", file)\n",
    "            urllib.request.urlretrieve(url, folder + '/' + file)\n",
    "\n",
    "download_data()"
   ]
  },
  {
   "cell_type": "markdown",
   "metadata": {
    "colab_type": "text",
    "id": "5Wk1Gd9t5H8V"
   },
   "source": [
    "With pandas, load the datasets into dataframes"
   ]
  },
  {
   "cell_type": "code",
   "execution_count": 0,
   "metadata": {
    "colab": {},
    "colab_type": "code",
    "id": "Qz3-y46M5LkD"
   },
   "outputs": [],
   "source": [
    "import pandas as pd\n",
    "\n",
    "\n",
    "df_test_w_rating = pd.read_csv(\"./data/test_set_with_rating.csv\")\n",
    "df_test = pd.read_csv(\"./data/test_set.csv\")\n",
    "df_train = pd.read_csv(\"./data/train_set.csv\")"
   ]
  },
  {
   "cell_type": "markdown",
   "metadata": {
    "colab_type": "text",
    "id": "6z_JlWRH5Nt8"
   },
   "source": [
    "Load only a part of the train data for convenience"
   ]
  },
  {
   "cell_type": "code",
   "execution_count": 0,
   "metadata": {
    "colab": {
     "base_uri": "https://localhost:8080/",
     "height": 202
    },
    "colab_type": "code",
    "executionInfo": {
     "elapsed": 661,
     "status": "ok",
     "timestamp": 1571386998567,
     "user": {
      "displayName": "Marie Vachelard",
      "photoUrl": "https://lh3.googleusercontent.com/a-/AAuE7mBn-10cnCca1iyV0nxvMecKnK0XyPJ-qq4bBdJ4=s64",
      "userId": "06987863607739470266"
     },
     "user_tz": -120
    },
    "id": "R-fSwdjO5ONU",
    "outputId": "3be7e504-a588-4de5-e484-a2aed1706add"
   },
   "outputs": [
    {
     "data": {
      "text/html": [
       "<div>\n",
       "<style scoped>\n",
       "    .dataframe tbody tr th:only-of-type {\n",
       "        vertical-align: middle;\n",
       "    }\n",
       "\n",
       "    .dataframe tbody tr th {\n",
       "        vertical-align: top;\n",
       "    }\n",
       "\n",
       "    .dataframe thead th {\n",
       "        text-align: right;\n",
       "    }\n",
       "</style>\n",
       "<table border=\"1\" class=\"dataframe\">\n",
       "  <thead>\n",
       "    <tr style=\"text-align: right;\">\n",
       "      <th></th>\n",
       "      <th>review</th>\n",
       "      <th>rating</th>\n",
       "      <th>user_id</th>\n",
       "      <th>business_id</th>\n",
       "      <th>useful_review</th>\n",
       "      <th>funny_review</th>\n",
       "      <th>cool_review</th>\n",
       "      <th>name_restaurant</th>\n",
       "      <th>address</th>\n",
       "      <th>city</th>\n",
       "      <th>state</th>\n",
       "      <th>postal_code</th>\n",
       "      <th>latitude</th>\n",
       "      <th>longitude</th>\n",
       "      <th>review_count_restaurant</th>\n",
       "      <th>is_open</th>\n",
       "      <th>name_user</th>\n",
       "      <th>review_count_user</th>\n",
       "      <th>yelping_since</th>\n",
       "      <th>useful_user</th>\n",
       "      <th>funny_user</th>\n",
       "      <th>cool_user</th>\n",
       "      <th>elite</th>\n",
       "      <th>fans</th>\n",
       "      <th>average_stars</th>\n",
       "      <th>compliment_hot</th>\n",
       "      <th>compliment_more</th>\n",
       "      <th>compliment_profile</th>\n",
       "      <th>compliment_cute</th>\n",
       "      <th>compliment_list</th>\n",
       "      <th>compliment_note</th>\n",
       "      <th>compliment_plain</th>\n",
       "      <th>compliment_cool</th>\n",
       "      <th>compliment_funny</th>\n",
       "      <th>compliment_photos</th>\n",
       "    </tr>\n",
       "  </thead>\n",
       "  <tbody>\n",
       "    <tr>\n",
       "      <th>0</th>\n",
       "      <td>Like walking back in time, every Saturday morn...</td>\n",
       "      <td>4.0</td>\n",
       "      <td>FIk4lQQu1eTe2EpzQ4xhBA</td>\n",
       "      <td>8mIrX_LrOnAqWsB5JrOojQ</td>\n",
       "      <td>0.0</td>\n",
       "      <td>0.0</td>\n",
       "      <td>0.0</td>\n",
       "      <td>Pinball Hall Of Fame</td>\n",
       "      <td>1610 E Tropicana Ave</td>\n",
       "      <td>Las Vegas</td>\n",
       "      <td>NV</td>\n",
       "      <td>89119.0</td>\n",
       "      <td>36.101449</td>\n",
       "      <td>-115.130511</td>\n",
       "      <td>1258.0</td>\n",
       "      <td>1.0</td>\n",
       "      <td>Carol</td>\n",
       "      <td>866.0</td>\n",
       "      <td>2010-08-26 22:09:14</td>\n",
       "      <td>1635.0</td>\n",
       "      <td>314.0</td>\n",
       "      <td>726.0</td>\n",
       "      <td>2011,2012,2013,2014,2015,2016,2017,2018</td>\n",
       "      <td>63.0</td>\n",
       "      <td>4.16</td>\n",
       "      <td>18.0</td>\n",
       "      <td>10.0</td>\n",
       "      <td>3.0</td>\n",
       "      <td>2.0</td>\n",
       "      <td>2.0</td>\n",
       "      <td>29.0</td>\n",
       "      <td>26.0</td>\n",
       "      <td>53.0</td>\n",
       "      <td>53.0</td>\n",
       "      <td>15.0</td>\n",
       "    </tr>\n",
       "  </tbody>\n",
       "</table>\n",
       "</div>"
      ],
      "text/plain": [
       "                                              review  ...  compliment_photos\n",
       "0  Like walking back in time, every Saturday morn...  ...               15.0\n",
       "\n",
       "[1 rows x 35 columns]"
      ]
     },
     "execution_count": 5,
     "metadata": {
      "tags": []
     },
     "output_type": "execute_result"
    }
   ],
   "source": [
    "df_train = df_train[0:30000]\n",
    "df_train.head(1)"
   ]
  },
  {
   "cell_type": "markdown",
   "metadata": {
    "colab_type": "text",
    "id": "tZMr4tvT5QOM"
   },
   "source": [
    "We will focus on review and rating"
   ]
  },
  {
   "cell_type": "code",
   "execution_count": 0,
   "metadata": {
    "colab": {
     "base_uri": "https://localhost:8080/",
     "height": 245
    },
    "colab_type": "code",
    "executionInfo": {
     "elapsed": 508,
     "status": "ok",
     "timestamp": 1571387001799,
     "user": {
      "displayName": "Marie Vachelard",
      "photoUrl": "https://lh3.googleusercontent.com/a-/AAuE7mBn-10cnCca1iyV0nxvMecKnK0XyPJ-qq4bBdJ4=s64",
      "userId": "06987863607739470266"
     },
     "user_tz": -120
    },
    "id": "rrb2docl5Sk6",
    "outputId": "e2f9c3f3-86eb-4d19-f47e-38e5b7d2c07b"
   },
   "outputs": [
    {
     "name": "stdout",
     "output_type": "stream",
     "text": [
      "GOOD REVIEW\n"
     ]
    },
    {
     "data": {
      "text/html": [
       "<div>\n",
       "<style scoped>\n",
       "    .dataframe tbody tr th:only-of-type {\n",
       "        vertical-align: middle;\n",
       "    }\n",
       "\n",
       "    .dataframe tbody tr th {\n",
       "        vertical-align: top;\n",
       "    }\n",
       "\n",
       "    .dataframe thead th {\n",
       "        text-align: right;\n",
       "    }\n",
       "</style>\n",
       "<table border=\"1\" class=\"dataframe\">\n",
       "  <thead>\n",
       "    <tr style=\"text-align: right;\">\n",
       "      <th></th>\n",
       "      <th>review</th>\n",
       "      <th>rating</th>\n",
       "    </tr>\n",
       "  </thead>\n",
       "  <tbody>\n",
       "    <tr>\n",
       "      <th>12073</th>\n",
       "      <td>Excellent food!!!!! Masala Dosa is legit!!!  Don't believe the other reviews... this is so good, flavors are on point and just spicy enough!</td>\n",
       "      <td>5</td>\n",
       "    </tr>\n",
       "  </tbody>\n",
       "</table>\n",
       "</div>"
      ],
      "text/plain": [
       "                                                                                                                                             review  rating\n",
       "12073  Excellent food!!!!! Masala Dosa is legit!!!  Don't believe the other reviews... this is so good, flavors are on point and just spicy enough!  5     "
      ]
     },
     "metadata": {
      "tags": []
     },
     "output_type": "display_data"
    },
    {
     "name": "stdout",
     "output_type": "stream",
     "text": [
      "BAD REVIEW\n"
     ]
    },
    {
     "data": {
      "text/html": [
       "<div>\n",
       "<style scoped>\n",
       "    .dataframe tbody tr th:only-of-type {\n",
       "        vertical-align: middle;\n",
       "    }\n",
       "\n",
       "    .dataframe tbody tr th {\n",
       "        vertical-align: top;\n",
       "    }\n",
       "\n",
       "    .dataframe thead th {\n",
       "        text-align: right;\n",
       "    }\n",
       "</style>\n",
       "<table border=\"1\" class=\"dataframe\">\n",
       "  <thead>\n",
       "    <tr style=\"text-align: right;\">\n",
       "      <th></th>\n",
       "      <th>review</th>\n",
       "      <th>rating</th>\n",
       "    </tr>\n",
       "  </thead>\n",
       "  <tbody>\n",
       "    <tr>\n",
       "      <th>3657</th>\n",
       "      <td>The guy who took my order was really rude. It was my first time going there so I guess I didn't order quick enough or I wasn't an expert in whatever I was ordering. I wanted a mixed berry smoothie at first and the guy had the nerve to roll his eyes in my face and tell me he just didn't have yogurt or whatever to make it. Then I was like ok, I want a caramel macchiato. He mumbled something under his breath, so thinking that he couldn't make it, I started to say \"ok then I'll have something else.\" He bit back with \"NO! Do you want iced or heated?!\" I said iced. I also wanted a bagel; I looked him straight in the eyes and ordered my bagel while he was gossiping with someone else and he never gave me my bagel xS, never even processed that I had ordered something else. Not going back there again.</td>\n",
       "      <td>1</td>\n",
       "    </tr>\n",
       "  </tbody>\n",
       "</table>\n",
       "</div>"
      ],
      "text/plain": [
       "                                                                                                                                                                                                                                                                                                                                                                                                                                                                                                                                                                                                                                                                                                                                                                                                                                  review  rating\n",
       "3657  The guy who took my order was really rude. It was my first time going there so I guess I didn't order quick enough or I wasn't an expert in whatever I was ordering. I wanted a mixed berry smoothie at first and the guy had the nerve to roll his eyes in my face and tell me he just didn't have yogurt or whatever to make it. Then I was like ok, I want a caramel macchiato. He mumbled something under his breath, so thinking that he couldn't make it, I started to say \"ok then I'll have something else.\" He bit back with \"NO! Do you want iced or heated?!\" I said iced. I also wanted a bagel; I looked him straight in the eyes and ordered my bagel while he was gossiping with someone else and he never gave me my bagel xS, never even processed that I had ordered something else. Not going back there again.  1     "
      ]
     },
     "metadata": {
      "tags": []
     },
     "output_type": "display_data"
    }
   ],
   "source": [
    "pd.set_option('display.max_colwidth', -1)\n",
    "\n",
    "df_train = df_train[['review', 'rating']].dropna()\n",
    "df_train['rating'] = df_train['rating'].astype('int')\n",
    "\n",
    "# Show a good review\n",
    "print(\"GOOD REVIEW\")\n",
    "display(df_train[df_train['rating']==5].sample(1))\n",
    "\n",
    "# Show a bad review\n",
    "print(\"BAD REVIEW\")\n",
    "display(df_train[df_train['rating']==1].sample(1))"
   ]
  },
  {
   "cell_type": "markdown",
   "metadata": {
    "colab_type": "text",
    "id": "2nmUESo65VGT"
   },
   "source": [
    "Let's look at the number of comments for each rating"
   ]
  },
  {
   "cell_type": "code",
   "execution_count": 0,
   "metadata": {
    "colab": {
     "base_uri": "https://localhost:8080/",
     "height": 221
    },
    "colab_type": "code",
    "executionInfo": {
     "elapsed": 4394,
     "status": "ok",
     "timestamp": 1571387010273,
     "user": {
      "displayName": "Marie Vachelard",
      "photoUrl": "https://lh3.googleusercontent.com/a-/AAuE7mBn-10cnCca1iyV0nxvMecKnK0XyPJ-qq4bBdJ4=s64",
      "userId": "06987863607739470266"
     },
     "user_tz": -120
    },
    "id": "cdYKTl0Q5XWh",
    "outputId": "10717222-5291-43a2-89ae-4a8933f3eb58"
   },
   "outputs": [
    {
     "name": "stdout",
     "output_type": "stream",
     "text": [
      "5    12483\n",
      "4    7372 \n",
      "3    3972 \n",
      "1    3498 \n",
      "2    2669 \n",
      "Name: rating, dtype: int64\n",
      "5    0.416183\n",
      "4    0.245782\n",
      "3    0.132426\n",
      "1    0.116623\n",
      "2    0.088984\n",
      "Name: rating, dtype: float64\n"
     ]
    }
   ],
   "source": [
    "print(df_train['rating'].value_counts())\n",
    "print(df_train['rating'].value_counts(normalize=True))"
   ]
  },
  {
   "cell_type": "markdown",
   "metadata": {
    "colab_type": "text",
    "id": "1juKwcl95ZRC"
   },
   "source": [
    "Let's look at the distribution in a more convenient way"
   ]
  },
  {
   "cell_type": "code",
   "execution_count": 0,
   "metadata": {
    "colab": {
     "base_uri": "https://localhost:8080/",
     "height": 286
    },
    "colab_type": "code",
    "executionInfo": {
     "elapsed": 2392,
     "status": "ok",
     "timestamp": 1571387013895,
     "user": {
      "displayName": "Marie Vachelard",
      "photoUrl": "https://lh3.googleusercontent.com/a-/AAuE7mBn-10cnCca1iyV0nxvMecKnK0XyPJ-qq4bBdJ4=s64",
      "userId": "06987863607739470266"
     },
     "user_tz": -120
    },
    "id": "4trsy2zW5bRM",
    "outputId": "bf20de36-e143-42b4-f403-459a7e648093"
   },
   "outputs": [
    {
     "data": {
      "text/plain": [
       "<matplotlib.axes._subplots.AxesSubplot at 0x7f2d35df6240>"
      ]
     },
     "execution_count": 8,
     "metadata": {
      "tags": []
     },
     "output_type": "execute_result"
    },
    {
     "data": {
      "image/png": "[encoded data removed]",
      "text/plain": [
       "<Figure size 432x288 with 1 Axes>"
      ]
     },
     "metadata": {
      "tags": []
     },
     "output_type": "display_data"
    }
   ],
   "source": [
    "%matplotlib inline\n",
    "\n",
    "df_train[\"rating\"].hist()"
   ]
  },
  {
   "cell_type": "markdown",
   "metadata": {
    "colab_type": "text",
    "id": "r5xN2YHS5dG3"
   },
   "source": [
    "# 1. Problematic\n",
    "\n",
    "Are we able to predict the rating from the text comment ?\n",
    "\n",
    "So our goal is to have a model, a function, that takes text as input and output a rating.\n",
    "\n",
    "$f(text) = rating$\n",
    "\n",
    "Are **you** able to do it ?"
   ]
  },
  {
   "cell_type": "code",
   "execution_count": 0,
   "metadata": {
    "colab": {
     "base_uri": "https://localhost:8080/",
     "height": 88
    },
    "colab_type": "code",
    "executionInfo": {
     "elapsed": 2019,
     "status": "ok",
     "timestamp": 1571387020243,
     "user": {
      "displayName": "Marie Vachelard",
      "photoUrl": "https://lh3.googleusercontent.com/a-/AAuE7mBn-10cnCca1iyV0nxvMecKnK0XyPJ-qq4bBdJ4=s64",
      "userId": "06987863607739470266"
     },
     "user_tz": -120
    },
    "id": "lZr9fic35ftY",
    "outputId": "7e7a74c5-d4f0-406c-d661-0f3d09b02eea"
   },
   "outputs": [
    {
     "name": "stdout",
     "output_type": "stream",
     "text": [
      "GUESS THE RATING ?\n"
     ]
    },
    {
     "data": {
      "text/plain": [
       "28377    The vibe is good and the staff is friendly but the food is mediocre. We ordered the brisket nachos but the meat had no flavor. The jalapenos were freshly sliced and the tomatoes are fresh but you have to pick up each ingredient and place it on a chip in order to build a chip with any flavor. It was an interesting display when serving the food but beyond the initial novelty, the taste is just not there.\n",
       "Name: review, dtype: object"
      ]
     },
     "metadata": {
      "tags": []
     },
     "output_type": "display_data"
    }
   ],
   "source": [
    "# Show a bad review\n",
    "import numpy as np\n",
    "\n",
    "print(\"GUESS THE RATING ?\")\n",
    "random_rating = np.random.randint(1, 6)\n",
    "display(df_train[df_train['rating']==random_rating]['review'].sample(1))"
   ]
  },
  {
   "cell_type": "code",
   "execution_count": 0,
   "metadata": {
    "colab": {
     "base_uri": "https://localhost:8080/",
     "height": 34
    },
    "colab_type": "code",
    "executionInfo": {
     "elapsed": 1274,
     "status": "ok",
     "timestamp": 1571387023579,
     "user": {
      "displayName": "Marie Vachelard",
      "photoUrl": "https://lh3.googleusercontent.com/a-/AAuE7mBn-10cnCca1iyV0nxvMecKnK0XyPJ-qq4bBdJ4=s64",
      "userId": "06987863607739470266"
     },
     "user_tz": -120
    },
    "id": "2bkCgPfb5l5O",
    "outputId": "f98d70da-767a-4817-a1a6-1d6969969570"
   },
   "outputs": [
    {
     "name": "stdout",
     "output_type": "stream",
     "text": [
      "2\n"
     ]
    }
   ],
   "source": [
    "print(random_rating)"
   ]
  },
  {
   "cell_type": "markdown",
   "metadata": {
    "colab_type": "text",
    "id": "2hBW7xg75n7h"
   },
   "source": [
    "To begin with a binary classification problem, we will bin the target into bad review and good review"
   ]
  },
  {
   "cell_type": "code",
   "execution_count": 0,
   "metadata": {
    "colab": {
     "base_uri": "https://localhost:8080/",
     "height": 286
    },
    "colab_type": "code",
    "executionInfo": {
     "elapsed": 4650,
     "status": "ok",
     "timestamp": 1571387030579,
     "user": {
      "displayName": "Marie Vachelard",
      "photoUrl": "https://lh3.googleusercontent.com/a-/AAuE7mBn-10cnCca1iyV0nxvMecKnK0XyPJ-qq4bBdJ4=s64",
      "userId": "06987863607739470266"
     },
     "user_tz": -120
    },
    "id": "4adKDkHc5ocv",
    "outputId": "0233b50b-46a1-4f87-8498-fc453f81c2be"
   },
   "outputs": [
    {
     "data": {
      "text/plain": [
       "<matplotlib.axes._subplots.AxesSubplot at 0x7f2d34ad5390>"
      ]
     },
     "execution_count": 11,
     "metadata": {
      "tags": []
     },
     "output_type": "execute_result"
    },
    {
     "data": {
      "image/png": "[encoded data removed]",
      "text/plain": [
       "<Figure size 432x288 with 1 Axes>"
      ]
     },
     "metadata": {
      "tags": []
     },
     "output_type": "display_data"
    }
   ],
   "source": [
    "df_train['bin_rating'] = df_train['rating'].apply(lambda x: 1 if x > 3 else 0)\n",
    "\n",
    "df_train[\"bin_rating\"].hist()"
   ]
  },
  {
   "cell_type": "markdown",
   "metadata": {
    "colab_type": "text",
    "id": "9uwz2ON-5qkS"
   },
   "source": [
    "# 2. From text to numbers\n",
    "\n",
    "First step is to transform text into numbers, to go from:\n",
    "\n",
    "    f(text) = rating\n",
    "\n",
    "to\n",
    "\n",
    "    f(numerical_vector_representing_text) = rating\n",
    "\n",
    "For example:\n",
    "\n",
    "    \"Meh.  Nothing special.  Food was just ok.\"\n",
    "\n",
    "must be transformed to something like:\n",
    "\n",
    "    [0, 4, 2, 8]\n",
    "\n",
    "where the values of the vector convey meaning of the text. Two different texts must have a different representation:\n",
    "\n",
    "    \"Meh.  Nothing special.  Food was just ok.\" > [0, 4, 2, 8]\n",
    "    \n",
    "    \"Aww.  Spectacular.  Food was amaaaaazing.\" > [4, 2, 6, 1]\n",
    "\n",
    "Also, it would be more convenient if texts of different sizes can translate to a fixed size vector, for example:\n",
    "\n",
    "    \"Meh.  Nothing special.  Food was just ok.\" > [0, 4, 2, 8]\n",
    "    \n",
    "    \"Meh.\" > [0, 3, 3, 7]\n",
    "\n",
    "\n",
    "## 2.1 From one text to a list of tokens\n",
    "\n",
    "First step is to convert a text, which is one string of characters, to a list of words.\n",
    "\n",
    "    \"Meh.  Nothing special.\" > [\"meh\", \"nothing\", \"special\"]\n",
    "    \n",
    "Then, those words must be transformed into tokens, wich are representation of words. This can be done with\n",
    "\n",
    "(1) **Stemming** is the process of eliminating affixes (suffixed, prefixes, infixes, circumfixes) from a word in order to obtain a word stem.\n",
    "\n",
    "(2) **Lemmatization** is related to stemming, differing in that lemmatization is able to capture canonical forms based on a word's lemma.\n",
    "\n",
    "(3) **Everything else**: set all characters to **lowercase**, remove numbers (or convert numbers to textual representations), remove **punctuation** (generally part of tokenization, but still worth keeping in mind at this stage, even as confirmation), strip white space (also generally part of tokenization), remove default  **stop words**  (general English stop words), etc."
   ]
  },
  {
   "cell_type": "code",
   "execution_count": 0,
   "metadata": {
    "colab": {},
    "colab_type": "code",
    "id": "Vz2KQGP-5uZR"
   },
   "outputs": [],
   "source": [
    "def convert_text_to_lowercase(df, colname):\n",
    "    df[colname] = df[colname].str.lower()\n",
    "    return df\n",
    "    \n",
    "def not_regex(pattern):\n",
    "        return r\"((?!{}).)\".format(pattern)\n",
    "\n",
    "def remove_punctuation(df, colname):\n",
    "    df[colname] = df[colname].str.replace('\\n', ' ')\n",
    "    df[colname] = df[colname].str.replace('\\r', ' ')\n",
    "    alphanumeric_characters_extended = '(\\\\b[-/]\\\\b|[a-zA-Z0-9])'\n",
    "    df[colname] = df[colname].str.replace(not_regex(alphanumeric_characters_extended), ' ')\n",
    "    return df\n",
    "\n",
    "def tokenize_sentence(df, colname):\n",
    "    df[colname] = df[colname].str.split()\n",
    "    return df\n",
    "\n",
    "def remove_stop_words(df, colname):\n",
    "    stop_words = stopwords.words('english')\n",
    "    df[colname] = df[colname].apply(lambda x: [word for word in x if word not in stop_words])\n",
    "    return df\n",
    "\n",
    "def reverse_tokenize_sentence(df, colname):\n",
    "    df[colname] = df[colname].map(lambda word: ' '.join(word))\n",
    "    return df\n",
    "\n",
    "\n",
    "def text_cleaning(df, colname):\n",
    "    \"\"\"\n",
    "    Takes in a string of text, then performs the following:\n",
    "    1. convert text to lowercase\n",
    "    2. remove punctuation and new line characters '\\n'\n",
    "    3. Tokenize sentences\n",
    "    4. Remove all stopwords\n",
    "    5. convert tokenized text to text\n",
    "    \"\"\"\n",
    "    df = (\n",
    "        df\n",
    "        .pipe(convert_text_to_lowercase, colname)\n",
    "        .pipe(remove_punctuation, colname)\n",
    "        .pipe(tokenize_sentence, colname)\n",
    "        .pipe(remove_stop_words, colname)\n",
    "        .pipe(reverse_tokenize_sentence, colname)\n",
    "    )\n",
    "    return df"
   ]
  },
  {
   "cell_type": "markdown",
   "metadata": {
    "colab_type": "text",
    "id": "5ykt6PWd5zdS"
   },
   "source": [
    "- clean the review column"
   ]
  },
  {
   "cell_type": "code",
   "execution_count": 0,
   "metadata": {
    "colab": {
     "base_uri": "https://localhost:8080/",
     "height": 131
    },
    "colab_type": "code",
    "executionInfo": {
     "elapsed": 12331,
     "status": "ok",
     "timestamp": 1571387073900,
     "user": {
      "displayName": "Marie Vachelard",
      "photoUrl": "https://lh3.googleusercontent.com/a-/AAuE7mBn-10cnCca1iyV0nxvMecKnK0XyPJ-qq4bBdJ4=s64",
      "userId": "06987863607739470266"
     },
     "user_tz": -120
    },
    "id": "_sNUjm0y533I",
    "outputId": "382fd198-efc8-45a2-e82b-fc19244a906c"
   },
   "outputs": [
    {
     "data": {
      "text/html": [
       "<div>\n",
       "<style scoped>\n",
       "    .dataframe tbody tr th:only-of-type {\n",
       "        vertical-align: middle;\n",
       "    }\n",
       "\n",
       "    .dataframe tbody tr th {\n",
       "        vertical-align: top;\n",
       "    }\n",
       "\n",
       "    .dataframe thead th {\n",
       "        text-align: right;\n",
       "    }\n",
       "</style>\n",
       "<table border=\"1\" class=\"dataframe\">\n",
       "  <thead>\n",
       "    <tr style=\"text-align: right;\">\n",
       "      <th></th>\n",
       "      <th>review</th>\n",
       "      <th>rating</th>\n",
       "      <th>bin_rating</th>\n",
       "    </tr>\n",
       "  </thead>\n",
       "  <tbody>\n",
       "    <tr>\n",
       "      <th>17799</th>\n",
       "      <td>greenberg gets full five stars book yes know authentic jewish deli foods pretty close especially given casino las vegas reuben world similar reuben 1/2 pound larger carnegie deli new york 24 reuben 10 nearly good stop brisket turkey meats good pickles mustards whole nine yards n none additional open breakfast hours full menu available nice also 5 95 deal either bacon egg cheese croissant pastrami egg bagel coupled large coffee good deal croissant huge n nreally like place especially compare areas nearby 10 ok crepe 6 00 so-so slice pizza etc good food good value</td>\n",
       "      <td>5</td>\n",
       "      <td>1</td>\n",
       "    </tr>\n",
       "  </tbody>\n",
       "</table>\n",
       "</div>"
      ],
      "text/plain": [
       "                                                                                                                                                                                                                                                                                                                                                                                                                                                                                                                                                                                         review  ...  bin_rating\n",
       "17799  greenberg gets full five stars book yes know authentic jewish deli foods pretty close especially given casino las vegas reuben world similar reuben 1/2 pound larger carnegie deli new york 24 reuben 10 nearly good stop brisket turkey meats good pickles mustards whole nine yards n none additional open breakfast hours full menu available nice also 5 95 deal either bacon egg cheese croissant pastrami egg bagel coupled large coffee good deal croissant huge n nreally like place especially compare areas nearby 10 ok crepe 6 00 so-so slice pizza etc good food good value  ...  1         \n",
       "\n",
       "[1 rows x 3 columns]"
      ]
     },
     "execution_count": 15,
     "metadata": {
      "tags": []
     },
     "output_type": "execute_result"
    }
   ],
   "source": [
    "df_cleaned = text_cleaning(df_train, 'review')\n",
    "\n",
    "df_cleaned.sample(1)"
   ]
  },
  {
   "cell_type": "markdown",
   "metadata": {
    "colab_type": "text",
    "id": "BeNjzzuL56Av"
   },
   "source": [
    "## 2.2. From a list of tokens to an embedding (numerical vector)\n",
    "\n",
    "We still have to transform the list of tokens to a fixed size numerical vector\n",
    "\n",
    "    [\"meh\", \"nothing\", \"special\"] > [0, 2, 8, 1]\n",
    "    [\"my\", \"belly\", \"is\", \"happy\"] > [2, 1, 9, 3]\n",
    "    [\"i\", \"took\", \"a\", \"loan\", \"to\", \"eat\", \"there\"] > [1, 1, 3, 8]"
   ]
  },
  {
   "cell_type": "markdown",
   "metadata": {
    "colab_type": "text",
    "id": "0nP5wq2p6APd"
   },
   "source": [
    "For that, we will use a very common technique called TF-IDF\n",
    "\n",
    "**Definition**\n",
    "\n",
    "> **TF-IDF** or **term frequency–inverse document frequency**, is a numerical statistic that is intended to reflect how important a word is to reflect how important a word is to a document in a collection or corpus.\n",
    "\n",
    "**TF: Term Frequency**, which measures how frequently a term occurs in a document. Since every document is different in length, it is possible that a term would appear much more times in long documents than shorter ones. Thus, the term frequency is often divided by the document length (aka. the total number of terms in the document) as a way of normalization:  \n",
    "      \n",
    "    TF(t) = (Nbr of times term t appears in a document) / (Total nbr of terms in the document)\n",
    "    \n",
    "**IDF: Inverse Document Frequency**, which measures how important a term is. While computing TF, all terms are considered equally important. However it is known that certain terms, such as \"is\", \"of\", and \"that\", may appear a lot of times but have little importance. Thus we need to weigh down the frequent terms while scale up the rare ones, by computing the following:  \n",
    "      \n",
    "    IDF(t) = log_e(Total number of documents / Number of documents with term t in it)\n",
    "\n",
    "_Example:_\n",
    "_Consider a document containing 100 words wherein the word _cat_ appears 3 times. The term frequency (i.e., tf) for cat is then (3 / 100) = 0.03. Now, assume we have 10 million documents and the word _cat_ appears in one thousand of these. Then, the inverse document frequency (i.e., idf) is calculated as log(10,000,000 / 1,000) = 4. Thus, the Tf-idf weight is the product of these quantities: 0.03 * 4 = 0.12._\n",
    "\n",
    "**Tools**\n",
    "\n",
    "Python **sklearn** package **feature_extraction**."
   ]
  },
  {
   "cell_type": "code",
   "execution_count": 0,
   "metadata": {
    "colab": {},
    "colab_type": "code",
    "id": "lpdWvc3U6A57"
   },
   "outputs": [],
   "source": [
    "number_of_dimensions = 64\n",
    "\n",
    "tfidf_vectorizer = TfidfVectorizer(\n",
    "    analyzer='word',\n",
    "    ngram_range=(1, 1),\n",
    "    max_features=number_of_dimensions,\n",
    "    max_df=1.0,\n",
    "    min_df=10)\n",
    "X_tfidf = tfidf_vectorizer.fit_transform(df_cleaned[\"review\"]).toarray()"
   ]
  },
  {
   "cell_type": "code",
   "execution_count": 0,
   "metadata": {
    "colab": {
     "base_uri": "https://localhost:8080/",
     "height": 394
    },
    "colab_type": "code",
    "executionInfo": {
     "elapsed": 702,
     "status": "ok",
     "timestamp": 1571387086752,
     "user": {
      "displayName": "Marie Vachelard",
      "photoUrl": "https://lh3.googleusercontent.com/a-/AAuE7mBn-10cnCca1iyV0nxvMecKnK0XyPJ-qq4bBdJ4=s64",
      "userId": "06987863607739470266"
     },
     "user_tz": -120
    },
    "id": "6dXZ4_vG6DlZ",
    "outputId": "8c6f861e-70b0-484b-ff39-cef51a1daa5e"
   },
   "outputs": [
    {
     "name": "stdout",
     "output_type": "stream",
     "text": [
      " == Text\n",
      "\n",
      "went last weekend pretty disappointed one thing pictured recommended yelp good started steak grilled skewers ok nothing special freind got lasagna got special chicken dish pretty bland lacking kick waitress really nice got manger switch dishes freind got hamburger got shrimp scampi hamburger better lasagna still lacking flavor scampi better chicken also still seasoned noodles bit cooked big name attached restaurant going empty stomach high hopes service great gave three stars\n",
      "\n",
      " == Rating\n",
      "\n",
      "2\n",
      "\n",
      " == Embedding\n",
      "\n",
      "[0.14294182 0.         0.         0.         0.         0.\n",
      " 0.32447549 0.         0.         0.         0.30544986 0.\n",
      " 0.         0.         0.         0.         0.         0.\n",
      " 0.         0.         0.         0.         0.         0.\n",
      " 0.         0.         0.09921426 0.73213226 0.1089112  0.\n",
      " 0.         0.         0.         0.         0.         0.\n",
      " 0.         0.         0.         0.14805736 0.         0.\n",
      " 0.12663703 0.         0.         0.         0.         0.\n",
      " 0.32825946 0.13462864 0.14619609 0.         0.         0.10883736\n",
      " 0.         0.         0.         0.         0.         0.\n",
      " 0.         0.         0.1618795  0.        ]\n"
     ]
    }
   ],
   "source": [
    "randrow = np.random.randint(100)\n",
    "\n",
    "print(\" == Text\\n\")\n",
    "print(df_cleaned[\"review\"][randrow])\n",
    "print(\"\\n == Rating\\n\")\n",
    "print(df_cleaned[\"rating\"][randrow])\n",
    "print(\"\\n == Embedding\\n\")\n",
    "print(X_tfidf[randrow])"
   ]
  },
  {
   "cell_type": "markdown",
   "metadata": {
    "colab_type": "text",
    "id": "FrmO42vr6Hkm"
   },
   "source": [
    "## 3. Modelling\n",
    "\n",
    "Yeah ! We now have a numerical representation of the text, and the rating associated. Remember we start with a binary classification task: bad review / good review."
   ]
  },
  {
   "cell_type": "markdown",
   "metadata": {
    "colab_type": "text",
    "id": "e_-Fb-wl6IHT"
   },
   "source": [
    "#### Split data into train / test sets\n",
    "\n",
    "In order to measure the performance of our modeling, we need to split the data into:\n",
    "\n",
    "- The **training set** contains a known output and the model learns on this data in order to be generalized to other data later on (= 80%)\n",
    "\n",
    "- We have the **test set** in order to test our model’s prediction on this test set (= 20%)"
   ]
  },
  {
   "cell_type": "code",
   "execution_count": 0,
   "metadata": {
    "colab": {},
    "colab_type": "code",
    "id": "gjp-bX_66MUM"
   },
   "outputs": [],
   "source": [
    "TARGET = 'bin_rating'\n",
    "FEATURE = 'review'\n",
    "\n",
    "x_train, x_test, y_train, y_test = train_test_split(\n",
    "    df_cleaned[FEATURE], \n",
    "    df_cleaned[TARGET], \n",
    "    test_size=0.2,\n",
    "    random_state=2019)"
   ]
  },
  {
   "cell_type": "markdown",
   "metadata": {
    "colab_type": "text",
    "id": "_YH1WLD96M_p"
   },
   "source": [
    "## 3.1 Baseline model\n",
    "\n",
    "As a baseline model, let's use a random model with a probability of good/bad review based on the distribution of the train set."
   ]
  },
  {
   "cell_type": "code",
   "execution_count": 0,
   "metadata": {
    "colab": {},
    "colab_type": "code",
    "id": "Ztwy8Cu56PTq"
   },
   "outputs": [],
   "source": [
    "y_pred_baseline = np.random.choice(\n",
    "    [0, 1],\n",
    "    size=len(y_test),\n",
    "    p=[1-y_train.mean(), y_train.mean()])"
   ]
  },
  {
   "cell_type": "markdown",
   "metadata": {
    "colab_type": "text",
    "id": "PaIsN2hS6Rim"
   },
   "source": [
    "We need now to evaluate our baseline model.\n",
    "\n",
    "- **True Positives** (TP): these are the correctly predicted positive values which means that the value of actual class is yes and the value of predicted class is also yes. *E.g. if actual class value indicates that this passenger survived and predicted class tells you the same thing.*\n",
    "\n",
    "- **True Negatives** (TN): these are the correctly predicted negative values which means that the value of actual class is no and value of predicted class is also no. *E.g. if actual class says this passenger did not survive and predicted class tells you the same thing.*\n",
    "\n",
    "*False positives and false negatives, these values occur when your actual class contradicts with the predicted class.*\n",
    "\n",
    "- **False Positives** (FP): when actual class is no and predicted class is yes. *E.g. if actual class says this passenger did not survive but predicted class tells you that this passenger will survive.*\n",
    "\n",
    "- **False Negatives** (FN): when actual class is yes but predicted class in no. *E.g. if actual class value indicates that this passenger survived and predicted class tells you that passenger will die.*"
   ]
  },
  {
   "cell_type": "markdown",
   "metadata": {
    "colab_type": "text",
    "id": "x20PqpFj6UIK"
   },
   "source": [
    "- **Accuracy**: Accuracy is the most intuitive performance measure and it is simply a ratio of correctly predicted observation to the total observations. One may think that, if we have high accuracy then our model is best. Yes, accuracy is a great measure but only when you have symmetric datasets where values of false positive and false negatives are almost same. Therefore, you have to look at other parameters to evaluate the performance of your model.\n",
    "\n",
    "> Accuracy = TP+TN/TP+FP+FN+TN\n",
    "\n",
    "*= 154656 + 68551 / 154656 + 14186 + 9438 +68551 = 0.90*\n",
    "\n",
    "- **Precision**: Precision is the ratio of correctly predicted positive observations to the total predicted positive observations. The question that this metric answer is of all passengers that labeled as survived, how many actually survived? High precision relates to the low false positive rate.\n",
    "\n",
    "> Precision = TP/TP+FP\n",
    "\n",
    "*= 154656 / 154656 + 14186 = 0.92*\n",
    "\n",
    "- **Recall (Sensitivity)**: Recall is the ratio of correctly predicted positive observations to the all observations in actual class - yes. The question recall answers is: Of all the passengers that truly survived, how many did we label?\n",
    "\n",
    "> Recall = TP/TP+FN\n",
    "\n",
    "*= 154656 / 154656 + 9438 = 0.94*\n",
    "\n",
    "- **F1 score**: F1 Score is the weighted average of Precision and Recall. Therefore, this score takes both false positives and false negatives into account. Intuitively it is not as easy to understand as accuracy, but F1 is usually more useful than accuracy, especially if you have an uneven class distribution. Accuracy works best if false positives and false negatives have similar cost. If the cost of false positives and false negatives are very different, it’s better to look at both Precision and Recall.\n",
    "\n",
    "> F1 Score = 2*(Recall * Precision) / (Recall + Precision)\n",
    "\n",
    "*= 2 * (0.94 * 0.92) / (0.94 + 0.92) = 0.93*"
   ]
  },
  {
   "cell_type": "code",
   "execution_count": 0,
   "metadata": {
    "colab": {
     "base_uri": "https://localhost:8080/",
     "height": 51
    },
    "colab_type": "code",
    "executionInfo": {
     "elapsed": 9217,
     "status": "ok",
     "timestamp": 1571387109222,
     "user": {
      "displayName": "Marie Vachelard",
      "photoUrl": "https://lh3.googleusercontent.com/a-/AAuE7mBn-10cnCca1iyV0nxvMecKnK0XyPJ-qq4bBdJ4=s64",
      "userId": "06987863607739470266"
     },
     "user_tz": -120
    },
    "id": "CuObK8aL6ZT2",
    "outputId": "057ef4c8-54a7-441e-944d-f87bd226a997"
   },
   "outputs": [
    {
     "data": {
      "text/plain": [
       "array([[ 631, 1370],\n",
       "       [1299, 2699]])"
      ]
     },
     "execution_count": 20,
     "metadata": {
      "tags": []
     },
     "output_type": "execute_result"
    }
   ],
   "source": [
    "confusion_matrix(y_test, y_pred_baseline, labels=None, sample_weight=None)"
   ]
  },
  {
   "cell_type": "code",
   "execution_count": 0,
   "metadata": {
    "colab": {
     "base_uri": "https://localhost:8080/",
     "height": 187
    },
    "colab_type": "code",
    "executionInfo": {
     "elapsed": 1787,
     "status": "ok",
     "timestamp": 1571387116269,
     "user": {
      "displayName": "Marie Vachelard",
      "photoUrl": "https://lh3.googleusercontent.com/a-/AAuE7mBn-10cnCca1iyV0nxvMecKnK0XyPJ-qq4bBdJ4=s64",
      "userId": "06987863607739470266"
     },
     "user_tz": -120
    },
    "id": "hte1zGa16bei",
    "outputId": "d08d03b2-22eb-49ef-88a1-f91d733f9599"
   },
   "outputs": [
    {
     "name": "stdout",
     "output_type": "stream",
     "text": [
      "accuracy 0.5550925154192365\n",
      "              precision    recall  f1-score   support\n",
      "\n",
      "           0       0.33      0.32      0.32      2001\n",
      "           1       0.66      0.68      0.67      3998\n",
      "\n",
      "    accuracy                           0.56      5999\n",
      "   macro avg       0.50      0.50      0.50      5999\n",
      "weighted avg       0.55      0.56      0.55      5999\n",
      "\n"
     ]
    }
   ],
   "source": [
    "print('accuracy {}'.format(accuracy_score(y_pred_baseline, y_test)))\n",
    "print(classification_report(y_test, y_pred_baseline))"
   ]
  },
  {
   "cell_type": "markdown",
   "metadata": {
    "colab_type": "text",
    "id": "F8sS4caP6b9-"
   },
   "source": [
    "## 3.2 Logistic Regression\n",
    "\n",
    "We can do better than a random model with logistic regression"
   ]
  },
  {
   "cell_type": "markdown",
   "metadata": {
    "colab_type": "text",
    "id": "4sDaRgm46efH"
   },
   "source": [
    "#### Fit model"
   ]
  },
  {
   "cell_type": "code",
   "execution_count": 0,
   "metadata": {
    "colab": {
     "base_uri": "https://localhost:8080/",
     "height": 425
    },
    "colab_type": "code",
    "executionInfo": {
     "elapsed": 3432,
     "status": "ok",
     "timestamp": 1571387123349,
     "user": {
      "displayName": "Marie Vachelard",
      "photoUrl": "https://lh3.googleusercontent.com/a-/AAuE7mBn-10cnCca1iyV0nxvMecKnK0XyPJ-qq4bBdJ4=s64",
      "userId": "06987863607739470266"
     },
     "user_tz": -120
    },
    "id": "5oi7IBc56glf",
    "outputId": "c36555a1-f4d9-483c-e8d3-f8b302e2e76e"
   },
   "outputs": [
    {
     "name": "stderr",
     "output_type": "stream",
     "text": [
      "[Parallel(n_jobs=-1)]: Using backend LokyBackend with 2 concurrent workers.\n",
      "[Parallel(n_jobs=-1)]: Done   1 out of   1 | elapsed:    1.6s finished\n"
     ]
    },
    {
     "data": {
      "text/plain": [
       "Pipeline(memory=None,\n",
       "         steps=[('vectorizer',\n",
       "                 TfidfVectorizer(analyzer='word', binary=False,\n",
       "                                 decode_error='strict',\n",
       "                                 dtype=<class 'numpy.float64'>,\n",
       "                                 encoding='utf-8', input='content',\n",
       "                                 lowercase=True, max_df=1.0, max_features=64,\n",
       "                                 min_df=10, ngram_range=(1, 1), norm='l2',\n",
       "                                 preprocessor=None, smooth_idf=True,\n",
       "                                 stop_words=None, strip_accents=None,\n",
       "                                 sublinear_tf=False,\n",
       "                                 token_pattern='(?u)\\\\b\\\\w\\\\w+\\\\b',\n",
       "                                 tokenizer=None, use_idf=True,\n",
       "                                 vocabulary=None)),\n",
       "                ('model',\n",
       "                 LogisticRegression(C=1.0, class_weight=None, dual=False,\n",
       "                                    fit_intercept=True, intercept_scaling=1,\n",
       "                                    l1_ratio=None, max_iter=100,\n",
       "                                    multi_class='warn', n_jobs=-1, penalty='l2',\n",
       "                                    random_state=None, solver='lbfgs',\n",
       "                                    tol=0.0001, verbose=2, warm_start=False))],\n",
       "         verbose=False)"
      ]
     },
     "execution_count": 22,
     "metadata": {
      "tags": []
     },
     "output_type": "execute_result"
    }
   ],
   "source": [
    "logit = LogisticRegression(solver='lbfgs', verbose=2, n_jobs=-1)\n",
    "\n",
    "pipeline = Pipeline([\n",
    "    ('vectorizer', tfidf_vectorizer),\n",
    "    ('model', logit)])\n",
    "\n",
    "pipeline.fit(x_train, y_train)"
   ]
  },
  {
   "cell_type": "markdown",
   "metadata": {
    "colab_type": "text",
    "id": "pWam65Tj6j8V"
   },
   "source": [
    "#### Predictions"
   ]
  },
  {
   "cell_type": "code",
   "execution_count": 0,
   "metadata": {
    "colab": {},
    "colab_type": "code",
    "id": "WtZD2-Sz6nBR"
   },
   "outputs": [],
   "source": [
    "y_pred = pipeline.predict(x_test)"
   ]
  },
  {
   "cell_type": "code",
   "execution_count": 0,
   "metadata": {
    "colab": {
     "base_uri": "https://localhost:8080/",
     "height": 51
    },
    "colab_type": "code",
    "executionInfo": {
     "elapsed": 4075,
     "status": "ok",
     "timestamp": 1571387137578,
     "user": {
      "displayName": "Marie Vachelard",
      "photoUrl": "https://lh3.googleusercontent.com/a-/AAuE7mBn-10cnCca1iyV0nxvMecKnK0XyPJ-qq4bBdJ4=s64",
      "userId": "06987863607739470266"
     },
     "user_tz": -120
    },
    "id": "6z-nzDm46pSF",
    "outputId": "90625ed1-7f67-4237-b090-7abe26399411"
   },
   "outputs": [
    {
     "data": {
      "text/plain": [
       "array([[1205,  796],\n",
       "       [ 545, 3453]])"
      ]
     },
     "execution_count": 24,
     "metadata": {
      "tags": []
     },
     "output_type": "execute_result"
    }
   ],
   "source": [
    "confusion_matrix(y_test, y_pred, labels=None, sample_weight=None)"
   ]
  },
  {
   "cell_type": "code",
   "execution_count": 0,
   "metadata": {
    "colab": {
     "base_uri": "https://localhost:8080/",
     "height": 187
    },
    "colab_type": "code",
    "executionInfo": {
     "elapsed": 2560,
     "status": "ok",
     "timestamp": 1571387140867,
     "user": {
      "displayName": "Marie Vachelard",
      "photoUrl": "https://lh3.googleusercontent.com/a-/AAuE7mBn-10cnCca1iyV0nxvMecKnK0XyPJ-qq4bBdJ4=s64",
      "userId": "06987863607739470266"
     },
     "user_tz": -120
    },
    "id": "7gZwCJTY6rHk",
    "outputId": "ad57dc76-b2c0-4f32-e67f-c8bd77577ee7"
   },
   "outputs": [
    {
     "name": "stdout",
     "output_type": "stream",
     "text": [
      "accuracy 0.7764627437906317\n",
      "              precision    recall  f1-score   support\n",
      "\n",
      "           0       0.69      0.60      0.64      2001\n",
      "           1       0.81      0.86      0.84      3998\n",
      "\n",
      "    accuracy                           0.78      5999\n",
      "   macro avg       0.75      0.73      0.74      5999\n",
      "weighted avg       0.77      0.78      0.77      5999\n",
      "\n"
     ]
    }
   ],
   "source": [
    "print('accuracy {}'.format(accuracy_score(y_pred, y_test)))\n",
    "print(classification_report(y_test, y_pred))"
   ]
  },
  {
   "cell_type": "markdown",
   "metadata": {
    "colab_type": "text",
    "id": "IT4RiNew6tQe"
   },
   "source": [
    "Fortunately, logistic regression can do better than a random model."
   ]
  },
  {
   "cell_type": "markdown",
   "metadata": {
    "colab_type": "text",
    "id": "c5onek-f6v52"
   },
   "source": [
    "# 4. Neural Network\n",
    "\n",
    "## 4.1. Architecture\n",
    "\n",
    "Now, let's try to design a neural network model for our task.\n",
    "\n",
    "* What would be the input layer size ?\n",
    "* What would be the output layer size ?\n",
    "* What would be the output layer activation function ?"
   ]
  },
  {
   "cell_type": "markdown",
   "metadata": {
    "colab_type": "text",
    "id": "RbBU79JE6zAH"
   },
   "source": [
    "We store the architecture of the neural network in a list of dictionnaries"
   ]
  },
  {
   "cell_type": "code",
   "execution_count": 0,
   "metadata": {
    "colab": {},
    "colab_type": "code",
    "id": "QdDy61Y46zz0"
   },
   "outputs": [],
   "source": [
    "NN_ARCHITECTURE_0 = [\n",
    "    {\"input_dim\": number_of_dimensions, \"output_dim\": 8, \"activation\": \"relu\"},\n",
    "    {\"input_dim\": 8, \"output_dim\": 4, \"activation\": \"relu\"},\n",
    "    {\"input_dim\": 4, \"output_dim\": 1, \"activation\": \"sigmoid\"},\n",
    "]\n",
    "\n",
    "NN_ARCHITECTURE_1 = [\n",
    "    {\"input_dim\": number_of_dimensions, \"output_dim\": 32, \"activation\": \"relu\"},\n",
    "    {\"input_dim\": 32, \"output_dim\": 16, \"activation\": \"relu\"},\n",
    "    {\"input_dim\": 16, \"output_dim\": 8, \"activation\": \"relu\"},\n",
    "    {\"input_dim\": 8, \"output_dim\": 4, \"activation\": \"relu\"},\n",
    "    {\"input_dim\": 4, \"output_dim\": 1, \"activation\": \"sigmoid\"},\n",
    "]"
   ]
  },
  {
   "cell_type": "markdown",
   "metadata": {
    "colab_type": "text",
    "id": "oCikVxpz64mp"
   },
   "source": [
    "## 4.2. Parameters and initialization\n",
    "\n",
    "Each neuron has two parameters: weight (W) and bias (b).\n",
    "\n",
    "Let's initialize those parameters for each neuron and store them in a dictionnary with notation:\n",
    "* Wi is the array of the weights of the neurons of layer i\n",
    "* bi is the array of the biases of the neurons of the layer i"
   ]
  },
  {
   "cell_type": "code",
   "execution_count": 0,
   "metadata": {
    "colab": {
     "base_uri": "https://localhost:8080/",
     "height": 119
    },
    "colab_type": "code",
    "executionInfo": {
     "elapsed": 2943,
     "status": "ok",
     "timestamp": 1571387152376,
     "user": {
      "displayName": "Marie Vachelard",
      "photoUrl": "https://lh3.googleusercontent.com/a-/AAuE7mBn-10cnCca1iyV0nxvMecKnK0XyPJ-qq4bBdJ4=s64",
      "userId": "06987863607739470266"
     },
     "user_tz": -120
    },
    "id": "RVaFsP5-65LN",
    "outputId": "fb877849-ed95-4169-c6b9-ff15cacf18d0"
   },
   "outputs": [
    {
     "name": "stdout",
     "output_type": "stream",
     "text": [
      "W1 (8, 64)\n",
      "b1 (8, 1)\n",
      "W2 (4, 8)\n",
      "b2 (4, 1)\n",
      "W3 (1, 4)\n",
      "b3 (1, 1)\n"
     ]
    }
   ],
   "source": [
    "def init_layers(nn_architecture, seed = 99):\n",
    "    # random seed initiation\n",
    "    np.random.seed(seed)\n",
    "    # number of layers in our neural network\n",
    "    number_of_layers = len(nn_architecture)\n",
    "    # parameters storage initiation\n",
    "    params_values = {}\n",
    "    \n",
    "    # iteration over network layers\n",
    "    for idx, layer in enumerate(nn_architecture):\n",
    "        # we number network layers from 1\n",
    "        layer_idx = idx + 1\n",
    "        \n",
    "        # extracting the number of units in layers\n",
    "        layer_input_size = layer[\"input_dim\"]\n",
    "        layer_output_size = layer[\"output_dim\"]\n",
    "        \n",
    "        # initiating the values of the W matrix\n",
    "        # and vector b for subsequent layers\n",
    "        params_values['W' + str(layer_idx)] = np.random.randn(\n",
    "            layer_output_size, layer_input_size) * 0.1\n",
    "        params_values['b' + str(layer_idx)] = np.random.randn(\n",
    "            layer_output_size, 1) * 0.1\n",
    "        \n",
    "    return params_values\n",
    "\n",
    "params_values = init_layers(NN_ARCHITECTURE_0)\n",
    "\n",
    "for key, value in params_values.items():\n",
    "    print(key, value.shape)"
   ]
  },
  {
   "cell_type": "markdown",
   "metadata": {
    "colab_type": "text",
    "id": "hb61uTDG6-36"
   },
   "source": [
    "## 4.3. Activation functions\n",
    "\n",
    "What does a neuron do ?\n",
    "\n",
    "First it computes a value: Z, the linear combination of its inputs A by its weighted coefficients W and add a bias b. Then it applies an activation function to Z, and generates an output A.\n",
    "\n",
    "$$\\boldsymbol{Z}^{[l]} = \\boldsymbol{W}^{[l]} \\cdot \\boldsymbol{A}^{[l-1]} + \\boldsymbol{b}^{[l]}$$\n",
    "\n",
    "$$\\boldsymbol{A}^{[l]} = g^{[l]}(\\boldsymbol{Z}^{[l]})$$\n",
    "\n",
    "So, imagine a network where input layer has 3 neurons (layer 0), and next layer (layer 1) has 2 neurons.\n",
    "\n",
    "    N00\n",
    "            N10  \n",
    "    N01\n",
    "            N11\n",
    "    N02\n",
    "\n",
    "N10 would compute a value, like this:\n",
    "\n",
    "$$Z^{[10]} = W^{[10-00]} * A^{[00]} + W^{[10-01]} * A^{[01]} + W^{[10-02]} * A^{[02]} + b^{[10]}$$\n",
    "$$A^{[10]} = g^{[l]}(Z^{[10]})$$\n",
    "\n",
    "* What is the role of the activation function ?\n",
    "* Code the activation functions sigmoid and relu"
   ]
  },
  {
   "cell_type": "code",
   "execution_count": 0,
   "metadata": {
    "colab": {},
    "colab_type": "code",
    "id": "hxXqsEPz6_cH"
   },
   "outputs": [],
   "source": [
    "def sigmoid(Z):\n",
    "    return 1/(1+np.exp(-Z))\n",
    "\n",
    "def relu(Z):\n",
    "    return np.maximum(0,Z)"
   ]
  },
  {
   "cell_type": "code",
   "execution_count": 0,
   "metadata": {
    "colab": {
     "base_uri": "https://localhost:8080/",
     "height": 286
    },
    "colab_type": "code",
    "executionInfo": {
     "elapsed": 694,
     "status": "ok",
     "timestamp": 1571387161085,
     "user": {
      "displayName": "Marie Vachelard",
      "photoUrl": "https://lh3.googleusercontent.com/a-/AAuE7mBn-10cnCca1iyV0nxvMecKnK0XyPJ-qq4bBdJ4=s64",
      "userId": "06987863607739470266"
     },
     "user_tz": -120
    },
    "id": "QsnSMwpV7BXj",
    "outputId": "4ec1a591-8072-4966-acd0-9bcf116660a8"
   },
   "outputs": [
    {
     "data": {
      "text/plain": [
       "[<matplotlib.lines.Line2D at 0x7f2d32217b00>]"
      ]
     },
     "execution_count": 29,
     "metadata": {
      "tags": []
     },
     "output_type": "execute_result"
    },
    {
     "data": {
      "image/png": "[encoded data removed]",
      "text/plain": [
       "<Figure size 432x288 with 1 Axes>"
      ]
     },
     "metadata": {
      "tags": []
     },
     "output_type": "display_data"
    }
   ],
   "source": [
    "x = np.arange(-10, 20)\n",
    "plt.plot(x, sigmoid(x))"
   ]
  },
  {
   "cell_type": "code",
   "execution_count": 0,
   "metadata": {
    "colab": {
     "base_uri": "https://localhost:8080/",
     "height": 286
    },
    "colab_type": "code",
    "executionInfo": {
     "elapsed": 1000,
     "status": "ok",
     "timestamp": 1571387165743,
     "user": {
      "displayName": "Marie Vachelard",
      "photoUrl": "https://lh3.googleusercontent.com/a-/AAuE7mBn-10cnCca1iyV0nxvMecKnK0XyPJ-qq4bBdJ4=s64",
      "userId": "06987863607739470266"
     },
     "user_tz": -120
    },
    "id": "vWDxwaif7Eb7",
    "outputId": "b4e8a849-3941-4887-a7d5-fbd5cfdcbf18"
   },
   "outputs": [
    {
     "data": {
      "text/plain": [
       "[<matplotlib.lines.Line2D at 0x7f2d3087b080>]"
      ]
     },
     "execution_count": 30,
     "metadata": {
      "tags": []
     },
     "output_type": "execute_result"
    },
    {
     "data": {
      "image/png": "[encoded data removed]",
      "text/plain": [
       "<Figure size 432x288 with 1 Axes>"
      ]
     },
     "metadata": {
      "tags": []
     },
     "output_type": "display_data"
    }
   ],
   "source": [
    "x = np.arange(-10, 20)\n",
    "plt.plot(x, relu(x))"
   ]
  },
  {
   "cell_type": "markdown",
   "metadata": {
    "colab_type": "text",
    "id": "zddwzgzt7G00"
   },
   "source": [
    "## 4.3. Forward propagation\n",
    "\n",
    "Forward propagation of a neural network is the left to right pass. It is the inference of the neural network model: from the input layer, the output layer is computed by forward propagation the value from one neuron to another.\n",
    "\n",
    "With the stored weights and biases of the neutwork, let's write the forward propagation functions"
   ]
  },
  {
   "cell_type": "code",
   "execution_count": 0,
   "metadata": {
    "colab": {},
    "colab_type": "code",
    "id": "st8uP0mQ7Hf6"
   },
   "outputs": [],
   "source": [
    "def single_layer_forward_propagation(A_prev, W_curr, b_curr, activation=\"relu\"):\n",
    "    # calculation of the input value for the activation function\n",
    "    Z_curr = np.dot(W_curr, A_prev) + b_curr\n",
    "    \n",
    "    # selection of activation function\n",
    "    if activation is \"relu\":\n",
    "        activation_func = relu\n",
    "    elif activation is \"sigmoid\":\n",
    "        activation_func = sigmoid\n",
    "    else:\n",
    "        raise Exception('Non-supported activation function')\n",
    "        \n",
    "    # return of calculated activation A and the intermediate Z matrix\n",
    "    return activation_func(Z_curr), Z_curr"
   ]
  },
  {
   "cell_type": "code",
   "execution_count": 0,
   "metadata": {
    "colab": {},
    "colab_type": "code",
    "id": "h04NdH5e7J9a"
   },
   "outputs": [],
   "source": [
    "def full_forward_propagation(X, params_values, nn_architecture):\n",
    "    # creating a temporary memory to store the information needed for a backward step\n",
    "    memory = {}\n",
    "    # X vector is the activation for layer 0 \n",
    "    A_curr = X\n",
    "    \n",
    "    # iteration over network layers\n",
    "    for idx, layer in enumerate(nn_architecture):\n",
    "        # we number network layers from 1\n",
    "        layer_idx = idx + 1\n",
    "        # transfer the activation from the previous iteration\n",
    "        A_prev = A_curr\n",
    "        \n",
    "        # extraction of the activation function for the current layer\n",
    "        activ_function_curr = layer[\"activation\"]\n",
    "        # extraction of W for the current layer\n",
    "        W_curr = params_values[\"W\" + str(layer_idx)]\n",
    "        # extraction of b for the current layer\n",
    "        b_curr = params_values[\"b\" + str(layer_idx)]\n",
    "        # calculation of activation for the current layer\n",
    "        A_curr, Z_curr = single_layer_forward_propagation(A_prev, W_curr, b_curr, activ_function_curr)\n",
    "        \n",
    "        # saving calculated values in the memory\n",
    "        memory[\"A\" + str(idx)] = A_prev\n",
    "        memory[\"Z\" + str(layer_idx)] = Z_curr\n",
    "       \n",
    "    # return of prediction vector and a dictionary containing intermediate values\n",
    "    return A_curr, memory"
   ]
  },
  {
   "cell_type": "markdown",
   "metadata": {
    "colab_type": "text",
    "id": "lLym6eI07MHU"
   },
   "source": [
    "Let's try with a random observation"
   ]
  },
  {
   "cell_type": "code",
   "execution_count": 0,
   "metadata": {
    "colab": {
     "base_uri": "https://localhost:8080/",
     "height": 34
    },
    "colab_type": "code",
    "executionInfo": {
     "elapsed": 1943,
     "status": "ok",
     "timestamp": 1571387180864,
     "user": {
      "displayName": "Marie Vachelard",
      "photoUrl": "https://lh3.googleusercontent.com/a-/AAuE7mBn-10cnCca1iyV0nxvMecKnK0XyPJ-qq4bBdJ4=s64",
      "userId": "06987863607739470266"
     },
     "user_tz": -120
    },
    "id": "3Aow_EMf7OWB",
    "outputId": "fce40c69-7b06-4f41-e2dd-8404a2cf1400"
   },
   "outputs": [
    {
     "name": "stdout",
     "output_type": "stream",
     "text": [
      "Output value is: [[0.49529866]]\n"
     ]
    }
   ],
   "source": [
    "random_input = np.random.randn(number_of_dimensions, 1)\n",
    "output, _ = full_forward_propagation(random_input, params_values, NN_ARCHITECTURE_0)\n",
    "print(\"Output value is:\", output)"
   ]
  },
  {
   "cell_type": "markdown",
   "metadata": {
    "colab_type": "text",
    "id": "YsXVh9IW7SSs"
   },
   "source": [
    "Let's now try with our train data embedding"
   ]
  },
  {
   "cell_type": "code",
   "execution_count": 0,
   "metadata": {
    "colab": {
     "base_uri": "https://localhost:8080/",
     "height": 34
    },
    "colab_type": "code",
    "executionInfo": {
     "elapsed": 3208,
     "status": "ok",
     "timestamp": 1571387189764,
     "user": {
      "displayName": "Marie Vachelard",
      "photoUrl": "https://lh3.googleusercontent.com/a-/AAuE7mBn-10cnCca1iyV0nxvMecKnK0XyPJ-qq4bBdJ4=s64",
      "userId": "06987863607739470266"
     },
     "user_tz": -120
    },
    "id": "-LnJ75k_7S2V",
    "outputId": "0170b31a-678b-4c90-8a49-81c9a5d7b2c6"
   },
   "outputs": [
    {
     "data": {
      "text/plain": [
       "(23995, 64)"
      ]
     },
     "execution_count": 34,
     "metadata": {
      "tags": []
     },
     "output_type": "execute_result"
    }
   ],
   "source": [
    "x_train_features = tfidf_vectorizer.fit_transform(x_train).toarray()\n",
    "x_train_features.shape"
   ]
  },
  {
   "cell_type": "code",
   "execution_count": 0,
   "metadata": {
    "colab": {
     "base_uri": "https://localhost:8080/",
     "height": 34
    },
    "colab_type": "code",
    "executionInfo": {
     "elapsed": 5144,
     "status": "ok",
     "timestamp": 1571387196538,
     "user": {
      "displayName": "Marie Vachelard",
      "photoUrl": "https://lh3.googleusercontent.com/a-/AAuE7mBn-10cnCca1iyV0nxvMecKnK0XyPJ-qq4bBdJ4=s64",
      "userId": "06987863607739470266"
     },
     "user_tz": -120
    },
    "id": "-dvdilA17U0b",
    "outputId": "613eaf37-4230-41b4-b5b0-87bd2d06ffd0"
   },
   "outputs": [
    {
     "data": {
      "text/plain": [
       "(1, 23995)"
      ]
     },
     "execution_count": 35,
     "metadata": {
      "tags": []
     },
     "output_type": "execute_result"
    }
   ],
   "source": [
    "output, _ = full_forward_propagation(np.transpose(x_train_features), params_values, NN_ARCHITECTURE_0)\n",
    "output.shape"
   ]
  },
  {
   "cell_type": "code",
   "execution_count": 0,
   "metadata": {
    "colab": {
     "base_uri": "https://localhost:8080/",
     "height": 34
    },
    "colab_type": "code",
    "executionInfo": {
     "elapsed": 1197,
     "status": "ok",
     "timestamp": 1571387217259,
     "user": {
      "displayName": "Marie Vachelard",
      "photoUrl": "https://lh3.googleusercontent.com/a-/AAuE7mBn-10cnCca1iyV0nxvMecKnK0XyPJ-qq4bBdJ4=s64",
      "userId": "06987863607739470266"
     },
     "user_tz": -120
    },
    "id": "0D1D6JkW7X-D",
    "outputId": "e208d2a3-2939-4280-c1db-09cb3cde396e"
   },
   "outputs": [
    {
     "data": {
      "text/plain": [
       "(23995,)"
      ]
     },
     "execution_count": 36,
     "metadata": {
      "tags": []
     },
     "output_type": "execute_result"
    }
   ],
   "source": [
    "y_train.shape"
   ]
  },
  {
   "cell_type": "markdown",
   "metadata": {
    "colab_type": "text",
    "id": "Ts3KMcdA7aBT"
   },
   "source": [
    "So, we are able to infer a neural net to our data ! But are we good ?"
   ]
  },
  {
   "cell_type": "code",
   "execution_count": 0,
   "metadata": {
    "colab": {
     "base_uri": "https://localhost:8080/",
     "height": 34
    },
    "colab_type": "code",
    "executionInfo": {
     "elapsed": 1109,
     "status": "ok",
     "timestamp": 1571387220055,
     "user": {
      "displayName": "Marie Vachelard",
      "photoUrl": "https://lh3.googleusercontent.com/a-/AAuE7mBn-10cnCca1iyV0nxvMecKnK0XyPJ-qq4bBdJ4=s64",
      "userId": "06987863607739470266"
     },
     "user_tz": -120
    },
    "id": "muPcrRXk7ca7",
    "outputId": "0eb418bf-10a2-416e-ae33-b159ad8d0373"
   },
   "outputs": [
    {
     "name": "stdout",
     "output_type": "stream",
     "text": [
      "[[0.49113446 0.49245251 0.49245251 ... 0.49245251 0.49245251 0.49245251]]\n"
     ]
    }
   ],
   "source": [
    "print(output[0:10])"
   ]
  },
  {
   "cell_type": "markdown",
   "metadata": {
    "colab_type": "text",
    "id": "DI2JgTdv7c6v"
   },
   "source": [
    "The output is now a proba, we need to convert it to a class."
   ]
  },
  {
   "cell_type": "code",
   "execution_count": 0,
   "metadata": {
    "colab": {},
    "colab_type": "code",
    "id": "PcUtAAFU7e2q"
   },
   "outputs": [],
   "source": [
    "def convert_prob_into_class(probs):\n",
    "    probs_ = np.copy(probs)\n",
    "    probs_[probs_ > 0.5] = 1\n",
    "    probs_[probs_ <= 0.5] = 0\n",
    "    return probs_\n",
    "\n",
    "def get_accuracy_value(Y_hat, Y):\n",
    "    Y_hat_ = convert_prob_into_class(Y_hat)\n",
    "    return (Y_hat_ == Y).all(axis=0).mean()"
   ]
  },
  {
   "cell_type": "code",
   "execution_count": 0,
   "metadata": {
    "colab": {
     "base_uri": "https://localhost:8080/",
     "height": 34
    },
    "colab_type": "code",
    "executionInfo": {
     "elapsed": 1276,
     "status": "ok",
     "timestamp": 1571387229481,
     "user": {
      "displayName": "Marie Vachelard",
      "photoUrl": "https://lh3.googleusercontent.com/a-/AAuE7mBn-10cnCca1iyV0nxvMecKnK0XyPJ-qq4bBdJ4=s64",
      "userId": "06987863607739470266"
     },
     "user_tz": -120
    },
    "id": "hOIDsztH7ibJ",
    "outputId": "beec5427-77c2-4c2e-a81e-fb81ee771c3d"
   },
   "outputs": [
    {
     "name": "stdout",
     "output_type": "stream",
     "text": [
      "[[0. 0. 0. ... 0. 0. 0.]]\n"
     ]
    }
   ],
   "source": [
    "y_pred_first_inference = convert_prob_into_class(output)\n",
    "print(y_pred_first_inference[0:10])"
   ]
  },
  {
   "cell_type": "markdown",
   "metadata": {
    "colab_type": "text",
    "id": "Tl8juFkG7k7u"
   },
   "source": [
    "So how does it look ?"
   ]
  },
  {
   "cell_type": "code",
   "execution_count": 0,
   "metadata": {
    "colab": {
     "base_uri": "https://localhost:8080/",
     "height": 241
    },
    "colab_type": "code",
    "executionInfo": {
     "elapsed": 2130,
     "status": "ok",
     "timestamp": 1571387233245,
     "user": {
      "displayName": "Marie Vachelard",
      "photoUrl": "https://lh3.googleusercontent.com/a-/AAuE7mBn-10cnCca1iyV0nxvMecKnK0XyPJ-qq4bBdJ4=s64",
      "userId": "06987863607739470266"
     },
     "user_tz": -120
    },
    "id": "dVJMUTll7m6k",
    "outputId": "940dc318-7b85-4f5e-e28d-bab212d357b5"
   },
   "outputs": [
    {
     "name": "stdout",
     "output_type": "stream",
     "text": [
      "accuracy 0.3391539904146697\n",
      "              precision    recall  f1-score   support\n",
      "\n",
      "         0.0       1.00      0.34      0.51     23995\n",
      "         1.0       0.00      0.00      0.00         0\n",
      "\n",
      "    accuracy                           0.34     23995\n",
      "   macro avg       0.50      0.17      0.25     23995\n",
      "weighted avg       1.00      0.34      0.51     23995\n",
      "\n"
     ]
    },
    {
     "name": "stderr",
     "output_type": "stream",
     "text": [
      "/usr/local/lib/python3.6/dist-packages/sklearn/metrics/classification.py:1439: UndefinedMetricWarning: Recall and F-score are ill-defined and being set to 0.0 in labels with no true samples.\n",
      "  'recall', 'true', average, warn_for)\n"
     ]
    }
   ],
   "source": [
    "print('accuracy {}'.format(accuracy_score(np.squeeze(y_pred_first_inference), y_train)))\n",
    "print(classification_report(np.squeeze(y_pred_first_inference), y_train))"
   ]
  },
  {
   "cell_type": "markdown",
   "metadata": {
    "colab_type": "text",
    "id": "uKks8-Y-7pTV"
   },
   "source": [
    "BAD !\n",
    "\n",
    "Wait a minute, we forgot to train the neural network !"
   ]
  },
  {
   "cell_type": "markdown",
   "metadata": {
    "colab_type": "text",
    "id": "5U7fY9BU7poz"
   },
   "source": [
    "## 4.4 Measuring progress\n",
    "\n",
    "Evaluating with a classification report is nice for the human to understand the model performances. But in order to train the model, we need a simpler and computational measure off the model fitness.\n",
    "\n",
    "This measure is the **loss**. The loss can be different from the metric that we - as human - use to evaluate the model.\n",
    "\n",
    "We should routinely calculate the value of the loss function. \"Generally speaking, the loss function is designed to show how far we are from the 'ideal' solution.\" It is selected according to the problem we plan to solve. For binary classification, binary crossentropy is common."
   ]
  },
  {
   "cell_type": "code",
   "execution_count": 0,
   "metadata": {
    "colab": {},
    "colab_type": "code",
    "id": "lsB-0QMD7r5-"
   },
   "outputs": [],
   "source": [
    "def get_cost_value(Y_hat, Y):\n",
    "    # number of examples\n",
    "    m = Y_hat.shape[1]\n",
    "    # calculation of the cost according to the formula\n",
    "    cost = -1 / m * (np.dot(Y, np.log(Y_hat).T) + np.dot(1 - Y, np.log(1 - Y_hat).T))\n",
    "    return np.squeeze(cost)"
   ]
  },
  {
   "cell_type": "code",
   "execution_count": 0,
   "metadata": {
    "colab": {
     "base_uri": "https://localhost:8080/",
     "height": 34
    },
    "colab_type": "code",
    "executionInfo": {
     "elapsed": 3969,
     "status": "ok",
     "timestamp": 1571387750657,
     "user": {
      "displayName": "Marie Vachelard",
      "photoUrl": "https://lh3.googleusercontent.com/a-/AAuE7mBn-10cnCca1iyV0nxvMecKnK0XyPJ-qq4bBdJ4=s64",
      "userId": "06987863607739470266"
     },
     "user_tz": -120
    },
    "id": "3Kqm-T0x7vS5",
    "outputId": "5e3e8bfd-e31f-49bd-a0c0-bc731d4e0485"
   },
   "outputs": [
    {
     "data": {
      "text/plain": [
       "array(0.4873606)"
      ]
     },
     "execution_count": 42,
     "metadata": {
      "tags": []
     },
     "output_type": "execute_result"
    }
   ],
   "source": [
    "get_cost_value(np.array([[0.3, 0.1, 0.3]]), np.array([[0.1, 0.1, 0.4]]))"
   ]
  },
  {
   "cell_type": "code",
   "execution_count": 0,
   "metadata": {
    "colab": {
     "base_uri": "https://localhost:8080/",
     "height": 34
    },
    "colab_type": "code",
    "executionInfo": {
     "elapsed": 3362,
     "status": "ok",
     "timestamp": 1571387754653,
     "user": {
      "displayName": "Marie Vachelard",
      "photoUrl": "https://lh3.googleusercontent.com/a-/AAuE7mBn-10cnCca1iyV0nxvMecKnK0XyPJ-qq4bBdJ4=s64",
      "userId": "06987863607739470266"
     },
     "user_tz": -120
    },
    "id": "3gl8U5XY7xC0",
    "outputId": "3405ecae-efb9-4bb7-88ba-3a7fad90097d"
   },
   "outputs": [
    {
     "data": {
      "text/plain": [
       "array(0.69814624)"
      ]
     },
     "execution_count": 43,
     "metadata": {
      "tags": []
     },
     "output_type": "execute_result"
    }
   ],
   "source": [
    "get_cost_value(output, y_train)"
   ]
  },
  {
   "cell_type": "markdown",
   "metadata": {
    "colab_type": "text",
    "id": "ZbrreV7A70cr"
   },
   "source": [
    "## 4.5 Computing gradients with backpropagation\n",
    "\n",
    "Our neural network is dumb, we have been able to compute a loss. Now we need to understand where this loss is coming from, do we have dumber neurons than others ? For that we need to compute the gradient of the loss for each parameter.\n",
    "\n",
    "For that, we start from the loss at the output layer. We compute the derivatives of each neuron in order to update the weights and we go on until we reach the input layer.\n",
    "\n",
    "This process is called backpropagation.\n",
    "\n",
    "In NN, we calculate the gradient of the loss function in respect to parameters, but backpropagation can be used to calculate derivatives of any function. The essence of this algorithm is the recursive use of a chain rule known from differential calculus - calculate a derivative of functions created by assembling other functions, whose derivatives we already know. This process - for one network layer - is described by the following formulas. Looking at the formulas, it becomes obvious why we decided to remember the values of the A and Z matrices for intermediate layers in a forward step.\n",
    "\n",
    "$$\\boldsymbol{dW}^{[l]} = \\frac{\\partial L }{\\partial \\boldsymbol{W}^{[l]}} = \\frac{1}{m} \\boldsymbol{dZ}^{[l]} \\boldsymbol{A}^{[l-1] T}$$\n",
    "\n",
    "$$\\boldsymbol{db}^{[l]} = \\frac{\\partial L }{\\partial \\boldsymbol{b}^{[l]}} = \\frac{1}{m} \\sum_{i = 1}^{m} \\boldsymbol{dZ}^{[l](i)}$$\n",
    "\n",
    "$$\\boldsymbol{dA}^{[l-1]} = \\frac{\\partial L }{\\partial \\boldsymbol{A}^{[l-1]}} = \\boldsymbol{W}^{[l] T} \\boldsymbol{dZ}^{[l]}$$\n",
    "\n",
    "$$\\boldsymbol{dZ}^{[l]} = \\boldsymbol{dA}^{[l]} * g'(\\boldsymbol{Z}^{[l]})$$\n",
    "\n",
    "\n",
    "So first, we need to compute the derivatives of the activation functions"
   ]
  },
  {
   "cell_type": "code",
   "execution_count": 0,
   "metadata": {
    "colab": {},
    "colab_type": "code",
    "id": "GbWxvcfq71Do"
   },
   "outputs": [],
   "source": [
    "def sigmoid_backward(dA, Z):\n",
    "    sig = sigmoid(Z)\n",
    "    return dA * sig * (1 - sig)\n",
    "\n",
    "def relu_backward(dA, Z):\n",
    "    dZ = np.array(dA, copy = True)\n",
    "    dZ[Z <= 0] = 0;\n",
    "    return dZ"
   ]
  },
  {
   "cell_type": "markdown",
   "metadata": {
    "colab_type": "text",
    "id": "itocFH7i73Tq"
   },
   "source": [
    "Let's backpropagate now"
   ]
  },
  {
   "cell_type": "code",
   "execution_count": 0,
   "metadata": {
    "colab": {},
    "colab_type": "code",
    "id": "EiPkz34875Fq"
   },
   "outputs": [],
   "source": [
    "def single_layer_backward_propagation(dA_curr, W_curr, b_curr, Z_curr, A_prev, activation=\"relu\"):\n",
    "    # number of examples\n",
    "    m = A_prev.shape[1]\n",
    "    \n",
    "    # selection of activation function\n",
    "    if activation is \"relu\":\n",
    "        backward_activation_func = relu_backward\n",
    "    elif activation is \"sigmoid\":\n",
    "        backward_activation_func = sigmoid_backward\n",
    "    else:\n",
    "        raise Exception('Non-supported activation function')\n",
    "    \n",
    "    # calculation of the activation function derivative\n",
    "    dZ_curr = backward_activation_func(dA_curr, Z_curr)\n",
    "    \n",
    "    # derivative of the matrix W\n",
    "    dW_curr = np.dot(dZ_curr, A_prev.T) / m\n",
    "    # derivative of the vector b\n",
    "    db_curr = np.sum(dZ_curr, axis=1, keepdims=True) / m\n",
    "    # derivative of the matrix A_prev\n",
    "    dA_prev = np.dot(W_curr.T, dZ_curr)\n",
    "\n",
    "    return dA_prev, dW_curr, db_curr"
   ]
  },
  {
   "cell_type": "code",
   "execution_count": 0,
   "metadata": {
    "colab": {},
    "colab_type": "code",
    "id": "MTLsop0977l_"
   },
   "outputs": [],
   "source": [
    "def full_backward_propagation(Y_hat, Y, memory, params_values, nn_architecture):\n",
    "    grads_values = {}\n",
    "    \n",
    "    # number of examples\n",
    "    m = Y.shape[1]\n",
    "    # a hack ensuring the same shape of the prediction vector and labels vector\n",
    "    Y = Y.reshape(Y_hat.shape)\n",
    "    \n",
    "    # initiation of gradient descent algorithm\n",
    "    dA_prev = - (np.divide(Y, Y_hat) - np.divide(1 - Y, 1 - Y_hat));\n",
    "    \n",
    "    for layer_idx_prev, layer in reversed(list(enumerate(nn_architecture))):\n",
    "        # we number network layers from 1\n",
    "        layer_idx_curr = layer_idx_prev + 1\n",
    "        # extraction of the activation function for the current layer\n",
    "        activ_function_curr = layer[\"activation\"]\n",
    "        \n",
    "        dA_curr = dA_prev\n",
    "        \n",
    "        A_prev = memory[\"A\" + str(layer_idx_prev)]\n",
    "        Z_curr = memory[\"Z\" + str(layer_idx_curr)]\n",
    "        \n",
    "        W_curr = params_values[\"W\" + str(layer_idx_curr)]\n",
    "        b_curr = params_values[\"b\" + str(layer_idx_curr)]\n",
    "        \n",
    "        dA_prev, dW_curr, db_curr = single_layer_backward_propagation(\n",
    "            dA_curr, W_curr, b_curr, Z_curr, A_prev, activ_function_curr)\n",
    "        \n",
    "        grads_values[\"dW\" + str(layer_idx_curr)] = dW_curr\n",
    "        grads_values[\"db\" + str(layer_idx_curr)] = db_curr\n",
    "    \n",
    "    return grads_values"
   ]
  },
  {
   "cell_type": "markdown",
   "metadata": {
    "colab_type": "text",
    "id": "yS-OfG3a7-_l"
   },
   "source": [
    "## 4.6 Updating parameters - Teaching\n",
    "\n",
    "Now that we know the gradient of the loss according to all neurons, we can teach the model, by updating the weights according to their gradients and a given learning rate.\n",
    "\n",
    "This update parameter is simply done here with gradient descent. More complex optimizers exist."
   ]
  },
  {
   "cell_type": "code",
   "execution_count": 0,
   "metadata": {
    "colab": {},
    "colab_type": "code",
    "id": "qRXYTVB28BSB"
   },
   "outputs": [],
   "source": [
    "def update(params_values, grads_values, nn_architecture, learning_rate):\n",
    "\n",
    "    # iteration over network layers\n",
    "    for layer_idx, layer in enumerate(nn_architecture, 1):\n",
    "        params_values[\"W\" + str(layer_idx)] -= learning_rate * grads_values[\"dW\" + str(layer_idx)]        \n",
    "        params_values[\"b\" + str(layer_idx)] -= learning_rate * grads_values[\"db\" + str(layer_idx)]\n",
    "\n",
    "    return params_values;"
   ]
  },
  {
   "cell_type": "markdown",
   "metadata": {
    "colab_type": "text",
    "id": "im_4MsKQ8Dj1"
   },
   "source": [
    "## 4.7 Assembling bricks - Training"
   ]
  },
  {
   "cell_type": "code",
   "execution_count": 0,
   "metadata": {
    "colab": {},
    "colab_type": "code",
    "id": "_7Ib6amO8GG2"
   },
   "outputs": [],
   "source": [
    "def train(X, Y, nn_architecture, epochs=1000, learning_rate=0.1, verbose=False, callback=None):\n",
    "    # initiation of neural net parameters\n",
    "    params_values = init_layers(nn_architecture, 2)\n",
    "    # initiation of lists storing the history \n",
    "    # of metrics calculated during the learning process \n",
    "    cost_history = []\n",
    "    accuracy_history = []\n",
    "    \n",
    "    # performing calculations for subsequent iterations\n",
    "    for i in range(epochs):\n",
    "        # step forward\n",
    "        Y_hat, cashe = full_forward_propagation(X, params_values, nn_architecture)\n",
    "        \n",
    "        # calculating metrics and saving them in history\n",
    "        cost = get_cost_value(Y_hat, Y)\n",
    "        cost_history.append(cost)\n",
    "        accuracy = get_accuracy_value(Y_hat, Y)\n",
    "        accuracy_history.append(accuracy)\n",
    "        \n",
    "        # step backward - calculating gradient\n",
    "        grads_values = full_backward_propagation(Y_hat, Y, cashe, params_values, nn_architecture)\n",
    "        # updating model state\n",
    "        params_values = update(params_values, grads_values, nn_architecture, learning_rate)\n",
    "        \n",
    "        if(i % 200 == 0):\n",
    "            if(verbose):\n",
    "                print(\"Iteration: {:05} - cost: {:.5f} - accuracy: {:.5f}\".format(i, cost, accuracy))\n",
    "            if(callback is not None):\n",
    "                callback(i, params_values)\n",
    "            \n",
    "    return params_values"
   ]
  },
  {
   "cell_type": "markdown",
   "metadata": {
    "colab_type": "text",
    "id": "uOGPzdAo8LtR"
   },
   "source": [
    "## 4.8 Let's try"
   ]
  },
  {
   "cell_type": "markdown",
   "metadata": {
    "colab_type": "text",
    "id": "j7fmDcHV8X1D"
   },
   "source": [
    "####  Archi 1"
   ]
  },
  {
   "cell_type": "code",
   "execution_count": 0,
   "metadata": {
    "colab": {
     "base_uri": "https://localhost:8080/",
     "height": 867
    },
    "colab_type": "code",
    "executionInfo": {
     "elapsed": 226903,
     "status": "ok",
     "timestamp": 1571388052370,
     "user": {
      "displayName": "Marie Vachelard",
      "photoUrl": "https://lh3.googleusercontent.com/a-/AAuE7mBn-10cnCca1iyV0nxvMecKnK0XyPJ-qq4bBdJ4=s64",
      "userId": "06987863607739470266"
     },
     "user_tz": -120
    },
    "id": "gsH9TwYa8M1O",
    "outputId": "eb0afbb8-8c46-4d0c-82c8-0ab4e3515b79"
   },
   "outputs": [
    {
     "name": "stdout",
     "output_type": "stream",
     "text": [
      "Iteration: 00000 - cost: 0.69120 - accuracy: 0.66089\n",
      "Iteration: 00200 - cost: 0.64040 - accuracy: 0.66085\n",
      "Iteration: 00400 - cost: 0.64035 - accuracy: 0.66085\n",
      "Iteration: 00600 - cost: 0.64028 - accuracy: 0.66085\n",
      "Iteration: 00800 - cost: 0.64016 - accuracy: 0.66085\n",
      "Iteration: 01000 - cost: 0.63994 - accuracy: 0.66085\n",
      "Iteration: 01200 - cost: 0.63950 - accuracy: 0.66085\n",
      "Iteration: 01400 - cost: 0.63850 - accuracy: 0.66085\n",
      "Iteration: 01600 - cost: 0.63565 - accuracy: 0.66085\n",
      "Iteration: 01800 - cost: 0.62524 - accuracy: 0.66085\n",
      "Iteration: 02000 - cost: 0.58357 - accuracy: 0.67122\n",
      "Iteration: 02200 - cost: 0.51381 - accuracy: 0.76037\n",
      "Iteration: 02400 - cost: 0.48476 - accuracy: 0.76829\n",
      "Iteration: 02600 - cost: 0.47759 - accuracy: 0.77224\n",
      "Iteration: 02800 - cost: 0.47555 - accuracy: 0.77312\n",
      "Iteration: 03000 - cost: 0.47480 - accuracy: 0.77308\n",
      "Iteration: 03200 - cost: 0.47447 - accuracy: 0.77362\n",
      "Iteration: 03400 - cost: 0.47429 - accuracy: 0.77337\n",
      "Iteration: 03600 - cost: 0.47420 - accuracy: 0.77337\n",
      "Iteration: 03800 - cost: 0.47413 - accuracy: 0.77358\n",
      "Iteration: 04000 - cost: 0.47406 - accuracy: 0.77312\n",
      "Iteration: 04200 - cost: 0.47399 - accuracy: 0.77320\n",
      "Iteration: 04400 - cost: 0.47389 - accuracy: 0.77324\n",
      "Iteration: 04600 - cost: 0.47379 - accuracy: 0.77358\n",
      "Iteration: 04800 - cost: 0.47370 - accuracy: 0.77349\n",
      "Iteration: 05000 - cost: 0.47361 - accuracy: 0.77374\n",
      "Iteration: 05200 - cost: 0.47354 - accuracy: 0.77391\n",
      "Iteration: 05400 - cost: 0.47346 - accuracy: 0.77379\n",
      "Iteration: 05600 - cost: 0.47338 - accuracy: 0.77349\n",
      "Iteration: 05800 - cost: 0.47330 - accuracy: 0.77349\n",
      "Iteration: 06000 - cost: 0.47321 - accuracy: 0.77362\n",
      "Iteration: 06200 - cost: 0.47311 - accuracy: 0.77366\n",
      "Iteration: 06400 - cost: 0.47300 - accuracy: 0.77366\n",
      "Iteration: 06600 - cost: 0.47284 - accuracy: 0.77399\n",
      "Iteration: 06800 - cost: 0.47261 - accuracy: 0.77441\n",
      "Iteration: 07000 - cost: 0.47236 - accuracy: 0.77454\n",
      "Iteration: 07200 - cost: 0.47210 - accuracy: 0.77404\n",
      "Iteration: 07400 - cost: 0.47187 - accuracy: 0.77412\n",
      "Iteration: 07600 - cost: 0.47162 - accuracy: 0.77391\n",
      "Iteration: 07800 - cost: 0.47134 - accuracy: 0.77420\n",
      "Iteration: 08000 - cost: 0.47095 - accuracy: 0.77454\n",
      "Iteration: 08200 - cost: 0.47061 - accuracy: 0.77462\n",
      "Iteration: 08400 - cost: 0.47031 - accuracy: 0.77491\n",
      "Iteration: 08600 - cost: 0.47000 - accuracy: 0.77487\n",
      "Iteration: 08800 - cost: 0.46967 - accuracy: 0.77491\n",
      "Iteration: 09000 - cost: 0.46932 - accuracy: 0.77466\n",
      "Iteration: 09200 - cost: 0.46897 - accuracy: 0.77458\n",
      "Iteration: 09400 - cost: 0.46865 - accuracy: 0.77474\n",
      "Iteration: 09600 - cost: 0.46835 - accuracy: 0.77466\n",
      "Iteration: 09800 - cost: 0.46806 - accuracy: 0.77420\n"
     ]
    }
   ],
   "source": [
    "# Training\n",
    "\n",
    "x_train_features = tfidf_vectorizer.fit_transform(x_train).toarray()\n",
    "\n",
    "y_train_array = np.array(y_train)\n",
    "\n",
    "params_values = train(np.transpose(x_train_features),\n",
    "                      np.transpose(y_train_array.reshape((y_train_array.shape[0], 1))),\n",
    "                      NN_ARCHITECTURE_0, epochs=10000, learning_rate=0.1,\n",
    "                      verbose=True\n",
    "                     )"
   ]
  },
  {
   "cell_type": "code",
   "execution_count": 0,
   "metadata": {
    "colab": {
     "base_uri": "https://localhost:8080/",
     "height": 187
    },
    "colab_type": "code",
    "executionInfo": {
     "elapsed": 1623,
     "status": "ok",
     "timestamp": 1571388779197,
     "user": {
      "displayName": "Marie Vachelard",
      "photoUrl": "https://lh3.googleusercontent.com/a-/AAuE7mBn-10cnCca1iyV0nxvMecKnK0XyPJ-qq4bBdJ4=s64",
      "userId": "06987863607739470266"
     },
     "user_tz": -120
    },
    "id": "beaItph48Vfp",
    "outputId": "65816cb5-a3a7-4f92-fea3-2cc98c3f647e"
   },
   "outputs": [
    {
     "name": "stdout",
     "output_type": "stream",
     "text": [
      "accuracy 0.7132855475912652\n",
      "              precision    recall  f1-score   support\n",
      "\n",
      "         0.0       0.53      0.58      0.55      1837\n",
      "         1.0       0.81      0.77      0.79      4162\n",
      "\n",
      "    accuracy                           0.71      5999\n",
      "   macro avg       0.67      0.68      0.67      5999\n",
      "weighted avg       0.72      0.71      0.72      5999\n",
      "\n"
     ]
    }
   ],
   "source": [
    "x_test_features = tfidf_vectorizer.fit_transform(x_test).toarray()\n",
    "\n",
    "y_test_array = np.array(y_test)\n",
    "\n",
    "output, _ = full_forward_propagation(np.transpose(x_test_features),\n",
    "                                     params_values,\n",
    "                                     NN_ARCHITECTURE_0)\n",
    "y_pred_architecture_0 = convert_prob_into_class(output)\n",
    "\n",
    "print('accuracy {}'.format(accuracy_score(np.squeeze(y_pred_architecture_0), y_test)))\n",
    "print(classification_report(np.squeeze(y_pred_architecture_0), y_test))"
   ]
  },
  {
   "cell_type": "markdown",
   "metadata": {
    "colab_type": "text",
    "id": "N7lF4GFo8ZYO"
   },
   "source": [
    "####  Archi 2"
   ]
  },
  {
   "cell_type": "code",
   "execution_count": 0,
   "metadata": {
    "colab": {
     "base_uri": "https://localhost:8080/",
     "height": 867
    },
    "colab_type": "code",
    "executionInfo": {
     "elapsed": 624118,
     "status": "ok",
     "timestamp": 1571389406493,
     "user": {
      "displayName": "Marie Vachelard",
      "photoUrl": "https://lh3.googleusercontent.com/a-/AAuE7mBn-10cnCca1iyV0nxvMecKnK0XyPJ-qq4bBdJ4=s64",
      "userId": "06987863607739470266"
     },
     "user_tz": -120
    },
    "id": "WLEj5-ML8Z7v",
    "outputId": "e5f73fdf-ffc4-48ff-83e5-7d04e632d354"
   },
   "outputs": [
    {
     "name": "stdout",
     "output_type": "stream",
     "text": [
      "Iteration: 00000 - cost: 0.70041 - accuracy: 0.33915\n",
      "Iteration: 00200 - cost: 0.64046 - accuracy: 0.66085\n",
      "Iteration: 00400 - cost: 0.64045 - accuracy: 0.66085\n",
      "Iteration: 00600 - cost: 0.64044 - accuracy: 0.66085\n",
      "Iteration: 00800 - cost: 0.64043 - accuracy: 0.66085\n",
      "Iteration: 01000 - cost: 0.64042 - accuracy: 0.66085\n",
      "Iteration: 01200 - cost: 0.64041 - accuracy: 0.66085\n",
      "Iteration: 01400 - cost: 0.64039 - accuracy: 0.66085\n",
      "Iteration: 01600 - cost: 0.64037 - accuracy: 0.66085\n",
      "Iteration: 01800 - cost: 0.64034 - accuracy: 0.66085\n",
      "Iteration: 02000 - cost: 0.64030 - accuracy: 0.66085\n",
      "Iteration: 02200 - cost: 0.64024 - accuracy: 0.66085\n",
      "Iteration: 02400 - cost: 0.64017 - accuracy: 0.66085\n",
      "Iteration: 02600 - cost: 0.64005 - accuracy: 0.66085\n",
      "Iteration: 02800 - cost: 0.63988 - accuracy: 0.66085\n",
      "Iteration: 03000 - cost: 0.63959 - accuracy: 0.66085\n",
      "Iteration: 03200 - cost: 0.63903 - accuracy: 0.66085\n",
      "Iteration: 03400 - cost: 0.63770 - accuracy: 0.66085\n",
      "Iteration: 03600 - cost: 0.63298 - accuracy: 0.66085\n",
      "Iteration: 03800 - cost: 0.59283 - accuracy: 0.66085\n",
      "Iteration: 04000 - cost: 0.49594 - accuracy: 0.76558\n",
      "Iteration: 04200 - cost: 0.47949 - accuracy: 0.77041\n",
      "Iteration: 04400 - cost: 0.47591 - accuracy: 0.77216\n",
      "Iteration: 04600 - cost: 0.47456 - accuracy: 0.77362\n",
      "Iteration: 04800 - cost: 0.47371 - accuracy: 0.77412\n",
      "Iteration: 05000 - cost: 0.47312 - accuracy: 0.77383\n",
      "Iteration: 05200 - cost: 0.47265 - accuracy: 0.77412\n",
      "Iteration: 05400 - cost: 0.47226 - accuracy: 0.77466\n",
      "Iteration: 05600 - cost: 0.47191 - accuracy: 0.77429\n",
      "Iteration: 05800 - cost: 0.47156 - accuracy: 0.77420\n",
      "Iteration: 06000 - cost: 0.47116 - accuracy: 0.77429\n",
      "Iteration: 06200 - cost: 0.47072 - accuracy: 0.77458\n",
      "Iteration: 06400 - cost: 0.47017 - accuracy: 0.77466\n",
      "Iteration: 06600 - cost: 0.46957 - accuracy: 0.77470\n",
      "Iteration: 06800 - cost: 0.46941 - accuracy: 0.77408\n",
      "Iteration: 07000 - cost: 0.46941 - accuracy: 0.77374\n",
      "Iteration: 07200 - cost: 0.46845 - accuracy: 0.77387\n",
      "Iteration: 07400 - cost: 0.46746 - accuracy: 0.77387\n",
      "Iteration: 07600 - cost: 0.46763 - accuracy: 0.77404\n",
      "Iteration: 07800 - cost: 0.46725 - accuracy: 0.77479\n",
      "Iteration: 08000 - cost: 0.46434 - accuracy: 0.77487\n",
      "Iteration: 08200 - cost: 0.46505 - accuracy: 0.77654\n",
      "Iteration: 08400 - cost: 0.46427 - accuracy: 0.77612\n",
      "Iteration: 08600 - cost: 0.46173 - accuracy: 0.77775\n",
      "Iteration: 08800 - cost: 0.46170 - accuracy: 0.77762\n",
      "Iteration: 09000 - cost: 0.46060 - accuracy: 0.77825\n",
      "Iteration: 09200 - cost: 0.45829 - accuracy: 0.77966\n",
      "Iteration: 09400 - cost: 0.45916 - accuracy: 0.77895\n",
      "Iteration: 09600 - cost: 0.45772 - accuracy: 0.77995\n",
      "Iteration: 09800 - cost: 0.45747 - accuracy: 0.78025\n"
     ]
    }
   ],
   "source": [
    "# Training\n",
    "\n",
    "x_train_features = tfidf_vectorizer.fit_transform(x_train).toarray()\n",
    "\n",
    "y_train_array = np.array(y_train)\n",
    "\n",
    "params_values_1 = train(np.transpose(x_train_features),\n",
    "                      np.transpose(y_train_array.reshape((y_train_array.shape[0], 1))),\n",
    "                      NN_ARCHITECTURE_1, epochs=10000, learning_rate=0.1,\n",
    "                      verbose=True\n",
    "                     )"
   ]
  },
  {
   "cell_type": "code",
   "execution_count": 0,
   "metadata": {
    "colab": {
     "base_uri": "https://localhost:8080/",
     "height": 187
    },
    "colab_type": "code",
    "executionInfo": {
     "elapsed": 806,
     "status": "ok",
     "timestamp": 1571391159059,
     "user": {
      "displayName": "Marie Vachelard",
      "photoUrl": "https://lh3.googleusercontent.com/a-/AAuE7mBn-10cnCca1iyV0nxvMecKnK0XyPJ-qq4bBdJ4=s64",
      "userId": "06987863607739470266"
     },
     "user_tz": -120
    },
    "id": "V_kxbswt8b4y",
    "outputId": "61b01158-40ef-4cb4-da4b-3a0a412d2f6a"
   },
   "outputs": [
    {
     "name": "stdout",
     "output_type": "stream",
     "text": [
      "accuracy 0.7202867144524088\n",
      "              precision    recall  f1-score   support\n",
      "\n",
      "         0.0       0.42      0.62      0.50      1341\n",
      "         1.0       0.87      0.75      0.81      4658\n",
      "\n",
      "    accuracy                           0.72      5999\n",
      "   macro avg       0.64      0.68      0.65      5999\n",
      "weighted avg       0.77      0.72      0.74      5999\n",
      "\n"
     ]
    }
   ],
   "source": [
    "x_test_features = tfidf_vectorizer.fit_transform(x_test).toarray()\n",
    "\n",
    "y_test_array = np.array(y_test)\n",
    "\n",
    "output, _ = full_forward_propagation(np.transpose(x_test_features),\n",
    "                                     params_values_1,\n",
    "                                     NN_ARCHITECTURE_1)\n",
    "y_pred_architecture_1 = convert_prob_into_class(output)\n",
    "\n",
    "print('accuracy {}'.format(accuracy_score(np.squeeze(y_pred_architecture_1), y_test)))\n",
    "print(classification_report(np.squeeze(y_pred_architecture_1), y_test))"
   ]
  }
 ],
 "metadata": {
  "colab": {
   "collapsed_sections": [],
   "name": "Deep Learning session 1 - correction.ipynb",
   "provenance": [
    {
     "file_id": "15ZVpnFVFCtCC0VOFtyLowuQxMZsjnuLH",
     "timestamp": 1575532890553
    }
   ]
  },
  "kernelspec": {
   "display_name": "Python 3",
   "language": "python",
   "name": "python3"
  },
  "language_info": {
   "codemirror_mode": {
    "name": "ipython",
    "version": 3
   },
   "file_extension": ".py",
   "mimetype": "text/x-python",
   "name": "python",
   "nbconvert_exporter": "python",
   "pygments_lexer": "ipython3",
   "version": "3.7.3"
  }
 },
 "nbformat": 4,
 "nbformat_minor": 1
}
