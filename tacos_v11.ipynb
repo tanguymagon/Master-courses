{
 "cells": [
  {
   "cell_type": "markdown",
   "metadata": {},
   "source": [
    "# **Predicting Tacos Notes**\n",
    "\n",
    "***\n",
    "The goal of this project is to analyze food data. We will use a dataset about burritos. It comes with feature characteristics about the customers, composition of the burrito, locations *etc.*. The dataset is available on GoogleSheets and can be downloaded there at a csv format before uploading it on DataBricks:\n",
    "https://docs.google.com/spreadsheets/d/18HkrklYz1bKpDLeL-kaMrGjAhUM6LeJMIACwEljCgaw/edit#gid=1703829449\n",
    "\n",
    "\n",
    "First of all the aim will be to predict the note given by users to burritos they ate. It involves building a model to do so given explanatory variables originally implemented in the dataset but also with new ones created while doing data preparation. Besides, we want to do this project along with a big data framework. Hence, treatments will be done using Spark coding language.\n",
    "\n",
    "In a second part the aim will be to predict a convenient burrito composition given user information. Such techniques could be used to customize commercials sent to customers by email ads or on online food delivering platforms. \n",
    "***"
   ]
  },
  {
   "cell_type": "markdown",
   "metadata": {},
   "source": [
    "## Packages"
   ]
  },
  {
   "cell_type": "code",
   "execution_count": 3,
   "metadata": {},
   "outputs": [
    {
     "data": {
      "text/html": [
       "<style scoped>\n",
       "  .ansiout {\n",
       "    display: block;\n",
       "    unicode-bidi: embed;\n",
       "    white-space: pre-wrap;\n",
       "    word-wrap: break-word;\n",
       "    word-break: break-all;\n",
       "    font-family: \"Source Code Pro\", \"Menlo\", monospace;;\n",
       "    font-size: 13px;\n",
       "    color: #555;\n",
       "    margin-left: 4px;\n",
       "    line-height: 19px;\n",
       "  }\n",
       "</style>\n",
       "<div class=\"ansiout\"></div>"
      ]
     },
     "metadata": {},
     "output_type": "display_data"
    }
   ],
   "source": [
    "#pyspark.sql functions: when, count, col etc.\n",
    "from pyspark.sql import functions as fn\n",
    "from pyspark.sql import Window\n",
    "\n",
    "#ml lib tools:\n",
    "from pyspark.ml.feature import StringIndexer, OneHotEncoder, Tokenizer, StopWordsRemover\n",
    "from pyspark.ml.feature import VectorAssembler\n",
    "from pyspark.ml.feature import StandardScaler\n",
    "from pyspark.ml.feature import ChiSqSelector\n",
    "from pyspark.ml.classification import LogisticRegression, DecisionTreeClassifier\n",
    "from pyspark.ml.regression import LinearRegression\n",
    "\n",
    "from pyspark.ml.evaluation import BinaryClassificationEvaluator, MulticlassClassificationEvaluator\n",
    "from pyspark.mllib.evaluation import MulticlassMetrics, BinaryClassificationMetrics\n",
    "from pyspark.mllib.tree import DecisionTree, DecisionTreeModel\n",
    "from pyspark.ml.tuning import ParamGridBuilder, CrossValidator\n",
    "from pyspark.ml.stat import Correlation\n",
    "from pyspark.mllib.stat import Statistics\n",
    "from pyspark.ml.classification import RandomForestClassifier\n",
    "from pyspark.ml.classification import GBTClassifier\n",
    "\n",
    "from pyspark.ml import Pipeline\n",
    "from pyspark.ml.feature import VectorIndexer, IndexToString\n",
    "\n",
    "#Array, mathematics operations:\n",
    "import numpy as np\n",
    "import matplotlib.pyplot as plt\n",
    "\n",
    "#Dataframes:\n",
    "import pandas as pd\n",
    "\n",
    "#Sentiment analysis:\n",
    "!pip install vaderSentiment\n",
    "from vaderSentiment.vaderSentiment import SentimentIntensityAnalyzer"
   ]
  },
  {
   "cell_type": "markdown",
   "metadata": {},
   "source": [
    "## 1 Data Import"
   ]
  },
  {
   "cell_type": "code",
   "execution_count": 5,
   "metadata": {},
   "outputs": [
    {
     "data": {
      "text/html": [
       "<style scoped>\n",
       "  .ansiout {\n",
       "    display: block;\n",
       "    unicode-bidi: embed;\n",
       "    white-space: pre-wrap;\n",
       "    word-wrap: break-word;\n",
       "    word-break: break-all;\n",
       "    font-family: \"Source Code Pro\", \"Menlo\", monospace;;\n",
       "    font-size: 13px;\n",
       "    color: #555;\n",
       "    margin-left: 4px;\n",
       "    line-height: 19px;\n",
       "  }\n",
       "</style>\n",
       "<div class=\"ansiout\"></div>"
      ]
     },
     "metadata": {},
     "output_type": "display_data"
    }
   ],
   "source": [
    "#file path\n",
    "df_path = '/FileStore/tables/Burrito___10D-6a08a.csv'\n",
    "\n",
    "#Loading the Burrito csv file\n",
    "df = spark.read.format('csv').options(header='true', inferSchema='true').load(df_path)"
   ]
  },
  {
   "cell_type": "markdown",
   "metadata": {},
   "source": [
    "Let's have a look at the whole database:"
   ]
  },
  {
   "cell_type": "code",
   "execution_count": 7,
   "metadata": {
    "collapsed": true,
    "jupyter": {
     "outputs_hidden": true
    }
   },
   "outputs": [
    {
     "data": {
      "text/html": [
       "<style scoped>\n",
       "  .table-result-container {\n",
       "    max-height: 300px;\n",
       "    overflow: auto;\n",
       "  }\n",
       "  table, th, td {\n",
       "    border: 1px solid black;\n",
       "    border-collapse: collapse;\n",
       "  }\n",
       "  th, td {\n",
       "    padding: 5px;\n",
       "  }\n",
       "  th {\n",
       "    text-align: left;\n",
       "  }\n",
       "</style><div class='table-result-container'><table class='table-result'><thead style='background-color: white'><tr><th>Location</th><th>Burrito</th><th>Date</th><th>Neighborhood</th><th>Address</th><th>URL</th><th>Yelp</th><th>Google</th><th>Chips</th><th>Cost</th><th>Hunger</th><th>Mass (g)</th><th>Density (g/mL)</th><th>Length</th><th>Circum</th><th>Volume</th><th>Tortilla</th><th>Temp</th><th>Meat</th><th>Fillings</th><th>Meat:filling</th><th>Uniformity</th><th>Salsa22</th><th>Synergy</th><th>Wrap</th><th>overall</th><th>Rec</th><th>Reviewer</th><th>Notes</th><th>Unreliable</th><th>NonSD</th><th>Beef</th><th>Pico</th><th>Guac</th><th>Cheese</th><th>Fries</th><th>Sour cream</th><th>Pork</th><th>Chicken</th><th>Shrimp</th><th>Fish</th><th>Rice</th><th>Beans</th><th>Lettuce</th><th>Tomato</th><th>Bell peper</th><th>Carrots</th><th>Cabbage</th><th>Sauce</th><th>Salsa49</th><th>Cilantro</th><th>Onion</th><th>Taquito</th><th>Pineapple</th><th>Ham</th><th>Chile relleno</th><th>Nopales</th><th>Lobster</th><th>Queso</th><th>Egg</th><th>Mushroom</th><th>Bacon</th><th>Sushi</th><th>Avocado</th><th>Corn</th><th>Zucchini</th></tr></thead><tbody><tr><td>Donato's taco shop</td><td>California </td><td>1/18/2016</td><td>Miramar</td><td>6780 Miramar Rd</td><td>http://donatostacoshop.net/</td><td>3.5</td><td>4.2</td><td>null</td><td>6.49</td><td>3.0</td><td>null</td><td>null</td><td>null</td><td>null</td><td>null</td><td>3.0</td><td>5.0</td><td>3.0</td><td>3.5</td><td>4.0</td><td>4.0</td><td>4.0</td><td>4.0</td><td>4.0</td><td>3.8</td><td>null</td><td>Scott</td><td>good fries: 4/5</td><td>null</td><td>null</td><td>x</td><td>x</td><td>x</td><td>x</td><td>x</td><td>null</td><td>null</td><td>null</td><td>null</td><td>null</td><td>null</td><td>null</td><td>null</td><td>null</td><td>null</td><td>null</td><td>null</td><td>null</td><td>null</td><td>null</td><td>null</td><td>null</td><td>null</td><td>null</td><td>null</td><td>null</td><td>null</td><td>null</td><td>null</td><td>null</td><td>null</td><td>null</td><td>null</td><td>null</td><td>null</td></tr><tr><td>Oscar's Mexican food</td><td>California </td><td>1/24/2016</td><td>San Marcos</td><td>225 S Rancho Santa Fe Rd</td><td>http://www.yelp.com/biz/oscars-mexican-food-san-marcos</td><td>3.5</td><td>3.3</td><td>null</td><td>5.45</td><td>3.5</td><td>null</td><td>null</td><td>null</td><td>null</td><td>null</td><td>2.0</td><td>3.5</td><td>2.5</td><td>2.5</td><td>2.0</td><td>4.0</td><td>3.5</td><td>2.5</td><td>5.0</td><td>3.0</td><td>null</td><td>Scott</td><td>Fries: 3/5; too little meat</td><td>null</td><td>null</td><td>x</td><td>x</td><td>x</td><td>x</td><td>x</td><td>null</td><td>null</td><td>null</td><td>null</td><td>null</td><td>null</td><td>null</td><td>null</td><td>null</td><td>null</td><td>null</td><td>null</td><td>null</td><td>null</td><td>null</td><td>null</td><td>null</td><td>null</td><td>null</td><td>null</td><td>null</td><td>null</td><td>null</td><td>null</td><td>null</td><td>null</td><td>null</td><td>null</td><td>null</td><td>null</td></tr><tr><td>Oscar's Mexican food</td><td>Carnitas</td><td>1/24/2016</td><td>null</td><td>null</td><td>null</td><td>null</td><td>null</td><td>null</td><td>4.85</td><td>1.5</td><td>null</td><td>null</td><td>null</td><td>null</td><td>null</td><td>3.0</td><td>2.0</td><td>2.5</td><td>3.0</td><td>4.5</td><td>4.0</td><td>3.0</td><td>3.0</td><td>5.0</td><td>3.0</td><td>null</td><td>Emily</td><td>null</td><td>null</td><td>null</td><td>null</td><td>x</td><td>x</td><td>null</td><td>null</td><td>null</td><td>x</td><td>null</td><td>null</td><td>null</td><td>null</td><td>null</td><td>null</td><td>null</td><td>null</td><td>null</td><td>null</td><td>null</td><td>null</td><td>null</td><td>null</td><td>null</td><td>null</td><td>null</td><td>null</td><td>null</td><td>null</td><td>null</td><td>null</td><td>null</td><td>null</td><td>null</td><td>null</td><td>null</td><td>null</td></tr><tr><td>Oscar's Mexican food</td><td>Carne asada</td><td>1/24/2016</td><td>null</td><td>null</td><td>null</td><td>null</td><td>null</td><td>null</td><td>5.25</td><td>2.0</td><td>null</td><td>null</td><td>null</td><td>null</td><td>null</td><td>3.0</td><td>2.0</td><td>3.5</td><td>3.0</td><td>4.0</td><td>5.0</td><td>4.0</td><td>4.0</td><td>5.0</td><td>3.75</td><td>null</td><td>Ricardo</td><td>Go to average burrito place like Rigoberto's in la jolla; Terrible tamales</td><td>null</td><td>null</td><td>x</td><td>x</td><td>x</td><td>null</td><td>null</td><td>null</td><td>null</td><td>null</td><td>null</td><td>null</td><td>null</td><td>null</td><td>null</td><td>null</td><td>null</td><td>null</td><td>null</td><td>null</td><td>null</td><td>null</td><td>null</td><td>null</td><td>null</td><td>null</td><td>null</td><td>null</td><td>null</td><td>null</td><td>null</td><td>null</td><td>null</td><td>null</td><td>null</td><td>null</td><td>null</td></tr><tr><td>Pollos Maria</td><td>California</td><td>1/27/2016</td><td>Carlsbad</td><td>3055 Harding St</td><td>http://pollosmaria.com/</td><td>4.0</td><td>3.8</td><td>x</td><td>6.59</td><td>4.0</td><td>null</td><td>null</td><td>null</td><td>null</td><td>null</td><td>4.0</td><td>5.0</td><td>4.0</td><td>3.5</td><td>4.5</td><td>5.0</td><td>2.5</td><td>4.5</td><td>4.0</td><td>4.2</td><td>null</td><td>Scott</td><td>null</td><td>null</td><td>null</td><td>x</td><td>x</td><td>null</td><td>x</td><td>x</td><td>null</td><td>null</td><td>null</td><td>null</td><td>null</td><td>null</td><td>null</td><td>null</td><td>null</td><td>null</td><td>null</td><td>null</td><td>null</td><td>null</td><td>null</td><td>null</td><td>null</td><td>null</td><td>null</td><td>null</td><td>null</td><td>null</td><td>null</td><td>null</td><td>null</td><td>null</td><td>null</td><td>null</td><td>null</td><td>null</td></tr><tr><td>Pollos Maria</td><td>combo chicken</td><td>1/28/2016</td><td>null</td><td>null</td><td>null</td><td>null</td><td>null</td><td>null</td><td>6.99</td><td>4.0</td><td>null</td><td>null</td><td>null</td><td>null</td><td>null</td><td>3.0</td><td>4.0</td><td>5.0</td><td>3.5</td><td>2.5</td><td>2.5</td><td>2.5</td><td>4.0</td><td>1.0</td><td>3.2</td><td>null</td><td>Emily</td><td>null</td><td>null</td><td>null</td><td>null</td><td>null</td><td>x</td><td>x</td><td>null</td><td>x</td><td>null</td><td>x</td><td>null</td><td>null</td><td>x</td><td>x</td><td>x</td><td>x</td><td>null</td><td>null</td><td>null</td><td>null</td><td>null</td><td>null</td><td>null</td><td>null</td><td>null</td><td>null</td><td>null</td><td>null</td><td>null</td><td>null</td><td>null</td><td>null</td><td>null</td><td>null</td><td>null</td><td>null</td><td>null</td></tr><tr><td>Nico's Taco Shop</td><td>California</td><td>1/30/2016</td><td>Carmel Valley</td><td>3860 Valley Centre Dr #404</td><td>http://www.yelp.com/biz/nicos-taco-shop-san-diego</td><td>3.0</td><td>2.9</td><td>null</td><td>7.19</td><td>1.5</td><td>null</td><td>null</td><td>null</td><td>null</td><td>null</td><td>2.0</td><td>3.0</td><td>3.0</td><td>2.0</td><td>2.5</td><td>2.5</td><td>null</td><td>2.0</td><td>3.0</td><td>2.6</td><td>null</td><td>Scott</td><td>not fries. big potatoes</td><td>null</td><td>null</td><td>x</td><td>null</td><td>null</td><td>x</td><td>x</td><td>x</td><td>null</td><td>null</td><td>null</td><td>null</td><td>null</td><td>null</td><td>null</td><td>null</td><td>null</td><td>null</td><td>null</td><td>null</td><td>null</td><td>null</td><td>null</td><td>null</td><td>null</td><td>null</td><td>null</td><td>null</td><td>null</td><td>null</td><td>null</td><td>null</td><td>null</td><td>null</td><td>null</td><td>null</td><td>null</td></tr><tr><td>Nico's Taco Shop</td><td>Carnitas</td><td>1/30/2016</td><td>null</td><td>null</td><td>null</td><td>null</td><td>null</td><td>null</td><td>6.99</td><td>4.0</td><td>null</td><td>null</td><td>null</td><td>null</td><td>null</td><td>2.5</td><td>3.0</td><td>3.0</td><td>2.5</td><td>3.0</td><td>3.5</td><td>null</td><td>2.5</td><td>3.0</td><td>3.0</td><td>null</td><td>Emily</td><td>null</td><td>null</td><td>null</td><td>null</td><td>x</td><td>x</td><td>null</td><td>null</td><td>null</td><td>x</td><td>null</td><td>null</td><td>null</td><td>null</td><td>null</td><td>null</td><td>null</td><td>null</td><td>null</td><td>null</td><td>null</td><td>null</td><td>null</td><td>null</td><td>null</td><td>null</td><td>null</td><td>null</td><td>null</td><td>null</td><td>null</td><td>null</td><td>null</td><td>null</td><td>null</td><td>null</td><td>null</td><td>null</td></tr><tr><td>Los Primos Mexican Food</td><td>Monster California</td><td>2/1/2016</td><td>UTC</td><td>7770 Regents Rd</td><td>http://www.primosmex.com/</td><td>3.0</td><td>3.7</td><td>x</td><td>9.25</td><td>3.5</td><td>null</td><td>null</td><td>null</td><td>null</td><td>null</td><td>2.0</td><td>4.5</td><td>4.5</td><td>3.5</td><td>1.5</td><td>3.0</td><td>3.5</td><td>4.0</td><td>2.0</td><td>3.9</td><td>null</td><td>Scott</td><td>this tasted really bad leftover. not included in rating</td><td>null</td><td>null</td><td>x</td><td>x</td><td>x</td><td>x</td><td>x</td><td>x</td><td>null</td><td>null</td><td>null</td><td>null</td><td>null</td><td>null</td><td>null</td><td>null</td><td>null</td><td>null</td><td>null</td><td>null</td><td>null</td><td>null</td><td>null</td><td>null</td><td>null</td><td>null</td><td>null</td><td>null</td><td>null</td><td>null</td><td>null</td><td>null</td><td>null</td><td>null</td><td>null</td><td>null</td><td>null</td></tr><tr><td>JV's Mexican Food</td><td>Carne Asada</td><td>2/6/2016</td><td>Morena</td><td>1112 Morena Blvd</td><td>http://jvsmexfood.com/</td><td>4.0</td><td>4.1</td><td>null</td><td>6.25</td><td>3.5</td><td>null</td><td>null</td><td>null</td><td>null</td><td>null</td><td>2.5</td><td>1.5</td><td>1.5</td><td>3.0</td><td>4.5</td><td>3.0</td><td>1.5</td><td>2.0</td><td>4.5</td><td>2.0</td><td>null</td><td>Scott</td><td>null</td><td>null</td><td>null</td><td>x</td><td>x</td><td>x</td><td>null</td><td>null</td><td>null</td><td>null</td><td>null</td><td>null</td><td>null</td><td>null</td><td>null</td><td>null</td><td>null</td><td>null</td><td>null</td><td>null</td><td>null</td><td>null</td><td>null</td><td>null</td><td>null</td><td>null</td><td>null</td><td>null</td><td>null</td><td>null</td><td>null</td><td>null</td><td>null</td><td>null</td><td>null</td><td>null</td><td>null</td><td>null</td></tr><tr><td>JV's Mexican Food</td><td>Surf & Turf</td><td>2/6/2016</td><td>null</td><td>null</td><td>null</td><td>null</td><td>null</td><td>null</td><td>9.5</td><td>2.0</td><td>null</td><td>null</td><td>null</td><td>null</td><td>null</td><td>2.5</td><td>2.5</td><td>2.75</td><td>2.5</td><td>2.5</td><td>2.0</td><td>0.5</td><td>3.0</td><td>3.5</td><td>2.5</td><td>null</td><td>Emily</td><td>Huge. Shrimp is good. Meat is normal</td><td>null</td><td>null</td><td>x</td><td>null</td><td>x</td><td>null</td><td>null</td><td>null</td><td>null</td><td>null</td><td>x</td><td>null</td><td>x</td><td>null</td><td>null</td><td>null</td><td>x</td><td>null</td><td>null</td><td>null</td><td>null</td><td>null</td><td>null</td><td>null</td><td>null</td><td>null</td><td>null</td><td>null</td><td>null</td><td>null</td><td>null</td><td>null</td><td>null</td><td>null</td><td>null</td><td>null</td><td>null</td></tr><tr><td>Tony's Fresh Mexican Food</td><td>Chile verde pork</td><td>2/11/2016</td><td>Miramar</td><td>7122 Miramar Rd</td><td>https://www.yelp.com/biz/tonys-fresh-mexican-food-san-diego</td><td>3.0</td><td>4.1</td><td>x</td><td>6.95</td><td>2.0</td><td>null</td><td>null</td><td>null</td><td>null</td><td>null</td><td>3.0</td><td>4.0</td><td>4.0</td><td>3.0</td><td>4.0</td><td>4.0</td><td>1.0</td><td>2.0</td><td>1.0</td><td>3.0</td><td>null</td><td>Marc</td><td>null</td><td>null</td><td>null</td><td>null</td><td>x</td><td>null</td><td>null</td><td>x</td><td>null</td><td>x</td><td>null</td><td>null</td><td>null</td><td>x</td><td>x</td><td>null</td><td>null</td><td>null</td><td>x</td><td>null</td><td>null</td><td>null</td><td>null</td><td>null</td><td>null</td><td>null</td><td>null</td><td>null</td><td>null</td><td>null</td><td>null</td><td>null</td><td>null</td><td>null</td><td>null</td><td>null</td><td>null</td><td>null</td></tr><tr><td>Tony's Fresh Mexican Food</td><td>California</td><td>2/11/2016</td><td>null</td><td>null</td><td>null</td><td>null</td><td>null</td><td>null</td><td>6.25</td><td>3.5</td><td>null</td><td>null</td><td>null</td><td>null</td><td>null</td><td>3.0</td><td>3.5</td><td>3.5</td><td>4.0</td><td>2.0</td><td>3.5</td><td>1.0</td><td>4.0</td><td>4.0</td><td>3.9</td><td>null</td><td>Scott</td><td>null</td><td>null</td><td>null</td><td>x</td><td>x</td><td>null</td><td>x</td><td>x</td><td>null</td><td>null</td><td>null</td><td>null</td><td>null</td><td>null</td><td>null</td><td>null</td><td>null</td><td>null</td><td>null</td><td>null</td><td>null</td><td>null</td><td>null</td><td>null</td><td>null</td><td>null</td><td>null</td><td>null</td><td>null</td><td>null</td><td>null</td><td>null</td><td>null</td><td>null</td><td>null</td><td>null</td><td>null</td><td>null</td></tr><tr><td>Tony's Fresh Mexican Food</td><td>battered fish </td><td>2/11/2016</td><td>null</td><td>null</td><td>null</td><td>null</td><td>null</td><td>null</td><td>6.99</td><td>3.0</td><td>null</td><td>null</td><td>null</td><td>null</td><td>null</td><td>3.0</td><td>1.0</td><td>1.5</td><td>2.5</td><td>4.0</td><td>4.0</td><td>3.0</td><td>4.5</td><td>5.0</td><td>2.0</td><td>null</td><td>Nicole</td><td>null</td><td>null</td><td>null</td><td>null</td><td>null</td><td>null</td><td>null</td><td>null</td><td>null</td><td>null</td><td>null</td><td>null</td><td>x</td><td>null</td><td>null</td><td>null</td><td>null</td><td>null</td><td>null</td><td>x</td><td>x</td><td>null</td><td>null</td><td>null</td><td>null</td><td>null</td><td>null</td><td>null</td><td>null</td><td>null</td><td>null</td><td>null</td><td>null</td><td>null</td><td>null</td><td>null</td><td>null</td><td>null</td></tr><tr><td>Tony's Fresh Mexican Food</td><td>California</td><td>2/11/2016</td><td>null</td><td>null</td><td>null</td><td>null</td><td>null</td><td>null</td><td>6.25</td><td>3.0</td><td>null</td><td>null</td><td>null</td><td>null</td><td>null</td><td>4.0</td><td>null</td><td>2.0</td><td>2.0</td><td>4.0</td><td>4.0</td><td>null</td><td>3.0</td><td>4.0</td><td>2.75</td><td>null</td><td>Cris</td><td>to-go, no guac or sour cream, fries are a small and underdone</td><td>null</td><td>null</td><td>x</td><td>x</td><td>null</td><td>x</td><td>x</td><td>null</td><td>null</td><td>null</td><td>null</td><td>null</td><td>null</td><td>null</td><td>null</td><td>null</td><td>null</td><td>null</td><td>null</td><td>null</td><td>null</td><td>null</td><td>null</td><td>null</td><td>null</td><td>null</td><td>null</td><td>null</td><td>null</td><td>null</td><td>null</td><td>null</td><td>null</td><td>null</td><td>null</td><td>null</td><td>null</td></tr><tr><td>Taco Stand</td><td>California</td><td>2/12/2016</td><td>La Jolla</td><td>621 Pearl St</td><td>http://letstaco.com/</td><td>4.5</td><td>4.4</td><td>null</td><td>7.49</td><td>4.0</td><td>null</td><td>null</td><td>null</td><td>null</td><td>null</td><td>3.0</td><td>2.5</td><td>4.0</td><td>4.0</td><td>3.5</td><td>2.5</td><td>3.5</td><td>5.0</td><td>4.5</td><td>4.2</td><td>null</td><td>Emily</td><td>Horchata is very sweet</td><td>null</td><td>null</td><td>x</td><td>x</td><td>x</td><td>x</td><td>x</td><td>x</td><td>null</td><td>null</td><td>null</td><td>null</td><td>null</td><td>null</td><td>null</td><td>null</td><td>null</td><td>null</td><td>null</td><td>null</td><td>null</td><td>null</td><td>null</td><td>null</td><td>null</td><td>null</td><td>null</td><td>null</td><td>null</td><td>null</td><td>null</td><td>null</td><td>null</td><td>null</td><td>null</td><td>null</td><td>null</td></tr><tr><td>Taco Stand</td><td>Surf and turf </td><td>2/12/2016</td><td>null</td><td>null</td><td>null</td><td>null</td><td>null</td><td>null</td><td>8.49</td><td>2.5</td><td>null</td><td>null</td><td>null</td><td>null</td><td>null</td><td>4.0</td><td>4.0</td><td>4.5</td><td>4.0</td><td>5.0</td><td>4.5</td><td>3.5</td><td>4.0</td><td>2.0</td><td>4.1</td><td>null</td><td>Scott</td><td>null</td><td>null</td><td>null</td><td>x</td><td>x</td><td>x</td><td>null</td><td>null</td><td>null</td><td>null</td><td>null</td><td>x</td><td>null</td><td>null</td><td>null</td><td>null</td><td>null</td><td>null</td><td>null</td><td>x</td><td>null</td><td>null</td><td>null</td><td>null</td><td>null</td><td>null</td><td>null</td><td>null</td><td>null</td><td>null</td><td>null</td><td>null</td><td>null</td><td>null</td><td>null</td><td>null</td><td>null</td><td>null</td></tr><tr><td>Graciela's Taco Shop</td><td>Adobada </td><td>2/14/2016</td><td>Bonita</td><td>5047 Central Ave</td><td>https://www.yelp.com/biz/gracielas-taco-shop-bonita-2</td><td>4.0</td><td>4.5</td><td>null</td><td>5.99</td><td>3.0</td><td>null</td><td>null</td><td>null</td><td>null</td><td>null</td><td>4.0</td><td>4.0</td><td>3.0</td><td>3.5</td><td>4.0</td><td>4.5</td><td>4.0</td><td>4.0</td><td>4.5</td><td>4.0</td><td>null</td><td>Scott</td><td>Salsa verde spicy</td><td>null</td><td>null</td><td>null</td><td>null</td><td>null</td><td>null</td><td>null</td><td>null</td><td>x</td><td>null</td><td>null</td><td>null</td><td>null</td><td>x</td><td>null</td><td>null</td><td>null</td><td>null</td><td>null</td><td>null</td><td>x</td><td>x</td><td>x</td><td>null</td><td>null</td><td>null</td><td>null</td><td>null</td><td>null</td><td>null</td><td>null</td><td>null</td><td>null</td><td>null</td><td>null</td><td>null</td><td>null</td></tr><tr><td>Graciela's Taco Shop</td><td>Barbacoa</td><td>2/14/2016</td><td>null</td><td>null</td><td>null</td><td>null</td><td>null</td><td>null</td><td>5.99</td><td>2.0</td><td>null</td><td>null</td><td>null</td><td>null</td><td>null</td><td>3.5</td><td>4.0</td><td>3.5</td><td>null</td><td>4.0</td><td>null</td><td>4.0</td><td>4.0</td><td>1.5</td><td>4.0</td><td>null</td><td>Emily</td><td>null</td><td>null</td><td>null</td><td>x</td><td>null</td><td>null</td><td>null</td><td>null</td><td>null</td><td>null</td><td>null</td><td>null</td><td>null</td><td>null</td><td>null</td><td>null</td><td>null</td><td>null</td><td>null</td><td>null</td><td>null</td><td>null</td><td>x</td><td>x</td><td>null</td><td>null</td><td>null</td><td>null</td><td>null</td><td>null</td><td>null</td><td>null</td><td>null</td><td>null</td><td>null</td><td>null</td><td>null</td><td>null</td></tr><tr><td>Rigoberto's Taco Shop La Jolla</td><td>California</td><td>2/17/2016</td><td>La Jolla</td><td>7345 La Jolla Blvd</td><td>https://www.yelp.com/biz/rigobertos-la-jolla-2</td><td>2.5</td><td>4.0</td><td>null</td><td>6.4</td><td>4.0</td><td>null</td><td>null</td><td>null</td><td>null</td><td>null</td><td>3.0</td><td>4.0</td><td>2.75</td><td>3.0</td><td>4.0</td><td>2.0</td><td>2.0</td><td>null</td><td>5.0</td><td>3.0</td><td>null</td><td>Leo</td><td>null</td><td>null</td><td>null</td><td>x</td><td>x</td><td>null</td><td>null</td><td>x</td><td>null</td><td>null</td><td>null</td><td>null</td><td>null</td><td>null</td><td>null</td><td>null</td><td>null</td><td>null</td><td>null</td><td>null</td><td>null</td><td>null</td><td>null</td><td>null</td><td>null</td><td>null</td><td>null</td><td>null</td><td>null</td><td>null</td><td>null</td><td>null</td><td>null</td><td>null</td><td>null</td><td>null</td><td>null</td><td>null</td></tr><tr><td>Rigoberto's Taco Shop La Jolla</td><td>California</td><td>2/17/2016</td><td>null</td><td>null</td><td>null</td><td>null</td><td>null</td><td>null</td><td>6.4</td><td>2.5</td><td>null</td><td>null</td><td>null</td><td>null</td><td>null</td><td>3.5</td><td>3.0</td><td>3.0</td><td>3.0</td><td>4.0</td><td>4.0</td><td>1.5</td><td>null</td><td>4.5</td><td>3.5</td><td>null</td><td>Scott</td><td>null</td><td>null</td><td>null</td><td>x</td><td>x</td><td>null</td><td>null</td><td>x</td><td>null</td><td>null</td><td>null</td><td>null</td><td>null</td><td>null</td><td>null</td><td>null</td><td>null</td><td>null</td><td>null</td><td>null</td><td>null</td><td>null</td><td>null</td><td>null</td><td>null</td><td>null</td><td>null</td><td>null</td><td>null</td><td>null</td><td>null</td><td>null</td><td>null</td><td>null</td><td>null</td><td>null</td><td>null</td><td>null</td></tr><tr><td>Lolita's taco shop</td><td>2 in 1</td><td>2/24/2016</td><td>Kearny Mesa</td><td>7305 Clairemont Mesa Blvd</td><td>http://lolitasmexicanfood.com/</td><td>4.0</td><td>4.4</td><td>null</td><td>8.75</td><td>3.5</td><td>null</td><td>null</td><td>null</td><td>null</td><td>null</td><td>1.5</td><td>2.0</td><td>3.0</td><td>3.5</td><td>4.0</td><td>1.0</td><td>3.5</td><td>4.5</td><td>4.0</td><td>4.0</td><td>null</td><td>Scott</td><td>Rolled tacos need more meat</td><td>null</td><td>null</td><td>x</td><td>null</td><td>x</td><td>x</td><td>null</td><td>null</td><td>null</td><td>null</td><td>null</td><td>null</td><td>null</td><td>null</td><td>null</td><td>null</td><td>null</td><td>null</td><td>null</td><td>null</td><td>null</td><td>null</td><td>null</td><td>x</td><td>null</td><td>null</td><td>null</td><td>null</td><td>null</td><td>null</td><td>null</td><td>null</td><td>null</td><td>null</td><td>null</td><td>null</td><td>null</td></tr><tr><td>Lolita's taco shop</td><td>Adobado</td><td>2/24/2016</td><td>null</td><td>null</td><td>null</td><td>null</td><td>null</td><td>null</td><td>5.5</td><td>2.5</td><td>null</td><td>null</td><td>null</td><td>null</td><td>null</td><td>1.5</td><td>2.5</td><td>3.5</td><td>3.0</td><td>4.0</td><td>1.5</td><td>2.5</td><td>3.5</td><td>4.5</td><td>3.5</td><td>null</td><td>Emily</td><td>Adobado reminds me of Indian food because of some mystery spice</td><td>null</td><td>null</td><td>null</td><td>x</td><td>x</td><td>null</td><td>null</td><td>null</td><td>x</td><td>null</td><td>null</td><td>null</td><td>null</td><td>null</td><td>null</td><td>null</td><td>null</td><td>null</td><td>null</td><td>null</td><td>null</td><td>null</td><td>null</td><td>null</td><td>null</td><td>null</td><td>null</td><td>null</td><td>null</td><td>null</td><td>null</td><td>null</td><td>null</td><td>null</td><td>null</td><td>null</td><td>null</td></tr><tr><td>Taco Stand</td><td>California</td><td>2/28/2016</td><td>null</td><td>null</td><td>null</td><td>null</td><td>null</td><td>null</td><td>7.49</td><td>2.5</td><td>null</td><td>null</td><td>null</td><td>null</td><td>null</td><td>4.0</td><td>3.0</td><td>4.0</td><td>4.0</td><td>4.0</td><td>4.0</td><td>4.0</td><td>4.0</td><td>3.0</td><td>4.6</td><td>null</td><td>Scott</td><td>null</td><td>null</td><td>null</td><td>x</td><td>x</td><td>x</td><td>x</td><td>x</td><td>x</td><td>null</td><td>null</td><td>null</td><td>null</td><td>null</td><td>null</td><td>null</td><td>null</td><td>null</td><td>null</td><td>null</td><td>null</td><td>null</td><td>null</td><td>null</td><td>null</td><td>null</td><td>null</td><td>null</td><td>null</td><td>null</td><td>null</td><td>null</td><td>null</td><td>null</td><td>null</td><td>null</td><td>null</td><td>null</td></tr><tr><td>Taco Stand</td><td>California</td><td>2/28/2016</td><td>null</td><td>null</td><td>null</td><td>null</td><td>null</td><td>null</td><td>7.49</td><td>2.5</td><td>null</td><td>null</td><td>null</td><td>null</td><td>null</td><td>3.0</td><td>2.0</td><td>4.5</td><td>4.0</td><td>4.0</td><td>3.5</td><td>3.0</td><td>4.5</td><td>4.5</td><td>4.5</td><td>null</td><td>Emily</td><td>null</td><td>null</td><td>null</td><td>x</td><td>x</td><td>x</td><td>x</td><td>x</td><td>x</td><td>null</td><td>null</td><td>null</td><td>null</td><td>null</td><td>null</td><td>null</td><td>null</td><td>null</td><td>null</td><td>null</td><td>null</td><td>null</td><td>null</td><td>null</td><td>null</td><td>null</td><td>null</td><td>null</td><td>null</td><td>null</td><td>null</td><td>null</td><td>null</td><td>null</td><td>null</td><td>null</td><td>null</td><td>null</td></tr><tr><td>Lola's 7 Up Market & Deli</td><td>Shredded beef</td><td>2/29/2016</td><td>Carlsbad</td><td>3292 Roosevelt St</td><td>https://www.yelp.com/biz/lolas-7-up-market-and-deli-carlsbad</td><td>4.5</td><td>4.9</td><td>null</td><td>6.0</td><td>3.5</td><td>null</td><td>null</td><td>null</td><td>null</td><td>null</td><td>2.5</td><td>2.5</td><td>3.0</td><td>4.0</td><td>4.0</td><td>4.0</td><td>3.0</td><td>3.5</td><td>1.5</td><td>3.8</td><td>null</td><td>Emily</td><td>Food cooks fast but checking out is painfully slow</td><td>null</td><td>null</td><td>x</td><td>x</td><td>null</td><td>x</td><td>null</td><td>null</td><td>null</td><td>null</td><td>null</td><td>null</td><td>null</td><td>x</td><td>null</td><td>null</td><td>null</td><td>null</td><td>null</td><td>null</td><td>null</td><td>null</td><td>null</td><td>null</td><td>null</td><td>null</td><td>null</td><td>null</td><td>null</td><td>null</td><td>null</td><td>null</td><td>null</td><td>null</td><td>null</td><td>null</td><td>null</td></tr><tr><td>Lola's 7 Up Market & Deli</td><td>Carne asada</td><td>2/29/2016</td><td>null</td><td>null</td><td>null</td><td>null</td><td>null</td><td>null</td><td>7.0</td><td>3.5</td><td>null</td><td>null</td><td>null</td><td>null</td><td>null</td><td>2.5</td><td>3.0</td><td>3.0</td><td>4.0</td><td>2.0</td><td>2.0</td><td>3.0</td><td>3.5</td><td>3.5</td><td>3.0</td><td>null</td><td>Scott</td><td>Beans are surprisingly good</td><td>null</td><td>null</td><td>x</td><td>x</td><td>x</td><td>x</td><td>null</td><td>null</td><td>null</td><td>null</td><td>null</td><td>null</td><td>null</td><td>x</td><td>null</td><td>null</td><td>null</td><td>null</td><td>null</td><td>null</td><td>null</td><td>null</td><td>null</td><td>null</td><td>null</td><td>null</td><td>null</td><td>null</td><td>null</td><td>null</td><td>null</td><td>null</td><td>null</td><td>null</td><td>null</td><td>null</td><td>null</td></tr><tr><td>Colima's Mexican Food</td><td>Hawaiian</td><td>3/3/2016</td><td>North park</td><td>2302 University Ave</td><td>https://www.yelp.com/biz/colimas-mexican-food-san-diego</td><td>4.0</td><td>4.2</td><td>null</td><td>6.29</td><td>3.5</td><td>null</td><td>null</td><td>null</td><td>null</td><td>null</td><td>3.5</td><td>5.0</td><td>4.0</td><td>4.0</td><td>3.5</td><td>4.5</td><td>3.5</td><td>3.5</td><td>4.0</td><td>4.0</td><td>null</td><td>Scott</td><td>null</td><td>null</td><td>null</td><td>null</td><td>null</td><td>null</td><td>x</td><td>null</td><td>null</td><td>x</td><td>null</td><td>null</td><td>null</td><td>null</td><td>null</td><td>null</td><td>null</td><td>null</td><td>null</td><td>null</td><td>null</td><td>null</td><td>null</td><td>null</td><td>null</td><td>x</td><td>x</td><td>null</td><td>null</td><td>null</td><td>null</td><td>null</td><td>null</td><td>null</td><td>null</td><td>null</td><td>null</td><td>null</td></tr><tr><td>Colima's Mexican Food</td><td>Bandido</td><td>3/3/2016</td><td>null</td><td>null</td><td>null</td><td>null</td><td>null</td><td>null</td><td>6.49</td><td>4.5</td><td>null</td><td>null</td><td>null</td><td>null</td><td>null</td><td>3.0</td><td>5.0</td><td>4.0</td><td>4.0</td><td>5.0</td><td>4.0</td><td>2.5</td><td>4.5</td><td>4.0</td><td>4.0</td><td>null</td><td>Sage</td><td>null</td><td>null</td><td>null</td><td>x</td><td>null</td><td>null</td><td>null</td><td>null</td><td>null</td><td>null</td><td>null</td><td>null</td><td>null</td><td>x</td><td>x</td><td>null</td><td>null</td><td>null</td><td>null</td><td>null</td><td>x</td><td>null</td><td>null</td><td>null</td><td>null</td><td>null</td><td>null</td><td>x</td><td>null</td><td>null</td><td>null</td><td>null</td><td>null</td><td>null</td><td>null</td><td>null</td><td>null</td><td>null</td></tr><tr><td>Colima's Mexican Food</td><td>Bandido</td><td>3/3/2016</td><td>null</td><td>null</td><td>null</td><td>null</td><td>null</td><td>null</td><td>6.49</td><td>4.5</td><td>null</td><td>null</td><td>null</td><td>null</td><td>null</td><td>3.0</td><td>4.5</td><td>3.5</td><td>3.5</td><td>3.5</td><td>3.0</td><td>3.0</td><td>3.0</td><td>4.0</td><td>3.0</td><td>null</td><td>Eli</td><td>Promising start but finished poorly</td><td>null</td><td>null</td><td>x</td><td>null</td><td>null</td><td>null</td><td>null</td><td>null</td><td>null</td><td>null</td><td>null</td><td>null</td><td>x</td><td>x</td><td>null</td><td>null</td><td>null</td><td>null</td><td>null</td><td>x</td><td>null</td><td>null</td><td>null</td><td>null</td><td>null</td><td>null</td><td>x</td><td>null</td><td>null</td><td>null</td><td>null</td><td>null</td><td>null</td><td>null</td><td>null</td><td>null</td><td>null</td></tr><tr><td>Rigoberto's Taco Shop</td><td>Carne asada</td><td>3/8/2016</td><td>Miramar</td><td>7094 Miramar Rd</td><td>https://www.yelp.com/biz/rigobertos-taco-shop-san-diego-2</td><td>4.0</td><td>4.4</td><td>null</td><td>6.6</td><td>3.5</td><td>null</td><td>null</td><td>null</td><td>null</td><td>null</td><td>4.0</td><td>2.0</td><td>4.0</td><td>3.5</td><td>4.5</td><td>4.0</td><td>3.5</td><td>4.0</td><td>1.0</td><td>4.25</td><td>null</td><td>Ricardo</td><td>null</td><td>null</td><td>null</td><td>x</td><td>x</td><td>x</td><td>null</td><td>null</td><td>null</td><td>null</td><td>null</td><td>null</td><td>null</td><td>null</td><td>null</td><td>null</td><td>null</td><td>null</td><td>null</td><td>null</td><td>null</td><td>null</td><td>null</td><td>null</td><td>null</td><td>null</td><td>null</td><td>null</td><td>null</td><td>null</td><td>null</td><td>null</td><td>null</td><td>null</td><td>null</td><td>null</td><td>null</td><td>null</td></tr><tr><td>Rigoberto's Taco Shop</td><td>Campeon</td><td>3/8/2016</td><td>null</td><td>null</td><td>null</td><td>null</td><td>null</td><td>null</td><td>7.65</td><td>3.5</td><td>null</td><td>null</td><td>null</td><td>null</td><td>null</td><td>3.0</td><td>1.5</td><td>3.0</td><td>3.0</td><td>2.5</td><td>3.0</td><td>3.5</td><td>2.5</td><td>4.0</td><td>3.4</td><td>null</td><td>Scott</td><td>null</td><td>null</td><td>null</td><td>x</td><td>x</td><td>x</td><td>x</td><td>x</td><td>x</td><td>null</td><td>null</td><td>null</td><td>null</td><td>null</td><td>null</td><td>null</td><td>null</td><td>null</td><td>null</td><td>null</td><td>null</td><td>null</td><td>null</td><td>null</td><td>null</td><td>null</td><td>null</td><td>null</td><td>null</td><td>null</td><td>null</td><td>null</td><td>null</td><td>null</td><td>null</td><td>null</td><td>null</td><td>null</td></tr><tr><td>Raul's Mexican food</td><td>Chile verde pork</td><td>3/11/2016</td><td>Encinitas</td><td>490 S Coast Hwy 101</td><td>https://www.yelp.com/biz/rauls-shack-encinitas</td><td>4.0</td><td>4.2</td><td>null</td><td>5.0</td><td>3.5</td><td>null</td><td>null</td><td>null</td><td>null</td><td>null</td><td>2.0</td><td>null</td><td>2.5</td><td>2.0</td><td>2.0</td><td>2.0</td><td>2.0</td><td>2.5</td><td>null</td><td>2.0</td><td>null</td><td>Emily</td><td>null</td><td>null</td><td>null</td><td>null</td><td>null</td><td>null</td><td>null</td><td>null</td><td>null</td><td>x</td><td>null</td><td>null</td><td>null</td><td>null</td><td>x</td><td>null</td><td>null</td><td>null</td><td>null</td><td>null</td><td>null</td><td>x</td><td>null</td><td>null</td><td>null</td><td>null</td><td>null</td><td>null</td><td>null</td><td>null</td><td>null</td><td>null</td><td>null</td><td>null</td><td>null</td><td>null</td><td>null</td><td>null</td></tr><tr><td>Raul's Mexican food</td><td>carne asada</td><td>3/11/2016</td><td>null</td><td>null</td><td>null</td><td>null</td><td>null</td><td>null</td><td>5.0</td><td>1.0</td><td>null</td><td>null</td><td>null</td><td>null</td><td>null</td><td>2.0</td><td>null</td><td>1.0</td><td>1.0</td><td>0.5</td><td>1.0</td><td>1.5</td><td>1.0</td><td>4.0</td><td>1.0</td><td>null</td><td>Scott</td><td>burrito was mostly tortilla</td><td>null</td><td>null</td><td>x</td><td>x</td><td>x</td><td>null</td><td>null</td><td>null</td><td>null</td><td>null</td><td>null</td><td>null</td><td>null</td><td>null</td><td>null</td><td>null</td><td>null</td><td>null</td><td>null</td><td>null</td><td>null</td><td>null</td><td>null</td><td>null</td><td>null</td><td>null</td><td>null</td><td>null</td><td>null</td><td>null</td><td>null</td><td>null</td><td>null</td><td>null</td><td>null</td><td>null</td><td>null</td></tr><tr><td>El Zarape</td><td>California</td><td>3/14/2016</td><td>University Heights</td><td>4642 Park Blvd</td><td>https://www.yelp.com/biz/el-zarape-san-diego</td><td>4.0</td><td>4.4</td><td>x</td><td>6.25</td><td>0.5</td><td>null</td><td>null</td><td>null</td><td>null</td><td>null</td><td>3.0</td><td>5.0</td><td>4.0</td><td>2.75</td><td>4.0</td><td>1.6</td><td>3.5</td><td>3.4</td><td>5.0</td><td>3.33333</td><td>null</td><td>Kelsey</td><td>null</td><td>null</td><td>null</td><td>x</td><td>x</td><td>x</td><td>x</td><td>x</td><td>null</td><td>null</td><td>null</td><td>null</td><td>null</td><td>null</td><td>null</td><td>null</td><td>null</td><td>null</td><td>null</td><td>null</td><td>null</td><td>null</td><td>null</td><td>null</td><td>null</td><td>null</td><td>null</td><td>null</td><td>null</td><td>null</td><td>null</td><td>null</td><td>null</td><td>null</td><td>null</td><td>null</td><td>null</td><td>null</td></tr><tr><td>El Zarape</td><td>California chicken</td><td>3/14/2016</td><td>null</td><td>null</td><td>null</td><td>null</td><td>null</td><td>null</td><td>6.25</td><td>3.0</td><td>null</td><td>null</td><td>null</td><td>null</td><td>null</td><td>3.5</td><td>5.0</td><td>2.5</td><td>2.5</td><td>4.0</td><td>2.7</td><td>3.5</td><td>3.0</td><td>5.0</td><td>2.5</td><td>null</td><td>Sage</td><td>null</td><td>null</td><td>null</td><td>null</td><td>x</td><td>x</td><td>x</td><td>x</td><td>null</td><td>null</td><td>x</td><td>null</td><td>null</td><td>null</td><td>null</td><td>null</td><td>null</td><td>null</td><td>null</td><td>null</td><td>null</td><td>null</td><td>null</td><td>null</td><td>null</td><td>null</td><td>null</td><td>null</td><td>null</td><td>null</td><td>null</td><td>null</td><td>null</td><td>null</td><td>null</td><td>null</td><td>null</td><td>null</td></tr><tr><td>El Zarape</td><td>Azteca</td><td>3/14/2016</td><td>null</td><td>null</td><td>null</td><td>null</td><td>null</td><td>null</td><td>6.25</td><td>3.75</td><td>null</td><td>null</td><td>null</td><td>null</td><td>null</td><td>3.0</td><td>5.0</td><td>5.0</td><td>4.5</td><td>4.0</td><td>4.0</td><td>1.5</td><td>3.0</td><td>5.0</td><td>3.0</td><td>null</td><td>Jake</td><td>null</td><td>null</td><td>null</td><td>x</td><td>x</td><td>null</td><td>x</td><td>null</td><td>null</td><td>null</td><td>null</td><td>null</td><td>null</td><td>null</td><td>x</td><td>null</td><td>null</td><td>null</td><td>null</td><td>null</td><td>null</td><td>null</td><td>null</td><td>null</td><td>null</td><td>null</td><td>null</td><td>null</td><td>x</td><td>null</td><td>null</td><td>null</td><td>null</td><td>null</td><td>null</td><td>null</td><td>null</td><td>null</td></tr><tr><td>El Zarape</td><td>Lobster</td><td>3/14/2016</td><td>null</td><td>null</td><td>null</td><td>null</td><td>null</td><td>null</td><td>9.5</td><td>3.0</td><td>null</td><td>null</td><td>null</td><td>null</td><td>null</td><td>3.0</td><td>3.0</td><td>4.0</td><td>3.0</td><td>3.5</td><td>4.5</td><td>3.5</td><td>3.0</td><td>3.5</td><td>3.2</td><td>null</td><td>Scott</td><td>quite small</td><td>null</td><td>null</td><td>null</td><td>null</td><td>null</td><td>null</td><td>null</td><td>null</td><td>null</td><td>null</td><td>null</td><td>null</td><td>null</td><td>null</td><td>null</td><td>x</td><td>null</td><td>null</td><td>x</td><td>x</td><td>null</td><td>null</td><td>null</td><td>null</td><td>null</td><td>null</td><td>null</td><td>null</td><td>x</td><td>null</td><td>null</td><td>null</td><td>null</td><td>null</td><td>null</td><td>null</td><td>null</td></tr><tr><td>El Indio</td><td>California</td><td>3/17/2016</td><td>San Diego</td><td>3695 India St</td><td>http://elindiosandiego.com/</td><td>3.5</td><td>3.9</td><td>null</td><td>7.84</td><td>4.0</td><td>null</td><td>null</td><td>null</td><td>null</td><td>null</td><td>4.0</td><td>4.0</td><td>3.5</td><td>4.0</td><td>4.5</td><td>4.0</td><td>3.5</td><td>3.5</td><td>4.5</td><td>4.0</td><td>null</td><td>Scott</td><td>null</td><td>null</td><td>null</td><td>x</td><td>null</td><td>x</td><td>x</td><td>x</td><td>null</td><td>null</td><td>null</td><td>null</td><td>null</td><td>null</td><td>null</td><td>null</td><td>null</td><td>null</td><td>null</td><td>null</td><td>null</td><td>null</td><td>null</td><td>null</td><td>null</td><td>null</td><td>null</td><td>null</td><td>null</td><td>null</td><td>null</td><td>null</td><td>null</td><td>null</td><td>null</td><td>null</td><td>null</td><td>null</td></tr><tr><td>Taco stand</td><td>Carne asada</td><td>3/18/2016</td><td>null</td><td>null</td><td>null</td><td>null</td><td>null</td><td>null</td><td>7.89</td><td>1.0</td><td>null</td><td>null</td><td>null</td><td>null</td><td>null</td><td>3.0</td><td>3.5</td><td>4.5</td><td>4.0</td><td>5.0</td><td>5.0</td><td>4.5</td><td>3.5</td><td>5.0</td><td>4.2</td><td>null</td><td>Scott</td><td>null</td><td>null</td><td>null</td><td>x</td><td>x</td><td>x</td><td>null</td><td>null</td><td>null</td><td>null</td><td>null</td><td>null</td><td>null</td><td>null</td><td>null</td><td>null</td><td>null</td><td>null</td><td>null</td><td>null</td><td>null</td><td>null</td><td>null</td><td>null</td><td>null</td><td>null</td><td>null</td><td>null</td><td>null</td><td>null</td><td>null</td><td>null</td><td>null</td><td>null</td><td>null</td><td>null</td><td>null</td><td>null</td></tr><tr><td>Taco stand</td><td>Al pastor</td><td>3/18/2016</td><td>null</td><td>null</td><td>null</td><td>null</td><td>null</td><td>null</td><td>6.99</td><td>4.0</td><td>null</td><td>null</td><td>null</td><td>null</td><td>null</td><td>4.0</td><td>3.0</td><td>3.5</td><td>3.0</td><td>4.0</td><td>5.0</td><td>3.0</td><td>3.5</td><td>5.0</td><td>3.5</td><td>null</td><td>Emily</td><td>Kind of dry </td><td>null</td><td>null</td><td>null</td><td>null</td><td>null</td><td>null</td><td>null</td><td>null</td><td>x</td><td>null</td><td>null</td><td>null</td><td>null</td><td>null</td><td>null</td><td>null</td><td>null</td><td>null</td><td>null</td><td>null</td><td>null</td><td>x</td><td>x</td><td>null</td><td>x</td><td>null</td><td>null</td><td>null</td><td>null</td><td>null</td><td>null</td><td>null</td><td>null</td><td>null</td><td>null</td><td>null</td><td>null</td></tr><tr><td>Qdoba Mexican Grill, Seatac Airport</td><td>Custom</td><td>3/19/2016</td><td>Seattle</td><td>Airport</td><td>null</td><td>null</td><td>null</td><td>null</td><td>9.5</td><td>5.0</td><td>null</td><td>null</td><td>null</td><td>null</td><td>null</td><td>3.0</td><td>3.0</td><td>3.5</td><td>3.0</td><td>4.0</td><td>1.0</td><td>3.0</td><td>2.5</td><td>5.0</td><td>3.0</td><td>null</td><td>Sage</td><td>null</td><td>x</td><td>null</td><td>null</td><td>x</td><td>x</td><td>x</td><td>null</td><td>null</td><td>x</td><td>null</td><td>null</td><td>null</td><td>x</td><td>x</td><td>x</td><td>null</td><td>null</td><td>null</td><td>null</td><td>null</td><td>null</td><td>null</td><td>null</td><td>null</td><td>null</td><td>null</td><td>null</td><td>null</td><td>null</td><td>null</td><td>null</td><td>null</td><td>null</td><td>null</td><td>null</td><td>null</td><td>null</td></tr><tr><td>Cancun Mexican & Seafood</td><td>California</td><td>3/20/2016</td><td>Encinitas</td><td>1766 N Coast Hwy</td><td>http://cancunmexicanandseafood.com/</td><td>4.5</td><td>4.1</td><td>x</td><td>6.99</td><td>4.0</td><td>null</td><td>null</td><td>null</td><td>null</td><td>null</td><td>4.0</td><td>4.5</td><td>4.0</td><td>3.5</td><td>4.0</td><td>2.5</td><td>2.0</td><td>4.0</td><td>4.0</td><td>4.2</td><td>null</td><td>Scott</td><td>A bit small</td><td>null</td><td>null</td><td>x</td><td>null</td><td>null</td><td>x</td><td>x</td><td>x</td><td>null</td><td>null</td><td>null</td><td>null</td><td>null</td><td>null</td><td>null</td><td>null</td><td>null</td><td>null</td><td>null</td><td>null</td><td>null</td><td>null</td><td>null</td><td>null</td><td>null</td><td>null</td><td>null</td><td>null</td><td>null</td><td>null</td><td>null</td><td>null</td><td>null</td><td>null</td><td>null</td><td>null</td><td>null</td></tr><tr><td>Cancun Mexican & Seafood</td><td>Machaca</td><td>3/20/2016</td><td>null</td><td>null</td><td>null</td><td>null</td><td>null</td><td>null</td><td>5.99</td><td>3.0</td><td>null</td><td>null</td><td>null</td><td>null</td><td>null</td><td>4.0</td><td>3.5</td><td>3.5</td><td>4.0</td><td>3.5</td><td>3.5</td><td>2.0</td><td>3.5</td><td>0.5</td><td>3.9</td><td>null</td><td>Emily</td><td>So hot! Egg is surprisingly good</td><td>null</td><td>null</td><td>x</td><td>null</td><td>null</td><td>null</td><td>null</td><td>null</td><td>null</td><td>null</td><td>null</td><td>null</td><td>null</td><td>null</td><td>null</td><td>null</td><td>x</td><td>null</td><td>null</td><td>null</td><td>null</td><td>null</td><td>x</td><td>null</td><td>null</td><td>null</td><td>null</td><td>null</td><td>null</td><td>null</td><td>x</td><td>null</td><td>null</td><td>null</td><td>null</td><td>null</td><td>null</td></tr><tr><td>Vallarta express</td><td>Quesaburro</td><td>3/21/2016</td><td>Clairemont</td><td>4277 Genesee Ave</td><td>http://www.vallartaexpress.com/menu/</td><td>3.5</td><td>4.0</td><td>null</td><td>6.95</td><td>3.5</td><td>null</td><td>null</td><td>null</td><td>null</td><td>null</td><td>3.0</td><td>4.0</td><td>3.5</td><td>4.0</td><td>4.0</td><td>4.0</td><td>3.5</td><td>4.5</td><td>4.5</td><td>4.1</td><td>null</td><td>Scott</td><td>null</td><td>null</td><td>null</td><td>x</td><td>x</td><td>x</td><td>x</td><td>null</td><td>null</td><td>null</td><td>null</td><td>null</td><td>null</td><td>null</td><td>null</td><td>null</td><td>null</td><td>null</td><td>null</td><td>null</td><td>null</td><td>null</td><td>null</td><td>null</td><td>null</td><td>null</td><td>null</td><td>null</td><td>null</td><td>null</td><td>null</td><td>null</td><td>null</td><td>null</td><td>null</td><td>null</td><td>null</td><td>null</td></tr><tr><td>Vallarta express</td><td>Philly </td><td>3/21/2016</td><td>null</td><td>null</td><td>null</td><td>null</td><td>null</td><td>null</td><td>6.95</td><td>4.0</td><td>null</td><td>null</td><td>null</td><td>null</td><td>null</td><td>3.0</td><td>4.5</td><td>4.0</td><td>3.0</td><td>3.0</td><td>2.0</td><td>4.0</td><td>2.0</td><td>4.5</td><td>3.0</td><td>null</td><td>Torben</td><td>Guac chips have lots of cheese</td><td>null</td><td>null</td><td>x</td><td>null</td><td>null</td><td>x</td><td>null</td><td>null</td><td>null</td><td>null</td><td>null</td><td>null</td><td>null</td><td>null</td><td>null</td><td>null</td><td>x</td><td>null</td><td>null</td><td>null</td><td>x</td><td>null</td><td>null</td><td>null</td><td>null</td><td>null</td><td>null</td><td>null</td><td>null</td><td>null</td><td>null</td><td>x</td><td>x</td><td>null</td><td>null</td><td>null</td><td>null</td></tr><tr><td>Vallarta express</td><td>Carne asada</td><td>3/21/2016</td><td>null</td><td>null</td><td>null</td><td>null</td><td>null</td><td>null</td><td>6.5</td><td>3.5</td><td>null</td><td>null</td><td>null</td><td>null</td><td>null</td><td>3.75</td><td>5.0</td><td>3.0</td><td>3.0</td><td>4.5</td><td>4.5</td><td>3.5</td><td>3.0</td><td>4.5</td><td>3.25</td><td>null</td><td>Ricardo</td><td>null</td><td>null</td><td>null</td><td>x</td><td>x</td><td>x</td><td>null</td><td>null</td><td>null</td><td>null</td><td>null</td><td>null</td><td>null</td><td>null</td><td>null</td><td>null</td><td>null</td><td>null</td><td>null</td><td>null</td><td>null</td><td>null</td><td>null</td><td>null</td><td>null</td><td>null</td><td>null</td><td>null</td><td>null</td><td>null</td><td>null</td><td>null</td><td>null</td><td>null</td><td>null</td><td>null</td><td>null</td><td>null</td></tr><tr><td>Vallarta express</td><td>Quesa</td><td>3/21/2016</td><td>null</td><td>null</td><td>null</td><td>null</td><td>null</td><td>null</td><td>6.95</td><td>4.5</td><td>null</td><td>null</td><td>null</td><td>null</td><td>null</td><td>2.0</td><td>5.0</td><td>3.5</td><td>4.0</td><td>2.5</td><td>5.0</td><td>3.5</td><td>2.5</td><td>4.0</td><td>3.75</td><td>null</td><td>Alex</td><td>Heart-stopping amount of cheese. Second tortilla of cheese</td><td>null</td><td>null</td><td>x</td><td>x</td><td>x</td><td>x</td><td>null</td><td>null</td><td>null</td><td>x</td><td>null</td><td>null</td><td>null</td><td>null</td><td>null</td><td>null</td><td>null</td><td>null</td><td>null</td><td>null</td><td>null</td><td>null</td><td>null</td><td>null</td><td>null</td><td>null</td><td>null</td><td>null</td><td>null</td><td>null</td><td>null</td><td>null</td><td>null</td><td>null</td><td>null</td><td>null</td><td>null</td></tr><tr><td>Vallarta express</td><td>Surf and turf</td><td>3/21/2016</td><td>null</td><td>null</td><td>null</td><td>null</td><td>null</td><td>null</td><td>7.65</td><td>3.0</td><td>null</td><td>null</td><td>null</td><td>null</td><td>null</td><td>2.0</td><td>4.0</td><td>3.0</td><td>3.0</td><td>4.0</td><td>2.0</td><td>4.0</td><td>2.0</td><td>3.0</td><td>3.5</td><td>null</td><td>Richard</td><td>Hot carrots</td><td>null</td><td>null</td><td>x</td><td>null</td><td>x</td><td>null</td><td>null</td><td>x</td><td>null</td><td>null</td><td>x</td><td>null</td><td>x</td><td>x</td><td>null</td><td>null</td><td>null</td><td>null</td><td>null</td><td>null</td><td>null</td><td>null</td><td>null</td><td>null</td><td>null</td><td>null</td><td>null</td><td>null</td><td>null</td><td>null</td><td>null</td><td>null</td><td>null</td><td>null</td><td>null</td><td>null</td><td>null</td></tr><tr><td>Vallarta express</td><td>Mahi</td><td>3/21/2016</td><td>null</td><td>null</td><td>null</td><td>null</td><td>null</td><td>null</td><td>7.3</td><td>3.0</td><td>null</td><td>null</td><td>null</td><td>null</td><td>null</td><td>3.0</td><td>4.5</td><td>3.5</td><td>3.0</td><td>3.0</td><td>2.0</td><td>3.5</td><td>2.5</td><td>4.5</td><td>3.5</td><td>null</td><td>Tom</td><td>null</td><td>null</td><td>null</td><td>null</td><td>null</td><td>null</td><td>null</td><td>null</td><td>null</td><td>null</td><td>null</td><td>null</td><td>null</td><td>null</td><td>null</td><td>null</td><td>null</td><td>null</td><td>null</td><td>null</td><td>null</td><td>null</td><td>null</td><td>null</td><td>null</td><td>null</td><td>null</td><td>null</td><td>null</td><td>null</td><td>null</td><td>null</td><td>null</td><td>null</td><td>null</td><td>null</td><td>null</td><td>null</td></tr><tr><td>Mikes Taco Club</td><td>California</td><td>3/23/2016</td><td>Ocean Beach</td><td>5060 Newport Ave</td><td>http://www.mikestacoclub.com/menu/</td><td>4.5</td><td>4.9</td><td>null</td><td>8.59</td><td>2.5</td><td>null</td><td>null</td><td>null</td><td>null</td><td>null</td><td>4.0</td><td>4.5</td><td>3.5</td><td>5.0</td><td>2.5</td><td>2.0</td><td>4.0</td><td>4.5</td><td>4.0</td><td>4.3</td><td>null</td><td>Scott</td><td>null</td><td>null</td><td>null</td><td>x</td><td>x</td><td>x</td><td>x</td><td>x</td><td>x</td><td>null</td><td>null</td><td>null</td><td>null</td><td>null</td><td>null</td><td>null</td><td>null</td><td>null</td><td>null</td><td>null</td><td>null</td><td>null</td><td>null</td><td>null</td><td>null</td><td>null</td><td>null</td><td>null</td><td>null</td><td>null</td><td>null</td><td>null</td><td>null</td><td>null</td><td>null</td><td>null</td><td>null</td><td>null</td></tr><tr><td>Mikes Taco Club</td><td>California</td><td>3/23/2016</td><td>null</td><td>null</td><td>null</td><td>null</td><td>null</td><td>null</td><td>8.59</td><td>3.5</td><td>null</td><td>null</td><td>null</td><td>null</td><td>null</td><td>4.5</td><td>4.5</td><td>4.0</td><td>4.5</td><td>4.0</td><td>4.0</td><td>4.0</td><td>4.5</td><td>5.0</td><td>4.5</td><td>null</td><td>Brad</td><td>null</td><td>null</td><td>null</td><td>x</td><td>x</td><td>x</td><td>x</td><td>x</td><td>x</td><td>null</td><td>null</td><td>null</td><td>null</td><td>null</td><td>null</td><td>null</td><td>null</td><td>null</td><td>null</td><td>null</td><td>null</td><td>null</td><td>null</td><td>null</td><td>null</td><td>null</td><td>null</td><td>null</td><td>null</td><td>null</td><td>null</td><td>null</td><td>null</td><td>null</td><td>null</td><td>null</td><td>null</td><td>null</td></tr><tr><td>La Perla Cocina</td><td>Addiction</td><td>3/30/2016</td><td>Pacific Beach</td><td>745 Emerald St</td><td>https://www.yelp.com/biz/la-perla-cocina-mexicana-san-diego</td><td>4.5</td><td>4.7</td><td>null</td><td>7.99</td><td>3.5</td><td>null</td><td>null</td><td>null</td><td>null</td><td>null</td><td>4.0</td><td>4.0</td><td>2.0</td><td>3.0</td><td>1.5</td><td>3.0</td><td>2.5</td><td>1.0</td><td>3.0</td><td>2.5</td><td>null</td><td>Scott</td><td>Bland</td><td>null</td><td>null</td><td>x</td><td>x</td><td>x</td><td>null</td><td>null</td><td>null</td><td>null</td><td>null</td><td>null</td><td>null</td><td>null</td><td>x</td><td>null</td><td>null</td><td>null</td><td>null</td><td>null</td><td>null</td><td>null</td><td>null</td><td>null</td><td>null</td><td>null</td><td>null</td><td>null</td><td>null</td><td>null</td><td>null</td><td>null</td><td>x</td><td>null</td><td>null</td><td>null</td><td>null</td><td>null</td></tr><tr><td>La Perla Cocina</td><td>Oaxacalifornia</td><td>3/30/2016</td><td>null</td><td>null</td><td>null</td><td>null</td><td>null</td><td>null</td><td>9.99</td><td>3.0</td><td>null</td><td>null</td><td>null</td><td>null</td><td>null</td><td>4.0</td><td>4.5</td><td>3.5</td><td>4.0</td><td>3.0</td><td>2.0</td><td>2.5</td><td>3.5</td><td>4.0</td><td>4.0</td><td>null</td><td>Emily</td><td>Fries are good</td><td>null</td><td>null</td><td>x</td><td>x</td><td>x</td><td>x</td><td>x</td><td>null</td><td>null</td><td>null</td><td>null</td><td>null</td><td>null</td><td>null</td><td>null</td><td>null</td><td>null</td><td>null</td><td>null</td><td>null</td><td>null</td><td>null</td><td>null</td><td>null</td><td>null</td><td>null</td><td>null</td><td>null</td><td>null</td><td>null</td><td>null</td><td>null</td><td>null</td><td>null</td><td>null</td><td>null</td><td>null</td></tr><tr><td>Porkyland </td><td>Deborah's special</td><td>4/2/2016</td><td>Carmel Valley</td><td>4645 Carmel Mountain Rd</td><td>http://goporkyland.com/</td><td>4.0</td><td>4.4</td><td>x</td><td>8.25</td><td>3.5</td><td>null</td><td>null</td><td>null</td><td>null</td><td>null</td><td>4.0</td><td>4.5</td><td>3.5</td><td>2.5</td><td>4.5</td><td>4.5</td><td>4.0</td><td>3.5</td><td>5.0</td><td>4.0</td><td>null</td><td>Scott</td><td>null</td><td>null</td><td>null</td><td>x</td><td>null</td><td>null</td><td>null</td><td>null</td><td>null</td><td>null</td><td>null</td><td>null</td><td>null</td><td>null</td><td>null</td><td>null</td><td>null</td><td>null</td><td>null</td><td>null</td><td>null</td><td>null</td><td>null</td><td>null</td><td>null</td><td>null</td><td>null</td><td>null</td><td>x</td><td>null</td><td>null</td><td>null</td><td>null</td><td>null</td><td>null</td><td>null</td><td>null</td><td>null</td></tr><tr><td>Porkyland </td><td>Chicken nopalito</td><td>4/2/2016</td><td>null</td><td>null</td><td>null</td><td>null</td><td>null</td><td>null</td><td>7.95</td><td>2.5</td><td>null</td><td>null</td><td>null</td><td>null</td><td>null</td><td>2.5</td><td>2.5</td><td>4.0</td><td>3.5</td><td>3.0</td><td>2.5</td><td>3.0</td><td>3.0</td><td>5.0</td><td>3.3</td><td>null</td><td>Emily</td><td>null</td><td>null</td><td>null</td><td>null</td><td>null</td><td>x</td><td>null</td><td>null</td><td>null</td><td>null</td><td>x</td><td>null</td><td>null</td><td>null</td><td>null</td><td>null</td><td>null</td><td>null</td><td>null</td><td>null</td><td>x</td><td>null</td><td>null</td><td>null</td><td>null</td><td>null</td><td>null</td><td>null</td><td>x</td><td>null</td><td>null</td><td>null</td><td>null</td><td>null</td><td>null</td><td>null</td><td>null</td><td>null</td></tr><tr><td>Porkyland </td><td>Chicken nopalito</td><td>4/2/2016</td><td>null</td><td>null</td><td>null</td><td>null</td><td>null</td><td>null</td><td>7.95</td><td>2.0</td><td>null</td><td>null</td><td>null</td><td>null</td><td>null</td><td>4.0</td><td>5.0</td><td>4.0</td><td>4.0</td><td>3.0</td><td>5.0</td><td>3.0</td><td>3.0</td><td>5.0</td><td>4.0</td><td>null</td><td>Tara</td><td>null</td><td>null</td><td>null</td><td>null</td><td>null</td><td>x</td><td>null</td><td>null</td><td>null</td><td>null</td><td>x</td><td>null</td><td>null</td><td>null</td><td>null</td><td>null</td><td>null</td><td>null</td><td>null</td><td>null</td><td>x</td><td>null</td><td>null</td><td>null</td><td>null</td><td>null</td><td>null</td><td>null</td><td>x</td><td>null</td><td>null</td><td>null</td><td>null</td><td>null</td><td>null</td><td>null</td><td>null</td><td>null</td></tr><tr><td>Porkyland </td><td>California</td><td>4/2/2016</td><td>null</td><td>null</td><td>null</td><td>null</td><td>null</td><td>null</td><td>8.75</td><td>3.0</td><td>null</td><td>null</td><td>null</td><td>null</td><td>null</td><td>4.0</td><td>5.0</td><td>3.0</td><td>5.0</td><td>3.0</td><td>2.0</td><td>4.0</td><td>3.0</td><td>5.0</td><td>4.0</td><td>null</td><td>Andy</td><td>null</td><td>null</td><td>null</td><td>x</td><td>null</td><td>x</td><td>x</td><td>x</td><td>x</td><td>null</td><td>null</td><td>null</td><td>null</td><td>null</td><td>null</td><td>null</td><td>null</td><td>null</td><td>null</td><td>null</td><td>null</td><td>null</td><td>null</td><td>null</td><td>null</td><td>null</td><td>null</td><td>null</td><td>null</td><td>null</td><td>null</td><td>null</td><td>null</td><td>null</td><td>null</td><td>null</td><td>null</td><td>null</td></tr><tr><td>Rigoberto's Taco Shop</td><td>California </td><td>4/3/2016</td><td>null</td><td>null</td><td>null</td><td>null</td><td>null</td><td>null</td><td>6.6</td><td>3.0</td><td>null</td><td>null</td><td>null</td><td>null</td><td>null</td><td>3.0</td><td>4.5</td><td>4.0</td><td>4.5</td><td>4.0</td><td>4.5</td><td>4.5</td><td>5.0</td><td>4.5</td><td>4.5</td><td>null</td><td>Scott</td><td>null</td><td>null</td><td>null</td><td>x</td><td>null</td><td>null</td><td>x</td><td>x</td><td>null</td><td>null</td><td>null</td><td>null</td><td>null</td><td>null</td><td>null</td><td>null</td><td>null</td><td>null</td><td>null</td><td>null</td><td>x</td><td>null</td><td>null</td><td>null</td><td>null</td><td>null</td><td>null</td><td>null</td><td>null</td><td>null</td><td>null</td><td>null</td><td>null</td><td>null</td><td>null</td><td>null</td><td>null</td><td>null</td></tr><tr><td>Rigoberto's Taco Shop</td><td>Adobada</td><td>4/3/2016</td><td>null</td><td>null</td><td>null</td><td>null</td><td>null</td><td>null</td><td>6.6</td><td>3.0</td><td>null</td><td>null</td><td>null</td><td>null</td><td>null</td><td>4.0</td><td>5.0</td><td>5.0</td><td>5.0</td><td>5.0</td><td>4.0</td><td>null</td><td>4.5</td><td>5.0</td><td>4.5</td><td>null</td><td>Tara</td><td>null</td><td>null</td><td>null</td><td>null</td><td>null</td><td>x</td><td>null</td><td>null</td><td>null</td><td>x</td><td>null</td><td>null</td><td>null</td><td>null</td><td>null</td><td>null</td><td>null</td><td>null</td><td>null</td><td>null</td><td>null</td><td>null</td><td>null</td><td>null</td><td>null</td><td>null</td><td>null</td><td>null</td><td>null</td><td>null</td><td>null</td><td>null</td><td>null</td><td>null</td><td>null</td><td>null</td><td>null</td><td>null</td></tr><tr><td>Rigoberto's Taco Shop</td><td>California</td><td>4/7/2016</td><td>null</td><td>null</td><td>null</td><td>null</td><td>null</td><td>null</td><td>6.6</td><td>3.0</td><td>null</td><td>null</td><td>null</td><td>null</td><td>null</td><td>3.0</td><td>5.0</td><td>3.5</td><td>3.0</td><td>4.5</td><td>2.5</td><td>3.0</td><td>4.0</td><td>4.0</td><td>3.6</td><td>null</td><td>Scott</td><td>Too much enchilada sauce this time</td><td>null</td><td>null</td><td>x</td><td>null</td><td>null</td><td>x</td><td>x</td><td>null</td><td>null</td><td>null</td><td>null</td><td>null</td><td>null</td><td>null</td><td>null</td><td>null</td><td>null</td><td>null</td><td>null</td><td>x</td><td>null</td><td>null</td><td>null</td><td>null</td><td>null</td><td>null</td><td>null</td><td>null</td><td>null</td><td>null</td><td>null</td><td>null</td><td>null</td><td>null</td><td>null</td><td>null</td><td>null</td></tr><tr><td>Rigoberto's Taco Shop</td><td>Surf & Turf</td><td>4/7/2016</td><td>null</td><td>null</td><td>null</td><td>null</td><td>null</td><td>null</td><td>7.45</td><td>3.5</td><td>null</td><td>null</td><td>null</td><td>null</td><td>null</td><td>3.0</td><td>5.0</td><td>3.5</td><td>2.5</td><td>3.0</td><td>2.5</td><td>3.75</td><td>3.0</td><td>4.0</td><td>3.0</td><td>null</td><td>Bankole</td><td>Would have enjoyed it more if wasn't rating; shrimp better than meat. Quality of the shrimp really improves the burrito. Well cooked and fresh. Shrimp could have had more flavor</td><td>null</td><td>null</td><td>x</td><td>null</td><td>null</td><td>x</td><td>null</td><td>null</td><td>null</td><td>null</td><td>x</td><td>null</td><td>x</td><td>null</td><td>null</td><td>null</td><td>null</td><td>null</td><td>null</td><td>null</td><td>null</td><td>null</td><td>null</td><td>null</td><td>null</td><td>null</td><td>null</td><td>null</td><td>null</td><td>null</td><td>null</td><td>null</td><td>null</td><td>null</td><td>null</td><td>null</td><td>null</td></tr><tr><td>Rudy's Taco Shop</td><td>Chicken</td><td>4/9/2016</td><td>Solana Beach</td><td>524 Stevens Ave</td><td>http://www.rudystacoshop.com/</td><td>4.0</td><td>4.3</td><td>null</td><td>6.6</td><td>3.5</td><td>null</td><td>null</td><td>null</td><td>null</td><td>null</td><td>3.5</td><td>3.0</td><td>4.0</td><td>4.5</td><td>3.0</td><td>1.0</td><td>3.0</td><td>4.0</td><td>0.5</td><td>2.8</td><td>No</td><td>Scott</td><td>Salsa Fresca is good, way too small</td><td>null</td><td>null</td><td>null</td><td>X</td><td>X</td><td>null</td><td>null</td><td>null</td><td>null</td><td>X</td><td>null</td><td>null</td><td>null</td><td>null</td><td>null</td><td>null</td><td>null</td><td>null</td><td>null</td><td>null</td><td>null</td><td>null</td><td>null</td><td>null</td><td>null</td><td>null</td><td>null</td><td>null</td><td>null</td><td>null</td><td>null</td><td>null</td><td>null</td><td>null</td><td>null</td><td>null</td><td>null</td></tr><tr><td>Rudy's Taco Shop</td><td>Carnitas</td><td>4/9/2016</td><td>null</td><td>null</td><td>null</td><td>null</td><td>null</td><td>null</td><td>6.6</td><td>3.0</td><td>null</td><td>null</td><td>null</td><td>null</td><td>null</td><td>3.0</td><td>2.5</td><td>3.0</td><td>4.0</td><td>2.0</td><td>1.0</td><td>3.0</td><td>3.0</td><td>5.0</td><td>3.0</td><td>No</td><td>Emily</td><td>null</td><td>null</td><td>null</td><td>null</td><td>X</td><td>X</td><td>null</td><td>null</td><td>null</td><td>X</td><td>null</td><td>null</td><td>null</td><td>null</td><td>null</td><td>null</td><td>null</td><td>null</td><td>null</td><td>null</td><td>null</td><td>null</td><td>null</td><td>null</td><td>null</td><td>null</td><td>null</td><td>null</td><td>null</td><td>null</td><td>null</td><td>null</td><td>null</td><td>null</td><td>null</td><td>null</td><td>null</td><td>null</td></tr><tr><td>Taco stand</td><td>Carne asada</td><td>4/14/2016</td><td>null</td><td>null</td><td>null</td><td>null</td><td>null</td><td>null</td><td>7.89</td><td>3.5</td><td>null</td><td>null</td><td>null</td><td>null</td><td>null</td><td>3.0</td><td>2.0</td><td>4.5</td><td>4.0</td><td>4.0</td><td>1.5</td><td>4.5</td><td>4.5</td><td>4.5</td><td>4.4</td><td>Yes</td><td>Scott</td><td>Too small </td><td>null</td><td>null</td><td>X</td><td>X</td><td>X</td><td>null</td><td>null</td><td>null</td><td>null</td><td>null</td><td>null</td><td>null</td><td>null</td><td>null</td><td>null</td><td>null</td><td>null</td><td>null</td><td>null</td><td>null</td><td>null</td><td>null</td><td>null</td><td>null</td><td>null</td><td>null</td><td>null</td><td>null</td><td>null</td><td>null</td><td>null</td><td>null</td><td>null</td><td>null</td><td>null</td><td>null</td><td>null</td></tr><tr><td>Taco stand</td><td>Carne asada</td><td>4/14/2016</td><td>null</td><td>null</td><td>null</td><td>null</td><td>null</td><td>null</td><td>7.89</td><td>2.0</td><td>null</td><td>null</td><td>null</td><td>null</td><td>null</td><td>3.0</td><td>2.5</td><td>4.5</td><td>3.5</td><td>4.5</td><td>3.0</td><td>4.0</td><td>3.5</td><td>5.0</td><td>3.5</td><td>Yes</td><td>Richard</td><td>A little small. No rice and beans or cheese or sour cream</td><td>null</td><td>null</td><td>x</td><td>x</td><td>x</td><td>null</td><td>null</td><td>null</td><td>null</td><td>null</td><td>null</td><td>null</td><td>null</td><td>null</td><td>null</td><td>null</td><td>null</td><td>null</td><td>null</td><td>null</td><td>null</td><td>null</td><td>null</td><td>null</td><td>null</td><td>null</td><td>null</td><td>null</td><td>null</td><td>null</td><td>null</td><td>null</td><td>null</td><td>null</td><td>null</td><td>null</td><td>null</td></tr><tr><td>California Burritos</td><td>California Everything</td><td>4/15/2016</td><td>Linda Vista</td><td>7754 Starling Dr</td><td>https://www.yelp.com/biz/california-burritos-san-diego</td><td>4.5</td><td>4.4</td><td>x</td><td>6.25</td><td>4.0</td><td>null</td><td>null</td><td>null</td><td>null</td><td>null</td><td>4.5</td><td>4.5</td><td>2.5</td><td>3.5</td><td>3.5</td><td>3.5</td><td>3.0</td><td>4.0</td><td>5.0</td><td>4.1</td><td>Yes</td><td>Scott</td><td>null</td><td>null</td><td>null</td><td>x</td><td>x</td><td>x</td><td>x</td><td>x</td><td>x</td><td>null</td><td>null</td><td>null</td><td>null</td><td>null</td><td>null</td><td>null</td><td>null</td><td>null</td><td>null</td><td>null</td><td>null</td><td>null</td><td>null</td><td>null</td><td>null</td><td>null</td><td>null</td><td>null</td><td>null</td><td>null</td><td>null</td><td>null</td><td>null</td><td>null</td><td>null</td><td>null</td><td>null</td><td>null</td></tr><tr><td>California Burritos</td><td>California Everything</td><td>4/15/2016</td><td>null</td><td>null</td><td>null</td><td>null</td><td>null</td><td>null</td><td>6.25</td><td>3.5</td><td>null</td><td>null</td><td>null</td><td>null</td><td>null</td><td>4.0</td><td>4.0</td><td>4.0</td><td>2.5</td><td>3.0</td><td>3.5</td><td>4.0</td><td>4.0</td><td>5.0</td><td>4.0</td><td>No</td><td>Brent</td><td>Brent doesn't like fries in his burrito</td><td>null</td><td>null</td><td>x</td><td>x</td><td>x</td><td>x</td><td>x</td><td>x</td><td>null</td><td>null</td><td>null</td><td>null</td><td>null</td><td>null</td><td>null</td><td>null</td><td>null</td><td>null</td><td>null</td><td>null</td><td>null</td><td>null</td><td>null</td><td>null</td><td>null</td><td>null</td><td>null</td><td>null</td><td>null</td><td>null</td><td>null</td><td>null</td><td>null</td><td>null</td><td>null</td><td>null</td><td>null</td></tr><tr><td>California Burritos</td><td>California Everything</td><td>4/15/2016</td><td>null</td><td>null</td><td>null</td><td>null</td><td>null</td><td>null</td><td>6.25</td><td>4.0</td><td>null</td><td>null</td><td>null</td><td>null</td><td>null</td><td>4.0</td><td>4.5</td><td>4.5</td><td>5.0</td><td>5.0</td><td>5.0</td><td>4.5</td><td>5.0</td><td>5.0</td><td>4.6</td><td>Yes</td><td>Luis</td><td>null</td><td>null</td><td>null</td><td>x</td><td>x</td><td>x</td><td>x</td><td>x</td><td>x</td><td>null</td><td>null</td><td>null</td><td>null</td><td>null</td><td>null</td><td>null</td><td>null</td><td>null</td><td>null</td><td>null</td><td>null</td><td>null</td><td>null</td><td>null</td><td>null</td><td>null</td><td>null</td><td>null</td><td>null</td><td>null</td><td>null</td><td>null</td><td>null</td><td>null</td><td>null</td><td>null</td><td>null</td><td>null</td></tr><tr><td>California Burritos</td><td>Chile relleno and carnitas</td><td>4/15/2016</td><td>null</td><td>null</td><td>null</td><td>null</td><td>null</td><td>null</td><td>6.5</td><td>5.0</td><td>null</td><td>null</td><td>null</td><td>null</td><td>null</td><td>4.5</td><td>5.0</td><td>5.0</td><td>5.0</td><td>5.0</td><td>4.0</td><td>4.0</td><td>5.0</td><td>5.0</td><td>4.7</td><td>Yes</td><td>Karl</td><td>null</td><td>x</td><td>null</td><td>null</td><td>x</td><td>null</td><td>x</td><td>null</td><td>x</td><td>x</td><td>null</td><td>null</td><td>null</td><td>x</td><td>null</td><td>null</td><td>null</td><td>null</td><td>null</td><td>null</td><td>null</td><td>null</td><td>null</td><td>null</td><td>null</td><td>null</td><td>null</td><td>x</td><td>null</td><td>null</td><td>null</td><td>null</td><td>null</td><td>null</td><td>null</td><td>null</td><td>null</td><td>null</td></tr><tr><td>California Burritos</td><td>California (only cheese)</td><td>4/15/2016</td><td>null</td><td>null</td><td>null</td><td>null</td><td>null</td><td>null</td><td>6.25</td><td>2.0</td><td>null</td><td>null</td><td>null</td><td>null</td><td>null</td><td>5.0</td><td>5.0</td><td>5.0</td><td>4.0</td><td>4.0</td><td>2.0</td><td>null</td><td>5.0</td><td>5.0</td><td>5.0</td><td>Yes</td><td>Kalen</td><td>null</td><td>x</td><td>null</td><td>x</td><td>null</td><td>null</td><td>x</td><td>x</td><td>null</td><td>null</td><td>null</td><td>null</td><td>null</td><td>null</td><td>null</td><td>null</td><td>null</td><td>null</td><td>null</td><td>null</td><td>null</td><td>null</td><td>null</td><td>null</td><td>null</td><td>null</td><td>null</td><td>null</td><td>null</td><td>null</td><td>null</td><td>null</td><td>null</td><td>null</td><td>null</td><td>null</td><td>null</td><td>null</td></tr><tr><td>Vallarta express</td><td>Fish</td><td>4/15/2016</td><td>null</td><td>null</td><td>null</td><td>null</td><td>null</td><td>null</td><td>6.5</td><td>2.5</td><td>null</td><td>null</td><td>null</td><td>null</td><td>null</td><td>3.0</td><td>null</td><td>3.5</td><td>4.0</td><td>4.0</td><td>3.0</td><td>null</td><td>4.0</td><td>1.5</td><td>3.5</td><td>null</td><td>Erin</td><td>null</td><td>null</td><td>null</td><td>null</td><td>null</td><td>null</td><td>null</td><td>null</td><td>null</td><td>null</td><td>null</td><td>null</td><td>null</td><td>null</td><td>null</td><td>null</td><td>null</td><td>null</td><td>null</td><td>null</td><td>null</td><td>null</td><td>null</td><td>null</td><td>null</td><td>null</td><td>null</td><td>null</td><td>null</td><td>null</td><td>null</td><td>null</td><td>null</td><td>null</td><td>null</td><td>null</td><td>null</td><td>null</td></tr><tr><td>Vallarta express</td><td>California</td><td>4/15/2016</td><td>null</td><td>null</td><td>null</td><td>null</td><td>null</td><td>null</td><td>6.65</td><td>3.5</td><td>null</td><td>null</td><td>null</td><td>null</td><td>null</td><td>3.5</td><td>null</td><td>3.5</td><td>3.5</td><td>4.5</td><td>3.5</td><td>3.5</td><td>4.0</td><td>4.0</td><td>4.0</td><td>null</td><td>Ricardo</td><td>null</td><td>null</td><td>null</td><td>null</td><td>null</td><td>null</td><td>null</td><td>null</td><td>null</td><td>null</td><td>null</td><td>null</td><td>null</td><td>null</td><td>null</td><td>null</td><td>null</td><td>null</td><td>null</td><td>null</td><td>null</td><td>null</td><td>null</td><td>null</td><td>null</td><td>null</td><td>null</td><td>null</td><td>null</td><td>null</td><td>null</td><td>null</td><td>null</td><td>null</td><td>null</td><td>null</td><td>null</td><td>null</td></tr><tr><td>Jorge's Mexicatessen</td><td>California </td><td>4/24/2016</td><td>Encinitas </td><td>267 N El Camino Real</td><td>https://www.yelp.com/biz/jorges-mexicatessen-encinitas</td><td>4.0</td><td>4.5</td><td>null</td><td>5.95</td><td>3.5</td><td>null</td><td>null</td><td>20.0</td><td>22.0</td><td>0.77</td><td>2.5</td><td>2.5</td><td>3.5</td><td>4.0</td><td>3.0</td><td>4.5</td><td>4.0</td><td>4.5</td><td>4.5</td><td>3.8</td><td>Yes</td><td>Scott</td><td>Cheese should be melted, potatoes are very good</td><td>null</td><td>null</td><td>X</td><td>null</td><td>null</td><td>X</td><td>X</td><td>X</td><td>null</td><td>null</td><td>null</td><td>null</td><td>null</td><td>null</td><td>null</td><td>null</td><td>null</td><td>null</td><td>null</td><td>null</td><td>null</td><td>null</td><td>null</td><td>null</td><td>null</td><td>null</td><td>null</td><td>null</td><td>null</td><td>null</td><td>null</td><td>null</td><td>null</td><td>null</td><td>null</td><td>null</td><td>null</td></tr><tr><td>Jorge's Mexicatessen</td><td>Chimichanga beef</td><td>4/24/2016</td><td>null</td><td>null</td><td>null</td><td>null</td><td>null</td><td>null</td><td>5.5</td><td>3.0</td><td>null</td><td>null</td><td>null</td><td>null</td><td>null</td><td>2.0</td><td>4.0</td><td>3.0</td><td>3.0</td><td>3.0</td><td>4.0</td><td>3.5</td><td>3.5</td><td>null</td><td>3.0</td><td>No</td><td>Emily</td><td>null</td><td>null</td><td>null</td><td>X</td><td>X</td><td>X</td><td>X</td><td>null</td><td>X</td><td>null</td><td>null</td><td>null</td><td>null</td><td>X</td><td>X</td><td>null</td><td>null</td><td>null</td><td>null</td><td>null</td><td>X</td><td>null</td><td>null</td><td>null</td><td>null</td><td>null</td><td>null</td><td>null</td><td>null</td><td>null</td><td>null</td><td>null</td><td>null</td><td>null</td><td>null</td><td>null</td><td>null</td><td>null</td></tr><tr><td>Senor Grubby's</td><td>California</td><td>4/24/2016</td><td>Carlsbad</td><td>377 Carlsbad Village Dr</td><td>eatgrubbys.com</td><td>4.0</td><td>4.1</td><td>null</td><td>9.0</td><td>2.0</td><td>null</td><td>null</td><td>19.0</td><td>21.5</td><td>0.7</td><td>2.0</td><td>3.5</td><td>3.0</td><td>1.5</td><td>1.0</td><td>1.0</td><td>2.5</td><td>1.5</td><td>3.5</td><td>1.5</td><td>No</td><td>Scott</td><td>The ends of the burrito were decent, but the middle was terrible without much meat</td><td>null</td><td>null</td><td>x</td><td>x</td><td>null</td><td>x</td><td>x</td><td>null</td><td>null</td><td>null</td><td>null</td><td>null</td><td>null</td><td>null</td><td>null</td><td>null</td><td>null</td><td>null</td><td>null</td><td>null</td><td>null</td><td>null</td><td>null</td><td>null</td><td>null</td><td>null</td><td>null</td><td>null</td><td>null</td><td>null</td><td>null</td><td>null</td><td>null</td><td>null</td><td>null</td><td>null</td><td>null</td></tr><tr><td>Senor Grubby's</td><td>Pastor</td><td>4/24/2016</td><td>null</td><td>null</td><td>null</td><td>null</td><td>null</td><td>null</td><td>9.0</td><td>2.0</td><td>null</td><td>null</td><td>18.5</td><td>23.0</td><td>0.78</td><td>2.5</td><td>2.5</td><td>1.5</td><td>2.5</td><td>1.0</td><td>2.0</td><td>2.5</td><td>2.0</td><td>5.0</td><td>1.8</td><td>No</td><td>Emily</td><td>null</td><td>null</td><td>null</td><td>null</td><td>null</td><td>x</td><td>null</td><td>null</td><td>null</td><td>x</td><td>null</td><td>null</td><td>null</td><td>null</td><td>null</td><td>null</td><td>null</td><td>null</td><td>null</td><td>null</td><td>null</td><td>null</td><td>x</td><td>x</td><td>null</td><td>null</td><td>null</td><td>null</td><td>null</td><td>null</td><td>null</td><td>null</td><td>null</td><td>null</td><td>null</td><td>null</td><td>null</td><td>null</td></tr><tr><td>Taco stand</td><td>California</td><td>4/25/2026</td><td>null</td><td>null</td><td>null</td><td>null</td><td>null</td><td>null</td><td>8.0</td><td>4.0</td><td>null</td><td>null</td><td>21.59</td><td>null</td><td>null</td><td>4.5</td><td>5.0</td><td>5.0</td><td>5.0</td><td>4.5</td><td>5.0</td><td>3.0</td><td>5.0</td><td>5.0</td><td>4.9</td><td>Yes</td><td>Sage</td><td>A wonderful eating experience. best California burrito I've ever had by far. </td><td>null</td><td>null</td><td>x</td><td>x</td><td>x</td><td>x</td><td>x</td><td>null</td><td>null</td><td>null</td><td>null</td><td>null</td><td>null</td><td>null</td><td>null</td><td>null</td><td>null</td><td>null</td><td>null</td><td>null</td><td>null</td><td>null</td><td>null</td><td>null</td><td>null</td><td>null</td><td>null</td><td>null</td><td>null</td><td>null</td><td>null</td><td>null</td><td>null</td><td>null</td><td>null</td><td>null</td><td>null</td></tr><tr><td>Mi Asador Mexican & Seafood </td><td>California </td><td>4/27/2016</td><td>Oceanside</td><td>4750 Oceanside Blvd</td><td>https://sites.google.com/site/miasador/</td><td>4.5</td><td>4.4</td><td>x</td><td>6.89</td><td>3.0</td><td>null</td><td>null</td><td>25.0</td><td>22.0</td><td>0.96</td><td>3.0</td><td>2.5</td><td>3.0</td><td>2.5</td><td>2.5</td><td>2.0</td><td>3.5</td><td>3.0</td><td>4.0</td><td>3.0</td><td>No</td><td>Scott</td><td>null</td><td>null</td><td>null</td><td>X</td><td>null</td><td>X</td><td>x</td><td>X</td><td>X</td><td>null</td><td>null</td><td>null</td><td>null</td><td>null</td><td>null</td><td>null</td><td>null</td><td>null</td><td>null</td><td>null</td><td>null</td><td>null</td><td>null</td><td>null</td><td>null</td><td>null</td><td>null</td><td>null</td><td>null</td><td>null</td><td>null</td><td>null</td><td>null</td><td>null</td><td>null</td><td>null</td><td>null</td><td>null</td></tr><tr><td>Mi Asador Mexican & Seafood </td><td>El Hawaiiano </td><td>4/27/2016</td><td>null</td><td>null</td><td>null</td><td>null</td><td>null</td><td>null</td><td>6.39</td><td>3.0</td><td>null</td><td>null</td><td>23.0</td><td>22.5</td><td>0.93</td><td>4.0</td><td>3.0</td><td>2.5</td><td>3.5</td><td>3.0</td><td>3.0</td><td>3.5</td><td>4.0</td><td>3.5</td><td>3.5</td><td>Yes</td><td>Emily</td><td>Pineapple is really good</td><td>null</td><td>null</td><td>X</td><td>null</td><td>X</td><td>X</td><td>null</td><td>X</td><td>null</td><td>null</td><td>null</td><td>null</td><td>null</td><td>null</td><td>null</td><td>null</td><td>null</td><td>null</td><td>null</td><td>null</td><td>null</td><td>null</td><td>null</td><td>null</td><td>X</td><td>null</td><td>null</td><td>null</td><td>null</td><td>null</td><td>null</td><td>null</td><td>null</td><td>null</td><td>null</td><td>null</td><td>null</td></tr><tr><td>Sotos Mexican Food</td><td>California</td><td>5/4/2016</td><td>Miramar </td><td>6904 Miramar Rd</td><td>https://www.yelp.com/biz/sotos-mexican-food-san-diego</td><td>4.5</td><td>4.6</td><td>x</td><td>6.75</td><td>3.0</td><td>null</td><td>null</td><td>22.5</td><td>23.0</td><td>0.95</td><td>4.5</td><td>4.0</td><td>3.0</td><td>4.0</td><td>1.0</td><td>3.0</td><td>4.5</td><td>3.5</td><td>4.5</td><td>3.5</td><td>Yes</td><td>Scott</td><td>Fries are good. Too little meat</td><td>null</td><td>null</td><td>X</td><td>null</td><td>X</td><td>X</td><td>X</td><td>X</td><td>null</td><td>null</td><td>null</td><td>null</td><td>null</td><td>null</td><td>null</td><td>null</td><td>null</td><td>null</td><td>null</td><td>null</td><td>null</td><td>null</td><td>null</td><td>null</td><td>null</td><td>null</td><td>null</td><td>null</td><td>null</td><td>null</td><td>null</td><td>null</td><td>null</td><td>null</td><td>null</td><td>null</td><td>null</td></tr><tr><td>Sotos Mexican Food</td><td>Pastor</td><td>5/4/2016</td><td>null</td><td>null</td><td>null</td><td>null</td><td>null</td><td>null</td><td>5.99</td><td>2.0</td><td>null</td><td>null</td><td>21.0</td><td>22.0</td><td>0.81</td><td>4.0</td><td>2.0</td><td>2.5</td><td>4.0</td><td>4.0</td><td>3.0</td><td>3.5</td><td>4.0</td><td>5.0</td><td>3.2</td><td>No</td><td>Emily</td><td>Free lime. Ingredients chopped finely</td><td>null</td><td>null</td><td>null</td><td>null</td><td>X</td><td>null</td><td>null</td><td>null</td><td>X</td><td>null</td><td>null</td><td>null</td><td>null</td><td>null</td><td>null</td><td>null</td><td>null</td><td>null</td><td>null</td><td>null</td><td>null</td><td>X</td><td>X</td><td>null</td><td>null</td><td>null</td><td>null</td><td>null</td><td>null</td><td>null</td><td>null</td><td>null</td><td>null</td><td>null</td><td>null</td><td>null</td><td>null</td></tr><tr><td>Taco stand</td><td>California</td><td>5/6/2016</td><td>null</td><td>null</td><td>null</td><td>null</td><td>null</td><td>null</td><td>7.49</td><td>3.5</td><td>null</td><td>null</td><td>19.0</td><td>22.0</td><td>0.73</td><td>3.5</td><td>4.0</td><td>4.0</td><td>4.0</td><td>3.5</td><td>3.0</td><td>4.0</td><td>4.5</td><td>3.0</td><td>4.2</td><td>Yes</td><td>Scott</td><td>Less meat than usual</td><td>null</td><td>null</td><td>x</td><td>x</td><td>x</td><td>x</td><td>x</td><td>x</td><td>null</td><td>null</td><td>null</td><td>null</td><td>null</td><td>null</td><td>null</td><td>null</td><td>null</td><td>null</td><td>null</td><td>null</td><td>null</td><td>null</td><td>null</td><td>null</td><td>null</td><td>null</td><td>null</td><td>null</td><td>null</td><td>null</td><td>null</td><td>null</td><td>null</td><td>null</td><td>null</td><td>null</td><td>null</td></tr><tr><td>Taco stand</td><td>California</td><td>5/6/2016</td><td>null</td><td>null</td><td>null</td><td>null</td><td>null</td><td>null</td><td>7.49</td><td>4.0</td><td>null</td><td>null</td><td>16.5</td><td>25.0</td><td>0.82</td><td>4.0</td><td>3.5</td><td>4.0</td><td>4.0</td><td>4.5</td><td>5.0</td><td>4.5</td><td>5.0</td><td>4.5</td><td>4.5</td><td>Yes</td><td>Ricardo</td><td>null</td><td>null</td><td>null</td><td>x</td><td>x</td><td>x</td><td>x</td><td>x</td><td>x</td><td>null</td><td>null</td><td>null</td><td>null</td><td>null</td><td>null</td><td>null</td><td>null</td><td>null</td><td>null</td><td>null</td><td>null</td><td>null</td><td>null</td><td>null</td><td>null</td><td>null</td><td>null</td><td>null</td><td>null</td><td>null</td><td>null</td><td>null</td><td>null</td><td>null</td><td>null</td><td>null</td><td>null</td><td>null</td></tr><tr><td>Taco stand</td><td>California</td><td>5/6/2016</td><td>null</td><td>null</td><td>null</td><td>null</td><td>null</td><td>null</td><td>7.49</td><td>4.0</td><td>null</td><td>null</td><td>17.0</td><td>25.5</td><td>0.88</td><td>3.0</td><td>3.0</td><td>4.0</td><td>3.5</td><td>3.5</td><td>4.0</td><td>3.5</td><td>4.0</td><td>2.5</td><td>3.7</td><td>Yes</td><td>Luis</td><td>null</td><td>null</td><td>null</td><td>x</td><td>x</td><td>x</td><td>x</td><td>x</td><td>x</td><td>null</td><td>null</td><td>null</td><td>null</td><td>null</td><td>null</td><td>null</td><td>null</td><td>null</td><td>null</td><td>null</td><td>null</td><td>null</td><td>null</td><td>null</td><td>null</td><td>null</td><td>null</td><td>null</td><td>null</td><td>null</td><td>null</td><td>null</td><td>null</td><td>null</td><td>null</td><td>null</td><td>null</td><td>null</td></tr><tr><td>Taco stand</td><td>California</td><td>5/6/2016</td><td>null</td><td>null</td><td>null</td><td>null</td><td>null</td><td>null</td><td>7.49</td><td>3.0</td><td>null</td><td>null</td><td>17.7</td><td>21.5</td><td>0.65</td><td>4.0</td><td>2.0</td><td>5.0</td><td>5.0</td><td>1.0</td><td>3.0</td><td>5.0</td><td>4.0</td><td>3.0</td><td>4.0</td><td>Yes</td><td>Elynn</td><td>null</td><td>null</td><td>null</td><td>x</td><td>x</td><td>x</td><td>x</td><td>x</td><td>x</td><td>null</td><td>null</td><td>null</td><td>null</td><td>null</td><td>null</td><td>null</td><td>null</td><td>null</td><td>null</td><td>null</td><td>null</td><td>null</td><td>null</td><td>null</td><td>null</td><td>null</td><td>null</td><td>null</td><td>null</td><td>null</td><td>null</td><td>null</td><td>null</td><td>null</td><td>null</td><td>null</td><td>null</td><td>null</td></tr><tr><td>Taco stand</td><td>California</td><td>5/6/2016</td><td>null</td><td>null</td><td>null</td><td>null</td><td>null</td><td>null</td><td>7.49</td><td>1.0</td><td>null</td><td>null</td><td>20.0</td><td>23.5</td><td>0.88</td><td>4.0</td><td>3.0</td><td>4.0</td><td>4.5</td><td>5.0</td><td>4.5</td><td>3.0</td><td>4.5</td><td>4.0</td><td>4.0</td><td>Yes</td><td>Sandra</td><td>null</td><td>null</td><td>null</td><td>x</td><td>x</td><td>x</td><td>x</td><td>x</td><td>x</td><td>null</td><td>null</td><td>null</td><td>null</td><td>null</td><td>null</td><td>null</td><td>null</td><td>null</td><td>null</td><td>null</td><td>null</td><td>null</td><td>null</td><td>null</td><td>null</td><td>null</td><td>null</td><td>null</td><td>null</td><td>null</td><td>null</td><td>null</td><td>null</td><td>null</td><td>null</td><td>null</td><td>null</td><td>null</td></tr><tr><td>Taco stand</td><td>Carne asada</td><td>5/6/2016</td><td>null</td><td>null</td><td>null</td><td>null</td><td>null</td><td>null</td><td>7.89</td><td>4.0</td><td>null</td><td>null</td><td>18.0</td><td>25.0</td><td>0.9</td><td>4.0</td><td>2.0</td><td>4.0</td><td>3.0</td><td>4.0</td><td>4.0</td><td>4.0</td><td>3.5</td><td>4.0</td><td>3.5</td><td>Yes</td><td>Brent</td><td>null</td><td>null</td><td>null</td><td>x</td><td>x</td><td>x</td><td>null</td><td>null</td><td>null</td><td>null</td><td>null</td><td>null</td><td>null</td><td>null</td><td>null</td><td>null</td><td>null</td><td>null</td><td>null</td><td>null</td><td>null</td><td>null</td><td>null</td><td>null</td><td>null</td><td>null</td><td>null</td><td>null</td><td>null</td><td>null</td><td>null</td><td>null</td><td>null</td><td>null</td><td>null</td><td>null</td><td>null</td><td>null</td></tr><tr><td>Taco stand</td><td>Shrimp</td><td>5/6/2016</td><td>null</td><td>null</td><td>null</td><td>null</td><td>null</td><td>null</td><td>8.95</td><td>5.0</td><td>null</td><td>null</td><td>17.0</td><td>22.0</td><td>0.65</td><td>4.0</td><td>4.0</td><td>5.0</td><td>5.0</td><td>5.0</td><td>4.0</td><td>5.0</td><td>5.0</td><td>5.0</td><td>5.0</td><td>Yes</td><td>Sankeerth</td><td>null</td><td>x</td><td>null</td><td>null</td><td>null</td><td>null</td><td>null</td><td>null</td><td>null</td><td>null</td><td>null</td><td>null</td><td>null</td><td>null</td><td>null</td><td>null</td><td>null</td><td>null</td><td>null</td><td>null</td><td>null</td><td>null</td><td>null</td><td>null</td><td>null</td><td>null</td><td>null</td><td>null</td><td>null</td><td>null</td><td>null</td><td>null</td><td>null</td><td>null</td><td>null</td><td>null</td><td>null</td><td>null</td></tr><tr><td>Vallarta express</td><td>California</td><td>5/9/2016</td><td>null</td><td>null</td><td>null</td><td>null</td><td>null</td><td>null</td><td>6.95</td><td>4.0</td><td>null</td><td>null</td><td>21.0</td><td>23.0</td><td>0.88</td><td>3.0</td><td>3.5</td><td>2.0</td><td>3.5</td><td>3.0</td><td>2.5</td><td>2.5</td><td>2.5</td><td>2.0</td><td>2.9</td><td>No</td><td>Scott</td><td>null</td><td>null</td><td>null</td><td>null</td><td>null</td><td>null</td><td>null</td><td>null</td><td>null</td><td>null</td><td>null</td><td>null</td><td>null</td><td>null</td><td>null</td><td>null</td><td>null</td><td>null</td><td>null</td><td>null</td><td>null</td><td>null</td><td>null</td><td>null</td><td>null</td><td>null</td><td>null</td><td>null</td><td>null</td><td>null</td><td>null</td><td>null</td><td>null</td><td>null</td><td>null</td><td>null</td><td>null</td><td>null</td></tr><tr><td>Lolita's taco shop</td><td>California</td><td>5/12/2016</td><td>null</td><td>null</td><td>null</td><td>null</td><td>null</td><td>null</td><td>7.0</td><td>3.5</td><td>null</td><td>null</td><td>17.5</td><td>24.5</td><td>0.84</td><td>3.0</td><td>5.0</td><td>3.0</td><td>3.5</td><td>3.0</td><td>1.5</td><td>3.0</td><td>3.0</td><td>4.0</td><td>3.3</td><td>No</td><td>Scott</td><td>null</td><td>null</td><td>null</td><td>x</td><td>null</td><td>null</td><td>x</td><td>x</td><td>x</td><td>null</td><td>null</td><td>null</td><td>null</td><td>null</td><td>null</td><td>null</td><td>null</td><td>null</td><td>null</td><td>null</td><td>null</td><td>null</td><td>null</td><td>null</td><td>null</td><td>null</td><td>null</td><td>null</td><td>null</td><td>null</td><td>null</td><td>null</td><td>null</td><td>null</td><td>null</td><td>null</td><td>null</td><td>null</td></tr><tr><td>Lolita's taco shop</td><td>2 in 1</td><td>5/12/2016</td><td>null</td><td>null</td><td>null</td><td>null</td><td>null</td><td>null</td><td>8.75</td><td>3.0</td><td>null</td><td>null</td><td>19.0</td><td>21.5</td><td>0.7</td><td>3.0</td><td>4.0</td><td>2.7</td><td>4.7</td><td>3.0</td><td>2.4</td><td>2.0</td><td>3.7</td><td>4.5</td><td>3.7</td><td>Yes</td><td>Bankole</td><td>null</td><td>null</td><td>null</td><td>x</td><td>null</td><td>x</td><td>x</td><td>null</td><td>null</td><td>null</td><td>null</td><td>null</td><td>null</td><td>null</td><td>null</td><td>null</td><td>null</td><td>null</td><td>null</td><td>null</td><td>null</td><td>null</td><td>null</td><td>null</td><td>x</td><td>null</td><td>null</td><td>null</td><td>null</td><td>null</td><td>null</td><td>null</td><td>null</td><td>null</td><td>null</td><td>null</td><td>null</td><td>null</td></tr><tr><td>Lolita's taco shop</td><td>2 in 1</td><td>5/12/2016</td><td>null</td><td>null</td><td>null</td><td>null</td><td>null</td><td>null</td><td>8.75</td><td>4.0</td><td>null</td><td>null</td><td>17.78</td><td>22.225</td><td>0.7</td><td>4.5</td><td>3.8</td><td>3.8</td><td>4.5</td><td>3.4</td><td>1.5</td><td>3.0</td><td>3.8</td><td>4.0</td><td>3.8</td><td>Yes</td><td>Katie</td><td>null</td><td>null</td><td>null</td><td>x</td><td>null</td><td>x</td><td>x</td><td>null</td><td>null</td><td>null</td><td>null</td><td>null</td><td>null</td><td>null</td><td>null</td><td>null</td><td>null</td><td>null</td><td>null</td><td>null</td><td>null</td><td>null</td><td>null</td><td>null</td><td>x</td><td>null</td><td>null</td><td>null</td><td>null</td><td>null</td><td>null</td><td>null</td><td>null</td><td>null</td><td>null</td><td>null</td><td>null</td><td>null</td></tr><tr><td>Rigoberto's Taco Shop</td><td>El Rusio</td><td>5/13/2016</td><td>null</td><td>null</td><td>null</td><td>null</td><td>null</td><td>null</td><td>6.65</td><td>4.0</td><td>null</td><td>null</td><td>21.5</td><td>23.0</td><td>0.91</td><td>3.0</td><td>4.5</td><td>2.5</td><td>2.0</td><td>3.5</td><td>5.0</td><td>1.5</td><td>2.0</td><td>1.5</td><td>2.5</td><td>No</td><td>Scott</td><td>Fries are terrible. Burrito leaked</td><td>null</td><td>null</td><td>x</td><td>x</td><td>null</td><td>x</td><td>x</td><td>null</td><td>null</td><td>null</td><td>null</td><td>null</td><td>null</td><td>null</td><td>null</td><td>null</td><td>null</td><td>null</td><td>null</td><td>null</td><td>null</td><td>null</td><td>null</td><td>null</td><td>null</td><td>null</td><td>null</td><td>null</td><td>null</td><td>null</td><td>null</td><td>null</td><td>null</td><td>null</td><td>null</td><td>null</td><td>null</td></tr><tr><td>Rigoberto's Taco Shop</td><td>Carne asada</td><td>5/13/2016</td><td>null</td><td>null</td><td>null</td><td>null</td><td>null</td><td>null</td><td>6.6</td><td>4.0</td><td>null</td><td>null</td><td>22.0</td><td>22.0</td><td>0.85</td><td>4.0</td><td>3.5</td><td>4.0</td><td>4.0</td><td>3.5</td><td>4.0</td><td>4.0</td><td>4.5</td><td>4.5</td><td>4.0</td><td>Yes</td><td>Ricardo</td><td>null</td><td>null</td><td>null</td><td>x</td><td>x</td><td>x</td><td>null</td><td>null</td><td>null</td><td>null</td><td>null</td><td>null</td><td>null</td><td>null</td><td>null</td><td>null</td><td>null</td><td>null</td><td>null</td><td>null</td><td>null</td><td>null</td><td>null</td><td>null</td><td>null</td><td>null</td><td>null</td><td>null</td><td>null</td><td>null</td><td>null</td><td>null</td><td>null</td><td>null</td><td>null</td><td>null</td><td>null</td><td>null</td></tr><tr><td>Rigoberto's Taco Shop</td><td>Carne asada</td><td>5/13/2016</td><td>null</td><td>null</td><td>null</td><td>null</td><td>null</td><td>null</td><td>6.6</td><td>4.5</td><td>null</td><td>null</td><td>23.0</td><td>22.0</td><td>0.89</td><td>4.0</td><td>3.0</td><td>3.0</td><td>3.0</td><td>3.5</td><td>3.0</td><td>null</td><td>3.5</td><td>4.5</td><td>3.0</td><td>Yes</td><td>Erin</td><td>Meat was too salty</td><td>null</td><td>null</td><td>x</td><td>x</td><td>x</td><td>null</td><td>null</td><td>null</td><td>null</td><td>null</td><td>null</td><td>null</td><td>null</td><td>null</td><td>null</td><td>null</td><td>null</td><td>null</td><td>null</td><td>null</td><td>null</td><td>null</td><td>null</td><td>null</td><td>null</td><td>null</td><td>null</td><td>null</td><td>null</td><td>null</td><td>null</td><td>null</td><td>null</td><td>null</td><td>null</td><td>null</td><td>null</td></tr><tr><td>Rigoberto's Taco Shop</td><td>Carnitas</td><td>5/13/2016</td><td>null</td><td>null</td><td>null</td><td>null</td><td>null</td><td>null</td><td>7.5</td><td>4.0</td><td>null</td><td>null</td><td>23.5</td><td>22.5</td><td>0.95</td><td>4.0</td><td>5.0</td><td>4.0</td><td>5.0</td><td>5.0</td><td>4.0</td><td>5.0</td><td>4.0</td><td>4.0</td><td>4.0</td><td>Yes</td><td>Elynn</td><td>null</td><td>null</td><td>null</td><td>null</td><td>x</td><td>x</td><td>null</td><td>null</td><td>null</td><td>x</td><td>null</td><td>null</td><td>null</td><td>null</td><td>null</td><td>null</td><td>null</td><td>null</td><td>null</td><td>null</td><td>null</td><td>null</td><td>null</td><td>null</td><td>null</td><td>null</td><td>null</td><td>null</td><td>null</td><td>null</td><td>null</td><td>null</td><td>null</td><td>null</td><td>null</td><td>null</td><td>null</td><td>null</td></tr><tr><td>Rigoberto's Taco Shop</td><td>Bacon breakfast</td><td>5/13/2016</td><td>null</td><td>null</td><td>null</td><td>null</td><td>null</td><td>null</td><td>6.25</td><td>3.5</td><td>null</td><td>null</td><td>22.0</td><td>22.0</td><td>0.85</td><td>4.0</td><td>3.5</td><td>4.0</td><td>4.0</td><td>5.0</td><td>5.0</td><td>null</td><td>5.0</td><td>4.5</td><td>4.2</td><td>Yes</td><td>Luis</td><td>null</td><td>null</td><td>null</td><td>null</td><td>null</td><td>null</td><td>x</td><td>x</td><td>null</td><td>null</td><td>null</td><td>null</td><td>null</td><td>null</td><td>null</td><td>null</td><td>null</td><td>null</td><td>null</td><td>null</td><td>null</td><td>null</td><td>null</td><td>null</td><td>null</td><td>null</td><td>null</td><td>null</td><td>null</td><td>null</td><td>null</td><td>x</td><td>null</td><td>x</td><td>null</td><td>null</td><td>null</td><td>null</td></tr><tr><td>Rigoberto's Taco Shop</td><td>Chile Relleno</td><td>5/13/2016</td><td>null</td><td>null</td><td>null</td><td>null</td><td>null</td><td>null</td><td>6.6</td><td>5.0</td><td>null</td><td>null</td><td>23.0</td><td>24.0</td><td>1.05</td><td>5.0</td><td>4.0</td><td>null</td><td>5.0</td><td>5.0</td><td>4.0</td><td>null</td><td>5.0</td><td>3.0</td><td>4.5</td><td>Yes</td><td>Matteo</td><td>null</td><td>x</td><td>null</td><td>null</td><td>null</td><td>null</td><td>x</td><td>null</td><td>x</td><td>null</td><td>null</td><td>null</td><td>null</td><td>null</td><td>null</td><td>x</td><td>null</td><td>null</td><td>null</td><td>null</td><td>x</td><td>null</td><td>null</td><td>null</td><td>null</td><td>null</td><td>null</td><td>x</td><td>null</td><td>null</td><td>null</td><td>null</td><td>null</td><td>null</td><td>null</td><td>null</td><td>null</td><td>null</td></tr><tr><td>Rigoberto's Taco Shop</td><td>Fish</td><td>5/13/2016</td><td>null</td><td>null</td><td>null</td><td>null</td><td>null</td><td>null</td><td>6.0</td><td>2.0</td><td>null</td><td>null</td><td>23.0</td><td>23.5</td><td>1.01</td><td>5.0</td><td>4.5</td><td>5.0</td><td>5.0</td><td>5.0</td><td>5.0</td><td>null</td><td>5.0</td><td>4.0</td><td>5.0</td><td>Yes</td><td>Aga</td><td>null</td><td>x</td><td>null</td><td>null</td><td>null</td><td>null</td><td>null</td><td>null</td><td>null</td><td>null</td><td>null</td><td>null</td><td>x</td><td>null</td><td>null</td><td>x</td><td>x</td><td>null</td><td>null</td><td>null</td><td>null</td><td>null</td><td>x</td><td>x</td><td>null</td><td>null</td><td>null</td><td>null</td><td>null</td><td>null</td><td>null</td><td>null</td><td>null</td><td>null</td><td>null</td><td>null</td><td>null</td><td>null</td></tr><tr><td>Karina's Taco Shop </td><td>Bomb</td><td>5/15/2016</td><td>Encinitas </td><td>916 N Coast Hwy 101</td><td>https://www.yelp.com/biz/karinas-taco-shop-encinitas</td><td>4.0</td><td>4.2</td><td>null</td><td>7.99</td><td>3.0</td><td>null</td><td>null</td><td>25.5</td><td>23.0</td><td>1.07</td><td>4.0</td><td>4.0</td><td>4.0</td><td>3.5</td><td>2.5</td><td>3.5</td><td>4.0</td><td>3.5</td><td>2.5</td><td>3.7</td><td>Yes</td><td>Scott</td><td>null</td><td>null</td><td>null</td><td>X</td><td>null</td><td>X</td><td>X</td><td>X</td><td>X</td><td>null</td><td>null</td><td>null</td><td>null</td><td>null</td><td>null</td><td>null</td><td>null</td><td>null</td><td>null</td><td>null</td><td>null</td><td>null</td><td>null</td><td>null</td><td>X</td><td>null</td><td>null</td><td>null</td><td>null</td><td>null</td><td>null</td><td>null</td><td>null</td><td>null</td><td>null</td><td>null</td><td>null</td><td>null</td></tr><tr><td>Karina's Taco Shop </td><td>California </td><td>5/15/2016</td><td>null</td><td>null</td><td>null</td><td>null</td><td>null</td><td>null</td><td>6.99</td><td>2.5</td><td>null</td><td>null</td><td>21.5</td><td>22.125</td><td>0.84</td><td>3.5</td><td>4.0</td><td>3.5</td><td>3.5</td><td>3.0</td><td>1.0</td><td>4.0</td><td>4.0</td><td>4.5</td><td>3.8</td><td>Yes</td><td>Emily</td><td>null</td><td>null</td><td>null</td><td>X</td><td>null</td><td>null</td><td>X</td><td>X</td><td>X</td><td>null</td><td>null</td><td>null</td><td>null</td><td>null</td><td>null</td><td>null</td><td>null</td><td>null</td><td>null</td><td>null</td><td>null</td><td>null</td><td>null</td><td>null</td><td>null</td><td>null</td><td>null</td><td>null</td><td>null</td><td>null</td><td>null</td><td>null</td><td>null</td><td>null</td><td>null</td><td>null</td><td>null</td><td>null</td></tr><tr><td>Juanita's Taco Shop</td><td>California </td><td>5/18/2016</td><td>Encinitas </td><td>290 N Coast Hwy 101</td><td>https://www.yelp.com/biz/juanitas-taco-shop-encinitas</td><td>4.0</td><td>4.5</td><td>null</td><td>5.55</td><td>3.5</td><td>null</td><td>null</td><td>17.5</td><td>23.0</td><td>0.74</td><td>4.0</td><td>4.5</td><td>3.0</td><td>3.0</td><td>5.0</td><td>3.0</td><td>4.0</td><td>3.0</td><td>5.0</td><td>3.5</td><td>Yes</td><td>Scott</td><td>null</td><td>null</td><td>null</td><td>X</td><td>null</td><td>null</td><td>X</td><td>X</td><td>X</td><td>null</td><td>null</td><td>null</td><td>null</td><td>null</td><td>null</td><td>null</td><td>null</td><td>null</td><td>null</td><td>null</td><td>null</td><td>null</td><td>null</td><td>null</td><td>null</td><td>null</td><td>null</td><td>null</td><td>null</td><td>null</td><td>null</td><td>null</td><td>null</td><td>null</td><td>null</td><td>null</td><td>null</td><td>null</td></tr><tr><td>Juanita's Taco Shop</td><td>Arizona</td><td>5/18/2016</td><td>null</td><td>null</td><td>null</td><td>null</td><td>null</td><td>null</td><td>5.55</td><td>2.5</td><td>null</td><td>null</td><td>20.5</td><td>22.5</td><td>0.83</td><td>4.5</td><td>4.0</td><td>3.5</td><td>4.0</td><td>3.5</td><td>4.0</td><td>3.0</td><td>4.0</td><td>5.0</td><td>3.9</td><td>Yes</td><td>Emily</td><td>null</td><td>null</td><td>null</td><td>X</td><td>X</td><td>X</td><td>null</td><td>x</td><td>null</td><td>null</td><td>null</td><td>null</td><td>null</td><td>null</td><td>null</td><td>null</td><td>null</td><td>null</td><td>null</td><td>null</td><td>null</td><td>null</td><td>null</td><td>null</td><td>null</td><td>null</td><td>null</td><td>null</td><td>null</td><td>null</td><td>null</td><td>null</td><td>null</td><td>null</td><td>null</td><td>null</td><td>null</td><td>null</td></tr><tr><td>Goody's</td><td>Custom</td><td>5/20/2016</td><td>La Jolla</td><td>9500 Gilman Drive</td><td>https://www.yelp.com/biz/goodys-place-and-market-la-jolla</td><td>3.5</td><td>4.1</td><td>null</td><td>7.25</td><td>3.5</td><td>null</td><td>null</td><td>18.5</td><td>22.5</td><td>0.75</td><td>1.5</td><td>1.0</td><td>2.0</td><td>2.0</td><td>2.0</td><td>2.0</td><td>2.0</td><td>2.0</td><td>1.0</td><td>1.8</td><td>No</td><td>Scott</td><td>Grocery store tortilla; cold guac</td><td>null</td><td>null</td><td>x</td><td>x</td><td>x</td><td>x</td><td>null</td><td>null</td><td>null</td><td>null</td><td>null</td><td>null</td><td>x</td><td>x</td><td>null</td><td>null</td><td>null</td><td>null</td><td>null</td><td>null</td><td>x</td><td>null</td><td>null</td><td>null</td><td>null</td><td>null</td><td>null</td><td>null</td><td>null</td><td>null</td><td>null</td><td>null</td><td>null</td><td>null</td><td>null</td><td>null</td><td>null</td></tr><tr><td>Pedro's Tacos</td><td>California Burrito</td><td>5/22/2016</td><td>Oceanside</td><td>null</td><td>null</td><td>null</td><td>null</td><td>null</td><td>6.5</td><td>5.0</td><td>null</td><td>null</td><td>null</td><td>null</td><td>null</td><td>3.0</td><td>null</td><td>4.0</td><td>5.0</td><td>4.0</td><td>4.0</td><td>null</td><td>5.0</td><td>5.0</td><td>5.0</td><td>Yes</td><td>Erika N</td><td>null</td><td>x</td><td>null</td><td>null</td><td>null</td><td>null</td><td>null</td><td>null</td><td>null</td><td>null</td><td>null</td><td>null</td><td>null</td><td>null</td><td>null</td><td>null</td><td>null</td><td>null</td><td>null</td><td>null</td><td>null</td><td>null</td><td>null</td><td>null</td><td>null</td><td>null</td><td>null</td><td>null</td><td>null</td><td>null</td><td>null</td><td>null</td><td>null</td><td>null</td><td>null</td><td>null</td><td>null</td><td>null</td></tr><tr><td>Los Primos Mexican Food</td><td>619 Burrito Original</td><td>5/16/2016</td><td>null</td><td>null</td><td>null</td><td>null</td><td>null</td><td>x</td><td>11.75</td><td>4.0</td><td>null</td><td>null</td><td>null</td><td>null</td><td>null</td><td>3.0</td><td>null</td><td>4.0</td><td>5.0</td><td>4.0</td><td>4.0</td><td>5.0</td><td>4.0</td><td>3.0</td><td>4.0</td><td>Yes</td><td>Sai G</td><td>null</td><td>x</td><td>null</td><td>x</td><td>null</td><td>null</td><td>null</td><td>x</td><td>null</td><td>null</td><td>null</td><td>null</td><td>null</td><td>null</td><td>null</td><td>null</td><td>null</td><td>null</td><td>null</td><td>null</td><td>x</td><td>null</td><td>null</td><td>null</td><td>null</td><td>null</td><td>null</td><td>null</td><td>null</td><td>null</td><td>null</td><td>null</td><td>null</td><td>null</td><td>null</td><td>null</td><td>null</td><td>null</td></tr><tr><td>Kotija Jr.</td><td>Fish</td><td>5/20/2016</td><td>null</td><td>null</td><td>null</td><td>null</td><td>null</td><td>null</td><td>6.5</td><td>4.0</td><td>null</td><td>null</td><td>null</td><td>null</td><td>null</td><td>3.0</td><td>null</td><td>4.0</td><td>4.0</td><td>5.0</td><td>4.0</td><td>4.0</td><td>5.0</td><td>4.0</td><td>5.0</td><td>Yes</td><td>Jonathan G</td><td>Great fish burrito. Not fishy and has great crunch from both cabbage and fried fish. Super generous with amount of fish given</td><td>x</td><td>null</td><td>null</td><td>null</td><td>null</td><td>null</td><td>null</td><td>null</td><td>null</td><td>null</td><td>null</td><td>x</td><td>null</td><td>null</td><td>null</td><td>null</td><td>null</td><td>null</td><td>x</td><td>x</td><td>null</td><td>null</td><td>null</td><td>null</td><td>null</td><td>null</td><td>null</td><td>null</td><td>null</td><td>null</td><td>null</td><td>null</td><td>null</td><td>null</td><td>null</td><td>null</td><td>null</td></tr><tr><td>La Perla Cocina</td><td>California</td><td>5/16/2016</td><td>null</td><td>null</td><td>null</td><td>null</td><td>null</td><td>null</td><td>6.5</td><td>5.0</td><td>null</td><td>null</td><td>null</td><td>null</td><td>null</td><td>4.0</td><td>null</td><td>4.0</td><td>4.0</td><td>5.0</td><td>4.0</td><td>4.0</td><td>4.0</td><td>5.0</td><td>4.0</td><td>Yes</td><td>Laya</td><td>A LOT of carne asada!</td><td>x</td><td>null</td><td>x</td><td>x</td><td>x</td><td>x</td><td>x</td><td>x</td><td>null</td><td>null</td><td>null</td><td>null</td><td>null</td><td>null</td><td>null</td><td>null</td><td>null</td><td>null</td><td>null</td><td>null</td><td>null</td><td>null</td><td>null</td><td>null</td><td>null</td><td>null</td><td>null</td><td>null</td><td>null</td><td>null</td><td>null</td><td>null</td><td>null</td><td>null</td><td>null</td><td>null</td><td>null</td></tr><tr><td>Goody's</td><td>Custom</td><td>5/16/2011</td><td>La Jolla</td><td>null</td><td>null</td><td>null</td><td>null</td><td>null</td><td>8.0</td><td>4.0</td><td>null</td><td>null</td><td>null</td><td>null</td><td>null</td><td>3.0</td><td>null</td><td>2.0</td><td>3.0</td><td>2.0</td><td>3.0</td><td>2.0</td><td>3.0</td><td>2.0</td><td>2.0</td><td>No</td><td>Albert N</td><td>The price has gone up for the past two years. I would probably rate this lower because of it, but my scores were on raw taste only.</td><td>x</td><td>null</td><td>x</td><td>x</td><td>x</td><td>null</td><td>null</td><td>x</td><td>null</td><td>null</td><td>null</td><td>null</td><td>null</td><td>null</td><td>x</td><td>null</td><td>null</td><td>null</td><td>null</td><td>null</td><td>null</td><td>null</td><td>null</td><td>null</td><td>null</td><td>null</td><td>null</td><td>null</td><td>null</td><td>null</td><td>null</td><td>null</td><td>null</td><td>null</td><td>null</td><td>null</td><td>null</td></tr><tr><td>Goody's</td><td>Custom</td><td>5/20/2016</td><td>La Jolla</td><td>null</td><td>null</td><td>null</td><td>null</td><td>null</td><td>8.0</td><td>3.0</td><td>null</td><td>null</td><td>null</td><td>null</td><td>null</td><td>3.0</td><td>null</td><td>1.0</td><td>2.0</td><td>2.0</td><td>2.0</td><td>2.0</td><td>2.0</td><td>1.0</td><td>2.0</td><td>No</td><td>Brittany T</td><td>It's gone downhill since 2013. Expensive and only ate it because there's nothing else around. closes early. skimping on the portions.</td><td>x</td><td>null</td><td>null</td><td>null</td><td>null</td><td>x</td><td>null</td><td>x</td><td>null</td><td>x</td><td>null</td><td>null</td><td>null</td><td>x</td><td>x</td><td>null</td><td>null</td><td>null</td><td>null</td><td>null</td><td>x</td><td>null</td><td>null</td><td>null</td><td>null</td><td>null</td><td>null</td><td>null</td><td>null</td><td>null</td><td>null</td><td>null</td><td>null</td><td>null</td><td>null</td><td>null</td><td>null</td></tr><tr><td>Chipotle</td><td>Custom</td><td>5/22/2016</td><td>null</td><td>null</td><td>null</td><td>null</td><td>null</td><td>null</td><td>7.0</td><td>3.5</td><td>null</td><td>null</td><td>null</td><td>null</td><td>null</td><td>3.0</td><td>null</td><td>5.0</td><td>3.0</td><td>3.0</td><td>4.0</td><td>4.0</td><td>4.0</td><td>4.0</td><td>4.0</td><td>Yes</td><td>Gurkirat S</td><td>null</td><td>x</td><td>null</td><td>null</td><td>null</td><td>null</td><td>null</td><td>null</td><td>null</td><td>null</td><td>null</td><td>null</td><td>null</td><td>null</td><td>null</td><td>null</td><td>null</td><td>null</td><td>null</td><td>null</td><td>null</td><td>null</td><td>null</td><td>null</td><td>null</td><td>null</td><td>null</td><td>null</td><td>null</td><td>null</td><td>null</td><td>null</td><td>null</td><td>null</td><td>null</td><td>null</td><td>null</td><td>null</td></tr><tr><td>Rigoberto's Taco Shop</td><td>Al pastor</td><td>4/20/2015</td><td>null</td><td>null</td><td>null</td><td>null</td><td>null</td><td>null</td><td>null</td><td>4.0</td><td>null</td><td>null</td><td>null</td><td>null</td><td>null</td><td>5.0</td><td>null</td><td>5.0</td><td>5.0</td><td>5.0</td><td>4.0</td><td>5.0</td><td>5.0</td><td>5.0</td><td>4.8</td><td>Yes</td><td>Erica</td><td>null</td><td>x</td><td>null</td><td>null</td><td>null</td><td>null</td><td>null</td><td>null</td><td>null</td><td>null</td><td>null</td><td>null</td><td>null</td><td>null</td><td>null</td><td>null</td><td>null</td><td>null</td><td>null</td><td>null</td><td>null</td><td>null</td><td>null</td><td>null</td><td>null</td><td>null</td><td>null</td><td>null</td><td>null</td><td>null</td><td>null</td><td>null</td><td>null</td><td>null</td><td>null</td><td>null</td><td>null</td><td>null</td></tr><tr><td>Taco Surf PB</td><td>California</td><td>5/23/2016</td><td>Pacific Beach</td><td>4657 Mission Blvd</td><td>https://www.yelp.com/biz/taco-surf-taco-shop-san-diego</td><td>4.0</td><td>4.6</td><td>null</td><td>7.14</td><td>3.5</td><td>null</td><td>null</td><td>20.0</td><td>23.0</td><td>0.84</td><td>4.0</td><td>2.0</td><td>4.0</td><td>5.0</td><td>4.0</td><td>2.0</td><td>4.0</td><td>4.5</td><td>5.0</td><td>4.4</td><td>Yes</td><td>Scott</td><td>not too much rice</td><td>null</td><td>null</td><td>x</td><td>null</td><td>x</td><td>x</td><td>x</td><td>x</td><td>null</td><td>null</td><td>null</td><td>null</td><td>x</td><td>null</td><td>null</td><td>null</td><td>null</td><td>null</td><td>null</td><td>null</td><td>null</td><td>null</td><td>null</td><td>null</td><td>null</td><td>null</td><td>null</td><td>null</td><td>null</td><td>null</td><td>null</td><td>null</td><td>null</td><td>null</td><td>null</td><td>null</td><td>null</td></tr><tr><td>Taco Surf PB</td><td>California</td><td>5/23/2016</td><td>null</td><td>null</td><td>null</td><td>null</td><td>null</td><td>null</td><td>7.14</td><td>5.0</td><td>null</td><td>null</td><td>20.5</td><td>24.0</td><td>0.94</td><td>4.0</td><td>2.0</td><td>4.5</td><td>4.0</td><td>3.5</td><td>2.0</td><td>3.0</td><td>4.0</td><td>4.0</td><td>4.1</td><td>Yes</td><td>Sage</td><td>hashbrowns instead of fries; anterior-posterior uniformity is good but medial-lateral is bad</td><td>null</td><td>null</td><td>x</td><td>null</td><td>x</td><td>x</td><td>x</td><td>x</td><td>null</td><td>null</td><td>null</td><td>null</td><td>x</td><td>null</td><td>null</td><td>null</td><td>null</td><td>null</td><td>null</td><td>null</td><td>null</td><td>null</td><td>null</td><td>null</td><td>null</td><td>null</td><td>null</td><td>null</td><td>null</td><td>null</td><td>null</td><td>null</td><td>null</td><td>null</td><td>null</td><td>null</td><td>null</td></tr><tr><td>Taco Surf PB</td><td>Carne asada</td><td>5/23/2016</td><td>null</td><td>null</td><td>null</td><td>null</td><td>null</td><td>null</td><td>6.02</td><td>3.2</td><td>null</td><td>null</td><td>19.5</td><td>20.5</td><td>0.65</td><td>4.5</td><td>2.0</td><td>3.3</td><td>3.4</td><td>4.5</td><td>4.5</td><td>3.8</td><td>3.7</td><td>5.0</td><td>3.7</td><td>Yes</td><td>Dan</td><td>one hot side and one cold side from the guac</td><td>null</td><td>null</td><td>x</td><td>null</td><td>x</td><td>null</td><td>null</td><td>null</td><td>null</td><td>null</td><td>null</td><td>null</td><td>null</td><td>null</td><td>null</td><td>null</td><td>null</td><td>null</td><td>null</td><td>null</td><td>null</td><td>null</td><td>null</td><td>null</td><td>null</td><td>null</td><td>null</td><td>null</td><td>null</td><td>null</td><td>null</td><td>null</td><td>null</td><td>null</td><td>null</td><td>null</td><td>null</td></tr><tr><td>Roberto's Very Mexican Food</td><td>Chicken asada</td><td>5/24/2016</td><td>Del Mar</td><td>2206 Carmel Valley Road</td><td>https://www.yelp.com/biz/robertos-very-mexican-food-del-mar-2</td><td>3.5</td><td>3.9</td><td>null</td><td>6.5</td><td>2.0</td><td>null</td><td>null</td><td>18.5</td><td>21.5</td><td>0.68</td><td>1.5</td><td>4.0</td><td>2.0</td><td>2.0</td><td>4.5</td><td>1.0</td><td>1.0</td><td>2.0</td><td>5.0</td><td>1.5</td><td>No</td><td>Scott</td><td>null</td><td>null</td><td>null</td><td>null</td><td>x</td><td>x</td><td>null</td><td>null</td><td>null</td><td>null</td><td>x</td><td>null</td><td>null</td><td>null</td><td>null</td><td>null</td><td>null</td><td>null</td><td>null</td><td>null</td><td>null</td><td>null</td><td>null</td><td>null</td><td>null</td><td>null</td><td>null</td><td>null</td><td>null</td><td>null</td><td>null</td><td>null</td><td>null</td><td>null</td><td>null</td><td>null</td><td>null</td><td>null</td></tr><tr><td>Roberto's Very Mexican Food</td><td>Carnitas</td><td>5/24/2016</td><td>null</td><td>null</td><td>null</td><td>null</td><td>null</td><td>null</td><td>5.4</td><td>3.0</td><td>null</td><td>null</td><td>18.0</td><td>20.0</td><td>0.57</td><td>2.0</td><td>3.5</td><td>4.0</td><td>2.5</td><td>3.5</td><td>1.5</td><td>1.5</td><td>3.0</td><td>5.0</td><td>2.7</td><td>No</td><td>Emily</td><td>null</td><td>null</td><td>null</td><td>null</td><td>x</td><td>x</td><td>null</td><td>null</td><td>null</td><td>x</td><td>null</td><td>null</td><td>null</td><td>null</td><td>null</td><td>null</td><td>null</td><td>null</td><td>null</td><td>null</td><td>null</td><td>null</td><td>null</td><td>null</td><td>null</td><td>null</td><td>null</td><td>null</td><td>null</td><td>null</td><td>null</td><td>null</td><td>null</td><td>null</td><td>null</td><td>null</td><td>null</td><td>null</td></tr><tr><td>Netos Mexican Food</td><td>California </td><td>5/26/2016</td><td>San Marcos</td><td>325 S Rancho Santa Fe Rd</td><td>https://www.yelp.com/biz/netos-mexican-food-san-marcos</td><td>4.5</td><td>4.1</td><td>x</td><td>5.99</td><td>4.0</td><td>null</td><td>null</td><td>20.5</td><td>23.5</td><td>0.9</td><td>4.5</td><td>5.0</td><td>3.0</td><td>4.0</td><td>2.0</td><td>2.0</td><td>2.0</td><td>3.75</td><td>4.0</td><td>3.2</td><td>Yes</td><td>Scott</td><td>not 100% certain about the ingredients (was there guac and pico?)</td><td>null</td><td>null</td><td>x</td><td>x</td><td>x</td><td>x</td><td>x</td><td>x</td><td>null</td><td>null</td><td>null</td><td>null</td><td>null</td><td>null</td><td>null</td><td>null</td><td>null</td><td>null</td><td>null</td><td>null</td><td>null</td><td>null</td><td>null</td><td>null</td><td>null</td><td>null</td><td>null</td><td>null</td><td>null</td><td>null</td><td>null</td><td>null</td><td>null</td><td>null</td><td>null</td><td>null</td><td>null</td></tr><tr><td>Netos Mexican Food</td><td>Carne adobada </td><td>5/26/2016</td><td>null</td><td>null</td><td>null</td><td>null</td><td>null</td><td>null</td><td>5.5</td><td>3.0</td><td>null</td><td>null</td><td>20.75</td><td>23.5</td><td>0.91</td><td>3.5</td><td>4.0</td><td>3.5</td><td>3.0</td><td>3.5</td><td>3.5</td><td>2.5</td><td>3.0</td><td>2.5</td><td>3.0</td><td>Yes</td><td>Emily</td><td>Best free chips, novel burrito</td><td>null</td><td>null</td><td>x</td><td>x</td><td>x</td><td>null</td><td>null</td><td>null</td><td>null</td><td>null</td><td>null</td><td>null</td><td>null</td><td>null</td><td>null</td><td>null</td><td>null</td><td>null</td><td>null</td><td>null</td><td>null</td><td>null</td><td>null</td><td>null</td><td>x</td><td>null</td><td>null</td><td>null</td><td>null</td><td>null</td><td>null</td><td>null</td><td>null</td><td>null</td><td>null</td><td>null</td><td>null</td></tr><tr><td>Lolita's Taco shop</td><td>Carne asada</td><td>5/27/2016</td><td>null</td><td>null</td><td>null</td><td>null</td><td>null</td><td>null</td><td>6.25</td><td>4.0</td><td>null</td><td>null</td><td>15.0</td><td>20.5</td><td>0.5</td><td>1.5</td><td>2.5</td><td>3.0</td><td>4.5</td><td>4.0</td><td>2.0</td><td>2.75</td><td>3.75</td><td>3.0</td><td>2.6</td><td>No</td><td>Scott</td><td>Way too small</td><td>null</td><td>null</td><td>X</td><td>X</td><td>X</td><td>null</td><td>null</td><td>null</td><td>null</td><td>null</td><td>null</td><td>null</td><td>null</td><td>null</td><td>null</td><td>null</td><td>null</td><td>null</td><td>null</td><td>null</td><td>null</td><td>null</td><td>null</td><td>null</td><td>null</td><td>null</td><td>null</td><td>null</td><td>null</td><td>null</td><td>null</td><td>null</td><td>null</td><td>null</td><td>null</td><td>null</td><td>null</td></tr><tr><td>Lolita's Taco shop</td><td>Shrimp</td><td>5/27/2016</td><td>null</td><td>null</td><td>null</td><td>null</td><td>null</td><td>null</td><td>8.95</td><td>3.5</td><td>null</td><td>null</td><td>18.5</td><td>25.0</td><td>0.92</td><td>3.0</td><td>3.0</td><td>4.0</td><td>4.0</td><td>3.5</td><td>3.5</td><td>2.5</td><td>4.0</td><td>0.5</td><td>3.0</td><td>Yes</td><td>Emily</td><td>null</td><td>null</td><td>null</td><td>null</td><td>X</td><td>null</td><td>null</td><td>null</td><td>null</td><td>null</td><td>null</td><td>X</td><td>null</td><td>null</td><td>null</td><td>X</td><td>null</td><td>null</td><td>null</td><td>null</td><td>X</td><td>null</td><td>null</td><td>null</td><td>null</td><td>null</td><td>null</td><td>null</td><td>null</td><td>null</td><td>null</td><td>null</td><td>null</td><td>null</td><td>null</td><td>null</td><td>null</td><td>null</td></tr><tr><td>Lolita's Taco shop</td><td>Bean and cheese</td><td>5/27/2016</td><td>null</td><td>null</td><td>null</td><td>null</td><td>null</td><td>null</td><td>3.5</td><td>1.0</td><td>null</td><td>null</td><td>16.0</td><td>20.0</td><td>0.51</td><td>3.5</td><td>4.5</td><td>null</td><td>3.0</td><td>null</td><td>4.0</td><td>3.0</td><td>2.5</td><td>4.0</td><td>2.7</td><td>No</td><td>Scott</td><td>null</td><td>null</td><td>null</td><td>null</td><td>null</td><td>null</td><td>x</td><td>null</td><td>null</td><td>null</td><td>null</td><td>null</td><td>null</td><td>null</td><td>x</td><td>null</td><td>null</td><td>null</td><td>null</td><td>null</td><td>null</td><td>null</td><td>null</td><td>null</td><td>null</td><td>null</td><td>null</td><td>null</td><td>null</td><td>null</td><td>null</td><td>null</td><td>null</td><td>null</td><td>null</td><td>null</td><td>null</td><td>null</td></tr><tr><td>Pokirrito</td><td>Pokirrito classic </td><td>5/29/2016</td><td>Kearny Mesa</td><td>4646 Convoy St</td><td>https://www.yelp.com/biz/pokirrito-san-diego-2</td><td>4.0</td><td>4.3</td><td>x</td><td>11.95</td><td>4.0</td><td>null</td><td>null</td><td>18.0</td><td>23.5</td><td>0.79</td><td>3.5</td><td>4.0</td><td>4.0</td><td>4.5</td><td>2.5</td><td>2.5</td><td>3.0</td><td>4.0</td><td>2.0</td><td>4.2</td><td>Yes</td><td>Scott</td><td>Lotus chips add good crunch</td><td>x</td><td>null</td><td>null</td><td>null</td><td>null</td><td>null</td><td>null</td><td>null</td><td>null</td><td>null</td><td>null</td><td>null</td><td>null</td><td>null</td><td>null</td><td>null</td><td>null</td><td>null</td><td>null</td><td>null</td><td>null</td><td>null</td><td>null</td><td>null</td><td>null</td><td>null</td><td>null</td><td>null</td><td>null</td><td>null</td><td>null</td><td>null</td><td>null</td><td>x</td><td>null</td><td>null</td><td>null</td></tr><tr><td>Pokirrito</td><td>Mauna Lani</td><td>5/29/2016</td><td>null</td><td>null</td><td>null</td><td>null</td><td>null</td><td>null</td><td>11.95</td><td>3.0</td><td>null</td><td>null</td><td>20.0</td><td>22.75</td><td>0.82</td><td>3.0</td><td>4.0</td><td>4.0</td><td>4.0</td><td>3.0</td><td>2.5</td><td>4.5</td><td>4.0</td><td>1.5</td><td>4.0</td><td>Yes</td><td>Emily</td><td>null</td><td>x</td><td>null</td><td>null</td><td>null</td><td>null</td><td>null</td><td>null</td><td>null</td><td>null</td><td>null</td><td>null</td><td>null</td><td>null</td><td>null</td><td>null</td><td>null</td><td>null</td><td>null</td><td>null</td><td>null</td><td>null</td><td>null</td><td>null</td><td>null</td><td>null</td><td>null</td><td>null</td><td>null</td><td>null</td><td>null</td><td>null</td><td>null</td><td>null</td><td>x</td><td>null</td><td>null</td><td>null</td></tr><tr><td>Los Primos Mexican Food</td><td>California</td><td>5/29/2016</td><td>null</td><td>null</td><td>null</td><td>null</td><td>null</td><td>null</td><td>7.5</td><td>4.0</td><td>null</td><td>null</td><td>null</td><td>null</td><td>null</td><td>3.0</td><td>5.0</td><td>3.5</td><td>3.5</td><td>4.0</td><td>4.0</td><td>2.5</td><td>3.0</td><td>5.0</td><td>3.5</td><td>Yes</td><td>Sage</td><td>null</td><td>null</td><td>null</td><td>null</td><td>x</td><td>null</td><td>x</td><td>x</td><td>null</td><td>null</td><td>x</td><td>null</td><td>null</td><td>null</td><td>null</td><td>null</td><td>x</td><td>null</td><td>null</td><td>null</td><td>null</td><td>null</td><td>null</td><td>null</td><td>null</td><td>null</td><td>null</td><td>null</td><td>null</td><td>null</td><td>null</td><td>null</td><td>null</td><td>null</td><td>null</td><td>null</td><td>null</td><td>null</td></tr><tr><td>El Nopalito </td><td>Especial </td><td>6/1/2016</td><td>Encinitas</td><td>582 Santa Fe Dr</td><td>https://www.yelp.com/biz/el-nopalito-encinitas</td><td>4.0</td><td>4.0</td><td>x</td><td>4.87</td><td>2.0</td><td>null</td><td>null</td><td>19.0</td><td>23.5</td><td>0.83</td><td>3.0</td><td>4.0</td><td>1.5</td><td>2.0</td><td>3.0</td><td>5.0</td><td>3.0</td><td>2.5</td><td>5.0</td><td>2.6</td><td>No</td><td>Scott</td><td>It's pretty good for what it is, but just not the best ingredients for a burrito. also Few white people</td><td>null</td><td>null</td><td>X</td><td>null</td><td>X</td><td>X</td><td>null</td><td>null</td><td>null</td><td>null</td><td>null</td><td>null</td><td>X</td><td>X</td><td>X</td><td>X</td><td>null</td><td>null</td><td>null</td><td>null</td><td>null</td><td>null</td><td>null</td><td>null</td><td>null</td><td>null</td><td>null</td><td>null</td><td>null</td><td>null</td><td>null</td><td>null</td><td>null</td><td>null</td><td>null</td><td>null</td><td>null</td></tr><tr><td>El Nopalito </td><td>Ranchero steak</td><td>6/1/2016</td><td>null</td><td>null</td><td>null</td><td>null</td><td>null</td><td>null</td><td>4.87</td><td>2.5</td><td>null</td><td>null</td><td>19.5</td><td>20.5</td><td>0.65</td><td>3.5</td><td>3.0</td><td>2.5</td><td>2.4</td><td>3.5</td><td>4.5</td><td>3.0</td><td>3.0</td><td>1.5</td><td>2.6</td><td>No</td><td>Emily</td><td>null</td><td>null</td><td>null</td><td>null</td><td>null</td><td>null</td><td>null</td><td>null</td><td>null</td><td>null</td><td>null</td><td>null</td><td>null</td><td>null</td><td>null</td><td>null</td><td>null</td><td>null</td><td>null</td><td>null</td><td>null</td><td>null</td><td>null</td><td>null</td><td>null</td><td>null</td><td>null</td><td>null</td><td>null</td><td>null</td><td>null</td><td>null</td><td>null</td><td>null</td><td>null</td><td>null</td><td>null</td><td>null</td></tr><tr><td>Goody's</td><td>Carne Asada</td><td>5/21/2016</td><td>null</td><td>null</td><td>null</td><td>null</td><td>null</td><td>null</td><td>6.25</td><td>4.5</td><td>null</td><td>null</td><td>null</td><td>null</td><td>null</td><td>3.5</td><td>3.0</td><td>2.0</td><td>2.0</td><td>2.5</td><td>3.0</td><td>2.0</td><td>1.5</td><td>1.0</td><td>2.0</td><td>No</td><td>Kevin</td><td>Sucks, but it is okay.</td><td>x</td><td>null</td><td>null</td><td>null</td><td>null</td><td>null</td><td>null</td><td>null</td><td>null</td><td>null</td><td>null</td><td>null</td><td>null</td><td>null</td><td>null</td><td>null</td><td>null</td><td>null</td><td>null</td><td>null</td><td>null</td><td>null</td><td>null</td><td>null</td><td>null</td><td>null</td><td>null</td><td>null</td><td>null</td><td>null</td><td>null</td><td>null</td><td>null</td><td>null</td><td>null</td><td>null</td><td>null</td></tr><tr><td>Saguaro's </td><td>Vegetarian</td><td>6/20/2016</td><td>null</td><td>null</td><td>null</td><td>null</td><td>null</td><td>null</td><td>5.25</td><td>4.0</td><td>null</td><td>null</td><td>null</td><td>null</td><td>null</td><td>4.0</td><td>5.0</td><td>null</td><td>5.0</td><td>4.0</td><td>4.0</td><td>5.0</td><td>5.0</td><td>5.0</td><td>4.8</td><td>Yes</td><td>Brian</td><td>Great rice and beans burrito, doesn't come with cheese or sour cream. </td><td>x</td><td>null</td><td>null</td><td>null</td><td>null</td><td>null</td><td>null</td><td>null</td><td>null</td><td>null</td><td>null</td><td>null</td><td>null</td><td>null</td><td>null</td><td>null</td><td>null</td><td>null</td><td>null</td><td>null</td><td>null</td><td>null</td><td>null</td><td>null</td><td>null</td><td>null</td><td>null</td><td>null</td><td>null</td><td>null</td><td>null</td><td>null</td><td>null</td><td>null</td><td>null</td><td>null</td><td>null</td></tr><tr><td>Colima's </td><td>Colimas burrito</td><td>5/31/2016</td><td>null</td><td>null</td><td>null</td><td>null</td><td>null</td><td>x</td><td>8.25</td><td>4.0</td><td>null</td><td>null</td><td>null</td><td>null</td><td>null</td><td>5.0</td><td>5.0</td><td>5.0</td><td>5.0</td><td>5.0</td><td>5.0</td><td>null</td><td>5.0</td><td>4.5</td><td>4.9</td><td>Yes</td><td>Brian</td><td>null</td><td>x</td><td>null</td><td>null</td><td>null</td><td>null</td><td>null</td><td>null</td><td>null</td><td>null</td><td>null</td><td>null</td><td>null</td><td>null</td><td>null</td><td>null</td><td>null</td><td>null</td><td>null</td><td>null</td><td>null</td><td>null</td><td>null</td><td>null</td><td>null</td><td>null</td><td>null</td><td>null</td><td>null</td><td>null</td><td>null</td><td>null</td><td>null</td><td>null</td><td>null</td><td>null</td><td>null</td><td>null</td></tr><tr><td>Alberto's 623 N Escondido Blvd, Escondido, CA 92025</td><td>Carne Asada</td><td>5/5/2016</td><td>null</td><td>null</td><td>null</td><td>null</td><td>null</td><td>null</td><td>4.59</td><td>4.0</td><td>null</td><td>null</td><td>17.0</td><td>21.0</td><td>0.6</td><td>4.0</td><td>4.0</td><td>5.0</td><td>5.0</td><td>5.0</td><td>5.0</td><td>5.0</td><td>5.0</td><td>4.0</td><td>4.8</td><td>Yes</td><td>Chuck K</td><td>null</td><td>x</td><td>null</td><td>null</td><td>null</td><td>null</td><td>null</td><td>null</td><td>null</td><td>null</td><td>null</td><td>null</td><td>null</td><td>null</td><td>null</td><td>null</td><td>null</td><td>null</td><td>null</td><td>null</td><td>null</td><td>null</td><td>null</td><td>null</td><td>null</td><td>null</td><td>null</td><td>null</td><td>null</td><td>null</td><td>null</td><td>null</td><td>null</td><td>null</td><td>null</td><td>null</td><td>null</td><td>null</td></tr><tr><td>MXN on Washington</td><td>Bean and rice grande size</td><td>5/20/2016</td><td>null</td><td>null</td><td>null</td><td>null</td><td>null</td><td>null</td><td>2.99</td><td>3.0</td><td>null</td><td>null</td><td>null</td><td>null</td><td>null</td><td>4.5</td><td>3.5</td><td>null</td><td>4.5</td><td>null</td><td>3.5</td><td>3.0</td><td>4.0</td><td>4.0</td><td>4.5</td><td>Yes</td><td>Sarah</td><td>Got green and hot salsa put inside the burrito-drive thru</td><td>x</td><td>null</td><td>null</td><td>null</td><td>null</td><td>null</td><td>null</td><td>null</td><td>null</td><td>null</td><td>null</td><td>null</td><td>null</td><td>null</td><td>null</td><td>null</td><td>null</td><td>null</td><td>null</td><td>null</td><td>null</td><td>null</td><td>null</td><td>null</td><td>null</td><td>null</td><td>null</td><td>null</td><td>null</td><td>null</td><td>null</td><td>null</td><td>null</td><td>null</td><td>null</td><td>null</td><td>null</td></tr><tr><td>El Zarape</td><td>Surf and Turf</td><td>5/19/2016</td><td>null</td><td>null</td><td>null</td><td>null</td><td>null</td><td>null</td><td>7.0</td><td>2.5</td><td>null</td><td>null</td><td>null</td><td>null</td><td>null</td><td>5.0</td><td>5.0</td><td>5.0</td><td>5.0</td><td>5.0</td><td>5.0</td><td>5.0</td><td>5.0</td><td>5.0</td><td>5.0</td><td>Yes</td><td>Damien B</td><td>Get the green sauce</td><td>x</td><td>null</td><td>null</td><td>null</td><td>null</td><td>null</td><td>null</td><td>null</td><td>null</td><td>null</td><td>null</td><td>null</td><td>null</td><td>null</td><td>null</td><td>null</td><td>null</td><td>null</td><td>null</td><td>null</td><td>null</td><td>null</td><td>null</td><td>null</td><td>null</td><td>null</td><td>null</td><td>null</td><td>null</td><td>null</td><td>null</td><td>null</td><td>null</td><td>null</td><td>null</td><td>null</td><td>null</td></tr><tr><td>Lolita's</td><td>Bean and Cheese</td><td>5/19/2016</td><td>null</td><td>null</td><td>null</td><td>null</td><td>null</td><td>null</td><td>null</td><td>4.3</td><td>null</td><td>null</td><td>null</td><td>null</td><td>null</td><td>3.8</td><td>4.0</td><td>null</td><td>4.7</td><td>null</td><td>5.0</td><td>null</td><td>4.7</td><td>5.0</td><td>4.8</td><td>Yes</td><td>null</td><td>null</td><td>x</td><td>null</td><td>null</td><td>null</td><td>null</td><td>null</td><td>null</td><td>null</td><td>null</td><td>null</td><td>null</td><td>null</td><td>null</td><td>null</td><td>null</td><td>null</td><td>null</td><td>null</td><td>null</td><td>null</td><td>null</td><td>null</td><td>null</td><td>null</td><td>null</td><td>null</td><td>null</td><td>null</td><td>null</td><td>null</td><td>null</td><td>null</td><td>null</td><td>null</td><td>null</td><td>null</td><td>null</td></tr><tr><td>Humbertos</td><td>Pollo california</td><td>5/27/2016</td><td>null</td><td>null</td><td>null</td><td>null</td><td>null</td><td>null</td><td>6.0</td><td>5.0</td><td>null</td><td>null</td><td>null</td><td>null</td><td>null</td><td>4.0</td><td>5.0</td><td>5.0</td><td>5.0</td><td>5.0</td><td>4.0</td><td>5.0</td><td>5.0</td><td>5.0</td><td>5.0</td><td>Yes</td><td>Logan</td><td>null</td><td>x</td><td>null</td><td>null</td><td>null</td><td>null</td><td>null</td><td>null</td><td>null</td><td>null</td><td>null</td><td>null</td><td>null</td><td>null</td><td>null</td><td>null</td><td>null</td><td>null</td><td>null</td><td>null</td><td>null</td><td>null</td><td>null</td><td>null</td><td>null</td><td>null</td><td>null</td><td>null</td><td>null</td><td>null</td><td>null</td><td>null</td><td>null</td><td>null</td><td>null</td><td>null</td><td>null</td><td>null</td></tr><tr><td>Chili Peppers</td><td>Surf & Turf</td><td>5/28/2016</td><td>null</td><td>null</td><td>null</td><td>null</td><td>null</td><td>null</td><td>9.43</td><td>null</td><td>null</td><td>null</td><td>null</td><td>null</td><td>null</td><td>4.0</td><td>5.0</td><td>5.0</td><td>5.0</td><td>5.0</td><td>5.0</td><td>5.0</td><td>5.0</td><td>5.0</td><td>5.0</td><td>Yes</td><td>Chris H</td><td>null</td><td>x</td><td>null</td><td>null</td><td>null</td><td>null</td><td>null</td><td>null</td><td>null</td><td>null</td><td>null</td><td>null</td><td>null</td><td>null</td><td>null</td><td>null</td><td>null</td><td>null</td><td>null</td><td>null</td><td>null</td><td>null</td><td>null</td><td>null</td><td>null</td><td>null</td><td>null</td><td>null</td><td>null</td><td>null</td><td>null</td><td>null</td><td>null</td><td>null</td><td>null</td><td>null</td><td>null</td><td>null</td></tr><tr><td>Los Primos Mexican Food</td><td>Monster California</td><td>6/3/2016</td><td>null</td><td>null</td><td>null</td><td>null</td><td>null</td><td>null</td><td>9.25</td><td>3.5</td><td>null</td><td>null</td><td>25.5</td><td>24.0</td><td>1.17</td><td>2.0</td><td>1.0</td><td>3.0</td><td>3.0</td><td>1.0</td><td>null</td><td>3.0</td><td>2.0</td><td>4.0</td><td>2.3</td><td>No</td><td>Scott</td><td>null</td><td>null</td><td>null</td><td>X</td><td>X</td><td>X</td><td>X</td><td>X</td><td>X</td><td>null</td><td>null</td><td>null</td><td>null</td><td>null</td><td>null</td><td>null</td><td>null</td><td>null</td><td>null</td><td>null</td><td>null</td><td>null</td><td>null</td><td>null</td><td>null</td><td>null</td><td>null</td><td>null</td><td>null</td><td>null</td><td>null</td><td>null</td><td>null</td><td>null</td><td>null</td><td>null</td><td>null</td><td>null</td></tr><tr><td>Los Primos Mexican Food</td><td>California</td><td>6/3/2016</td><td>null</td><td>null</td><td>null</td><td>null</td><td>null</td><td>null</td><td>7.0</td><td>3.0</td><td>null</td><td>null</td><td>20.0</td><td>22.0</td><td>0.77</td><td>4.5</td><td>4.0</td><td>3.5</td><td>4.0</td><td>1.0</td><td>1.0</td><td>2.0</td><td>2.0</td><td>4.0</td><td>2.5</td><td>No</td><td>Ricardo</td><td>null</td><td>null</td><td>null</td><td>X</td><td>X</td><td>X</td><td>X</td><td>X</td><td>null</td><td>null</td><td>null</td><td>null</td><td>null</td><td>null</td><td>null</td><td>null</td><td>null</td><td>null</td><td>null</td><td>null</td><td>null</td><td>null</td><td>null</td><td>null</td><td>null</td><td>null</td><td>null</td><td>null</td><td>null</td><td>null</td><td>null</td><td>null</td><td>null</td><td>null</td><td>null</td><td>null</td><td>null</td><td>null</td></tr><tr><td>Los Primos Mexican Food</td><td>California breakfast</td><td>6/3/2016</td><td>null</td><td>null</td><td>null</td><td>null</td><td>null</td><td>null</td><td>6.25</td><td>2.5</td><td>null</td><td>null</td><td>18.5</td><td>22.5</td><td>0.75</td><td>3.0</td><td>4.0</td><td>3.0</td><td>2.0</td><td>1.5</td><td>1.0</td><td>3.0</td><td>1.5</td><td>3.0</td><td>2.0</td><td>No</td><td>Erin</td><td>null</td><td>null</td><td>null</td><td>x</td><td>null</td><td>null</td><td>x</td><td>x</td><td>x</td><td>null</td><td>null</td><td>null</td><td>null</td><td>null</td><td>null</td><td>null</td><td>null</td><td>null</td><td>null</td><td>null</td><td>null</td><td>null</td><td>null</td><td>null</td><td>null</td><td>null</td><td>null</td><td>null</td><td>null</td><td>null</td><td>null</td><td>x</td><td>null</td><td>null</td><td>null</td><td>null</td><td>null</td><td>null</td></tr><tr><td>Los Primos Mexican Food</td><td>Baja monster</td><td>6/3/2016</td><td>null</td><td>null</td><td>null</td><td>null</td><td>null</td><td>null</td><td>6.0</td><td>4.0</td><td>null</td><td>null</td><td>null</td><td>null</td><td>null</td><td>3.0</td><td>3.0</td><td>1.0</td><td>4.0</td><td>2.0</td><td>2.0</td><td>3.0</td><td>2.0</td><td>1.0</td><td>2.0</td><td>No</td><td>Elynn</td><td>null</td><td>null</td><td>null</td><td>null</td><td>x</td><td>x</td><td>null</td><td>null</td><td>null</td><td>x</td><td>null</td><td>null</td><td>null</td><td>null</td><td>x</td><td>null</td><td>null</td><td>null</td><td>null</td><td>null</td><td>null</td><td>null</td><td>null</td><td>null</td><td>null</td><td>null</td><td>null</td><td>null</td><td>null</td><td>null</td><td>null</td><td>null</td><td>null</td><td>null</td><td>null</td><td>null</td><td>null</td><td>null</td></tr><tr><td>Los Primos Mexican Food</td><td>Baja monster</td><td>6/3/2016</td><td>null</td><td>null</td><td>null</td><td>null</td><td>null</td><td>null</td><td>6.0</td><td>3.0</td><td>null</td><td>null</td><td>null</td><td>null</td><td>null</td><td>4.0</td><td>3.5</td><td>4.0</td><td>4.0</td><td>2.0</td><td>4.0</td><td>4.0</td><td>4.0</td><td>3.0</td><td>3.8</td><td>Yes</td><td>Rob</td><td>null</td><td>null</td><td>null</td><td>null</td><td>x</td><td>x</td><td>null</td><td>null</td><td>null</td><td>x</td><td>null</td><td>null</td><td>null</td><td>null</td><td>x</td><td>null</td><td>null</td><td>null</td><td>null</td><td>null</td><td>null</td><td>null</td><td>null</td><td>null</td><td>null</td><td>null</td><td>null</td><td>null</td><td>null</td><td>null</td><td>null</td><td>null</td><td>null</td><td>null</td><td>null</td><td>null</td><td>null</td><td>null</td></tr><tr><td>Los Primos Mexican Food</td><td>Carnitas</td><td>6/3/2016</td><td>null</td><td>null</td><td>null</td><td>null</td><td>null</td><td>null</td><td>6.35</td><td>4.5</td><td>null</td><td>null</td><td>18.0</td><td>20.5</td><td>0.6</td><td>4.0</td><td>4.0</td><td>2.5</td><td>2.0</td><td>3.0</td><td>2.0</td><td>2.0</td><td>2.0</td><td>3.0</td><td>2.0</td><td>No</td><td>Matteo</td><td>null</td><td>null</td><td>null</td><td>null</td><td>null</td><td>x</td><td>null</td><td>null</td><td>null</td><td>x</td><td>null</td><td>null</td><td>null</td><td>null</td><td>null</td><td>null</td><td>null</td><td>null</td><td>null</td><td>null</td><td>null</td><td>null</td><td>null</td><td>null</td><td>null</td><td>null</td><td>null</td><td>null</td><td>null</td><td>null</td><td>null</td><td>null</td><td>null</td><td>null</td><td>null</td><td>null</td><td>null</td><td>null</td></tr><tr><td>Los tacos </td><td>Local</td><td>6/5/2016</td><td>Oceanside</td><td>2183 Vista Way</td><td>https://www.yelp.com/biz/los-tacos-oceanside</td><td>4.0</td><td>4.2</td><td>null</td><td>7.9</td><td>3.5</td><td>null</td><td>null</td><td>20.5</td><td>21.5</td><td>0.75</td><td>3.5</td><td>4.5</td><td>4.5</td><td>4.0</td><td>1.5</td><td>1.5</td><td>3.0</td><td>4.0</td><td>5.0</td><td>3.5</td><td>Yes</td><td>Scott</td><td>null</td><td>null</td><td>null</td><td>null</td><td>X</td><td>null</td><td>X</td><td>X</td><td>null</td><td>X</td><td>null</td><td>null</td><td>null</td><td>null</td><td>null</td><td>null</td><td>null</td><td>null</td><td>null</td><td>null</td><td>null</td><td>null</td><td>null</td><td>null</td><td>null</td><td>X</td><td>null</td><td>null</td><td>null</td><td>null</td><td>null</td><td>null</td><td>null</td><td>null</td><td>null</td><td>null</td><td>null</td><td>null</td></tr><tr><td>Los tacos </td><td>Fusion</td><td>6/5/2016</td><td>null</td><td>null</td><td>null</td><td>null</td><td>null</td><td>null</td><td>8.5</td><td>3.5</td><td>null</td><td>null</td><td>18.5</td><td>21.0</td><td>0.65</td><td>4.0</td><td>4.0</td><td>4.0</td><td>3.5</td><td>4.0</td><td>4.0</td><td>4.0</td><td>4.5</td><td>4.5</td><td>4.2</td><td>Yes</td><td>Emily</td><td>null</td><td>null</td><td>null</td><td>X</td><td>null</td><td>X</td><td>X</td><td>null</td><td>null</td><td>X</td><td>null</td><td>null</td><td>null</td><td>null</td><td>null</td><td>null</td><td>null</td><td>null</td><td>null</td><td>null</td><td>null</td><td>null</td><td>X</td><td>X</td><td>null</td><td>null</td><td>null</td><td>null</td><td>null</td><td>null</td><td>null</td><td>null</td><td>null</td><td>null</td><td>null</td><td>null</td><td>null</td><td>null</td></tr><tr><td>Taco Stand</td><td>Al pastor</td><td>6/6/2016</td><td>null</td><td>null</td><td>null</td><td>null</td><td>null</td><td>null</td><td>6.99</td><td>3.5</td><td>null</td><td>null</td><td>18.5</td><td>21.0</td><td>0.65</td><td>4.0</td><td>3.5</td><td>4.0</td><td>3.5</td><td>4.0</td><td>5.0</td><td>2.5</td><td>4.0</td><td>4.5</td><td>3.9</td><td>Yes</td><td>Scott</td><td>null</td><td>null</td><td>null</td><td>null</td><td>null</td><td>null</td><td>null</td><td>null</td><td>null</td><td>x</td><td>null</td><td>null</td><td>null</td><td>null</td><td>null</td><td>null</td><td>null</td><td>null</td><td>null</td><td>null</td><td>x</td><td>null</td><td>x</td><td>x</td><td>null</td><td>x</td><td>null</td><td>null</td><td>null</td><td>null</td><td>null</td><td>null</td><td>null</td><td>null</td><td>null</td><td>null</td><td>null</td><td>null</td></tr><tr><td>Taco Stand</td><td>Al pastor</td><td>6/6/2016</td><td>null</td><td>null</td><td>null</td><td>null</td><td>null</td><td>null</td><td>6.99</td><td>5.0</td><td>null</td><td>null</td><td>null</td><td>null</td><td>null</td><td>4.0</td><td>4.0</td><td>4.0</td><td>4.0</td><td>2.0</td><td>3.0</td><td>3.0</td><td>4.0</td><td>3.0</td><td>3.5</td><td>Yes</td><td>Brad P</td><td>null</td><td>null</td><td>null</td><td>null</td><td>null</td><td>null</td><td>null</td><td>null</td><td>null</td><td>x</td><td>null</td><td>null</td><td>null</td><td>null</td><td>null</td><td>null</td><td>null</td><td>null</td><td>null</td><td>null</td><td>x</td><td>null</td><td>x</td><td>x</td><td>null</td><td>x</td><td>null</td><td>null</td><td>null</td><td>null</td><td>null</td><td>null</td><td>null</td><td>null</td><td>null</td><td>null</td><td>null</td><td>null</td></tr><tr><td>Albertacos</td><td>California </td><td>6/8/2016</td><td>San Marcos</td><td>500 W San Marcos Blvd # 103</td><td>https://www.yelp.com/biz/albertacos-san-marcos</td><td>3.5</td><td>3.9</td><td>null</td><td>5.7</td><td>3.5</td><td>null</td><td>null</td><td>20.5</td><td>21.5</td><td>0.75</td><td>3.5</td><td>3.0</td><td>3.0</td><td>4.0</td><td>1.5</td><td>4.0</td><td>4.0</td><td>4.0</td><td>4.0</td><td>3.7</td><td>Yes</td><td>Scott</td><td>null</td><td>null</td><td>null</td><td>X</td><td>X</td><td>X</td><td>X</td><td>X</td><td>X</td><td>null</td><td>null</td><td>null</td><td>null</td><td>null</td><td>null</td><td>null</td><td>null</td><td>null</td><td>null</td><td>null</td><td>null</td><td>null</td><td>null</td><td>null</td><td>null</td><td>null</td><td>null</td><td>null</td><td>null</td><td>null</td><td>null</td><td>null</td><td>null</td><td>null</td><td>null</td><td>null</td><td>null</td><td>null</td></tr><tr><td>Albertacos</td><td>Carne asada</td><td>6/8/2016</td><td>null</td><td>null</td><td>null</td><td>null</td><td>null</td><td>null</td><td>5.25</td><td>4.0</td><td>null</td><td>null</td><td>21.0</td><td>21.0</td><td>0.74</td><td>3.5</td><td>3.0</td><td>2.8</td><td>3.5</td><td>4.0</td><td>4.0</td><td>4.0</td><td>3.5</td><td>5.0</td><td>3.2</td><td>Yes</td><td>Emily</td><td>null</td><td>null</td><td>null</td><td>X</td><td>X</td><td>X</td><td>null</td><td>null</td><td>null</td><td>null</td><td>null</td><td>null</td><td>null</td><td>null</td><td>null</td><td>null</td><td>null</td><td>null</td><td>null</td><td>null</td><td>null</td><td>null</td><td>null</td><td>null</td><td>null</td><td>null</td><td>null</td><td>null</td><td>null</td><td>null</td><td>null</td><td>null</td><td>null</td><td>null</td><td>null</td><td>null</td><td>null</td><td>null</td></tr><tr><td>El Rey Moro</td><td>California Surf</td><td>6/9/2016</td><td>Clairemont</td><td>4471 Clairemont Mesa Blvd</td><td>https://www.yelp.com/biz/el-rey-moro-taco-shop-san-diego</td><td>4.0</td><td>3.8</td><td>null</td><td>9.19</td><td>2.8</td><td>null</td><td>null</td><td>20.5</td><td>23.5</td><td>0.9</td><td>3.5</td><td>4.5</td><td>4.0</td><td>3.5</td><td>5.0</td><td>4.5</td><td>3.0</td><td>3.5</td><td>5.0</td><td>4.0</td><td>Yes</td><td>Scott</td><td>shrimp is really good. too much chipotle sauce</td><td>null</td><td>null</td><td>X</td><td>null</td><td>X</td><td>X</td><td>X</td><td>null</td><td>null</td><td>null</td><td>X</td><td>null</td><td>null</td><td>null</td><td>null</td><td>null</td><td>null</td><td>null</td><td>null</td><td>X</td><td>null</td><td>null</td><td>null</td><td>null</td><td>null</td><td>null</td><td>null</td><td>null</td><td>null</td><td>null</td><td>null</td><td>null</td><td>null</td><td>null</td><td>null</td><td>null</td><td>null</td></tr><tr><td>Tacos por favor</td><td>Carne asada</td><td>6/11/2016</td><td>Santa Monica</td><td>1408 Olympic Blvd</td><td>https://www.yelp.com/biz/el-dorado-mexican-food-temecula</td><td>4.0</td><td>4.1</td><td>x</td><td>7.85</td><td>3.0</td><td>null</td><td>null</td><td>16.5</td><td>20.5</td><td>0.55</td><td>3.0</td><td>4.5</td><td>4.5</td><td>3.5</td><td>3.5</td><td>3.5</td><td>1.0</td><td>4.0</td><td>1.0</td><td>3.5</td><td>Yes</td><td>Scott</td><td>null</td><td>null</td><td>x</td><td>X</td><td>X</td><td>X</td><td>null</td><td>null</td><td>null</td><td>null</td><td>null</td><td>null</td><td>null</td><td>X</td><td>X</td><td>null</td><td>null</td><td>null</td><td>null</td><td>null</td><td>null</td><td>null</td><td>null</td><td>null</td><td>null</td><td>null</td><td>null</td><td>null</td><td>null</td><td>null</td><td>null</td><td>null</td><td>null</td><td>null</td><td>null</td><td>null</td><td>null</td><td>null</td></tr><tr><td>Tacos por favor</td><td>Al pastor</td><td>6/11/2016</td><td>null</td><td>null</td><td>null</td><td>null</td><td>null</td><td>null</td><td>6.85</td><td>4.0</td><td>null</td><td>null</td><td>15.5</td><td>21.0</td><td>0.54</td><td>3.0</td><td>5.0</td><td>4.0</td><td>3.0</td><td>5.0</td><td>4.0</td><td>3.0</td><td>4.0</td><td>3.0</td><td>4.0</td><td>Yes</td><td>Christian</td><td>null</td><td>null</td><td>x</td><td>null</td><td>X</td><td>null</td><td>null</td><td>null</td><td>null</td><td>x</td><td>null</td><td>null</td><td>null</td><td>X</td><td>X</td><td>null</td><td>null</td><td>null</td><td>null</td><td>null</td><td>null</td><td>null</td><td>null</td><td>null</td><td>null</td><td>null</td><td>null</td><td>null</td><td>null</td><td>null</td><td>null</td><td>null</td><td>null</td><td>null</td><td>null</td><td>null</td><td>null</td><td>null</td></tr><tr><td>Tacos por favor</td><td>Carne asada</td><td>6/11/2016</td><td>null</td><td>null</td><td>null</td><td>null</td><td>null</td><td>null</td><td>6.85</td><td>4.0</td><td>null</td><td>null</td><td>18.0</td><td>null</td><td>null</td><td>4.0</td><td>5.0</td><td>3.5</td><td>3.0</td><td>4.0</td><td>4.0</td><td>3.0</td><td>3.0</td><td>3.0</td><td>3.5</td><td>null</td><td>Sam H</td><td>null</td><td>null</td><td>x</td><td>X</td><td>X</td><td>null</td><td>null</td><td>null</td><td>null</td><td>null</td><td>null</td><td>null</td><td>null</td><td>X</td><td>X</td><td>null</td><td>null</td><td>null</td><td>null</td><td>null</td><td>null</td><td>null</td><td>null</td><td>null</td><td>null</td><td>null</td><td>null</td><td>null</td><td>null</td><td>null</td><td>null</td><td>null</td><td>null</td><td>null</td><td>null</td><td>null</td><td>null</td><td>null</td></tr><tr><td>El Dorado Mexican Food</td><td>California</td><td>6/16/2016</td><td>Temecula</td><td>29000 Old Town Front St</td><td>https://www.yelp.com/biz/el-dorado-mexican-food-temecula</td><td>4.5</td><td>4.0</td><td>null</td><td>6.94</td><td>4.0</td><td>null</td><td>null</td><td>null</td><td>null</td><td>null</td><td>4.0</td><td>4.0</td><td>4.0</td><td>4.5</td><td>3.2</td><td>3.0</td><td>4.5</td><td>4.5</td><td>2.0</td><td>4.5</td><td>Yes</td><td>Scott</td><td>Salsa verde has an interesting hint of garlic</td><td>null</td><td>null</td><td>X</td><td>null</td><td>X</td><td>X</td><td>X</td><td>X</td><td>null</td><td>null</td><td>null</td><td>null</td><td>null</td><td>null</td><td>null</td><td>null</td><td>null</td><td>null</td><td>null</td><td>null</td><td>null</td><td>null</td><td>null</td><td>null</td><td>null</td><td>null</td><td>null</td><td>null</td><td>null</td><td>null</td><td>null</td><td>null</td><td>null</td><td>null</td><td>null</td><td>null</td><td>null</td></tr><tr><td>El Dorado Mexican Food</td><td>Super</td><td>6/16/2016</td><td>null</td><td>null</td><td>null</td><td>null</td><td>null</td><td>null</td><td>6.94</td><td>3.75</td><td>null</td><td>null</td><td>null</td><td>null</td><td>null</td><td>3.5</td><td>3.5</td><td>3.5</td><td>3.5</td><td>4.0</td><td>4.0</td><td>4.5</td><td>3.5</td><td>4.5</td><td>3.8</td><td>Yes</td><td>Emily</td><td>null</td><td>null</td><td>null</td><td>X</td><td>null</td><td>X</td><td>X</td><td>null</td><td>X</td><td>null</td><td>null</td><td>null</td><td>null</td><td>null</td><td>null</td><td>null</td><td>null</td><td>null</td><td>null</td><td>null</td><td>null</td><td>X</td><td>null</td><td>null</td><td>null</td><td>null</td><td>null</td><td>null</td><td>null</td><td>null</td><td>null</td><td>null</td><td>null</td><td>null</td><td>null</td><td>null</td><td>null</td><td>null</td></tr><tr><td>Lolita's Taco Shop</td><td>California</td><td>6/23/2016</td><td>null</td><td>null</td><td>null</td><td>null</td><td>null</td><td>null</td><td>7.0</td><td>2.2</td><td>null</td><td>null</td><td>18.0</td><td>25.0</td><td>0.9</td><td>2.8</td><td>3.0</td><td>3.0</td><td>2.0</td><td>2.0</td><td>4.5</td><td>2.0</td><td>1.5</td><td>4.5</td><td>2.3</td><td>No</td><td>Scott</td><td>null</td><td>null</td><td>null</td><td>x</td><td>null</td><td>null</td><td>x</td><td>x</td><td>x</td><td>null</td><td>null</td><td>null</td><td>null</td><td>null</td><td>null</td><td>null</td><td>null</td><td>null</td><td>null</td><td>null</td><td>null</td><td>null</td><td>null</td><td>null</td><td>null</td><td>null</td><td>null</td><td>null</td><td>null</td><td>null</td><td>null</td><td>null</td><td>null</td><td>null</td><td>null</td><td>null</td><td>null</td><td>null</td></tr><tr><td>Lolita's Taco Shop</td><td>California</td><td>6/23/2016</td><td>null</td><td>null</td><td>null</td><td>null</td><td>null</td><td>null</td><td>7.0</td><td>3.5</td><td>null</td><td>null</td><td>18.0</td><td>23.5</td><td>0.79</td><td>4.0</td><td>4.0</td><td>4.0</td><td>3.0</td><td>4.0</td><td>5.0</td><td>4.0</td><td>4.0</td><td>5.0</td><td>4.0</td><td>Yes</td><td>Cris</td><td>null</td><td>null</td><td>null</td><td>x</td><td>null</td><td>null</td><td>x</td><td>x</td><td>x</td><td>null</td><td>null</td><td>null</td><td>null</td><td>null</td><td>null</td><td>null</td><td>null</td><td>null</td><td>null</td><td>null</td><td>null</td><td>null</td><td>null</td><td>null</td><td>null</td><td>null</td><td>null</td><td>null</td><td>null</td><td>null</td><td>null</td><td>null</td><td>null</td><td>null</td><td>null</td><td>null</td><td>null</td><td>null</td></tr><tr><td>Lolita's Taco Shop</td><td>California</td><td>6/23/2016</td><td>null</td><td>null</td><td>null</td><td>null</td><td>null</td><td>null</td><td>7.0</td><td>3.0</td><td>null</td><td>null</td><td>19.0</td><td>24.0</td><td>0.87</td><td>3.5</td><td>2.0</td><td>3.0</td><td>4.0</td><td>2.0</td><td>4.0</td><td>3.0</td><td>3.0</td><td>4.0</td><td>3.0</td><td>null</td><td>Matt</td><td>null</td><td>null</td><td>null</td><td>x</td><td>null</td><td>x</td><td>x</td><td>x</td><td>x</td><td>null</td><td>null</td><td>null</td><td>null</td><td>null</td><td>null</td><td>null</td><td>null</td><td>null</td><td>null</td><td>null</td><td>null</td><td>null</td><td>null</td><td>null</td><td>null</td><td>null</td><td>null</td><td>null</td><td>null</td><td>null</td><td>null</td><td>null</td><td>null</td><td>null</td><td>null</td><td>null</td><td>null</td><td>null</td></tr><tr><td>Lolita's Taco Shop</td><td>Mixed</td><td>6/23/2016</td><td>null</td><td>null</td><td>null</td><td>null</td><td>null</td><td>null</td><td>8.25</td><td>4.0</td><td>null</td><td>null</td><td>null</td><td>null</td><td>null</td><td>4.0</td><td>3.0</td><td>4.0</td><td>4.0</td><td>4.0</td><td>5.0</td><td>3.0</td><td>4.0</td><td>5.0</td><td>3.5</td><td>Yes</td><td>Marc</td><td>null</td><td>null</td><td>null</td><td>x</td><td>null</td><td>x</td><td>x</td><td>null</td><td>null</td><td>null</td><td>null</td><td>null</td><td>null</td><td>null</td><td>x</td><td>null</td><td>null</td><td>null</td><td>null</td><td>null</td><td>null</td><td>null</td><td>null</td><td>null</td><td>null</td><td>null</td><td>null</td><td>null</td><td>null</td><td>null</td><td>null</td><td>null</td><td>null</td><td>null</td><td>null</td><td>null</td><td>null</td><td>null</td></tr><tr><td>California Burritos</td><td>California Everything</td><td>6/24/2016</td><td>null</td><td>null</td><td>null</td><td>null</td><td>null</td><td>null</td><td>6.25</td><td>3.0</td><td>null</td><td>null</td><td>23.5</td><td>21.5</td><td>0.86</td><td>3.8</td><td>1.3</td><td>3.5</td><td>3.5</td><td>4.5</td><td>4.5</td><td>3.5</td><td>4.0</td><td>5.0</td><td>3.9</td><td>Yes</td><td>Scott</td><td>Temperature brought it down</td><td>null</td><td>null</td><td>x</td><td>x</td><td>x</td><td>x</td><td>x</td><td>null</td><td>null</td><td>null</td><td>null</td><td>null</td><td>null</td><td>null</td><td>null</td><td>null</td><td>null</td><td>null</td><td>null</td><td>null</td><td>null</td><td>null</td><td>null</td><td>null</td><td>null</td><td>null</td><td>null</td><td>null</td><td>null</td><td>null</td><td>null</td><td>null</td><td>null</td><td>null</td><td>null</td><td>null</td><td>null</td></tr><tr><td>California Burritos</td><td>California Everything</td><td>6/24/2016</td><td>null</td><td>null</td><td>null</td><td>null</td><td>null</td><td>null</td><td>6.25</td><td>4.5</td><td>null</td><td>null</td><td>22.5</td><td>22.0</td><td>0.87</td><td>4.0</td><td>4.0</td><td>4.5</td><td>4.0</td><td>4.0</td><td>3.5</td><td>4.0</td><td>4.0</td><td>4.5</td><td>4.25</td><td>Yes</td><td>Ricardo</td><td>null</td><td>null</td><td>null</td><td>x</td><td>x</td><td>x</td><td>x</td><td>x</td><td>null</td><td>null</td><td>null</td><td>null</td><td>null</td><td>null</td><td>null</td><td>null</td><td>null</td><td>null</td><td>null</td><td>null</td><td>null</td><td>null</td><td>null</td><td>null</td><td>null</td><td>null</td><td>null</td><td>null</td><td>null</td><td>null</td><td>null</td><td>null</td><td>null</td><td>null</td><td>null</td><td>null</td><td>null</td><td>null</td></tr><tr><td>California Burritos</td><td>California Everything</td><td>6/24/2016</td><td>null</td><td>null</td><td>null</td><td>null</td><td>null</td><td>null</td><td>6.25</td><td>4.0</td><td>null</td><td>null</td><td>22.5</td><td>22.0</td><td>0.87</td><td>3.0</td><td>2.5</td><td>4.0</td><td>4.0</td><td>4.0</td><td>2.0</td><td>2.0</td><td>3.0</td><td>4.0</td><td>4.0</td><td>Yes</td><td>Elynn</td><td>null</td><td>null</td><td>null</td><td>x</td><td>x</td><td>x</td><td>x</td><td>x</td><td>null</td><td>null</td><td>null</td><td>null</td><td>null</td><td>null</td><td>null</td><td>null</td><td>null</td><td>null</td><td>null</td><td>null</td><td>null</td><td>null</td><td>null</td><td>null</td><td>null</td><td>null</td><td>null</td><td>null</td><td>null</td><td>null</td><td>null</td><td>null</td><td>null</td><td>null</td><td>null</td><td>null</td><td>null</td><td>null</td></tr><tr><td>California Burritos</td><td>California Everything</td><td>6/24/2016</td><td>null</td><td>null</td><td>null</td><td>null</td><td>null</td><td>null</td><td>6.25</td><td>3.0</td><td>null</td><td>null</td><td>23.0</td><td>22.5</td><td>0.93</td><td>5.0</td><td>4.0</td><td>4.0</td><td>4.5</td><td>4.0</td><td>4.5</td><td>null</td><td>4.0</td><td>4.0</td><td>4.5</td><td>Yes</td><td>Erin</td><td>null</td><td>null</td><td>null</td><td>x</td><td>x</td><td>x</td><td>x</td><td>x</td><td>null</td><td>null</td><td>null</td><td>null</td><td>null</td><td>null</td><td>null</td><td>null</td><td>null</td><td>null</td><td>null</td><td>null</td><td>null</td><td>null</td><td>null</td><td>null</td><td>null</td><td>null</td><td>null</td><td>null</td><td>null</td><td>null</td><td>null</td><td>null</td><td>null</td><td>null</td><td>null</td><td>null</td><td>null</td><td>null</td></tr><tr><td>California Burritos</td><td>California Everything</td><td>6/24/2016</td><td>null</td><td>null</td><td>null</td><td>null</td><td>null</td><td>null</td><td>6.25</td><td>4.0</td><td>null</td><td>null</td><td>null</td><td>null</td><td>null</td><td>4.0</td><td>3.5</td><td>4.5</td><td>4.0</td><td>4.5</td><td>4.0</td><td>4.5</td><td>4.5</td><td>5.0</td><td>4.5</td><td>Yes</td><td>Luis</td><td>null</td><td>null</td><td>null</td><td>x</td><td>x</td><td>x</td><td>x</td><td>x</td><td>null</td><td>null</td><td>null</td><td>null</td><td>null</td><td>null</td><td>null</td><td>null</td><td>null</td><td>null</td><td>null</td><td>null</td><td>null</td><td>null</td><td>null</td><td>null</td><td>null</td><td>null</td><td>null</td><td>null</td><td>null</td><td>null</td><td>null</td><td>null</td><td>null</td><td>null</td><td>null</td><td>null</td><td>null</td><td>null</td></tr><tr><td>California Burritos</td><td>Carnitas</td><td>6/24/2016</td><td>null</td><td>null</td><td>null</td><td>null</td><td>null</td><td>null</td><td>5.5</td><td>4.5</td><td>null</td><td>null</td><td>21.5</td><td>20.0</td><td>0.68</td><td>5.0</td><td>4.0</td><td>5.0</td><td>4.0</td><td>4.5</td><td>4.0</td><td>4.0</td><td>4.5</td><td>4.0</td><td>4.5</td><td>Yes</td><td>Matteo</td><td>null</td><td>null</td><td>null</td><td>null</td><td>null</td><td>x</td><td>null</td><td>null</td><td>null</td><td>x</td><td>null</td><td>null</td><td>null</td><td>null</td><td>null</td><td>null</td><td>null</td><td>null</td><td>null</td><td>null</td><td>null</td><td>null</td><td>null</td><td>null</td><td>null</td><td>null</td><td>null</td><td>null</td><td>null</td><td>null</td><td>null</td><td>null</td><td>null</td><td>null</td><td>null</td><td>null</td><td>null</td><td>null</td></tr><tr><td>California Burritos</td><td>Carne asada everything</td><td>6/24/2016</td><td>null</td><td>null</td><td>null</td><td>null</td><td>null</td><td>null</td><td>6.25</td><td>3.0</td><td>null</td><td>null</td><td>23.0</td><td>23.0</td><td>0.97</td><td>4.0</td><td>3.0</td><td>4.0</td><td>3.0</td><td>4.0</td><td>3.0</td><td>3.0</td><td>4.0</td><td>4.0</td><td>4.0</td><td>Yes</td><td>Brent</td><td>null</td><td>null</td><td>null</td><td>x</td><td>x</td><td>x</td><td>x</td><td>null</td><td>x</td><td>null</td><td>null</td><td>null</td><td>null</td><td>null</td><td>null</td><td>null</td><td>null</td><td>null</td><td>null</td><td>null</td><td>null</td><td>null</td><td>null</td><td>null</td><td>null</td><td>null</td><td>null</td><td>null</td><td>null</td><td>null</td><td>null</td><td>null</td><td>null</td><td>null</td><td>null</td><td>null</td><td>null</td><td>null</td></tr><tr><td>California Burritos</td><td>Carne asada everything</td><td>6/24/2016</td><td>null</td><td>null</td><td>null</td><td>null</td><td>null</td><td>null</td><td>6.25</td><td>4.5</td><td>null</td><td>null</td><td>21.5</td><td>20.5</td><td>0.72</td><td>4.0</td><td>5.0</td><td>4.5</td><td>4.0</td><td>4.5</td><td>4.0</td><td>3.0</td><td>4.0</td><td>5.0</td><td>4.5</td><td>Yes</td><td>Daniel</td><td>null</td><td>null</td><td>null</td><td>x</td><td>x</td><td>x</td><td>x</td><td>null</td><td>x</td><td>null</td><td>null</td><td>null</td><td>null</td><td>null</td><td>null</td><td>null</td><td>null</td><td>null</td><td>null</td><td>null</td><td>null</td><td>null</td><td>null</td><td>null</td><td>null</td><td>null</td><td>null</td><td>null</td><td>null</td><td>null</td><td>null</td><td>null</td><td>null</td><td>null</td><td>null</td><td>null</td><td>null</td><td>null</td></tr><tr><td>California Burritos</td><td>Carne asada everything</td><td>6/24/2016</td><td>null</td><td>null</td><td>null</td><td>null</td><td>null</td><td>null</td><td>6.25</td><td>5.0</td><td>null</td><td>null</td><td>23.0</td><td>21.5</td><td>0.85</td><td>4.0</td><td>3.0</td><td>5.0</td><td>4.0</td><td>4.0</td><td>4.0</td><td>5.0</td><td>5.0</td><td>3.0</td><td>4.2</td><td>Yes</td><td>Alejandro</td><td>null</td><td>null</td><td>null</td><td>x</td><td>x</td><td>x</td><td>x</td><td>null</td><td>x</td><td>null</td><td>null</td><td>null</td><td>null</td><td>null</td><td>null</td><td>null</td><td>null</td><td>null</td><td>null</td><td>null</td><td>null</td><td>null</td><td>null</td><td>null</td><td>null</td><td>null</td><td>null</td><td>null</td><td>null</td><td>null</td><td>null</td><td>null</td><td>null</td><td>null</td><td>null</td><td>null</td><td>null</td><td>null</td></tr><tr><td>California Burritos</td><td>California Everything</td><td>8/1/2016</td><td>null</td><td>null</td><td>null</td><td>null</td><td>null</td><td>null</td><td>6.25</td><td>4.0</td><td>null</td><td>null</td><td>22.0</td><td>20.8</td><td>0.76</td><td>4.0</td><td>4.0</td><td>3.5</td><td>4.0</td><td>3.0</td><td>4.0</td><td>4.0</td><td>3.5</td><td>4.5</td><td>3.75</td><td>Yes</td><td>Ricardo</td><td>null</td><td>null</td><td>null</td><td>x</td><td>x</td><td>x</td><td>x</td><td>x</td><td>null</td><td>null</td><td>null</td><td>null</td><td>null</td><td>null</td><td>null</td><td>null</td><td>null</td><td>null</td><td>null</td><td>null</td><td>null</td><td>null</td><td>null</td><td>null</td><td>null</td><td>null</td><td>null</td><td>null</td><td>null</td><td>null</td><td>null</td><td>null</td><td>null</td><td>null</td><td>null</td><td>null</td><td>null</td><td>null</td></tr><tr><td>California Burritos</td><td>California Everything</td><td>8/1/2016</td><td>null</td><td>null</td><td>null</td><td>null</td><td>null</td><td>null</td><td>6.25</td><td>4.0</td><td>null</td><td>null</td><td>22.5</td><td>21.5</td><td>0.83</td><td>3.0</td><td>2.0</td><td>4.0</td><td>5.0</td><td>4.0</td><td>4.0</td><td>3.0</td><td>4.0</td><td>3.0</td><td>4.0</td><td>Yes</td><td>Elynn</td><td>null</td><td>null</td><td>null</td><td>x</td><td>x</td><td>x</td><td>x</td><td>x</td><td>null</td><td>null</td><td>null</td><td>null</td><td>null</td><td>null</td><td>null</td><td>null</td><td>null</td><td>null</td><td>null</td><td>null</td><td>null</td><td>null</td><td>null</td><td>null</td><td>null</td><td>null</td><td>null</td><td>null</td><td>null</td><td>null</td><td>null</td><td>null</td><td>null</td><td>null</td><td>null</td><td>null</td><td>null</td><td>null</td></tr><tr><td>California Burritos</td><td>California Everything</td><td>8/1/2016</td><td>null</td><td>null</td><td>null</td><td>null</td><td>null</td><td>null</td><td>6.25</td><td>4.0</td><td>null</td><td>null</td><td>23.0</td><td>21.5</td><td>0.85</td><td>4.0</td><td>3.5</td><td>3.5</td><td>4.0</td><td>3.5</td><td>4.0</td><td>3.5</td><td>4.0</td><td>4.5</td><td>4.0</td><td>Yes</td><td>Matteo</td><td>null</td><td>null</td><td>null</td><td>x</td><td>x</td><td>x</td><td>x</td><td>x</td><td>null</td><td>null</td><td>null</td><td>null</td><td>null</td><td>null</td><td>null</td><td>null</td><td>null</td><td>null</td><td>null</td><td>null</td><td>null</td><td>null</td><td>null</td><td>null</td><td>null</td><td>null</td><td>null</td><td>null</td><td>null</td><td>null</td><td>null</td><td>null</td><td>null</td><td>null</td><td>null</td><td>null</td><td>null</td><td>null</td></tr><tr><td>California Burritos</td><td>California Everything</td><td>8/1/2016</td><td>null</td><td>null</td><td>null</td><td>null</td><td>null</td><td>null</td><td>6.25</td><td>3.5</td><td>null</td><td>null</td><td>21.0</td><td>22.5</td><td>0.85</td><td>3.5</td><td>2.0</td><td>3.0</td><td>3.5</td><td>3.5</td><td>2.5</td><td>2.5</td><td>3.5</td><td>4.5</td><td>3.4</td><td>Yes</td><td>Scott</td><td>null</td><td>null</td><td>null</td><td>x</td><td>x</td><td>x</td><td>x</td><td>x</td><td>null</td><td>null</td><td>null</td><td>null</td><td>null</td><td>null</td><td>null</td><td>null</td><td>null</td><td>null</td><td>null</td><td>null</td><td>null</td><td>null</td><td>null</td><td>null</td><td>null</td><td>null</td><td>null</td><td>null</td><td>null</td><td>null</td><td>null</td><td>null</td><td>null</td><td>null</td><td>null</td><td>null</td><td>null</td><td>null</td></tr><tr><td>California Burritos</td><td>California Everything</td><td>8/1/2016</td><td>null</td><td>null</td><td>null</td><td>null</td><td>null</td><td>null</td><td>6.25</td><td>3.0</td><td>null</td><td>null</td><td>22.5</td><td>21.0</td><td>0.79</td><td>4.0</td><td>4.0</td><td>4.5</td><td>5.0</td><td>4.75</td><td>5.0</td><td>4.0</td><td>4.5</td><td>4.5</td><td>null</td><td>Yes</td><td>Aga</td><td>null</td><td>null</td><td>null</td><td>x</td><td>x</td><td>x</td><td>x</td><td>x</td><td>null</td><td>null</td><td>null</td><td>null</td><td>null</td><td>null</td><td>null</td><td>null</td><td>null</td><td>null</td><td>null</td><td>null</td><td>null</td><td>null</td><td>null</td><td>null</td><td>null</td><td>null</td><td>null</td><td>null</td><td>null</td><td>null</td><td>null</td><td>null</td><td>null</td><td>null</td><td>null</td><td>null</td><td>null</td><td>null</td></tr><tr><td>California Burritos</td><td>Surf & Turf</td><td>8/1/2016</td><td>null</td><td>null</td><td>null</td><td>null</td><td>null</td><td>null</td><td>7.0</td><td>4.31</td><td>null</td><td>null</td><td>null</td><td>null</td><td>null</td><td>3.0</td><td>2.5</td><td>3.5</td><td>3.0</td><td>3.5</td><td>4.0</td><td>3.0</td><td>3.0</td><td>4.0</td><td>null</td><td>Yes</td><td>Hannah</td><td>null</td><td>null</td><td>null</td><td>null</td><td>null</td><td>null</td><td>null</td><td>null</td><td>null</td><td>null</td><td>null</td><td>null</td><td>null</td><td>null</td><td>null</td><td>null</td><td>null</td><td>null</td><td>null</td><td>null</td><td>null</td><td>null</td><td>null</td><td>null</td><td>null</td><td>null</td><td>null</td><td>null</td><td>null</td><td>null</td><td>null</td><td>null</td><td>null</td><td>null</td><td>null</td><td>null</td><td>null</td><td>null</td></tr><tr><td>California Burritos</td><td>Carne asada everything</td><td>8/1/2016</td><td>null</td><td>null</td><td>null</td><td>null</td><td>null</td><td>null</td><td>6.25</td><td>4.5</td><td>null</td><td>null</td><td>22.0</td><td>20.0</td><td>0.7</td><td>4.5</td><td>4.0</td><td>4.0</td><td>4.5</td><td>4.0</td><td>4.0</td><td>4.5</td><td>4.5</td><td>4.0</td><td>4.0</td><td>Yes</td><td>Brent</td><td>null</td><td>null</td><td>null</td><td>x</td><td>x</td><td>x</td><td>x</td><td>null</td><td>x</td><td>null</td><td>null</td><td>null</td><td>null</td><td>null</td><td>null</td><td>null</td><td>null</td><td>null</td><td>null</td><td>null</td><td>null</td><td>null</td><td>null</td><td>null</td><td>null</td><td>null</td><td>null</td><td>null</td><td>null</td><td>null</td><td>null</td><td>null</td><td>null</td><td>null</td><td>null</td><td>null</td><td>null</td><td>null</td></tr><tr><td>Los Primos Mexican Food</td><td>Surf & Turf</td><td>8/6/2016</td><td>null</td><td>null</td><td>null</td><td>null</td><td>null</td><td>null</td><td>7.0</td><td>2.5</td><td>null</td><td>null</td><td>20.5</td><td>21.75</td><td>0.77</td><td>4.0</td><td>4.0</td><td>2.0</td><td>3.0</td><td>2.0</td><td>3.5</td><td>3.0</td><td>3.0</td><td>4.5</td><td>2.5</td><td>No</td><td>Emily</td><td>null</td><td>null</td><td>null</td><td>X</td><td>null</td><td>null</td><td>X</td><td>null</td><td>null</td><td>null</td><td>null</td><td>null</td><td>null</td><td>null</td><td>null</td><td>null</td><td>null</td><td>X</td><td>null</td><td>null</td><td>null</td><td>null</td><td>null</td><td>X</td><td>null</td><td>null</td><td>null</td><td>null</td><td>null</td><td>null</td><td>null</td><td>null</td><td>null</td><td>null</td><td>null</td><td>null</td><td>null</td><td>null</td></tr><tr><td>Los Primos Mexican Food</td><td>Adobada</td><td>8/6/2016</td><td>null</td><td>null</td><td>null</td><td>null</td><td>null</td><td>null</td><td>6.25</td><td>2.0</td><td>null</td><td>null</td><td>20.5</td><td>20.0</td><td>0.65</td><td>4.0</td><td>2.5</td><td>2.5</td><td>3.0</td><td>2.0</td><td>4.0</td><td>3.5</td><td>3.0</td><td>4.5</td><td>2.6</td><td>No</td><td>Scott</td><td>null</td><td>null</td><td>null</td><td>null</td><td>null</td><td>null</td><td>null</td><td>null</td><td>null</td><td>null</td><td>null</td><td>null</td><td>null</td><td>null</td><td>null</td><td>null</td><td>null</td><td>null</td><td>null</td><td>null</td><td>null</td><td>null</td><td>null</td><td>null</td><td>null</td><td>null</td><td>null</td><td>null</td><td>null</td><td>null</td><td>null</td><td>null</td><td>null</td><td>null</td><td>null</td><td>null</td><td>null</td><td>null</td></tr><tr><td>Los Primos Mexican Food</td><td>Carne asada</td><td>8/6/2016</td><td>null</td><td>null</td><td>null</td><td>null</td><td>null</td><td>null</td><td>7.0</td><td>4.0</td><td>null</td><td>null</td><td>18.5</td><td>20.5</td><td>0.62</td><td>3.5</td><td>3.0</td><td>2.0</td><td>2.0</td><td>1.0</td><td>3.0</td><td>3.5</td><td>1.5</td><td>4.0</td><td>2.0</td><td>No</td><td>Ricardo</td><td>null</td><td>null</td><td>null</td><td>null</td><td>null</td><td>null</td><td>null</td><td>null</td><td>null</td><td>null</td><td>null</td><td>null</td><td>null</td><td>null</td><td>null</td><td>null</td><td>null</td><td>null</td><td>null</td><td>null</td><td>null</td><td>null</td><td>null</td><td>null</td><td>null</td><td>null</td><td>null</td><td>null</td><td>null</td><td>null</td><td>null</td><td>null</td><td>null</td><td>null</td><td>null</td><td>null</td><td>null</td><td>null</td></tr><tr><td>Papa Chito's Mexican Food</td><td>California</td><td>8/9/2016</td><td>University City</td><td>3951 Governor Dr</td><td>https://www.yelp.com/biz/papa-chitos-mexican-food-san-diego</td><td>2.5</td><td>3.3</td><td>null</td><td>6.25</td><td>3.5</td><td>null</td><td>null</td><td>21.5</td><td>20.0</td><td>0.68</td><td>3.5</td><td>3.5</td><td>2.5</td><td>2.5</td><td>2.5</td><td>4.0</td><td>2.0</td><td>1.5</td><td>5.0</td><td>2.2</td><td>No</td><td>Scott</td><td>null</td><td>null</td><td>null</td><td>x</td><td>x</td><td>null</td><td>x</td><td>x</td><td>null</td><td>null</td><td>null</td><td>null</td><td>null</td><td>null</td><td>null</td><td>null</td><td>null</td><td>null</td><td>null</td><td>null</td><td>null</td><td>null</td><td>null</td><td>null</td><td>null</td><td>null</td><td>null</td><td>null</td><td>null</td><td>null</td><td>null</td><td>null</td><td>null</td><td>null</td><td>null</td><td>null</td><td>null</td><td>null</td></tr><tr><td>Papa Chito's Mexican Food</td><td>California</td><td>8/9/2016</td><td>null</td><td>null</td><td>null</td><td>null</td><td>null</td><td>null</td><td>6.25</td><td>4.0</td><td>null</td><td>null</td><td>20.0</td><td>20.0</td><td>0.64</td><td>4.0</td><td>5.0</td><td>3.0</td><td>3.0</td><td>4.0</td><td>3.5</td><td>4.0</td><td>4.0</td><td>5.0</td><td>3.75</td><td>Yes</td><td>Sage</td><td>null</td><td>null</td><td>null</td><td>x</td><td>x</td><td>null</td><td>x</td><td>x</td><td>null</td><td>null</td><td>null</td><td>null</td><td>null</td><td>null</td><td>null</td><td>null</td><td>null</td><td>null</td><td>null</td><td>null</td><td>null</td><td>null</td><td>null</td><td>null</td><td>null</td><td>null</td><td>null</td><td>null</td><td>null</td><td>null</td><td>null</td><td>null</td><td>null</td><td>null</td><td>null</td><td>null</td><td>null</td><td>null</td></tr><tr><td>El Pueblo Mexican Food</td><td>California</td><td>8/10/2016</td><td>Cardiff </td><td>820 Birmingham Dr</td><td>https://www.yelp.com/biz/el-pueblo-authentic-mexican-food-cardiff-by-the-sea</td><td>4.0</td><td>4.7</td><td>null</td><td>4.99</td><td>4.0</td><td>null</td><td>null</td><td>19.0</td><td>21.0</td><td>0.67</td><td>4.5</td><td>4.5</td><td>3.5</td><td>4.0</td><td>4.5</td><td>5.0</td><td>2.5</td><td>4.5</td><td>5.0</td><td>4.3</td><td>Yes</td><td>Scott</td><td>null</td><td>null</td><td>null</td><td>x</td><td>x</td><td>null</td><td>x</td><td>x</td><td>null</td><td>null</td><td>null</td><td>null</td><td>null</td><td>null</td><td>null</td><td>null</td><td>null</td><td>null</td><td>null</td><td>null</td><td>null</td><td>null</td><td>null</td><td>null</td><td>null</td><td>null</td><td>null</td><td>null</td><td>null</td><td>null</td><td>null</td><td>null</td><td>null</td><td>null</td><td>null</td><td>null</td><td>null</td><td>null</td></tr><tr><td>Burros and Fries</td><td>California</td><td>8/12/2016</td><td>Clairemont</td><td>4705 Clairemont Dr</td><td>http://www.burrosandfries.com/</td><td>3.5</td><td>4.1</td><td>null</td><td>6.89</td><td>4.0</td><td>null</td><td>null</td><td>21.5</td><td>22.5</td><td>0.87</td><td>3.5</td><td>4.5</td><td>3.5</td><td>3.5</td><td>3.0</td><td>1.5</td><td>2.5</td><td>3.5</td><td>5.0</td><td>3.5</td><td>Yes</td><td>Scott</td><td>good fries</td><td>null</td><td>null</td><td>x</td><td>x</td><td>null</td><td>x</td><td>x</td><td>x</td><td>null</td><td>null</td><td>null</td><td>null</td><td>null</td><td>null</td><td>null</td><td>null</td><td>null</td><td>null</td><td>null</td><td>null</td><td>null</td><td>null</td><td>null</td><td>null</td><td>null</td><td>null</td><td>null</td><td>null</td><td>null</td><td>null</td><td>null</td><td>null</td><td>null</td><td>null</td><td>null</td><td>null</td><td>null</td></tr><tr><td>Burros and Fries</td><td>Carne asada</td><td>8/12/2016</td><td>null</td><td>null</td><td>null</td><td>null</td><td>null</td><td>null</td><td>6.89</td><td>5.0</td><td>null</td><td>null</td><td>18.5</td><td>21.0</td><td>0.65</td><td>3.0</td><td>5.0</td><td>4.5</td><td>4.5</td><td>3.0</td><td>4.0</td><td>4.5</td><td>4.0</td><td>4.5</td><td>4.0</td><td>Yes</td><td>Brent</td><td>very little guac</td><td>null</td><td>null</td><td>x</td><td>x</td><td>x</td><td>null</td><td>null</td><td>null</td><td>null</td><td>null</td><td>null</td><td>null</td><td>null</td><td>null</td><td>null</td><td>null</td><td>null</td><td>null</td><td>null</td><td>null</td><td>null</td><td>null</td><td>null</td><td>null</td><td>null</td><td>null</td><td>null</td><td>null</td><td>null</td><td>null</td><td>null</td><td>null</td><td>null</td><td>null</td><td>null</td><td>null</td><td>null</td></tr><tr><td>King Burrito</td><td>Adobada</td><td>8/16/2016</td><td>Oceanside</td><td>3490 Marron Rd</td><td>https://www.yelp.com/biz/king-burrito-oceanside-2</td><td>4.0</td><td>3.9</td><td>null</td><td>4.99</td><td>3.5</td><td>null</td><td>null</td><td>23.0</td><td>19.0</td><td>0.66</td><td>3.0</td><td>3.0</td><td>3.0</td><td>3.0</td><td>2.5</td><td>2.0</td><td>2.5</td><td>3.0</td><td>4.0</td><td>2.8</td><td>No</td><td>Emily</td><td>Too much tortilla per bite</td><td>null</td><td>null</td><td>null</td><td>X</td><td>X</td><td>null</td><td>null</td><td>null</td><td>X</td><td>null</td><td>null</td><td>null</td><td>null</td><td>null</td><td>null</td><td>null</td><td>null</td><td>null</td><td>null</td><td>null</td><td>null</td><td>null</td><td>null</td><td>null</td><td>null</td><td>null</td><td>null</td><td>null</td><td>null</td><td>null</td><td>null</td><td>null</td><td>null</td><td>null</td><td>null</td><td>null</td><td>null</td></tr><tr><td>King Burrito</td><td>California</td><td>8/16/2016</td><td>null</td><td>null</td><td>null</td><td>null</td><td>null</td><td>null</td><td>5.29</td><td>3.5</td><td>null</td><td>null</td><td>22.5</td><td>20.5</td><td>0.75</td><td>2.5</td><td>4.5</td><td>2.0</td><td>3.0</td><td>2.5</td><td>1.5</td><td>3.0</td><td>2.0</td><td>4.5</td><td>2.5</td><td>No</td><td>Scott</td><td>it does taste homemade. but that's not a good thing</td><td>null</td><td>null</td><td>x</td><td>x</td><td>null</td><td>x</td><td>x</td><td>null</td><td>null</td><td>null</td><td>null</td><td>null</td><td>null</td><td>null</td><td>null</td><td>null</td><td>null</td><td>null</td><td>null</td><td>null</td><td>null</td><td>null</td><td>null</td><td>null</td><td>null</td><td>null</td><td>null</td><td>null</td><td>null</td><td>null</td><td>null</td><td>null</td><td>null</td><td>null</td><td>null</td><td>null</td><td>null</td></tr><tr><td>Taco Stand</td><td>California </td><td>8/17/2016</td><td>null</td><td>null</td><td>null</td><td>null</td><td>null</td><td>null</td><td>7.49</td><td>2.0</td><td>null</td><td>null</td><td>18.5</td><td>21.5</td><td>0.68</td><td>4.0</td><td>5.0</td><td>4.5</td><td>3.5</td><td>3.5</td><td>2.0</td><td>3.5</td><td>4.0</td><td>5.0</td><td>4.0</td><td>Yes</td><td>Scott</td><td>null</td><td>null</td><td>null</td><td>x</td><td>x</td><td>x</td><td>x</td><td>x</td><td>x</td><td>null</td><td>null</td><td>null</td><td>null</td><td>null</td><td>null</td><td>null</td><td>null</td><td>null</td><td>null</td><td>null</td><td>null</td><td>null</td><td>null</td><td>null</td><td>null</td><td>null</td><td>null</td><td>null</td><td>null</td><td>null</td><td>null</td><td>null</td><td>null</td><td>null</td><td>null</td><td>null</td><td>null</td><td>null</td></tr><tr><td>Taco Stand</td><td>California </td><td>8/17/2016</td><td>null</td><td>null</td><td>null</td><td>null</td><td>null</td><td>null</td><td>7.49</td><td>2.5</td><td>null</td><td>null</td><td>16.5</td><td>23.5</td><td>0.73</td><td>3.5</td><td>5.0</td><td>4.0</td><td>3.0</td><td>4.0</td><td>4.5</td><td>3.0</td><td>3.5</td><td>5.0</td><td>4.0</td><td>Yes</td><td>TJ</td><td>null</td><td>null</td><td>null</td><td>x</td><td>x</td><td>x</td><td>x</td><td>x</td><td>x</td><td>null</td><td>null</td><td>null</td><td>null</td><td>null</td><td>null</td><td>null</td><td>null</td><td>null</td><td>null</td><td>null</td><td>null</td><td>null</td><td>null</td><td>null</td><td>null</td><td>null</td><td>null</td><td>null</td><td>null</td><td>null</td><td>null</td><td>null</td><td>null</td><td>null</td><td>null</td><td>null</td><td>null</td><td>null</td></tr><tr><td>Carmen's Mexican Food</td><td>Adobada</td><td>8/19/2016</td><td>Clairemont</td><td>4937 Diane Ave</td><td>https://www.yelp.com/biz/carmens-authentic-mexican-food-san-diego</td><td>4.0</td><td>4.2</td><td>null</td><td>6.5</td><td>3.5</td><td>null</td><td>null</td><td>20.5</td><td>20.5</td><td>0.69</td><td>2.5</td><td>4.0</td><td>3.5</td><td>4.0</td><td>4.0</td><td>3.0</td><td>1.5</td><td>3.5</td><td>5.0</td><td>3.6</td><td>Yes</td><td>Scott</td><td>really good guac</td><td>null</td><td>null</td><td>null</td><td>null</td><td>x</td><td>null</td><td>null</td><td>null</td><td>x</td><td>null</td><td>null</td><td>null</td><td>null</td><td>x</td><td>null</td><td>null</td><td>null</td><td>null</td><td>null</td><td>null</td><td>null</td><td>x</td><td>x</td><td>null</td><td>null</td><td>null</td><td>null</td><td>null</td><td>null</td><td>null</td><td>null</td><td>null</td><td>null</td><td>null</td><td>null</td><td>null</td><td>null</td></tr><tr><td>Carmen's Mexican Food</td><td>Carne asada</td><td>8/19/2016</td><td>null</td><td>null</td><td>null</td><td>null</td><td>null</td><td>null</td><td>6.5</td><td>5.0</td><td>null</td><td>null</td><td>21.0</td><td>21.0</td><td>0.74</td><td>4.5</td><td>4.5</td><td>3.5</td><td>4.0</td><td>4.0</td><td>3.5</td><td>4.0</td><td>4.0</td><td>4.0</td><td>4.0</td><td>Yes</td><td>Brent</td><td>null</td><td>null</td><td>null</td><td>x</td><td>x</td><td>x</td><td>null</td><td>null</td><td>null</td><td>null</td><td>null</td><td>null</td><td>null</td><td>null</td><td>null</td><td>null</td><td>null</td><td>null</td><td>null</td><td>null</td><td>null</td><td>null</td><td>null</td><td>null</td><td>null</td><td>null</td><td>null</td><td>null</td><td>null</td><td>null</td><td>null</td><td>null</td><td>null</td><td>null</td><td>null</td><td>null</td><td>null</td><td>null</td></tr><tr><td>Senor Panchos</td><td>Pollo asado</td><td>8/21/2016</td><td>San Marcos</td><td>1909 W San Marcos Blvd</td><td>https://www.yelp.com/biz/senor-panchos-mexican-restaurant-san-marcos</td><td>4.0</td><td>4.2</td><td>null</td><td>6.25</td><td>3.5</td><td>null</td><td>null</td><td>21.5</td><td>19.5</td><td>0.65</td><td>2.5</td><td>3.5</td><td>3.0</td><td>3.0</td><td>5.0</td><td>4.5</td><td>3.5</td><td>2.0</td><td>5.0</td><td>2.9</td><td>No</td><td>Scott</td><td>guac is good, very avocado-y</td><td>null</td><td>null</td><td>null</td><td>null</td><td>null</td><td>null</td><td>null</td><td>null</td><td>null</td><td>null</td><td>null</td><td>null</td><td>null</td><td>null</td><td>null</td><td>null</td><td>null</td><td>null</td><td>null</td><td>null</td><td>null</td><td>null</td><td>null</td><td>null</td><td>null</td><td>null</td><td>null</td><td>null</td><td>null</td><td>null</td><td>null</td><td>null</td><td>null</td><td>null</td><td>null</td><td>null</td><td>null</td></tr><tr><td>Senor Panchos</td><td>California</td><td>8/21/2016</td><td>null</td><td>null</td><td>null</td><td>null</td><td>null</td><td>null</td><td>6.25</td><td>3.0</td><td>null</td><td>null</td><td>21.0</td><td>19.5</td><td>0.64</td><td>3.0</td><td>4.0</td><td>4.0</td><td>3.0</td><td>3.5</td><td>4.5</td><td>4.0</td><td>4.0</td><td>5.0</td><td>4.0</td><td>Yes</td><td>Emily</td><td>feels very dense; a lot of meat</td><td>null</td><td>null</td><td>null</td><td>null</td><td>null</td><td>null</td><td>null</td><td>null</td><td>null</td><td>null</td><td>null</td><td>null</td><td>null</td><td>null</td><td>null</td><td>null</td><td>null</td><td>null</td><td>null</td><td>null</td><td>null</td><td>null</td><td>null</td><td>null</td><td>null</td><td>null</td><td>null</td><td>null</td><td>null</td><td>null</td><td>null</td><td>null</td><td>null</td><td>null</td><td>null</td><td>null</td><td>null</td></tr><tr><td>Los Cabos</td><td>California</td><td>8/27/2016</td><td>San Marcos</td><td>165 S Rancho Santa Fe Rd</td><td>https://www.yelp.com/biz/los-cabos-san-marcos</td><td>4.0</td><td>4.1</td><td>x</td><td>5.99</td><td>4.0</td><td>null</td><td>null</td><td>18.5</td><td>21.0</td><td>0.65</td><td>4.0</td><td>4.5</td><td>2.5</td><td>2.5</td><td>2.5</td><td>1.5</td><td>3.0</td><td>4.0</td><td>5.0</td><td>3.0</td><td>No</td><td>Scott</td><td>Repeatedly get large bites of sour cream</td><td>null</td><td>null</td><td>X</td><td>null</td><td>null</td><td>X</td><td>X</td><td>X</td><td>null</td><td>null</td><td>null</td><td>null</td><td>null</td><td>null</td><td>null</td><td>null</td><td>null</td><td>null</td><td>null</td><td>null</td><td>null</td><td>null</td><td>null</td><td>null</td><td>null</td><td>null</td><td>null</td><td>null</td><td>null</td><td>null</td><td>null</td><td>null</td><td>null</td><td>null</td><td>null</td><td>null</td><td>null</td></tr><tr><td>Los Cabos</td><td>Al pastor</td><td>8/27/2016</td><td>null</td><td>null</td><td>null</td><td>null</td><td>null</td><td>null</td><td>5.69</td><td>3.0</td><td>null</td><td>null</td><td>17.5</td><td>23.5</td><td>0.77</td><td>4.0</td><td>4.5</td><td>3.0</td><td>3.5</td><td>4.0</td><td>3.5</td><td>2.5</td><td>4.0</td><td>4.5</td><td>4.0</td><td>Yes</td><td>Emily</td><td>Really good with lime</td><td>null</td><td>null</td><td>null</td><td>null</td><td>X</td><td>null</td><td>null</td><td>null</td><td>X</td><td>null</td><td>null</td><td>null</td><td>null</td><td>null</td><td>null</td><td>null</td><td>null</td><td>null</td><td>null</td><td>null</td><td>null</td><td>X</td><td>X</td><td>null</td><td>null</td><td>null</td><td>null</td><td>null</td><td>null</td><td>null</td><td>null</td><td>null</td><td>null</td><td>null</td><td>null</td><td>null</td><td>null</td></tr><tr><td>Rubios UCSD</td><td>Tilapia one</td><td>8/30/2016</td><td>UTC</td><td>9500 Gilman Dr</td><td>https://www.yelp.com/biz/rubios-la-jolla-4</td><td>3.5</td><td>3.4</td><td>x</td><td>7.99</td><td>3.5</td><td>null</td><td>null</td><td>17.0</td><td>20.0</td><td>0.54</td><td>1.5</td><td>4.0</td><td>3.0</td><td>3.0</td><td>1.5</td><td>4.5</td><td>2.5</td><td>3.0</td><td>1.5</td><td>3.2</td><td>No</td><td>Scott</td><td>null</td><td>null</td><td>null</td><td>null</td><td>null</td><td>X</td><td>null</td><td>null</td><td>null</td><td>null</td><td>null</td><td>null</td><td>X</td><td>X</td><td>null</td><td>null</td><td>null</td><td>null</td><td>null</td><td>X</td><td>null</td><td>null</td><td>null</td><td>null</td><td>null</td><td>null</td><td>null</td><td>null</td><td>null</td><td>null</td><td>null</td><td>null</td><td>null</td><td>null</td><td>null</td><td>null</td><td>x</td><td>null</td></tr><tr><td>Lucha Libre North Park</td><td>Surf & Turf</td><td>8/30/2016</td><td>North Park</td><td>3016 University Ave</td><td>https://www.yelp.com/biz/lucha-libre-san-diego</td><td>3.5</td><td>4.3</td><td>x</td><td>8.25</td><td>4.0</td><td>null</td><td>null</td><td>19.0</td><td>22.5</td><td>0.77</td><td>3.0</td><td>2.5</td><td>3.0</td><td>3.0</td><td>3.0</td><td>3.0</td><td>3.5</td><td>3.0</td><td>3.0</td><td>3.0</td><td>Yes</td><td>Hannah</td><td>null</td><td>null</td><td>null</td><td>x</td><td>x</td><td>null</td><td>null</td><td>null</td><td>null</td><td>null</td><td>null</td><td>x</td><td>null</td><td>x</td><td>null</td><td>null</td><td>null</td><td>null</td><td>null</td><td>null</td><td>x</td><td>null</td><td>null</td><td>null</td><td>null</td><td>null</td><td>null</td><td>null</td><td>null</td><td>null</td><td>null</td><td>null</td><td>null</td><td>null</td><td>null</td><td>x</td><td>null</td><td>null</td></tr><tr><td>Lucha Libre North Park</td><td>Surf & Turf</td><td>8/30/2016</td><td>null</td><td>null</td><td>null</td><td>null</td><td>null</td><td>null</td><td>8.25</td><td>3.0</td><td>null</td><td>null</td><td>19.0</td><td>24.0</td><td>0.87</td><td>5.0</td><td>3.0</td><td>5.0</td><td>4.0</td><td>2.0</td><td>2.0</td><td>5.0</td><td>2.0</td><td>2.0</td><td>2.0</td><td>No</td><td>Tammy</td><td>null</td><td>null</td><td>null</td><td>x</td><td>x</td><td>null</td><td>null</td><td>null</td><td>null</td><td>null</td><td>null</td><td>x</td><td>null</td><td>x</td><td>null</td><td>null</td><td>null</td><td>null</td><td>null</td><td>null</td><td>x</td><td>null</td><td>null</td><td>null</td><td>null</td><td>null</td><td>null</td><td>null</td><td>null</td><td>null</td><td>null</td><td>null</td><td>null</td><td>null</td><td>null</td><td>x</td><td>null</td><td>null</td></tr><tr><td>Lucha Libre North Park</td><td>Surf & Turf</td><td>8/30/2016</td><td>null</td><td>null</td><td>null</td><td>null</td><td>null</td><td>null</td><td>8.25</td><td>3.9</td><td>null</td><td>null</td><td>null</td><td>null</td><td>null</td><td>2.1</td><td>1.9</td><td>2.6</td><td>2.4</td><td>2.9</td><td>3.2</td><td>4.0</td><td>2.5</td><td>3.0</td><td>2.4</td><td>No</td><td>Bankole</td><td>Not as good as the first time</td><td>null</td><td>null</td><td>x</td><td>x</td><td>null</td><td>null</td><td>null</td><td>null</td><td>null</td><td>null</td><td>x</td><td>null</td><td>x</td><td>null</td><td>null</td><td>null</td><td>null</td><td>null</td><td>null</td><td>x</td><td>null</td><td>null</td><td>null</td><td>null</td><td>null</td><td>null</td><td>null</td><td>null</td><td>null</td><td>null</td><td>null</td><td>null</td><td>null</td><td>null</td><td>x</td><td>null</td><td>null</td></tr><tr><td>Lucha Libre North Park</td><td>Surf & Turf</td><td>8/30/2016</td><td>null</td><td>null</td><td>null</td><td>null</td><td>null</td><td>null</td><td>8.25</td><td>4.0</td><td>null</td><td>null</td><td>20.0</td><td>22.0</td><td>0.77</td><td>3.0</td><td>2.5</td><td>2.0</td><td>2.8</td><td>3.5</td><td>3.5</td><td>4.0</td><td>3.0</td><td>4.0</td><td>2.2</td><td>null</td><td>Melissa N</td><td>null</td><td>null</td><td>null</td><td>x</td><td>x</td><td>null</td><td>null</td><td>null</td><td>null</td><td>null</td><td>null</td><td>x</td><td>null</td><td>x</td><td>null</td><td>null</td><td>null</td><td>null</td><td>null</td><td>null</td><td>x</td><td>null</td><td>null</td><td>null</td><td>null</td><td>null</td><td>null</td><td>null</td><td>null</td><td>null</td><td>null</td><td>null</td><td>null</td><td>null</td><td>null</td><td>x</td><td>null</td><td>null</td></tr><tr><td>Lucha Libre North Park</td><td>Surf & Turf</td><td>8/30/2016</td><td>null</td><td>null</td><td>null</td><td>null</td><td>null</td><td>null</td><td>8.25</td><td>3.5</td><td>null</td><td>null</td><td>20.0</td><td>22.0</td><td>0.77</td><td>3.6</td><td>3.2</td><td>3.2</td><td>3.5</td><td>3.6</td><td>3.5</td><td>null</td><td>3.8</td><td>3.9</td><td>3.6</td><td>null</td><td>Katie</td><td>null</td><td>null</td><td>null</td><td>x</td><td>x</td><td>null</td><td>null</td><td>null</td><td>null</td><td>null</td><td>null</td><td>x</td><td>null</td><td>x</td><td>null</td><td>null</td><td>null</td><td>null</td><td>null</td><td>null</td><td>x</td><td>null</td><td>null</td><td>null</td><td>null</td><td>null</td><td>null</td><td>null</td><td>null</td><td>null</td><td>null</td><td>null</td><td>null</td><td>null</td><td>null</td><td>x</td><td>null</td><td>null</td></tr><tr><td>Lucha Libre North Park</td><td>Surfin California</td><td>8/30/2016</td><td>null</td><td>null</td><td>null</td><td>null</td><td>null</td><td>null</td><td>8.25</td><td>3.0</td><td>null</td><td>null</td><td>21.0</td><td>24.5</td><td>1.0</td><td>3.0</td><td>3.0</td><td>4.0</td><td>3.5</td><td>3.0</td><td>2.0</td><td>3.5</td><td>3.5</td><td>4.0</td><td>3.9</td><td>Yes</td><td>Emily</td><td>thick chips</td><td>null</td><td>null</td><td>x</td><td>x</td><td>null</td><td>x</td><td>x</td><td>null</td><td>null</td><td>null</td><td>x</td><td>null</td><td>null</td><td>null</td><td>null</td><td>null</td><td>null</td><td>null</td><td>null</td><td>x</td><td>null</td><td>null</td><td>null</td><td>null</td><td>null</td><td>null</td><td>null</td><td>null</td><td>null</td><td>null</td><td>null</td><td>null</td><td>null</td><td>null</td><td>x</td><td>null</td><td>null</td></tr><tr><td>Lucha Libre North Park</td><td>Surfin California</td><td>8/30/2016</td><td>null</td><td>null</td><td>null</td><td>null</td><td>null</td><td>null</td><td>8.25</td><td>4.0</td><td>null</td><td>null</td><td>18.5</td><td>25.5</td><td>0.96</td><td>3.5</td><td>2.0</td><td>4.0</td><td>3.0</td><td>5.0</td><td>5.0</td><td>4.0</td><td>4.0</td><td>5.0</td><td>3.5</td><td>null</td><td>Melissa G</td><td>Good guac</td><td>null</td><td>null</td><td>x</td><td>x</td><td>null</td><td>x</td><td>x</td><td>null</td><td>null</td><td>null</td><td>x</td><td>null</td><td>null</td><td>null</td><td>null</td><td>null</td><td>null</td><td>null</td><td>null</td><td>x</td><td>null</td><td>null</td><td>null</td><td>null</td><td>null</td><td>null</td><td>null</td><td>null</td><td>null</td><td>null</td><td>null</td><td>null</td><td>null</td><td>null</td><td>x</td><td>null</td><td>null</td></tr><tr><td>Lucha Libre North Park</td><td>Surfin California</td><td>8/30/2016</td><td>null</td><td>null</td><td>null</td><td>null</td><td>null</td><td>null</td><td>8.25</td><td>4.0</td><td>null</td><td>null</td><td>null</td><td>null</td><td>null</td><td>4.0</td><td>3.0</td><td>3.0</td><td>3.0</td><td>3.0</td><td>2.0</td><td>3.0</td><td>3.0</td><td>4.0</td><td>3.0</td><td>Yes</td><td>Marc</td><td>shrimp was questionable; salsa was mediocre to bad; overall ok, better than past burritos at lucha libre</td><td>null</td><td>null</td><td>x</td><td>x</td><td>null</td><td>x</td><td>x</td><td>null</td><td>null</td><td>null</td><td>x</td><td>null</td><td>null</td><td>null</td><td>null</td><td>null</td><td>null</td><td>null</td><td>null</td><td>x</td><td>null</td><td>null</td><td>null</td><td>null</td><td>null</td><td>null</td><td>null</td><td>null</td><td>null</td><td>null</td><td>null</td><td>null</td><td>null</td><td>null</td><td>x</td><td>null</td><td>null</td></tr><tr><td>Lucha Libre North Park</td><td>Surfin California</td><td>8/30/2016</td><td>null</td><td>null</td><td>null</td><td>null</td><td>null</td><td>null</td><td>8.25</td><td>1.0</td><td>null</td><td>null</td><td>null</td><td>null</td><td>null</td><td>3.0</td><td>2.0</td><td>4.0</td><td>3.0</td><td>5.0</td><td>5.0</td><td>4.0</td><td>3.5</td><td>5.0</td><td>3.5</td><td>null</td><td>Ashley G</td><td>good guac but fries could be better</td><td>null</td><td>null</td><td>x</td><td>x</td><td>null</td><td>x</td><td>x</td><td>null</td><td>null</td><td>null</td><td>x</td><td>null</td><td>null</td><td>null</td><td>null</td><td>null</td><td>null</td><td>null</td><td>null</td><td>x</td><td>null</td><td>null</td><td>null</td><td>null</td><td>null</td><td>null</td><td>null</td><td>null</td><td>null</td><td>null</td><td>null</td><td>null</td><td>null</td><td>null</td><td>x</td><td>null</td><td>null</td></tr><tr><td>Lucha Libre North Park</td><td>Surfin California</td><td>8/30/2016</td><td>null</td><td>null</td><td>null</td><td>null</td><td>null</td><td>null</td><td>8.25</td><td>2.0</td><td>null</td><td>null</td><td>20.0</td><td>24.5</td><td>0.96</td><td>3.5</td><td>2.0</td><td>5.0</td><td>3.5</td><td>4.0</td><td>2.5</td><td>3.5</td><td>3.0</td><td>3.5</td><td>3.5</td><td>Yes</td><td>Richard</td><td>probably positively biased by service</td><td>null</td><td>null</td><td>x</td><td>x</td><td>null</td><td>x</td><td>x</td><td>null</td><td>null</td><td>null</td><td>x</td><td>null</td><td>null</td><td>null</td><td>null</td><td>null</td><td>null</td><td>null</td><td>null</td><td>x</td><td>null</td><td>null</td><td>null</td><td>null</td><td>null</td><td>null</td><td>null</td><td>null</td><td>null</td><td>null</td><td>null</td><td>null</td><td>null</td><td>null</td><td>x</td><td>null</td><td>null</td></tr><tr><td>Lucha Libre North Park</td><td>Surfin California</td><td>8/30/2016</td><td>null</td><td>null</td><td>null</td><td>null</td><td>null</td><td>null</td><td>8.25</td><td>3.0</td><td>null</td><td>null</td><td>19.0</td><td>24.0</td><td>0.87</td><td>5.0</td><td>4.0</td><td>4.0</td><td>4.0</td><td>3.0</td><td>3.0</td><td>4.0</td><td>4.0</td><td>4.0</td><td>4.0</td><td>Yes</td><td>Mike</td><td>null</td><td>null</td><td>null</td><td>x</td><td>x</td><td>null</td><td>x</td><td>x</td><td>null</td><td>null</td><td>null</td><td>x</td><td>null</td><td>null</td><td>null</td><td>null</td><td>null</td><td>null</td><td>null</td><td>null</td><td>x</td><td>null</td><td>null</td><td>null</td><td>null</td><td>null</td><td>null</td><td>null</td><td>null</td><td>null</td><td>null</td><td>null</td><td>null</td><td>null</td><td>null</td><td>x</td><td>null</td><td>null</td></tr><tr><td>Lucha Libre North Park</td><td>Surfin California</td><td>8/30/2016</td><td>null</td><td>null</td><td>null</td><td>null</td><td>null</td><td>null</td><td>8.25</td><td>1.0</td><td>null</td><td>null</td><td>19.5</td><td>25.5</td><td>1.01</td><td>4.0</td><td>3.0</td><td>3.5</td><td>3.0</td><td>5.0</td><td>4.0</td><td>2.0</td><td>3.0</td><td>4.0</td><td>3.0</td><td>null</td><td>Sankha G</td><td>null</td><td>null</td><td>null</td><td>x</td><td>x</td><td>null</td><td>x</td><td>x</td><td>null</td><td>null</td><td>null</td><td>x</td><td>null</td><td>null</td><td>null</td><td>null</td><td>null</td><td>null</td><td>null</td><td>null</td><td>x</td><td>null</td><td>null</td><td>null</td><td>null</td><td>null</td><td>null</td><td>null</td><td>null</td><td>null</td><td>null</td><td>null</td><td>null</td><td>null</td><td>null</td><td>x</td><td>null</td><td>null</td></tr><tr><td>Lucha Libre North Park</td><td>Nutty</td><td>8/30/2016</td><td>null</td><td>null</td><td>null</td><td>null</td><td>null</td><td>null</td><td>7.5</td><td>3.8</td><td>null</td><td>null</td><td>19.0</td><td>25.0</td><td>0.94</td><td>3.8</td><td>4.0</td><td>4.0</td><td>4.0</td><td>4.0</td><td>4.0</td><td>4.5</td><td>4.5</td><td>4.5</td><td>4.4</td><td>null</td><td>Luis</td><td>null</td><td>null</td><td>null</td><td>null</td><td>null</td><td>null</td><td>x</td><td>x</td><td>x</td><td>null</td><td>x</td><td>null</td><td>null</td><td>x</td><td>null</td><td>null</td><td>null</td><td>null</td><td>null</td><td>null</td><td>x</td><td>null</td><td>null</td><td>null</td><td>null</td><td>null</td><td>null</td><td>null</td><td>null</td><td>null</td><td>null</td><td>null</td><td>null</td><td>null</td><td>null</td><td>null</td><td>null</td><td>null</td></tr><tr><td>Lucha Libre North Park</td><td>Veg Out</td><td>8/30/2016</td><td>null</td><td>null</td><td>null</td><td>null</td><td>null</td><td>null</td><td>6.95</td><td>3.0</td><td>null</td><td>null</td><td>19.0</td><td>23.0</td><td>0.8</td><td>5.0</td><td>5.0</td><td>null</td><td>5.0</td><td>null</td><td>5.0</td><td>4.5</td><td>5.0</td><td>3.0</td><td>4.5</td><td>Yes</td><td>Aga</td><td>null</td><td>null</td><td>null</td><td>null</td><td>null</td><td>null</td><td>null</td><td>null</td><td>null</td><td>null</td><td>null</td><td>null</td><td>null</td><td>null</td><td>x</td><td>x</td><td>null</td><td>x</td><td>null</td><td>null</td><td>x</td><td>null</td><td>null</td><td>null</td><td>null</td><td>null</td><td>null</td><td>null</td><td>null</td><td>null</td><td>null</td><td>null</td><td>x</td><td>null</td><td>null</td><td>x</td><td>null</td><td>x</td></tr><tr><td>Lucha Libre North Park</td><td>Veggie</td><td>8/30/2016</td><td>null</td><td>null</td><td>null</td><td>null</td><td>null</td><td>null</td><td>5.25</td><td>3.0</td><td>null</td><td>null</td><td>19.5</td><td>25.5</td><td>1.01</td><td>4.5</td><td>4.5</td><td>null</td><td>3.5</td><td>null</td><td>3.0</td><td>4.0</td><td>3.5</td><td>5.0</td><td>3.25</td><td>Yes</td><td>Rob G</td><td>null</td><td>null</td><td>null</td><td>null</td><td>x</td><td>null</td><td>null</td><td>x</td><td>null</td><td>null</td><td>null</td><td>null</td><td>null</td><td>x</td><td>x</td><td>x</td><td>null</td><td>null</td><td>null</td><td>null</td><td>null</td><td>null</td><td>null</td><td>null</td><td>null</td><td>null</td><td>null</td><td>null</td><td>null</td><td>null</td><td>null</td><td>null</td><td>null</td><td>null</td><td>null</td><td>null</td><td>null</td><td>null</td></tr><tr><td>Lucha Libre North Park</td><td>Bean and cheese</td><td>8/30/2016</td><td>null</td><td>null</td><td>null</td><td>null</td><td>null</td><td>null</td><td>3.75</td><td>5.0</td><td>null</td><td>null</td><td>18.0</td><td>22.0</td><td>0.69</td><td>4.0</td><td>3.0</td><td>null</td><td>1.0</td><td>null</td><td>3.0</td><td>3.0</td><td>2.0</td><td>3.0</td><td>2.0</td><td>No</td><td>Meghan</td><td>Bland</td><td>null</td><td>null</td><td>null</td><td>null</td><td>null</td><td>x</td><td>null</td><td>null</td><td>null</td><td>null</td><td>null</td><td>null</td><td>null</td><td>x</td><td>null</td><td>null</td><td>null</td><td>null</td><td>null</td><td>null</td><td>null</td><td>null</td><td>null</td><td>null</td><td>null</td><td>null</td><td>null</td><td>null</td><td>null</td><td>null</td><td>null</td><td>null</td><td>null</td><td>null</td><td>null</td><td>null</td><td>null</td></tr><tr><td>Lucha Libre North Park</td><td>California - Steak</td><td>8/30/2016</td><td>null</td><td>null</td><td>null</td><td>null</td><td>null</td><td>null</td><td>7.5</td><td>2.5</td><td>null</td><td>null</td><td>19.0</td><td>23.5</td><td>0.83</td><td>3.0</td><td>3.0</td><td>5.0</td><td>3.5</td><td>3.0</td><td>3.5</td><td>4.5</td><td>4.0</td><td>4.5</td><td>3.9</td><td>Yes</td><td>Scott</td><td>first bite sour cream, but probably the best steak I've had in a burrito</td><td>null</td><td>null</td><td>x</td><td>x</td><td>null</td><td>x</td><td>x</td><td>x</td><td>null</td><td>null</td><td>null</td><td>null</td><td>null</td><td>null</td><td>null</td><td>null</td><td>null</td><td>null</td><td>null</td><td>null</td><td>null</td><td>null</td><td>null</td><td>null</td><td>null</td><td>null</td><td>null</td><td>null</td><td>null</td><td>null</td><td>null</td><td>null</td><td>null</td><td>null</td><td>null</td><td>null</td><td>null</td></tr><tr><td>Lucha Libre North Park</td><td>California - Steak</td><td>8/30/2016</td><td>null</td><td>null</td><td>null</td><td>null</td><td>null</td><td>null</td><td>7.5</td><td>5.0</td><td>null</td><td>null</td><td>17.0</td><td>23.0</td><td>0.72</td><td>3.5</td><td>3.0</td><td>2.0</td><td>3.0</td><td>3.0</td><td>2.0</td><td>4.0</td><td>2.5</td><td>5.0</td><td>3.5</td><td>null</td><td>Devleena</td><td>fries = 4</td><td>null</td><td>null</td><td>x</td><td>x</td><td>null</td><td>x</td><td>x</td><td>x</td><td>null</td><td>null</td><td>null</td><td>null</td><td>null</td><td>null</td><td>null</td><td>null</td><td>null</td><td>null</td><td>null</td><td>null</td><td>null</td><td>null</td><td>null</td><td>null</td><td>null</td><td>null</td><td>null</td><td>null</td><td>null</td><td>null</td><td>null</td><td>null</td><td>null</td><td>null</td><td>null</td><td>null</td><td>null</td></tr><tr><td>Lucha Libre North Park</td><td>California - Pork Adobada</td><td>8/30/2016</td><td>null</td><td>null</td><td>null</td><td>null</td><td>null</td><td>null</td><td>7.5</td><td>4.0</td><td>null</td><td>null</td><td>18.0</td><td>24.5</td><td>0.86</td><td>2.0</td><td>3.0</td><td>3.0</td><td>3.0</td><td>4.0</td><td>3.0</td><td>4.0</td><td>3.0</td><td>5.0</td><td>3.0</td><td>Yes</td><td>Erik</td><td>null</td><td>null</td><td>null</td><td>null</td><td>x</td><td>null</td><td>x</td><td>x</td><td>x</td><td>x</td><td>null</td><td>null</td><td>null</td><td>null</td><td>null</td><td>null</td><td>null</td><td>null</td><td>null</td><td>null</td><td>null</td><td>null</td><td>null</td><td>null</td><td>null</td><td>null</td><td>null</td><td>null</td><td>null</td><td>null</td><td>null</td><td>null</td><td>null</td><td>null</td><td>null</td><td>null</td><td>null</td><td>null</td></tr><tr><td>Lucha Libre North Park</td><td>California - Pork Adobada</td><td>8/30/2016</td><td>null</td><td>null</td><td>null</td><td>null</td><td>null</td><td>null</td><td>7.5</td><td>4.5</td><td>null</td><td>null</td><td>18.0</td><td>26.0</td><td>0.97</td><td>3.5</td><td>4.0</td><td>4.5</td><td>4.0</td><td>3.5</td><td>3.5</td><td>4.0</td><td>4.0</td><td>4.5</td><td>4.25</td><td>Yes</td><td>Ricardo</td><td>null</td><td>null</td><td>null</td><td>null</td><td>x</td><td>null</td><td>x</td><td>x</td><td>x</td><td>x</td><td>null</td><td>null</td><td>null</td><td>null</td><td>null</td><td>null</td><td>null</td><td>null</td><td>null</td><td>null</td><td>null</td><td>null</td><td>null</td><td>null</td><td>null</td><td>null</td><td>null</td><td>null</td><td>null</td><td>null</td><td>null</td><td>null</td><td>null</td><td>null</td><td>null</td><td>null</td><td>null</td><td>null</td></tr><tr><td>Lucha Libre North Park</td><td>California - Pork Adobada</td><td>8/30/2016</td><td>null</td><td>null</td><td>null</td><td>null</td><td>null</td><td>null</td><td>7.5</td><td>2.0</td><td>null</td><td>null</td><td>19.0</td><td>25.0</td><td>0.94</td><td>4.0</td><td>5.0</td><td>5.0</td><td>4.0</td><td>4.5</td><td>4.5</td><td>5.0</td><td>4.5</td><td>4.0</td><td>4.5</td><td>Yes</td><td>Erin</td><td>null</td><td>null</td><td>null</td><td>null</td><td>x</td><td>null</td><td>x</td><td>x</td><td>x</td><td>x</td><td>null</td><td>null</td><td>null</td><td>null</td><td>null</td><td>null</td><td>null</td><td>null</td><td>null</td><td>null</td><td>null</td><td>null</td><td>null</td><td>null</td><td>null</td><td>null</td><td>null</td><td>null</td><td>null</td><td>null</td><td>null</td><td>null</td><td>null</td><td>null</td><td>null</td><td>null</td><td>null</td><td>null</td></tr><tr><td>Lucha Libre North Park</td><td>California - Chicken</td><td>8/30/2016</td><td>null</td><td>null</td><td>null</td><td>null</td><td>null</td><td>null</td><td>7.5</td><td>4.0</td><td>null</td><td>null</td><td>20.0</td><td>23.5</td><td>0.88</td><td>3.5</td><td>2.5</td><td>3.0</td><td>4.5</td><td>3.0</td><td>2.0</td><td>5.0</td><td>4.5</td><td>3.5</td><td>2.5</td><td>Yes</td><td>Kelsey</td><td>null</td><td>null</td><td>null</td><td>null</td><td>x</td><td>x</td><td>x</td><td>x</td><td>x</td><td>null</td><td>x</td><td>null</td><td>null</td><td>null</td><td>null</td><td>null</td><td>null</td><td>null</td><td>null</td><td>null</td><td>null</td><td>null</td><td>null</td><td>null</td><td>null</td><td>null</td><td>null</td><td>null</td><td>null</td><td>null</td><td>null</td><td>null</td><td>null</td><td>null</td><td>null</td><td>null</td><td>null</td><td>null</td></tr><tr><td>Lucha Libre North Park</td><td>California - Chicken</td><td>8/30/2016</td><td>null</td><td>null</td><td>null</td><td>null</td><td>null</td><td>null</td><td>7.5</td><td>3.0</td><td>null</td><td>null</td><td>20.0</td><td>22.0</td><td>0.77</td><td>3.5</td><td>5.0</td><td>3.5</td><td>4.0</td><td>3.0</td><td>3.0</td><td>4.0</td><td>2.5</td><td>5.0</td><td>3.0</td><td>No</td><td>Javier</td><td>large, bt feels good in my hands</td><td>null</td><td>null</td><td>null</td><td>x</td><td>null</td><td>x</td><td>x</td><td>x</td><td>null</td><td>x</td><td>null</td><td>null</td><td>null</td><td>null</td><td>null</td><td>null</td><td>null</td><td>null</td><td>null</td><td>null</td><td>null</td><td>null</td><td>null</td><td>null</td><td>null</td><td>null</td><td>null</td><td>null</td><td>null</td><td>null</td><td>null</td><td>null</td><td>null</td><td>null</td><td>null</td><td>null</td><td>null</td></tr><tr><td>Lucha Libre North Park</td><td>Holy Moly</td><td>8/30/2016</td><td>null</td><td>null</td><td>null</td><td>null</td><td>null</td><td>null</td><td>7.5</td><td>5.0</td><td>null</td><td>null</td><td>null</td><td>null</td><td>null</td><td>3.5</td><td>2.0</td><td>3.5</td><td>3.5</td><td>3.0</td><td>4.0</td><td>2.0</td><td>2.0</td><td>4.0</td><td>3.5</td><td>null</td><td>Sam A</td><td>null</td><td>null</td><td>null</td><td>null</td><td>null</td><td>null</td><td>x</td><td>null</td><td>x</td><td>null</td><td>x</td><td>null</td><td>null</td><td>x</td><td>null</td><td>null</td><td>null</td><td>null</td><td>null</td><td>null</td><td>x</td><td>null</td><td>null</td><td>null</td><td>null</td><td>null</td><td>null</td><td>null</td><td>null</td><td>null</td><td>null</td><td>null</td><td>null</td><td>null</td><td>null</td><td>null</td><td>null</td><td>null</td></tr><tr><td>Lucha Libre North Park</td><td>Holy Moly</td><td>8/30/2016</td><td>null</td><td>null</td><td>null</td><td>null</td><td>null</td><td>null</td><td>7.5</td><td>3.0</td><td>null</td><td>null</td><td>17.0</td><td>21.0</td><td>0.6</td><td>2.5</td><td>2.5</td><td>3.0</td><td>2.0</td><td>2.0</td><td>1.0</td><td>5.0</td><td>1.0</td><td>5.0</td><td>1.5</td><td>No</td><td>Sage</td><td>all meat at bottom 1/8th</td><td>null</td><td>null</td><td>null</td><td>null</td><td>null</td><td>x</td><td>null</td><td>x</td><td>null</td><td>x</td><td>null</td><td>null</td><td>x</td><td>null</td><td>null</td><td>null</td><td>null</td><td>null</td><td>null</td><td>x</td><td>null</td><td>null</td><td>null</td><td>null</td><td>null</td><td>null</td><td>null</td><td>null</td><td>null</td><td>null</td><td>null</td><td>null</td><td>null</td><td>null</td><td>null</td><td>null</td><td>null</td></tr><tr><td>Lucha Libre North Park</td><td>Holy Moly</td><td>8/30/2016</td><td>null</td><td>null</td><td>null</td><td>null</td><td>null</td><td>null</td><td>7.5</td><td>4.0</td><td>null</td><td>null</td><td>17.5</td><td>21.2</td><td>0.63</td><td>5.0</td><td>3.0</td><td>5.0</td><td>5.0</td><td>3.0</td><td>2.0</td><td>2.0</td><td>3.0</td><td>5.0</td><td>4.0</td><td>Yes</td><td>Aaron S</td><td>null</td><td>null</td><td>null</td><td>null</td><td>null</td><td>null</td><td>x</td><td>null</td><td>x</td><td>null</td><td>x</td><td>null</td><td>null</td><td>x</td><td>null</td><td>null</td><td>null</td><td>null</td><td>null</td><td>null</td><td>x</td><td>null</td><td>null</td><td>null</td><td>null</td><td>null</td><td>null</td><td>null</td><td>null</td><td>null</td><td>null</td><td>null</td><td>null</td><td>null</td><td>null</td><td>null</td><td>null</td><td>null</td></tr><tr><td>Lucha Libre North Park</td><td>Holy Moly</td><td>8/30/2016</td><td>null</td><td>null</td><td>null</td><td>null</td><td>null</td><td>null</td><td>7.5</td><td>5.0</td><td>null</td><td>null</td><td>19.0</td><td>21.0</td><td>0.67</td><td>5.0</td><td>4.0</td><td>2.0</td><td>1.0</td><td>4.0</td><td>3.0</td><td>5.0</td><td>4.0</td><td>2.0</td><td>2.0</td><td>null</td><td>Jaeyoung</td><td>Ordered a specialty burrito and guess I was expecting an ordinary one! Sauce was good but overpowering; no veggies at all; overall just did not feel like a burrito.</td><td>null</td><td>null</td><td>null</td><td>null</td><td>null</td><td>x</td><td>null</td><td>x</td><td>null</td><td>x</td><td>null</td><td>null</td><td>x</td><td>null</td><td>null</td><td>null</td><td>null</td><td>null</td><td>null</td><td>x</td><td>null</td><td>null</td><td>null</td><td>null</td><td>null</td><td>null</td><td>null</td><td>null</td><td>null</td><td>null</td><td>null</td><td>null</td><td>null</td><td>null</td><td>null</td><td>null</td><td>null</td></tr><tr><td>Lucha Libre North Park</td><td>Holy Moly</td><td>8/30/2016</td><td>null</td><td>null</td><td>null</td><td>null</td><td>null</td><td>null</td><td>7.5</td><td>4.5</td><td>null</td><td>null</td><td>19.5</td><td>19.0</td><td>0.56</td><td>4.0</td><td>4.0</td><td>3.5</td><td>4.5</td><td>4.0</td><td>4.0</td><td>5.0</td><td>4.5</td><td>4.0</td><td>4.0</td><td>Yes</td><td>Matteo</td><td>null</td><td>null</td><td>null</td><td>null</td><td>null</td><td>null</td><td>x</td><td>null</td><td>x</td><td>null</td><td>x</td><td>null</td><td>null</td><td>x</td><td>null</td><td>null</td><td>null</td><td>null</td><td>null</td><td>null</td><td>x</td><td>null</td><td>null</td><td>null</td><td>null</td><td>null</td><td>null</td><td>null</td><td>null</td><td>null</td><td>null</td><td>null</td><td>null</td><td>null</td><td>null</td><td>null</td><td>null</td><td>null</td></tr><tr><td>Tacos La Bala</td><td>Pastor</td><td>9/5/2016</td><td>Houston</td><td>5800 Bellaire Blvd</td><td>tacoslabala.com</td><td>4.5</td><td>4.1</td><td>null</td><td>4.99</td><td>3.5</td><td>null</td><td>null</td><td>null</td><td>null</td><td>null</td><td>2.5</td><td>2.5</td><td>4.0</td><td>2.5</td><td>1.0</td><td>1.0</td><td>2.0</td><td>4.0</td><td>0.0</td><td>2.5</td><td>No</td><td>Scott</td><td>Everything is in spanish. Get a taco or sope</td><td>null</td><td>X</td><td>null</td><td>null</td><td>null</td><td>null</td><td>null</td><td>null</td><td>null</td><td>null</td><td>null</td><td>null</td><td>null</td><td>null</td><td>null</td><td>null</td><td>null</td><td>null</td><td>null</td><td>null</td><td>null</td><td>null</td><td>null</td><td>null</td><td>null</td><td>null</td><td>null</td><td>null</td><td>null</td><td>null</td><td>null</td><td>null</td><td>null</td><td>null</td><td>null</td><td>null</td><td>null</td></tr><tr><td>Tacos La Bala</td><td>Barbacoa </td><td>9/5/2016</td><td>null</td><td>null</td><td>null</td><td>null</td><td>null</td><td>null</td><td>4.99</td><td>2.5</td><td>null</td><td>null</td><td>16.5</td><td>22.0</td><td>0.64</td><td>2.0</td><td>2.5</td><td>3.5</td><td>2.0</td><td>3.0</td><td>2.5</td><td>2.0</td><td>2.5</td><td>2.5</td><td>2.4</td><td>No</td><td>Emily</td><td>Burritos cut in half, felt like a wrap instead of a burrito</td><td>null</td><td>X</td><td>null</td><td>null</td><td>null</td><td>null</td><td>null</td><td>null</td><td>null</td><td>null</td><td>null</td><td>null</td><td>null</td><td>null</td><td>null</td><td>null</td><td>null</td><td>null</td><td>null</td><td>null</td><td>null</td><td>null</td><td>null</td><td>null</td><td>null</td><td>null</td><td>null</td><td>null</td><td>null</td><td>null</td><td>null</td><td>null</td><td>null</td><td>null</td><td>null</td><td>null</td><td>null</td></tr><tr><td>Cancun Mexican & Seafood</td><td>Adobada</td><td>9/9/2016</td><td>null</td><td>null</td><td>null</td><td>null</td><td>null</td><td>null</td><td>6.45</td><td>3.0</td><td>null</td><td>null</td><td>19.5</td><td>21.5</td><td>0.72</td><td>4.0</td><td>5.0</td><td>3.5</td><td>3.0</td><td>3.5</td><td>3.5</td><td>4.0</td><td>2.5</td><td>4.0</td><td>3.5</td><td>Yes</td><td>Scott</td><td>Free salad</td><td>null</td><td>null</td><td>null</td><td>null</td><td>X</td><td>null</td><td>null</td><td>null</td><td>X</td><td>null</td><td>null</td><td>null</td><td>null</td><td>null</td><td>null</td><td>null</td><td>null</td><td>null</td><td>null</td><td>null</td><td>null</td><td>X</td><td>X</td><td>null</td><td>null</td><td>null</td><td>null</td><td>null</td><td>null</td><td>null</td><td>null</td><td>null</td><td>null</td><td>null</td><td>null</td><td>null</td><td>null</td></tr><tr><td>Cancun Mexican & Seafood</td><td>California</td><td>9/9/2016</td><td>null</td><td>null</td><td>null</td><td>null</td><td>null</td><td>null</td><td>6.99</td><td>4.0</td><td>null</td><td>null</td><td>19.5</td><td>22.0</td><td>0.75</td><td>3.0</td><td>4.5</td><td>4.0</td><td>4.0</td><td>3.5</td><td>3.0</td><td>4.0</td><td>4.0</td><td>5.0</td><td>4.0</td><td>Yes</td><td>Emily</td><td>null</td><td>null</td><td>null</td><td>X</td><td>null</td><td>null</td><td>X</td><td>X</td><td>X</td><td>null</td><td>null</td><td>null</td><td>null</td><td>null</td><td>null</td><td>null</td><td>null</td><td>null</td><td>null</td><td>null</td><td>null</td><td>null</td><td>null</td><td>null</td><td>null</td><td>null</td><td>null</td><td>null</td><td>null</td><td>null</td><td>null</td><td>null</td><td>null</td><td>null</td><td>null</td><td>null</td><td>null</td><td>null</td></tr><tr><td>Roberto's Taco Shop Clairemont</td><td>California</td><td>9/11/2016</td><td>Clairemont</td><td>3095 Clairemont Dr</td><td>https://www.yelp.com/biz/robertos-taco-shop-clairemont-san-diego</td><td>4.0</td><td>4.0</td><td>null</td><td>5.79</td><td>4.0</td><td>null</td><td>null</td><td>null</td><td>null</td><td>null</td><td>3.0</td><td>4.5</td><td>4.0</td><td>4.0</td><td>4.0</td><td>5.0</td><td>2.5</td><td>3.0</td><td>5.0</td><td>3.6</td><td>Yes</td><td>Scott</td><td>Fries are really good but the overall flavor is plain because lack of ingredients</td><td>null</td><td>null</td><td>x</td><td>null</td><td>null</td><td>x</td><td>x</td><td>null</td><td>null</td><td>null</td><td>null</td><td>null</td><td>null</td><td>null</td><td>null</td><td>null</td><td>null</td><td>null</td><td>null</td><td>null</td><td>null</td><td>null</td><td>null</td><td>null</td><td>null</td><td>null</td><td>null</td><td>null</td><td>null</td><td>null</td><td>null</td><td>null</td><td>null</td><td>null</td><td>null</td><td>null</td><td>null</td></tr><tr><td>Roberto's Taco Shop Clairemont</td><td>California</td><td>9/11/2016</td><td>null</td><td>null</td><td>null</td><td>null</td><td>null</td><td>null</td><td>5.79</td><td>4.0</td><td>null</td><td>null</td><td>null</td><td>null</td><td>null</td><td>4.0</td><td>3.0</td><td>4.0</td><td>2.5</td><td>3.5</td><td>4.0</td><td>2.0</td><td>2.5</td><td>5.0</td><td>3.0</td><td>No</td><td>Benni</td><td>null</td><td>null</td><td>null</td><td>x</td><td>null</td><td>null</td><td>x</td><td>x</td><td>null</td><td>null</td><td>null</td><td>null</td><td>null</td><td>null</td><td>null</td><td>null</td><td>null</td><td>null</td><td>null</td><td>null</td><td>null</td><td>null</td><td>null</td><td>null</td><td>null</td><td>null</td><td>null</td><td>null</td><td>null</td><td>null</td><td>null</td><td>null</td><td>null</td><td>null</td><td>null</td><td>null</td><td>null</td><td>null</td></tr><tr><td>Roberto's Taco Shop Clairemont</td><td>California + Guac + sour cream</td><td>9/11/2016</td><td>null</td><td>null</td><td>null</td><td>null</td><td>null</td><td>null</td><td>7.29</td><td>3.7</td><td>null</td><td>null</td><td>null</td><td>null</td><td>null</td><td>3.8</td><td>4.7</td><td>4.0</td><td>3.5</td><td>4.5</td><td>4.0</td><td>4.0</td><td>4.5</td><td>5.0</td><td>4.0</td><td>Yes</td><td>Luis</td><td>null</td><td>null</td><td>null</td><td>x</td><td>null</td><td>x</td><td>x</td><td>x</td><td>x</td><td>null</td><td>null</td><td>null</td><td>null</td><td>null</td><td>null</td><td>null</td><td>null</td><td>null</td><td>null</td><td>null</td><td>null</td><td>null</td><td>null</td><td>null</td><td>null</td><td>null</td><td>null</td><td>null</td><td>null</td><td>null</td><td>null</td><td>null</td><td>null</td><td>null</td><td>null</td><td>null</td><td>null</td><td>null</td></tr><tr><td>Roberto's Taco Shop Clairemont</td><td>Carne asada</td><td>9/11/2016</td><td>null</td><td>null</td><td>null</td><td>null</td><td>null</td><td>null</td><td>5.69</td><td>3.0</td><td>null</td><td>null</td><td>null</td><td>null</td><td>null</td><td>4.0</td><td>3.0</td><td>1.5</td><td>3.0</td><td>4.0</td><td>4.5</td><td>3.5</td><td>2.0</td><td>4.5</td><td>3.0</td><td>No</td><td>Ricardo</td><td>null</td><td>null</td><td>null</td><td>x</td><td>null</td><td>x</td><td>null</td><td>null</td><td>null</td><td>null</td><td>null</td><td>null</td><td>null</td><td>null</td><td>null</td><td>null</td><td>null</td><td>null</td><td>null</td><td>null</td><td>null</td><td>null</td><td>null</td><td>null</td><td>null</td><td>null</td><td>null</td><td>null</td><td>null</td><td>null</td><td>null</td><td>null</td><td>null</td><td>null</td><td>null</td><td>null</td><td>null</td><td>null</td></tr><tr><td>Chipotle</td><td>Carnitas</td><td>9/13/2016</td><td>Carlsbad</td><td>2505 Palomar airport Rd</td><td>https://www.yelp.com/biz/chipotle-mexican-grill-carlsbad</td><td>3.0</td><td>4.2</td><td>null</td><td>7.15</td><td>4.0</td><td>null</td><td>null</td><td>16.5</td><td>26.5</td><td>0.92</td><td>2.5</td><td>2.5</td><td>3.0</td><td>2.8</td><td>2.5</td><td>3.5</td><td>null</td><td>3.0</td><td>3.5</td><td>2.75</td><td>Yes</td><td>Emily</td><td>null</td><td>null</td><td>null</td><td>null</td><td>X</td><td>null</td><td>null</td><td>null</td><td>X</td><td>X</td><td>null</td><td>null</td><td>null</td><td>X</td><td>X</td><td>null</td><td>null</td><td>X</td><td>null</td><td>null</td><td>null</td><td>null</td><td>null</td><td>null</td><td>null</td><td>null</td><td>null</td><td>null</td><td>null</td><td>null</td><td>null</td><td>null</td><td>null</td><td>null</td><td>null</td><td>null</td><td>X</td><td>null</td></tr><tr><td>Taco Stand</td><td>Al Pastor</td><td>9/16/2016</td><td>null</td><td>null</td><td>null</td><td>null</td><td>null</td><td>null</td><td>6.99</td><td>4.0</td><td>null</td><td>null</td><td>null</td><td>null</td><td>null</td><td>4.5</td><td>4.0</td><td>4.5</td><td>4.5</td><td>4.5</td><td>4.5</td><td>4.5</td><td>5.0</td><td>4.0</td><td>4.5</td><td>Yes</td><td>Mike</td><td>null</td><td>null</td><td>null</td><td>null</td><td>null</td><td>null</td><td>null</td><td>null</td><td>null</td><td>null</td><td>null</td><td>null</td><td>null</td><td>null</td><td>null</td><td>null</td><td>null</td><td>null</td><td>null</td><td>null</td><td>null</td><td>null</td><td>null</td><td>null</td><td>null</td><td>null</td><td>null</td><td>null</td><td>null</td><td>null</td><td>null</td><td>null</td><td>null</td><td>null</td><td>null</td><td>null</td><td>null</td><td>null</td></tr><tr><td>Taco Stand</td><td>California</td><td>9/16/2016</td><td>null</td><td>null</td><td>null</td><td>null</td><td>null</td><td>null</td><td>7.49</td><td>4.1</td><td>null</td><td>null</td><td>null</td><td>null</td><td>null</td><td>4.0</td><td>4.5</td><td>4.5</td><td>4.5</td><td>4.7</td><td>4.5</td><td>4.2</td><td>4.5</td><td>5.0</td><td>4.7</td><td>Yes</td><td>Luis</td><td>null</td><td>null</td><td>null</td><td>null</td><td>null</td><td>null</td><td>null</td><td>null</td><td>null</td><td>null</td><td>null</td><td>null</td><td>null</td><td>null</td><td>null</td><td>null</td><td>null</td><td>null</td><td>null</td><td>null</td><td>null</td><td>null</td><td>null</td><td>null</td><td>null</td><td>null</td><td>null</td><td>null</td><td>null</td><td>null</td><td>null</td><td>null</td><td>null</td><td>null</td><td>null</td><td>null</td><td>null</td><td>null</td></tr><tr><td>Los Tacos</td><td>California </td><td>9/18/2016</td><td>null</td><td>null</td><td>null</td><td>null</td><td>null</td><td>null</td><td>7.9</td><td>3.5</td><td>null</td><td>null</td><td>20.5</td><td>23.0</td><td>0.86</td><td>4.0</td><td>5.0</td><td>4.0</td><td>4.0</td><td>3.0</td><td>4.0</td><td>3.5</td><td>4.0</td><td>4.0</td><td>4.2</td><td>Yes</td><td>Scott</td><td>Tortilla is burnt a bit but good. Pick is good</td><td>null</td><td>null</td><td>null</td><td>null</td><td>null</td><td>null</td><td>null</td><td>null</td><td>null</td><td>null</td><td>null</td><td>null</td><td>null</td><td>null</td><td>null</td><td>null</td><td>null</td><td>null</td><td>null</td><td>null</td><td>null</td><td>null</td><td>null</td><td>null</td><td>null</td><td>null</td><td>null</td><td>null</td><td>null</td><td>null</td><td>null</td><td>null</td><td>null</td><td>null</td><td>null</td><td>null</td><td>null</td></tr><tr><td>Los Tacos</td><td>Local</td><td>9/18/2016</td><td>null</td><td>null</td><td>null</td><td>null</td><td>null</td><td>null</td><td>7.9</td><td>3.5</td><td>null</td><td>null</td><td>22.0</td><td>23.0</td><td>0.93</td><td>4.0</td><td>3.5</td><td>4.5</td><td>4.5</td><td>3.5</td><td>3.5</td><td>3.5</td><td>4.0</td><td>3.0</td><td>4.3</td><td>Yes</td><td>Emily</td><td>Melted cheese is good. Cilantro is fresh</td><td>null</td><td>null</td><td>null</td><td>null</td><td>null</td><td>null</td><td>null</td><td>null</td><td>null</td><td>null</td><td>null</td><td>null</td><td>null</td><td>null</td><td>null</td><td>null</td><td>null</td><td>null</td><td>null</td><td>null</td><td>null</td><td>null</td><td>null</td><td>null</td><td>null</td><td>null</td><td>null</td><td>null</td><td>null</td><td>null</td><td>null</td><td>null</td><td>null</td><td>null</td><td>null</td><td>null</td><td>null</td></tr><tr><td>El Cuervo</td><td>California </td><td>9/22/2016</td><td>Hillcrest</td><td>110 Washington St</td><td>https://www.yelp.com/biz/el-cuervo-taco-shop-san-diego</td><td>4.0</td><td>4.3</td><td>null</td><td>6.95</td><td>3.5</td><td>null</td><td>null</td><td>20.0</td><td>21.5</td><td>0.74</td><td>3.5</td><td>3.5</td><td>3.0</td><td>4.0</td><td>3.0</td><td>3.0</td><td>4.5</td><td>3.5</td><td>2.0</td><td>3.6</td><td>Yes</td><td>Scott</td><td>Alfajores dessert and horchata are super good</td><td>null</td><td>null</td><td>X</td><td>X</td><td>X</td><td>X</td><td>X</td><td>X</td><td>null</td><td>null</td><td>null</td><td>null</td><td>null</td><td>null</td><td>null</td><td>null</td><td>null</td><td>null</td><td>null</td><td>null</td><td>null</td><td>null</td><td>null</td><td>null</td><td>null</td><td>null</td><td>null</td><td>null</td><td>null</td><td>null</td><td>null</td><td>null</td><td>null</td><td>null</td><td>null</td><td>null</td><td>null</td></tr><tr><td>El Cuervo</td><td>Pollo adobado</td><td>9/22/2016</td><td>null</td><td>null</td><td>null</td><td>null</td><td>null</td><td>null</td><td>5.95</td><td>4.0</td><td>null</td><td>null</td><td>20.5</td><td>20.0</td><td>0.65</td><td>3.5</td><td>5.0</td><td>4.5</td><td>3.5</td><td>4.0</td><td>4.5</td><td>4.5</td><td>4.0</td><td>5.0</td><td>4.0</td><td>Yes</td><td>Richard</td><td>First burrito I enjoyed from top to bottom</td><td>null</td><td>null</td><td>null</td><td>null</td><td>X</td><td>null</td><td>null</td><td>null</td><td>X</td><td>null</td><td>null</td><td>null</td><td>null</td><td>null</td><td>null</td><td>null</td><td>null</td><td>null</td><td>null</td><td>null</td><td>null</td><td>null</td><td>null</td><td>null</td><td>null</td><td>null</td><td>null</td><td>null</td><td>null</td><td>null</td><td>null</td><td>null</td><td>null</td><td>null</td><td>null</td><td>null</td><td>null</td></tr><tr><td>El Torrito Foods</td><td>Asada</td><td>9/25/2016</td><td>Vista</td><td>249 Emerald Dr</td><td>https://www.yelp.com/biz/el-torito-foods-vista-2</td><td>4.0</td><td>4.4</td><td>null</td><td>5.49</td><td>4.0</td><td>null</td><td>null</td><td>23.5</td><td>19.0</td><td>0.68</td><td>3.0</td><td>5.0</td><td>3.0</td><td>3.0</td><td>2.5</td><td>4.0</td><td>3.5</td><td>3.0</td><td>5.0</td><td>3.1</td><td>Yes</td><td>Scott</td><td>Good because so cheap</td><td>null</td><td>null</td><td>X</td><td>null</td><td>null</td><td>null</td><td>null</td><td>null</td><td>null</td><td>null</td><td>null</td><td>null</td><td>X</td><td>X</td><td>null</td><td>null</td><td>null</td><td>null</td><td>null</td><td>null</td><td>null</td><td>X</td><td>X</td><td>null</td><td>null</td><td>null</td><td>null</td><td>null</td><td>null</td><td>null</td><td>null</td><td>null</td><td>null</td><td>null</td><td>null</td><td>null</td><td>null</td></tr><tr><td>El Torrito Foods</td><td>Adobada</td><td>9/25/2016</td><td>null</td><td>null</td><td>null</td><td>null</td><td>null</td><td>null</td><td>3.99</td><td>4.5</td><td>null</td><td>null</td><td>22.5</td><td>19.5</td><td>0.68</td><td>3.5</td><td>4.0</td><td>3.0</td><td>2.5</td><td>2.8</td><td>4.0</td><td>2.5</td><td>2.5</td><td>5.0</td><td>2.6</td><td>No</td><td>Emily</td><td>tamale isn't good</td><td>null</td><td>null</td><td>null</td><td>null</td><td>null</td><td>null</td><td>null</td><td>null</td><td>X</td><td>null</td><td>null</td><td>null</td><td>X</td><td>X</td><td>null</td><td>null</td><td>null</td><td>null</td><td>null</td><td>null</td><td>null</td><td>X</td><td>X</td><td>null</td><td>null</td><td>null</td><td>null</td><td>null</td><td>null</td><td>null</td><td>null</td><td>null</td><td>null</td><td>null</td><td>null</td><td>null</td><td>null</td></tr><tr><td>La Morena Taco Shop and Seafood</td><td>California</td><td>9/22/2016</td><td>Webster</td><td>5059 Federal Blvd</td><td>https://www.yelp.com/biz/la-morena-taco-shop-san-diego</td><td>4.5</td><td>4.7</td><td>null</td><td>6.35</td><td>4.0</td><td>null</td><td>null</td><td>null</td><td>null</td><td>null</td><td>4.0</td><td>2.5</td><td>4.0</td><td>3.0</td><td>4.5</td><td>2.0</td><td>2.0</td><td>3.0</td><td>4.0</td><td>3.0</td><td>No</td><td>Erin</td><td>Good tortilla, good amount of food, needed guac. or salsa to balance out density of fillings.</td><td>null</td><td>null</td><td>x</td><td>x</td><td>null</td><td>null</td><td>x</td><td>x</td><td>null</td><td>null</td><td>null</td><td>null</td><td>null</td><td>null</td><td>null</td><td>null</td><td>null</td><td>null</td><td>null</td><td>null</td><td>null</td><td>null</td><td>null</td><td>null</td><td>null</td><td>null</td><td>null</td><td>null</td><td>null</td><td>null</td><td>null</td><td>null</td><td>null</td><td>null</td><td>null</td><td>null</td><td>null</td></tr><tr><td>Taco Villa</td><td>Carnitas</td><td>9/26/2016</td><td>UTC</td><td>9500 Gilman Dr</td><td>https://www.yelp.com/biz/taco-villa-san-diego</td><td>3.5</td><td>3.5</td><td>null</td><td>5.99</td><td>2.5</td><td>null</td><td>null</td><td>18.5</td><td>20.0</td><td>0.59</td><td>3.2</td><td>3.8</td><td>4.5</td><td>2.8</td><td>4.0</td><td>2.0</td><td>1.8</td><td>3.5</td><td>5.0</td><td>4.0</td><td>Yes</td><td>Scott</td><td>Carnitas very good</td><td>null</td><td>null</td><td>null</td><td>X</td><td>X</td><td>null</td><td>null</td><td>null</td><td>X</td><td>null</td><td>null</td><td>null</td><td>null</td><td>null</td><td>null</td><td>null</td><td>null</td><td>null</td><td>null</td><td>null</td><td>null</td><td>null</td><td>null</td><td>null</td><td>null</td><td>null</td><td>null</td><td>null</td><td>null</td><td>null</td><td>null</td><td>null</td><td>null</td><td>null</td><td>null</td><td>null</td><td>null</td></tr><tr><td>Rigoberto's Taco Shop</td><td>Campeon</td><td>9/27/2016</td><td>null</td><td>null</td><td>null</td><td>null</td><td>null</td><td>null</td><td>7.65</td><td>4.5</td><td>null</td><td>null</td><td>26.0</td><td>24.5</td><td>1.24</td><td>3.5</td><td>4.5</td><td>2.5</td><td>2.5</td><td>1.0</td><td>1.5</td><td>3.0</td><td>2.5</td><td>3.0</td><td>2.7</td><td>No</td><td>Scott</td><td>The big size was too big of an appeal, but there's just not enough meat</td><td>null</td><td>null</td><td>x</td><td>x</td><td>x</td><td>x</td><td>x</td><td>x</td><td>null</td><td>null</td><td>null</td><td>null</td><td>null</td><td>null</td><td>null</td><td>null</td><td>null</td><td>null</td><td>null</td><td>null</td><td>null</td><td>null</td><td>null</td><td>null</td><td>null</td><td>null</td><td>null</td><td>null</td><td>null</td><td>null</td><td>null</td><td>null</td><td>null</td><td>null</td><td>null</td><td>null</td><td>null</td></tr><tr><td>Rigoberto's Taco Shop</td><td>California</td><td>9/27/2016</td><td>null</td><td>null</td><td>null</td><td>null</td><td>null</td><td>null</td><td>6.6</td><td>3.5</td><td>null</td><td>null</td><td>22.0</td><td>23.0</td><td>0.93</td><td>4.0</td><td>4.5</td><td>4.0</td><td>4.0</td><td>4.5</td><td>5.0</td><td>4.5</td><td>4.5</td><td>4.5</td><td>4.25</td><td>Yes</td><td>Ricardo</td><td>null</td><td>null</td><td>null</td><td>null</td><td>null</td><td>null</td><td>null</td><td>null</td><td>null</td><td>null</td><td>null</td><td>null</td><td>null</td><td>null</td><td>null</td><td>null</td><td>null</td><td>null</td><td>null</td><td>null</td><td>null</td><td>null</td><td>null</td><td>null</td><td>null</td><td>null</td><td>null</td><td>null</td><td>null</td><td>null</td><td>null</td><td>null</td><td>null</td><td>null</td><td>null</td><td>null</td><td>null</td><td>null</td></tr><tr><td>Rigoberto's Taco Shop</td><td>Bacon breakfast</td><td>9/27/2016</td><td>null</td><td>null</td><td>null</td><td>null</td><td>null</td><td>null</td><td>6.3</td><td>4.0</td><td>null</td><td>null</td><td>22.0</td><td>22.0</td><td>0.85</td><td>4.0</td><td>3.6</td><td>4.0</td><td>4.0</td><td>4.0</td><td>4.0</td><td>null</td><td>4.0</td><td>4.0</td><td>4.2</td><td>Yes</td><td>Luis</td><td>null</td><td>null</td><td>null</td><td>null</td><td>null</td><td>null</td><td>x</td><td>x</td><td>null</td><td>null</td><td>null</td><td>null</td><td>null</td><td>null</td><td>null</td><td>null</td><td>null</td><td>null</td><td>null</td><td>null</td><td>null</td><td>null</td><td>null</td><td>null</td><td>null</td><td>null</td><td>null</td><td>null</td><td>null</td><td>null</td><td>null</td><td>x</td><td>null</td><td>x</td><td>null</td><td>null</td><td>null</td><td>null</td></tr><tr><td>Rigoberto's Taco Shop</td><td>Carnitas</td><td>9/27/2016</td><td>null</td><td>null</td><td>null</td><td>null</td><td>null</td><td>null</td><td>6.6</td><td>3.0</td><td>null</td><td>null</td><td>null</td><td>null</td><td>null</td><td>4.0</td><td>4.0</td><td>5.0</td><td>5.0</td><td>4.5</td><td>3.0</td><td>2.0</td><td>4.0</td><td>4.0</td><td>4.0</td><td>Yes</td><td>Elynn</td><td>null</td><td>null</td><td>null</td><td>null</td><td>x</td><td>x</td><td>null</td><td>null</td><td>null</td><td>x</td><td>null</td><td>null</td><td>null</td><td>null</td><td>null</td><td>null</td><td>null</td><td>null</td><td>null</td><td>null</td><td>null</td><td>null</td><td>null</td><td>null</td><td>null</td><td>null</td><td>null</td><td>null</td><td>null</td><td>null</td><td>null</td><td>null</td><td>null</td><td>null</td><td>null</td><td>null</td><td>null</td><td>null</td></tr><tr><td>Taco Villa</td><td>Al pastor</td><td>9/29/2016</td><td>null</td><td>null</td><td>null</td><td>null</td><td>null</td><td>null</td><td>5.99</td><td>4.0</td><td>null</td><td>null</td><td>18.0</td><td>20.0</td><td>0.57</td><td>3.5</td><td>3.5</td><td>2.0</td><td>3.0</td><td>4.5</td><td>4.5</td><td>3.0</td><td>3.0</td><td>5.0</td><td>3.2</td><td>No</td><td>Scott</td><td>get the carnitas</td><td>null</td><td>null</td><td>null</td><td>x</td><td>x</td><td>null</td><td>null</td><td>null</td><td>x</td><td>null</td><td>null</td><td>null</td><td>null</td><td>null</td><td>null</td><td>null</td><td>null</td><td>null</td><td>null</td><td>null</td><td>null</td><td>null</td><td>null</td><td>null</td><td>null</td><td>null</td><td>null</td><td>null</td><td>null</td><td>null</td><td>null</td><td>null</td><td>null</td><td>null</td><td>null</td><td>null</td><td>null</td></tr><tr><td>Valentines Mexican Food</td><td>California </td><td>10/1/2016</td><td>Downtown</td><td>1157 Sixth Ave</td><td>https://www.yelp.com/biz/valentines-mexican-food-san-diego-6</td><td>4.0</td><td>4.0</td><td>X</td><td>7.9</td><td>4.0</td><td>null</td><td>null</td><td>20.0</td><td>22.0</td><td>0.77</td><td>4.0</td><td>4.0</td><td>4.0</td><td>4.0</td><td>4.5</td><td>4.0</td><td>4.0</td><td>4.0</td><td>2.5</td><td>4.2</td><td>Yes</td><td>Scott</td><td>Best horchata. Fries are great. Chips are really good</td><td>null</td><td>null</td><td>x</td><td>x</td><td>x</td><td>x</td><td>x</td><td>null</td><td>null</td><td>null</td><td>null</td><td>null</td><td>null</td><td>null</td><td>null</td><td>null</td><td>null</td><td>null</td><td>null</td><td>null</td><td>null</td><td>null</td><td>null</td><td>null</td><td>null</td><td>null</td><td>null</td><td>null</td><td>null</td><td>null</td><td>null</td><td>null</td><td>null</td><td>null</td><td>null</td><td>null</td><td>null</td></tr><tr><td>Valentines Mexican Food</td><td>California Chipotle</td><td>10/1/2016</td><td>null</td><td>null</td><td>null</td><td>null</td><td>null</td><td>null</td><td>7.9</td><td>3.0</td><td>null</td><td>null</td><td>18.5</td><td>22.0</td><td>0.71</td><td>4.0</td><td>4.0</td><td>3.5</td><td>4.5</td><td>4.0</td><td>3.5</td><td>2.5</td><td>4.0</td><td>1.5</td><td>4.0</td><td>Yes</td><td>Emily</td><td>Chips really good, really good but a little bit spicy chipotle. Very good horchata</td><td>null</td><td>null</td><td>x</td><td>x</td><td>x</td><td>x</td><td>x</td><td>null</td><td>null</td><td>null</td><td>null</td><td>null</td><td>null</td><td>null</td><td>null</td><td>null</td><td>null</td><td>null</td><td>null</td><td>x</td><td>null</td><td>null</td><td>null</td><td>null</td><td>null</td><td>null</td><td>null</td><td>null</td><td>null</td><td>null</td><td>null</td><td>null</td><td>null</td><td>null</td><td>null</td><td>null</td><td>null</td></tr><tr><td>Matador Mexican Food</td><td>Carnitas</td><td>10/2/2016</td><td>Morena</td><td>5201 Linda Vista Rd</td><td>https://www.yelp.com/biz/matador-mexican-grill-san-diego-2</td><td>4.5</td><td>4.0</td><td>X</td><td>6.6</td><td>3.2</td><td>null</td><td>null</td><td>null</td><td>null</td><td>null</td><td>1.4</td><td>3.7</td><td>3.0</td><td>3.2</td><td>4.8</td><td>2.4</td><td>3.0</td><td>2.9</td><td>3.0</td><td>3.0</td><td>No</td><td>Scott</td><td>null</td><td>null</td><td>null</td><td>null</td><td>X</td><td>X</td><td>null</td><td>null</td><td>null</td><td>X</td><td>null</td><td>null</td><td>null</td><td>null</td><td>null</td><td>null</td><td>null</td><td>null</td><td>null</td><td>null</td><td>null</td><td>null</td><td>null</td><td>null</td><td>null</td><td>null</td><td>null</td><td>null</td><td>null</td><td>null</td><td>null</td><td>null</td><td>null</td><td>null</td><td>null</td><td>null</td><td>null</td><td>null</td></tr><tr><td>Matador Mexican Food</td><td>Carne asada</td><td>10/2/2016</td><td>null</td><td>null</td><td>null</td><td>null</td><td>null</td><td>null</td><td>6.6</td><td>4.0</td><td>null</td><td>null</td><td>null</td><td>null</td><td>null</td><td>4.0</td><td>3.5</td><td>3.5</td><td>3.5</td><td>4.0</td><td>3.0</td><td>3.5</td><td>3.5</td><td>4.5</td><td>3.0</td><td>null</td><td>Brent</td><td>Salsa too spicy</td><td>null</td><td>null</td><td>X</td><td>X</td><td>X</td><td>null</td><td>null</td><td>null</td><td>null</td><td>null</td><td>null</td><td>null</td><td>null</td><td>null</td><td>null</td><td>null</td><td>null</td><td>null</td><td>null</td><td>null</td><td>null</td><td>null</td><td>null</td><td>null</td><td>null</td><td>null</td><td>null</td><td>null</td><td>null</td><td>null</td><td>null</td><td>null</td><td>null</td><td>null</td><td>null</td><td>null</td><td>null</td></tr><tr><td>Jose's Taco</td><td>California</td><td>10/5/2016</td><td>Oceanside</td><td>3910 Vista Way</td><td>https://www.yelp.com/biz/joses-taco-oceanside</td><td>4.0</td><td>3.8</td><td>null</td><td>6.1</td><td>4.0</td><td>null</td><td>null</td><td>22.0</td><td>22.0</td><td>0.85</td><td>3.5</td><td>3.5</td><td>2.0</td><td>3.5</td><td>4.5</td><td>3.5</td><td>3.0</td><td>3.5</td><td>4.0</td><td>3.3</td><td>No</td><td>Scott </td><td>null</td><td>null</td><td>null</td><td>X</td><td>null</td><td>X</td><td>X</td><td>X</td><td>null</td><td>null</td><td>null</td><td>null</td><td>null</td><td>null</td><td>null</td><td>null</td><td>null</td><td>null</td><td>null</td><td>null</td><td>null</td><td>null</td><td>null</td><td>null</td><td>null</td><td>null</td><td>null</td><td>null</td><td>null</td><td>null</td><td>null</td><td>null</td><td>null</td><td>null</td><td>null</td><td>null</td><td>null</td><td>null</td></tr><tr><td>Cortez Mexican Food</td><td>California </td><td>10/7/2016</td><td>Bonsall</td><td>5517 Mission Rd</td><td>https://www.yelp.com/biz/cortez-mexican-food-bonsall</td><td>4.2</td><td>4.0</td><td>null</td><td>6.25</td><td>4.0</td><td>null</td><td>null</td><td>22.5</td><td>18.0</td><td>0.58</td><td>3.5</td><td>4.0</td><td>2.5</td><td>3.0</td><td>1.5</td><td>2.5</td><td>2.5</td><td>2.8</td><td>5.0</td><td>3.2</td><td>No</td><td>Scott </td><td>null</td><td>null</td><td>null</td><td>X</td><td>X</td><td>X</td><td>X</td><td>X</td><td>X</td><td>null</td><td>null</td><td>null</td><td>null</td><td>null</td><td>null</td><td>null</td><td>null</td><td>null</td><td>null</td><td>null</td><td>null</td><td>null</td><td>null</td><td>null</td><td>null</td><td>null</td><td>null</td><td>null</td><td>null</td><td>null</td><td>null</td><td>null</td><td>null</td><td>null</td><td>null</td><td>null</td><td>null</td><td>null</td></tr><tr><td>California Burrito Company</td><td>Dave's California</td><td>10/12/2016</td><td>Miramar</td><td>6912 Miramar Rd</td><td>https://www.yelp.com/biz/california-burrito-company-san-diego-2</td><td>3.5</td><td>4.4</td><td>null</td><td>6.5</td><td>4.0</td><td>null</td><td>null</td><td>19.5</td><td>21.0</td><td>0.68</td><td>3.0</td><td>2.5</td><td>2.5</td><td>3.0</td><td>4.0</td><td>3.5</td><td>2.5</td><td>3.0</td><td>5.0</td><td>3.3</td><td>No</td><td>Scott</td><td>The burrito looked beautiful when it came out. Chicken didn't add anything. would probably get the regular</td><td>null</td><td>null</td><td>x</td><td>null</td><td>null</td><td>x</td><td>x</td><td>x</td><td>null</td><td>x</td><td>null</td><td>null</td><td>null</td><td>null</td><td>null</td><td>null</td><td>null</td><td>null</td><td>null</td><td>null</td><td>null</td><td>null</td><td>null</td><td>null</td><td>null</td><td>null</td><td>null</td><td>null</td><td>null</td><td>null</td><td>null</td><td>null</td><td>null</td><td>null</td><td>null</td><td>null</td><td>null</td></tr><tr><td>California Burrito Company</td><td>California</td><td>10/12/2016</td><td>null</td><td>null</td><td>null</td><td>null</td><td>null</td><td>null</td><td>5.5</td><td>4.0</td><td>null</td><td>null</td><td>20.0</td><td>20.0</td><td>0.64</td><td>3.5</td><td>5.0</td><td>3.0</td><td>3.0</td><td>3.5</td><td>3.5</td><td>2.0</td><td>4.0</td><td>5.0</td><td>3.5</td><td>Yes</td><td>Devleena</td><td>null</td><td>null</td><td>null</td><td>x</td><td>null</td><td>null</td><td>x</td><td>x</td><td>x</td><td>null</td><td>null</td><td>null</td><td>null</td><td>null</td><td>null</td><td>null</td><td>null</td><td>null</td><td>null</td><td>null</td><td>null</td><td>null</td><td>null</td><td>null</td><td>null</td><td>null</td><td>null</td><td>null</td><td>null</td><td>null</td><td>null</td><td>null</td><td>null</td><td>null</td><td>null</td><td>null</td><td>null</td><td>null</td></tr><tr><td>California Burrito Company</td><td>California</td><td>10/12/2016</td><td>null</td><td>null</td><td>null</td><td>null</td><td>null</td><td>null</td><td>5.5</td><td>2.0</td><td>null</td><td>null</td><td>20.0</td><td>23.0</td><td>0.84</td><td>3.0</td><td>5.0</td><td>3.0</td><td>4.0</td><td>2.0</td><td>2.0</td><td>2.0</td><td>4.5</td><td>4.0</td><td>3.5</td><td>Yes</td><td>Sankha G</td><td>null</td><td>null</td><td>null</td><td>x</td><td>null</td><td>null</td><td>x</td><td>x</td><td>x</td><td>null</td><td>null</td><td>null</td><td>null</td><td>null</td><td>null</td><td>null</td><td>null</td><td>null</td><td>null</td><td>null</td><td>null</td><td>null</td><td>null</td><td>null</td><td>null</td><td>null</td><td>null</td><td>null</td><td>null</td><td>null</td><td>null</td><td>null</td><td>null</td><td>null</td><td>null</td><td>null</td><td>null</td><td>null</td></tr><tr><td>Taco Villa</td><td>Chicken and rice</td><td>10/12/2016</td><td>null</td><td>null</td><td>null</td><td>null</td><td>null</td><td>null</td><td>4.95</td><td>3.0</td><td>null</td><td>null</td><td>null</td><td>null</td><td>null</td><td>3.5</td><td>5.0</td><td>4.0</td><td>4.0</td><td>3.78</td><td>5.0</td><td>null</td><td>4.7</td><td>5.0</td><td>4.2</td><td>yes</td><td>Sage</td><td>chicken and rice burrito. simple and delicious. </td><td>null</td><td>null</td><td>null</td><td>null</td><td>null</td><td>null</td><td>null</td><td>null</td><td>null</td><td>null</td><td>null</td><td>null</td><td>null</td><td>null</td><td>null</td><td>null</td><td>null</td><td>null</td><td>null</td><td>null</td><td>null</td><td>null</td><td>null</td><td>null</td><td>null</td><td>null</td><td>null</td><td>null</td><td>null</td><td>null</td><td>null</td><td>null</td><td>null</td><td>null</td><td>null</td><td>null</td><td>null</td></tr><tr><td>Taco Villa</td><td>California </td><td>10/17/2016</td><td>null</td><td>null</td><td>null</td><td>null</td><td>null</td><td>null</td><td>6.99</td><td>3.5</td><td>null</td><td>null</td><td>19.0</td><td>20.0</td><td>0.6</td><td>3.0</td><td>3.0</td><td>3.0</td><td>3.0</td><td>3.7</td><td>3.5</td><td>3.8</td><td>3.0</td><td>5.0</td><td>3.5</td><td>Yes</td><td>Scott</td><td>Pretty decent</td><td>null</td><td>null</td><td>X</td><td>null</td><td>null</td><td>X</td><td>X</td><td>X</td><td>null</td><td>null</td><td>null</td><td>null</td><td>null</td><td>null</td><td>null</td><td>null</td><td>null</td><td>null</td><td>null</td><td>null</td><td>null</td><td>null</td><td>null</td><td>null</td><td>null</td><td>null</td><td>null</td><td>null</td><td>null</td><td>null</td><td>null</td><td>null</td><td>null</td><td>null</td><td>null</td><td>null</td><td>null</td></tr><tr><td>Storehouse Kitchen </td><td>Breakfast</td><td>10/17/2016</td><td>La  Jolla village</td><td>null</td><td>null</td><td>null</td><td>null</td><td>null</td><td>null</td><td>3.5</td><td>null</td><td>null</td><td>null</td><td>null</td><td>null</td><td>4.0</td><td>5.0</td><td>4.5</td><td>4.2</td><td>4.7</td><td>4.4</td><td>4.0</td><td>4.9</td><td>5.0</td><td>4.6</td><td>yes </td><td>Sage</td><td>one if the best breakfast burritos I've ever had</td><td>x</td><td>null</td><td>null</td><td>null</td><td>null</td><td>null</td><td>null</td><td>null</td><td>null</td><td>null</td><td>null</td><td>null</td><td>null</td><td>null</td><td>null</td><td>null</td><td>null</td><td>null</td><td>null</td><td>null</td><td>null</td><td>null</td><td>null</td><td>null</td><td>null</td><td>null</td><td>null</td><td>null</td><td>null</td><td>null</td><td>null</td><td>null</td><td>null</td><td>null</td><td>null</td><td>null</td><td>null</td></tr><tr><td>California Burrito Company</td><td>Fajitas </td><td>10/18/2016</td><td>null</td><td>null</td><td>null</td><td>null</td><td>null</td><td>null</td><td>6.5</td><td>3.0</td><td>null</td><td>null</td><td>18.5</td><td>20.5</td><td>0.62</td><td>3.0</td><td>4.5</td><td>3.5</td><td>1.5</td><td>1.5</td><td>2.0</td><td>3.2</td><td>2.0</td><td>4.5</td><td>2.2</td><td>No</td><td>Scott</td><td>Peppers not cooked enough</td><td>null</td><td>null</td><td>X</td><td>null</td><td>null</td><td>X</td><td>null</td><td>null</td><td>null</td><td>null</td><td>null</td><td>null</td><td>null</td><td>null</td><td>null</td><td>null</td><td>X</td><td>null</td><td>null</td><td>null</td><td>null</td><td>null</td><td>X</td><td>null</td><td>null</td><td>null</td><td>null</td><td>null</td><td>null</td><td>null</td><td>null</td><td>null</td><td>null</td><td>null</td><td>null</td><td>null</td><td>null</td></tr><tr><td>California Burrito Company</td><td>California </td><td>10/18/2016</td><td>null</td><td>null</td><td>null</td><td>null</td><td>null</td><td>null</td><td>5.5</td><td>3.0</td><td>null</td><td>null</td><td>17.0</td><td>22.0</td><td>0.65</td><td>3.0</td><td>4.0</td><td>4.5</td><td>3.0</td><td>2.0</td><td>4.0</td><td>4.5</td><td>3.5</td><td>4.5</td><td>3.5</td><td>No</td><td>Ricardo</td><td>Very plain burrito</td><td>null</td><td>null</td><td>null</td><td>null</td><td>null</td><td>null</td><td>null</td><td>null</td><td>null</td><td>null</td><td>null</td><td>null</td><td>null</td><td>null</td><td>null</td><td>null</td><td>null</td><td>null</td><td>null</td><td>null</td><td>null</td><td>null</td><td>null</td><td>null</td><td>null</td><td>null</td><td>null</td><td>null</td><td>null</td><td>null</td><td>null</td><td>null</td><td>null</td><td>null</td><td>null</td><td>null</td><td>null</td></tr><tr><td>Taco Villa</td><td>Breakfast</td><td>10/18/2016</td><td>null</td><td>null</td><td>null</td><td>null</td><td>null</td><td>null</td><td>4.99</td><td>4.0</td><td>null</td><td>null</td><td>null</td><td>null</td><td>null</td><td>4.5</td><td>5.0</td><td>3.0</td><td>3.0</td><td>3.0</td><td>2.5</td><td>0.0</td><td>2.5</td><td>5.0</td><td>3.0</td><td>yes</td><td>Sage</td><td>pretty standard breakfast burrito. eggs and cheese. great tortilla! morning protein!</td><td>null</td><td>null</td><td>null</td><td>null</td><td>null</td><td>null</td><td>null</td><td>null</td><td>null</td><td>null</td><td>null</td><td>null</td><td>null</td><td>null</td><td>null</td><td>null</td><td>null</td><td>null</td><td>null</td><td>null</td><td>null</td><td>null</td><td>null</td><td>null</td><td>null</td><td>null</td><td>null</td><td>null</td><td>null</td><td>null</td><td>null</td><td>null</td><td>null</td><td>null</td><td>null</td><td>null</td><td>null</td></tr><tr><td>California Burritos</td><td>California Everything</td><td>10/17/2016</td><td>null</td><td>null</td><td>null</td><td>null</td><td>null</td><td>null</td><td>6.95</td><td>4.0</td><td>null</td><td>null</td><td>22.0</td><td>23.0</td><td>0.93</td><td>4.0</td><td>2.0</td><td>4.0</td><td>3.0</td><td>4.0</td><td>5.0</td><td>3.0</td><td>3.0</td><td>4.0</td><td>4.0</td><td>yes</td><td>Elynn</td><td>null</td><td>null</td><td>null</td><td>null</td><td>null</td><td>null</td><td>null</td><td>null</td><td>null</td><td>null</td><td>null</td><td>null</td><td>null</td><td>null</td><td>null</td><td>null</td><td>null</td><td>null</td><td>null</td><td>null</td><td>null</td><td>null</td><td>null</td><td>null</td><td>null</td><td>null</td><td>null</td><td>null</td><td>null</td><td>null</td><td>null</td><td>null</td><td>null</td><td>null</td><td>null</td><td>null</td><td>null</td><td>null</td></tr><tr><td>California Burritos</td><td>Surf & Turf</td><td>10/17/2016</td><td>null</td><td>null</td><td>null</td><td>null</td><td>null</td><td>null</td><td>7.0</td><td>4.0</td><td>null</td><td>null</td><td>22.5</td><td>21.0</td><td>0.79</td><td>3.0</td><td>3.0</td><td>3.5</td><td>4.0</td><td>4.0</td><td>3.0</td><td>3.0</td><td>4.0</td><td>3.5</td><td>5.0</td><td>null</td><td>Hannah</td><td>null</td><td>null</td><td>null</td><td>null</td><td>null</td><td>null</td><td>null</td><td>null</td><td>null</td><td>null</td><td>null</td><td>null</td><td>null</td><td>null</td><td>null</td><td>null</td><td>null</td><td>null</td><td>null</td><td>null</td><td>null</td><td>null</td><td>null</td><td>null</td><td>null</td><td>null</td><td>null</td><td>null</td><td>null</td><td>null</td><td>null</td><td>null</td><td>null</td><td>null</td><td>null</td><td>null</td><td>null</td><td>null</td></tr><tr><td>Taco Villa</td><td>Carnitas</td><td>10/27/2016</td><td>null</td><td>null</td><td>null</td><td>null</td><td>null</td><td>null</td><td>5.95</td><td>3.0</td><td>null</td><td>null</td><td>18.0</td><td>20.0</td><td>0.57</td><td>4.0</td><td>3.0</td><td>4.0</td><td>3.0</td><td>4.0</td><td>2.0</td><td>3.5</td><td>3.0</td><td>5.0</td><td>3.9</td><td>Yes</td><td>Scott</td><td>null</td><td>null</td><td>null</td><td>null</td><td>x</td><td>x</td><td>null</td><td>null</td><td>null</td><td>x</td><td>null</td><td>null</td><td>null</td><td>null</td><td>null</td><td>null</td><td>null</td><td>null</td><td>null</td><td>null</td><td>null</td><td>null</td><td>null</td><td>null</td><td>null</td><td>null</td><td>null</td><td>null</td><td>null</td><td>null</td><td>null</td><td>null</td><td>null</td><td>null</td><td>null</td><td>null</td><td>null</td><td>null</td></tr><tr><td>Taco Villa</td><td>Tejano</td><td>10/27/2016</td><td>null</td><td>null</td><td>null</td><td>null</td><td>null</td><td>null</td><td>6.99</td><td>3.5</td><td>null</td><td>null</td><td>19.0</td><td>21.0</td><td>0.67</td><td>2.0</td><td>5.0</td><td>4.2</td><td>3.0</td><td>4.7</td><td>5.0</td><td>3.7</td><td>4.2</td><td>5.0</td><td>4.0</td><td>Yes</td><td>Sage</td><td>null</td><td>null</td><td>null</td><td>null</td><td>null</td><td>null</td><td>x</td><td>x</td><td>null</td><td>null</td><td>x</td><td>null</td><td>null</td><td>null</td><td>null</td><td>null</td><td>null</td><td>null</td><td>null</td><td>null</td><td>null</td><td>null</td><td>null</td><td>null</td><td>null</td><td>null</td><td>null</td><td>null</td><td>null</td><td>null</td><td>null</td><td>null</td><td>null</td><td>null</td><td>null</td><td>null</td><td>null</td><td>null</td></tr><tr><td>Taco Villa</td><td>Al pastor</td><td>10/27/2016</td><td>null</td><td>null</td><td>null</td><td>null</td><td>null</td><td>null</td><td>null</td><td>4.5</td><td>null</td><td>null</td><td>null</td><td>null</td><td>null</td><td>3.0</td><td>4.0</td><td>4.0</td><td>4.0</td><td>4.0</td><td>4.0</td><td>4.0</td><td>4.0</td><td>3.0</td><td>4.0</td><td>Yes</td><td>Marc</td><td>null</td><td>null</td><td>null</td><td>null</td><td>x</td><td>null</td><td>null</td><td>null</td><td>null</td><td>x</td><td>null</td><td>null</td><td>null</td><td>null</td><td>x</td><td>null</td><td>null</td><td>null</td><td>null</td><td>null</td><td>null</td><td>null</td><td>null</td><td>null</td><td>null</td><td>null</td><td>null</td><td>null</td><td>null</td><td>null</td><td>null</td><td>null</td><td>null</td><td>null</td><td>null</td><td>null</td><td>null</td><td>null</td></tr><tr><td>Taco Villa</td><td>Shrimp with guac</td><td>10/27/2016</td><td>null</td><td>null</td><td>null</td><td>null</td><td>null</td><td>null</td><td>null</td><td>2.0</td><td>null</td><td>null</td><td>null</td><td>null</td><td>null</td><td>2.0</td><td>4.0</td><td>3.0</td><td>4.0</td><td>4.0</td><td>4.0</td><td>3.0</td><td>4.0</td><td>4.0</td><td>3.0</td><td>Yes</td><td>Jeremy</td><td>null</td><td>null</td><td>null</td><td>null</td><td>null</td><td>null</td><td>null</td><td>null</td><td>null</td><td>null</td><td>null</td><td>null</td><td>null</td><td>null</td><td>null</td><td>null</td><td>null</td><td>null</td><td>null</td><td>null</td><td>null</td><td>null</td><td>null</td><td>null</td><td>null</td><td>null</td><td>null</td><td>null</td><td>null</td><td>null</td><td>null</td><td>null</td><td>null</td><td>null</td><td>null</td><td>null</td><td>null</td><td>null</td></tr><tr><td>Taco Villa</td><td>Bean & cheese</td><td>10/27/2016</td><td>null</td><td>null</td><td>null</td><td>null</td><td>null</td><td>null</td><td>null</td><td>3.0</td><td>null</td><td>null</td><td>null</td><td>null</td><td>null</td><td>5.0</td><td>5.0</td><td>null</td><td>3.0</td><td>2.0</td><td>2.0</td><td>null</td><td>1.0</td><td>5.0</td><td>2.0</td><td>No</td><td>Shijia</td><td>null</td><td>null</td><td>null</td><td>null</td><td>null</td><td>null</td><td>x</td><td>null</td><td>null</td><td>null</td><td>null</td><td>null</td><td>null</td><td>null</td><td>x</td><td>null</td><td>null</td><td>null</td><td>null</td><td>null</td><td>null</td><td>null</td><td>null</td><td>null</td><td>null</td><td>null</td><td>null</td><td>null</td><td>null</td><td>null</td><td>null</td><td>null</td><td>null</td><td>null</td><td>null</td><td>null</td><td>null</td><td>null</td></tr><tr><td>Taco Stand Encinitas</td><td>California </td><td>10/29/2016</td><td>Encinitas </td><td>642 S Coast Hwy 101</td><td>https://www.yelp.com/biz/the-taco-stand-encinitas</td><td>4.0</td><td>4.4</td><td>null</td><td>7.49</td><td>4.0</td><td>null</td><td>null</td><td>17.5</td><td>23.5</td><td>0.77</td><td>2.0</td><td>3.5</td><td>4.2</td><td>4.3</td><td>4.0</td><td>2.2</td><td>4.5</td><td>4.0</td><td>2.2</td><td>4.2</td><td>Yes</td><td>Scott</td><td>Much better than the first time we tried this location </td><td>null</td><td>null</td><td>null</td><td>null</td><td>null</td><td>null</td><td>null</td><td>null</td><td>null</td><td>null</td><td>null</td><td>null</td><td>null</td><td>null</td><td>null</td><td>null</td><td>null</td><td>null</td><td>null</td><td>null</td><td>null</td><td>null</td><td>null</td><td>null</td><td>null</td><td>null</td><td>null</td><td>null</td><td>null</td><td>null</td><td>null</td><td>null</td><td>null</td><td>null</td><td>null</td><td>null</td><td>null</td></tr><tr><td>Taco Stand Encinitas</td><td>California </td><td>10/29/2016</td><td>null</td><td>null</td><td>null</td><td>null</td><td>null</td><td>null</td><td>7.49</td><td>2.0</td><td>null</td><td>null</td><td>18.5</td><td>22.0</td><td>0.71</td><td>3.8</td><td>3.8</td><td>4.0</td><td>4.2</td><td>3.75</td><td>4.0</td><td>4.75</td><td>4.4</td><td>3.8</td><td>4.2</td><td>Yes</td><td>Emily</td><td>Possibly favorite green salsa so far</td><td>null</td><td>null</td><td>null</td><td>null</td><td>null</td><td>null</td><td>null</td><td>null</td><td>null</td><td>null</td><td>null</td><td>null</td><td>null</td><td>null</td><td>null</td><td>null</td><td>null</td><td>null</td><td>null</td><td>null</td><td>null</td><td>null</td><td>null</td><td>null</td><td>null</td><td>null</td><td>null</td><td>null</td><td>null</td><td>null</td><td>null</td><td>null</td><td>null</td><td>null</td><td>null</td><td>null</td><td>null</td></tr><tr><td>Donato's Taco Shop</td><td>Al pastor </td><td>11/1/2016</td><td>null</td><td>null</td><td>null</td><td>null</td><td>null</td><td>null</td><td>5.99</td><td>4.0</td><td>null</td><td>null</td><td>19.5</td><td>21.5</td><td>0.72</td><td>3.0</td><td>4.5</td><td>3.7</td><td>2.8</td><td>5.0</td><td>4.5</td><td>3.0</td><td>2.3</td><td>4.5</td><td>3.0</td><td>No</td><td>Scott</td><td>null</td><td>null</td><td>null</td><td>null</td><td>X</td><td>X</td><td>null</td><td>null</td><td>null</td><td>X</td><td>null</td><td>null</td><td>null</td><td>null</td><td>null</td><td>null</td><td>null</td><td>null</td><td>null</td><td>null</td><td>null</td><td>null</td><td>null</td><td>null</td><td>null</td><td>null</td><td>null</td><td>null</td><td>null</td><td>null</td><td>null</td><td>null</td><td>null</td><td>null</td><td>null</td><td>null</td><td>null</td><td>null</td></tr><tr><td>Donato's Taco Shop</td><td>Carne asada</td><td>11/1/2016</td><td>null</td><td>null</td><td>null</td><td>null</td><td>null</td><td>null</td><td>5.99</td><td>2.0</td><td>null</td><td>null</td><td>21.0</td><td>23.5</td><td>0.92</td><td>2.0</td><td>4.0</td><td>4.5</td><td>4.0</td><td>4.0</td><td>3.0</td><td>4.0</td><td>4.0</td><td>2.0</td><td>4.0</td><td>Yes</td><td>Elynn</td><td>null</td><td>null</td><td>null</td><td>X</td><td>X</td><td>X</td><td>null</td><td>null</td><td>null</td><td>null</td><td>null</td><td>null</td><td>null</td><td>null</td><td>null</td><td>null</td><td>null</td><td>null</td><td>null</td><td>null</td><td>null</td><td>null</td><td>null</td><td>null</td><td>null</td><td>null</td><td>null</td><td>null</td><td>null</td><td>null</td><td>null</td><td>null</td><td>null</td><td>null</td><td>null</td><td>null</td><td>null</td><td>null</td></tr><tr><td>Ortiz's Taco Shop #2</td><td>California</td><td>11/2/2016</td><td>Pacific Beach</td><td>1313 Garnet Ave</td><td>https://www.yelp.com/biz/ortizs-taco-shop-san-diego-2</td><td>4.0</td><td>4.2</td><td>null</td><td>6.39</td><td>4.0</td><td>null</td><td>null</td><td>20.0</td><td>21.0</td><td>0.7</td><td>4.0</td><td>4.0</td><td>4.0</td><td>4.0</td><td>4.5</td><td>4.5</td><td>4.2</td><td>4.5</td><td>4.5</td><td>4.25</td><td>Yes</td><td>Scott</td><td>null</td><td>null</td><td>null</td><td>null</td><td>null</td><td>null</td><td>null</td><td>null</td><td>null</td><td>null</td><td>null</td><td>null</td><td>null</td><td>null</td><td>null</td><td>null</td><td>null</td><td>null</td><td>null</td><td>null</td><td>null</td><td>null</td><td>null</td><td>null</td><td>null</td><td>null</td><td>null</td><td>null</td><td>null</td><td>null</td><td>null</td><td>null</td><td>null</td><td>null</td><td>null</td><td>null</td><td>null</td><td>null</td></tr><tr><td>Ortiz's Taco Shop #2</td><td>California chicken</td><td>11/2/2016</td><td>null</td><td>null</td><td>null</td><td>null</td><td>null</td><td>null</td><td>6.39</td><td>4.25</td><td>null</td><td>null</td><td>22.0</td><td>22.0</td><td>0.85</td><td>2.0</td><td>4.0</td><td>3.7</td><td>2.0</td><td>4.0</td><td>4.5</td><td>4.5</td><td>2.7</td><td>5.0</td><td>2.66</td><td>No</td><td>Sage</td><td>null</td><td>null</td><td>null</td><td>null</td><td>null</td><td>null</td><td>null</td><td>null</td><td>null</td><td>null</td><td>null</td><td>null</td><td>null</td><td>null</td><td>null</td><td>null</td><td>null</td><td>null</td><td>null</td><td>null</td><td>null</td><td>null</td><td>null</td><td>null</td><td>null</td><td>null</td><td>null</td><td>null</td><td>null</td><td>null</td><td>null</td><td>null</td><td>null</td><td>null</td><td>null</td><td>null</td><td>null</td><td>null</td></tr><tr><td>Ortiz's Taco Shop #2</td><td>California</td><td>11/2/2016</td><td>null</td><td>null</td><td>null</td><td>null</td><td>null</td><td>null</td><td>6.39</td><td>4.5</td><td>null</td><td>null</td><td>22.5</td><td>20.5</td><td>0.75</td><td>3.0</td><td>4.4</td><td>4.0</td><td>4.0</td><td>4.5</td><td>4.2</td><td>4.3</td><td>4.0</td><td>5.0</td><td>4.2</td><td>Yes</td><td>Shijia</td><td>null</td><td>null</td><td>null</td><td>null</td><td>null</td><td>null</td><td>null</td><td>null</td><td>null</td><td>null</td><td>null</td><td>null</td><td>null</td><td>null</td><td>null</td><td>null</td><td>null</td><td>null</td><td>null</td><td>null</td><td>null</td><td>null</td><td>null</td><td>null</td><td>null</td><td>null</td><td>null</td><td>null</td><td>null</td><td>null</td><td>null</td><td>null</td><td>null</td><td>null</td><td>null</td><td>null</td><td>null</td><td>null</td></tr><tr><td>Ortiz's Taco Shop #2</td><td>California</td><td>11/2/2016</td><td>null</td><td>null</td><td>null</td><td>null</td><td>null</td><td>null</td><td>6.39</td><td>4.75</td><td>null</td><td>null</td><td>20.5</td><td>20.5</td><td>0.69</td><td>2.0</td><td>null</td><td>3.5</td><td>3.0</td><td>5.0</td><td>4.0</td><td>2.0</td><td>3.5</td><td>3.5</td><td>3.5</td><td>Yes</td><td>Jeremy</td><td>null</td><td>null</td><td>null</td><td>null</td><td>null</td><td>null</td><td>null</td><td>null</td><td>null</td><td>null</td><td>null</td><td>null</td><td>null</td><td>null</td><td>null</td><td>null</td><td>null</td><td>null</td><td>null</td><td>null</td><td>null</td><td>null</td><td>null</td><td>null</td><td>null</td><td>null</td><td>null</td><td>null</td><td>null</td><td>null</td><td>null</td><td>null</td><td>null</td><td>null</td><td>null</td><td>null</td><td>null</td><td>null</td></tr><tr><td>El Portal Fresh Mexican Grill</td><td>Mahi</td><td>11/6/2016</td><td>Clairemont</td><td>4101 Genesee Ave</td><td>https://www.yelp.com/biz/el-portal-fresh-mexican-grill-san-diego</td><td>4.0</td><td>4.4</td><td>X</td><td>7.35</td><td>2.3</td><td>null</td><td>null</td><td>19.5</td><td>23.5</td><td>0.86</td><td>4.0</td><td>4.0</td><td>3.5</td><td>2.0</td><td>1.5</td><td>2.0</td><td>2.0</td><td>3.0</td><td>1.2</td><td>3.1</td><td>No</td><td>Scott</td><td>null</td><td>null</td><td>null</td><td>null</td><td>null</td><td>X</td><td>null</td><td>null</td><td>null</td><td>null</td><td>null</td><td>null</td><td>X</td><td>null</td><td>null</td><td>null</td><td>X</td><td>null</td><td>null</td><td>X</td><td>null</td><td>null</td><td>null</td><td>null</td><td>null</td><td>null</td><td>null</td><td>null</td><td>null</td><td>null</td><td>null</td><td>null</td><td>null</td><td>null</td><td>null</td><td>null</td><td>null</td><td>null</td></tr><tr><td>El Portal Fresh Mexican Grill</td><td>Carnitas</td><td>11/6/2016</td><td>null</td><td>null</td><td>null</td><td>null</td><td>null</td><td>null</td><td>6.7</td><td>3.75</td><td>null</td><td>null</td><td>18.0</td><td>22.5</td><td>0.73</td><td>3.5</td><td>4.0</td><td>4.0</td><td>3.0</td><td>3.75</td><td>4.0</td><td>3.0</td><td>3.5</td><td>4.5</td><td>3.75</td><td>Yes</td><td>Emily</td><td>null</td><td>null</td><td>null</td><td>null</td><td>X</td><td>X</td><td>null</td><td>null</td><td>null</td><td>X</td><td>null</td><td>null</td><td>null</td><td>null</td><td>null</td><td>null</td><td>null</td><td>null</td><td>null</td><td>null</td><td>null</td><td>null</td><td>null</td><td>null</td><td>null</td><td>null</td><td>null</td><td>null</td><td>null</td><td>null</td><td>null</td><td>null</td><td>null</td><td>null</td><td>null</td><td>null</td><td>null</td><td>null</td></tr><tr><td>El Zarape</td><td>California</td><td>11/8/2016</td><td>null</td><td>null</td><td>null</td><td>null</td><td>null</td><td>null</td><td>6.25</td><td>4.0</td><td>null</td><td>null</td><td>17.0</td><td>19.5</td><td>0.51</td><td>2.5</td><td>4.0</td><td>3.75</td><td>4.0</td><td>3.75</td><td>5.0</td><td>4.0</td><td>4.0</td><td>5.0</td><td>3.9</td><td>Yes</td><td>Scott</td><td>null</td><td>null</td><td>null</td><td>x</td><td>x</td><td>x</td><td>x</td><td>x</td><td>x</td><td>null</td><td>null</td><td>null</td><td>null</td><td>null</td><td>null</td><td>null</td><td>null</td><td>null</td><td>null</td><td>null</td><td>null</td><td>null</td><td>null</td><td>null</td><td>null</td><td>null</td><td>null</td><td>null</td><td>null</td><td>null</td><td>null</td><td>null</td><td>null</td><td>null</td><td>null</td><td>null</td><td>null</td><td>null</td></tr><tr><td>El Zarape</td><td>California</td><td>11/8/2016</td><td>null</td><td>null</td><td>null</td><td>null</td><td>null</td><td>null</td><td>6.25</td><td>4.0</td><td>null</td><td>null</td><td>17.0</td><td>22.0</td><td>0.65</td><td>3.0</td><td>null</td><td>4.0</td><td>4.0</td><td>4.0</td><td>4.0</td><td>2.0</td><td>3.0</td><td>5.0</td><td>4.0</td><td>Yes</td><td>Ant</td><td>null</td><td>null</td><td>null</td><td>x</td><td>x</td><td>x</td><td>x</td><td>x</td><td>x</td><td>null</td><td>null</td><td>null</td><td>null</td><td>null</td><td>null</td><td>null</td><td>null</td><td>null</td><td>null</td><td>null</td><td>null</td><td>null</td><td>null</td><td>null</td><td>null</td><td>null</td><td>null</td><td>null</td><td>null</td><td>null</td><td>null</td><td>null</td><td>null</td><td>null</td><td>null</td><td>null</td><td>null</td><td>null</td></tr><tr><td>El Zarape</td><td>California</td><td>11/8/2016</td><td>null</td><td>null</td><td>null</td><td>null</td><td>null</td><td>null</td><td>6.25</td><td>3.0</td><td>null</td><td>null</td><td>null</td><td>null</td><td>null</td><td>4.0</td><td>4.0</td><td>2.0</td><td>2.0</td><td>4.0</td><td>3.0</td><td>3.0</td><td>3.0</td><td>5.0</td><td>3.0</td><td>No</td><td>Erik</td><td>null</td><td>null</td><td>null</td><td>x</td><td>x</td><td>x</td><td>x</td><td>x</td><td>x</td><td>null</td><td>null</td><td>null</td><td>null</td><td>null</td><td>null</td><td>null</td><td>null</td><td>null</td><td>null</td><td>null</td><td>null</td><td>null</td><td>null</td><td>null</td><td>null</td><td>null</td><td>null</td><td>null</td><td>null</td><td>null</td><td>null</td><td>null</td><td>null</td><td>null</td><td>null</td><td>null</td><td>null</td><td>null</td></tr><tr><td>El Zarape</td><td>Carne asada supreme</td><td>11/8/2016</td><td>null</td><td>null</td><td>null</td><td>null</td><td>null</td><td>null</td><td>6.25</td><td>4.0</td><td>null</td><td>null</td><td>18.0</td><td>21.0</td><td>0.63</td><td>4.0</td><td>4.0</td><td>null</td><td>3.5</td><td>3.5</td><td>4.0</td><td>4.0</td><td>4.0</td><td>4.0</td><td>4.0</td><td>Yes</td><td>Tom</td><td>null</td><td>null</td><td>null</td><td>null</td><td>null</td><td>null</td><td>null</td><td>null</td><td>null</td><td>null</td><td>null</td><td>null</td><td>null</td><td>null</td><td>null</td><td>null</td><td>null</td><td>null</td><td>null</td><td>null</td><td>null</td><td>null</td><td>null</td><td>null</td><td>null</td><td>null</td><td>null</td><td>null</td><td>null</td><td>null</td><td>null</td><td>null</td><td>null</td><td>null</td><td>null</td><td>null</td><td>null</td><td>null</td></tr><tr><td>Famoso Mexican Street Food</td><td>Cali Diablo</td><td>11/14/2016</td><td>Downtown</td><td>815 C St</td><td>https://www.yelp.com/biz/famoso-mexican-street-food-san-diego-20</td><td>4.5</td><td>3.9</td><td>null</td><td>10.5</td><td>3.0</td><td>null</td><td>null</td><td>20.0</td><td>27.0</td><td>1.16</td><td>2.0</td><td>2.5</td><td>3.3</td><td>3.5</td><td>1.5</td><td>4.0</td><td>2.5</td><td>2.5</td><td>3.0</td><td>3.1</td><td>No</td><td>Scott</td><td>Big roach on the floor while eating. Good prep took quite a long time. Cut in half!</td><td>null</td><td>null</td><td>X</td><td>X</td><td>X</td><td>X</td><td>X</td><td>X</td><td>null</td><td>null</td><td>X</td><td>null</td><td>null</td><td>null</td><td>null</td><td>null</td><td>null</td><td>null</td><td>null</td><td>X</td><td>null</td><td>null</td><td>null</td><td>null</td><td>null</td><td>null</td><td>null</td><td>null</td><td>null</td><td>null</td><td>null</td><td>null</td><td>null</td><td>null</td><td>null</td><td>null</td><td>null</td></tr><tr><td>Valentines Mexican Food</td><td>Carne asada</td><td>11/16/2016</td><td>null</td><td>null</td><td>null</td><td>null</td><td>null</td><td>null</td><td>6.75</td><td>3.0</td><td>null</td><td>null</td><td>18.0</td><td>21.5</td><td>0.66</td><td>4.5</td><td>4.7</td><td>4.5</td><td>3.5</td><td>4.0</td><td>4.5</td><td>4.5</td><td>3.5</td><td>5.0</td><td>4.2</td><td>Yes</td><td>Scott</td><td>null</td><td>null</td><td>null</td><td>x</td><td>null</td><td>x</td><td>null</td><td>null</td><td>null</td><td>null</td><td>null</td><td>null</td><td>null</td><td>null</td><td>null</td><td>null</td><td>null</td><td>null</td><td>null</td><td>null</td><td>null</td><td>null</td><td>null</td><td>null</td><td>null</td><td>null</td><td>null</td><td>null</td><td>null</td><td>null</td><td>null</td><td>null</td><td>null</td><td>null</td><td>null</td><td>null</td><td>null</td><td>null</td></tr><tr><td>Valentines Mexican Food</td><td>Pork california</td><td>11/16/2016</td><td>null</td><td>null</td><td>null</td><td>null</td><td>null</td><td>null</td><td>7.9</td><td>4.0</td><td>null</td><td>null</td><td>19.0</td><td>22.0</td><td>0.73</td><td>5.0</td><td>5.0</td><td>4.0</td><td>5.0</td><td>5.0</td><td>3.0</td><td>4.0</td><td>5.0</td><td>3.0</td><td>5.0</td><td>Yes</td><td>Justin K</td><td>null</td><td>null</td><td>null</td><td>null</td><td>null</td><td>null</td><td>null</td><td>null</td><td>null</td><td>null</td><td>null</td><td>null</td><td>null</td><td>null</td><td>null</td><td>null</td><td>null</td><td>null</td><td>null</td><td>null</td><td>null</td><td>null</td><td>null</td><td>null</td><td>null</td><td>null</td><td>null</td><td>null</td><td>null</td><td>null</td><td>null</td><td>null</td><td>null</td><td>null</td><td>null</td><td>null</td><td>null</td><td>null</td></tr><tr><td>Valentines Mexican Food</td><td>California</td><td>11/16/2016</td><td>null</td><td>null</td><td>null</td><td>null</td><td>null</td><td>null</td><td>7.9</td><td>4.0</td><td>null</td><td>null</td><td>20.0</td><td>22.0</td><td>0.77</td><td>3.0</td><td>5.0</td><td>5.0</td><td>4.0</td><td>5.0</td><td>4.0</td><td>3.0</td><td>5.0</td><td>2.0</td><td>4.5</td><td>Yes</td><td>Shreejoy</td><td>null</td><td>null</td><td>null</td><td>null</td><td>null</td><td>null</td><td>null</td><td>null</td><td>null</td><td>null</td><td>null</td><td>null</td><td>null</td><td>null</td><td>null</td><td>null</td><td>null</td><td>null</td><td>null</td><td>null</td><td>null</td><td>null</td><td>null</td><td>null</td><td>null</td><td>null</td><td>null</td><td>null</td><td>null</td><td>null</td><td>null</td><td>null</td><td>null</td><td>null</td><td>null</td><td>null</td><td>null</td><td>null</td></tr><tr><td>Valentines Mexican Food</td><td>California</td><td>11/16/2016</td><td>null</td><td>null</td><td>null</td><td>null</td><td>null</td><td>null</td><td>7.9</td><td>4.0</td><td>null</td><td>null</td><td>20.0</td><td>21.5</td><td>0.74</td><td>4.0</td><td>4.0</td><td>3.0</td><td>4.0</td><td>4.0</td><td>4.0</td><td>3.0</td><td>3.0</td><td>4.0</td><td>4.0</td><td>Yes</td><td>@synapticlee</td><td>null</td><td>null</td><td>null</td><td>null</td><td>null</td><td>null</td><td>null</td><td>null</td><td>null</td><td>null</td><td>null</td><td>null</td><td>null</td><td>null</td><td>null</td><td>null</td><td>null</td><td>null</td><td>null</td><td>null</td><td>null</td><td>null</td><td>null</td><td>null</td><td>null</td><td>null</td><td>null</td><td>null</td><td>null</td><td>null</td><td>null</td><td>null</td><td>null</td><td>null</td><td>null</td><td>null</td><td>null</td><td>null</td></tr><tr><td>Valentines Mexican Food</td><td>California</td><td>11/16/2016</td><td>null</td><td>null</td><td>null</td><td>null</td><td>null</td><td>null</td><td>7.9</td><td>3.5</td><td>null</td><td>null</td><td>null</td><td>null</td><td>null</td><td>4.0</td><td>3.5</td><td>4.7</td><td>4.0</td><td>4.5</td><td>4.5</td><td>4.5</td><td>4.0</td><td>3.5</td><td>4.7</td><td>Yes</td><td>@danjlurie</td><td>null</td><td>null</td><td>null</td><td>null</td><td>null</td><td>null</td><td>null</td><td>null</td><td>null</td><td>null</td><td>null</td><td>null</td><td>null</td><td>null</td><td>null</td><td>null</td><td>null</td><td>null</td><td>null</td><td>null</td><td>null</td><td>null</td><td>null</td><td>null</td><td>null</td><td>null</td><td>null</td><td>null</td><td>null</td><td>null</td><td>null</td><td>null</td><td>null</td><td>null</td><td>null</td><td>null</td><td>null</td><td>null</td></tr><tr><td>Cancun Mexican & Seafood</td><td>California </td><td>11/17/2016</td><td>null</td><td>null</td><td>null</td><td>null</td><td>null</td><td>null</td><td>6.99</td><td>4.3</td><td>null</td><td>null</td><td>null</td><td>null</td><td>null</td><td>4.8</td><td>5.0</td><td>4.0</td><td>4.4</td><td>5.0</td><td>4.0</td><td>4.3</td><td>4.3</td><td>5.0</td><td>4.5</td><td>Yes</td><td>Scott</td><td>Sour cream is surprisingly good. Avocado salsa works very well on the burrito</td><td>null</td><td>null</td><td>X</td><td>null</td><td>null</td><td>X</td><td>X</td><td>X</td><td>null</td><td>null</td><td>null</td><td>null</td><td>null</td><td>null</td><td>null</td><td>null</td><td>null</td><td>null</td><td>null</td><td>null</td><td>null</td><td>null</td><td>null</td><td>null</td><td>null</td><td>null</td><td>null</td><td>null</td><td>null</td><td>null</td><td>null</td><td>null</td><td>null</td><td>null</td><td>null</td><td>null</td><td>null</td></tr><tr><td>Cancun Mexican & Seafood</td><td>California </td><td>11/17/2016</td><td>null</td><td>null</td><td>null</td><td>null</td><td>null</td><td>null</td><td>6.99</td><td>4.0</td><td>null</td><td>null</td><td>null</td><td>null</td><td>null</td><td>4.5</td><td>4.5</td><td>4.0</td><td>4.5</td><td>4.0</td><td>4.0</td><td>3.5</td><td>4.5</td><td>5.0</td><td>4.5</td><td>Yes</td><td>Emily</td><td>null</td><td>null</td><td>null</td><td>X</td><td>null</td><td>null</td><td>X</td><td>X</td><td>X</td><td>null</td><td>null</td><td>null</td><td>null</td><td>null</td><td>null</td><td>null</td><td>null</td><td>null</td><td>null</td><td>null</td><td>null</td><td>null</td><td>null</td><td>null</td><td>null</td><td>null</td><td>null</td><td>null</td><td>null</td><td>null</td><td>null</td><td>null</td><td>null</td><td>null</td><td>null</td><td>null</td><td>null</td><td>null</td></tr><tr><td>Los Panchos Taco Shop</td><td>California</td><td>11/23/2016</td><td>Hillcrest</td><td>409 Washington St</td><td>https://www.yelp.com/biz/los-panchos-san-diego-2</td><td>3.0</td><td>3.4</td><td>x</td><td>6.25</td><td>3.0</td><td>null</td><td>null</td><td>18.0</td><td>21.5</td><td>0.66</td><td>3.5</td><td>5.0</td><td>4.0</td><td>3.0</td><td>4.0</td><td>3.0</td><td>3.5</td><td>3.5</td><td>3.0</td><td>3.7</td><td>Yes</td><td>Scott</td><td>null</td><td>null</td><td>null</td><td>x</td><td>x</td><td>null</td><td>x</td><td>x</td><td>x</td><td>null</td><td>null</td><td>null</td><td>null</td><td>null</td><td>null</td><td>null</td><td>null</td><td>null</td><td>null</td><td>null</td><td>null</td><td>null</td><td>null</td><td>null</td><td>null</td><td>null</td><td>null</td><td>null</td><td>null</td><td>null</td><td>null</td><td>null</td><td>null</td><td>null</td><td>null</td><td>null</td><td>null</td><td>null</td></tr><tr><td>Los Panchos Taco Shop</td><td>Bitchin California</td><td>11/23/2016</td><td>null</td><td>null</td><td>null</td><td>null</td><td>null</td><td>null</td><td>7.25</td><td>4.0</td><td>null</td><td>null</td><td>19.0</td><td>24.0</td><td>0.87</td><td>4.0</td><td>4.0</td><td>5.0</td><td>4.5</td><td>4.0</td><td>3.5</td><td>5.0</td><td>4.5</td><td>5.0</td><td>4.4</td><td>Yes</td><td>Richard</td><td>null</td><td>null</td><td>null</td><td>x</td><td>null</td><td>x</td><td>x</td><td>x</td><td>null</td><td>null</td><td>null</td><td>x</td><td>null</td><td>null</td><td>null</td><td>x</td><td>x</td><td>null</td><td>null</td><td>null</td><td>null</td><td>null</td><td>null</td><td>null</td><td>null</td><td>null</td><td>null</td><td>null</td><td>null</td><td>null</td><td>null</td><td>null</td><td>null</td><td>null</td><td>null</td><td>null</td><td>null</td><td>null</td></tr><tr><td>Los Panchos Taco Shop</td><td>Tijuana</td><td>11/23/2016</td><td>null</td><td>null</td><td>null</td><td>null</td><td>null</td><td>null</td><td>7.0</td><td>3.5</td><td>null</td><td>null</td><td>19.5</td><td>22.0</td><td>0.75</td><td>4.0</td><td>4.0</td><td>3.5</td><td>4.0</td><td>4.0</td><td>3.5</td><td>4.5</td><td>4.0</td><td>3.5</td><td>3.7</td><td>Yes</td><td>Tom</td><td>null</td><td>null</td><td>null</td><td>null</td><td>null</td><td>null</td><td>null</td><td>null</td><td>null</td><td>null</td><td>null</td><td>null</td><td>null</td><td>null</td><td>null</td><td>null</td><td>null</td><td>null</td><td>null</td><td>null</td><td>null</td><td>null</td><td>null</td><td>null</td><td>null</td><td>null</td><td>null</td><td>null</td><td>null</td><td>null</td><td>null</td><td>null</td><td>null</td><td>null</td><td>null</td><td>null</td><td>null</td><td>null</td></tr><tr><td>Pollos Maria</td><td>Combo chicken</td><td>11/26/2016</td><td>null</td><td>null</td><td>null</td><td>null</td><td>null</td><td>null</td><td>6.99</td><td>3.5</td><td>null</td><td>null</td><td>20.5</td><td>22.5</td><td>0.83</td><td>3.5</td><td>2.5</td><td>4.0</td><td>3.5</td><td>3.0</td><td>2.5</td><td>2.5</td><td>4.5</td><td>0.5</td><td>3.8</td><td>Yes</td><td>Scott</td><td>Started off really great but ended with poor uniformity and wrap integrity</td><td>null</td><td>null</td><td>null</td><td>null</td><td>null</td><td>null</td><td>null</td><td>null</td><td>null</td><td>null</td><td>null</td><td>null</td><td>null</td><td>null</td><td>null</td><td>null</td><td>null</td><td>null</td><td>null</td><td>null</td><td>null</td><td>null</td><td>null</td><td>null</td><td>null</td><td>null</td><td>null</td><td>null</td><td>null</td><td>null</td><td>null</td><td>null</td><td>null</td><td>null</td><td>null</td><td>null</td><td>null</td></tr><tr><td>Pollos Maria</td><td>Carne asada</td><td>11/26/2016</td><td>null</td><td>null</td><td>null</td><td>null</td><td>null</td><td>null</td><td>6.49</td><td>3.0</td><td>null</td><td>null</td><td>17.5</td><td>17.0</td><td>0.4</td><td>3.5</td><td>4.0</td><td>3.0</td><td>4.0</td><td>3.5</td><td>4.0</td><td>3.0</td><td>4.0</td><td>4.5</td><td>3.5</td><td>No</td><td>Emily</td><td>Just way too small</td><td>null</td><td>null</td><td>null</td><td>null</td><td>null</td><td>null</td><td>null</td><td>null</td><td>null</td><td>null</td><td>null</td><td>null</td><td>null</td><td>null</td><td>null</td><td>null</td><td>null</td><td>null</td><td>null</td><td>null</td><td>null</td><td>null</td><td>null</td><td>null</td><td>null</td><td>null</td><td>null</td><td>null</td><td>null</td><td>null</td><td>null</td><td>null</td><td>null</td><td>null</td><td>null</td><td>null</td><td>null</td></tr><tr><td>El Pollo Loco</td><td>Chicken avocado</td><td>11/27/2016</td><td>Oceanside</td><td>3500 College Blvd</td><td>https://www.yelp.com/biz/el-pollo-loco-oceanside-5</td><td>3.5</td><td>4.1</td><td>null</td><td>5.99</td><td>3.5</td><td>null</td><td>null</td><td>17.5</td><td>21.0</td><td>0.61</td><td>2.0</td><td>3.0</td><td>3.8</td><td>2.5</td><td>2.5</td><td>3.0</td><td>2.5</td><td>3.0</td><td>2.6</td><td>3.2</td><td>No</td><td>Scott</td><td>null</td><td>null</td><td>null</td><td>null</td><td>null</td><td>x</td><td>null</td><td>null</td><td>null</td><td>null</td><td>x</td><td>null</td><td>null</td><td>null</td><td>null</td><td>null</td><td>null</td><td>null</td><td>null</td><td>x</td><td>null</td><td>null</td><td>x</td><td>null</td><td>null</td><td>null</td><td>null</td><td>null</td><td>null</td><td>null</td><td>null</td><td>null</td><td>null</td><td>null</td><td>null</td><td>null</td><td>null</td><td>null</td></tr><tr><td>Gloria's Taco Shop</td><td>California </td><td>12/2/2016</td><td>South Park</td><td>1233 28th St</td><td>https://www.yelp.com/biz/glorias-taco-shop-san-diego</td><td>4.0</td><td>4.3</td><td>null</td><td>5.65</td><td>3.0</td><td>null</td><td>null</td><td>19.5</td><td>22.0</td><td>0.75</td><td>4.0</td><td>1.5</td><td>2.0</td><td>3.0</td><td>4.2</td><td>4.0</td><td>3.0</td><td>2.0</td><td>4.5</td><td>2.7</td><td>No</td><td>Scott</td><td>Horchata tasted like bubble gum</td><td>null</td><td>null</td><td>null</td><td>null</td><td>null</td><td>null</td><td>null</td><td>null</td><td>null</td><td>null</td><td>null</td><td>null</td><td>null</td><td>null</td><td>null</td><td>null</td><td>null</td><td>null</td><td>null</td><td>null</td><td>null</td><td>null</td><td>null</td><td>null</td><td>null</td><td>null</td><td>null</td><td>null</td><td>null</td><td>null</td><td>null</td><td>null</td><td>null</td><td>null</td><td>null</td><td>null</td><td>null</td></tr><tr><td>Gloria's Taco Shop</td><td>Cabeza</td><td>12/2/2016</td><td>null</td><td>null</td><td>null</td><td>null</td><td>null</td><td>null</td><td>5.49</td><td>3.0</td><td>null</td><td>null</td><td>19.0</td><td>20.5</td><td>0.64</td><td>4.5</td><td>5.0</td><td>2.0</td><td>2.0</td><td>2.5</td><td>3.5</td><td>3.0</td><td>2.5</td><td>3.0</td><td>2.0</td><td>No</td><td>Richard</td><td>Meat is squishy</td><td>null</td><td>null</td><td>null</td><td>null</td><td>null</td><td>null</td><td>null</td><td>null</td><td>null</td><td>null</td><td>null</td><td>null</td><td>null</td><td>null</td><td>null</td><td>null</td><td>null</td><td>null</td><td>null</td><td>null</td><td>null</td><td>null</td><td>null</td><td>null</td><td>null</td><td>null</td><td>null</td><td>null</td><td>null</td><td>null</td><td>null</td><td>null</td><td>null</td><td>null</td><td>null</td><td>null</td><td>null</td></tr><tr><td>Mr. Ruribertos Taco Shop </td><td>California</td><td>12/10/2016</td><td>Mission Beach</td><td>3202 Mission Blvd</td><td>https://www.yelp.com/biz/ruribertos-taco-shop-san-diego</td><td>3.5</td><td>3.7</td><td>null</td><td>7.75</td><td>4.0</td><td>null</td><td>null</td><td>20.0</td><td>21.0</td><td>0.7</td><td>3.5</td><td>2.5</td><td>3.0</td><td>3.3</td><td>1.4</td><td>2.3</td><td>2.2</td><td>3.3</td><td>4.5</td><td>2.9</td><td>No</td><td>Scott</td><td>null</td><td>null</td><td>null</td><td>X</td><td>X</td><td>null</td><td>X</td><td>X</td><td>X</td><td>null</td><td>null</td><td>null</td><td>null</td><td>null</td><td>null</td><td>null</td><td>null</td><td>null</td><td>null</td><td>null</td><td>null</td><td>null</td><td>null</td><td>null</td><td>null</td><td>null</td><td>null</td><td>null</td><td>null</td><td>null</td><td>null</td><td>null</td><td>null</td><td>null</td><td>null</td><td>null</td><td>null</td><td>null</td></tr><tr><td>Mr. Ruribertos Taco Shop </td><td>Carne asada</td><td>12/10/2016</td><td>null</td><td>null</td><td>null</td><td>null</td><td>null</td><td>null</td><td>7.75</td><td>4.0</td><td>null</td><td>null</td><td>19.5</td><td>21.0</td><td>0.68</td><td>4.0</td><td>4.5</td><td>2.0</td><td>2.0</td><td>3.5</td><td>3.5</td><td>2.0</td><td>2.0</td><td>4.0</td><td>3.0</td><td>No</td><td>Brent</td><td>Carrots are bad, got better as it went on</td><td>null</td><td>null</td><td>X</td><td>X</td><td>X</td><td>null</td><td>null</td><td>null</td><td>null</td><td>null</td><td>null</td><td>null</td><td>null</td><td>null</td><td>null</td><td>null</td><td>null</td><td>null</td><td>null</td><td>null</td><td>null</td><td>null</td><td>null</td><td>null</td><td>null</td><td>null</td><td>null</td><td>null</td><td>null</td><td>null</td><td>null</td><td>null</td><td>null</td><td>null</td><td>null</td><td>null</td><td>null</td></tr><tr><td>Mister Falafel</td><td>Chicken Shawarma</td><td>12/15/2016</td><td>Clairemont</td><td>4461 Clairemont Mesa Blvd</td><td>https://www.yelp.com/biz/mister-falafel-san-diego</td><td>4.5</td><td>4.6</td><td>null</td><td>6.99</td><td>3.7</td><td>null</td><td>null</td><td>24.0</td><td>18.5</td><td>0.65</td><td>3.6</td><td>4.0</td><td>4.0</td><td>3.0</td><td>3.8</td><td>4.3</td><td>null</td><td>3.8</td><td>2.0</td><td>3.5</td><td>Yes</td><td>Scott</td><td>Richard recommended this. Like a Mediterranean burrito</td><td>x</td><td>null</td><td>null</td><td>null</td><td>null</td><td>null</td><td>null</td><td>null</td><td>null</td><td>null</td><td>null</td><td>null</td><td>null</td><td>null</td><td>null</td><td>null</td><td>null</td><td>null</td><td>null</td><td>null</td><td>null</td><td>null</td><td>null</td><td>null</td><td>null</td><td>null</td><td>null</td><td>null</td><td>null</td><td>null</td><td>null</td><td>null</td><td>null</td><td>null</td><td>null</td><td>null</td><td>null</td></tr><tr><td>Rigoberto's Taco Shop</td><td>California</td><td>1/4/2017</td><td>null</td><td>null</td><td>null</td><td>null</td><td>null</td><td>null</td><td>6.6</td><td>null</td><td>null</td><td>null</td><td>23.0</td><td>20.5</td><td>0.77</td><td>4.0</td><td>4.5</td><td>4.0</td><td>3.5</td><td>3.5</td><td>5.0</td><td>1.5</td><td>3.5</td><td>4.5</td><td>3.7</td><td>Yes</td><td>Scott</td><td>Usually better. Too much enchilada sauce this time</td><td>null</td><td>null</td><td>null</td><td>null</td><td>null</td><td>null</td><td>null</td><td>null</td><td>null</td><td>null</td><td>null</td><td>null</td><td>null</td><td>null</td><td>null</td><td>null</td><td>null</td><td>null</td><td>null</td><td>null</td><td>null</td><td>null</td><td>null</td><td>null</td><td>null</td><td>null</td><td>null</td><td>null</td><td>null</td><td>null</td><td>null</td><td>null</td><td>null</td><td>null</td><td>null</td><td>null</td><td>null</td></tr><tr><td>Rigoberto's Taco Shop</td><td>Chile Relleno</td><td>1/4/2017</td><td>null</td><td>null</td><td>null</td><td>null</td><td>null</td><td>null</td><td>6.6</td><td>null</td><td>null</td><td>null</td><td>20.5</td><td>21.5</td><td>0.75</td><td>4.0</td><td>2.0</td><td>null</td><td>4.0</td><td>null</td><td>4.6</td><td>4.2</td><td>3.75</td><td>5.0</td><td>3.9</td><td>Yes</td><td>Sage</td><td>Orange salsa very spicy</td><td>null</td><td>null</td><td>null</td><td>null</td><td>null</td><td>null</td><td>null</td><td>null</td><td>null</td><td>null</td><td>null</td><td>null</td><td>null</td><td>null</td><td>null</td><td>null</td><td>null</td><td>null</td><td>null</td><td>null</td><td>null</td><td>null</td><td>null</td><td>null</td><td>null</td><td>null</td><td>null</td><td>null</td><td>null</td><td>null</td><td>null</td><td>null</td><td>null</td><td>null</td><td>null</td><td>null</td><td>null</td></tr><tr><td>Los Tacos</td><td>Fusion</td><td>1/7/2017</td><td>null</td><td>null</td><td>null</td><td>null</td><td>null</td><td>null</td><td>8.5</td><td>3.9</td><td>null</td><td>null</td><td>21.0</td><td>21.0</td><td>0.74</td><td>3.0</td><td>4.5</td><td>4.1</td><td>3.0</td><td>3.7</td><td>4.0</td><td>4.3</td><td>4.2</td><td>5.0</td><td>3.9</td><td>Yes</td><td>Scott</td><td>Fresca and verde salsas are the best</td><td>null</td><td>null</td><td>null</td><td>null</td><td>null</td><td>null</td><td>null</td><td>null</td><td>null</td><td>null</td><td>null</td><td>null</td><td>null</td><td>null</td><td>null</td><td>null</td><td>null</td><td>null</td><td>null</td><td>null</td><td>null</td><td>null</td><td>null</td><td>null</td><td>null</td><td>null</td><td>null</td><td>null</td><td>null</td><td>null</td><td>null</td><td>null</td><td>null</td><td>null</td><td>null</td><td>null</td><td>null</td></tr><tr><td>Los Tacos</td><td>Local</td><td>1/7/2017</td><td>null</td><td>null</td><td>null</td><td>null</td><td>null</td><td>null</td><td>7.9</td><td>4.0</td><td>null</td><td>null</td><td>20.5</td><td>21.0</td><td>0.72</td><td>3.5</td><td>4.0</td><td>4.0</td><td>3.0</td><td>4.0</td><td>4.5</td><td>4.0</td><td>3.8</td><td>4.8</td><td>3.8</td><td>Yes</td><td>Emily</td><td>Pastor is dry</td><td>null</td><td>null</td><td>null</td><td>null</td><td>null</td><td>null</td><td>null</td><td>null</td><td>null</td><td>null</td><td>null</td><td>null</td><td>null</td><td>null</td><td>null</td><td>null</td><td>null</td><td>null</td><td>null</td><td>null</td><td>null</td><td>null</td><td>null</td><td>null</td><td>null</td><td>null</td><td>null</td><td>null</td><td>null</td><td>null</td><td>null</td><td>null</td><td>null</td><td>null</td><td>null</td><td>null</td><td>null</td></tr><tr><td>Taco Villa</td><td>Chicken</td><td>1/10/2017</td><td>null</td><td>null</td><td>null</td><td>null</td><td>null</td><td>null</td><td>4.99</td><td>3.5</td><td>null</td><td>null</td><td>18.5</td><td>22.5</td><td>0.75</td><td>2.5</td><td>4.5</td><td>3.0</td><td>2.5</td><td>3.0</td><td>3.0</td><td>2.0</td><td>2.0</td><td>4.0</td><td>3.0</td><td>null</td><td>Scott</td><td>Somehow way better when it was leftover</td><td>null</td><td>null</td><td>null</td><td>null</td><td>null</td><td>null</td><td>null</td><td>null</td><td>null</td><td>null</td><td>null</td><td>null</td><td>null</td><td>null</td><td>null</td><td>null</td><td>null</td><td>null</td><td>null</td><td>null</td><td>null</td><td>null</td><td>null</td><td>null</td><td>null</td><td>null</td><td>null</td><td>null</td><td>null</td><td>null</td><td>null</td><td>null</td><td>null</td><td>null</td><td>null</td><td>null</td><td>null</td></tr><tr><td>Lupe's Taco Shop</td><td>Hot cheetos</td><td>1/12/2017</td><td>Linda Vista</td><td>7621 Linda Vista Rd</td><td>https://www.yelp.com/biz/lupes-taco-shop-san-diego</td><td>3.5</td><td>4.5</td><td>x</td><td>7.29</td><td>3.5</td><td>null</td><td>null</td><td>19.0</td><td>21.5</td><td>0.7</td><td>3.0</td><td>2.0</td><td>3.5</td><td>3.5</td><td>3.0</td><td>2.5</td><td>3.7</td><td>3.2</td><td>4.2</td><td>3.7</td><td>null</td><td>Scott</td><td>Cheese is cold, but guac, salsa, and chips are good</td><td>null</td><td>null</td><td>null</td><td>null</td><td>null</td><td>null</td><td>null</td><td>null</td><td>null</td><td>null</td><td>null</td><td>null</td><td>null</td><td>null</td><td>null</td><td>null</td><td>null</td><td>null</td><td>null</td><td>null</td><td>null</td><td>null</td><td>null</td><td>null</td><td>null</td><td>null</td><td>null</td><td>null</td><td>null</td><td>null</td><td>null</td><td>null</td><td>null</td><td>null</td><td>null</td><td>null</td><td>null</td></tr><tr><td>Lupe's Taco Shop</td><td>Surfin California</td><td>1/12/2017</td><td>null</td><td>null</td><td>null</td><td>null</td><td>null</td><td>null</td><td>7.89</td><td>3.0</td><td>null</td><td>null</td><td>18.5</td><td>25.5</td><td>0.96</td><td>4.0</td><td>5.0</td><td>4.5</td><td>4.0</td><td>4.5</td><td>3.5</td><td>3.0</td><td>4.5</td><td>2.5</td><td>4.25</td><td>null</td><td>Richard</td><td>quality ingredients</td><td>null</td><td>null</td><td>null</td><td>null</td><td>null</td><td>null</td><td>null</td><td>null</td><td>null</td><td>null</td><td>null</td><td>null</td><td>null</td><td>null</td><td>null</td><td>null</td><td>null</td><td>null</td><td>null</td><td>null</td><td>null</td><td>null</td><td>null</td><td>null</td><td>null</td><td>null</td><td>null</td><td>null</td><td>null</td><td>null</td><td>null</td><td>null</td><td>null</td><td>null</td><td>null</td><td>null</td><td>null</td></tr><tr><td>Lupe's Taco Shop</td><td>California</td><td>1/12/2017</td><td>null</td><td>null</td><td>null</td><td>null</td><td>null</td><td>null</td><td>7.49</td><td>3.7</td><td>null</td><td>null</td><td>20.0</td><td>26.0</td><td>1.08</td><td>4.0</td><td>3.5</td><td>3.9</td><td>4.0</td><td>3.7</td><td>2.0</td><td>3.5</td><td>4.0</td><td>4.0</td><td>3.9</td><td>null</td><td>Tom</td><td>tons of french fries</td><td>null</td><td>null</td><td>null</td><td>null</td><td>null</td><td>null</td><td>null</td><td>null</td><td>null</td><td>null</td><td>null</td><td>null</td><td>null</td><td>null</td><td>null</td><td>null</td><td>null</td><td>null</td><td>null</td><td>null</td><td>null</td><td>null</td><td>null</td><td>null</td><td>null</td><td>null</td><td>null</td><td>null</td><td>null</td><td>null</td><td>null</td><td>null</td><td>null</td><td>null</td><td>null</td><td>null</td><td>null</td></tr><tr><td>Lupe's Taco Shop</td><td>Spicy a la Diabla</td><td>1/12/2017</td><td>null</td><td>null</td><td>null</td><td>null</td><td>null</td><td>null</td><td>7.49</td><td>5.0</td><td>null</td><td>null</td><td>18.0</td><td>22.0</td><td>0.69</td><td>4.0</td><td>4.0</td><td>4.0</td><td>2.0</td><td>3.0</td><td>0.0</td><td>null</td><td>1.0</td><td>2.0</td><td>2.0</td><td>null</td><td>Rob L</td><td>way too spicy</td><td>null</td><td>null</td><td>null</td><td>null</td><td>null</td><td>null</td><td>null</td><td>null</td><td>null</td><td>null</td><td>null</td><td>null</td><td>null</td><td>null</td><td>null</td><td>null</td><td>null</td><td>null</td><td>null</td><td>null</td><td>null</td><td>null</td><td>null</td><td>null</td><td>null</td><td>null</td><td>null</td><td>null</td><td>null</td><td>null</td><td>null</td><td>null</td><td>null</td><td>null</td><td>null</td><td>null</td><td>null</td></tr><tr><td>Los Tacos</td><td>Local</td><td>1/15/2017</td><td>null</td><td>null</td><td>null</td><td>null</td><td>null</td><td>null</td><td>7.9</td><td>3.5</td><td>null</td><td>null</td><td>21.5</td><td>23.5</td><td>0.94</td><td>4.5</td><td>5.0</td><td>4.0</td><td>3.5</td><td>4.0</td><td>2.8</td><td>4.0</td><td>4.5</td><td>3.7</td><td>4.2</td><td>null</td><td>Scott</td><td>null</td><td>null</td><td>null</td><td>null</td><td>null</td><td>null</td><td>null</td><td>null</td><td>null</td><td>null</td><td>null</td><td>null</td><td>null</td><td>null</td><td>null</td><td>null</td><td>null</td><td>null</td><td>null</td><td>null</td><td>null</td><td>null</td><td>null</td><td>null</td><td>null</td><td>null</td><td>null</td><td>null</td><td>null</td><td>null</td><td>null</td><td>null</td><td>null</td><td>null</td><td>null</td><td>null</td><td>null</td><td>null</td></tr><tr><td>Los Tacos</td><td>Local</td><td>1/15/2017</td><td>null</td><td>null</td><td>null</td><td>null</td><td>null</td><td>null</td><td>7.9</td><td>2.0</td><td>null</td><td>null</td><td>19.5</td><td>24.0</td><td>0.89</td><td>4.2</td><td>4.0</td><td>4.2</td><td>3.8</td><td>4.0</td><td>3.0</td><td>3.8</td><td>4.5</td><td>5.0</td><td>4.2</td><td>null</td><td>Emily</td><td>null</td><td>null</td><td>null</td><td>null</td><td>null</td><td>null</td><td>null</td><td>null</td><td>null</td><td>null</td><td>null</td><td>null</td><td>null</td><td>null</td><td>null</td><td>null</td><td>null</td><td>null</td><td>null</td><td>null</td><td>null</td><td>null</td><td>null</td><td>null</td><td>null</td><td>null</td><td>null</td><td>null</td><td>null</td><td>null</td><td>null</td><td>null</td><td>null</td><td>null</td><td>null</td><td>null</td><td>null</td><td>null</td></tr><tr><td>Taco Villa</td><td>Pollo asado</td><td>1/20/2017</td><td>null</td><td>null</td><td>null</td><td>null</td><td>null</td><td>null</td><td>5.99</td><td>4.5</td><td>null</td><td>null</td><td>18.5</td><td>21.0</td><td>0.65</td><td>2.0</td><td>4.0</td><td>2.5</td><td>3.5</td><td>4.5</td><td>3.0</td><td>2.0</td><td>1.5</td><td>3.4</td><td>3.1</td><td>null</td><td>Scott</td><td>null</td><td>null</td><td>null</td><td>null</td><td>null</td><td>null</td><td>null</td><td>null</td><td>null</td><td>null</td><td>null</td><td>null</td><td>null</td><td>null</td><td>null</td><td>null</td><td>null</td><td>null</td><td>null</td><td>null</td><td>null</td><td>null</td><td>null</td><td>null</td><td>null</td><td>null</td><td>null</td><td>null</td><td>null</td><td>null</td><td>null</td><td>null</td><td>null</td><td>null</td><td>null</td><td>null</td><td>null</td><td>null</td></tr><tr><td>Taco Villa</td><td>Al pastor</td><td>1/20/2017</td><td>null</td><td>null</td><td>null</td><td>null</td><td>null</td><td>null</td><td>6.99</td><td>3.5</td><td>null</td><td>null</td><td>18.5</td><td>20.5</td><td>0.62</td><td>2.5</td><td>4.5</td><td>4.0</td><td>4.0</td><td>2.0</td><td>3.0</td><td>3.0</td><td>3.0</td><td>4.0</td><td>3.0</td><td>null</td><td>Ricardo </td><td>null</td><td>null</td><td>null</td><td>null</td><td>null</td><td>null</td><td>null</td><td>null</td><td>null</td><td>null</td><td>null</td><td>null</td><td>null</td><td>null</td><td>null</td><td>null</td><td>null</td><td>null</td><td>null</td><td>null</td><td>null</td><td>null</td><td>null</td><td>null</td><td>null</td><td>null</td><td>null</td><td>null</td><td>null</td><td>null</td><td>null</td><td>null</td><td>null</td><td>null</td><td>null</td><td>null</td><td>null</td><td>null</td></tr><tr><td>Rigoberto's Taco Shop La Jolla</td><td>California</td><td>2/15/2017</td><td>null</td><td>null</td><td>null</td><td>null</td><td>null</td><td>null</td><td>6.85</td><td>3.5</td><td>null</td><td>null</td><td>null</td><td>null</td><td>null</td><td>3.0</td><td>2.0</td><td>3.5</td><td>3.5</td><td>4.0</td><td>3.0</td><td>3.5</td><td>3.5</td><td>4.5</td><td>3.6</td><td>null</td><td>Scott</td><td>null</td><td>null</td><td>null</td><td>null</td><td>null</td><td>null</td><td>null</td><td>null</td><td>null</td><td>null</td><td>null</td><td>null</td><td>null</td><td>null</td><td>null</td><td>null</td><td>null</td><td>null</td><td>null</td><td>null</td><td>null</td><td>null</td><td>null</td><td>null</td><td>null</td><td>null</td><td>null</td><td>null</td><td>null</td><td>null</td><td>null</td><td>null</td><td>null</td><td>null</td><td>null</td><td>null</td><td>null</td><td>null</td></tr><tr><td>Rigoberto's Taco Shop La Jolla</td><td>California</td><td>2/15/2017</td><td>null</td><td>null</td><td>null</td><td>null</td><td>null</td><td>null</td><td>6.85</td><td>4.0</td><td>null</td><td>null</td><td>null</td><td>null</td><td>null</td><td>5.0</td><td>5.0</td><td>4.5</td><td>4.0</td><td>5.0</td><td>4.0</td><td>4.0</td><td>5.0</td><td>5.0</td><td>4.3</td><td>null</td><td>Nihal</td><td>null</td><td>null</td><td>null</td><td>null</td><td>null</td><td>null</td><td>null</td><td>null</td><td>null</td><td>null</td><td>null</td><td>null</td><td>null</td><td>null</td><td>null</td><td>null</td><td>null</td><td>null</td><td>null</td><td>null</td><td>null</td><td>null</td><td>null</td><td>null</td><td>null</td><td>null</td><td>null</td><td>null</td><td>null</td><td>null</td><td>null</td><td>null</td><td>null</td><td>null</td><td>null</td><td>null</td><td>null</td><td>null</td></tr><tr><td>Taco Villa</td><td>California</td><td>2/21/2017</td><td>null</td><td>null</td><td>null</td><td>null</td><td>null</td><td>null</td><td>null</td><td>4.3</td><td>null</td><td>null</td><td>18.5</td><td>21.5</td><td>0.68</td><td>3.0</td><td>3.0</td><td>3.5</td><td>4.0</td><td>3.0</td><td>1.5</td><td>3.8</td><td>4.0</td><td>5.0</td><td>4.0</td><td>null</td><td>Scott</td><td>Salsa much better this time than before</td><td>null</td><td>null</td><td>null</td><td>null</td><td>null</td><td>null</td><td>null</td><td>null</td><td>null</td><td>null</td><td>null</td><td>null</td><td>null</td><td>null</td><td>null</td><td>null</td><td>null</td><td>null</td><td>null</td><td>null</td><td>null</td><td>null</td><td>null</td><td>null</td><td>null</td><td>null</td><td>null</td><td>null</td><td>null</td><td>null</td><td>null</td><td>null</td><td>null</td><td>null</td><td>null</td><td>null</td><td>null</td></tr><tr><td>Cotixan</td><td>California</td><td>2/23/2017</td><td>Clairemont</td><td>4370 Genessee Ave</td><td>https://www.yelp.com/biz/cotixan-mexican-and-seafood-san-diego</td><td>4.0</td><td>4.0</td><td>null</td><td>7.19</td><td>4.5</td><td>null</td><td>null</td><td>20.0</td><td>24.0</td><td>0.92</td><td>4.0</td><td>2.0</td><td>3.0</td><td>3.8</td><td>3.5</td><td>2.0</td><td>4.0</td><td>4.0</td><td>4.0</td><td>3.5</td><td>null</td><td>Scott</td><td>null</td><td>null</td><td>null</td><td>null</td><td>null</td><td>null</td><td>null</td><td>null</td><td>null</td><td>null</td><td>null</td><td>null</td><td>null</td><td>null</td><td>null</td><td>null</td><td>null</td><td>null</td><td>null</td><td>null</td><td>null</td><td>null</td><td>null</td><td>null</td><td>null</td><td>null</td><td>null</td><td>null</td><td>null</td><td>null</td><td>null</td><td>null</td><td>null</td><td>null</td><td>null</td><td>null</td><td>null</td><td>null</td></tr><tr><td>Los Tacos</td><td>Local</td><td>2/25/2017</td><td>null</td><td>null</td><td>null</td><td>null</td><td>null</td><td>null</td><td>7.9</td><td>2.5</td><td>null</td><td>null</td><td>22.0</td><td>22.0</td><td>0.85</td><td>3.0</td><td>4.5</td><td>4.3</td><td>4.0</td><td>3.0</td><td>3.1</td><td>3.9</td><td>4.2</td><td>3.0</td><td>4.1</td><td>null</td><td>Scott</td><td>null</td><td>null</td><td>null</td><td>null</td><td>null</td><td>null</td><td>null</td><td>null</td><td>null</td><td>null</td><td>null</td><td>null</td><td>null</td><td>null</td><td>null</td><td>null</td><td>null</td><td>null</td><td>null</td><td>null</td><td>null</td><td>null</td><td>null</td><td>null</td><td>null</td><td>null</td><td>null</td><td>null</td><td>null</td><td>null</td><td>null</td><td>null</td><td>null</td><td>null</td><td>null</td><td>null</td><td>null</td><td>null</td></tr><tr><td>Los Tacos</td><td>Local</td><td>2/25/2017</td><td>null</td><td>null</td><td>null</td><td>null</td><td>null</td><td>null</td><td>7.9</td><td>3.0</td><td>null</td><td>null</td><td>21.0</td><td>24.0</td><td>0.96</td><td>3.0</td><td>3.5</td><td>4.5</td><td>4.0</td><td>4.0</td><td>4.0</td><td>4.0</td><td>4.0</td><td>3.5</td><td>4.0</td><td>null</td><td>Emily</td><td>null</td><td>null</td><td>null</td><td>null</td><td>null</td><td>null</td><td>null</td><td>null</td><td>null</td><td>null</td><td>null</td><td>null</td><td>null</td><td>null</td><td>null</td><td>null</td><td>null</td><td>null</td><td>null</td><td>null</td><td>null</td><td>null</td><td>null</td><td>null</td><td>null</td><td>null</td><td>null</td><td>null</td><td>null</td><td>null</td><td>null</td><td>null</td><td>null</td><td>null</td><td>null</td><td>null</td><td>null</td><td>null</td></tr><tr><td>Los Tacos</td><td>Local</td><td>2/25/2017</td><td>null</td><td>null</td><td>null</td><td>null</td><td>null</td><td>null</td><td>7.9</td><td>3.0</td><td>null</td><td>null</td><td>null</td><td>null</td><td>null</td><td>5.0</td><td>5.0</td><td>5.0</td><td>4.0</td><td>5.0</td><td>4.0</td><td>4.0</td><td>5.0</td><td>4.0</td><td>5.0</td><td>null</td><td>Audrey L</td><td>null</td><td>x</td><td>null</td><td>null</td><td>null</td><td>null</td><td>null</td><td>null</td><td>null</td><td>null</td><td>null</td><td>null</td><td>null</td><td>null</td><td>null</td><td>null</td><td>null</td><td>null</td><td>null</td><td>null</td><td>null</td><td>null</td><td>null</td><td>null</td><td>null</td><td>null</td><td>null</td><td>null</td><td>null</td><td>null</td><td>null</td><td>null</td><td>null</td><td>null</td><td>null</td><td>null</td><td>null</td><td>null</td></tr><tr><td>Los Tacos</td><td>Local</td><td>2/25/2017</td><td>null</td><td>null</td><td>null</td><td>null</td><td>null</td><td>null</td><td>7.9</td><td>3.0</td><td>null</td><td>null</td><td>null</td><td>null</td><td>null</td><td>3.5</td><td>4.0</td><td>4.0</td><td>4.0</td><td>4.5</td><td>3.5</td><td>4.0</td><td>3.5</td><td>4.0</td><td>4.0</td><td>null</td><td>Spencer</td><td>null</td><td>null</td><td>null</td><td>null</td><td>null</td><td>null</td><td>null</td><td>null</td><td>null</td><td>null</td><td>null</td><td>null</td><td>null</td><td>null</td><td>null</td><td>null</td><td>null</td><td>null</td><td>null</td><td>null</td><td>null</td><td>null</td><td>null</td><td>null</td><td>null</td><td>null</td><td>null</td><td>null</td><td>null</td><td>null</td><td>null</td><td>null</td><td>null</td><td>null</td><td>null</td><td>null</td><td>null</td><td>null</td></tr><tr><td>Lourdes</td><td>Carnitas</td><td>3/3/2017</td><td>Encinitas</td><td>2113 San Elijo Ave</td><td>https://www.yelp.com/biz/lourdes-encinitas-2</td><td>4.0</td><td>4.7</td><td>null</td><td>7.35</td><td>3.5</td><td>415</td><td>0.6916666667</td><td>21.0</td><td>19.0</td><td>0.6</td><td>3.5</td><td>3.0</td><td>3.5</td><td>3.0</td><td>4.5</td><td>4.5</td><td>4.0</td><td>4.0</td><td>5.0</td><td>3.75</td><td>null</td><td>Emily</td><td>null</td><td>null</td><td>null</td><td>null</td><td>null</td><td>null</td><td>null</td><td>null</td><td>null</td><td>null</td><td>null</td><td>null</td><td>null</td><td>null</td><td>null</td><td>null</td><td>null</td><td>null</td><td>null</td><td>null</td><td>null</td><td>null</td><td>null</td><td>null</td><td>null</td><td>null</td><td>null</td><td>null</td><td>null</td><td>null</td><td>null</td><td>null</td><td>null</td><td>null</td><td>null</td><td>null</td><td>null</td><td>null</td></tr><tr><td>Lourdes</td><td>California</td><td>3/3/2017</td><td>null</td><td>null</td><td>null</td><td>null</td><td>null</td><td>null</td><td>6.35</td><td>3.5</td><td>425</td><td>0.7083333333</td><td>19.0</td><td>20.0</td><td>0.6</td><td>4.0</td><td>3.0</td><td>3.0</td><td>3.0</td><td>2.5</td><td>3.0</td><td>3.5</td><td>2.8</td><td>5.0</td><td>3.1</td><td>null</td><td>Scott</td><td>null</td><td>null</td><td>null</td><td>null</td><td>null</td><td>null</td><td>null</td><td>null</td><td>null</td><td>null</td><td>null</td><td>null</td><td>null</td><td>null</td><td>null</td><td>null</td><td>null</td><td>null</td><td>null</td><td>null</td><td>null</td><td>null</td><td>null</td><td>null</td><td>null</td><td>null</td><td>null</td><td>null</td><td>null</td><td>null</td><td>null</td><td>null</td><td>null</td><td>null</td><td>null</td><td>null</td><td>null</td><td>null</td></tr><tr><td>Vallarta Express</td><td>California</td><td>3/16/2017</td><td>null</td><td>null</td><td>null</td><td>null</td><td>null</td><td>null</td><td>7.5</td><td>4.0</td><td>null</td><td>null</td><td>null</td><td>null</td><td>null</td><td>3.0</td><td>null</td><td>4.0</td><td>4.0</td><td>3.0</td><td>5.0</td><td>3.0</td><td>4.0</td><td>5.0</td><td>4.1</td><td>null</td><td>Erik</td><td>null</td><td>null</td><td>null</td><td>null</td><td>null</td><td>null</td><td>null</td><td>null</td><td>null</td><td>null</td><td>null</td><td>null</td><td>null</td><td>null</td><td>null</td><td>null</td><td>null</td><td>null</td><td>null</td><td>null</td><td>null</td><td>null</td><td>null</td><td>null</td><td>null</td><td>null</td><td>null</td><td>null</td><td>null</td><td>null</td><td>null</td><td>null</td><td>null</td><td>null</td><td>null</td><td>null</td><td>null</td><td>null</td></tr><tr><td>California burritos</td><td>California everything</td><td>4/7/2017</td><td>null</td><td>null</td><td>null</td><td>null</td><td>null</td><td>null</td><td>6.5</td><td>4.5</td><td>520</td><td>0.6265060241</td><td>22.5</td><td>21.5</td><td>0.83</td><td>4.5</td><td>3.0</td><td>3.5</td><td>4.5</td><td>3.5</td><td>4.0</td><td>3.5</td><td>4.3</td><td>4.3</td><td>4.1</td><td>null</td><td>Scott</td><td>null</td><td>null</td><td>null</td><td>null</td><td>null</td><td>null</td><td>null</td><td>null</td><td>null</td><td>null</td><td>null</td><td>null</td><td>null</td><td>null</td><td>null</td><td>null</td><td>null</td><td>null</td><td>null</td><td>null</td><td>null</td><td>null</td><td>null</td><td>null</td><td>null</td><td>null</td><td>null</td><td>null</td><td>null</td><td>null</td><td>null</td><td>null</td><td>null</td><td>null</td><td>null</td><td>null</td><td>null</td><td>null</td></tr><tr><td>California burritos</td><td>California everything</td><td>4/7/2017</td><td>null</td><td>null</td><td>null</td><td>null</td><td>null</td><td>null</td><td>6.5</td><td>4.0</td><td>476</td><td>0.56</td><td>23.0</td><td>21.5</td><td>0.85</td><td>4.0</td><td>3.5</td><td>4.5</td><td>4.0</td><td>3.5</td><td>4.5</td><td>4.0</td><td>4.0</td><td>4.5</td><td>4.0</td><td>null</td><td>Ricardo</td><td>null</td><td>null</td><td>null</td><td>null</td><td>null</td><td>null</td><td>null</td><td>null</td><td>null</td><td>null</td><td>null</td><td>null</td><td>null</td><td>null</td><td>null</td><td>null</td><td>null</td><td>null</td><td>null</td><td>null</td><td>null</td><td>null</td><td>null</td><td>null</td><td>null</td><td>null</td><td>null</td><td>null</td><td>null</td><td>null</td><td>null</td><td>null</td><td>null</td><td>null</td><td>null</td><td>null</td><td>null</td><td>null</td></tr><tr><td>California burritos</td><td>California everything mini</td><td>4/7/2017</td><td>null</td><td>null</td><td>null</td><td>null</td><td>null</td><td>null</td><td>4.75</td><td>4.0</td><td>null</td><td>null</td><td>18.0</td><td>17.0</td><td>0.41</td><td>4.0</td><td>4.0</td><td>4.5</td><td>4.3</td><td>4.5</td><td>4.5</td><td>4.8</td><td>4.8</td><td>5.0</td><td>4.5</td><td>null</td><td>Luis</td><td>null</td><td>null</td><td>null</td><td>null</td><td>null</td><td>null</td><td>null</td><td>null</td><td>null</td><td>null</td><td>null</td><td>null</td><td>null</td><td>null</td><td>null</td><td>null</td><td>null</td><td>null</td><td>null</td><td>null</td><td>null</td><td>null</td><td>null</td><td>null</td><td>null</td><td>null</td><td>null</td><td>null</td><td>null</td><td>null</td><td>null</td><td>null</td><td>null</td><td>null</td><td>null</td><td>null</td><td>null</td><td>null</td></tr><tr><td>California burritos</td><td>Surf & Turf</td><td>4/7/2017</td><td>null</td><td>null</td><td>null</td><td>null</td><td>null</td><td>null</td><td>6.75</td><td>4.0</td><td>560</td><td>0.5656565657</td><td>24.5</td><td>22.5</td><td>0.99</td><td>4.0</td><td>4.0</td><td>4.0</td><td>3.5</td><td>3.5</td><td>3.0</td><td>2.0</td><td>3.5</td><td>3.5</td><td>3.5</td><td>null</td><td>Hannah</td><td>null</td><td>null</td><td>null</td><td>null</td><td>null</td><td>null</td><td>null</td><td>null</td><td>null</td><td>null</td><td>null</td><td>null</td><td>null</td><td>null</td><td>null</td><td>null</td><td>null</td><td>null</td><td>null</td><td>null</td><td>null</td><td>null</td><td>null</td><td>null</td><td>null</td><td>null</td><td>null</td><td>null</td><td>null</td><td>null</td><td>null</td><td>null</td><td>null</td><td>null</td><td>null</td><td>null</td><td>null</td><td>null</td></tr><tr><td>California burritos</td><td>California everything</td><td>4/7/2017</td><td>null</td><td>null</td><td>null</td><td>null</td><td>null</td><td>null</td><td>6.5</td><td>4.0</td><td>null</td><td>null</td><td>21.3</td><td>23.8</td><td>0.96</td><td>3.0</td><td>3.0</td><td>4.0</td><td>4.0</td><td>4.0</td><td>4.0</td><td>3.0</td><td>4.0</td><td>4.0</td><td>4.0</td><td>null</td><td>Clark</td><td>null</td><td>null</td><td>null</td><td>null</td><td>null</td><td>null</td><td>null</td><td>null</td><td>null</td><td>null</td><td>null</td><td>null</td><td>null</td><td>null</td><td>null</td><td>null</td><td>null</td><td>null</td><td>null</td><td>null</td><td>null</td><td>null</td><td>null</td><td>null</td><td>null</td><td>null</td><td>null</td><td>null</td><td>null</td><td>null</td><td>null</td><td>null</td><td>null</td><td>null</td><td>null</td><td>null</td><td>null</td><td>null</td></tr><tr><td>California burritos</td><td>Surf & Turf</td><td>4/7/2017</td><td>null</td><td>null</td><td>null</td><td>null</td><td>null</td><td>null</td><td>6.75</td><td>4.0</td><td>null</td><td>null</td><td>null</td><td>null</td><td>null</td><td>3.0</td><td>5.0</td><td>5.0</td><td>null</td><td>null</td><td>5.0</td><td>null</td><td>4.0</td><td>5.0</td><td>4.5</td><td>null</td><td>Justin C</td><td>null</td><td>null</td><td>null</td><td>null</td><td>null</td><td>null</td><td>null</td><td>null</td><td>null</td><td>null</td><td>null</td><td>null</td><td>null</td><td>null</td><td>null</td><td>null</td><td>null</td><td>null</td><td>null</td><td>null</td><td>null</td><td>null</td><td>null</td><td>null</td><td>null</td><td>null</td><td>null</td><td>null</td><td>null</td><td>null</td><td>null</td><td>null</td><td>null</td><td>null</td><td>null</td><td>null</td><td>null</td><td>null</td></tr><tr><td>Los palmitos</td><td>California</td><td>4/23/2017</td><td>Clairemont</td><td>5145 Clairemont Mesa Blvd</td><td>https://www.yelp.com/biz/los-palmitos-taco-shop-san-diego</td><td>4.0</td><td>4.1</td><td>x</td><td>7.1</td><td>4.0</td><td>null</td><td>null</td><td>22.5</td><td>23.0</td><td>0.95</td><td>4.5</td><td>5.0</td><td>3.8</td><td>3.8</td><td>4.0</td><td>4.0</td><td>3.9</td><td>4.3</td><td>5.0</td><td>4.3</td><td>null</td><td>Scott</td><td>red-orange salsa has a slight fruity flavor that's really good</td><td>null</td><td>null</td><td>X</td><td>null</td><td>null</td><td>X</td><td>X</td><td>X</td><td>null</td><td>null</td><td>null</td><td>null</td><td>null</td><td>null</td><td>null</td><td>null</td><td>null</td><td>null</td><td>null</td><td>null</td><td>null</td><td>null</td><td>null</td><td>null</td><td>null</td><td>null</td><td>null</td><td>null</td><td>null</td><td>null</td><td>null</td><td>null</td><td>null</td><td>null</td><td>null</td><td>null</td><td>null</td></tr><tr><td>Los palmitos</td><td>Surf & Turf</td><td>4/23/2017</td><td>null</td><td>null</td><td>null</td><td>null</td><td>null</td><td>null</td><td>8.25</td><td>3.5</td><td>null</td><td>null</td><td>20.0</td><td>24.0</td><td>0.92</td><td>3.5</td><td>4.0</td><td>4.0</td><td>3.0</td><td>3.5</td><td>4.5</td><td>3.5</td><td>3.5</td><td>5.0</td><td>3.6</td><td>null</td><td>Emily</td><td>Rice was plain. Also don't like rice in burrito</td><td>null</td><td>null</td><td>X</td><td>null</td><td>X</td><td>null</td><td>null</td><td>null</td><td>null</td><td>null</td><td>X</td><td>null</td><td>X</td><td>null</td><td>null</td><td>null</td><td>null</td><td>null</td><td>null</td><td>X</td><td>null</td><td>null</td><td>null</td><td>null</td><td>null</td><td>null</td><td>null</td><td>null</td><td>null</td><td>null</td><td>null</td><td>null</td><td>null</td><td>null</td><td>null</td><td>null</td><td>null</td></tr><tr><td>Taco Villa</td><td>Carnitas</td><td>4/25/2017</td><td>null</td><td>null</td><td>null</td><td>null</td><td>null</td><td>null</td><td>5.99</td><td>4.0</td><td>450</td><td>0.703125</td><td>20.0</td><td>20.0</td><td>0.64</td><td>2.0</td><td>4.5</td><td>4.5</td><td>3.0</td><td>3.8</td><td>4.4</td><td>2.5</td><td>3.5</td><td>3.0</td><td>4.0</td><td>null</td><td>Scott</td><td>null</td><td>null</td><td>null</td><td>null</td><td>x</td><td>x</td><td>null</td><td>null</td><td>null</td><td>x</td><td>null</td><td>null</td><td>null</td><td>null</td><td>null</td><td>null</td><td>null</td><td>null</td><td>null</td><td>null</td><td>null</td><td>null</td><td>null</td><td>null</td><td>null</td><td>null</td><td>null</td><td>null</td><td>null</td><td>null</td><td>null</td><td>null</td><td>null</td><td>null</td><td>null</td><td>null</td><td>null</td><td>null</td></tr><tr><td>Taco Villa</td><td>Carnitas</td><td>4/25/2017</td><td>null</td><td>null</td><td>null</td><td>null</td><td>null</td><td>null</td><td>5.99</td><td>4.0</td><td>null</td><td>null</td><td>18.5</td><td>20.0</td><td>0.59</td><td>4.0</td><td>4.0</td><td>4.0</td><td>3.0</td><td>4.0</td><td>3.5</td><td>2.5</td><td>3.5</td><td>5.0</td><td>3.5</td><td>null</td><td>Richard</td><td>null</td><td>null</td><td>null</td><td>null</td><td>x</td><td>x</td><td>null</td><td>null</td><td>null</td><td>x</td><td>null</td><td>null</td><td>null</td><td>null</td><td>null</td><td>null</td><td>null</td><td>null</td><td>null</td><td>null</td><td>null</td><td>null</td><td>null</td><td>null</td><td>null</td><td>null</td><td>null</td><td>null</td><td>null</td><td>null</td><td>null</td><td>null</td><td>null</td><td>null</td><td>null</td><td>null</td><td>null</td><td>null</td></tr><tr><td>Lupe's Taco Shop</td><td>TGunz</td><td>4/25/2017</td><td>null</td><td>null</td><td>null</td><td>null</td><td>null</td><td>null</td><td>10.0</td><td>3.0</td><td>920</td><td>0.5974025974</td><td>23.0</td><td>29.0</td><td>1.54</td><td>3.0</td><td>4.0</td><td>3.2</td><td>3.5</td><td>1.8</td><td>1.8</td><td>3.5</td><td>3.7</td><td>3.5</td><td>3.9</td><td>null</td><td>Scott</td><td>null</td><td>null</td><td>null</td><td>null</td><td>null</td><td>null</td><td>null</td><td>null</td><td>null</td><td>null</td><td>null</td><td>null</td><td>null</td><td>null</td><td>null</td><td>null</td><td>null</td><td>null</td><td>null</td><td>null</td><td>null</td><td>null</td><td>null</td><td>null</td><td>null</td><td>null</td><td>null</td><td>null</td><td>null</td><td>null</td><td>null</td><td>null</td><td>null</td><td>null</td><td>null</td><td>null</td><td>null</td><td>null</td></tr><tr><td>Lupe's Taco Shop</td><td>TGunz</td><td>4/25/2017</td><td>null</td><td>null</td><td>null</td><td>null</td><td>null</td><td>null</td><td>10.0</td><td>4.2</td><td>925</td><td>0.6006493506</td><td>23.0</td><td>29.0</td><td>1.54</td><td>3.0</td><td>4.5</td><td>3.5</td><td>3.5</td><td>2.5</td><td>2.0</td><td>3.0</td><td>3.5</td><td>4.5</td><td>3.5</td><td>null</td><td>Ricardo</td><td>null</td><td>null</td><td>null</td><td>null</td><td>null</td><td>null</td><td>null</td><td>null</td><td>null</td><td>null</td><td>null</td><td>null</td><td>null</td><td>null</td><td>null</td><td>null</td><td>null</td><td>null</td><td>null</td><td>null</td><td>null</td><td>null</td><td>null</td><td>null</td><td>null</td><td>null</td><td>null</td><td>null</td><td>null</td><td>null</td><td>null</td><td>null</td><td>null</td><td>null</td><td>null</td><td>null</td><td>null</td><td>null</td></tr><tr><td>Filiberto's</td><td>Adobada</td><td>5/2/2017</td><td>Encinitas</td><td>476 S Coast Hwy 101</td><td>https://www.yelp.com/biz/filibertos-encinitas-2</td><td>3.0</td><td>3.8</td><td>null</td><td>6.25</td><td>4.4</td><td>null</td><td>null</td><td>null</td><td>null</td><td>null</td><td>4.2</td><td>4.5</td><td>4.0</td><td>3.0</td><td>5.0</td><td>3.8</td><td>2.5</td><td>3.0</td><td>5.0</td><td>3.7</td><td>null</td><td>Scott</td><td>null</td><td>null</td><td>null</td><td>null</td><td>x</td><td>x</td><td>null</td><td>null</td><td>null</td><td>x</td><td>null</td><td>null</td><td>null</td><td>null</td><td>null</td><td>null</td><td>null</td><td>null</td><td>null</td><td>null</td><td>null</td><td>null</td><td>null</td><td>null</td><td>null</td><td>null</td><td>null</td><td>null</td><td>null</td><td>null</td><td>null</td><td>null</td><td>null</td><td>null</td><td>null</td><td>null</td><td>null</td><td>null</td></tr><tr><td>Filiberto's</td><td>California</td><td>5/2/2017</td><td>null</td><td>null</td><td>null</td><td>null</td><td>null</td><td>null</td><td>6.25</td><td>3.0</td><td>null</td><td>null</td><td>null</td><td>null</td><td>null</td><td>4.5</td><td>4.5</td><td>3.7</td><td>3.5</td><td>4.0</td><td>3.5</td><td>3.0</td><td>4.0</td><td>4.5</td><td>4.0</td><td>null</td><td>Emily</td><td>null</td><td>null</td><td>null</td><td>null</td><td>null</td><td>null</td><td>null</td><td>null</td><td>null</td><td>null</td><td>null</td><td>null</td><td>null</td><td>null</td><td>null</td><td>null</td><td>null</td><td>null</td><td>null</td><td>null</td><td>null</td><td>null</td><td>null</td><td>null</td><td>null</td><td>null</td><td>null</td><td>null</td><td>null</td><td>null</td><td>null</td><td>null</td><td>null</td><td>null</td><td>null</td><td>null</td><td>null</td><td>null</td></tr><tr><td>Don Carlos Taco Shop</td><td>California</td><td>5/9/2017</td><td>La Jolla</td><td>737 Pearl St</td><td>https://www.yelp.com/biz/don-carlos-taco-shop-la-jolla</td><td>4.0</td><td>4.5</td><td>null</td><td>7.75</td><td>5.0</td><td>null</td><td>null</td><td>18.0</td><td>22.5</td><td>0.73</td><td>3.5</td><td>4.2</td><td>3.3</td><td>3.7</td><td>4.0</td><td>4.0</td><td>2.9</td><td>3.0</td><td>5.0</td><td>3.7</td><td>null</td><td>Scott </td><td>null</td><td>null</td><td>null</td><td>X</td><td>X</td><td>null</td><td>X</td><td>X</td><td>X</td><td>null</td><td>null</td><td>null</td><td>null</td><td>null</td><td>null</td><td>null</td><td>null</td><td>null</td><td>null</td><td>null</td><td>null</td><td>null</td><td>null</td><td>null</td><td>null</td><td>null</td><td>null</td><td>null</td><td>null</td><td>null</td><td>null</td><td>null</td><td>null</td><td>null</td><td>null</td><td>null</td><td>null</td><td>null</td></tr><tr><td>Don Carlos Taco Shop</td><td>California</td><td>5/9/2017</td><td>null</td><td>null</td><td>null</td><td>null</td><td>null</td><td>null</td><td>7.75</td><td>2.5</td><td>null</td><td>null</td><td>20.0</td><td>22.5</td><td>0.81</td><td>4.0</td><td>4.0</td><td>2.6</td><td>3.6</td><td>4.0</td><td>4.0</td><td>3.6</td><td>4.0</td><td>4.0</td><td>2.9</td><td>null</td><td>Luis</td><td>null</td><td>null</td><td>null</td><td>X</td><td>X</td><td>null</td><td>X</td><td>X</td><td>X</td><td>null</td><td>null</td><td>null</td><td>null</td><td>null</td><td>null</td><td>null</td><td>null</td><td>null</td><td>null</td><td>null</td><td>null</td><td>null</td><td>null</td><td>null</td><td>null</td><td>null</td><td>null</td><td>null</td><td>null</td><td>null</td><td>null</td><td>null</td><td>null</td><td>null</td><td>null</td><td>null</td><td>null</td><td>null</td></tr><tr><td>Los Tacos 2</td><td>Al pastor tradicional </td><td>5/13/2017</td><td>Oceanside</td><td>3480 Marron Rd</td><td>https://www.yelp.com/biz/los-tacos-oceanside-2</td><td>4.5</td><td>5.0</td><td>null</td><td>8.25</td><td>3.8</td><td>430</td><td>0.6323529412</td><td>22.5</td><td>19.5</td><td>0.68</td><td>4.0</td><td>null</td><td>4.0</td><td>3.0</td><td>3.0</td><td>2.5</td><td>4.0</td><td>3.0</td><td>5.0</td><td>3.6</td><td>null</td><td>Scott</td><td>null</td><td>null</td><td>null</td><td>null</td><td>X</td><td>X</td><td>null</td><td>null</td><td>null</td><td>X</td><td>null</td><td>null</td><td>null</td><td>null</td><td>null</td><td>null</td><td>null</td><td>null</td><td>null</td><td>null</td><td>null</td><td>null</td><td>null</td><td>null</td><td>null</td><td>null</td><td>null</td><td>null</td><td>null</td><td>null</td><td>null</td><td>null</td><td>null</td><td>null</td><td>null</td><td>null</td><td>null</td><td>null</td></tr><tr><td>Rubios UCSD</td><td>Grilled fish salmon</td><td>5/17/2017</td><td>null</td><td>null</td><td>null</td><td>null</td><td>null</td><td>null</td><td>8.99</td><td>4.0</td><td>350</td><td>0.7446808511</td><td>15.5</td><td>19.5</td><td>0.47</td><td>3.5</td><td>3.0</td><td>3.5</td><td>3.5</td><td>4.0</td><td>2.0</td><td>4.0</td><td>4.0</td><td>4.0</td><td>3.4</td><td>null</td><td>Tom</td><td>null</td><td>null</td><td>null</td><td>null</td><td>null</td><td>null</td><td>null</td><td>null</td><td>null</td><td>null</td><td>null</td><td>null</td><td>x</td><td>x</td><td>null</td><td>null</td><td>null</td><td>null</td><td>null</td><td>x</td><td>null</td><td>null</td><td>null</td><td>null</td><td>null</td><td>null</td><td>null</td><td>null</td><td>null</td><td>null</td><td>null</td><td>null</td><td>null</td><td>null</td><td>null</td><td>null</td><td>x</td><td>null</td></tr><tr><td>Rigoberto's Taco Shop</td><td>California</td><td>5/17/2017</td><td>null</td><td>null</td><td>null</td><td>null</td><td>null</td><td>null</td><td>6.85</td><td>4.0</td><td>null</td><td>null</td><td>23.5</td><td>23.0</td><td>0.99</td><td>3.5</td><td>5.0</td><td>3.3</td><td>3.0</td><td>5.0</td><td>2.0</td><td>3.0</td><td>3.8</td><td>3.5</td><td>3.9</td><td>null</td><td>Scott</td><td>null</td><td>null</td><td>null</td><td>null</td><td>null</td><td>null</td><td>null</td><td>null</td><td>null</td><td>null</td><td>null</td><td>null</td><td>null</td><td>null</td><td>null</td><td>null</td><td>null</td><td>null</td><td>null</td><td>null</td><td>null</td><td>null</td><td>null</td><td>null</td><td>null</td><td>null</td><td>null</td><td>null</td><td>null</td><td>null</td><td>null</td><td>null</td><td>null</td><td>null</td><td>null</td><td>null</td><td>null</td><td>null</td></tr><tr><td>Rigoberto's Taco Shop</td><td>California</td><td>5/17/2017</td><td>null</td><td>null</td><td>null</td><td>null</td><td>null</td><td>null</td><td>6.85</td><td>4.0</td><td>null</td><td>null</td><td>23.5</td><td>23.5</td><td>1.03</td><td>4.0</td><td>5.0</td><td>4.0</td><td>4.0</td><td>5.0</td><td>3.5</td><td>2.0</td><td>3.5</td><td>4.0</td><td>4.0</td><td>null</td><td>Elynn</td><td>null</td><td>null</td><td>null</td><td>null</td><td>null</td><td>null</td><td>null</td><td>null</td><td>null</td><td>null</td><td>null</td><td>null</td><td>null</td><td>null</td><td>null</td><td>null</td><td>null</td><td>null</td><td>null</td><td>null</td><td>null</td><td>null</td><td>null</td><td>null</td><td>null</td><td>null</td><td>null</td><td>null</td><td>null</td><td>null</td><td>null</td><td>null</td><td>null</td><td>null</td><td>null</td><td>null</td><td>null</td><td>null</td></tr><tr><td>El Dorado Mexican Food</td><td>California</td><td>5/26/2017</td><td>null</td><td>null</td><td>null</td><td>null</td><td>null</td><td>null</td><td>7.4</td><td>3.3</td><td>null</td><td>null</td><td>19.5</td><td>24.5</td><td>0.93</td><td>5.0</td><td>4.0</td><td>4.2</td><td>3.5</td><td>2.9</td><td>3.0</td><td>4.0</td><td>4.0</td><td>4.0</td><td>4.0</td><td>null</td><td>Scott</td><td>null</td><td>null</td><td>null</td><td>null</td><td>null</td><td>null</td><td>null</td><td>null</td><td>null</td><td>null</td><td>null</td><td>null</td><td>null</td><td>null</td><td>null</td><td>null</td><td>null</td><td>null</td><td>null</td><td>null</td><td>null</td><td>null</td><td>null</td><td>null</td><td>null</td><td>null</td><td>null</td><td>null</td><td>null</td><td>null</td><td>null</td><td>null</td><td>null</td><td>null</td><td>null</td><td>null</td><td>null</td><td>null</td></tr><tr><td>El Dorado Mexican Food</td><td>California</td><td>5/26/2017</td><td>null</td><td>null</td><td>null</td><td>null</td><td>null</td><td>null</td><td>7.4</td><td>3.5</td><td>null</td><td>null</td><td>19.5</td><td>26.5</td><td>1.09</td><td>4.5</td><td>4.0</td><td>4.0</td><td>3.5</td><td>3.0</td><td>3.0</td><td>2.5</td><td>4.0</td><td>3.8</td><td>3.8</td><td>null</td><td>Emily</td><td>null</td><td>null</td><td>null</td><td>null</td><td>null</td><td>null</td><td>null</td><td>null</td><td>null</td><td>null</td><td>null</td><td>null</td><td>null</td><td>null</td><td>null</td><td>null</td><td>null</td><td>null</td><td>null</td><td>null</td><td>null</td><td>null</td><td>null</td><td>null</td><td>null</td><td>null</td><td>null</td><td>null</td><td>null</td><td>null</td><td>null</td><td>null</td><td>null</td><td>null</td><td>null</td><td>null</td><td>null</td><td>null</td></tr><tr><td>Los Tacos 2</td><td>Cheese steak</td><td>5/29/2017</td><td>null</td><td>null</td><td>null</td><td>null</td><td>null</td><td>null</td><td>9.95</td><td>4.2</td><td>600</td><td>0.7792207792</td><td>22.0</td><td>21.0</td><td>0.77</td><td>3.5</td><td>5.0</td><td>3.0</td><td>1.5</td><td>3.0</td><td>2.5</td><td>3.0</td><td>2.2</td><td>2.5</td><td>2.8</td><td>null</td><td>Scott</td><td>null</td><td>null</td><td>null</td><td>null</td><td>null</td><td>null</td><td>null</td><td>null</td><td>null</td><td>null</td><td>null</td><td>null</td><td>null</td><td>null</td><td>null</td><td>null</td><td>null</td><td>null</td><td>null</td><td>null</td><td>null</td><td>null</td><td>null</td><td>null</td><td>null</td><td>null</td><td>null</td><td>null</td><td>null</td><td>null</td><td>null</td><td>null</td><td>null</td><td>null</td><td>null</td><td>null</td><td>null</td><td>null</td></tr><tr><td>Roberto's Taco Shop Hillcrest</td><td>Asada</td><td>5/30/2017</td><td>Hillcrest</td><td>420 Robinson Ave</td><td>https://www.yelp.com/biz/robertos-taco-shop-hillcrest-san-diego</td><td>4.0</td><td>4.2</td><td>null</td><td>7.0</td><td>3.5</td><td>450</td><td>0.625</td><td>19.5</td><td>21.5</td><td>0.72</td><td>4.0</td><td>4.0</td><td>2.0</td><td>2.5</td><td>4.5</td><td>4.0</td><td>3.0</td><td>2.9</td><td>4.5</td><td>2.8</td><td>null</td><td>Scott</td><td>null</td><td>null</td><td>null</td><td>x</td><td>x</td><td>x</td><td>null</td><td>null</td><td>null</td><td>null</td><td>null</td><td>null</td><td>null</td><td>null</td><td>null</td><td>null</td><td>null</td><td>null</td><td>null</td><td>null</td><td>null</td><td>null</td><td>null</td><td>null</td><td>null</td><td>null</td><td>null</td><td>null</td><td>null</td><td>null</td><td>null</td><td>null</td><td>null</td><td>null</td><td>null</td><td>null</td><td>null</td><td>null</td></tr><tr><td>Roberto's Taco Shop Hillcrest</td><td>California Surf and Turf</td><td>5/30/2017</td><td>null</td><td>null</td><td>null</td><td>null</td><td>null</td><td>null</td><td>9.0</td><td>3.0</td><td>null</td><td>null</td><td>24.0</td><td>22.0</td><td>0.92</td><td>3.5</td><td>4.0</td><td>4.0</td><td>4.0</td><td>4.5</td><td>4.5</td><td>2.0</td><td>3.5</td><td>4.0</td><td>4.0</td><td>null</td><td>Richard</td><td>null</td><td>null</td><td>null</td><td>null</td><td>null</td><td>null</td><td>null</td><td>null</td><td>null</td><td>null</td><td>null</td><td>null</td><td>null</td><td>null</td><td>null</td><td>null</td><td>null</td><td>null</td><td>null</td><td>null</td><td>null</td><td>null</td><td>null</td><td>null</td><td>null</td><td>null</td><td>null</td><td>null</td><td>null</td><td>null</td><td>null</td><td>null</td><td>null</td><td>null</td><td>null</td><td>null</td><td>null</td><td>null</td></tr><tr><td>Roberto's Taco Shop Hillcrest</td><td>California</td><td>5/30/2017</td><td>null</td><td>null</td><td>null</td><td>null</td><td>null</td><td>null</td><td>7.0</td><td>3.5</td><td>null</td><td>null</td><td>23.0</td><td>21.5</td><td>0.85</td><td>3.0</td><td>3.0</td><td>2.0</td><td>2.0</td><td>3.0</td><td>2.0</td><td>3.0</td><td>2.0</td><td>3.0</td><td>2.2</td><td>null</td><td>Tom</td><td>null</td><td>null</td><td>null</td><td>x</td><td>null</td><td>null</td><td>x</td><td>x</td><td>x</td><td>null</td><td>null</td><td>null</td><td>null</td><td>null</td><td>null</td><td>null</td><td>null</td><td>null</td><td>null</td><td>null</td><td>null</td><td>null</td><td>null</td><td>null</td><td>null</td><td>null</td><td>null</td><td>null</td><td>null</td><td>null</td><td>null</td><td>null</td><td>null</td><td>null</td><td>null</td><td>null</td><td>null</td><td>null</td></tr><tr><td>Burros and Fries</td><td>Shrimp california</td><td>6/4/2017</td><td>null</td><td>null</td><td>null</td><td>null</td><td>null</td><td>null</td><td>6.99</td><td>4.0</td><td>580</td><td>0.8656716418</td><td>21.0</td><td>20.0</td><td>0.67</td><td>3.0</td><td>4.0</td><td>4.0</td><td>2.5</td><td>2.5</td><td>3.0</td><td>3.0</td><td>3.0</td><td>5.0</td><td>3.0</td><td>null</td><td>Emily</td><td>too many fries. Not great</td><td>null</td><td>null</td><td>null</td><td>null</td><td>null</td><td>null</td><td>null</td><td>null</td><td>null</td><td>null</td><td>null</td><td>null</td><td>null</td><td>null</td><td>null</td><td>null</td><td>null</td><td>null</td><td>null</td><td>null</td><td>null</td><td>null</td><td>null</td><td>null</td><td>null</td><td>null</td><td>null</td><td>null</td><td>null</td><td>null</td><td>null</td><td>null</td><td>null</td><td>null</td><td>null</td><td>null</td><td>null</td></tr><tr><td>Burros and Fries</td><td>California</td><td>6/4/2017</td><td>null</td><td>null</td><td>null</td><td>null</td><td>null</td><td>null</td><td>7.19</td><td>3.5</td><td>635</td><td>0.7839506173</td><td>21.0</td><td>22.0</td><td>0.81</td><td>3.5</td><td>4.5</td><td>3.5</td><td>3.5</td><td>3.0</td><td>3.5</td><td>4.0</td><td>3.5</td><td>5.0</td><td>3.8</td><td>null</td><td>Scott</td><td>null</td><td>null</td><td>null</td><td>null</td><td>null</td><td>null</td><td>null</td><td>null</td><td>null</td><td>null</td><td>null</td><td>null</td><td>null</td><td>null</td><td>null</td><td>null</td><td>null</td><td>null</td><td>null</td><td>null</td><td>null</td><td>null</td><td>null</td><td>null</td><td>null</td><td>null</td><td>null</td><td>null</td><td>null</td><td>null</td><td>null</td><td>null</td><td>null</td><td>null</td><td>null</td><td>null</td><td>null</td><td>null</td></tr><tr><td>Taco Stand Encinitas </td><td>California</td><td>6/10/2017</td><td>null</td><td>null</td><td>null</td><td>null</td><td>null</td><td>null</td><td>7.89</td><td>4.0</td><td>null</td><td>null</td><td>19.0</td><td>22.5</td><td>0.77</td><td>3.0</td><td>null</td><td>4.5</td><td>4.0</td><td>4.5</td><td>4.5</td><td>4.5</td><td>4.8</td><td>3.3</td><td>4.7</td><td>null</td><td>Scott</td><td>null</td><td>null</td><td>null</td><td>null</td><td>null</td><td>null</td><td>null</td><td>null</td><td>null</td><td>null</td><td>null</td><td>null</td><td>null</td><td>null</td><td>null</td><td>null</td><td>null</td><td>null</td><td>null</td><td>null</td><td>null</td><td>null</td><td>null</td><td>null</td><td>null</td><td>null</td><td>null</td><td>null</td><td>null</td><td>null</td><td>null</td><td>null</td><td>null</td><td>null</td><td>null</td><td>null</td><td>null</td><td>null</td></tr><tr><td>Taco Stand Encinitas</td><td>California</td><td>6/10/2017</td><td>null</td><td>null</td><td>null</td><td>null</td><td>null</td><td>null</td><td>7.89</td><td>4.0</td><td>null</td><td>null</td><td>18.0</td><td>21.5</td><td>0.66</td><td>3.0</td><td>null</td><td>4.0</td><td>4.0</td><td>4.5</td><td>4.0</td><td>4.5</td><td>4.5</td><td>5.0</td><td>4.5</td><td>null</td><td>Emily</td><td>null</td><td>null</td><td>null</td><td>null</td><td>null</td><td>null</td><td>null</td><td>null</td><td>null</td><td>null</td><td>null</td><td>null</td><td>null</td><td>null</td><td>null</td><td>null</td><td>null</td><td>null</td><td>null</td><td>null</td><td>null</td><td>null</td><td>null</td><td>null</td><td>null</td><td>null</td><td>null</td><td>null</td><td>null</td><td>null</td><td>null</td><td>null</td><td>null</td><td>null</td><td>null</td><td>null</td><td>null</td><td>null</td></tr><tr><td>Cotixan</td><td>California</td><td>6/16/2017</td><td>null</td><td>null</td><td>null</td><td>null</td><td>null</td><td>null</td><td>6.9</td><td>4.3</td><td>550</td><td>0.6875</td><td>19.0</td><td>23.0</td><td>0.8</td><td>3.0</td><td>3.0</td><td>3.5</td><td>3.5</td><td>3.5</td><td>3.5</td><td>3.8</td><td>4.0</td><td>5.0</td><td>3.7</td><td>null</td><td>Scott</td><td>null</td><td>null</td><td>null</td><td>null</td><td>null</td><td>null</td><td>null</td><td>null</td><td>null</td><td>null</td><td>null</td><td>null</td><td>null</td><td>null</td><td>null</td><td>null</td><td>null</td><td>null</td><td>null</td><td>null</td><td>null</td><td>null</td><td>null</td><td>null</td><td>null</td><td>null</td><td>null</td><td>null</td><td>null</td><td>null</td><td>null</td><td>null</td><td>null</td><td>null</td><td>null</td><td>null</td><td>null</td><td>null</td></tr><tr><td>Vallarta Express</td><td>Surf & Turf</td><td>6/24/2017</td><td>null</td><td>null</td><td>null</td><td>null</td><td>null</td><td>null</td><td>8.55</td><td>3.0</td><td>610</td><td>0.7261904762</td><td>20.0</td><td>23.0</td><td>0.84</td><td>3.0</td><td>2.5</td><td>3.0</td><td>3.0</td><td>3.5</td><td>2.8</td><td>3.5</td><td>2.8</td><td>1.5</td><td>3.0</td><td>null</td><td>Scott</td><td>null</td><td>null</td><td>null</td><td>null</td><td>null</td><td>null</td><td>null</td><td>null</td><td>null</td><td>null</td><td>null</td><td>null</td><td>null</td><td>null</td><td>null</td><td>null</td><td>null</td><td>null</td><td>null</td><td>null</td><td>null</td><td>null</td><td>null</td><td>null</td><td>null</td><td>null</td><td>null</td><td>null</td><td>null</td><td>null</td><td>null</td><td>null</td><td>null</td><td>null</td><td>null</td><td>null</td><td>null</td><td>null</td></tr><tr><td>Vallarta Express</td><td>California</td><td>6/24/2017</td><td>null</td><td>null</td><td>null</td><td>null</td><td>null</td><td>null</td><td>7.8</td><td>2.5</td><td>620</td><td>0.6326530612</td><td>20.5</td><td>24.5</td><td>0.98</td><td>3.0</td><td>2.0</td><td>3.5</td><td>3.0</td><td>3.0</td><td>4.0</td><td>3.0</td><td>3.8</td><td>4.5</td><td>3.5</td><td>null</td><td>Emily</td><td>null</td><td>null</td><td>null</td><td>null</td><td>null</td><td>null</td><td>null</td><td>null</td><td>null</td><td>null</td><td>null</td><td>null</td><td>null</td><td>null</td><td>null</td><td>null</td><td>null</td><td>null</td><td>null</td><td>null</td><td>null</td><td>null</td><td>null</td><td>null</td><td>null</td><td>null</td><td>null</td><td>null</td><td>null</td><td>null</td><td>null</td><td>null</td><td>null</td><td>null</td><td>null</td><td>null</td><td>null</td><td>null</td></tr><tr><td>Caliente Mexican Food</td><td>carne asada </td><td>7/6/2017</td><td>Sorrento Valley</td><td>11815 Sorrento Valley Rd</td><td>https://www.yelp.com/biz/caliente-mexican-food-san-diego</td><td>3.5</td><td>4.4</td><td>null</td><td>5.56</td><td>2.5</td><td>420</td><td>0.6176470588</td><td>21.5</td><td>20.0</td><td>0.68</td><td>2.5</td><td>3.0</td><td>2.5</td><td>3.5</td><td>4.5</td><td>4.5</td><td>3.7</td><td>3.3</td><td>4.5</td><td>3.5</td><td>null</td><td>Scott</td><td>null</td><td>null</td><td>null</td><td>null</td><td>null</td><td>null</td><td>null</td><td>null</td><td>null</td><td>null</td><td>null</td><td>null</td><td>null</td><td>null</td><td>null</td><td>null</td><td>null</td><td>null</td><td>null</td><td>null</td><td>null</td><td>null</td><td>null</td><td>null</td><td>null</td><td>null</td><td>null</td><td>null</td><td>null</td><td>null</td><td>null</td><td>null</td><td>null</td><td>null</td><td>null</td><td>null</td><td>null</td><td>null</td></tr><tr><td>Caliente Mexican Food</td><td>carne asada </td><td>7/6/2017</td><td>null</td><td>null</td><td>null</td><td>null</td><td>null</td><td>null</td><td>5.56</td><td>4.0</td><td>null</td><td>null</td><td>21.0</td><td>21.5</td><td>0.77</td><td>4.0</td><td>4.0</td><td>4.0</td><td>3.0</td><td>4.0</td><td>2.0</td><td>4.0</td><td>3.0</td><td>3.0</td><td>4.0</td><td>null</td><td>Chris G</td><td>null</td><td>null</td><td>null</td><td>null</td><td>null</td><td>null</td><td>null</td><td>null</td><td>null</td><td>null</td><td>null</td><td>null</td><td>null</td><td>null</td><td>null</td><td>null</td><td>null</td><td>null</td><td>null</td><td>null</td><td>null</td><td>null</td><td>null</td><td>null</td><td>null</td><td>null</td><td>null</td><td>null</td><td>null</td><td>null</td><td>null</td><td>null</td><td>null</td><td>null</td><td>null</td><td>null</td><td>null</td><td>null</td></tr><tr><td>Caliente Mexican Food</td><td>fried fish</td><td>7/6/2017</td><td>null</td><td>null</td><td>null</td><td>null</td><td>null</td><td>null</td><td>5.56</td><td>3.5</td><td>null</td><td>null</td><td>22.5</td><td>19.0</td><td>0.65</td><td>3.5</td><td>3.0</td><td>null</td><td>3.5</td><td>3.0</td><td>4.0</td><td>4.5</td><td>3.5</td><td>4.0</td><td>3.5</td><td>null</td><td>Xi</td><td>null</td><td>null</td><td>null</td><td>null</td><td>null</td><td>null</td><td>null</td><td>null</td><td>null</td><td>null</td><td>null</td><td>null</td><td>null</td><td>null</td><td>null</td><td>null</td><td>null</td><td>null</td><td>null</td><td>null</td><td>null</td><td>null</td><td>null</td><td>null</td><td>null</td><td>null</td><td>null</td><td>null</td><td>null</td><td>null</td><td>null</td><td>null</td><td>null</td><td>null</td><td>null</td><td>null</td><td>null</td><td>null</td></tr><tr><td>Caliente Mexican Food</td><td>California</td><td>7/6/2017</td><td>null</td><td>null</td><td>null</td><td>null</td><td>null</td><td>null</td><td>6.47</td><td>4.0</td><td>null</td><td>null</td><td>23.0</td><td>22.0</td><td>0.89</td><td>1.0</td><td>2.0</td><td>2.0</td><td>2.0</td><td>3.0</td><td>3.0</td><td>1.0</td><td>2.0</td><td>3.0</td><td>2.0</td><td>null</td><td>Erik K</td><td>null</td><td>null</td><td>null</td><td>null</td><td>null</td><td>null</td><td>null</td><td>null</td><td>null</td><td>null</td><td>null</td><td>null</td><td>null</td><td>null</td><td>null</td><td>null</td><td>null</td><td>null</td><td>null</td><td>null</td><td>null</td><td>null</td><td>null</td><td>null</td><td>null</td><td>null</td><td>null</td><td>null</td><td>null</td><td>null</td><td>null</td><td>null</td><td>null</td><td>null</td><td>null</td><td>null</td><td>null</td><td>null</td></tr><tr><td>Burrito Factory</td><td>Steak everything </td><td>7/13/2017</td><td>Austin</td><td>2025 Guadalupe St</td><td>https://www.yelp.com/biz/burrito-factory-austin</td><td>4.5</td><td>4.8</td><td>null</td><td>7.35</td><td>3.5</td><td>null</td><td>null</td><td>17.0</td><td>23.0</td><td>0.72</td><td>3.2</td><td>3.0</td><td>3.5</td><td>3.5</td><td>3.0</td><td>3.3</td><td>3.0</td><td>3.8</td><td>2.0</td><td>3.5</td><td>null</td><td>Scott</td><td>null</td><td>null</td><td>x</td><td>null</td><td>null</td><td>null</td><td>null</td><td>null</td><td>null</td><td>null</td><td>null</td><td>null</td><td>null</td><td>null</td><td>null</td><td>null</td><td>null</td><td>null</td><td>null</td><td>null</td><td>null</td><td>null</td><td>null</td><td>null</td><td>null</td><td>null</td><td>null</td><td>null</td><td>null</td><td>null</td><td>null</td><td>null</td><td>null</td><td>null</td><td>null</td><td>null</td><td>null</td><td>null</td></tr><tr><td>Taco Villa</td><td>Carne asada</td><td>7/12/2017</td><td>null</td><td>null</td><td>null</td><td>null</td><td>null</td><td>null</td><td>6.99</td><td>3.0</td><td>null</td><td>null</td><td>null</td><td>null</td><td>null</td><td>3.0</td><td>4.5</td><td>2.0</td><td>3.0</td><td>2.5</td><td>4.0</td><td>2.0</td><td>2.0</td><td>4.0</td><td>2.0</td><td>null</td><td>Richard</td><td>null</td><td>null</td><td>null</td><td>null</td><td>null</td><td>null</td><td>null</td><td>null</td><td>null</td><td>null</td><td>null</td><td>null</td><td>null</td><td>null</td><td>null</td><td>null</td><td>null</td><td>null</td><td>null</td><td>null</td><td>null</td><td>null</td><td>null</td><td>null</td><td>null</td><td>null</td><td>null</td><td>null</td><td>null</td><td>null</td><td>null</td><td>null</td><td>null</td><td>null</td><td>null</td><td>null</td><td>null</td><td>null</td></tr><tr><td>Taco VIlla</td><td>California</td><td>7/19/2017</td><td>null</td><td>null</td><td>null</td><td>null</td><td>null</td><td>null</td><td>6.99</td><td>4.0</td><td>null</td><td>null</td><td>20.5</td><td>21.5</td><td>0.75</td><td>4.0</td><td>null</td><td>3.5</td><td>3.5</td><td>3.5</td><td>3.5</td><td>3.5</td><td>3.5</td><td>5.0</td><td>3.7</td><td>null</td><td>Scott</td><td>null</td><td>null</td><td>null</td><td>null</td><td>null</td><td>null</td><td>null</td><td>null</td><td>null</td><td>null</td><td>null</td><td>null</td><td>null</td><td>null</td><td>null</td><td>null</td><td>null</td><td>null</td><td>null</td><td>null</td><td>null</td><td>null</td><td>null</td><td>null</td><td>null</td><td>null</td><td>null</td><td>null</td><td>null</td><td>null</td><td>null</td><td>null</td><td>null</td><td>null</td><td>null</td><td>null</td><td>null</td><td>null</td></tr><tr><td>Los Tacos 2</td><td>Local</td><td>7/22/2017</td><td>null</td><td>null</td><td>null</td><td>null</td><td>null</td><td>null</td><td>8.5</td><td>3.8</td><td>null</td><td>null</td><td>23.0</td><td>22.0</td><td>0.89</td><td>4.0</td><td>4.5</td><td>3.0</td><td>4.0</td><td>3.0</td><td>2.5</td><td>3.5</td><td>3.5</td><td>3.0</td><td>4.0</td><td>null</td><td>Scott</td><td>null</td><td>null</td><td>null</td><td>null</td><td>null</td><td>null</td><td>null</td><td>null</td><td>null</td><td>null</td><td>null</td><td>null</td><td>null</td><td>null</td><td>null</td><td>null</td><td>null</td><td>null</td><td>null</td><td>null</td><td>null</td><td>null</td><td>null</td><td>null</td><td>null</td><td>null</td><td>null</td><td>null</td><td>null</td><td>null</td><td>null</td><td>null</td><td>null</td><td>null</td><td>null</td><td>null</td><td>null</td><td>null</td></tr><tr><td>Los Tacos 2</td><td>Local</td><td>7/22/2017</td><td>null</td><td>null</td><td>null</td><td>null</td><td>null</td><td>null</td><td>8.5</td><td>4.0</td><td>null</td><td>null</td><td>22.0</td><td>21.0</td><td>0.77</td><td>4.0</td><td>4.0</td><td>3.75</td><td>4.0</td><td>3.5</td><td>3.5</td><td>4.0</td><td>5.0</td><td>3.5</td><td>4.0</td><td>null</td><td>Emily</td><td>null</td><td>null</td><td>null</td><td>null</td><td>null</td><td>null</td><td>null</td><td>null</td><td>null</td><td>null</td><td>null</td><td>null</td><td>null</td><td>null</td><td>null</td><td>null</td><td>null</td><td>null</td><td>null</td><td>null</td><td>null</td><td>null</td><td>null</td><td>null</td><td>null</td><td>null</td><td>null</td><td>null</td><td>null</td><td>null</td><td>null</td><td>null</td><td>null</td><td>null</td><td>null</td><td>null</td><td>null</td><td>null</td></tr><tr><td>Valentines Mexican Food</td><td>Carne asada</td><td>8/7/2017</td><td>null</td><td>null</td><td>null</td><td>null</td><td>null</td><td>null</td><td>6.75</td><td>4.0</td><td>null</td><td>null</td><td>19.5</td><td>21.0</td><td>0.68</td><td>4.0</td><td>4.5</td><td>3.5</td><td>3.5</td><td>4.5</td><td>4.5</td><td>3.0</td><td>3.5</td><td>4.0</td><td>3.9</td><td>null</td><td>Scott</td><td>null</td><td>null</td><td>null</td><td>null</td><td>null</td><td>null</td><td>null</td><td>null</td><td>null</td><td>null</td><td>null</td><td>null</td><td>null</td><td>null</td><td>null</td><td>null</td><td>null</td><td>null</td><td>null</td><td>null</td><td>null</td><td>null</td><td>null</td><td>null</td><td>null</td><td>null</td><td>null</td><td>null</td><td>null</td><td>null</td><td>null</td><td>null</td><td>null</td><td>null</td><td>null</td><td>null</td><td>null</td><td>null</td></tr><tr><td>Valentines Mexican Food</td><td>California</td><td>8/7/2017</td><td>null</td><td>null</td><td>null</td><td>null</td><td>null</td><td>null</td><td>7.9</td><td>4.0</td><td>null</td><td>null</td><td>22.0</td><td>25.0</td><td>1.09</td><td>4.0</td><td>5.0</td><td>5.0</td><td>5.0</td><td>5.0</td><td>5.0</td><td>5.0</td><td>4.0</td><td>3.5</td><td>4.8</td><td>null</td><td>Simon</td><td>null</td><td>x</td><td>null</td><td>null</td><td>null</td><td>null</td><td>null</td><td>null</td><td>null</td><td>null</td><td>null</td><td>null</td><td>null</td><td>null</td><td>null</td><td>null</td><td>null</td><td>null</td><td>null</td><td>null</td><td>null</td><td>null</td><td>null</td><td>null</td><td>null</td><td>null</td><td>null</td><td>null</td><td>null</td><td>null</td><td>null</td><td>null</td><td>null</td><td>null</td><td>null</td><td>null</td><td>null</td><td>null</td></tr><tr><td>Vallarta Express</td><td>California</td><td>8/9/2017</td><td>null</td><td>null</td><td>null</td><td>null</td><td>null</td><td>null</td><td>8.35</td><td>4.5</td><td>null</td><td>null</td><td>21.0</td><td>23.0</td><td>0.88</td><td>3.0</td><td>3.0</td><td>4.0</td><td>3.0</td><td>4.0</td><td>2.5</td><td>4.0</td><td>4.5</td><td>4.0</td><td>4.1</td><td>null</td><td>Scott</td><td>null</td><td>null</td><td>null</td><td>null</td><td>null</td><td>null</td><td>null</td><td>null</td><td>null</td><td>null</td><td>null</td><td>null</td><td>null</td><td>null</td><td>null</td><td>null</td><td>null</td><td>null</td><td>null</td><td>null</td><td>null</td><td>null</td><td>null</td><td>null</td><td>null</td><td>null</td><td>null</td><td>null</td><td>null</td><td>null</td><td>null</td><td>null</td><td>null</td><td>null</td><td>null</td><td>null</td><td>null</td><td>null</td></tr><tr><td>Lalo's Tacos</td><td>California</td><td>8/11/2017</td><td>Hillcrest</td><td>1266 University Ave</td><td>https://www.yelp.com/biz/lalos-tacos-san-diego-2</td><td>3.0</td><td>3.9</td><td>null</td><td>7.75</td><td>3.0</td><td>null</td><td>null</td><td>null</td><td>null</td><td>null</td><td>3.75</td><td>5.0</td><td>3.0</td><td>3.5</td><td>5.0</td><td>5.0</td><td>2.0</td><td>3.0</td><td>2.8</td><td>2.8</td><td>N</td><td>Daniel A</td><td>null</td><td>null</td><td>null</td><td>x</td><td>x</td><td>x</td><td>x</td><td>x</td><td>null</td><td>null</td><td>null</td><td>null</td><td>null</td><td>null</td><td>null</td><td>null</td><td>null</td><td>null</td><td>null</td><td>null</td><td>null</td><td>null</td><td>null</td><td>null</td><td>null</td><td>null</td><td>null</td><td>null</td><td>null</td><td>null</td><td>null</td><td>null</td><td>null</td><td>null</td><td>null</td><td>null</td><td>null</td><td>null</td></tr><tr><td>Roberto's Taco Shop Hillcrest</td><td>Golden State</td><td>8/14/2017</td><td>null</td><td>null</td><td>null</td><td>null</td><td>null</td><td>null</td><td>25.0</td><td>4.0</td><td>null</td><td>null</td><td>21.5</td><td>24.0</td><td>0.99</td><td>3.8</td><td>4.4</td><td>4.0</td><td>3.8</td><td>4.0</td><td>4.0</td><td>4.0</td><td>4.0</td><td>5.0</td><td>4.2</td><td>null</td><td>Scott</td><td>Good. but just get a regular Cali.</td><td>x</td><td>null</td><td>null</td><td>null</td><td>null</td><td>null</td><td>null</td><td>null</td><td>null</td><td>null</td><td>null</td><td>null</td><td>null</td><td>null</td><td>null</td><td>null</td><td>null</td><td>null</td><td>null</td><td>null</td><td>null</td><td>null</td><td>null</td><td>null</td><td>null</td><td>null</td><td>null</td><td>null</td><td>null</td><td>null</td><td>null</td><td>null</td><td>null</td><td>null</td><td>null</td><td>null</td><td>null</td></tr><tr><td>Roberto's Taco Shop Hillcrest</td><td>California</td><td>8/14/2017</td><td>null</td><td>null</td><td>null</td><td>null</td><td>null</td><td>null</td><td>7.0</td><td>4.0</td><td>null</td><td>null</td><td>19.5</td><td>21.5</td><td>0.72</td><td>4.5</td><td>5.0</td><td>4.0</td><td>4.0</td><td>4.0</td><td>3.7</td><td>3.8</td><td>4.6</td><td>4.8</td><td>4.2</td><td>null</td><td>Simon</td><td>null</td><td>null</td><td>null</td><td>null</td><td>null</td><td>null</td><td>null</td><td>null</td><td>null</td><td>null</td><td>null</td><td>null</td><td>null</td><td>null</td><td>null</td><td>null</td><td>null</td><td>null</td><td>null</td><td>null</td><td>null</td><td>null</td><td>null</td><td>null</td><td>null</td><td>null</td><td>null</td><td>null</td><td>null</td><td>null</td><td>null</td><td>null</td><td>null</td><td>null</td><td>null</td><td>null</td><td>null</td><td>null</td></tr><tr><td>Kotija Jr</td><td>California</td><td>8/19/2017</td><td>Del Mar</td><td>2668 Del Mar Heights Rd</td><td>https://www.yelp.com/biz/kotija-jr-taco-shop-del-mar</td><td>4.0</td><td>4.2</td><td>null</td><td>6.99</td><td>4.0</td><td>550</td><td>0.7857142857</td><td>20.0</td><td>21.0</td><td>0.7</td><td>4.0</td><td>5.0</td><td>3.5</td><td>3.8</td><td>3.0</td><td>2.5</td><td>3.3</td><td>4.0</td><td>5.0</td><td>3.7</td><td>null</td><td>Scott</td><td>null</td><td>null</td><td>null</td><td>null</td><td>null</td><td>null</td><td>null</td><td>null</td><td>null</td><td>null</td><td>null</td><td>null</td><td>null</td><td>null</td><td>null</td><td>null</td><td>null</td><td>null</td><td>null</td><td>null</td><td>null</td><td>null</td><td>null</td><td>null</td><td>null</td><td>null</td><td>null</td><td>null</td><td>null</td><td>null</td><td>null</td><td>null</td><td>null</td><td>null</td><td>null</td><td>null</td><td>null</td><td>null</td></tr><tr><td>Kotija Jr</td><td>Steak fajitas</td><td>8/19/2017</td><td>null</td><td>null</td><td>null</td><td>null</td><td>null</td><td>null</td><td>7.1</td><td>3.0</td><td>null</td><td>null</td><td>21.0</td><td>22.0</td><td>0.81</td><td>3.5</td><td>5.0</td><td>4.0</td><td>4.0</td><td>4.5</td><td>4.75</td><td>3.75</td><td>4.0</td><td>5.0</td><td>4.2</td><td>null</td><td>Emily</td><td>null</td><td>null</td><td>null</td><td>null</td><td>null</td><td>null</td><td>null</td><td>null</td><td>null</td><td>null</td><td>null</td><td>null</td><td>null</td><td>null</td><td>null</td><td>null</td><td>null</td><td>null</td><td>null</td><td>null</td><td>null</td><td>null</td><td>null</td><td>null</td><td>null</td><td>null</td><td>null</td><td>null</td><td>null</td><td>null</td><td>null</td><td>null</td><td>null</td><td>null</td><td>null</td><td>null</td><td>null</td><td>null</td></tr><tr><td>El Rey Moro</td><td>Hashbrown</td><td>8/20/2017</td><td>null</td><td>null</td><td>null</td><td>null</td><td>null</td><td>null</td><td>6.47</td><td>4.0</td><td>450</td><td>0.625</td><td>22.5</td><td>20.0</td><td>0.72</td><td>3.0</td><td>3.0</td><td>2.0</td><td>2.5</td><td>1.5</td><td>2.5</td><td>2.5</td><td>3.0</td><td>5.0</td><td>3.2</td><td>null</td><td>Scott</td><td>null</td><td>null</td><td>null</td><td>null</td><td>null</td><td>null</td><td>null</td><td>null</td><td>null</td><td>null</td><td>null</td><td>null</td><td>null</td><td>null</td><td>null</td><td>null</td><td>null</td><td>null</td><td>null</td><td>null</td><td>null</td><td>null</td><td>null</td><td>null</td><td>null</td><td>null</td><td>null</td><td>null</td><td>null</td><td>null</td><td>null</td><td>null</td><td>null</td><td>null</td><td>null</td><td>null</td><td>null</td><td>null</td></tr><tr><td>El Rey Moro</td><td>Hashbrown</td><td>8/20/2017</td><td>null</td><td>null</td><td>null</td><td>null</td><td>null</td><td>null</td><td>8.94</td><td>3.5</td><td>null</td><td>null</td><td>21.5</td><td>22.0</td><td>0.83</td><td>2.5</td><td>3.5</td><td>3.5</td><td>3.5</td><td>3.5</td><td>4.0</td><td>3.0</td><td>3.5</td><td>4.5</td><td>3.8</td><td>null</td><td>Emily</td><td>null</td><td>null</td><td>null</td><td>null</td><td>null</td><td>null</td><td>null</td><td>null</td><td>null</td><td>null</td><td>null</td><td>null</td><td>null</td><td>null</td><td>null</td><td>null</td><td>null</td><td>null</td><td>null</td><td>null</td><td>null</td><td>null</td><td>null</td><td>null</td><td>null</td><td>null</td><td>null</td><td>null</td><td>null</td><td>null</td><td>null</td><td>null</td><td>null</td><td>null</td><td>null</td><td>null</td><td>null</td><td>null</td></tr><tr><td>Taco Villa</td><td>Carnitas</td><td>8/25/2017</td><td>null</td><td>null</td><td>null</td><td>null</td><td>null</td><td>null</td><td>5.99</td><td>2.0</td><td>null</td><td>null</td><td>20.0</td><td>21.5</td><td>0.74</td><td>2.0</td><td>2.5</td><td>4.0</td><td>3.0</td><td>4.0</td><td>3.5</td><td>3.0</td><td>3.0</td><td>5.0</td><td>3.8</td><td>null</td><td>Scott</td><td>null</td><td>null</td><td>null</td><td>null</td><td>null</td><td>null</td><td>null</td><td>null</td><td>null</td><td>null</td><td>null</td><td>null</td><td>null</td><td>null</td><td>null</td><td>null</td><td>null</td><td>null</td><td>null</td><td>null</td><td>null</td><td>null</td><td>null</td><td>null</td><td>null</td><td>null</td><td>null</td><td>null</td><td>null</td><td>null</td><td>null</td><td>null</td><td>null</td><td>null</td><td>null</td><td>null</td><td>null</td><td>null</td></tr><tr><td>Taco Villa</td><td>Carne asada</td><td>8/25/2017</td><td>null</td><td>null</td><td>null</td><td>null</td><td>null</td><td>null</td><td>6.99</td><td>3.5</td><td>null</td><td>null</td><td>null</td><td>null</td><td>null</td><td>4.0</td><td>4.0</td><td>4.0</td><td>4.5</td><td>4.0</td><td>3.5</td><td>4.0</td><td>4.0</td><td>4.0</td><td>4.3</td><td>null</td><td>Nuttida</td><td>null</td><td>null</td><td>null</td><td>null</td><td>null</td><td>null</td><td>null</td><td>null</td><td>null</td><td>null</td><td>null</td><td>null</td><td>null</td><td>null</td><td>null</td><td>null</td><td>null</td><td>null</td><td>null</td><td>null</td><td>null</td><td>null</td><td>null</td><td>null</td><td>null</td><td>null</td><td>null</td><td>null</td><td>null</td><td>null</td><td>null</td><td>null</td><td>null</td><td>null</td><td>null</td><td>null</td><td>null</td><td>null</td></tr><tr><td>Los Tacos</td><td>Local</td><td>9/4/2017</td><td>null</td><td>null</td><td>null</td><td>null</td><td>null</td><td>null</td><td>8.5</td><td>3.5</td><td>540</td><td>0.6835443038</td><td>21.5</td><td>21.5</td><td>0.79</td><td>3.5</td><td>4.0</td><td>4.5</td><td>4.0</td><td>3.0</td><td>4.0</td><td>3.5</td><td>4.5</td><td>5.0</td><td>4.3</td><td>null</td><td>Scott</td><td>null</td><td>null</td><td>null</td><td>null</td><td>null</td><td>null</td><td>null</td><td>null</td><td>null</td><td>null</td><td>null</td><td>null</td><td>null</td><td>null</td><td>null</td><td>null</td><td>null</td><td>null</td><td>null</td><td>null</td><td>null</td><td>null</td><td>null</td><td>null</td><td>null</td><td>null</td><td>null</td><td>null</td><td>null</td><td>null</td><td>null</td><td>null</td><td>null</td><td>null</td><td>null</td><td>null</td><td>null</td><td>null</td></tr><tr><td>Los Tacos</td><td>Local</td><td>9/4/2017</td><td>null</td><td>null</td><td>null</td><td>null</td><td>null</td><td>null</td><td>8.5</td><td>3.5</td><td>540</td><td>0.6136363636</td><td>21.0</td><td>23.0</td><td>0.88</td><td>4.0</td><td>4.0</td><td>4.0</td><td>4.5</td><td>4.2</td><td>4.5</td><td>4.0</td><td>4.5</td><td>4.8</td><td>4.5</td><td>null</td><td>Emily</td><td>null</td><td>null</td><td>null</td><td>null</td><td>null</td><td>null</td><td>null</td><td>null</td><td>null</td><td>null</td><td>null</td><td>null</td><td>null</td><td>null</td><td>null</td><td>null</td><td>null</td><td>null</td><td>null</td><td>null</td><td>null</td><td>null</td><td>null</td><td>null</td><td>null</td><td>null</td><td>null</td><td>null</td><td>null</td><td>null</td><td>null</td><td>null</td><td>null</td><td>null</td><td>null</td><td>null</td><td>null</td><td>null</td></tr><tr><td>Rigoberto's Taco Shop</td><td>California </td><td>9/5/2017</td><td>null</td><td>null</td><td>null</td><td>null</td><td>null</td><td>null</td><td>6.85</td><td>3.5</td><td>null</td><td>null</td><td>22.5</td><td>22.5</td><td>0.91</td><td>3.0</td><td>4.5</td><td>3.8</td><td>3.8</td><td>4.0</td><td>3.5</td><td>3.5</td><td>4.0</td><td>3.0</td><td>4.1</td><td>null</td><td>Scott</td><td>null</td><td>null</td><td>null</td><td>null</td><td>null</td><td>null</td><td>null</td><td>null</td><td>null</td><td>null</td><td>null</td><td>null</td><td>null</td><td>null</td><td>null</td><td>null</td><td>null</td><td>null</td><td>null</td><td>null</td><td>null</td><td>null</td><td>null</td><td>null</td><td>null</td><td>null</td><td>null</td><td>null</td><td>null</td><td>null</td><td>null</td><td>null</td><td>null</td><td>null</td><td>null</td><td>null</td><td>null</td><td>null</td></tr><tr><td>Rigoberto's Taco Shop</td><td>California </td><td>9/5/2017</td><td>null</td><td>null</td><td>null</td><td>null</td><td>null</td><td>null</td><td>6.85</td><td>3.5</td><td>null</td><td>null</td><td>22.2</td><td>22.5</td><td>0.89</td><td>3.0</td><td>4.5</td><td>4.0</td><td>4.0</td><td>4.5</td><td>3.0</td><td>4.0</td><td>4.0</td><td>3.5</td><td>4.25</td><td>null</td><td>Sage</td><td>null</td><td>null</td><td>null</td><td>null</td><td>null</td><td>null</td><td>null</td><td>null</td><td>null</td><td>null</td><td>null</td><td>null</td><td>null</td><td>null</td><td>null</td><td>null</td><td>null</td><td>null</td><td>null</td><td>null</td><td>null</td><td>null</td><td>null</td><td>null</td><td>null</td><td>null</td><td>null</td><td>null</td><td>null</td><td>null</td><td>null</td><td>null</td><td>null</td><td>null</td><td>null</td><td>null</td><td>null</td><td>null</td></tr><tr><td>Burrito Box</td><td>Steak with guacamole</td><td>12/16/2017</td><td>New York</td><td>885 9th Ave</td><td>https://www.yelp.com/biz/the-burrito-box-new-york</td><td>4.0</td><td>4.5</td><td>Yes</td><td>11.5</td><td>3.5</td><td>null</td><td>null</td><td>15.0</td><td>25.0</td><td>0.75</td><td>2.0</td><td>2.0</td><td>4.0</td><td>3.5</td><td>3.0</td><td>4.5</td><td>3.5</td><td>4.0</td><td>2.0</td><td>3.5</td><td>null</td><td>Scott</td><td>Maybe a little better than chipotle. Or at least more authentic.</td><td>null</td><td>x</td><td>null</td><td>null</td><td>null</td><td>null</td><td>null</td><td>null</td><td>null</td><td>null</td><td>null</td><td>null</td><td>null</td><td>null</td><td>null</td><td>null</td><td>null</td><td>null</td><td>null</td><td>null</td><td>null</td><td>null</td><td>null</td><td>null</td><td>null</td><td>null</td><td>null</td><td>null</td><td>null</td><td>null</td><td>null</td><td>null</td><td>null</td><td>null</td><td>null</td><td>null</td><td>null</td></tr><tr><td>Taco Stand</td><td>California </td><td>12/29/2017</td><td>null</td><td>null</td><td>null</td><td>null</td><td>null</td><td>null</td><td>7.89</td><td>4.0</td><td>null</td><td>null</td><td>19.0</td><td>23.0</td><td>0.8</td><td>4.0</td><td>3.0</td><td>4.0</td><td>4.0</td><td>3.0</td><td>4.0</td><td>3.5</td><td>4.3</td><td>4.5</td><td>4.2</td><td>null</td><td>Scott</td><td>null</td><td>null</td><td>null</td><td>null</td><td>null</td><td>null</td><td>null</td><td>null</td><td>null</td><td>null</td><td>null</td><td>null</td><td>null</td><td>null</td><td>null</td><td>null</td><td>null</td><td>null</td><td>null</td><td>null</td><td>null</td><td>null</td><td>null</td><td>null</td><td>null</td><td>null</td><td>null</td><td>null</td><td>null</td><td>null</td><td>null</td><td>null</td><td>null</td><td>null</td><td>null</td><td>null</td><td>null</td><td>null</td></tr><tr><td>Taco Stand</td><td>California </td><td>12/29/2017</td><td>null</td><td>null</td><td>null</td><td>null</td><td>null</td><td>null</td><td>7.89</td><td>5.0</td><td>null</td><td>null</td><td>20.0</td><td>21.5</td><td>0.74</td><td>5.0</td><td>5.0</td><td>5.0</td><td>5.0</td><td>4.0</td><td>4.0</td><td>5.0</td><td>5.0</td><td>3.0</td><td>4.5</td><td>null</td><td>Ben S</td><td>null</td><td>null</td><td>null</td><td>null</td><td>null</td><td>null</td><td>null</td><td>null</td><td>null</td><td>null</td><td>null</td><td>null</td><td>null</td><td>null</td><td>null</td><td>null</td><td>null</td><td>null</td><td>null</td><td>null</td><td>null</td><td>null</td><td>null</td><td>null</td><td>null</td><td>null</td><td>null</td><td>null</td><td>null</td><td>null</td><td>null</td><td>null</td><td>null</td><td>null</td><td>null</td><td>null</td><td>null</td><td>null</td></tr><tr><td>Lolita's Taco Shop</td><td>California</td><td>1/2/2018</td><td>null</td><td>null</td><td>null</td><td>null</td><td>null</td><td>null</td><td>7.25</td><td>4.0</td><td>null</td><td>null</td><td>null</td><td>null</td><td>null</td><td>4.0</td><td>5.0</td><td>4.0</td><td>5.0</td><td>5.0</td><td>3.0</td><td>3.0</td><td>4.0</td><td>5.0</td><td>3.5</td><td>Y</td><td>Ben S</td><td>null</td><td>null</td><td>null</td><td>null</td><td>null</td><td>null</td><td>null</td><td>null</td><td>null</td><td>null</td><td>null</td><td>null</td><td>null</td><td>null</td><td>null</td><td>null</td><td>null</td><td>null</td><td>null</td><td>null</td><td>null</td><td>null</td><td>null</td><td>null</td><td>null</td><td>null</td><td>null</td><td>null</td><td>null</td><td>null</td><td>null</td><td>null</td><td>null</td><td>null</td><td>null</td><td>null</td><td>null</td><td>null</td></tr><tr><td>El Patron</td><td>Breakfast</td><td>1/9/2018</td><td>National City</td><td>5065 Logan Ave</td><td>https://www.yelp.com/biz/el-patron-mexican-food-san-diego</td><td>4.5</td><td>3.8</td><td>null</td><td>4.19</td><td>3.0</td><td>null</td><td>null</td><td>null</td><td>null</td><td>null</td><td>3.0</td><td>5.0</td><td>2.0</td><td>2.0</td><td>4.0</td><td>1.0</td><td>4.0</td><td>3.0</td><td>4.0</td><td>2.0</td><td>N</td><td>Bernie form</td><td>They normally do better but this was a real disappointment. They eggs were over salted and dry while the beans were bland and runny. </td><td>x</td><td>null</td><td>null</td><td>null</td><td>null</td><td>x</td><td>null</td><td>x</td><td>null</td><td>null</td><td>null</td><td>null</td><td>null</td><td>x</td><td>null</td><td>null</td><td>null</td><td>null</td><td>null</td><td>null</td><td>null</td><td>null</td><td>null</td><td>null</td><td>null</td><td>x</td><td>null</td><td>null</td><td>null</td><td>null</td><td>x</td><td>null</td><td>null</td><td>null</td><td>null</td><td>null</td><td>null</td></tr><tr><td>La Posta de Acapulco</td><td>California</td><td>1/12/2018</td><td>Hillcrest</td><td>3980 Third Ave</td><td>https://www.yelp.com/biz/la-posta-de-acapulcos-san-diego-2</td><td>3.5</td><td>4.3</td><td>null</td><td>7.0</td><td>5.0</td><td>null</td><td>null</td><td>null</td><td>null</td><td>null</td><td>5.0</td><td>5.0</td><td>5.0</td><td>5.0</td><td>5.0</td><td>5.0</td><td>4.0</td><td>5.0</td><td>5.0</td><td>4.8</td><td>Y</td><td>Chris form</td><td>best burrito in San Diego</td><td>x</td><td>null</td><td>null</td><td>null</td><td>null</td><td>null</td><td>null</td><td>null</td><td>null</td><td>null</td><td>null</td><td>null</td><td>null</td><td>null</td><td>null</td><td>null</td><td>null</td><td>null</td><td>null</td><td>null</td><td>null</td><td>null</td><td>null</td><td>null</td><td>null</td><td>null</td><td>null</td><td>null</td><td>null</td><td>null</td><td>null</td><td>null</td><td>null</td><td>null</td><td>null</td><td>null</td><td>null</td></tr><tr><td>Los Tacos 2</td><td>Local</td><td>1/12/2018</td><td>null</td><td>null</td><td>null</td><td>null</td><td>null</td><td>null</td><td>8.5</td><td>4.0</td><td>null</td><td>null</td><td>21.0</td><td>23.5</td><td>0.92</td><td>4.0</td><td>4.0</td><td>3.0</td><td>3.5</td><td>1.0</td><td>2.0</td><td>3.0</td><td>3.0</td><td>1.0</td><td>3.0</td><td>N</td><td>Scott</td><td>null</td><td>null</td><td>null</td><td>null</td><td>null</td><td>null</td><td>null</td><td>null</td><td>null</td><td>null</td><td>null</td><td>null</td><td>null</td><td>null</td><td>null</td><td>null</td><td>null</td><td>null</td><td>null</td><td>null</td><td>null</td><td>null</td><td>null</td><td>null</td><td>null</td><td>null</td><td>null</td><td>null</td><td>null</td><td>null</td><td>null</td><td>null</td><td>null</td><td>null</td><td>null</td><td>null</td><td>null</td><td>null</td></tr><tr><td>Rigoberto's Taco Shop</td><td>Carne asada</td><td>4/4/2018</td><td>null</td><td>null</td><td>null</td><td>null</td><td>null</td><td>null</td><td>7.2</td><td>3.0</td><td>null</td><td>null</td><td>24.5</td><td>22.7</td><td>1.0</td><td>4.0</td><td>5.0</td><td>4.0</td><td>3.0</td><td>3.0</td><td>3.0</td><td>4.0</td><td>3.0</td><td>4.0</td><td>4.0</td><td>null</td><td>Han Mee</td><td>Meat is cooked well with good overall flavor, could use a little more salk</td><td>null</td><td>null</td><td>x</td><td>x</td><td>x</td><td>null</td><td>null</td><td>null</td><td>null</td><td>null</td><td>null</td><td>null</td><td>null</td><td>null</td><td>null</td><td>null</td><td>null</td><td>null</td><td>null</td><td>null</td><td>null</td><td>null</td><td>null</td><td>null</td><td>null</td><td>null</td><td>null</td><td>null</td><td>null</td><td>null</td><td>null</td><td>null</td><td>null</td><td>null</td><td>null</td><td>null</td><td>null</td></tr><tr><td>Taco Villa</td><td>Carnitas</td><td>4/9/2018</td><td>null</td><td>null</td><td>null</td><td>null</td><td>null</td><td>null</td><td>5.99</td><td>3.0</td><td>null</td><td>null</td><td>20.0</td><td>23.0</td><td>0.84</td><td>3.5</td><td>5.0</td><td>4.3</td><td>3.5</td><td>5.0</td><td>4.0</td><td>3.0</td><td>3.8</td><td>2.0</td><td>4.1</td><td>null</td><td>Scott</td><td>null</td><td>null</td><td>null</td><td>null</td><td>x</td><td>x</td><td>null</td><td>null</td><td>null</td><td>x</td><td>null</td><td>null</td><td>null</td><td>null</td><td>null</td><td>null</td><td>null</td><td>null</td><td>null</td><td>null</td><td>null</td><td>null</td><td>null</td><td>null</td><td>null</td><td>null</td><td>null</td><td>null</td><td>null</td><td>null</td><td>null</td><td>null</td><td>null</td><td>null</td><td>null</td><td>null</td><td>null</td><td>null</td></tr><tr><td>Taco Villa</td><td>Carnitas</td><td>4/9/2018</td><td>null</td><td>null</td><td>null</td><td>null</td><td>null</td><td>null</td><td>5.99</td><td>3.5</td><td>null</td><td>null</td><td>17.5</td><td>24.0</td><td>0.8</td><td>4.0</td><td>4.5</td><td>5.0</td><td>4.5</td><td>5.0</td><td>4.0</td><td>4.0</td><td>4.5</td><td>4.0</td><td>4.0</td><td>null</td><td>Nuttida </td><td>null</td><td>null</td><td>null</td><td>null</td><td>x</td><td>x</td><td>null</td><td>null</td><td>null</td><td>x</td><td>null</td><td>null</td><td>null</td><td>null</td><td>null</td><td>null</td><td>null</td><td>null</td><td>null</td><td>null</td><td>null</td><td>null</td><td>null</td><td>null</td><td>null</td><td>null</td><td>null</td><td>null</td><td>null</td><td>null</td><td>null</td><td>null</td><td>null</td><td>null</td><td>null</td><td>null</td><td>null</td><td>null</td></tr><tr><td>Taco Villa</td><td>Carnitas</td><td>4/9/2018</td><td>null</td><td>null</td><td>null</td><td>null</td><td>null</td><td>null</td><td>5.99</td><td>2.0</td><td>null</td><td>null</td><td>19.0</td><td>24.5</td><td>0.91</td><td>2.0</td><td>3.5</td><td>4.5</td><td>4.0</td><td>4.0</td><td>2.0</td><td>3.0</td><td>4.0</td><td>2.0</td><td>3.5</td><td>null</td><td>Elynn</td><td>null</td><td>null</td><td>null</td><td>null</td><td>x</td><td>x</td><td>null</td><td>null</td><td>null</td><td>x</td><td>null</td><td>null</td><td>null</td><td>null</td><td>null</td><td>null</td><td>null</td><td>null</td><td>null</td><td>null</td><td>null</td><td>null</td><td>null</td><td>null</td><td>null</td><td>null</td><td>null</td><td>null</td><td>null</td><td>null</td><td>null</td><td>null</td><td>null</td><td>null</td><td>null</td><td>null</td><td>null</td><td>null</td></tr><tr><td>Mikes Taco Club</td><td>California</td><td>4/14/2018</td><td>null</td><td>null</td><td>null</td><td>null</td><td>null</td><td>null</td><td>8.99</td><td>4.0</td><td>null</td><td>null</td><td>25.0</td><td>23.0</td><td>1.05</td><td>4.5</td><td>4.5</td><td>4.0</td><td>4.0</td><td>3.0</td><td>4.0</td><td>3.5</td><td>4.0</td><td>3.0</td><td>4.2</td><td>null</td><td>Scott</td><td>null</td><td>null</td><td>null</td><td>x</td><td>x</td><td>x</td><td>x</td><td>x</td><td>x</td><td>null</td><td>null</td><td>null</td><td>null</td><td>null</td><td>null</td><td>null</td><td>null</td><td>null</td><td>null</td><td>null</td><td>null</td><td>null</td><td>null</td><td>null</td><td>null</td><td>null</td><td>null</td><td>null</td><td>null</td><td>null</td><td>null</td><td>null</td><td>null</td><td>null</td><td>null</td><td>null</td><td>null</td><td>null</td></tr><tr><td>Mikes Taco Club</td><td>California</td><td>4/14/2018</td><td>null</td><td>null</td><td>null</td><td>null</td><td>null</td><td>null</td><td>8.99</td><td>4.0</td><td>null</td><td>null</td><td>24.0</td><td>22.0</td><td>0.92</td><td>4.5</td><td>5.0</td><td>3.5</td><td>4.0</td><td>4.0</td><td>4.0</td><td>null</td><td>2.5</td><td>1.5</td><td>3.8</td><td>null</td><td>Sage</td><td>null</td><td>null</td><td>null</td><td>x</td><td>x</td><td>x</td><td>x</td><td>x</td><td>x</td><td>null</td><td>null</td><td>null</td><td>null</td><td>null</td><td>null</td><td>null</td><td>null</td><td>null</td><td>null</td><td>null</td><td>null</td><td>null</td><td>null</td><td>null</td><td>null</td><td>null</td><td>null</td><td>null</td><td>null</td><td>null</td><td>null</td><td>null</td><td>null</td><td>null</td><td>null</td><td>null</td><td>null</td><td>null</td></tr><tr><td>Taco Villa</td><td>Chile Verde (pork)</td><td>4/16/2018</td><td>null</td><td>null</td><td>null</td><td>null</td><td>null</td><td>null</td><td>5.99</td><td>3.5</td><td>null</td><td>null</td><td>17.0</td><td>21.5</td><td>0.63</td><td>4.0</td><td>4.5</td><td>3.5</td><td>3.0</td><td>4.5</td><td>3.0</td><td>3.0</td><td>2.5</td><td>2.5</td><td>3.6</td><td>null</td><td>Scott</td><td>null</td><td>null</td><td>null</td><td>null</td><td>null</td><td>null</td><td>null</td><td>null</td><td>null</td><td>x</td><td>null</td><td>null</td><td>null</td><td>null</td><td>x</td><td>null</td><td>null</td><td>null</td><td>null</td><td>null</td><td>null</td><td>x</td><td>null</td><td>null</td><td>null</td><td>null</td><td>null</td><td>null</td><td>null</td><td>null</td><td>null</td><td>null</td><td>null</td><td>null</td><td>null</td><td>null</td><td>null</td><td>null</td></tr><tr><td>El Zarape</td><td>Supreme chicken</td><td>4/16/2018</td><td>null</td><td>null</td><td>null</td><td>null</td><td>null</td><td>null</td><td>7.5</td><td>4.0</td><td>null</td><td>null</td><td>18.0</td><td>22.0</td><td>0.69</td><td>4.0</td><td>4.0</td><td>3.5</td><td>4.2</td><td>4.5</td><td>4.3</td><td>3.0</td><td>4.0</td><td>4.5</td><td>3.8</td><td>null</td><td>Tom</td><td>null</td><td>null</td><td>null</td><td>null</td><td>null</td><td>x</td><td>x</td><td>null</td><td>null</td><td>null</td><td>x</td><td>null</td><td>null</td><td>x</td><td>x</td><td>null</td><td>null</td><td>null</td><td>null</td><td>null</td><td>null</td><td>null</td><td>null</td><td>null</td><td>null</td><td>null</td><td>null</td><td>null</td><td>null</td><td>null</td><td>null</td><td>null</td><td>null</td><td>null</td><td>null</td><td>null</td><td>null</td><td>null</td></tr><tr><td>Taco Villa</td><td>Carnitas</td><td>4/20/2018</td><td>null</td><td>null</td><td>null</td><td>null</td><td>null</td><td>null</td><td>5.99</td><td>3.0</td><td>null</td><td>null</td><td>20.0</td><td>20.5</td><td>0.67</td><td>2.0</td><td>5.0</td><td>4.5</td><td>3.5</td><td>4.5</td><td>4.5</td><td>2.5</td><td>3.5</td><td>1.5</td><td>4.0</td><td>null</td><td>Scott</td><td>so greasy. But grilled onions are good</td><td>null</td><td>null</td><td>null</td><td>null</td><td>null</td><td>null</td><td>null</td><td>null</td><td>null</td><td>null</td><td>null</td><td>null</td><td>null</td><td>null</td><td>null</td><td>null</td><td>null</td><td>null</td><td>null</td><td>null</td><td>null</td><td>null</td><td>null</td><td>null</td><td>null</td><td>null</td><td>null</td><td>null</td><td>null</td><td>null</td><td>null</td><td>null</td><td>null</td><td>null</td><td>null</td><td>null</td><td>null</td></tr><tr><td>Taco Villa</td><td>Carnitas </td><td>4/20/2018</td><td>null</td><td>null</td><td>null</td><td>null</td><td>null</td><td>null</td><td>5.99</td><td>5.0</td><td>null</td><td>null</td><td>22.0</td><td>19.0</td><td>0.63</td><td>4.0</td><td>4.5</td><td>3.5</td><td>4.0</td><td>4.0</td><td>3.5</td><td>4.0</td><td>4.0</td><td>3.5</td><td>4.0</td><td>null</td><td>Nuttida</td><td>it was greasy. But he grilled onions made it good</td><td>null</td><td>null</td><td>null</td><td>null</td><td>null</td><td>null</td><td>null</td><td>null</td><td>null</td><td>null</td><td>null</td><td>null</td><td>null</td><td>null</td><td>null</td><td>null</td><td>null</td><td>null</td><td>null</td><td>null</td><td>null</td><td>null</td><td>null</td><td>null</td><td>null</td><td>null</td><td>null</td><td>null</td><td>null</td><td>null</td><td>null</td><td>null</td><td>null</td><td>null</td><td>null</td><td>null</td><td>null</td></tr><tr><td>Lucha Libre Carlsbad </td><td>Alambre california</td><td>4/21/2018</td><td>Carlsbad</td><td>2525 El Camino Real</td><td>https://www.yelp.com/biz/lucha-libre-gourmet-taco-shop-carlsbad</td><td>3.5</td><td>3.8</td><td>No</td><td>8.5</td><td>3.2</td><td>null</td><td>null</td><td>18.0</td><td>23.0</td><td>0.76</td><td>3.8</td><td>4.0</td><td>4.0</td><td>4.0</td><td>3.8</td><td>3.4</td><td>4.3</td><td>4.0</td><td>5.0</td><td>4.1</td><td>null</td><td>Scott</td><td>Not much bacon flavor</td><td>null</td><td>null</td><td>null</td><td>null</td><td>null</td><td>null</td><td>null</td><td>null</td><td>null</td><td>null</td><td>null</td><td>null</td><td>null</td><td>null</td><td>null</td><td>null</td><td>null</td><td>null</td><td>null</td><td>null</td><td>null</td><td>null</td><td>null</td><td>null</td><td>null</td><td>null</td><td>null</td><td>null</td><td>null</td><td>null</td><td>null</td><td>null</td><td>null</td><td>null</td><td>null</td><td>null</td><td>null</td></tr><tr><td>Lucha Libre Carlsbad </td><td>Surfin california</td><td>4/21/2018</td><td>null</td><td>null</td><td>null</td><td>null</td><td>null</td><td>null</td><td>9.5</td><td>3.0</td><td>null</td><td>null</td><td>19.0</td><td>24.0</td><td>0.87</td><td>3.5</td><td>3.0</td><td>3.8</td><td>4.0</td><td>3.8</td><td>4.5</td><td>4.5</td><td>4.0</td><td>5.0</td><td>3.9</td><td>null</td><td>Emily</td><td>Bad shrimp</td><td>null</td><td>null</td><td>null</td><td>null</td><td>null</td><td>null</td><td>null</td><td>null</td><td>null</td><td>null</td><td>null</td><td>null</td><td>null</td><td>null</td><td>null</td><td>null</td><td>null</td><td>null</td><td>null</td><td>null</td><td>null</td><td>null</td><td>null</td><td>null</td><td>null</td><td>null</td><td>null</td><td>null</td><td>null</td><td>null</td><td>null</td><td>null</td><td>null</td><td>null</td><td>null</td><td>null</td><td>null</td></tr><tr><td>Lucha Libre Carlsbad </td><td>Ado-haba california</td><td>4/29/2018</td><td>null</td><td>null</td><td>null</td><td>null</td><td>null</td><td>null</td><td>8.5</td><td>3.2</td><td>null</td><td>null</td><td>19.5</td><td>21.5</td><td>0.72</td><td>3.5</td><td>1.0</td><td>3.0</td><td>3.0</td><td>3.4</td><td>4.0</td><td>4.5</td><td>3.0</td><td>4.0</td><td>3.1</td><td>null</td><td>Scott</td><td>Had been made too early for pickup and got cold. Small in size </td><td>null</td><td>null</td><td>null</td><td>null</td><td>null</td><td>null</td><td>null</td><td>null</td><td>null</td><td>null</td><td>null</td><td>null</td><td>null</td><td>null</td><td>null</td><td>null</td><td>null</td><td>null</td><td>null</td><td>null</td><td>null</td><td>null</td><td>null</td><td>null</td><td>null</td><td>null</td><td>null</td><td>null</td><td>null</td><td>null</td><td>null</td><td>null</td><td>null</td><td>null</td><td>null</td><td>null</td><td>null</td></tr><tr><td>Lucha Libre Carlsbad </td><td>Ala tingada california</td><td>4/29/2018</td><td>null</td><td>null</td><td>null</td><td>null</td><td>null</td><td>null</td><td>8.5</td><td>3.0</td><td>null</td><td>null</td><td>18.0</td><td>19.0</td><td>0.52</td><td>3.0</td><td>2.5</td><td>3.5</td><td>3.0</td><td>1.0</td><td>1.0</td><td>4.0</td><td>3.5</td><td>5.0</td><td>1.5</td><td>null</td><td>Emily</td><td>tortilla became a filling half of the side. Puny size.</td><td>null</td><td>null</td><td>null</td><td>null</td><td>null</td><td>null</td><td>null</td><td>null</td><td>null</td><td>null</td><td>null</td><td>null</td><td>null</td><td>null</td><td>null</td><td>null</td><td>null</td><td>null</td><td>null</td><td>null</td><td>null</td><td>null</td><td>null</td><td>null</td><td>null</td><td>null</td><td>null</td><td>null</td><td>null</td><td>null</td><td>null</td><td>null</td><td>null</td><td>null</td><td>null</td><td>null</td><td>null</td></tr><tr><td>Taco Villa</td><td>California</td><td>5/1/2018</td><td>null</td><td>null</td><td>null</td><td>null</td><td>null</td><td>null</td><td>6.99</td><td>4.0</td><td>null</td><td>null</td><td>18.0</td><td>23.0</td><td>0.76</td><td>3.5</td><td>3.0</td><td>3.2</td><td>3.2</td><td>3.2</td><td>4.0</td><td>3.0</td><td>2.5</td><td>4.5</td><td>3.2</td><td>null</td><td>Scott</td><td>I ordered carnitas</td><td>null</td><td>null</td><td>null</td><td>null</td><td>null</td><td>null</td><td>null</td><td>null</td><td>null</td><td>null</td><td>null</td><td>null</td><td>null</td><td>null</td><td>null</td><td>null</td><td>null</td><td>null</td><td>null</td><td>null</td><td>null</td><td>null</td><td>null</td><td>null</td><td>null</td><td>null</td><td>null</td><td>null</td><td>null</td><td>null</td><td>null</td><td>null</td><td>null</td><td>null</td><td>null</td><td>null</td><td>null</td></tr><tr><td>Taco Villa</td><td>Carnitas</td><td>5/7/2018</td><td>null</td><td>null</td><td>null</td><td>null</td><td>null</td><td>null</td><td>5.99</td><td>3.5</td><td>null</td><td>null</td><td>19.5</td><td>21.0</td><td>0.68</td><td>2.5</td><td>3.0</td><td>4.0</td><td>3.5</td><td>2.5</td><td>2.5</td><td>3.3</td><td>3.0</td><td>4.0</td><td>3.7</td><td>null</td><td>Scott</td><td>Worse than usual</td><td>null</td><td>null</td><td>null</td><td>null</td><td>null</td><td>null</td><td>null</td><td>null</td><td>null</td><td>null</td><td>null</td><td>null</td><td>null</td><td>null</td><td>null</td><td>null</td><td>null</td><td>null</td><td>null</td><td>null</td><td>null</td><td>null</td><td>null</td><td>null</td><td>null</td><td>null</td><td>null</td><td>null</td><td>null</td><td>null</td><td>null</td><td>null</td><td>null</td><td>null</td><td>null</td><td>null</td><td>null</td></tr><tr><td>Taco Villa</td><td>Carnitas</td><td>5/7/2018</td><td>null</td><td>null</td><td>null</td><td>null</td><td>null</td><td>null</td><td>5.99</td><td>3.5</td><td>null</td><td>null</td><td>18.5</td><td>24.0</td><td>0.85</td><td>4.0</td><td>4.0</td><td>4.5</td><td>4.0</td><td>4.5</td><td>5.0</td><td>4.0</td><td>4.0</td><td>null</td><td>4.5</td><td>null</td><td>Nuttida</td><td>I like the onions</td><td>null</td><td>null</td><td>null</td><td>null</td><td>null</td><td>null</td><td>null</td><td>null</td><td>null</td><td>null</td><td>null</td><td>null</td><td>null</td><td>null</td><td>null</td><td>null</td><td>null</td><td>null</td><td>null</td><td>null</td><td>null</td><td>null</td><td>null</td><td>null</td><td>null</td><td>null</td><td>null</td><td>null</td><td>null</td><td>null</td><td>null</td><td>null</td><td>null</td><td>null</td><td>null</td><td>null</td><td>null</td></tr><tr><td>Tony's Fresh Mexican Food</td><td>La Paz</td><td>5/22/2018</td><td>null</td><td>null</td><td>null</td><td>null</td><td>null</td><td>null</td><td>9.99</td><td>5.0</td><td>null</td><td>null</td><td>20.0</td><td>22.0</td><td>0.77</td><td>4.0</td><td>4.0</td><td>3.0</td><td>3.0</td><td>5.0</td><td>3.5</td><td>null</td><td>3.0</td><td>4.5</td><td>4.0</td><td>null</td><td>Hannah</td><td>null</td><td>null</td><td>null</td><td>null</td><td>null</td><td>null</td><td>null</td><td>null</td><td>null</td><td>null</td><td>null</td><td>null</td><td>null</td><td>null</td><td>null</td><td>null</td><td>null</td><td>null</td><td>null</td><td>null</td><td>null</td><td>null</td><td>null</td><td>null</td><td>null</td><td>null</td><td>null</td><td>null</td><td>null</td><td>null</td><td>null</td><td>null</td><td>null</td><td>null</td><td>null</td><td>null</td><td>null</td><td>null</td></tr><tr><td>Tony's Fresh Mexican Food</td><td>La Paz</td><td>5/22/2018</td><td>null</td><td>null</td><td>null</td><td>null</td><td>null</td><td>null</td><td>9.99</td><td>4.0</td><td>null</td><td>null</td><td>20.0</td><td>22.0</td><td>0.77</td><td>5.0</td><td>5.0</td><td>3.0</td><td>3.0</td><td>4.0</td><td>4.0</td><td>2.0</td><td>4.0</td><td>3.0</td><td>4.0</td><td>null</td><td>Mike</td><td>null</td><td>null</td><td>null</td><td>null</td><td>null</td><td>null</td><td>null</td><td>null</td><td>null</td><td>null</td><td>null</td><td>null</td><td>null</td><td>null</td><td>null</td><td>null</td><td>null</td><td>null</td><td>null</td><td>null</td><td>null</td><td>null</td><td>null</td><td>null</td><td>null</td><td>null</td><td>null</td><td>null</td><td>null</td><td>null</td><td>null</td><td>null</td><td>null</td><td>null</td><td>null</td><td>null</td><td>null</td><td>null</td></tr><tr><td>Tony's Fresh Mexican Food</td><td>Adobada</td><td>5/22/2018</td><td>null</td><td>null</td><td>null</td><td>null</td><td>null</td><td>null</td><td>7.39</td><td>4.0</td><td>null</td><td>null</td><td>24.0</td><td>21.0</td><td>0.84</td><td>5.0</td><td>4.0</td><td>4.0</td><td>3.0</td><td>4.0</td><td>5.0</td><td>4.0</td><td>4.0</td><td>5.0</td><td>4.0</td><td>null</td><td>Nick G.</td><td>null</td><td>null</td><td>null</td><td>null</td><td>null</td><td>null</td><td>null</td><td>null</td><td>null</td><td>null</td><td>null</td><td>null</td><td>null</td><td>null</td><td>null</td><td>null</td><td>null</td><td>null</td><td>null</td><td>null</td><td>null</td><td>null</td><td>null</td><td>null</td><td>null</td><td>null</td><td>null</td><td>null</td><td>null</td><td>null</td><td>null</td><td>null</td><td>null</td><td>null</td><td>null</td><td>null</td><td>null</td><td>null</td></tr><tr><td>Tony's Fresh Mexican Food</td><td>Adobada</td><td>5/22/2018</td><td>null</td><td>null</td><td>null</td><td>null</td><td>null</td><td>null</td><td>7.39</td><td>4.5</td><td>null</td><td>null</td><td>21.0</td><td>22.5</td><td>0.85</td><td>3.5</td><td>4.5</td><td>4.0</td><td>3.5</td><td>2.0</td><td>1.0</td><td>3.5</td><td>3.5</td><td>4.0</td><td>3.5</td><td>null</td><td>Ricardo</td><td>null</td><td>null</td><td>null</td><td>null</td><td>null</td><td>null</td><td>null</td><td>null</td><td>null</td><td>null</td><td>null</td><td>null</td><td>null</td><td>null</td><td>null</td><td>null</td><td>null</td><td>null</td><td>null</td><td>null</td><td>null</td><td>null</td><td>null</td><td>null</td><td>null</td><td>null</td><td>null</td><td>null</td><td>null</td><td>null</td><td>null</td><td>null</td><td>null</td><td>null</td><td>null</td><td>null</td><td>null</td><td>null</td></tr><tr><td>Tony's Fresh Mexican Food</td><td>Veggie</td><td>5/22/2018</td><td>null</td><td>null</td><td>null</td><td>null</td><td>null</td><td>null</td><td>7.39</td><td>4.0</td><td>null</td><td>null</td><td>22.0</td><td>20.0</td><td>0.7</td><td>3.0</td><td>5.0</td><td>null</td><td>3.0</td><td>null</td><td>4.0</td><td>null</td><td>3.0</td><td>4.0</td><td>3.5</td><td>null</td><td>Erin</td><td>null</td><td>null</td><td>null</td><td>null</td><td>null</td><td>null</td><td>null</td><td>null</td><td>null</td><td>null</td><td>null</td><td>null</td><td>null</td><td>null</td><td>null</td><td>null</td><td>null</td><td>null</td><td>null</td><td>null</td><td>null</td><td>null</td><td>null</td><td>null</td><td>null</td><td>null</td><td>null</td><td>null</td><td>null</td><td>null</td><td>null</td><td>null</td><td>null</td><td>null</td><td>null</td><td>null</td><td>null</td><td>null</td></tr><tr><td>Taco Stand</td><td>California</td><td>11/6/2018</td><td>null</td><td>null</td><td>null</td><td>null</td><td>null</td><td>null</td><td>8.0</td><td>4.0</td><td>null</td><td>null</td><td>21.5</td><td>24.0</td><td>0.99</td><td>5.0</td><td>5.0</td><td>5.0</td><td>4.5</td><td>5.0</td><td>5.0</td><td>5.0</td><td>5.0</td><td>5.0</td><td>4.9</td><td>null</td><td>Jeff</td><td>Very unique seasoning tortilla didn't feel heavy at all. Charness is very subjective. Great balance. Didn't burn mouth. Not cold. Would marry.</td><td>x</td><td>null</td><td>null</td><td>null</td><td>null</td><td>null</td><td>null</td><td>null</td><td>null</td><td>null</td><td>null</td><td>null</td><td>null</td><td>null</td><td>null</td><td>null</td><td>null</td><td>null</td><td>null</td><td>null</td><td>null</td><td>null</td><td>null</td><td>null</td><td>null</td><td>null</td><td>null</td><td>null</td><td>null</td><td>null</td><td>null</td><td>null</td><td>null</td><td>null</td><td>null</td><td>null</td><td>null</td></tr><tr><td>Kotija Jr</td><td>California</td><td>8/24/2019</td><td>null</td><td>null</td><td>null</td><td>null</td><td>null</td><td>null</td><td>8.0</td><td>4.0</td><td>null</td><td>null</td><td>null</td><td>null</td><td>null</td><td>4.0</td><td>4.5</td><td>3.5</td><td>4.0</td><td>4.0</td><td>5.0</td><td>4.7</td><td>4.0</td><td>5.0</td><td>4.1</td><td>null</td><td>Scott</td><td>null</td><td>null</td><td>null</td><td>null</td><td>null</td><td>null</td><td>null</td><td>null</td><td>null</td><td>null</td><td>null</td><td>null</td><td>null</td><td>null</td><td>null</td><td>null</td><td>null</td><td>null</td><td>null</td><td>null</td><td>null</td><td>null</td><td>null</td><td>null</td><td>null</td><td>null</td><td>null</td><td>null</td><td>null</td><td>null</td><td>null</td><td>null</td><td>null</td><td>null</td><td>null</td><td>null</td><td>null</td><td>null</td></tr><tr><td>Valentine's Mexican Food</td><td>Pollo asado</td><td>8/27/2019</td><td>null</td><td>null</td><td>null</td><td>null</td><td>null</td><td>null</td><td>5.5</td><td>2.0</td><td>null</td><td>null</td><td>19.0</td><td>23.0</td><td>0.8</td><td>4.5</td><td>5.0</td><td>5.0</td><td>3.5</td><td>4.0</td><td>4.5</td><td>4.0</td><td>4.9</td><td>4.5</td><td>4.8</td><td>null</td><td>Claire</td><td>null</td><td>null</td><td>null</td><td>null</td><td>null</td><td>null</td><td>null</td><td>null</td><td>null</td><td>null</td><td>null</td><td>null</td><td>null</td><td>null</td><td>null</td><td>null</td><td>null</td><td>null</td><td>null</td><td>null</td><td>null</td><td>null</td><td>null</td><td>null</td><td>null</td><td>null</td><td>null</td><td>null</td><td>null</td><td>null</td><td>null</td><td>null</td><td>null</td><td>null</td><td>null</td><td>null</td><td>null</td><td>null</td></tr><tr><td>Valentine's Mexican Food</td><td>Carne asada</td><td>8/27/2019</td><td>null</td><td>null</td><td>null</td><td>null</td><td>null</td><td>null</td><td>6.75</td><td>3.0</td><td>null</td><td>null</td><td>19.0</td><td>25.0</td><td>0.94</td><td>3.0</td><td>4.0</td><td>4.0</td><td>3.0</td><td>4.0</td><td>4.0</td><td>3.0</td><td>3.0</td><td>5.0</td><td>4.0</td><td>null</td><td>Derek</td><td>nom nom</td><td>null</td><td>null</td><td>null</td><td>null</td><td>null</td><td>null</td><td>null</td><td>null</td><td>null</td><td>null</td><td>null</td><td>null</td><td>null</td><td>null</td><td>null</td><td>null</td><td>null</td><td>null</td><td>null</td><td>null</td><td>null</td><td>null</td><td>null</td><td>null</td><td>null</td><td>null</td><td>null</td><td>null</td><td>null</td><td>null</td><td>null</td><td>null</td><td>null</td><td>null</td><td>null</td><td>null</td><td>null</td></tr><tr><td>Valentine's Mexican Food</td><td>Al Pastor</td><td>8/27/2019</td><td>null</td><td>null</td><td>null</td><td>null</td><td>null</td><td>null</td><td>6.0</td><td>3.0</td><td>null</td><td>null</td><td>17.5</td><td>21.5</td><td>0.64</td><td>4.0</td><td>4.0</td><td>4.5</td><td>4.0</td><td>3.0</td><td>3.0</td><td>4.5</td><td>4.0</td><td>4.5</td><td>4.0</td><td>null</td><td>Max</td><td>null</td><td>null</td><td>null</td><td>null</td><td>null</td><td>null</td><td>null</td><td>null</td><td>null</td><td>null</td><td>null</td><td>null</td><td>null</td><td>null</td><td>null</td><td>null</td><td>null</td><td>null</td><td>null</td><td>null</td><td>null</td><td>null</td><td>null</td><td>null</td><td>null</td><td>null</td><td>null</td><td>null</td><td>null</td><td>null</td><td>null</td><td>null</td><td>null</td><td>null</td><td>null</td><td>null</td><td>null</td><td>null</td></tr><tr><td>Valentine's Mexican Food</td><td>California</td><td>8/27/2019</td><td>null</td><td>null</td><td>null</td><td>null</td><td>null</td><td>null</td><td>7.9</td><td>2.0</td><td>null</td><td>null</td><td>17.0</td><td>22.0</td><td>0.65</td><td>4.5</td><td>3.0</td><td>4.0</td><td>4.5</td><td>2.5</td><td>3.5</td><td>4.0</td><td>5.0</td><td>5.0</td><td>4.25</td><td>null</td><td>Aaron K</td><td>null</td><td>null</td><td>null</td><td>null</td><td>null</td><td>null</td><td>null</td><td>null</td><td>null</td><td>null</td><td>null</td><td>null</td><td>null</td><td>null</td><td>null</td><td>null</td><td>null</td><td>null</td><td>null</td><td>null</td><td>null</td><td>null</td><td>null</td><td>null</td><td>null</td><td>null</td><td>null</td><td>null</td><td>null</td><td>null</td><td>null</td><td>null</td><td>null</td><td>null</td><td>null</td><td>null</td><td>null</td><td>null</td></tr><tr><td>Valentine's Mexican Food</td><td>Al Pastor</td><td>8/27/2019</td><td>null</td><td>null</td><td>null</td><td>null</td><td>null</td><td>null</td><td>6.0</td><td>1.0</td><td>null</td><td>null</td><td>17.0</td><td>20.5</td><td>0.57</td><td>5.0</td><td>4.0</td><td>3.5</td><td>null</td><td>4.0</td><td>4.0</td><td>2.0</td><td>2.0</td><td>5.0</td><td>3.5</td><td>null</td><td>Anon</td><td>null</td><td>null</td><td>null</td><td>null</td><td>null</td><td>null</td><td>null</td><td>null</td><td>null</td><td>null</td><td>null</td><td>null</td><td>null</td><td>null</td><td>null</td><td>null</td><td>null</td><td>null</td><td>null</td><td>null</td><td>null</td><td>null</td><td>null</td><td>null</td><td>null</td><td>null</td><td>null</td><td>null</td><td>null</td><td>null</td><td>null</td><td>null</td><td>null</td><td>null</td><td>null</td><td>null</td><td>null</td><td>null</td></tr><tr><td>Valentine's Mexican Food</td><td>Chile Relleno</td><td>8/27/2019</td><td>null</td><td>null</td><td>null</td><td>null</td><td>null</td><td>null</td><td>6.0</td><td>4.0</td><td>null</td><td>null</td><td>19.0</td><td>26.0</td><td>1.02</td><td>4.0</td><td>5.0</td><td>null</td><td>3.5</td><td>4.0</td><td>4.0</td><td>5.0</td><td>4.0</td><td>3.0</td><td>4.0</td><td>null</td><td>Bonnie</td><td>non-symmetric wrapping</td><td>null</td><td>null</td><td>null</td><td>null</td><td>null</td><td>null</td><td>null</td><td>null</td><td>null</td><td>null</td><td>null</td><td>null</td><td>null</td><td>null</td><td>null</td><td>null</td><td>null</td><td>null</td><td>null</td><td>null</td><td>null</td><td>null</td><td>null</td><td>null</td><td>null</td><td>null</td><td>null</td><td>null</td><td>null</td><td>null</td><td>null</td><td>null</td><td>null</td><td>null</td><td>null</td><td>null</td><td>null</td></tr><tr><td>Valentine's Mexican Food</td><td>California</td><td>8/27/2019</td><td>null</td><td>null</td><td>null</td><td>null</td><td>null</td><td>null</td><td>7.9</td><td>3.0</td><td>null</td><td>null</td><td>20.0</td><td>22.0</td><td>0.77</td><td>4.0</td><td>4.0</td><td>4.0</td><td>3.7</td><td>3.0</td><td>2.0</td><td>3.5</td><td>4.0</td><td>4.5</td><td>3.5</td><td>null</td><td>Scott</td><td>way too small and not enough meat</td><td>null</td><td>null</td><td>null</td><td>null</td><td>null</td><td>null</td><td>null</td><td>null</td><td>null</td><td>null</td><td>null</td><td>null</td><td>null</td><td>null</td><td>null</td><td>null</td><td>null</td><td>null</td><td>null</td><td>null</td><td>null</td><td>null</td><td>null</td><td>null</td><td>null</td><td>null</td><td>null</td><td>null</td><td>null</td><td>null</td><td>null</td><td>null</td><td>null</td><td>null</td><td>null</td><td>null</td><td>null</td></tr><tr><td>Valentine's Mexican Food</td><td>Shrimp</td><td>8/27/2019</td><td>null</td><td>null</td><td>null</td><td>null</td><td>null</td><td>null</td><td>7.9</td><td>3.0</td><td>null</td><td>null</td><td>22.5</td><td>24.5</td><td>1.07</td><td>5.0</td><td>2.0</td><td>5.0</td><td>5.0</td><td>5.0</td><td>2.0</td><td>5.0</td><td>5.0</td><td>2.0</td><td>4.0</td><td>null</td><td>AC</td><td>null</td><td>null</td><td>null</td><td>null</td><td>null</td><td>null</td><td>null</td><td>null</td><td>null</td><td>null</td><td>null</td><td>null</td><td>null</td><td>null</td><td>null</td><td>null</td><td>null</td><td>null</td><td>null</td><td>null</td><td>null</td><td>null</td><td>null</td><td>null</td><td>null</td><td>null</td><td>null</td><td>null</td><td>null</td><td>null</td><td>null</td><td>null</td><td>null</td><td>null</td><td>null</td><td>null</td><td>null</td><td>null</td></tr><tr><td>Valentine's Mexican Food</td><td>Pollo Asado</td><td>8/27/2019</td><td>null</td><td>null</td><td>null</td><td>null</td><td>null</td><td>null</td><td>5.5</td><td>3.5</td><td>null</td><td>null</td><td>17.0</td><td>21.3</td><td>0.61</td><td>3.0</td><td>5.0</td><td>4.3</td><td>4.0</td><td>4.9</td><td>3.8</td><td>3.0</td><td>4.5</td><td>4.0</td><td>4.6</td><td>null</td><td>Sisi</td><td>i wish there was some really bomb hot sauce, the tortilla is a bit dry</td><td>null</td><td>null</td><td>null</td><td>null</td><td>null</td><td>null</td><td>null</td><td>null</td><td>null</td><td>null</td><td>null</td><td>null</td><td>null</td><td>null</td><td>null</td><td>null</td><td>null</td><td>null</td><td>null</td><td>null</td><td>null</td><td>null</td><td>null</td><td>null</td><td>null</td><td>null</td><td>null</td><td>null</td><td>null</td><td>null</td><td>null</td><td>null</td><td>null</td><td>null</td><td>null</td><td>null</td><td>null</td></tr></tbody></table></div>"
      ]
     },
     "metadata": {},
     "output_type": "display_data"
    }
   ],
   "source": [
    "display(df)"
   ]
  },
  {
   "cell_type": "markdown",
   "metadata": {},
   "source": [
    "#### Dataset dimensions"
   ]
  },
  {
   "cell_type": "code",
   "execution_count": 9,
   "metadata": {},
   "outputs": [
    {
     "data": {
      "text/html": [
       "<style scoped>\n",
       "  .ansiout {\n",
       "    display: block;\n",
       "    unicode-bidi: embed;\n",
       "    white-space: pre-wrap;\n",
       "    word-wrap: break-word;\n",
       "    word-break: break-all;\n",
       "    font-family: \"Source Code Pro\", \"Menlo\", monospace;;\n",
       "    font-size: 13px;\n",
       "    color: #555;\n",
       "    margin-left: 4px;\n",
       "    line-height: 19px;\n",
       "  }\n",
       "</style>\n",
       "<div class=\"ansiout\">There are 423 observations and 66 columns in the dataset.\n",
       "</div>"
      ]
     },
     "metadata": {},
     "output_type": "display_data"
    }
   ],
   "source": [
    "#Dataset dimensions:\n",
    "N = df.count() #N observations\n",
    "P = len(df.columns) #P columns\n",
    "print(f'There are {N} observations and {P} columns in the dataset.')"
   ]
  },
  {
   "cell_type": "markdown",
   "metadata": {},
   "source": [
    "## 2 Data Cleaning"
   ]
  },
  {
   "cell_type": "markdown",
   "metadata": {},
   "source": [
    "### 2.1 Observations ID"
   ]
  },
  {
   "cell_type": "markdown",
   "metadata": {},
   "source": [
    "The dataset does not contain the id for each observation, we can do so as followed:"
   ]
  },
  {
   "cell_type": "code",
   "execution_count": 13,
   "metadata": {},
   "outputs": [
    {
     "data": {
      "text/html": [
       "<style scoped>\n",
       "  .ansiout {\n",
       "    display: block;\n",
       "    unicode-bidi: embed;\n",
       "    white-space: pre-wrap;\n",
       "    word-wrap: break-word;\n",
       "    word-break: break-all;\n",
       "    font-family: \"Source Code Pro\", \"Menlo\", monospace;;\n",
       "    font-size: 13px;\n",
       "    color: #555;\n",
       "    margin-left: 4px;\n",
       "    line-height: 19px;\n",
       "  }\n",
       "</style>\n",
       "<div class=\"ansiout\"></div>"
      ]
     },
     "metadata": {},
     "output_type": "display_data"
    }
   ],
   "source": [
    "df = df.withColumn('id', fn.monotonically_increasing_id())"
   ]
  },
  {
   "cell_type": "markdown",
   "metadata": {},
   "source": [
    "### 2.2 Handling missing values"
   ]
  },
  {
   "cell_type": "markdown",
   "metadata": {},
   "source": [
    "Before computing preliminary descriptive statistics and reformatting variable, let's display the number of missing values per column:"
   ]
  },
  {
   "cell_type": "code",
   "execution_count": 16,
   "metadata": {},
   "outputs": [
    {
     "data": {
      "text/html": [
       "<style scoped>\n",
       "  .table-result-container {\n",
       "    max-height: 300px;\n",
       "    overflow: auto;\n",
       "  }\n",
       "  table, th, td {\n",
       "    border: 1px solid black;\n",
       "    border-collapse: collapse;\n",
       "  }\n",
       "  th, td {\n",
       "    padding: 5px;\n",
       "  }\n",
       "  th {\n",
       "    text-align: left;\n",
       "  }\n",
       "</style><div class='table-result-container'><table class='table-result'><thead style='background-color: white'><tr><th>Location</th><th>Burrito</th><th>Date</th><th>Neighborhood</th><th>Address</th><th>URL</th><th>Yelp</th><th>Google</th><th>Chips</th><th>Cost</th><th>Hunger</th><th>Mass (g)</th><th>Density (g/mL)</th><th>Length</th><th>Circum</th><th>Volume</th><th>Tortilla</th><th>Temp</th><th>Meat</th><th>Fillings</th><th>Meat:filling</th><th>Uniformity</th><th>Salsa22</th><th>Synergy</th><th>Wrap</th><th>overall</th><th>Rec</th><th>Reviewer</th><th>Notes</th><th>Unreliable</th><th>NonSD</th><th>Beef</th><th>Pico</th><th>Guac</th><th>Cheese</th><th>Fries</th><th>Sour cream</th><th>Pork</th><th>Chicken</th><th>Shrimp</th><th>Fish</th><th>Rice</th><th>Beans</th><th>Lettuce</th><th>Tomato</th><th>Bell peper</th><th>Carrots</th><th>Cabbage</th><th>Sauce</th><th>Salsa49</th><th>Cilantro</th><th>Onion</th><th>Taquito</th><th>Pineapple</th><th>Ham</th><th>Chile relleno</th><th>Nopales</th><th>Lobster</th><th>Queso</th><th>Egg</th><th>Mushroom</th><th>Bacon</th><th>Sushi</th><th>Avocado</th><th>Corn</th><th>Zucchini</th><th>id</th></tr></thead><tbody><tr><td>0</td><td>0</td><td>0</td><td>331</td><td>335</td><td>336</td><td>336</td><td>336</td><td>397</td><td>7</td><td>3</td><td>401</td><td>401</td><td>139</td><td>141</td><td>141</td><td>0</td><td>20</td><td>14</td><td>3</td><td>9</td><td>2</td><td>25</td><td>2</td><td>3</td><td>2</td><td>190</td><td>1</td><td>277</td><td>390</td><td>416</td><td>243</td><td>264</td><td>268</td><td>263</td><td>295</td><td>331</td><td>372</td><td>402</td><td>402</td><td>417</td><td>387</td><td>388</td><td>412</td><td>416</td><td>416</td><td>422</td><td>415</td><td>385</td><td>416</td><td>408</td><td>406</td><td>419</td><td>416</td><td>421</td><td>419</td><td>419</td><td>422</td><td>423</td><td>418</td><td>420</td><td>420</td><td>421</td><td>410</td><td>420</td><td>422</td><td>0</td></tr></tbody></table></div>"
      ]
     },
     "metadata": {},
     "output_type": "display_data"
    }
   ],
   "source": [
    "na_per_column = df.select([fn.count(fn.when(df[c].isNull(), c)).alias(c) for c in df.columns])\n",
    "display(na_per_column)"
   ]
  },
  {
   "cell_type": "markdown",
   "metadata": {},
   "source": [
    "For the rest of the project we have to keep in mind that the missing value format is expressed as 'null', hence isNull() or isNotNull() functions will be used instead of isna()."
   ]
  },
  {
   "cell_type": "markdown",
   "metadata": {},
   "source": [
    "#### 2.2.1 `Neighborhood`, `Adress`, `Yelp` & `Google`"
   ]
  },
  {
   "cell_type": "markdown",
   "metadata": {},
   "source": [
    "We noticed the columns `Neighborhood`, `Adress`, `Yelp`, `Google` only contain value for the first time a shop is rated in the dataset. We want to fill the NAs according to the `Location`, which is the **join key**. Hence we will filter the dataset accross distinct non null values then merge both data frames according to the `Location`."
   ]
  },
  {
   "cell_type": "code",
   "execution_count": 20,
   "metadata": {},
   "outputs": [
    {
     "data": {
      "text/html": [
       "<style scoped>\n",
       "  .table-result-container {\n",
       "    max-height: 300px;\n",
       "    overflow: auto;\n",
       "  }\n",
       "  table, th, td {\n",
       "    border: 1px solid black;\n",
       "    border-collapse: collapse;\n",
       "  }\n",
       "  th, td {\n",
       "    padding: 5px;\n",
       "  }\n",
       "  th {\n",
       "    text-align: left;\n",
       "  }\n",
       "</style><div class='table-result-container'><table class='table-result'><thead style='background-color: white'><tr><th>Location</th><th>Burrito</th><th>Date</th><th>Address</th><th>URL</th><th>Chips</th><th>Cost</th><th>Hunger</th><th>Mass (g)</th><th>Density (g/mL)</th><th>Length</th><th>Circum</th><th>Volume</th><th>Tortilla</th><th>Temp</th><th>Meat</th><th>Fillings</th><th>Meat:filling</th><th>Uniformity</th><th>Salsa22</th><th>Synergy</th><th>Wrap</th><th>overall</th><th>Rec</th><th>Reviewer</th><th>Notes</th><th>Unreliable</th><th>NonSD</th><th>Beef</th><th>Pico</th><th>Guac</th><th>Cheese</th><th>Fries</th><th>Sour cream</th><th>Pork</th><th>Chicken</th><th>Shrimp</th><th>Fish</th><th>Rice</th><th>Beans</th><th>Lettuce</th><th>Tomato</th><th>Bell peper</th><th>Carrots</th><th>Cabbage</th><th>Sauce</th><th>Salsa49</th><th>Cilantro</th><th>Onion</th><th>Taquito</th><th>Pineapple</th><th>Ham</th><th>Chile relleno</th><th>Nopales</th><th>Lobster</th><th>Queso</th><th>Egg</th><th>Mushroom</th><th>Bacon</th><th>Sushi</th><th>Avocado</th><th>Corn</th><th>Zucchini</th><th>id</th><th>Neighborhood</th><th>Yelp</th><th>Google</th></tr></thead><tbody><tr><td>Lolita's Taco shop</td><td>Carne asada</td><td>5/27/2016</td><td>null</td><td>null</td><td>null</td><td>6.25</td><td>4.0</td><td>null</td><td>null</td><td>15.0</td><td>20.5</td><td>0.5</td><td>1.5</td><td>2.5</td><td>3.0</td><td>4.5</td><td>4.0</td><td>2.0</td><td>2.75</td><td>3.75</td><td>3.0</td><td>2.6</td><td>No</td><td>Scott</td><td>Way too small</td><td>null</td><td>null</td><td>X</td><td>X</td><td>X</td><td>null</td><td>null</td><td>null</td><td>null</td><td>null</td><td>null</td><td>null</td><td>null</td><td>null</td><td>null</td><td>null</td><td>null</td><td>null</td><td>null</td><td>null</td><td>null</td><td>null</td><td>null</td><td>null</td><td>null</td><td>null</td><td>null</td><td>null</td><td>null</td><td>null</td><td>null</td><td>null</td><td>null</td><td>null</td><td>null</td><td>null</td><td>null</td><td>120</td><td>null</td><td>null</td><td>null</td></tr><tr><td>Lolita's Taco shop</td><td>Shrimp</td><td>5/27/2016</td><td>null</td><td>null</td><td>null</td><td>8.95</td><td>3.5</td><td>null</td><td>null</td><td>18.5</td><td>25.0</td><td>0.92</td><td>3.0</td><td>3.0</td><td>4.0</td><td>4.0</td><td>3.5</td><td>3.5</td><td>2.5</td><td>4.0</td><td>0.5</td><td>3.0</td><td>Yes</td><td>Emily</td><td>null</td><td>null</td><td>null</td><td>null</td><td>X</td><td>null</td><td>null</td><td>null</td><td>null</td><td>null</td><td>null</td><td>X</td><td>null</td><td>null</td><td>null</td><td>X</td><td>null</td><td>null</td><td>null</td><td>null</td><td>X</td><td>null</td><td>null</td><td>null</td><td>null</td><td>null</td><td>null</td><td>null</td><td>null</td><td>null</td><td>null</td><td>null</td><td>null</td><td>null</td><td>null</td><td>null</td><td>null</td><td>null</td><td>121</td><td>null</td><td>null</td><td>null</td></tr><tr><td>Lolita's Taco shop</td><td>Bean and cheese</td><td>5/27/2016</td><td>null</td><td>null</td><td>null</td><td>3.5</td><td>1.0</td><td>null</td><td>null</td><td>16.0</td><td>20.0</td><td>0.51</td><td>3.5</td><td>4.5</td><td>null</td><td>3.0</td><td>null</td><td>4.0</td><td>3.0</td><td>2.5</td><td>4.0</td><td>2.7</td><td>No</td><td>Scott</td><td>null</td><td>null</td><td>null</td><td>null</td><td>null</td><td>null</td><td>x</td><td>null</td><td>null</td><td>null</td><td>null</td><td>null</td><td>null</td><td>null</td><td>x</td><td>null</td><td>null</td><td>null</td><td>null</td><td>null</td><td>null</td><td>null</td><td>null</td><td>null</td><td>null</td><td>null</td><td>null</td><td>null</td><td>null</td><td>null</td><td>null</td><td>null</td><td>null</td><td>null</td><td>null</td><td>null</td><td>null</td><td>null</td><td>122</td><td>null</td><td>null</td><td>null</td></tr><tr><td>Tacos La Bala</td><td>Pastor</td><td>9/5/2016</td><td>5800 Bellaire Blvd</td><td>tacoslabala.com</td><td>null</td><td>4.99</td><td>3.5</td><td>null</td><td>null</td><td>null</td><td>null</td><td>null</td><td>2.5</td><td>2.5</td><td>4.0</td><td>2.5</td><td>1.0</td><td>1.0</td><td>2.0</td><td>4.0</td><td>0.0</td><td>2.5</td><td>No</td><td>Scott</td><td>Everything is in spanish. Get a taco or sope</td><td>null</td><td>X</td><td>null</td><td>null</td><td>null</td><td>null</td><td>null</td><td>null</td><td>null</td><td>null</td><td>null</td><td>null</td><td>null</td><td>null</td><td>null</td><td>null</td><td>null</td><td>null</td><td>null</td><td>null</td><td>null</td><td>null</td><td>null</td><td>null</td><td>null</td><td>null</td><td>null</td><td>null</td><td>null</td><td>null</td><td>null</td><td>null</td><td>null</td><td>null</td><td>null</td><td>null</td><td>null</td><td>222</td><td>Houston</td><td>4.5</td><td>4.1</td></tr><tr><td>Tacos La Bala</td><td>Barbacoa </td><td>9/5/2016</td><td>null</td><td>null</td><td>null</td><td>4.99</td><td>2.5</td><td>null</td><td>null</td><td>16.5</td><td>22.0</td><td>0.64</td><td>2.0</td><td>2.5</td><td>3.5</td><td>2.0</td><td>3.0</td><td>2.5</td><td>2.0</td><td>2.5</td><td>2.5</td><td>2.4</td><td>No</td><td>Emily</td><td>Burritos cut in half, felt like a wrap instead of a burrito</td><td>null</td><td>X</td><td>null</td><td>null</td><td>null</td><td>null</td><td>null</td><td>null</td><td>null</td><td>null</td><td>null</td><td>null</td><td>null</td><td>null</td><td>null</td><td>null</td><td>null</td><td>null</td><td>null</td><td>null</td><td>null</td><td>null</td><td>null</td><td>null</td><td>null</td><td>null</td><td>null</td><td>null</td><td>null</td><td>null</td><td>null</td><td>null</td><td>null</td><td>null</td><td>null</td><td>null</td><td>null</td><td>223</td><td>Houston</td><td>4.5</td><td>4.1</td></tr></tbody></table></div>"
      ]
     },
     "metadata": {},
     "output_type": "display_data"
    }
   ],
   "source": [
    "for c in ['Neighborhood', 'Yelp', 'Google']:\n",
    "  #Create a temporary dataframe where only distinct non value for 'Location' and c are stored:\n",
    "  temp = df.select(\"Location\", c).distinct()\n",
    "  \n",
    "  #filtering on non null values:\n",
    "  temp = temp.filter(temp[c].isNotNull())\n",
    "  \n",
    "  #Merging with the original dataset df:\n",
    "  df = df.drop(c).join(temp,'Location', 'left')\n",
    "  \n",
    "#Display the results:\n",
    "display(df.limit(5))"
   ]
  },
  {
   "cell_type": "markdown",
   "metadata": {},
   "source": [
    "Let's check if there are still missing values:"
   ]
  },
  {
   "cell_type": "code",
   "execution_count": 22,
   "metadata": {},
   "outputs": [
    {
     "data": {
      "text/html": [
       "<style scoped>\n",
       "  .table-result-container {\n",
       "    max-height: 300px;\n",
       "    overflow: auto;\n",
       "  }\n",
       "  table, th, td {\n",
       "    border: 1px solid black;\n",
       "    border-collapse: collapse;\n",
       "  }\n",
       "  th, td {\n",
       "    padding: 5px;\n",
       "  }\n",
       "  th {\n",
       "    text-align: left;\n",
       "  }\n",
       "</style><div class='table-result-container'><table class='table-result'><thead style='background-color: white'><tr><th>Neighborhood</th><th>Yelp</th><th>Google</th></tr></thead><tbody><tr><td>63</td><td>66</td><td>66</td></tr></tbody></table></div>"
      ]
     },
     "metadata": {},
     "output_type": "display_data"
    }
   ],
   "source": [
    "display(df.select([fn.count(fn.when(df[c].isNull(), c)).alias(c) for c in ['Neighborhood', 'Yelp', 'Google']]))"
   ]
  },
  {
   "cell_type": "markdown",
   "metadata": {},
   "source": [
    "There are still missing values, but we will handle them by setting them into a class when we will do the data preparation."
   ]
  },
  {
   "cell_type": "markdown",
   "metadata": {},
   "source": [
    "#### 2.2.2 `Cost` & `Hunger`"
   ]
  },
  {
   "cell_type": "markdown",
   "metadata": {},
   "source": [
    "These two variables do not contain so much NAs, hence we can replace them by imputing their mean value.\n",
    "\n",
    "For both columns, let's compute the mean over the column values not containing any null:\n",
    "\n",
    "1. We have to first filter over df where it's column `Cost` isn't null\n",
    "2. Compute the average\n",
    "3. Collect the value with the first() operation and retain it by adding [0] to keep the value within it\n",
    "4. use numpy.round() function to retain only 2 decimals"
   ]
  },
  {
   "cell_type": "code",
   "execution_count": 26,
   "metadata": {},
   "outputs": [
    {
     "data": {
      "text/html": [
       "<style scoped>\n",
       "  .ansiout {\n",
       "    display: block;\n",
       "    unicode-bidi: embed;\n",
       "    white-space: pre-wrap;\n",
       "    word-wrap: break-word;\n",
       "    word-break: break-all;\n",
       "    font-family: \"Source Code Pro\", \"Menlo\", monospace;;\n",
       "    font-size: 13px;\n",
       "    color: #555;\n",
       "    margin-left: 4px;\n",
       "    line-height: 19px;\n",
       "  }\n",
       "</style>\n",
       "<div class=\"ansiout\">The average value for column &#39;Cost&#39; is about 7.07\n",
       "The average value for column &#39;Hunger&#39; is about 3.5\n",
       "</div>"
      ]
     },
     "metadata": {},
     "output_type": "display_data"
    }
   ],
   "source": [
    "for c in ['Cost', 'Hunger']:\n",
    "  #Calculating the mean and round it to 2 decimals:\n",
    "  mean = np.round(df.where(df[c].isNotNull()).agg({c : 'avg'}).first()[0],2)\n",
    "  print(f\"The average value for column '{c}' is about {mean}\")\n",
    "\n",
    "  #Create the decision rule; according to a null value condition either we inpute the value either the computed mean\n",
    "  new = fn.when(df[c].isNull(), mean)\\\n",
    "               .otherwise(df[c])\n",
    "\n",
    "  #We apply the decision rule and inpute it to actual column:\n",
    "  df = df.withColumn(c, new)"
   ]
  },
  {
   "cell_type": "markdown",
   "metadata": {},
   "source": [
    "#### 2.2.3 Burrito's composition dummies"
   ]
  },
  {
   "cell_type": "markdown",
   "metadata": {},
   "source": [
    "There are several columns indicating whether the burritos contains a food or not. As they are filled with \"x\" indicating the food is present, or \"null\" indicating the food is absent, we will display those variables in a better format. The column `Chips` is located apart from the others so we will treat it right after."
   ]
  },
  {
   "cell_type": "code",
   "execution_count": 29,
   "metadata": {},
   "outputs": [
    {
     "data": {
      "text/html": [
       "<style scoped>\n",
       "  .table-result-container {\n",
       "    max-height: 300px;\n",
       "    overflow: auto;\n",
       "  }\n",
       "  table, th, td {\n",
       "    border: 1px solid black;\n",
       "    border-collapse: collapse;\n",
       "  }\n",
       "  th, td {\n",
       "    padding: 5px;\n",
       "  }\n",
       "  th {\n",
       "    text-align: left;\n",
       "  }\n",
       "</style><div class='table-result-container'><table class='table-result'><thead style='background-color: white'><tr><th>Beef</th><th>Pico</th><th>Guac</th><th>Cheese</th><th>Fries</th><th>Sour cream</th><th>Pork</th><th>Chicken</th><th>Shrimp</th><th>Fish</th><th>Rice</th><th>Beans</th><th>Lettuce</th><th>Tomato</th><th>Bell peper</th><th>Carrots</th><th>Cabbage</th><th>Sauce</th><th>Salsa49</th><th>Cilantro</th><th>Onion</th><th>Taquito</th><th>Pineapple</th><th>Ham</th><th>Chile relleno</th><th>Nopales</th><th>Lobster</th><th>Queso</th><th>Egg</th><th>Mushroom</th><th>Bacon</th><th>Sushi</th><th>Avocado</th><th>Corn</th><th>Zucchini</th></tr></thead><tbody><tr><td>X</td><td>X</td><td>X</td><td>null</td><td>null</td><td>null</td><td>null</td><td>null</td><td>null</td><td>null</td><td>null</td><td>null</td><td>null</td><td>null</td><td>null</td><td>null</td><td>null</td><td>null</td><td>null</td><td>null</td><td>null</td><td>null</td><td>null</td><td>null</td><td>null</td><td>null</td><td>null</td><td>null</td><td>null</td><td>null</td><td>null</td><td>null</td><td>null</td><td>null</td><td>null</td></tr><tr><td>null</td><td>X</td><td>null</td><td>null</td><td>null</td><td>null</td><td>null</td><td>null</td><td>X</td><td>null</td><td>null</td><td>null</td><td>X</td><td>null</td><td>null</td><td>null</td><td>null</td><td>X</td><td>null</td><td>null</td><td>null</td><td>null</td><td>null</td><td>null</td><td>null</td><td>null</td><td>null</td><td>null</td><td>null</td><td>null</td><td>null</td><td>null</td><td>null</td><td>null</td><td>null</td></tr><tr><td>null</td><td>null</td><td>null</td><td>x</td><td>null</td><td>null</td><td>null</td><td>null</td><td>null</td><td>null</td><td>null</td><td>x</td><td>null</td><td>null</td><td>null</td><td>null</td><td>null</td><td>null</td><td>null</td><td>null</td><td>null</td><td>null</td><td>null</td><td>null</td><td>null</td><td>null</td><td>null</td><td>null</td><td>null</td><td>null</td><td>null</td><td>null</td><td>null</td><td>null</td><td>null</td></tr><tr><td>null</td><td>null</td><td>null</td><td>null</td><td>null</td><td>null</td><td>null</td><td>null</td><td>null</td><td>null</td><td>null</td><td>null</td><td>null</td><td>null</td><td>null</td><td>null</td><td>null</td><td>null</td><td>null</td><td>null</td><td>null</td><td>null</td><td>null</td><td>null</td><td>null</td><td>null</td><td>null</td><td>null</td><td>null</td><td>null</td><td>null</td><td>null</td><td>null</td><td>null</td><td>null</td></tr><tr><td>null</td><td>null</td><td>null</td><td>null</td><td>null</td><td>null</td><td>null</td><td>null</td><td>null</td><td>null</td><td>null</td><td>null</td><td>null</td><td>null</td><td>null</td><td>null</td><td>null</td><td>null</td><td>null</td><td>null</td><td>null</td><td>null</td><td>null</td><td>null</td><td>null</td><td>null</td><td>null</td><td>null</td><td>null</td><td>null</td><td>null</td><td>null</td><td>null</td><td>null</td><td>null</td></tr></tbody></table></div>"
      ]
     },
     "metadata": {},
     "output_type": "display_data"
    }
   ],
   "source": [
    "#Select the food variable names\n",
    "columns_food = df.columns[28:63]\n",
    "\n",
    "#Display:\n",
    "display(df.select(columns_food).limit(5))"
   ]
  },
  {
   "cell_type": "markdown",
   "metadata": {},
   "source": [
    "We can do a loop over those variables in order to re-set them in a good format:"
   ]
  },
  {
   "cell_type": "code",
   "execution_count": 31,
   "metadata": {},
   "outputs": [
    {
     "data": {
      "text/html": [
       "<style scoped>\n",
       "  .ansiout {\n",
       "    display: block;\n",
       "    unicode-bidi: embed;\n",
       "    white-space: pre-wrap;\n",
       "    word-wrap: break-word;\n",
       "    word-break: break-all;\n",
       "    font-family: \"Source Code Pro\", \"Menlo\", monospace;;\n",
       "    font-size: 13px;\n",
       "    color: #555;\n",
       "    margin-left: 4px;\n",
       "    line-height: 19px;\n",
       "  }\n",
       "</style>\n",
       "<div class=\"ansiout\"></div>"
      ]
     },
     "metadata": {},
     "output_type": "display_data"
    }
   ],
   "source": [
    "#loop over the columns in `columns_food`:\n",
    "for c in columns_food:\n",
    "  #Decision rule: 0 if null, 1 otherwise\n",
    "  binary = fn.when(df[c].isNull(), 0)\\\n",
    "             .otherwise(1)\n",
    "  \n",
    "  #update the corresponding column:\n",
    "  df = df.withColumn(c,binary)"
   ]
  },
  {
   "cell_type": "markdown",
   "metadata": {},
   "source": [
    "Let's do it on `Chips`:"
   ]
  },
  {
   "cell_type": "code",
   "execution_count": 33,
   "metadata": {},
   "outputs": [
    {
     "data": {
      "text/html": [
       "<style scoped>\n",
       "  .ansiout {\n",
       "    display: block;\n",
       "    unicode-bidi: embed;\n",
       "    white-space: pre-wrap;\n",
       "    word-wrap: break-word;\n",
       "    word-break: break-all;\n",
       "    font-family: \"Source Code Pro\", \"Menlo\", monospace;;\n",
       "    font-size: 13px;\n",
       "    color: #555;\n",
       "    margin-left: 4px;\n",
       "    line-height: 19px;\n",
       "  }\n",
       "</style>\n",
       "<div class=\"ansiout\"></div>"
      ]
     },
     "metadata": {},
     "output_type": "display_data"
    }
   ],
   "source": [
    "Chips = fn.when(df['Chips'].isNull(), 0)\\\n",
    "          .otherwise(1)\n",
    "df = df.withColumn('Chips', Chips)"
   ]
  },
  {
   "cell_type": "markdown",
   "metadata": {},
   "source": [
    "Checking it has been done correctly:"
   ]
  },
  {
   "cell_type": "code",
   "execution_count": 35,
   "metadata": {},
   "outputs": [
    {
     "data": {
      "text/html": [
       "<style scoped>\n",
       "  .table-result-container {\n",
       "    max-height: 300px;\n",
       "    overflow: auto;\n",
       "  }\n",
       "  table, th, td {\n",
       "    border: 1px solid black;\n",
       "    border-collapse: collapse;\n",
       "  }\n",
       "  th, td {\n",
       "    padding: 5px;\n",
       "  }\n",
       "  th {\n",
       "    text-align: left;\n",
       "  }\n",
       "</style><div class='table-result-container'><table class='table-result'><thead style='background-color: white'><tr><th>Beef</th><th>Pico</th><th>Guac</th><th>Cheese</th><th>Fries</th><th>Sour cream</th><th>Pork</th><th>Chicken</th><th>Shrimp</th><th>Fish</th><th>Rice</th><th>Beans</th><th>Lettuce</th><th>Tomato</th><th>Bell peper</th><th>Carrots</th><th>Cabbage</th><th>Sauce</th><th>Salsa49</th><th>Cilantro</th><th>Onion</th><th>Taquito</th><th>Pineapple</th><th>Ham</th><th>Chile relleno</th><th>Nopales</th><th>Lobster</th><th>Queso</th><th>Egg</th><th>Mushroom</th><th>Bacon</th><th>Sushi</th><th>Avocado</th><th>Corn</th><th>Zucchini</th></tr></thead><tbody><tr><td>1</td><td>1</td><td>1</td><td>0</td><td>0</td><td>0</td><td>0</td><td>0</td><td>0</td><td>0</td><td>0</td><td>0</td><td>0</td><td>0</td><td>0</td><td>0</td><td>0</td><td>0</td><td>0</td><td>0</td><td>0</td><td>0</td><td>0</td><td>0</td><td>0</td><td>0</td><td>0</td><td>0</td><td>0</td><td>0</td><td>0</td><td>0</td><td>0</td><td>0</td><td>0</td></tr><tr><td>0</td><td>1</td><td>0</td><td>0</td><td>0</td><td>0</td><td>0</td><td>0</td><td>1</td><td>0</td><td>0</td><td>0</td><td>1</td><td>0</td><td>0</td><td>0</td><td>0</td><td>1</td><td>0</td><td>0</td><td>0</td><td>0</td><td>0</td><td>0</td><td>0</td><td>0</td><td>0</td><td>0</td><td>0</td><td>0</td><td>0</td><td>0</td><td>0</td><td>0</td><td>0</td></tr><tr><td>0</td><td>0</td><td>0</td><td>1</td><td>0</td><td>0</td><td>0</td><td>0</td><td>0</td><td>0</td><td>0</td><td>1</td><td>0</td><td>0</td><td>0</td><td>0</td><td>0</td><td>0</td><td>0</td><td>0</td><td>0</td><td>0</td><td>0</td><td>0</td><td>0</td><td>0</td><td>0</td><td>0</td><td>0</td><td>0</td><td>0</td><td>0</td><td>0</td><td>0</td><td>0</td></tr><tr><td>0</td><td>0</td><td>0</td><td>0</td><td>0</td><td>0</td><td>0</td><td>0</td><td>0</td><td>0</td><td>0</td><td>0</td><td>0</td><td>0</td><td>0</td><td>0</td><td>0</td><td>0</td><td>0</td><td>0</td><td>0</td><td>0</td><td>0</td><td>0</td><td>0</td><td>0</td><td>0</td><td>0</td><td>0</td><td>0</td><td>0</td><td>0</td><td>0</td><td>0</td><td>0</td></tr><tr><td>0</td><td>0</td><td>0</td><td>0</td><td>0</td><td>0</td><td>0</td><td>0</td><td>0</td><td>0</td><td>0</td><td>0</td><td>0</td><td>0</td><td>0</td><td>0</td><td>0</td><td>0</td><td>0</td><td>0</td><td>0</td><td>0</td><td>0</td><td>0</td><td>0</td><td>0</td><td>0</td><td>0</td><td>0</td><td>0</td><td>0</td><td>0</td><td>0</td><td>0</td><td>0</td></tr></tbody></table></div>"
      ]
     },
     "metadata": {},
     "output_type": "display_data"
    }
   ],
   "source": [
    "#Display:\n",
    "display(df.select(columns_food).limit(5))"
   ]
  },
  {
   "cell_type": "markdown",
   "metadata": {},
   "source": [
    "#### 2.2.4 `Notes`"
   ]
  },
  {
   "cell_type": "markdown",
   "metadata": {},
   "source": [
    "Some notes are missing, but it is compulsory to have a string value in order to do text or sentiment analysis on it:"
   ]
  },
  {
   "cell_type": "code",
   "execution_count": 38,
   "metadata": {},
   "outputs": [
    {
     "data": {
      "text/html": [
       "<style scoped>\n",
       "  .ansiout {\n",
       "    display: block;\n",
       "    unicode-bidi: embed;\n",
       "    white-space: pre-wrap;\n",
       "    word-wrap: break-word;\n",
       "    word-break: break-all;\n",
       "    font-family: \"Source Code Pro\", \"Menlo\", monospace;;\n",
       "    font-size: 13px;\n",
       "    color: #555;\n",
       "    margin-left: 4px;\n",
       "    line-height: 19px;\n",
       "  }\n",
       "</style>\n",
       "<div class=\"ansiout\">+--------------------+\n",
       "               Notes|\n",
       "+--------------------+\n",
       "       Way too small|\n",
       "             Neutral|\n",
       "             Neutral|\n",
       "Everything is in ...|\n",
       "Burritos cut in h...|\n",
       "+--------------------+\n",
       "only showing top 5 rows\n",
       "\n",
       "</div>"
      ]
     },
     "metadata": {},
     "output_type": "display_data"
    }
   ],
   "source": [
    "#Decision rule, we set \"Neutral\" whenever the value is missing:\n",
    "notes = fn.when(df[\"Notes\"].isNotNull(), df[\"Notes\"])\\\n",
    "          .otherwise(\"Neutral\")\n",
    "\n",
    "#We apply it:\n",
    "df = df.withColumn(\"Notes\", notes)\n",
    "\n",
    "#Display of 5 rows:\n",
    "df.select(\"Notes\").show(5)"
   ]
  },
  {
   "cell_type": "markdown",
   "metadata": {},
   "source": [
    "#### 2.2.5 `overall`"
   ]
  },
  {
   "cell_type": "markdown",
   "metadata": {},
   "source": [
    "`overall`, the target variable, contains 2 missing, values, as we can't know the real values for them, we can discard the corresponding rows and reset the number of observations."
   ]
  },
  {
   "cell_type": "code",
   "execution_count": 41,
   "metadata": {},
   "outputs": [
    {
     "data": {
      "text/html": [
       "<style scoped>\n",
       "  .ansiout {\n",
       "    display: block;\n",
       "    unicode-bidi: embed;\n",
       "    white-space: pre-wrap;\n",
       "    word-wrap: break-word;\n",
       "    word-break: break-all;\n",
       "    font-family: \"Source Code Pro\", \"Menlo\", monospace;;\n",
       "    font-size: 13px;\n",
       "    color: #555;\n",
       "    margin-left: 4px;\n",
       "    line-height: 19px;\n",
       "  }\n",
       "</style>\n",
       "<div class=\"ansiout\">There are 421 observations.\n",
       "</div>"
      ]
     },
     "metadata": {},
     "output_type": "display_data"
    }
   ],
   "source": [
    "#Discarding rows for overall is missing:\n",
    "df = df.filter(df['overall'].isNotNull())\n",
    "\n",
    "#Reset the number of observations:\n",
    "N = df.count() #N observations\n",
    "print(f'There are {N} observations.')"
   ]
  },
  {
   "cell_type": "markdown",
   "metadata": {},
   "source": [
    "### 2.3 Dropping variables"
   ]
  },
  {
   "cell_type": "markdown",
   "metadata": {},
   "source": [
    "As we noticed that `Neighborhood`,`URL` and `Adress` were filled the same way in the dataset, we do not want repetitive information within it, so we can delete those columns.\n",
    "\n",
    "Furthermore, we can delete it **endogenous variables** such like variables linked to the dependent variable `overall` itself: `Tortilla`, `Meat`, `Fillings`, `Meat:filling`, `Uniformity`, `Salsa22`, `Synergy`, `Wrap`\n",
    "\n",
    "Other features such as `Rec`, `Date`, `Temp` and `Address` might also be discarded:"
   ]
  },
  {
   "cell_type": "code",
   "execution_count": 44,
   "metadata": {},
   "outputs": [
    {
     "data": {
      "text/html": [
       "<style scoped>\n",
       "  .ansiout {\n",
       "    display: block;\n",
       "    unicode-bidi: embed;\n",
       "    white-space: pre-wrap;\n",
       "    word-wrap: break-word;\n",
       "    word-break: break-all;\n",
       "    font-family: \"Source Code Pro\", \"Menlo\", monospace;;\n",
       "    font-size: 13px;\n",
       "    color: #555;\n",
       "    margin-left: 4px;\n",
       "    line-height: 19px;\n",
       "  }\n",
       "</style>\n",
       "<div class=\"ansiout\"></div>"
      ]
     },
     "metadata": {},
     "output_type": "display_data"
    }
   ],
   "source": [
    "df = df.drop('URL','Adress', 'Mass (g)', 'Density (g/ML)', 'Unreliable', 'NonSD', 'Tortilla', 'Meat',\n",
    "             'Fillings', 'Meat:filling', 'Uniformity', 'Salsa22', 'Synergy', 'Wrap', 'Rec', 'Address',\n",
    "             'Temp', 'Date')"
   ]
  },
  {
   "cell_type": "markdown",
   "metadata": {},
   "source": [
    "## 3 Data preparation"
   ]
  },
  {
   "cell_type": "markdown",
   "metadata": {},
   "source": [
    "The data is now cleaned of missing values except the ones we left which will be used in the data preparation part to create others variables."
   ]
  },
  {
   "cell_type": "markdown",
   "metadata": {},
   "source": [
    "### 3.1 One-hot encoding"
   ]
  },
  {
   "cell_type": "markdown",
   "metadata": {},
   "source": [
    "#### 3.1.1 `Burrito`"
   ]
  },
  {
   "cell_type": "markdown",
   "metadata": {},
   "source": [
    "Let's display some burrito names:"
   ]
  },
  {
   "cell_type": "code",
   "execution_count": 50,
   "metadata": {},
   "outputs": [
    {
     "data": {
      "text/html": [
       "<style scoped>\n",
       "  .ansiout {\n",
       "    display: block;\n",
       "    unicode-bidi: embed;\n",
       "    white-space: pre-wrap;\n",
       "    word-wrap: break-word;\n",
       "    word-break: break-all;\n",
       "    font-family: \"Source Code Pro\", \"Menlo\", monospace;;\n",
       "    font-size: 13px;\n",
       "    color: #555;\n",
       "    margin-left: 4px;\n",
       "    line-height: 19px;\n",
       "  }\n",
       "</style>\n",
       "<div class=\"ansiout\">+------------------+\n",
       "           Burrito|\n",
       "+------------------+\n",
       "   Colimas burrito|\n",
       "            Shrimp|\n",
       "            Azteca|\n",
       " Spicy a la Diabla|\n",
       "Bitchin California|\n",
       "+------------------+\n",
       "only showing top 5 rows\n",
       "\n",
       "</div>"
      ]
     },
     "metadata": {},
     "output_type": "display_data"
    }
   ],
   "source": [
    "df.select('Burrito').distinct().show(5)"
   ]
  },
  {
   "cell_type": "code",
   "execution_count": 51,
   "metadata": {},
   "outputs": [
    {
     "data": {
      "text/html": [
       "<style scoped>\n",
       "  .ansiout {\n",
       "    display: block;\n",
       "    unicode-bidi: embed;\n",
       "    white-space: pre-wrap;\n",
       "    word-wrap: break-word;\n",
       "    word-break: break-all;\n",
       "    font-family: \"Source Code Pro\", \"Menlo\", monospace;;\n",
       "    font-size: 13px;\n",
       "    color: #555;\n",
       "    margin-left: 4px;\n",
       "    line-height: 19px;\n",
       "  }\n",
       "</style>\n",
       "<div class=\"ansiout\">+------------------+\n",
       "           Burrito|\n",
       "+------------------+\n",
       "        mauna lani|\n",
       "        quesaburro|\n",
       "monster california|\n",
       "             local|\n",
       " deborah&#39;s special|\n",
       "+------------------+\n",
       "only showing top 5 rows\n",
       "\n",
       "There are 116 different burritos.\n",
       "</div>"
      ]
     },
     "metadata": {},
     "output_type": "display_data"
    }
   ],
   "source": [
    "#We delete spaces at the end of the word:\n",
    "df = df.withColumn('Burrito', fn.trim(df.Burrito))\n",
    "\n",
    "#We set it to lowercase:\n",
    "df = df.withColumn('Burrito', fn.lower(df.Burrito))\n",
    "\n",
    "#Showing some districs to check operations have been done correctly:\n",
    "df.select('Burrito').distinct().show(5)\n",
    "\n",
    "#Number of different burritos:\n",
    "n_burrito = neighborhood = df.select('Burrito').distinct().count()\n",
    "print(f'There are {n_burrito} different burritos.')"
   ]
  },
  {
   "cell_type": "markdown",
   "metadata": {},
   "source": [
    "Let's display how many times a Burrito appears in the dataset:"
   ]
  },
  {
   "cell_type": "code",
   "execution_count": 53,
   "metadata": {},
   "outputs": [
    {
     "data": {
      "text/html": [
       "<style scoped>\n",
       "  .table-result-container {\n",
       "    max-height: 300px;\n",
       "    overflow: auto;\n",
       "  }\n",
       "  table, th, td {\n",
       "    border: 1px solid black;\n",
       "    border-collapse: collapse;\n",
       "  }\n",
       "  th, td {\n",
       "    padding: 5px;\n",
       "  }\n",
       "  th {\n",
       "    text-align: left;\n",
       "  }\n",
       "</style><div class='table-result-container'><table class='table-result'><thead style='background-color: white'><tr><th>Burrito</th><th>count</th></tr></thead><tbody><tr><td>california</td><td>127</td></tr><tr><td>carne asada</td><td>35</td></tr><tr><td>carnitas</td><td>24</td></tr><tr><td>california everything</td><td>16</td></tr><tr><td>local</td><td>14</td></tr><tr><td>surf & turf</td><td>14</td></tr><tr><td>al pastor</td><td>13</td></tr><tr><td>adobada</td><td>10</td></tr><tr><td>surfin california</td><td>9</td></tr><tr><td>custom</td><td>5</td></tr><tr><td>holy moly</td><td>5</td></tr><tr><td>carne asada everything</td><td>4</td></tr><tr><td>pollo asado</td><td>4</td></tr><tr><td>breakfast</td><td>3</td></tr><tr><td>chile relleno</td><td>3</td></tr><tr><td>2 in 1</td><td>3</td></tr><tr><td>bean and cheese</td><td>3</td></tr><tr><td>pastor</td><td>3</td></tr><tr><td>fish</td><td>3</td></tr><tr><td>surf and turf</td><td>3</td></tr><tr><td>california - pork adobada</td><td>3</td></tr><tr><td>shrimp</td><td>3</td></tr><tr><td>bandido</td><td>2</td></tr><tr><td>combo chicken</td><td>2</td></tr><tr><td>veggie</td><td>2</td></tr><tr><td>mahi</td><td>2</td></tr><tr><td>bacon breakfast</td><td>2</td></tr><tr><td>la paz</td><td>2</td></tr><tr><td>chicken nopalito</td><td>2</td></tr><tr><td>california - chicken</td><td>2</td></tr><tr><td>hashbrown</td><td>2</td></tr><tr><td>chicken</td><td>2</td></tr><tr><td>asada</td><td>2</td></tr><tr><td>campeon</td><td>2</td></tr><tr><td>barbacoa</td><td>2</td></tr><tr><td>monster california</td><td>2</td></tr><tr><td>baja monster</td><td>2</td></tr><tr><td>california chicken</td><td>2</td></tr><tr><td>fusion</td><td>2</td></tr><tr><td>tgunz</td><td>2</td></tr><tr><td>chile verde pork</td><td>2</td></tr><tr><td>california - steak</td><td>2</td></tr><tr><td>quesaburro</td><td>1</td></tr><tr><td>deborah's special</td><td>1</td></tr><tr><td>mauna lani</td><td>1</td></tr><tr><td>bean and rice grande size</td><td>1</td></tr><tr><td>dave's california</td><td>1</td></tr><tr><td>supreme chicken</td><td>1</td></tr><tr><td>bitchin california</td><td>1</td></tr><tr><td>mixed</td><td>1</td></tr><tr><td>pokirrito classic</td><td>1</td></tr><tr><td>tijuana</td><td>1</td></tr><tr><td>steak everything</td><td>1</td></tr><tr><td>golden state</td><td>1</td></tr><tr><td>ranchero steak</td><td>1</td></tr><tr><td>fried fish</td><td>1</td></tr><tr><td>chicken asada</td><td>1</td></tr><tr><td>super</td><td>1</td></tr><tr><td>ado-haba california</td><td>1</td></tr><tr><td>california everything mini</td><td>1</td></tr><tr><td>california + guac + sour cream</td><td>1</td></tr><tr><td>tejano</td><td>1</td></tr><tr><td>cali diablo</td><td>1</td></tr><tr><td>chile verde (pork)</td><td>1</td></tr><tr><td>pork california</td><td>1</td></tr><tr><td>colimas burrito</td><td>1</td></tr><tr><td>veg out</td><td>1</td></tr><tr><td>chicken shawarma</td><td>1</td></tr><tr><td>oaxacalifornia</td><td>1</td></tr><tr><td>arizona</td><td>1</td></tr><tr><td>vegetarian</td><td>1</td></tr><tr><td>619 burrito original</td><td>1</td></tr><tr><td>quesa</td><td>1</td></tr><tr><td>chicken and rice</td><td>1</td></tr><tr><td>tilapia one</td><td>1</td></tr><tr><td>chile relleno and carnitas</td><td>1</td></tr><tr><td>alambre california</td><td>1</td></tr><tr><td>adobado</td><td>1</td></tr><tr><td>nutty</td><td>1</td></tr><tr><td>carne asada supreme</td><td>1</td></tr><tr><td>steak with guacamole</td><td>1</td></tr><tr><td>battered fish</td><td>1</td></tr><tr><td>shrimp california</td><td>1</td></tr><tr><td>bean & cheese</td><td>1</td></tr><tr><td>al pastor tradicional</td><td>1</td></tr><tr><td>shredded beef</td><td>1</td></tr><tr><td>el rusio</td><td>1</td></tr><tr><td>pollo california</td><td>1</td></tr><tr><td>chicken avocado</td><td>1</td></tr><tr><td>shrimp with guac</td><td>1</td></tr><tr><td>california breakfast</td><td>1</td></tr><tr><td>azteca</td><td>1</td></tr><tr><td>cheese steak</td><td>1</td></tr><tr><td>california burrito</td><td>1</td></tr><tr><td>spicy a la diabla</td><td>1</td></tr><tr><td>california chipotle</td><td>1</td></tr><tr><td>california surf</td><td>1</td></tr><tr><td>cabeza</td><td>1</td></tr><tr><td>addiction</td><td>1</td></tr><tr><td>grilled fish salmon</td><td>1</td></tr><tr><td>hot cheetos</td><td>1</td></tr><tr><td>bomb</td><td>1</td></tr><tr><td>chimichanga beef</td><td>1</td></tr><tr><td>machaca</td><td>1</td></tr><tr><td>pollo adobado</td><td>1</td></tr><tr><td>california surf and turf</td><td>1</td></tr><tr><td>fajitas</td><td>1</td></tr><tr><td>philly</td><td>1</td></tr><tr><td>carne adobada</td><td>1</td></tr><tr><td>lobster</td><td>1</td></tr><tr><td>hawaiian</td><td>1</td></tr><tr><td>especial</td><td>1</td></tr><tr><td>ala tingada california</td><td>1</td></tr><tr><td>steak fajitas</td><td>1</td></tr><tr><td>el hawaiiano</td><td>1</td></tr><tr><td>california (only cheese)</td><td>1</td></tr></tbody></table></div>"
      ]
     },
     "metadata": {},
     "output_type": "display_data"
    }
   ],
   "source": [
    "count_burrito = df.groupBy('Burrito').agg(fn.count('Location').alias('count')).orderBy((\"count\"), ascending=False)\n",
    "display(count_burrito)"
   ]
  },
  {
   "cell_type": "markdown",
   "metadata": {},
   "source": [
    "The California burrito in the most represented one. Let's show the burritos which appears more than 5 times:"
   ]
  },
  {
   "cell_type": "code",
   "execution_count": 55,
   "metadata": {},
   "outputs": [
    {
     "data": {
      "text/html": [
       "<style scoped>\n",
       "  .table-result-container {\n",
       "    max-height: 300px;\n",
       "    overflow: auto;\n",
       "  }\n",
       "  table, th, td {\n",
       "    border: 1px solid black;\n",
       "    border-collapse: collapse;\n",
       "  }\n",
       "  th, td {\n",
       "    padding: 5px;\n",
       "  }\n",
       "  th {\n",
       "    text-align: left;\n",
       "  }\n",
       "</style><div class='table-result-container'><table class='table-result'><thead style='background-color: white'><tr><th>Burrito</th></tr></thead><tbody><tr><td>california</td></tr><tr><td>carne asada</td></tr><tr><td>carnitas</td></tr><tr><td>california everything</td></tr><tr><td>surf & turf</td></tr><tr><td>local</td></tr><tr><td>al pastor</td></tr><tr><td>adobada</td></tr><tr><td>surfin california</td></tr></tbody></table></div>"
      ]
     },
     "metadata": {},
     "output_type": "display_data"
    }
   ],
   "source": [
    "known_burrito = count_burrito.where(count_burrito['count'] > 5).select('Burrito')\n",
    "display(known_burrito)"
   ]
  },
  {
   "cell_type": "markdown",
   "metadata": {},
   "source": [
    "We can now create a dummy variable for each of these burrito's name:"
   ]
  },
  {
   "cell_type": "code",
   "execution_count": 57,
   "metadata": {},
   "outputs": [
    {
     "data": {
      "text/html": [
       "<style scoped>\n",
       "  .ansiout {\n",
       "    display: block;\n",
       "    unicode-bidi: embed;\n",
       "    white-space: pre-wrap;\n",
       "    word-wrap: break-word;\n",
       "    word-break: break-all;\n",
       "    font-family: \"Source Code Pro\", \"Menlo\", monospace;;\n",
       "    font-size: 13px;\n",
       "    color: #555;\n",
       "    margin-left: 4px;\n",
       "    line-height: 19px;\n",
       "  }\n",
       "</style>\n",
       "<div class=\"ansiout\"></div>"
      ]
     },
     "metadata": {},
     "output_type": "display_data"
    }
   ],
   "source": [
    "for burrito in [str(row.Burrito) for row in known_burrito.collect()]:\n",
    "  dum = fn.when(df['Burrito']==burrito, 1).otherwise(0)\n",
    "  df = df.withColumn(burrito, dum) #We apply the decision rule\n",
    "  df = df.withColumnRenamed(burrito,burrito.replace(\" \", \"_\")) #Replace spaces by underscores"
   ]
  },
  {
   "cell_type": "markdown",
   "metadata": {},
   "source": [
    "We noticed the Burrito named \"Surf and Turf\" is also named \"Surf & Turf\":"
   ]
  },
  {
   "cell_type": "code",
   "execution_count": 59,
   "metadata": {},
   "outputs": [
    {
     "data": {
      "text/html": [
       "<style scoped>\n",
       "  .ansiout {\n",
       "    display: block;\n",
       "    unicode-bidi: embed;\n",
       "    white-space: pre-wrap;\n",
       "    word-wrap: break-word;\n",
       "    word-break: break-all;\n",
       "    font-family: \"Source Code Pro\", \"Menlo\", monospace;;\n",
       "    font-size: 13px;\n",
       "    color: #555;\n",
       "    margin-left: 4px;\n",
       "    line-height: 19px;\n",
       "  }\n",
       "</style>\n",
       "<div class=\"ansiout\"></div>"
      ]
     },
     "metadata": {},
     "output_type": "display_data"
    }
   ],
   "source": [
    "df = df.withColumnRenamed('surf_&_turf', 'surf_and_turf') #We rename the first column created\n",
    "dum_surfturf = fn.when(df['Burrito'] == 'surf and turf', 1).otherwise(df['surf_and_turf']) #to get all obs. who ate this burrito\n",
    "df = df.withColumn('surf_and_turf', dum_surfturf) #we apply the decision rule"
   ]
  },
  {
   "cell_type": "code",
   "execution_count": 60,
   "metadata": {},
   "outputs": [
    {
     "data": {
      "text/html": [
       "<style scoped>\n",
       "  .ansiout {\n",
       "    display: block;\n",
       "    unicode-bidi: embed;\n",
       "    white-space: pre-wrap;\n",
       "    word-wrap: break-word;\n",
       "    word-break: break-all;\n",
       "    font-family: \"Source Code Pro\", \"Menlo\", monospace;;\n",
       "    font-size: 13px;\n",
       "    color: #555;\n",
       "    margin-left: 4px;\n",
       "    line-height: 19px;\n",
       "  }\n",
       "</style>\n",
       "<div class=\"ansiout\"></div>"
      ]
     },
     "metadata": {},
     "output_type": "display_data"
    }
   ],
   "source": [
    "## For later on for data analaysis\n",
    "df = df.withColumn('burrito_forstat', fn.when(df['california']+df['carne_asada']+df['carnitas']+df['local']+df['surf_and_turf']+\n",
    "                                              df['california_everything']+df['adobada']+\n",
    "                                              df['al_pastor']+df['surfin_california'] + df['surf_and_turf'] ==1, df.Burrito)\\\n",
    "                                         .otherwise(\"Special Burrito\"))"
   ]
  },
  {
   "cell_type": "markdown",
   "metadata": {},
   "source": [
    "Observations where none of these dummies are set at 1 are 'special tacos', meaning there are creation from the restaurant or not famous/ more original tacos. There is no dummies to represent these tacos to avoid identification issue for the classification.\n",
    "\n",
    "Now we can drop the `Burrito` column:"
   ]
  },
  {
   "cell_type": "code",
   "execution_count": 62,
   "metadata": {},
   "outputs": [
    {
     "data": {
      "text/html": [
       "<style scoped>\n",
       "  .ansiout {\n",
       "    display: block;\n",
       "    unicode-bidi: embed;\n",
       "    white-space: pre-wrap;\n",
       "    word-wrap: break-word;\n",
       "    word-break: break-all;\n",
       "    font-family: \"Source Code Pro\", \"Menlo\", monospace;;\n",
       "    font-size: 13px;\n",
       "    color: #555;\n",
       "    margin-left: 4px;\n",
       "    line-height: 19px;\n",
       "  }\n",
       "</style>\n",
       "<div class=\"ansiout\"></div>"
      ]
     },
     "metadata": {},
     "output_type": "display_data"
    }
   ],
   "source": [
    "df = df.drop('Burrito')"
   ]
  },
  {
   "cell_type": "markdown",
   "metadata": {},
   "source": [
    "#### 3.1.2 `Neighborhood`"
   ]
  },
  {
   "cell_type": "markdown",
   "metadata": {},
   "source": [
    "Let's count the number of different locations and neighborhoods, and do some text cleaning on it:"
   ]
  },
  {
   "cell_type": "code",
   "execution_count": 65,
   "metadata": {},
   "outputs": [
    {
     "data": {
      "text/html": [
       "<style scoped>\n",
       "  .ansiout {\n",
       "    display: block;\n",
       "    unicode-bidi: embed;\n",
       "    white-space: pre-wrap;\n",
       "    word-wrap: break-word;\n",
       "    word-break: break-all;\n",
       "    font-family: \"Source Code Pro\", \"Menlo\", monospace;;\n",
       "    font-size: 13px;\n",
       "    color: #555;\n",
       "    margin-left: 4px;\n",
       "    line-height: 19px;\n",
       "  }\n",
       "</style>\n",
       "<div class=\"ansiout\">+------------+\n",
       "Neighborhood|\n",
       "+------------+\n",
       "  san marcos|\n",
       "    carlsbad|\n",
       " ocean beach|\n",
       "    new york|\n",
       "    la jolla|\n",
       "+------------+\n",
       "only showing top 5 rows\n",
       "\n",
       "There are 39 different neighborhoods.\n",
       "</div>"
      ]
     },
     "metadata": {},
     "output_type": "display_data"
    }
   ],
   "source": [
    "#We delete spaces at the end of the word:\n",
    "df = df.withColumn('Neighborhood', fn.trim(df.Neighborhood))\n",
    "\n",
    "#We set it to lowercase:\n",
    "df = df.withColumn('Neighborhood', fn.lower(df.Neighborhood))\n",
    "\n",
    "#Showing some districs to check operations have been done correctly:\n",
    "df.select('Neighborhood').distinct().show(5)\n",
    "\n",
    "#Number of different neighborhoods:\n",
    "n_neighborhood = df.select('Neighborhood').distinct().count()\n",
    "print(f'There are {n_neighborhood} different neighborhoods.')"
   ]
  },
  {
   "cell_type": "markdown",
   "metadata": {},
   "source": [
    "In some cases the neighborhood is missing, we will reshape the `Neighborhood` variable which will display 'No neighborhood' when this one is missing."
   ]
  },
  {
   "cell_type": "code",
   "execution_count": 67,
   "metadata": {},
   "outputs": [
    {
     "data": {
      "text/html": [
       "<style scoped>\n",
       "  .ansiout {\n",
       "    display: block;\n",
       "    unicode-bidi: embed;\n",
       "    white-space: pre-wrap;\n",
       "    word-wrap: break-word;\n",
       "    word-break: break-all;\n",
       "    font-family: \"Source Code Pro\", \"Menlo\", monospace;;\n",
       "    font-size: 13px;\n",
       "    color: #555;\n",
       "    margin-left: 4px;\n",
       "    line-height: 19px;\n",
       "  }\n",
       "</style>\n",
       "<div class=\"ansiout\">+-----------------+\n",
       "     Neighborhood|\n",
       "+-----------------+\n",
       "       san marcos|\n",
       "         carlsbad|\n",
       "      ocean beach|\n",
       "         new york|\n",
       "         la jolla|\n",
       "    pacific beach|\n",
       "  university city|\n",
       "     santa monica|\n",
       "          del mar|\n",
       "    mission beach|\n",
       "             null|\n",
       "       north park|\n",
       "       south park|\n",
       "la  jolla village|\n",
       "      linda vista|\n",
       "  sorrento valley|\n",
       "    carmel valley|\n",
       "          webster|\n",
       "              utc|\n",
       "        hillcrest|\n",
       "+-----------------+\n",
       "only showing top 20 rows\n",
       "\n",
       "</div>"
      ]
     },
     "metadata": {},
     "output_type": "display_data"
    }
   ],
   "source": [
    "df.select('Neighborhood').distinct().show()"
   ]
  },
  {
   "cell_type": "code",
   "execution_count": 68,
   "metadata": {},
   "outputs": [
    {
     "data": {
      "text/html": [
       "<style scoped>\n",
       "  .table-result-container {\n",
       "    max-height: 300px;\n",
       "    overflow: auto;\n",
       "  }\n",
       "  table, th, td {\n",
       "    border: 1px solid black;\n",
       "    border-collapse: collapse;\n",
       "  }\n",
       "  th, td {\n",
       "    padding: 5px;\n",
       "  }\n",
       "  th {\n",
       "    text-align: left;\n",
       "  }\n",
       "</style><div class='table-result-container'><table class='table-result'><thead style='background-color: white'><tr><th>Neighborhood</th><th>count</th></tr></thead><tbody><tr><td>null</td><td>63</td></tr><tr><td>miramar</td><td>42</td></tr><tr><td>utc</td><td>42</td></tr><tr><td>north park</td><td>31</td></tr><tr><td>clairemont</td><td>29</td></tr><tr><td>linda vista</td><td>27</td></tr><tr><td>la jolla</td><td>23</td></tr><tr><td>encinitas</td><td>23</td></tr><tr><td>carlsbad</td><td>14</td></tr><tr><td>oceanside</td><td>14</td></tr><tr><td>hillcrest</td><td>12</td></tr><tr><td>san marcos</td><td>11</td></tr><tr><td>downtown</td><td>10</td></tr><tr><td>pacific beach</td><td>10</td></tr><tr><td>university heights</td><td>10</td></tr><tr><td>kearny mesa</td><td>7</td></tr><tr><td>carmel valley</td><td>6</td></tr><tr><td>del mar</td><td>5</td></tr><tr><td>temecula</td><td>4</td></tr><tr><td>sorrento valley</td><td>4</td></tr><tr><td>morena</td><td>4</td></tr><tr><td>ocean beach</td><td>4</td></tr><tr><td>santa monica</td><td>3</td></tr><tr><td>mission beach</td><td>2</td></tr><tr><td>south park</td><td>2</td></tr><tr><td>university city</td><td>2</td></tr><tr><td>houston</td><td>2</td></tr><tr><td>solana beach</td><td>2</td></tr><tr><td>bonita</td><td>2</td></tr><tr><td>vista</td><td>2</td></tr><tr><td>new york</td><td>1</td></tr><tr><td>webster</td><td>1</td></tr><tr><td>la  jolla village</td><td>1</td></tr><tr><td>national city</td><td>1</td></tr><tr><td>seattle</td><td>1</td></tr><tr><td>austin</td><td>1</td></tr><tr><td>cardiff</td><td>1</td></tr><tr><td>bonsall</td><td>1</td></tr><tr><td>san diego</td><td>1</td></tr></tbody></table></div>"
      ]
     },
     "metadata": {},
     "output_type": "display_data"
    }
   ],
   "source": [
    "count_neighborhood = df.groupBy('Neighborhood').agg(fn.count('Location').alias('count')).orderBy((\"count\"), ascending=False)\n",
    "display(count_neighborhood)"
   ]
  },
  {
   "cell_type": "code",
   "execution_count": 69,
   "metadata": {},
   "outputs": [
    {
     "data": {
      "text/html": [
       "<style scoped>\n",
       "  .table-result-container {\n",
       "    max-height: 300px;\n",
       "    overflow: auto;\n",
       "  }\n",
       "  table, th, td {\n",
       "    border: 1px solid black;\n",
       "    border-collapse: collapse;\n",
       "  }\n",
       "  th, td {\n",
       "    padding: 5px;\n",
       "  }\n",
       "  th {\n",
       "    text-align: left;\n",
       "  }\n",
       "</style><div class='table-result-container'><table class='table-result'><thead style='background-color: white'><tr><th>Neighborhood</th></tr></thead><tbody><tr><td>null</td></tr><tr><td>utc</td></tr><tr><td>miramar</td></tr><tr><td>north park</td></tr><tr><td>clairemont</td></tr><tr><td>linda vista</td></tr><tr><td>la jolla</td></tr><tr><td>encinitas</td></tr><tr><td>carlsbad</td></tr><tr><td>oceanside</td></tr><tr><td>hillcrest</td></tr><tr><td>san marcos</td></tr><tr><td>pacific beach</td></tr><tr><td>university heights</td></tr><tr><td>downtown</td></tr><tr><td>kearny mesa</td></tr><tr><td>carmel valley</td></tr></tbody></table></div>"
      ]
     },
     "metadata": {},
     "output_type": "display_data"
    }
   ],
   "source": [
    "known_neighborhood = count_neighborhood.where(count_neighborhood['count'] > 5).select('Neighborhood')\n",
    "display(known_neighborhood)"
   ]
  },
  {
   "cell_type": "code",
   "execution_count": 70,
   "metadata": {},
   "outputs": [
    {
     "data": {
      "text/html": [
       "<style scoped>\n",
       "  .ansiout {\n",
       "    display: block;\n",
       "    unicode-bidi: embed;\n",
       "    white-space: pre-wrap;\n",
       "    word-wrap: break-word;\n",
       "    word-break: break-all;\n",
       "    font-family: \"Source Code Pro\", \"Menlo\", monospace;;\n",
       "    font-size: 13px;\n",
       "    color: #555;\n",
       "    margin-left: 4px;\n",
       "    line-height: 19px;\n",
       "  }\n",
       "</style>\n",
       "<div class=\"ansiout\">+---+\n",
       "utc|\n",
       "+---+\n",
       "  0|\n",
       "  0|\n",
       "  0|\n",
       "  0|\n",
       "  0|\n",
       "  0|\n",
       "  0|\n",
       "  0|\n",
       "  0|\n",
       "  0|\n",
       "+---+\n",
       "only showing top 10 rows\n",
       "\n",
       "</div>"
      ]
     },
     "metadata": {},
     "output_type": "display_data"
    }
   ],
   "source": [
    "for neigh in [str(row.Neighborhood) for row in known_neighborhood.collect()]:\n",
    "  dum = fn.when(df['Neighborhood']==neigh, 1).otherwise(0)\n",
    "  df = df.withColumn(neigh, dum)\n",
    "  df = df.withColumnRenamed(neigh,neigh.replace(\" \", \"_\"))\n",
    "df.select('utc').show(10)"
   ]
  },
  {
   "cell_type": "markdown",
   "metadata": {},
   "source": [
    "#### 3.1.3 `Location`"
   ]
  },
  {
   "cell_type": "markdown",
   "metadata": {},
   "source": [
    "Let's do the same procedure for `Location`:"
   ]
  },
  {
   "cell_type": "code",
   "execution_count": 73,
   "metadata": {},
   "outputs": [
    {
     "data": {
      "text/html": [
       "<style scoped>\n",
       "  .ansiout {\n",
       "    display: block;\n",
       "    unicode-bidi: embed;\n",
       "    white-space: pre-wrap;\n",
       "    word-wrap: break-word;\n",
       "    word-break: break-all;\n",
       "    font-family: \"Source Code Pro\", \"Menlo\", monospace;;\n",
       "    font-size: 13px;\n",
       "    color: #555;\n",
       "    margin-left: 4px;\n",
       "    line-height: 19px;\n",
       "  }\n",
       "</style>\n",
       "<div class=\"ansiout\">+--------------------+\n",
       "            Location|\n",
       "+--------------------+\n",
       "             goody&#39;s|\n",
       "caliente mexican ...|\n",
       "     tacos por favor|\n",
       "        king burrito|\n",
       "  lolita&#39;s taco shop|\n",
       "+--------------------+\n",
       "only showing top 5 rows\n",
       "\n",
       "There are 99 different location.\n",
       "</div>"
      ]
     },
     "metadata": {},
     "output_type": "display_data"
    }
   ],
   "source": [
    "#We delete spaces at the end of the word:\n",
    "df = df.withColumn('Location', fn.trim(df.Location))\n",
    "\n",
    "#We set it to lowercase:\n",
    "df = df.withColumn('Location', fn.lower(df.Location))\n",
    "\n",
    "#Showing some districs to check operations have been done correctly:\n",
    "df.select('Location').distinct().show(5)\n",
    "\n",
    "#Number of different neighborhoods:\n",
    "n_location = df.select('Location').distinct().count()\n",
    "print(f'There are {n_location} different location.')"
   ]
  },
  {
   "cell_type": "code",
   "execution_count": 74,
   "metadata": {},
   "outputs": [],
   "source": [
    "count_location = df.groupBy('Location').agg(fn.count('Location').alias('count')).orderBy((\"count\"), ascending=False)\n",
    "display(count_location)"
   ]
  },
  {
   "cell_type": "code",
   "execution_count": 75,
   "metadata": {},
   "outputs": [],
   "source": [
    "known_location = count_location.where(count_location['count'] > 5).select('Location')\n",
    "display(known_location)"
   ]
  },
  {
   "cell_type": "code",
   "execution_count": 76,
   "metadata": {},
   "outputs": [],
   "source": [
    "for location in [str(row.Location) for row in known_location.collect()]:\n",
    "  dum = fn.when(df['Location']==location, 1).otherwise(0)\n",
    "  df = df.withColumn(location, dum)\n",
    "  df = df.withColumnRenamed(location,location.replace(\" \", \"_\").replace(\"'\", \"_\"))"
   ]
  },
  {
   "cell_type": "markdown",
   "metadata": {},
   "source": [
    "#### 3.1.3 `Reviewer`"
   ]
  },
  {
   "cell_type": "code",
   "execution_count": 78,
   "metadata": {},
   "outputs": [],
   "source": [
    "df = df.withColumn(\"Reviewer\", fn.trim(df.Reviewer))\n",
    "df = df.withColumn(\"Reviewer\", fn.lower(df.Reviewer))\n",
    "avg_reviewer =df.groupBy('Reviewer').agg(fn.mean(df.overall).alias('avg_grade'),\n",
    "                                         fn.count(df.id).alias(\"n\"))\n",
    "print('There is ' + str(avg_reviewer.count()) + ' reviewers in the dataset')\n",
    "avg_reviewer.show(5)"
   ]
  },
  {
   "cell_type": "code",
   "execution_count": 79,
   "metadata": {},
   "outputs": [],
   "source": [
    "alpha=5\n",
    "meanrev = df.agg({\"overall\" : 'avg'}).first()[0]\n",
    "smoothed = fn.udf(lambda x,n: (n*x + meanrev*alpha)/(n + alpha))\n",
    "avg_reviewer = avg_reviewer.withColumn(\"avg_smooth\", smoothed(avg_reviewer.avg_grade, avg_reviewer.n))\n",
    "avg_reviewer.show(5)"
   ]
  },
  {
   "cell_type": "code",
   "execution_count": 80,
   "metadata": {},
   "outputs": [],
   "source": [
    "mean = avg_reviewer.agg({\"avg_smooth\" : 'avg'}).first()[0]\n",
    "stdev = avg_reviewer.agg({\"avg_smooth\" : 'std'}).first()[0]\n",
    "correction = fn.udf(lambda x: (x-mean))\n",
    "avg_reviewer = avg_reviewer.withColumn(\"avg_grade_scaled\",correction(avg_reviewer.avg_smooth))\n",
    "avg_reviewer.show(5)  "
   ]
  },
  {
   "cell_type": "code",
   "execution_count": 81,
   "metadata": {},
   "outputs": [],
   "source": [
    "avg_reviewer = avg_reviewer.drop(\"avg_grade\")\n",
    "avg_reviewer = avg_reviewer.drop(\"avg_smooth\")\n",
    "avg_reviewer = avg_reviewer.drop(\"n\")"
   ]
  },
  {
   "cell_type": "markdown",
   "metadata": {},
   "source": [
    "### 3.2 Discretization"
   ]
  },
  {
   "cell_type": "markdown",
   "metadata": {},
   "source": [
    "- We will discretize continuous variables according to quartiles because some of them contain too much NAs, hence a class will be dedicated to them.\n",
    "- In order to avoid collinearity we will only keep the NA class, the first and second quartile."
   ]
  },
  {
   "cell_type": "markdown",
   "metadata": {},
   "source": [
    "#### 3.2.1 `Length`"
   ]
  },
  {
   "cell_type": "markdown",
   "metadata": {},
   "source": [
    "To get an idea of the distribution of the variable `Length`:"
   ]
  },
  {
   "cell_type": "code",
   "execution_count": 86,
   "metadata": {},
   "outputs": [],
   "source": [
    "print('Minimum: ', df.select(fn.min(df['Length'])).collect()[0][0])\n",
    "print('First quartile: ', df.where(df['Length'].isNotNull()).approxQuantile('Length', [0.25], 0.25)[0])\n",
    "print('Median: ',df.where(df['Length'].isNotNull()).approxQuantile('Length', [0.5], 0.25)[0])\n",
    "print('Third quartile: ',df.where(df['Length'].isNotNull()).approxQuantile('Length', [0.75], 0.25)[0])\n",
    "print('Maximum: ',df.select(fn.max(df['Length'])).collect()[0][0])"
   ]
  },
  {
   "cell_type": "markdown",
   "metadata": {},
   "source": [
    "We can create dummys according to the quartiles and missing values:"
   ]
  },
  {
   "cell_type": "code",
   "execution_count": 88,
   "metadata": {},
   "outputs": [],
   "source": [
    "#NA:\n",
    "length_na = fn.when(df['Length'].isNull(), 1).otherwise(0)\n",
    "df = df.withColumn('length_na', length_na)\n",
    "\n",
    "#1st quartile:\n",
    "length_25 = fn.when(df['Length'] <= 15, 1).otherwise(0)\n",
    "df = df.withColumn('length_25', length_25)\n",
    "\n",
    "#2nd quartile:\n",
    "length_50 = fn.when( (df['Length'] > 15) & (df['Length'] < 22), 1).otherwise(0)\n",
    "df = df.withColumn('length_50', length_50)"
   ]
  },
  {
   "cell_type": "markdown",
   "metadata": {},
   "source": [
    "#### 3.2.2 `Circum`"
   ]
  },
  {
   "cell_type": "markdown",
   "metadata": {},
   "source": [
    "To get an idea of the distribution of the variable `Circum`:"
   ]
  },
  {
   "cell_type": "code",
   "execution_count": 91,
   "metadata": {},
   "outputs": [],
   "source": [
    "print(\"Minimum: \", df.select(fn.min(df['Circum'])).collect()[0][0])\n",
    "print(\"First quartile: \", df.where(df['Circum'].isNotNull()).approxQuantile(\"Circum\", [0.25], 0.25)[0])\n",
    "print(\"Median: \", df.where(df['Circum'].isNotNull()).approxQuantile(\"Circum\", [0.5], 0.25)[0])\n",
    "print(\"Third quartile: \", df.where(df['Circum'].isNotNull()).approxQuantile(\"Circum\", [0.75], 0.25)[0])\n",
    "print(\"Maximum: \", df.select(fn.max(df['Circum'])).collect()[0][0])"
   ]
  },
  {
   "cell_type": "markdown",
   "metadata": {},
   "source": [
    "We can create dummys according to the quartiles and missing values:"
   ]
  },
  {
   "cell_type": "code",
   "execution_count": 93,
   "metadata": {},
   "outputs": [],
   "source": [
    "#NA:\n",
    "circum_na = fn.when(df['Circum'].isNull(), 1).otherwise(0)\n",
    "df = df.withColumn('circum_na', circum_na)\n",
    "\n",
    "#1st quartile:\n",
    "circum_25 = fn.when(df['Circum'] <= 17, 1).otherwise(0)\n",
    "df = df.withColumn('circum_25', circum_25)\n",
    "\n",
    "#2nd quartile:\n",
    "circum_50 = fn.when( (df['Circum'] > 17) & (df['Circum'] < 22.5), 1).otherwise(0)\n",
    "df = df.withColumn('circum_50', circum_50)"
   ]
  },
  {
   "cell_type": "markdown",
   "metadata": {},
   "source": [
    "#### 3.2.3 `Volume`"
   ]
  },
  {
   "cell_type": "markdown",
   "metadata": {},
   "source": [
    "To get an idea of the distribution of the variable `Volume`:"
   ]
  },
  {
   "cell_type": "code",
   "execution_count": 96,
   "metadata": {},
   "outputs": [],
   "source": [
    "print('Minimum: ', df.select(fn.min(df['Volume'])).collect()[0][0])\n",
    "print('First quartile: ', df.where(df['Volume'].isNotNull()).approxQuantile('Volume', [0.25], 0.25)[0])\n",
    "print('Median: ', df.where(df['Volume'].isNotNull()).approxQuantile('Volume', [0.5], 0.25)[0])\n",
    "print('Third quartile: ', df.where(df['Volume'].isNotNull()).approxQuantile('Volume', [0.75], 0.25)[0])\n",
    "print('Maximum: ', df.select(fn.max(df['Volume'])).collect()[0][0])"
   ]
  },
  {
   "cell_type": "markdown",
   "metadata": {},
   "source": [
    "We can create dummys according to the quartiles and missing values:"
   ]
  },
  {
   "cell_type": "code",
   "execution_count": 98,
   "metadata": {},
   "outputs": [],
   "source": [
    "#NA:\n",
    "volume_na = fn.when(df['Volume'].isNull(), 1).otherwise(0)\n",
    "df = df.withColumn('volume_na', volume_na)\n",
    "\n",
    "#1st quartile:\n",
    "volume_25 = fn.when(df['Volume'] <= 0.4, 1).otherwise(0)\n",
    "df = df.withColumn('volume_25', volume_25)\n",
    "\n",
    "#2nd quartile:\n",
    "volume_50 = fn.when( (df['Volume'] > 0.4) & (df['Volume'] < 0.79), 1).otherwise(0)\n",
    "df = df.withColumn('volume_50', volume_50)"
   ]
  },
  {
   "cell_type": "markdown",
   "metadata": {},
   "source": [
    "#### 3.2.4 `Yelp`"
   ]
  },
  {
   "cell_type": "code",
   "execution_count": 100,
   "metadata": {},
   "outputs": [],
   "source": [
    "print(\"Minimum: \", df.select(fn.min(df['Yelp'])).collect()[0][0])\n",
    "print(\"First quartile: \", df.where(df['Yelp'].isNotNull()).approxQuantile(\"Yelp\", [0.25], 0.25)[0])\n",
    "print(\"Median: \", df.where(df['Yelp'].isNotNull()).approxQuantile(\"Yelp\", [0.5], 0.25)[0])\n",
    "print(\"Third quartile: \", df.where(df['Yelp'].isNotNull()).approxQuantile(\"Yelp\", [0.75], 0.25)[0])\n",
    "print(\"Maximum: \", df.select(fn.max(df['Yelp'])).collect()[0][0])"
   ]
  },
  {
   "cell_type": "code",
   "execution_count": 101,
   "metadata": {},
   "outputs": [],
   "source": [
    "#NA:\n",
    "yelp_na = fn.when(df['Yelp'].isNull(), 1).otherwise(0)\n",
    "df = df.withColumn('yelp_na', yelp_na)\n",
    "\n",
    "#1st quartile:\n",
    "yelp_25 = fn.when(df['Yelp'] <= 2.5, 1).otherwise(0)\n",
    "df = df.withColumn('yelp_25', yelp_25)\n",
    "\n",
    "#2nd quartile:\n",
    "yelp_50 = fn.when( (df['Yelp'] > 2.5) & (df['Yelp'] < 4.2), 1).otherwise(0)\n",
    "df = df.withColumn('yelp_50', yelp_50)"
   ]
  },
  {
   "cell_type": "markdown",
   "metadata": {},
   "source": [
    "#### 3.2.5 `Google`"
   ]
  },
  {
   "cell_type": "code",
   "execution_count": 103,
   "metadata": {},
   "outputs": [],
   "source": [
    "print(\"Minimum: \", df.select(fn.min(df['Google'])).collect()[0][0])\n",
    "print(\"First quartile: \", df.where(df['Google'].isNotNull()).approxQuantile(\"Google\", [0.25], 0.25)[0])\n",
    "print(\"Median: \", df.where(df['Google'].isNotNull()).approxQuantile(\"Google\", [0.5], 0.25)[0])\n",
    "print(\"Third quartile: \", df.where(df['Google'].isNotNull()).approxQuantile(\"Google\", [0.75], 0.25)[0])\n",
    "print(\"Maximum: \", df.select(fn.max(df['Google'])).collect()[0][0])"
   ]
  },
  {
   "cell_type": "code",
   "execution_count": 104,
   "metadata": {},
   "outputs": [],
   "source": [
    "#NA:\n",
    "google_na = fn.when(df['Google'].isNull(), 1).otherwise(0)\n",
    "df = df.withColumn('google_na', google_na)\n",
    "\n",
    "#1st quartile:\n",
    "google_25 = fn.when(df['Google'] <= 2.9, 1).otherwise(0)\n",
    "df = df.withColumn('google_25', google_25)\n",
    "\n",
    "#2nd quartile:\n",
    "google_50 = fn.when( (df['Google'] > 4.3) & (df['Google'] < 5), 1).otherwise(0)\n",
    "df = df.withColumn('google_50', google_50)"
   ]
  },
  {
   "cell_type": "markdown",
   "metadata": {},
   "source": [
    "### 3.3 Sentiment Analysis / Opinion Mining"
   ]
  },
  {
   "cell_type": "markdown",
   "metadata": {},
   "source": [
    "You can find below some example of the text on which we are going to execute sentiment analysis:"
   ]
  },
  {
   "cell_type": "code",
   "execution_count": 107,
   "metadata": {},
   "outputs": [],
   "source": [
    "df.select('Notes').show(10)"
   ]
  },
  {
   "cell_type": "markdown",
   "metadata": {},
   "source": [
    "The output of the analyzer comes from the Vader package, it outputs scores about how much the notes is positive, negative or neutral. There are called *pos, neg* and *neu* respectively.\n",
    "\n",
    "$$ pos, neg, neu  \\in \\[0,1\\]  $$ \n",
    "\n",
    "It also provides a compound score of it: $$ compound \\in [-1,1] $$"
   ]
  },
  {
   "cell_type": "markdown",
   "metadata": {},
   "source": [
    "**NB:** we keep the \"id\" column values in the rdds because it will be used as schema further in order to comeback to a dataframe format."
   ]
  },
  {
   "cell_type": "code",
   "execution_count": 110,
   "metadata": {},
   "outputs": [],
   "source": [
    "#Sentiment analyzer\n",
    "analyser = SentimentIntensityAnalyzer()\n",
    "\n",
    "#Get sentiment scores: negativity, positivity, neutrality and compound \n",
    "def get_sentiment(x):\n",
    "    return analyser.polarity_scores(x)\n",
    "\n",
    "#Storing \"Notes\" as rdd\n",
    "#lambda function: rank 0 for the id, 1 for the Notes\n",
    "notes_rdd = df.select('id', 'Notes').rdd.map(lambda x : (x[0], x[1]))\n",
    "\n",
    "#We map the function get_sentiment over the rdd we created:\n",
    "#lambda function: rank 0 to keep the id, apply get_sentiment on rank 1\n",
    "sentiment_rdd = notes_rdd.map(lambda x: (x[0],get_sentiment(x[1])))\n",
    "sentiment_rdd.take(5)"
   ]
  },
  {
   "cell_type": "markdown",
   "metadata": {},
   "source": [
    "Now we can extract positivity, negativity and compound and set them into an rdd. We do not use neutrality as:\n",
    "\n",
    "$$neg + neu + post = 1$$\n",
    "\n",
    "We want to avoid for collinearity between columns."
   ]
  },
  {
   "cell_type": "code",
   "execution_count": 112,
   "metadata": {},
   "outputs": [],
   "source": [
    "#Reshaping the rdd\n",
    "sentiment_rdd = sentiment_rdd.map(lambda x: (x[0], x[1]['neg'], x[1]['pos'], x[1]['compound']))\n",
    "\n",
    "sentiment_rdd.take(5)"
   ]
  },
  {
   "cell_type": "markdown",
   "metadata": {},
   "source": [
    "Here is a first example, when the comment is missing:"
   ]
  },
  {
   "cell_type": "code",
   "execution_count": 114,
   "metadata": {},
   "outputs": [],
   "source": [
    "#we take the second individual for the sake of the example\n",
    "i = 2\n",
    "print(notes_rdd.take(i)[i-1][1])\n",
    "print('Negativity:', sentiment_rdd.take(i)[i-1][1])\n",
    "print('Positivity:', sentiment_rdd.take(i)[i-1][2])\n",
    "print('Compound:', sentiment_rdd.take(i)[i-1][3])"
   ]
  },
  {
   "cell_type": "markdown",
   "metadata": {},
   "source": [
    "As we can, the value we set for missing values outputs neither negativity nor positivity. Indeed it output neutrality at level 1.\n",
    "\n",
    "Let's show another example:"
   ]
  },
  {
   "cell_type": "code",
   "execution_count": 116,
   "metadata": {},
   "outputs": [],
   "source": [
    "i = 5\n",
    "print(notes_rdd.take(i)[i-1][1])\n",
    "print('Negativity:', sentiment_rdd.take(i)[i-1][1])\n",
    "print('Positivity:', sentiment_rdd.take(i)[i-1][2])\n",
    "print('Compound:', sentiment_rdd.take(i)[i-1][3])"
   ]
  },
  {
   "cell_type": "markdown",
   "metadata": {},
   "source": [
    "The example above demonstrates pretty how much complexity can emanate from a note.\n",
    "\n",
    "Checking sentiment_rdd is at the right size:"
   ]
  },
  {
   "cell_type": "code",
   "execution_count": 118,
   "metadata": {},
   "outputs": [],
   "source": [
    "#Check number of rows:\n",
    "assert sentiment_rdd.count() == df.count()"
   ]
  },
  {
   "cell_type": "markdown",
   "metadata": {},
   "source": [
    "No error should come from the code above.\n",
    "\n",
    "Let's create a dataframe containing sentiment information we collected:"
   ]
  },
  {
   "cell_type": "code",
   "execution_count": 120,
   "metadata": {},
   "outputs": [],
   "source": [
    "sentiment_df = sentiment_rdd.toDF(['id', 'neg', 'pos', 'compound'])\n",
    "sentiment_df.show(10)"
   ]
  },
  {
   "cell_type": "markdown",
   "metadata": {},
   "source": [
    "We can now join sentiment_df with the original raw data df:"
   ]
  },
  {
   "cell_type": "code",
   "execution_count": 122,
   "metadata": {},
   "outputs": [],
   "source": [
    "#Join:\n",
    "df = df.join(sentiment_df, 'id', 'left')"
   ]
  },
  {
   "cell_type": "markdown",
   "metadata": {},
   "source": [
    "### 3.4 Term Frequency-Inverse Document Frequency (TF-IDF)"
   ]
  },
  {
   "cell_type": "code",
   "execution_count": 124,
   "metadata": {},
   "outputs": [],
   "source": [
    "#We filter our analysis on real comments:\n",
    "notes = df.where(df['Notes']!='Neutral').select(\"id\", \"Notes\")"
   ]
  },
  {
   "cell_type": "markdown",
   "metadata": {},
   "source": [
    "Firstly, we need to tokenize the comments:"
   ]
  },
  {
   "cell_type": "code",
   "execution_count": 126,
   "metadata": {},
   "outputs": [],
   "source": [
    "tokenizer = Tokenizer(inputCol ='Notes', outputCol='words_token')\n",
    "notes = tokenizer.transform(notes).select('id', 'words_token')\n",
    "notes.show(5)"
   ]
  },
  {
   "cell_type": "markdown",
   "metadata": {},
   "source": [
    "Secondly, we need to delete stopwords which don't give any interesting informations within the comment:"
   ]
  },
  {
   "cell_type": "code",
   "execution_count": 128,
   "metadata": {},
   "outputs": [],
   "source": [
    "remover = StopWordsRemover(inputCol='words_token', outputCol='words_clean')\n",
    "notes = remover.transform(notes).select('id', 'words_clean')\n",
    "notes.show(5)"
   ]
  },
  {
   "cell_type": "code",
   "execution_count": 129,
   "metadata": {},
   "outputs": [],
   "source": [
    "notes_byword = notes.select(fn.explode(notes.words_clean).alias('word'), 'id')\n",
    "notes_byword.show(30)"
   ]
  },
  {
   "cell_type": "markdown",
   "metadata": {},
   "source": [
    "Here, we delete the ponctuation to be able to recognize each word:"
   ]
  },
  {
   "cell_type": "code",
   "execution_count": 131,
   "metadata": {},
   "outputs": [],
   "source": [
    "notes_byword = notes_byword.select(fn.regexp_replace(notes_byword.word, r'[?.!,;]', '').alias('word'), 'id')\n",
    "notes_byword.show(10)"
   ]
  },
  {
   "cell_type": "markdown",
   "metadata": {},
   "source": [
    "Here, we group words to get the frequency within the comment and the frequency of comment where the word appears in it."
   ]
  },
  {
   "cell_type": "code",
   "execution_count": 133,
   "metadata": {},
   "outputs": [],
   "source": [
    "tf_word = notes_byword.groupBy('id', 'word').agg(fn.count('id').alias('tf'))\n",
    "df_word = notes_byword.groupBy('word').agg(fn.countDistinct('id').alias('df'))\n",
    "nb_word = notes_byword.groupBy('id').agg(fn.count('word').alias('nb'))\n",
    "tf_word.show(5)\n",
    "df_word.show(5)\n",
    "nb_word.show(5)\n",
    "print('The total number of words is of '+ str(df_word.count()) + '.')"
   ]
  },
  {
   "cell_type": "code",
   "execution_count": 134,
   "metadata": {},
   "outputs": [],
   "source": [
    "df_word.orderBy((\"df\"), ascending=False).show(100)"
   ]
  },
  {
   "cell_type": "code",
   "execution_count": 135,
   "metadata": {},
   "outputs": [],
   "source": [
    "n_max = notes.count()/2\n",
    "n_min = 10 \n",
    "df_word = df_word.where(df_word.df<n_max)\n",
    "df_word = df_word.where(df_word.df>=n_min)\n",
    "df_word.show()\n",
    "tf_word = tf_word.join(df_word,'word', 'inner')\n",
    "tf_word = tf_word.drop('df')\n",
    "tf_word.show(10)"
   ]
  },
  {
   "cell_type": "markdown",
   "metadata": {},
   "source": [
    "There are only 10 words left and they doen't seem informative by themselve. Combinaison of them can be interesting for analysis ( as 'not good') but alone it is only words about ingredients or feelings, the sentiment analyzer already captured this part and we also information about food inside the burrito. So we decided not to use TF-IDF.\n",
    "\n",
    "Hence we can now drop the variable `Notes`:"
   ]
  },
  {
   "cell_type": "code",
   "execution_count": 137,
   "metadata": {},
   "outputs": [],
   "source": [
    "#Drop:\n",
    "df = df.drop('Notes')"
   ]
  },
  {
   "cell_type": "markdown",
   "metadata": {},
   "source": [
    "### 3.4 Normalisation of continuous variables"
   ]
  },
  {
   "cell_type": "markdown",
   "metadata": {},
   "source": [
    "In order to treat data properly, the prediction model performs better with normalized data. Hence we will use the StandardScaler normalizer to do so, on a given variable \\\\(var\\\\), its mean \\\\(\\overline{var}\\\\) and its standard deviation \\\\(\\mathrm{std}(var)\\\\), we are going to normalize each observation as followed:\n",
    "\n",
    "$$ \\forall i \\in \\\\{1,...,N\\\\}: scaled\\\\_var_i = \\dfrac{var_i - \\overline{var}}{\\mathrm{std}(var)}$$"
   ]
  },
  {
   "cell_type": "code",
   "execution_count": 140,
   "metadata": {},
   "outputs": [],
   "source": [
    "continuous_var = ['Cost', 'Hunger', 'neg', 'pos', 'compound']"
   ]
  },
  {
   "cell_type": "code",
   "execution_count": 141,
   "metadata": {},
   "outputs": [],
   "source": [
    "for var in continuous_var: \n",
    "  mean = df.agg({var : 'avg'}).first()[0]\n",
    "  stdev = df.agg({var : 'std'}).first()[0]\n",
    "  stdz = fn.udf(lambda x: (x-mean)/stdev)\n",
    "  df = df.withColumn(var,stdz(df[var]))"
   ]
  },
  {
   "cell_type": "code",
   "execution_count": 142,
   "metadata": {},
   "outputs": [],
   "source": [
    "df.select(continuous_var).show(5)"
   ]
  },
  {
   "cell_type": "markdown",
   "metadata": {},
   "source": [
    "### 3.5 Reshaping the target variable: `overall`"
   ]
  },
  {
   "cell_type": "markdown",
   "metadata": {},
   "source": [
    "A logical decision would be to create a dummy which decision is ruled whether the target variable is above or below its median, let's compute the median:"
   ]
  },
  {
   "cell_type": "code",
   "execution_count": 145,
   "metadata": {},
   "outputs": [],
   "source": [
    "#Computing the median with the approxQuantile function\n",
    "#1st term: variable | 2nd term : quantile | 3rd term : relative error\n",
    "median_overall = df.approxQuantile('overall', [0.5], 0.25)[0]\n",
    "\n",
    "print('The median is about', median_overall, 'for the target variable.')"
   ]
  },
  {
   "cell_type": "markdown",
   "metadata": {},
   "source": [
    "The target variable `overall` is originally continuous, we will reshape it into a dummy variable called `good_grade` according to the following decision rule:\n",
    "$$\n",
    "\\overline{overall} = \\displaystyle \\dfrac{1}{n} \\sum_{i=1}^{N} overall_i\n",
    "$$\n",
    "  \n",
    "$$ \\forall i \\in \\\\{1,\\ldots,N\\\\} ~: goodgrade_i = \\begin{cases} 1 ~ \\mathrm{if} ~ overall_i > \\overline{overall}\n",
    "\\cr 0 ~ \\mathrm{otherwise} \\end{cases} $$  \n",
    "\n",
    "Firstly, we shall compute \\\\(\\overline{overall}\\\\) :"
   ]
  },
  {
   "cell_type": "code",
   "execution_count": 147,
   "metadata": {},
   "outputs": [],
   "source": [
    "#Calculating the mean and round it to 2 decimals:\n",
    "mean_overall = np.round(df.agg({'overall' : 'avg'}).first()[0],2)\n",
    "print(mean_overall)"
   ]
  },
  {
   "cell_type": "markdown",
   "metadata": {},
   "source": [
    "Now we are able to apply the decision rule:"
   ]
  },
  {
   "cell_type": "code",
   "execution_count": 149,
   "metadata": {},
   "outputs": [],
   "source": [
    "#Create the decision rule; according to the overall grade, we will input the variable good_grade to 1 if it is higher than the mean, 0 otherwise\n",
    "good_grade = fn.when(df['overall'] > mean_overall, 1)\\\n",
    "               .otherwise(0)\n",
    "\n",
    "#We apply the decision rule and inpute it to actual column:\n",
    "df = df.withColumn('good_grade', good_grade)"
   ]
  },
  {
   "cell_type": "code",
   "execution_count": 150,
   "metadata": {},
   "outputs": [],
   "source": [
    "#To check the decision rule has been applied\n",
    "print(df.select('overall', 'good_grade').show(10))\n",
    "\n",
    "#Dropping the original target variable:\n",
    "df_withall = df\n",
    "df = df.drop('overall')"
   ]
  },
  {
   "cell_type": "markdown",
   "metadata": {},
   "source": [
    "## 4 Data Analysis"
   ]
  },
  {
   "cell_type": "markdown",
   "metadata": {},
   "source": [
    "### 4.1 Descriptive statistics"
   ]
  },
  {
   "cell_type": "markdown",
   "metadata": {
    "jupyter": {
     "source_hidden": true
    }
   },
   "source": [
    "Let's define the following function, it will compute the following statistics for a variable \\\\(var\\\\) according to the group: \\\\(goodgrade = k ~, k \\in \\\\{0,1\\\\}\\\\)\n",
    "\n",
    "1- \\\\(\\mathrm{count}(goodgrade = k) = |i: goodgrade_i = k|\\\\)\n",
    "\n",
    "2- \\\\(\\mathrm{mean}(var) = \\overline{var} = \\displaystyle \\dfrac{1}{N} \\sum_{i = 1}^{N} var_i\\\\)\n",
    "\n",
    "3- \\\\(\\mathrm{std}(var) = \\sqrt{\\displaystyle \\dfrac{1}{N} \\sum_{i = 1}^{N} (var_i - \\overline{var})^2}\\\\)\n",
    "\n",
    "4- \\\\( \\mathrm{min}(var)\\\\)\n",
    "\n",
    "5- \\\\( \\mathrm{quantile}(var)_p, p \\in \\\\{0.25, 0.50, 0.75\\\\} = inf\\\\{var \\in \\mathbb{R}, p \\le F(var)\\\\} ~ \\mathrm{and} ~ F_X(x) = \\mathbb{P}(X \\le x) = p \\\\)\n",
    "\n",
    "6- \\\\(\\mathrm{max}(var) \\\\)"
   ]
  },
  {
   "cell_type": "code",
   "execution_count": 154,
   "metadata": {},
   "outputs": [],
   "source": [
    "def descriptive(var):\n",
    "  print(f'Statistics for the variable {var}:')\n",
    "  df.groupby(\"good_grade\")\\\n",
    "    .agg(fn.count(var).alias('count'),\n",
    "                     fn.round(fn.mean(var),2).alias('mean'),\n",
    "                     fn.round(fn.stddev(var),2).alias('std'),\n",
    "                     fn.round(fn.min(var),2).alias('min'),\n",
    "                     fn.round(fn.expr(f'percentile({var}, array(0.25))')[0],2).alias('%25'), \n",
    "                     fn.round(fn.expr(f'percentile({var}, array(0.5))')[0],2).alias('%50'),\n",
    "                     fn.round(fn.expr(f'percentile({var}, array(0.75))')[0],2).alias('%75'),\n",
    "                     fn.round(fn.max(var),2).alias('max'))\\\n",
    "    .show()"
   ]
  },
  {
   "cell_type": "markdown",
   "metadata": {},
   "source": [
    "Let's run it on the following continuous features:"
   ]
  },
  {
   "cell_type": "code",
   "execution_count": 156,
   "metadata": {},
   "outputs": [],
   "source": [
    "#list:\n",
    "continuous_var = ['Length', 'Circum', 'Volume', 'Cost', 'Google', 'Yelp', 'neg', 'pos', 'compound']\n",
    "\n",
    "#Run\n",
    "for var in continuous_var:\n",
    "  descriptive(var)"
   ]
  },
  {
   "cell_type": "markdown",
   "metadata": {},
   "source": [
    "md Counterintuitively, the mean of the variable `pos` is higher for the \\\\( goodgrade = 0 \\\\) class, however the standard deviation relatively high so we cannot assert anything from those results.\n",
    "\n",
    "We can now drop some of the continuous variables as we already created categories based on their quartiles and because the analysis is finished:"
   ]
  },
  {
   "cell_type": "code",
   "execution_count": 158,
   "metadata": {},
   "outputs": [],
   "source": [
    "df = df.drop('Length', 'Circum', 'Volume', 'Google', 'Yelp')"
   ]
  },
  {
   "cell_type": "markdown",
   "metadata": {},
   "source": [
    "We can also display the proportion of observations such that \\\\(goodgrade = 1 \\\\) per neighborhood as well as the number of different locations:"
   ]
  },
  {
   "cell_type": "code",
   "execution_count": 160,
   "metadata": {},
   "outputs": [],
   "source": [
    "neighbh = df.groupBy(df.Neighborhood)\\\n",
    "            .agg(fn.mean(df.good_grade).alias('Proportion_of_good_grades'),\n",
    "                 fn.count(df.id).alias('Number_of_tacos_evaluated'),\n",
    "                 fn.countDistinct(df.Location).alias(\"Number_of_restaurant_concerned\"))\\\n",
    "            .orderBy((\"Proportion_of_good_grades\"), ascending=False)\n",
    "display(neighbh)"
   ]
  },
  {
   "cell_type": "markdown",
   "metadata": {},
   "source": [
    "Besides, it is also possible to do it per reviewer:"
   ]
  },
  {
   "cell_type": "code",
   "execution_count": 162,
   "metadata": {},
   "outputs": [],
   "source": [
    "reviwr = df.groupBy(df.Reviewer)\\\n",
    "           .agg(fn.mean(df.good_grade).alias(\"Proportion_of_good_grades\"),\n",
    "                fn.count(df.id).alias(\"Number_of_tacos_evaluated\"))\\\n",
    "           .orderBy((\"Proportion_of_good_grades\"), ascending=False)\n",
    "\n",
    "display(reviwr)"
   ]
  },
  {
   "cell_type": "markdown",
   "metadata": {},
   "source": [
    "We can now drop those variables:"
   ]
  },
  {
   "cell_type": "code",
   "execution_count": 164,
   "metadata": {},
   "outputs": [],
   "source": [
    "df = df.drop('Neighborhood', 'Reviewer', 'Location')"
   ]
  },
  {
   "cell_type": "markdown",
   "metadata": {},
   "source": [
    "### 4.2 Visual analysis"
   ]
  },
  {
   "cell_type": "markdown",
   "metadata": {},
   "source": [
    "Let's focus our analysis on the type of burrito bought by customers, depending on they have a good grade (\\\\(goodgrade = 1 \\\\)) or not (\\\\(goodgrade = 0 \\\\)) :"
   ]
  },
  {
   "cell_type": "code",
   "execution_count": 167,
   "metadata": {},
   "outputs": [],
   "source": [
    "#Counting the number of burrito per type for the good grade class:\n",
    "good_gradeDF = df.where(df.good_grade==1)\\\n",
    "                 .groupBy(df.burrito_forstat)\\\n",
    "                 .agg(fn.count('id').alias('nb_burrito'))\\\n",
    "                 .select('nb_burrito')\\\n",
    "                 .orderBy((\"burrito_forstat\"), ascending=True)\n",
    "#Setting it in a list:\n",
    "list_L1 = [int(i.nb_burrito) for i in good_gradeDF.collect()]\n",
    "\n",
    "#Counting the number of burrito per type for the good grade class:\n",
    "bad_gradeDF = df.where(df.good_grade==0)\\\n",
    "                .groupBy(df.burrito_forstat)\\\n",
    "                .agg(fn.count('id').alias('nb_burrito'))\\\n",
    "                .select('nb_burrito')\\\n",
    "                .orderBy((\"burrito_forstat\"), ascending=True)\n",
    "#Setting it in a list:\n",
    "list_L0 = [int(i.nb_burrito) for i in bad_gradeDF.collect()]\n",
    "\n",
    "#Create the different modalities\n",
    "modalities = df.select('burrito_forstat').distinct().orderBy((\"burrito_forstat\"), ascending=True)\n",
    "modalities =  [str(i.burrito_forstat) for i in modalities.collect()]"
   ]
  },
  {
   "cell_type": "markdown",
   "metadata": {},
   "source": [
    "Let's display on a bar plot those figures:"
   ]
  },
  {
   "cell_type": "code",
   "execution_count": 169,
   "metadata": {},
   "outputs": [],
   "source": [
    "#Required list for the totals:\n",
    "totals = [i+j for i,j in zip(list_L1,list_L0)]\n",
    "list_L1p = [i / j * 100 for i,j in zip(list_L1, totals)]\n",
    "list_L0p = [i / j * 100 for i,j in zip(list_L0, totals)]\n",
    "p=range(len(list_L1)) \n",
    "\n",
    "#Plot options:\n",
    "barWidth = 0.7\n",
    "plt.figure(figsize=(12,5))\n",
    "plt.bar(p, list_L1p, color='#C7CF00', edgecolor='white', width=barWidth)\n",
    "plt.bar(p, list_L0p, bottom=list_L1p, color='crimson', edgecolor='white', width=barWidth)\n",
    "plt.xlabel('Type of burrito')\n",
    "plt.ylabel('Proportion of good and bad grades')\n",
    "plt.xticks(p, modalities, fontsize='small', size=6)\n",
    "plt.gca().legend(('Good','Bad'))\n",
    "display(plt.show())"
   ]
  },
  {
   "cell_type": "markdown",
   "metadata": {},
   "source": [
    "We can do the exact same analysis based on the food inside the burritos, let's pick some of them: `beef`, `chicken`, `shrimp`, `fish`."
   ]
  },
  {
   "cell_type": "code",
   "execution_count": 171,
   "metadata": {},
   "outputs": [],
   "source": [
    "#Lists for the good grades:\n",
    "list_beef = [int(i.nb) for i in df.where(df.Beef==1).select('good_grade').agg(fn.sum('good_grade').alias('nb')).collect()]\n",
    "list_chicken = [int(i.nb) for i in df.where(df.Chicken==1).select('good_grade').agg(fn.sum('good_grade').alias('nb')).collect()]\n",
    "list_shrimp = [int(i.nb) for i in df.where(df.Shrimp==1).select('good_grade').agg(fn.sum('good_grade').alias('nb')).collect()]\n",
    "list_fish = [int(i.nb) for i in df.where(df.Fish==1).select('good_grade').agg(fn.sum('good_grade').alias('nb')).collect()]\n",
    "#Gathering them all:\n",
    "list_L1 = [list_beef[0], list_chicken[0], list_shrimp[0], list_fish[0]]\n",
    "\n",
    "#Lists for the bad grades:\n",
    "list_beef0 = [int(i.nb) for i in df.where(df.Beef==1).where(df.good_grade==0).agg(fn.count('id').alias('nb')).collect()]\n",
    "list_chicken0 = [int(i.nb) for i in df.where(df.Chicken==1).where(df.good_grade==0).agg(fn.count('id').alias('nb')).collect()]\n",
    "list_shrimp0 = [int(i.nb) for i in df.where(df.Shrimp==1).where(df.good_grade==0).agg(fn.count('id').alias('nb')).collect()]\n",
    "list_fish0 = [int(i.nb) for i in df.where(df.Fish==1).where(df.good_grade==0).agg(fn.count('id').alias('nb')).collect()]\n",
    "#Gathering them all:\n",
    "list_L0 = [list_beef0[0], list_chicken0[0], list_shrimp0[0], list_fish0[0]]\n",
    "\n",
    "#Name of the modalities:\n",
    "modalities = ['Beef', 'Chicken', 'Shrimp', 'Fish']"
   ]
  },
  {
   "cell_type": "code",
   "execution_count": 172,
   "metadata": {},
   "outputs": [],
   "source": [
    "#Creating the totals:\n",
    "totals = [i+j for i,j in zip(list_L1,list_L0)]\n",
    "list_L1p = [i / j * 100 for i,j in zip(list_L1, totals)]\n",
    "list_L0p = [i / j * 100 for i,j in zip(list_L0, totals)]\n",
    "p=range(len(list_L1)) \n",
    "\n",
    "#Plot options:\n",
    "barWidth = 0.7\n",
    "plt.figure(figsize=(12,5))\n",
    "plt.bar(p, list_L1p, color='#C7CF00', edgecolor='white', width=barWidth)\n",
    "plt.bar(p, list_L0p, bottom=list_L1p, color='crimson', edgecolor='white', width=barWidth)\n",
    "plt.xlabel(\"Food inside the burrito\")\n",
    "plt.ylabel('Proportion of good and bad grades')\n",
    "plt.xticks(p, modalities, fontsize='small', size=12)\n",
    "plt.gca().legend(('Good','Bad'))\n",
    "display(plt.show())"
   ]
  },
  {
   "cell_type": "markdown",
   "metadata": {},
   "source": [
    "We can drop the variable `burrito_forstat`:"
   ]
  },
  {
   "cell_type": "code",
   "execution_count": 174,
   "metadata": {},
   "outputs": [],
   "source": [
    "df = df.drop('burrito_forstat')"
   ]
  },
  {
   "cell_type": "markdown",
   "metadata": {},
   "source": [
    "### 4.3 Correlation"
   ]
  },
  {
   "cell_type": "code",
   "execution_count": 176,
   "metadata": {},
   "outputs": [],
   "source": [
    "for c in df.columns:\n",
    "  matrix = df.corr(c,'good_grade' )\n",
    "  print(c,\":\",np.round(matrix,2))"
   ]
  },
  {
   "cell_type": "markdown",
   "metadata": {},
   "source": [
    "We can first erase the variables for which the correlation does not exist or equals 0"
   ]
  },
  {
   "cell_type": "code",
   "execution_count": 178,
   "metadata": {},
   "outputs": [],
   "source": [
    "\n",
    "df = df.drop('Sour cream', 'Fries', 'Queso', 'None', 'taco_villa')"
   ]
  },
  {
   "cell_type": "code",
   "execution_count": 179,
   "metadata": {},
   "outputs": [],
   "source": [
    "display(df)"
   ]
  },
  {
   "cell_type": "markdown",
   "metadata": {},
   "source": [
    "## 5 Modeling"
   ]
  },
  {
   "cell_type": "code",
   "execution_count": 181,
   "metadata": {},
   "outputs": [],
   "source": [
    "###(Bruno): on devra supprimer cette partie à la toute fin et vérifier que tout se run bien, c'est juste pour gagner du temps:"
   ]
  },
  {
   "cell_type": "code",
   "execution_count": 182,
   "metadata": {},
   "outputs": [
    {
     "data": {
      "text/html": [
       "<style scoped>\n",
       "  .ansiout {\n",
       "    display: block;\n",
       "    unicode-bidi: embed;\n",
       "    white-space: pre-wrap;\n",
       "    word-wrap: break-word;\n",
       "    word-break: break-all;\n",
       "    font-family: \"Source Code Pro\", \"Menlo\", monospace;;\n",
       "    font-size: 13px;\n",
       "    color: #555;\n",
       "    margin-left: 4px;\n",
       "    line-height: 19px;\n",
       "  }\n",
       "</style>\n",
       "<div class=\"ansiout\"></div>"
      ]
     },
     "metadata": {},
     "output_type": "display_data"
    }
   ],
   "source": [
    "df_path = '/FileStore/tables/Burrito_cleaned_v2.csv'\n",
    "\n",
    "#Loading the Burrito csv file\n",
    "df = spark.read.format('csv').options(header='true', inferSchema='true').load(df_path)\n",
    "\n",
    "#number of observations:\n",
    "N = df.count()"
   ]
  },
  {
   "cell_type": "code",
   "execution_count": 183,
   "metadata": {},
   "outputs": [
    {
     "data": {
      "text/html": [
       "<style scoped>\n",
       "  .table-result-container {\n",
       "    max-height: 300px;\n",
       "    overflow: auto;\n",
       "  }\n",
       "  table, th, td {\n",
       "    border: 1px solid black;\n",
       "    border-collapse: collapse;\n",
       "  }\n",
       "  th, td {\n",
       "    padding: 5px;\n",
       "  }\n",
       "  th {\n",
       "    text-align: left;\n",
       "  }\n",
       "</style><div class='table-result-container'><table class='table-result'><thead style='background-color: white'><tr><th>id</th><th>Chips</th><th>Cost</th><th>Hunger</th><th>Beef</th><th>Pico</th><th>Guac</th><th>Cheese</th><th>Pork</th><th>Chicken</th><th>Shrimp</th><th>Fish</th><th>Rice</th><th>Beans</th><th>Lettuce</th><th>Tomato</th><th>Bell peper</th><th>Carrots</th><th>Cabbage</th><th>Sauce</th><th>Salsa49</th><th>Cilantro</th><th>Onion</th><th>Taquito</th><th>Pineapple</th><th>Ham</th><th>Chile relleno</th><th>Nopales</th><th>Lobster</th><th>Egg</th><th>Mushroom</th><th>Bacon</th><th>Sushi</th><th>Avocado</th><th>Corn</th><th>Zucchini</th><th>california</th><th>carne_asada</th><th>carnitas</th><th>california_everything</th><th>local</th><th>surf_and_turf</th><th>al_pastor</th><th>adobada</th><th>surfin_california</th><th>utc</th><th>miramar</th><th>north_park</th><th>clairemont</th><th>linda_vista</th><th>la_jolla</th><th>encinitas</th><th>carlsbad</th><th>oceanside</th><th>hillcrest</th><th>san_marcos</th><th>pacific_beach</th><th>downtown</th><th>university_heights</th><th>kearny_mesa</th><th>carmel_valley</th><th>lucha_libre_north_park</th><th>california_burritos</th><th>rigoberto_s_taco_shop</th><th>taco_stand</th><th>los_tacos</th><th>lolita_s_taco_shop</th><th>vallarta_express</th><th>los_primos_mexican_food</th><th>el_zarape</th><th>valentine_s_mexican_food</th><th>valentines_mexican_food</th><th>tony_s_fresh_mexican_food</th><th>cancun_mexican_&_seafood</th><th>lupe_s_taco_shop</th><th>length_na</th><th>length_25</th><th>length_50</th><th>circum_na</th><th>circum_25</th><th>circum_50</th><th>volume_na</th><th>volume_25</th><th>volume_50</th><th>yelp_na</th><th>yelp_25</th><th>yelp_50</th><th>google_na</th><th>google_25</th><th>google_50</th><th>neg</th><th>pos</th><th>compound</th><th>good_grade</th></tr></thead><tbody><tr><td>26</td><td>0</td><td>-0.0451011762890213</td><td>0.005724215453194856</td><td>1</td><td>1</td><td>1</td><td>1</td><td>0</td><td>0</td><td>0</td><td>0</td><td>0</td><td>1</td><td>0</td><td>0</td><td>0</td><td>0</td><td>0</td><td>0</td><td>0</td><td>0</td><td>0</td><td>0</td><td>0</td><td>0</td><td>0</td><td>0</td><td>0</td><td>0</td><td>0</td><td>0</td><td>0</td><td>0</td><td>0</td><td>0</td><td>0</td><td>1</td><td>0</td><td>0</td><td>0</td><td>0</td><td>0</td><td>0</td><td>0</td><td>0</td><td>0</td><td>0</td><td>0</td><td>0</td><td>0</td><td>0</td><td>1</td><td>0</td><td>0</td><td>0</td><td>0</td><td>0</td><td>0</td><td>0</td><td>0</td><td>0</td><td>0</td><td>0</td><td>0</td><td>0</td><td>0</td><td>0</td><td>0</td><td>0</td><td>0</td><td>0</td><td>0</td><td>0</td><td>0</td><td>1</td><td>0</td><td>0</td><td>1</td><td>0</td><td>0</td><td>1</td><td>0</td><td>0</td><td>0</td><td>0</td><td>0</td><td>0</td><td>0</td><td>1</td><td>-0.23685624780129297</td><td>3.847466564841965</td><td>2.315212563527023</td><td>0</td></tr><tr><td>29</td><td>0</td><td>-0.38643616257794405</td><td>1.241567654322525</td><td>1</td><td>0</td><td>0</td><td>0</td><td>0</td><td>0</td><td>0</td><td>0</td><td>1</td><td>1</td><td>0</td><td>0</td><td>0</td><td>0</td><td>0</td><td>1</td><td>0</td><td>0</td><td>0</td><td>0</td><td>0</td><td>0</td><td>1</td><td>0</td><td>0</td><td>0</td><td>0</td><td>0</td><td>0</td><td>0</td><td>0</td><td>0</td><td>0</td><td>0</td><td>0</td><td>0</td><td>0</td><td>0</td><td>0</td><td>0</td><td>0</td><td>0</td><td>0</td><td>1</td><td>0</td><td>0</td><td>0</td><td>0</td><td>0</td><td>0</td><td>0</td><td>0</td><td>0</td><td>0</td><td>0</td><td>0</td><td>0</td><td>0</td><td>0</td><td>0</td><td>0</td><td>0</td><td>0</td><td>0</td><td>0</td><td>0</td><td>0</td><td>0</td><td>0</td><td>0</td><td>0</td><td>1</td><td>0</td><td>0</td><td>1</td><td>0</td><td>0</td><td>1</td><td>0</td><td>0</td><td>0</td><td>0</td><td>1</td><td>0</td><td>0</td><td>0</td><td>-0.23685624780129297</td><td>1.4584755888987595</td><td>0.6255548148108032</td><td>0</td></tr><tr><td>65</td><td>0</td><td>0.550561838999491</td><td>-1.8480409428508004</td><td>1</td><td>1</td><td>1</td><td>0</td><td>0</td><td>0</td><td>0</td><td>0</td><td>0</td><td>0</td><td>0</td><td>0</td><td>0</td><td>0</td><td>0</td><td>0</td><td>0</td><td>0</td><td>0</td><td>0</td><td>0</td><td>0</td><td>0</td><td>0</td><td>0</td><td>0</td><td>0</td><td>0</td><td>0</td><td>0</td><td>0</td><td>0</td><td>0</td><td>1</td><td>0</td><td>0</td><td>0</td><td>0</td><td>0</td><td>0</td><td>0</td><td>0</td><td>0</td><td>0</td><td>0</td><td>0</td><td>0</td><td>0</td><td>0</td><td>0</td><td>0</td><td>0</td><td>0</td><td>0</td><td>0</td><td>0</td><td>0</td><td>0</td><td>0</td><td>0</td><td>1</td><td>0</td><td>0</td><td>0</td><td>0</td><td>0</td><td>0</td><td>0</td><td>0</td><td>0</td><td>0</td><td>1</td><td>0</td><td>0</td><td>1</td><td>0</td><td>0</td><td>1</td><td>0</td><td>0</td><td>1</td><td>0</td><td>0</td><td>1</td><td>0</td><td>0</td><td>1.5395372921708859</td><td>-0.41943771557400883</td><td>-1.209812761687522</td><td>0</td></tr><tr><td>191</td><td>1</td><td>-0.7210783059984567</td><td>0.6236459348878599</td><td>1</td><td>0</td><td>0</td><td>1</td><td>0</td><td>0</td><td>0</td><td>0</td><td>0</td><td>0</td><td>0</td><td>0</td><td>0</td><td>0</td><td>0</td><td>0</td><td>0</td><td>0</td><td>0</td><td>0</td><td>0</td><td>0</td><td>0</td><td>0</td><td>0</td><td>0</td><td>0</td><td>0</td><td>0</td><td>0</td><td>0</td><td>0</td><td>1</td><td>0</td><td>0</td><td>0</td><td>0</td><td>0</td><td>0</td><td>0</td><td>0</td><td>0</td><td>0</td><td>0</td><td>0</td><td>0</td><td>0</td><td>0</td><td>0</td><td>0</td><td>0</td><td>1</td><td>0</td><td>0</td><td>0</td><td>0</td><td>0</td><td>0</td><td>0</td><td>0</td><td>0</td><td>0</td><td>0</td><td>0</td><td>0</td><td>0</td><td>0</td><td>0</td><td>0</td><td>0</td><td>0</td><td>0</td><td>0</td><td>1</td><td>0</td><td>0</td><td>1</td><td>0</td><td>0</td><td>1</td><td>0</td><td>0</td><td>1</td><td>0</td><td>0</td><td>0</td><td>-0.23685624780129297</td><td>-0.41943771557400883</td><td>-0.256936345541834</td><td>0</td></tr><tr><td>418</td><td>0</td><td>-0.7143854631300466</td><td>-3.0838843817201305</td><td>0</td><td>0</td><td>0</td><td>0</td><td>0</td><td>0</td><td>0</td><td>0</td><td>0</td><td>0</td><td>0</td><td>0</td><td>0</td><td>0</td><td>0</td><td>0</td><td>0</td><td>0</td><td>0</td><td>0</td><td>0</td><td>0</td><td>0</td><td>0</td><td>0</td><td>0</td><td>0</td><td>0</td><td>0</td><td>0</td><td>0</td><td>0</td><td>0</td><td>0</td><td>0</td><td>0</td><td>0</td><td>0</td><td>1</td><td>0</td><td>0</td><td>0</td><td>0</td><td>0</td><td>0</td><td>0</td><td>0</td><td>0</td><td>0</td><td>0</td><td>0</td><td>0</td><td>0</td><td>0</td><td>0</td><td>0</td><td>0</td><td>0</td><td>0</td><td>0</td><td>0</td><td>0</td><td>0</td><td>0</td><td>0</td><td>0</td><td>1</td><td>0</td><td>0</td><td>0</td><td>0</td><td>0</td><td>0</td><td>1</td><td>0</td><td>0</td><td>1</td><td>0</td><td>0</td><td>1</td><td>1</td><td>0</td><td>0</td><td>1</td><td>0</td><td>0</td><td>-0.23685624780129297</td><td>-0.41943771557400883</td><td>-0.256936345541834</td><td>0</td></tr></tbody></table></div>"
      ]
     },
     "metadata": {},
     "output_type": "display_data"
    }
   ],
   "source": [
    "display(df.limit(5))"
   ]
  },
  {
   "cell_type": "markdown",
   "metadata": {},
   "source": [
    "### 5.1 Last checks:"
   ]
  },
  {
   "cell_type": "markdown",
   "metadata": {},
   "source": [
    "Checking for NAs:"
   ]
  },
  {
   "cell_type": "code",
   "execution_count": 186,
   "metadata": {},
   "outputs": [
    {
     "data": {
      "text/html": [
       "<style scoped>\n",
       "  .table-result-container {\n",
       "    max-height: 300px;\n",
       "    overflow: auto;\n",
       "  }\n",
       "  table, th, td {\n",
       "    border: 1px solid black;\n",
       "    border-collapse: collapse;\n",
       "  }\n",
       "  th, td {\n",
       "    padding: 5px;\n",
       "  }\n",
       "  th {\n",
       "    text-align: left;\n",
       "  }\n",
       "</style><div class='table-result-container'><table class='table-result'><thead style='background-color: white'><tr><th>id</th><th>Chips</th><th>Cost</th><th>Hunger</th><th>Beef</th><th>Pico</th><th>Guac</th><th>Cheese</th><th>Pork</th><th>Chicken</th><th>Shrimp</th><th>Fish</th><th>Rice</th><th>Beans</th><th>Lettuce</th><th>Tomato</th><th>Bell peper</th><th>Carrots</th><th>Cabbage</th><th>Sauce</th><th>Salsa49</th><th>Cilantro</th><th>Onion</th><th>Taquito</th><th>Pineapple</th><th>Ham</th><th>Chile relleno</th><th>Nopales</th><th>Lobster</th><th>Egg</th><th>Mushroom</th><th>Bacon</th><th>Sushi</th><th>Avocado</th><th>Corn</th><th>Zucchini</th><th>california</th><th>carne_asada</th><th>carnitas</th><th>california_everything</th><th>local</th><th>surf_and_turf</th><th>al_pastor</th><th>adobada</th><th>surfin_california</th><th>utc</th><th>miramar</th><th>north_park</th><th>clairemont</th><th>linda_vista</th><th>la_jolla</th><th>encinitas</th><th>carlsbad</th><th>oceanside</th><th>hillcrest</th><th>san_marcos</th><th>pacific_beach</th><th>downtown</th><th>university_heights</th><th>kearny_mesa</th><th>carmel_valley</th><th>lucha_libre_north_park</th><th>california_burritos</th><th>rigoberto_s_taco_shop</th><th>taco_stand</th><th>los_tacos</th><th>lolita_s_taco_shop</th><th>vallarta_express</th><th>los_primos_mexican_food</th><th>el_zarape</th><th>valentine_s_mexican_food</th><th>valentines_mexican_food</th><th>tony_s_fresh_mexican_food</th><th>cancun_mexican_&_seafood</th><th>lupe_s_taco_shop</th><th>length_na</th><th>length_25</th><th>length_50</th><th>circum_na</th><th>circum_25</th><th>circum_50</th><th>volume_na</th><th>volume_25</th><th>volume_50</th><th>yelp_na</th><th>yelp_25</th><th>yelp_50</th><th>google_na</th><th>google_25</th><th>google_50</th><th>neg</th><th>pos</th><th>compound</th><th>good_grade</th></tr></thead><tbody><tr><td>0</td><td>0</td><td>0</td><td>0</td><td>0</td><td>0</td><td>0</td><td>0</td><td>0</td><td>0</td><td>0</td><td>0</td><td>0</td><td>0</td><td>0</td><td>0</td><td>0</td><td>0</td><td>0</td><td>0</td><td>0</td><td>0</td><td>0</td><td>0</td><td>0</td><td>0</td><td>0</td><td>0</td><td>0</td><td>0</td><td>0</td><td>0</td><td>0</td><td>0</td><td>0</td><td>0</td><td>0</td><td>0</td><td>0</td><td>0</td><td>0</td><td>0</td><td>0</td><td>0</td><td>0</td><td>0</td><td>0</td><td>0</td><td>0</td><td>0</td><td>0</td><td>0</td><td>0</td><td>0</td><td>0</td><td>0</td><td>0</td><td>0</td><td>0</td><td>0</td><td>0</td><td>0</td><td>0</td><td>0</td><td>0</td><td>0</td><td>0</td><td>0</td><td>0</td><td>0</td><td>0</td><td>0</td><td>0</td><td>0</td><td>0</td><td>0</td><td>0</td><td>0</td><td>0</td><td>0</td><td>0</td><td>0</td><td>0</td><td>0</td><td>0</td><td>0</td><td>0</td><td>0</td><td>0</td><td>0</td><td>0</td><td>0</td><td>0</td><td>0</td></tr></tbody></table></div>"
      ]
     },
     "metadata": {},
     "output_type": "display_data"
    }
   ],
   "source": [
    "na_per_column = df.select([fn.count(fn.when(df[c].isNull(), c)).alias(c) for c in df.columns])\n",
    "display(na_per_column)"
   ]
  },
  {
   "cell_type": "markdown",
   "metadata": {},
   "source": [
    "No missing or null values :)"
   ]
  },
  {
   "cell_type": "code",
   "execution_count": 188,
   "metadata": {},
   "outputs": [
    {
     "data": {
      "text/html": [
       "<style scoped>\n",
       "  .ansiout {\n",
       "    display: block;\n",
       "    unicode-bidi: embed;\n",
       "    white-space: pre-wrap;\n",
       "    word-wrap: break-word;\n",
       "    word-break: break-all;\n",
       "    font-family: \"Source Code Pro\", \"Menlo\", monospace;;\n",
       "    font-size: 13px;\n",
       "    color: #555;\n",
       "    margin-left: 4px;\n",
       "    line-height: 19px;\n",
       "  }\n",
       "</style>\n",
       "<div class=\"ansiout\"></div>"
      ]
     },
     "metadata": {},
     "output_type": "display_data"
    }
   ],
   "source": [
    "assert df.count() == N"
   ]
  },
  {
   "cell_type": "markdown",
   "metadata": {},
   "source": [
    "### 5.1 Feature selection"
   ]
  },
  {
   "cell_type": "markdown",
   "metadata": {},
   "source": [
    "#### 5.1.1 Vector Assembler"
   ]
  },
  {
   "cell_type": "markdown",
   "metadata": {},
   "source": [
    "First, we need to gather all features into one vector for each individual:"
   ]
  },
  {
   "cell_type": "code",
   "execution_count": 192,
   "metadata": {},
   "outputs": [
    {
     "data": {
      "text/html": [
       "<style scoped>\n",
       "  .table-result-container {\n",
       "    max-height: 300px;\n",
       "    overflow: auto;\n",
       "  }\n",
       "  table, th, td {\n",
       "    border: 1px solid black;\n",
       "    border-collapse: collapse;\n",
       "  }\n",
       "  th, td {\n",
       "    padding: 5px;\n",
       "  }\n",
       "  th {\n",
       "    text-align: left;\n",
       "  }\n",
       "</style><div class='table-result-container'><table class='table-result'><thead style='background-color: white'><tr><th>id</th><th>features</th></tr></thead><tbody><tr><td>26</td><td>List(0, 92, List(1, 2, 3, 4, 5, 6, 12, 36, 51, 74, 77, 80, 88, 89, 90, 91), List(-0.0451011762890213, 0.005724215453194856, 1.0, 1.0, 1.0, 1.0, 1.0, 1.0, 1.0, 1.0, 1.0, 1.0, 1.0, -0.23685624780129297, 3.847466564841965, 2.315212563527023))</td></tr><tr><td>29</td><td>List(0, 92, List(1, 2, 3, 11, 12, 18, 25, 46, 74, 77, 80, 85, 89, 90, 91), List(-0.38643616257794405, 1.241567654322525, 1.0, 1.0, 1.0, 1.0, 1.0, 1.0, 1.0, 1.0, 1.0, 1.0, -0.23685624780129297, 1.4584755888987595, 0.6255548148108032))</td></tr><tr><td>65</td><td>List(0, 92, List(1, 2, 3, 4, 5, 36, 63, 74, 77, 80, 83, 86, 89, 90, 91), List(0.550561838999491, -1.8480409428508004, 1.0, 1.0, 1.0, 1.0, 1.0, 1.0, 1.0, 1.0, 1.0, 1.0, 1.5395372921708859, -0.41943771557400883, -1.209812761687522))</td></tr><tr><td>191</td><td>List(0, 92, List(0, 1, 2, 3, 6, 35, 54, 76, 79, 82, 85, 89, 90, 91), List(1.0, -0.7210783059984567, 0.6236459348878599, 1.0, 1.0, 1.0, 1.0, 1.0, 1.0, 1.0, 1.0, -0.23685624780129297, -0.41943771557400883, -0.256936345541834))</td></tr><tr><td>418</td><td>List(0, 92, List(1, 2, 41, 69, 76, 79, 82, 83, 86, 89, 90, 91), List(-0.7143854631300466, -3.0838843817201305, 1.0, 1.0, 1.0, 1.0, 1.0, 1.0, 1.0, -0.23685624780129297, -0.41943771557400883, -0.256936345541834))</td></tr><tr><td>222</td><td>List(0, 92, List(1, 2, 74, 77, 80, 89, 90, 91), List(-1.3903625928394818, 0.005724215453194856, 1.0, 1.0, 1.0, -0.23685624780129297, -0.41943771557400883, -0.256936345541834))</td></tr><tr><td>270</td><td>List(0, 92, List(1, 2, 4, 5, 7, 41, 76, 79, 82, 83, 86, 89, 90, 91), List(-0.7210783059984567, 0.6236459348878599, 1.0, 1.0, 1.0, 1.0, 1.0, 1.0, 1.0, 1.0, 1.0, -0.23685624780129297, -0.41943771557400883, -0.256936345541834))</td></tr><tr><td>293</td><td>List(0, 92, List(1, 2, 51, 76, 85, 89, 90, 91), List(-0.05179401915743141, 0.005724215453194856, 1.0, 1.0, 1.0, 2.3383182799436106, 1.4644183525205088, 0.7202250419008716))</td></tr><tr><td>243</td><td>List(0, 92, List(1, 2, 6, 28, 30, 45, 62, 79, 85, 88, 89, 90, 91), List(-0.5136001770777391, 0.6236459348878599, 1.0, 1.0, 1.0, 1.0, 1.0, 1.0, 1.0, 1.0, -0.23685624780129297, -0.41943771557400883, -0.256936345541834))</td></tr><tr><td>278</td><td>List(0, 92, List(1, 2, 3, 4, 5, 6, 35, 57, 68, 76, 79, 82, 85, 88, 89, 90, 91), List(-0.5470643914197902, 0.6236459348878599, 1.0, 1.0, 1.0, 1.0, 1.0, 1.0, 1.0, 1.0, 1.0, 1.0, 1.0, 1.0, -0.23685624780129297, -0.41943771557400883, -0.256936345541834))</td></tr><tr><td>367</td><td>List(0, 92, List(1, 2, 36, 56, 70, 76, 79, 82, 85, 89, 90, 91), List(-0.2124222479992776, 0.6236459348878599, 1.0, 1.0, 1.0, 1.0, 1.0, 1.0, 1.0, -0.23685624780129297, -0.41943771557400883, -0.256936345541834))</td></tr><tr><td>19</td><td>List(0, 92, List(1, 2, 3, 4, 35, 49, 74, 77, 80, 84, 89, 90, 91), List(-0.4466717483936362, 0.6236459348878599, 1.0, 1.0, 1.0, 1.0, 1.0, 1.0, 1.0, 1.0, -0.23685624780129297, -0.41943771557400883, -0.256936345541834))</td></tr><tr><td>54</td><td>List(0, 92, List(0, 1, 2, 3, 26, 59, 74, 77, 80, 85, 88, 89, 90, 91), List(1.0, 0.7915041822622603, 0.005724215453194856, 1.0, 1.0, 1.0, 1.0, 1.0, 1.0, 1.0, 1.0, -0.23685624780129297, -0.41943771557400883, -0.256936345541834))</td></tr><tr><td>296</td><td>List(0, 92, List(1, 2, 35, 76, 79, 82, 85, 89, 90, 91), List(-0.9486349635244051, -0.6121975039814702, 1.0, 1.0, 1.0, 1.0, 1.0, -0.23685624780129297, 1.868526278799459, 1.2297978294552394))</td></tr><tr><td>0</td><td>List(0, 92, List(1, 2, 3, 4, 5, 6, 35, 45, 74, 77, 80, 85, 89, 90, 91), List(-0.38643616257794405, -0.6121975039814702, 1.0, 1.0, 1.0, 1.0, 1.0, 1.0, 1.0, 1.0, 1.0, 1.0, -0.23685624780129297, 3.0986783485015574, 1.555792698391475))</td></tr><tr><td>277</td><td>List(0, 92, List(1, 2, 4, 5, 7, 37, 47, 76, 82, 85, 88, 89, 90, 91), List(-0.24588646234132874, 0.3146850751705274, 1.0, 1.0, 1.0, 1.0, 1.0, 1.0, 1.0, 1.0, 1.0, -0.23685624780129297, -0.41943771557400883, -0.256936345541834))</td></tr><tr><td>287</td><td>List(0, 92, List(1, 2, 35, 56, 70, 74, 77, 80, 85, 89, 90, 91), List(0.5572546818679016, 0.005724215453194856, 1.0, 1.0, 1.0, 1.0, 1.0, 1.0, 1.0, -0.23685624780129297, -0.41943771557400883, -0.256936345541834))</td></tr><tr><td>348</td><td>List(0, 92, List(1, 2, 3, 4, 5, 53, 76, 79, 82, 85, 89, 90, 91), List(-0.0451011762890213, 0.005724215453194856, 1.0, 1.0, 1.0, 1.0, 1.0, 1.0, 1.0, 1.0, -0.23685624780129297, -0.41943771557400883, -0.256936345541834))</td></tr><tr><td>415</td><td>List(0, 92, List(1, 2, 36, 69, 76, 83, 86, 89, 90, 91), List(-0.2124222479992776, -0.6121975039814702, 1.0, 1.0, 1.0, 1.0, 1.0, -0.23685624780129297, -0.41943771557400883, -0.256936345541834))</td></tr><tr><td>112</td><td>List(0, 92, List(1, 2, 41, 45, 62, 74, 77, 80, 85, 88, 89, 90, 91), List(0.0017487237898506558, 0.6236459348878599, 1.0, 1.0, 1.0, 1.0, 1.0, 1.0, 1.0, 1.0, -0.23685624780129297, -0.41943771557400883, -0.256936345541834))</td></tr><tr><td>113</td><td>List(0, 92, List(1, 2, 3, 5, 6, 11, 35, 55, 76, 85, 88, 89, 90, 91), List(0.04859862386872202, 0.005724215453194856, 1.0, 1.0, 1.0, 1.0, 1.0, 1.0, 1.0, 1.0, 1.0, -0.23685624780129297, -0.41943771557400883, -0.256936345541834))</td></tr><tr><td>155</td><td>List(0, 92, List(1, 2, 3, 6, 35, 65, 76, 83, 86, 89, 90, 91), List(-0.0451011762890213, -1.600872255076934, 1.0, 1.0, 1.0, 1.0, 1.0, 1.0, 1.0, -0.23685624780129297, -0.41943771557400883, -0.256936345541834))</td></tr><tr><td>167</td><td>List(0, 92, List(1, 2, 3, 4, 5, 6, 48, 61, 79, 88, 89, 90, 91), List(-0.5470643914197902, 1.85948937375719, 1.0, 1.0, 1.0, 1.0, 1.0, 1.0, 1.0, 1.0, -0.23685624780129297, -0.41943771557400883, -0.256936345541834))</td></tr><tr><td>299</td><td>List(0, 92, List(1, 2, 3, 4, 5, 36, 76, 79, 82, 85, 89, 90, 91), List(0.45686203884174764, 0.6236459348878599, 1.0, 1.0, 1.0, 1.0, 1.0, 1.0, 1.0, 1.0, 2.8748129732237993, 0.864199226723833, -0.8871107702152891))</td></tr><tr><td>385</td><td>List(0, 92, List(1, 2, 35, 49, 63, 76, 79, 82, 88, 89, 90, 91), List(0.550561838999491, 1.85948937375719, 1.0, 1.0, 1.0, 1.0, 1.0, 1.0, 1.0, -0.23685624780129297, -0.41943771557400883, -0.256936345541834))</td></tr><tr><td>237</td><td>List(0, 92, List(1, 2, 3, 11, 12, 20, 21, 79, 82, 85, 88, 89, 90, 91), List(-1.0557204494189694, 0.6236459348878599, 1.0, 1.0, 1.0, 1.0, 1.0, 1.0, 1.0, 1.0, 1.0, -0.23685624780129297, 2.5044019863266307, 1.555792698391475))</td></tr><tr><td>241</td><td>List(0, 92, List(1, 2, 3, 4, 5, 6, 45, 62, 85, 88, 89, 90, 91), List(0.3899336101576453, 1.241567654322525, 1.0, 1.0, 1.0, 1.0, 1.0, 1.0, 1.0, 1.0, -0.23685624780129297, -0.41943771557400883, -0.256936345541834))</td></tr><tr><td>347</td><td>List(0, 92, List(1, 2, 52, 79, 82, 89, 90, 91), List(1.9292874698920026, 0.8708146226617262, 1.0, 1.0, 1.0, -0.23685624780129297, -0.41943771557400883, -0.256936345541834))</td></tr><tr><td>22</td><td>List(0, 92, List(1, 2, 4, 5, 7, 58, 65, 74, 77, 80, 85, 88, 89, 90, 91), List(-1.0490276065505593, -1.2301192234161353, 1.0, 1.0, 1.0, 1.0, 1.0, 1.0, 1.0, 1.0, 1.0, 1.0, -0.23685624780129297, -0.41943771557400883, -0.256936345541834))</td></tr><tr><td>198</td><td>List(0, 92, List(1, 2, 3, 4, 9, 11, 18, 32, 40, 46, 60, 76, 79, 82, 85, 89, 90, 91), List(0.7915041822622603, 0.005724215453194856, 1.0, 1.0, 1.0, 1.0, 1.0, 1.0, 1.0, 1.0, 1.0, 1.0, 1.0, 1.0, 1.0, -0.23685624780129297, -0.41943771557400883, -0.256936345541834))</td></tr><tr><td>330</td><td>List(0, 92, List(1, 2, 40, 61, 74, 77, 80, 83, 86, 89, 90, 91), List(-0.2124222479992776, 0.6236459348878599, 1.0, 1.0, 1.0, 1.0, 1.0, 1.0, 1.0, -0.23685624780129297, -0.41943771557400883, -0.256936345541834))</td></tr><tr><td>414</td><td>List(0, 92, List(1, 2, 69, 76, 83, 86, 89, 90, 91), List(-1.0490276065505593, -1.8480409428508004, 1.0, 1.0, 1.0, 1.0, -0.23685624780129297, -0.41943771557400883, -0.256936345541834))</td></tr><tr><td>130</td><td>List(0, 92, List(0, 1, 2, 74, 77, 80, 83, 86, 89, 90, 91), List(1.0, 0.7915041822622603, 0.6236459348878599, 1.0, 1.0, 1.0, 1.0, 1.0, -0.23685624780129297, -0.41943771557400883, -0.256936345541834))</td></tr><tr><td>196</td><td>List(0, 92, List(1, 2, 3, 4, 9, 11, 18, 32, 40, 46, 60, 74, 77, 80, 85, 89, 90, 91), List(0.7915041822622603, 0.5000615910009268, 1.0, 1.0, 1.0, 1.0, 1.0, 1.0, 1.0, 1.0, 1.0, 1.0, 1.0, 1.0, 1.0, 3.172865580601681, -0.41943771557400883, -1.6613485839388482))</td></tr><tr><td>7</td><td>List(0, 92, List(1, 2, 4, 5, 7, 37, 59, 74, 77, 80, 85, 87, 89, 90, 91), List(-0.05179401915743141, 0.6236459348878599, 1.0, 1.0, 1.0, 1.0, 1.0, 1.0, 1.0, 1.0, 1.0, 1.0, -0.23685624780129297, -0.41943771557400883, -0.256936345541834))</td></tr><tr><td>77</td><td>List(0, 92, List(1, 2, 3, 4, 5, 6, 35, 63, 76, 77, 80, 83, 86, 89, 90, 91), List(0.6241831105520039, 0.6236459348878599, 1.0, 1.0, 1.0, 1.0, 1.0, 1.0, 1.0, 1.0, 1.0, 1.0, 1.0, -0.23685624780129297, 2.201321041617418, 3.1841206043406505))</td></tr><tr><td>34</td><td>List(0, 92, List(0, 1, 2, 3, 4, 5, 6, 35, 57, 68, 74, 77, 80, 85, 88, 89, 90, 91), List(1.0, -0.5470643914197902, -3.7018061011547956, 1.0, 1.0, 1.0, 1.0, 1.0, 1.0, 1.0, 1.0, 1.0, 1.0, 1.0, 1.0, -0.23685624780129297, -0.41943771557400883, -0.256936345541834))</td></tr><tr><td>184</td><td>List(0, 92, List(1, 2, 3, 4, 6, 35, 52, 79, 82, 85, 89, 90, 91), List(-1.1895773067871744, 0.005724215453194856, 1.0, 1.0, 1.0, 1.0, 1.0, 1.0, 1.0, 1.0, 2.827124556043338, -0.41943771557400883, -2.2252538496492553))</td></tr><tr><td>188</td><td>List(0, 92, List(1, 2, 3, 4, 5, 36, 47, 76, 79, 82, 85, 89, 90, 91), List(-0.3797433197095339, 1.85948937375719, 1.0, 1.0, 1.0, 1.0, 1.0, 1.0, 1.0, 1.0, 1.0, -0.23685624780129297, -0.41943771557400883, -0.256936345541834))</td></tr><tr><td>399</td><td>List(0, 92, List(1, 2, 37, 44, 79, 82, 85, 89, 90, 91), List(-0.7210783059984567, 1.85948937375719, 1.0, 1.0, 1.0, 1.0, 1.0, -0.23685624780129297, 1.3633913709507712, 2.1826742456009276))</td></tr><tr><td>126</td><td>List(0, 92, List(0, 1, 2, 3, 5, 6, 11, 12, 13, 14, 50, 76, 85, 89, 90, 91), List(1.0, -1.470676707260405, -1.8480409428508004, 1.0, 1.0, 1.0, 1.0, 1.0, 1.0, 1.0, 1.0, 1.0, 1.0, 1.8852783167292295, 0.5195189366623754, -1.7453169592709086))</td></tr><tr><td>202</td><td>List(0, 92, List(1, 2, 3, 4, 6, 9, 18, 32, 43, 46, 60, 74, 77, 80, 85, 89, 90, 91), List(0.7915041822622603, -3.0838843817201305, 1.0, 1.0, 1.0, 1.0, 1.0, 1.0, 1.0, 1.0, 1.0, 1.0, 1.0, 1.0, 1.0, -0.23685624780129297, 2.7718263493053477, 2.6255662645092475))</td></tr><tr><td>228</td><td>List(0, 92, List(1, 2, 3, 5, 6, 47, 74, 77, 80, 85, 89, 90, 91), List(0.14899126689487605, 0.2528929032270611, 1.0, 1.0, 1.0, 1.0, 1.0, 1.0, 1.0, 1.0, -0.23685624780129297, -0.41943771557400883, -0.256936345541834))</td></tr><tr><td>274</td><td>List(0, 92, List(1, 2, 35, 55, 79, 82, 85, 89, 90, 91), List(-0.4533645912620469, 1.241567654322525, 1.0, 1.0, 1.0, 1.0, 1.0, -0.23685624780129297, -0.41943771557400883, -0.256936345541834))</td></tr><tr><td>262</td><td>List(0, 92, List(1, 2, 40, 48, 61, 79, 88, 89, 90, 91), List(-0.0451011762890213, 0.6236459348878599, 1.0, 1.0, 1.0, 1.0, 1.0, -0.23685624780129297, -0.41943771557400883, -0.256936345541834))</td></tr><tr><td>325</td><td>List(0, 92, List(1, 2, 38, 61, 79, 83, 86, 89, 90, 91), List(-0.3797433197095339, 1.241567654322525, 1.0, 1.0, 1.0, 1.0, 1.0, -0.23685624780129297, -0.41943771557400883, -0.256936345541834))</td></tr><tr><td>406</td><td>List(0, 92, List(1, 2, 37, 44, 76, 85, 89, 90, 91), List(-0.7210783059984567, 0.005724215453194856, 1.0, 1.0, 1.0, 1.0, -0.23685624780129297, 2.284519732321908, 1.2297978294552394))</td></tr><tr><td>50</td><td>List(0, 92, List(1, 2, 3, 4, 5, 6, 35, 74, 77, 80, 88, 89, 90, 91), List(1.0190608397882088, -1.2301192234161353, 1.0, 1.0, 1.0, 1.0, 1.0, 1.0, 1.0, 1.0, 1.0, -0.23685624780129297, -0.41943771557400883, -0.256936345541834))</td></tr><tr><td>94</td><td>List(0, 92, List(1, 2, 3, 4, 5, 36, 45, 62, 79, 85, 88, 89, 90, 91), List(-0.31281489102543164, 0.6236459348878599, 1.0, 1.0, 1.0, 1.0, 1.0, 1.0, 1.0, 1.0, 1.0, -0.23685624780129297, -0.41943771557400883, -0.256936345541834))</td></tr><tr><td>149</td><td>List(0, 92, List(1, 2, 3, 5, 6, 9, 18, 47, 76, 85, 89, 90, 91), List(1.4206314118928236, -0.8593661917553365, 1.0, 1.0, 1.0, 1.0, 1.0, 1.0, 1.0, 1.0, -0.23685624780129297, 1.4406472980335117, 1.7710645626006303))</td></tr><tr><td>421</td><td>List(0, 92, List(1, 2, 69, 83, 86, 89, 90, 91), List(0.5572546818679016, -0.6121975039814702, 1.0, 1.0, 1.0, -0.23685624780129297, -0.41943771557400883, -0.256936345541834))</td></tr><tr><td>264</td><td>List(0, 92, List(1, 2, 6, 8, 44, 76, 79, 82, 85, 89, 90, 91), List(-0.05179401915743141, 0.005724215453194856, 1.0, 1.0, 1.0, 1.0, 1.0, 1.0, 1.0, -0.23685624780129297, -0.41943771557400883, -0.256936345541834))</td></tr><tr><td>229</td><td>List(0, 92, List(1, 2, 3, 5, 36, 47, 74, 77, 80, 85, 89, 90, 91), List(-0.9218635920507641, -0.6121975039814702, 1.0, 1.0, 1.0, 1.0, 1.0, 1.0, 1.0, 1.0, -0.23685624780129297, -0.41943771557400883, -0.256936345541834))</td></tr><tr><td>110</td><td>List(0, 92, List(1, 2, 6, 8, 12, 13, 19, 49, 74, 77, 80, 85, 89, 90, 91), List(0.6241831105520039, -0.6121975039814702, 1.0, 1.0, 1.0, 1.0, 1.0, 1.0, 1.0, 1.0, 1.0, 1.0, -0.23685624780129297, -0.41943771557400883, -0.256936345541834))</td></tr><tr><td>190</td><td>List(0, 92, List(1, 2, 35, 54, 76, 79, 82, 85, 89, 90, 91), List(-0.5470643914197902, -0.6121975039814702, 1.0, 1.0, 1.0, 1.0, 1.0, 1.0, -0.23685624780129297, -0.41943771557400883, -0.256936345541834))</td></tr><tr><td>275</td><td>List(0, 92, List(1, 2, 35, 55, 76, 79, 82, 85, 89, 90, 91), List(-0.4533645912620469, 1.5505285140398575, 1.0, 1.0, 1.0, 1.0, 1.0, 1.0, -0.23685624780129297, -0.41943771557400883, -0.256936345541834))</td></tr><tr><td>343</td><td>List(0, 92, List(1, 2, 35, 45, 62, 85, 88, 89, 90, 91), List(-0.14549381931517533, 0.6236459348878599, 1.0, 1.0, 1.0, 1.0, 1.0, -0.23685624780129297, -0.41943771557400883, -0.256936345541834))</td></tr><tr><td>57</td><td>List(0, 92, List(1, 2, 3, 5, 6, 35, 59, 74, 77, 80, 85, 88, 89, 90, 91), List(1.1261463256827728, -0.6121975039814702, 1.0, 1.0, 1.0, 1.0, 1.0, 1.0, 1.0, 1.0, 1.0, 1.0, -0.23685624780129297, -0.41943771557400883, -0.256936345541834))</td></tr><tr><td>136</td><td>List(0, 92, List(1, 2, 40, 74, 77, 80, 83, 86, 89, 90, 91), List(1.58125964073467, 0.005724215453194856, 1.0, 1.0, 1.0, 1.0, 1.0, 1.0, -0.23685624780129297, -0.41943771557400883, -0.256936345541834))</td></tr><tr><td>144</td><td>List(0, 92, List(1, 2, 3, 5, 6, 7, 20, 21, 52, 64, 76, 79, 82, 85, 89, 90, 91), List(0.9588252539725166, 0.005724215453194856, 1.0, 1.0, 1.0, 1.0, 1.0, 1.0, 1.0, 1.0, 1.0, 1.0, 1.0, 1.0, -0.23685624780129297, -0.41943771557400883, -0.256936345541834))</td></tr><tr><td>388</td><td>List(0, 92, List(1, 2, 35, 53, 74, 77, 80, 85, 89, 90, 91), List(-0.0451011762890213, 1.85948937375719, 1.0, 1.0, 1.0, 1.0, 1.0, 1.0, -0.23685624780129297, 2.623257258761616, 2.364605725487059))</td></tr><tr><td>412</td><td>List(0, 92, List(1, 2, 35, 49, 63, 76, 88, 89, 90, 91), List(0.6241831105520039, 0.6236459348878599, 1.0, 1.0, 1.0, 1.0, 1.0, -0.23685624780129297, 0.6086603909886144, 2.4485741008191195))</td></tr><tr><td>417</td><td>List(0, 92, List(1, 2, 35, 69, 76, 79, 82, 83, 86, 89, 90, 91), List(0.5572546818679016, -1.8480409428508004, 1.0, 1.0, 1.0, 1.0, 1.0, 1.0, 1.0, -0.23685624780129297, -0.41943771557400883, -0.256936345541834))</td></tr><tr><td>32</td><td>List(0, 92, List(1, 2, 7, 12, 19, 50, 74, 77, 80, 85, 89, 90, 91), List(-1.3836697499710717, 0.005724215453194856, 1.0, 1.0, 1.0, 1.0, 1.0, 1.0, 1.0, 1.0, -0.23685624780129297, -0.41943771557400883, -0.256936345541834))</td></tr><tr><td>43</td><td>List(0, 92, List(1, 2, 3, 15, 21, 28, 50, 72, 74, 77, 80, 89, 90, 91), List(-0.7210783059984567, -0.6121975039814702, 1.0, 1.0, 1.0, 1.0, 1.0, 1.0, 1.0, 1.0, 1.0, -0.23685624780129297, 2.9917086033100704, 2.454748246064124))</td></tr><tr><td>420</td><td>List(0, 92, List(1, 2, 35, 69, 76, 79, 82, 83, 86, 89, 90, 91), List(0.5572546818679016, -0.6121975039814702, 1.0, 1.0, 1.0, 1.0, 1.0, 1.0, 1.0, -0.23685624780129297, -0.41943771557400883, -0.256936345541834))</td></tr><tr><td>84</td><td>List(0, 92, List(1, 2, 3, 4, 5, 6, 35, 63, 76, 83, 86, 89, 90, 91), List(0.2828481242630812, 0.6236459348878599, 1.0, 1.0, 1.0, 1.0, 1.0, 1.0, 1.0, 1.0, 1.0, -0.23685624780129297, -0.41943771557400883, -0.256936345541834))</td></tr><tr><td>378</td><td>List(0, 92, List(1, 2, 36, 44, 74, 77, 80, 85, 89, 90, 91), List(-0.05179401915743141, 0.005724215453194856, 1.0, 1.0, 1.0, 1.0, 1.0, 1.0, -0.23685624780129297, -0.41943771557400883, -0.256936345541834))</td></tr><tr><td>212</td><td>List(0, 92, List(1, 2, 4, 6, 7, 46, 60, 76, 85, 89, 90, 91), List(0.2895409671314913, 0.6236459348878599, 1.0, 1.0, 1.0, 1.0, 1.0, 1.0, 1.0, -0.23685624780129297, -0.41943771557400883, -0.256936345541834))</td></tr><tr><td>31</td><td>List(0, 92, List(1, 2, 3, 4, 5, 6, 45, 62, 74, 77, 80, 85, 88, 89, 90, 91), List(0.3899336101576453, 0.005724215453194856, 1.0, 1.0, 1.0, 1.0, 1.0, 1.0, 1.0, 1.0, 1.0, 1.0, 1.0, -0.23685624780129297, -0.41943771557400883, -0.256936345541834))</td></tr><tr><td>376</td><td>List(0, 92, List(1, 2, 47, 76, 79, 85, 89, 90, 91), List(1.2533103401825674, 0.005724215453194856, 1.0, 1.0, 1.0, 1.0, -0.23685624780129297, -0.41943771557400883, -0.256936345541834))</td></tr><tr><td>119</td><td>List(0, 92, List(1, 2, 3, 4, 5, 23, 54, 76, 89, 90, 91), List(-1.0490276065505593, -0.6121975039814702, 1.0, 1.0, 1.0, 1.0, 1.0, 1.0, -0.23685624780129297, 4.518998854099633, 3.319540190047748))</td></tr><tr><td>395</td><td>List(0, 92, List(1, 2, 3, 4, 5, 6, 35, 79, 88, 89, 90, 91), List(1.286774554524619, 0.6236459348878599, 1.0, 1.0, 1.0, 1.0, 1.0, 1.0, 1.0, -0.23685624780129297, -0.41943771557400883, -0.256936345541834))</td></tr><tr><td>326</td><td>List(0, 92, List(1, 2, 38, 61, 79, 83, 86, 89, 90, 91), List(-0.3797433197095339, 0.6236459348878599, 1.0, 1.0, 1.0, 1.0, 1.0, -0.23685624780129297, -0.41943771557400883, -0.256936345541834))</td></tr><tr><td>386</td><td>List(0, 92, List(1, 2, 35, 65, 74, 77, 80, 83, 86, 89, 90, 91), List(0.12221989542123501, 0.6236459348878599, 1.0, 1.0, 1.0, 1.0, 1.0, 1.0, 1.0, -0.23685624780129297, -0.41943771557400883, -0.256936345541834))</td></tr><tr><td>39</td><td>List(0, 92, List(1, 2, 3, 4, 5, 36, 63, 74, 77, 80, 83, 86, 89, 90, 91), List(0.550561838999491, -3.0838843817201305, 1.0, 1.0, 1.0, 1.0, 1.0, 1.0, 1.0, 1.0, 1.0, 1.0, -0.23685624780129297, -0.41943771557400883, -0.256936345541834))</td></tr><tr><td>98</td><td>List(0, 92, List(1, 2, 6, 13, 18, 25, 45, 62, 85, 88, 89, 90, 91), List(-0.31281489102543164, 1.85948937375719, 1.0, 1.0, 1.0, 1.0, 1.0, 1.0, 1.0, 1.0, -0.23685624780129297, -0.41943771557400883, -0.256936345541834))</td></tr><tr><td>187</td><td>List(0, 92, List(1, 2, 5, 7, 12, 20, 21, 42, 47, 76, 79, 82, 85, 89, 90, 91), List(-0.3797433197095339, 0.005724215453194856, 1.0, 1.0, 1.0, 1.0, 1.0, 1.0, 1.0, 1.0, 1.0, 1.0, 1.0, -0.23685624780129297, 3.2353619118017907, 1.7710645626006303))</td></tr><tr><td>201</td><td>List(0, 92, List(1, 2, 3, 4, 6, 9, 18, 32, 43, 46, 60, 74, 77, 80, 85, 89, 90, 91), List(0.7915041822622603, 0.6236459348878599, 1.0, 1.0, 1.0, 1.0, 1.0, 1.0, 1.0, 1.0, 1.0, 1.0, 1.0, 1.0, 1.0, 2.7675140345677613, 0.3412360280098974, -1.9918711593880867))</td></tr><tr><td>232</td><td>List(0, 92, List(1, 2, 35, 49, 63, 74, 77, 80, 88, 89, 90, 91), List(0.2828481242630812, 0.7472302787747925, 1.0, 1.0, 1.0, 1.0, 1.0, 1.0, 1.0, -0.23685624780129297, -0.41943771557400883, -0.256936345541834))</td></tr><tr><td>402</td><td>List(0, 92, List(1, 2, 51, 76, 79, 82, 85, 89, 90, 91), List(0.9588252539725166, -0.36502881620760397, 1.0, 1.0, 1.0, 1.0, 1.0, -0.23685624780129297, -0.41943771557400883, -0.256936345541834))</td></tr><tr><td>203</td><td>List(0, 92, List(1, 2, 3, 4, 6, 9, 18, 32, 43, 46, 60, 76, 85, 89, 90, 91), List(0.7915041822622603, -1.8480409428508004, 1.0, 1.0, 1.0, 1.0, 1.0, 1.0, 1.0, 1.0, 1.0, 1.0, 1.0, 2.7079035130921847, 1.9576677331256982, 1.0528056657651115))</td></tr><tr><td>116</td><td>List(0, 92, List(1, 2, 4, 5, 8, 76, 79, 82, 85, 89, 90, 91), List(-0.3797433197095339, -1.8480409428508004, 1.0, 1.0, 1.0, 1.0, 1.0, 1.0, 1.0, -0.23685624780129297, -0.41943771557400883, -0.256936345541834))</td></tr><tr><td>145</td><td>List(0, 92, List(1, 2, 7, 18, 20, 21, 23, 41, 49, 63, 76, 79, 82, 88, 89, 90, 91), List(-0.05179401915743141, 0.005724215453194856, 1.0, 1.0, 1.0, 1.0, 1.0, 1.0, 1.0, 1.0, 1.0, 1.0, 1.0, 1.0, -0.23685624780129297, -0.41943771557400883, -0.256936345541834))</td></tr><tr><td>25</td><td>List(0, 92, List(1, 2, 3, 4, 6, 12, 51, 74, 77, 80, 88, 89, 90, 91), List(-0.7143854631300466, 0.005724215453194856, 1.0, 1.0, 1.0, 1.0, 1.0, 1.0, 1.0, 1.0, 1.0, 4.114711819915789, -0.41943771557400883, -3.0591750674078573))</td></tr><tr><td>157</td><td>List(0, 92, List(1, 2, 3, 5, 6, 35, 65, 76, 83, 86, 89, 90, 91), List(-0.0451011762890213, -0.6121975039814702, 1.0, 1.0, 1.0, 1.0, 1.0, 1.0, 1.0, 1.0, -0.23685624780129297, -0.41943771557400883, -0.256936345541834))</td></tr><tr><td>124</td><td>List(0, 92, List(1, 2, 31, 58, 76, 85, 89, 90, 91), List(3.2678560435740533, -0.6121975039814702, 1.0, 1.0, 1.0, 1.0, -0.23685624780129297, -0.41943771557400883, -0.256936345541834))</td></tr><tr><td>181</td><td>List(0, 92, List(1, 2, 3, 4, 6, 35, 47, 76, 85, 89, 90, 91), List(-0.1187224478415343, 0.6236459348878599, 1.0, 1.0, 1.0, 1.0, 1.0, 1.0, 1.0, -0.23685624780129297, 4.001978419007446, 1.555792698391475))</td></tr><tr><td>363</td><td>List(0, 92, List(1, 2, 36, 44, 74, 77, 80, 85, 89, 90, 91), List(-0.05179401915743141, -0.6121975039814702, 1.0, 1.0, 1.0, 1.0, 1.0, 1.0, -0.23685624780129297, -0.41943771557400883, -0.256936345541834))</td></tr><tr><td>95</td><td>List(0, 92, List(1, 2, 3, 4, 5, 36, 45, 62, 79, 85, 88, 89, 90, 91), List(-0.31281489102543164, 1.241567654322525, 1.0, 1.0, 1.0, 1.0, 1.0, 1.0, 1.0, 1.0, 1.0, -0.23685624780129297, -0.41943771557400883, -0.256936345541834))</td></tr><tr><td>227</td><td>List(0, 92, List(1, 2, 3, 6, 35, 47, 74, 77, 80, 85, 89, 90, 91), List(-0.8549351633666619, 0.6236459348878599, 1.0, 1.0, 1.0, 1.0, 1.0, 1.0, 1.0, 1.0, -0.23685624780129297, -0.41943771557400883, -0.256936345541834))</td></tr><tr><td>268</td><td>List(0, 92, List(1, 2, 35, 50, 76, 82, 85, 88, 89, 90, 91), List(0.2828481242630812, 0.6236459348878599, 1.0, 1.0, 1.0, 1.0, 1.0, 1.0, -0.23685624780129297, 1.0305966081328122, 1.555792698391475))</td></tr><tr><td>369</td><td>List(0, 92, List(1, 2, 35, 66, 76, 83, 86, 89, 90, 91), List(0.8584326109463626, 1.241567654322525, 1.0, 1.0, 1.0, 1.0, 1.0, -0.23685624780129297, -0.41943771557400883, -0.256936345541834))</td></tr><tr><td>413</td><td>List(0, 92, List(1, 2, 35, 74, 77, 80, 85, 89, 90, 91), List(0.6241831105520039, 0.6236459348878599, 1.0, 1.0, 1.0, 1.0, 1.0, -0.23685624780129297, -0.41943771557400883, -0.256936345541834))</td></tr><tr><td>71</td><td>List(0, 92, List(1, 2, 47, 66, 74, 77, 80, 85, 89, 90, 91), List(-0.3797433197095339, -1.2301192234161353, 1.0, 1.0, 1.0, 1.0, 1.0, 1.0, -0.23685624780129297, -0.41943771557400883, -0.256936345541834))</td></tr><tr><td>143</td><td>List(0, 92, List(1, 2, 4, 6, 7, 23, 39, 52, 64, 76, 79, 82, 85, 89, 90, 91), List(0.5572546818679016, 0.005724215453194856, 1.0, 1.0, 1.0, 1.0, 1.0, 1.0, 1.0, 1.0, 1.0, 1.0, 1.0, -0.23685624780129297, -0.41943771557400883, -0.256936345541834))</td></tr><tr><td>370</td><td>List(0, 92, List(1, 2, 3, 4, 5, 6, 35, 53, 74, 77, 80, 85, 89, 90, 91), List(0.45686203884174764, -0.6121975039814702, 1.0, 1.0, 1.0, 1.0, 1.0, 1.0, 1.0, 1.0, 1.0, 1.0, -0.23685624780129297, -0.41943771557400883, -0.256936345541834))</td></tr><tr><td>161</td><td>List(0, 92, List(1, 2, 3, 4, 5, 6, 38, 48, 61, 79, 88, 89, 90, 91), List(-0.5470643914197902, 0.6236459348878599, 1.0, 1.0, 1.0, 1.0, 1.0, 1.0, 1.0, 1.0, 1.0, -0.23685624780129297, -0.41943771557400883, -0.256936345541834))</td></tr><tr><td>193</td><td>List(0, 92, List(0, 1, 2, 5, 10, 11, 17, 33, 44, 76, 79, 82, 85, 89, 90, 91), List(1.0, 0.6174902676835938, 0.005724215453194856, 1.0, 1.0, 1.0, 1.0, 1.0, 1.0, 1.0, 1.0, 1.0, 1.0, -0.23685624780129297, -0.41943771557400883, -0.256936345541834))</td></tr><tr><td>365</td><td>List(0, 92, List(1, 2, 39, 52, 79, 89, 90, 91), List(0.9588252539725166, 0.37647724711399366, 1.0, 1.0, 1.0, -0.23685624780129297, -0.41943771557400883, -0.256936345541834))</td></tr><tr><td>6</td><td>List(0, 92, List(1, 2, 3, 6, 35, 59, 74, 77, 80, 85, 87, 89, 90, 91), List(0.08206283821077376, -2.4659626622854653, 1.0, 1.0, 1.0, 1.0, 1.0, 1.0, 1.0, 1.0, 1.0, -0.23685624780129297, -0.41943771557400883, -0.256936345541834))</td></tr><tr><td>68</td><td>List(0, 92, List(1, 2, 3, 4, 5, 6, 38, 48, 61, 74, 77, 80, 88, 89, 90, 91), List(-0.5470643914197902, 0.6236459348878599, 1.0, 1.0, 1.0, 1.0, 1.0, 1.0, 1.0, 1.0, 1.0, 1.0, 1.0, -0.23685624780129297, -0.41943771557400883, -0.256936345541834))</td></tr><tr><td>342</td><td>List(0, 92, List(1, 2, 10, 11, 17, 33, 44, 76, 79, 82, 85, 89, 90, 91), List(1.286774554524619, 0.6236459348878599, 1.0, 1.0, 1.0, 1.0, 1.0, 1.0, 1.0, 1.0, 1.0, -0.23685624780129297, -0.41943771557400883, -0.256936345541834))</td></tr><tr><td>72</td><td>List(0, 92, List(1, 2, 35, 47, 66, 74, 77, 80, 85, 89, 90, 91), List(-0.2793506766833799, 0.005724215453194856, 1.0, 1.0, 1.0, 1.0, 1.0, 1.0, 1.0, -0.23685624780129297, -0.41943771557400883, -0.256936345541834))</td></tr><tr><td>87</td><td>List(0, 92, List(1, 2, 3, 4, 5, 36, 63, 76, 83, 86, 89, 90, 91), List(0.550561838999491, 0.6236459348878599, 1.0, 1.0, 1.0, 1.0, 1.0, 1.0, 1.0, 1.0, -0.23685624780129297, -0.41943771557400883, -0.256936345541834))</td></tr><tr><td>215</td><td>List(0, 92, List(1, 2, 4, 5, 6, 8, 46, 60, 76, 85, 89, 90, 91), List(0.2895409671314913, 0.6236459348878599, 1.0, 1.0, 1.0, 1.0, 1.0, 1.0, 1.0, 1.0, -0.23685624780129297, -0.41943771557400883, -0.256936345541834))</td></tr><tr><td>58</td><td>List(0, 92, List(1, 2, 3, 6, 18, 35, 45, 62, 74, 77, 80, 85, 88, 89, 90, 91), List(-0.31281489102543164, -0.6121975039814702, 1.0, 1.0, 1.0, 1.0, 1.0, 1.0, 1.0, 1.0, 1.0, 1.0, 1.0, -0.23685624780129297, -0.41943771557400883, -0.256936345541834))</td></tr><tr><td>255</td><td>List(0, 92, List(1, 2, 44, 74, 77, 80, 85, 89, 90, 91), List(-1.4171339643131229, -0.6121975039814702, 1.0, 1.0, 1.0, 1.0, 1.0, -0.23685624780129297, 1.8447552243124619, 2.0970594315368656))</td></tr><tr><td>258</td><td>List(0, 92, List(1, 2, 3, 6, 15, 21, 45, 76, 79, 82, 85, 88, 89, 90, 91), List(-0.3797433197095339, -0.6121975039814702, 1.0, 1.0, 1.0, 1.0, 1.0, 1.0, 1.0, 1.0, 1.0, 1.0, -0.23685624780129297, -0.41943771557400883, -0.256936345541834))</td></tr><tr><td>320</td><td>List(0, 92, List(1, 2, 39, 64, 74, 77, 80, 83, 86, 89, 90, 91), List(0.5572546818679016, -0.6121975039814702, 1.0, 1.0, 1.0, 1.0, 1.0, 1.0, 1.0, -0.23685624780129297, -0.41943771557400883, -0.256936345541834))</td></tr><tr><td>107</td><td>List(0, 92, List(1, 2, 10, 17, 18, 74, 77, 80, 83, 86, 89, 90, 91), List(-0.3797433197095339, 0.6236459348878599, 1.0, 1.0, 1.0, 1.0, 1.0, 1.0, 1.0, 1.0, -0.23685624780129297, 2.320176314052403, 3.6401841331049796))</td></tr><tr><td>221</td><td>List(0, 92, List(1, 2, 6, 8, 11, 18, 46, 60, 76, 79, 82, 85, 89, 90, 91), List(0.2895409671314913, 1.241567654322525, 1.0, 1.0, 1.0, 1.0, 1.0, 1.0, 1.0, 1.0, 1.0, 1.0, -0.23685624780129297, -0.41943771557400883, -0.256936345541834))</td></tr><tr><td>266</td><td>List(0, 92, List(1, 2, 44, 74, 77, 80, 85, 89, 90, 91), List(0.0017487237898506558, -1.8480409428508004, 1.0, 1.0, 1.0, 1.0, 1.0, -0.23685624780129297, -0.41943771557400883, -0.256936345541834))</td></tr><tr><td>271</td><td>List(0, 92, List(1, 2, 3, 4, 5, 36, 76, 83, 86, 89, 90, 91), List(-0.7210783059984567, -1.8480409428508004, 1.0, 1.0, 1.0, 1.0, 1.0, 1.0, 1.0, -0.23685624780129297, -0.41943771557400883, -0.256936345541834))</td></tr><tr><td>9</td><td>List(0, 92, List(1, 2, 3, 4, 5, 36, 74, 77, 80, 85, 89, 90, 91), List(-0.5470643914197902, 0.005724215453194856, 1.0, 1.0, 1.0, 1.0, 1.0, 1.0, 1.0, 1.0, -0.23685624780129297, -0.41943771557400883, -0.256936345541834))</td></tr><tr><td>316</td><td>List(0, 92, List(1, 2, 35, 44, 76, 79, 82, 85, 89, 90, 91), List(0.0017487237898506558, 0.9943989665486588, 1.0, 1.0, 1.0, 1.0, 1.0, 1.0, -0.23685624780129297, 1.5179032251162523, 1.555792698391475))</td></tr><tr><td>407</td><td>List(0, 92, List(1, 2, 45, 71, 76, 79, 82, 85, 89, 90, 91), List(1.9560588413656443, 1.85948937375719, 1.0, 1.0, 1.0, 1.0, 1.0, 1.0, -0.23685624780129297, -0.41943771557400883, -0.256936345541834))</td></tr><tr><td>27</td><td>List(0, 92, List(1, 2, 6, 7, 23, 24, 46, 74, 77, 80, 85, 89, 90, 91), List(-0.5202930199461492, 0.005724215453194856, 1.0, 1.0, 1.0, 1.0, 1.0, 1.0, 1.0, 1.0, 1.0, -0.23685624780129297, -0.41943771557400883, -0.256936345541834))</td></tr><tr><td>63</td><td>List(0, 92, List(1, 2, 4, 5, 7, 37, 74, 77, 80, 85, 89, 90, 91), List(-0.31281489102543164, -0.6121975039814702, 1.0, 1.0, 1.0, 1.0, 1.0, 1.0, 1.0, 1.0, -0.23685624780129297, -0.41943771557400883, -0.256936345541834))</td></tr><tr><td>158</td><td>List(0, 92, List(1, 2, 3, 5, 6, 12, 65, 74, 77, 80, 83, 86, 89, 90, 91), List(0.7915041822622603, 0.6236459348878599, 1.0, 1.0, 1.0, 1.0, 1.0, 1.0, 1.0, 1.0, 1.0, 1.0, -0.23685624780129297, -0.41943771557400883, -0.256936345541834))</td></tr><tr><td>389</td><td>List(0, 92, List(1, 2, 39, 52, 76, 89, 90, 91), List(0.9588252539725166, 0.6236459348878599, 1.0, 1.0, 1.0, -0.23685624780129297, -0.41943771557400883, -0.256936345541834))</td></tr><tr><td>397</td><td>List(0, 92, List(1, 2, 5, 6, 8, 11, 12, 57, 68, 76, 79, 82, 85, 88, 89, 90, 91), List(0.2895409671314913, 0.6236459348878599, 1.0, 1.0, 1.0, 1.0, 1.0, 1.0, 1.0, 1.0, 1.0, 1.0, 1.0, 1.0, -0.23685624780129297, -0.41943771557400883, -0.256936345541834))</td></tr><tr><td>51</td><td>List(0, 92, List(1, 2, 3, 4, 5, 6, 35, 74, 77, 80, 88, 89, 90, 91), List(1.0190608397882088, 0.005724215453194856, 1.0, 1.0, 1.0, 1.0, 1.0, 1.0, 1.0, 1.0, 1.0, -0.23685624780129297, -0.41943771557400883, -0.256936345541834))</td></tr><tr><td>56</td><td>List(0, 92, List(1, 2, 5, 8, 18, 26, 59, 74, 77, 80, 85, 88, 89, 90, 91), List(0.5907188962099528, -1.8480409428508004, 1.0, 1.0, 1.0, 1.0, 1.0, 1.0, 1.0, 1.0, 1.0, 1.0, -0.23685624780129297, -0.41943771557400883, -0.256936345541834))</td></tr><tr><td>178</td><td>List(0, 92, List(1, 2, 3, 4, 6, 35, 76, 79, 82, 84, 89, 90, 91), List(-0.5470643914197902, 0.005724215453194856, 1.0, 1.0, 1.0, 1.0, 1.0, 1.0, 1.0, 1.0, -0.23685624780129297, -0.41943771557400883, -0.256936345541834))</td></tr><tr><td>353</td><td>List(0, 92, List(1, 2, 35, 76, 82, 83, 86, 89, 90, 91), List(0.550561838999491, 0.6236459348878599, 1.0, 1.0, 1.0, 1.0, 1.0, -0.23685624780129297, -0.41943771557400883, -0.256936345541834))</td></tr><tr><td>234</td><td>List(0, 92, List(1, 2, 39, 64, 83, 86, 89, 90, 91), List(0.5572546818679016, 0.005724215453194856, 1.0, 1.0, 1.0, 1.0, -0.23685624780129297, 2.6113717315181173, 2.364605725487059))</td></tr><tr><td>239</td><td>List(0, 92, List(1, 2, 3, 4, 35, 74, 77, 80, 88, 89, 90, 91), List(-0.4801359627356879, 0.6236459348878599, 1.0, 1.0, 1.0, 1.0, 1.0, 1.0, 1.0, -0.23685624780129297, 1.3217920255985263, 2.6255662645092475))</td></tr><tr><td>341</td><td>List(0, 92, List(1, 2, 4, 5, 7, 52, 79, 82, 89, 90, 91), List(0.7915041822622603, 0.37647724711399366, 1.0, 1.0, 1.0, 1.0, 1.0, 1.0, -0.23685624780129297, -0.41943771557400883, -0.256936345541834))</td></tr><tr><td>150</td><td>List(0, 92, List(0, 1, 2, 3, 4, 5, 11, 12, 36, 76, 79, 82, 85, 89, 90, 91), List(1.0, 0.5237904675258499, -0.6121975039814702, 1.0, 1.0, 1.0, 1.0, 1.0, 1.0, 1.0, 1.0, 1.0, 1.0, -0.23685624780129297, -0.41943771557400883, -0.256936345541834))</td></tr><tr><td>279</td><td>List(0, 92, List(1, 2, 3, 4, 5, 6, 35, 57, 68, 76, 79, 82, 85, 88, 89, 90, 91), List(-0.5470643914197902, 0.6236459348878599, 1.0, 1.0, 1.0, 1.0, 1.0, 1.0, 1.0, 1.0, 1.0, 1.0, 1.0, 1.0, -0.23685624780129297, -0.41943771557400883, -0.256936345541834))</td></tr><tr><td>52</td><td>List(0, 92, List(1, 2, 3, 4, 5, 12, 29, 55, 74, 77, 80, 88, 89, 90, 91), List(0.6174902676835938, 0.005724215453194856, 1.0, 1.0, 1.0, 1.0, 1.0, 1.0, 1.0, 1.0, 1.0, 1.0, -0.23685624780129297, -0.41943771557400883, -0.256936345541834))</td></tr><tr><td>146</td><td>List(0, 92, List(1, 2, 7, 18, 20, 21, 23, 41, 49, 63, 74, 77, 80, 88, 89, 90, 91), List(-0.05179401915743141, 1.85948937375719, 1.0, 1.0, 1.0, 1.0, 1.0, 1.0, 1.0, 1.0, 1.0, 1.0, 1.0, 1.0, -0.23685624780129297, -0.41943771557400883, -0.256936345541834))</td></tr><tr><td>346</td><td>List(0, 92, List(1, 2, 35, 76, 89, 90, 91), List(0.22261253844738904, 0.005724215453194856, 1.0, 1.0, -0.23685624780129297, -0.41943771557400883, -0.256936345541834))</td></tr><tr><td>174</td><td>List(0, 92, List(1, 2, 3, 4, 5, 6, 48, 61, 79, 82, 88, 89, 90, 91), List(-0.5470643914197902, 1.241567654322525, 1.0, 1.0, 1.0, 1.0, 1.0, 1.0, 1.0, 1.0, 1.0, -0.23685624780129297, -0.41943771557400883, -0.256936345541834))</td></tr><tr><td>17</td><td>List(0, 92, List(1, 2, 7, 12, 19, 20, 21, 42, 74, 77, 80, 85, 88, 89, 90, 91), List(-0.7210783059984567, -0.6121975039814702, 1.0, 1.0, 1.0, 1.0, 1.0, 1.0, 1.0, 1.0, 1.0, 1.0, 1.0, -0.23685624780129297, -0.41943771557400883, -0.256936345541834))</td></tr><tr><td>79</td><td>List(0, 92, List(1, 2, 3, 5, 6, 23, 52, 88, 89, 90, 91), List(-0.4533645912620469, -0.6121975039814702, 1.0, 1.0, 1.0, 1.0, 1.0, 1.0, -0.23685624780129297, 2.647028313248613, 1.7710645626006303))</td></tr><tr><td>170</td><td>List(0, 92, List(1, 2, 3, 4, 5, 6, 38, 48, 61, 79, 88, 89, 90, 91), List(-0.5470643914197902, 0.6236459348878599, 1.0, 1.0, 1.0, 1.0, 1.0, 1.0, 1.0, 1.0, 1.0, -0.23685624780129297, -0.41943771557400883, -0.256936345541834))</td></tr><tr><td>209</td><td>List(0, 92, List(1, 2, 6, 12, 46, 60, 76, 79, 82, 85, 89, 90, 91), List(-2.2202751085223533, 1.85948937375719, 1.0, 1.0, 1.0, 1.0, 1.0, 1.0, 1.0, 1.0, -0.23685624780129297, -0.41943771557400883, -0.256936345541834))</td></tr><tr><td>103</td><td>List(0, 92, List(1, 2, 3, 4, 5, 50, 76, 85, 88, 89, 90, 91), List(-1.015563392208508, -1.2301192234161353, 1.0, 1.0, 1.0, 1.0, 1.0, 1.0, 1.0, -0.23685624780129297, -0.41943771557400883, -0.256936345541834))</td></tr><tr><td>236</td><td>List(0, 92, List(1, 2, 5, 7, 53, 76, 79, 82, 85, 89, 90, 91), List(-0.7478496774720977, 0.6236459348878599, 1.0, 1.0, 1.0, 1.0, 1.0, 1.0, 1.0, -0.23685624780129297, 2.3082907868089046, 2.315212563527023))</td></tr><tr><td>253</td><td>List(0, 92, List(1, 2, 3, 6, 35, 45, 76, 79, 82, 85, 88, 89, 90, 91), List(-1.0490276065505593, 0.6236459348878599, 1.0, 1.0, 1.0, 1.0, 1.0, 1.0, 1.0, 1.0, 1.0, -0.23685624780129297, -0.41943771557400883, -0.256936345541834))</td></tr><tr><td>276</td><td>List(0, 92, List(0, 1, 2, 5, 10, 14, 17, 47, 76, 85, 88, 89, 90, 91), List(1.0, 0.1891483241053373, -1.4772879111900015, 1.0, 1.0, 1.0, 1.0, 1.0, 1.0, 1.0, 1.0, -0.23685624780129297, -0.41943771557400883, -0.256936345541834))</td></tr><tr><td>139</td><td>List(0, 92, List(1, 2, 3, 6, 28, 44, 67, 76, 82, 85, 89, 90, 91), List(-0.5470643914197902, -1.2301192234161353, 1.0, 1.0, 1.0, 1.0, 1.0, 1.0, 1.0, 1.0, -0.23685624780129297, -0.41943771557400883, -0.256936345541834))</td></tr><tr><td>246</td><td>List(0, 92, List(0, 1, 2, 3, 4, 5, 6, 35, 56, 70, 76, 79, 82, 85, 89, 90, 91), List(1.0, 0.5572546818679016, 0.6236459348878599, 1.0, 1.0, 1.0, 1.0, 1.0, 1.0, 1.0, 1.0, 1.0, 1.0, 1.0, -0.23685624780129297, 3.48495798391526, 3.4883001600778702))</td></tr><tr><td>226</td><td>List(0, 92, List(1, 2, 3, 6, 35, 47, 74, 77, 80, 85, 89, 90, 91), List(-0.8549351633666619, 0.6236459348878599, 1.0, 1.0, 1.0, 1.0, 1.0, 1.0, 1.0, 1.0, 1.8256677952536529, 0.31152220990115104, -1.1427203833584736))</td></tr><tr><td>242</td><td>List(0, 92, List(1, 2, 35, 45, 62, 85, 88, 89, 90, 91), List(-0.31281489102543164, 0.005724215453194856, 1.0, 1.0, 1.0, 1.0, 1.0, -0.23685624780129297, -0.41943771557400883, -0.256936345541834))</td></tr><tr><td>41</td><td>List(0, 92, List(1, 2, 4, 5, 6, 7, 11, 12, 13, 74, 77, 80, 83, 86, 89, 90, 91), List(1.6281095408135418, 1.85948937375719, 1.0, 1.0, 1.0, 1.0, 1.0, 1.0, 1.0, 1.0, 1.0, 1.0, 1.0, 1.0, -0.23685624780129297, -0.41943771557400883, -0.256936345541834))</td></tr><tr><td>28</td><td>List(0, 92, List(1, 2, 3, 11, 12, 18, 25, 46, 74, 77, 80, 85, 89, 90, 91), List(-0.38643616257794405, 1.241567654322525, 1.0, 1.0, 1.0, 1.0, 1.0, 1.0, 1.0, 1.0, 1.0, 1.0, -0.23685624780129297, -0.41943771557400883, -0.256936345541834))</td></tr><tr><td>33</td><td>List(0, 92, List(1, 2, 3, 4, 5, 36, 50, 74, 77, 80, 85, 89, 90, 91), List(-1.3836697499710717, -3.0838843817201305, 1.0, 1.0, 1.0, 1.0, 1.0, 1.0, 1.0, 1.0, 1.0, -0.23685624780129297, -0.41943771557400883, -0.256936345541834))</td></tr><tr><td>88</td><td>List(0, 92, List(1, 2, 63, 76, 79, 82, 83, 86, 89, 90, 91), List(1.2600031830509775, 1.85948937375719, 1.0, 1.0, 1.0, 1.0, 1.0, 1.0, -0.23685624780129297, -0.41943771557400883, -0.256936345541834))</td></tr><tr><td>208</td><td>List(0, 92, List(1, 2, 4, 11, 12, 13, 46, 60, 76, 85, 89, 90, 91), List(-1.2163486782608155, -0.6121975039814702, 1.0, 1.0, 1.0, 1.0, 1.0, 1.0, 1.0, 1.0, -0.23685624780129297, -0.41943771557400883, -0.256936345541834))</td></tr><tr><td>248</td><td>List(0, 92, List(0, 1, 2, 4, 5, 7, 37, 74, 77, 80, 89, 90, 91), List(1.0, -0.31281489102543164, -0.36502881620760397, 1.0, 1.0, 1.0, 1.0, 1.0, 1.0, 1.0, -0.23685624780129297, -0.41943771557400883, -0.256936345541834))</td></tr><tr><td>257</td><td>List(0, 92, List(1, 2, 74, 77, 80, 83, 86, 89, 90, 91), List(0.0017487237898506558, 0.005724215453194856, 1.0, 1.0, 1.0, 1.0, 1.0, -0.23685624780129297, 1.624872970307739, 2.364605725487059))</td></tr><tr><td>384</td><td>List(0, 92, List(1, 2, 35, 49, 63, 76, 88, 89, 90, 91), List(0.550561838999491, 0.6236459348878599, 1.0, 1.0, 1.0, 1.0, 1.0, -0.23685624780129297, -0.41943771557400883, -0.256936345541834))</td></tr><tr><td>405</td><td>List(0, 92, List(1, 2, 37, 44, 76, 79, 82, 85, 89, 90, 91), List(-0.7210783059984567, 0.005724215453194856, 1.0, 1.0, 1.0, 1.0, 1.0, 1.0, 7.011783163628807, -0.41943771557400883, -2.2190797044042507))</td></tr><tr><td>138</td><td>List(0, 92, List(1, 2, 3, 4, 5, 6, 35, 44, 67, 76, 79, 82, 85, 89, 90, 91), List(-0.0451011762890213, -0.6121975039814702, 1.0, 1.0, 1.0, 1.0, 1.0, 1.0, 1.0, 1.0, 1.0, 1.0, 1.0, -0.23685624780129297, -0.41943771557400883, -0.256936345541834))</td></tr><tr><td>207</td><td>List(0, 92, List(1, 2, 12, 13, 15, 18, 29, 32, 34, 46, 60, 76, 85, 89, 90, 91), List(-0.07856539063107244, -0.6121975039814702, 1.0, 1.0, 1.0, 1.0, 1.0, 1.0, 1.0, 1.0, 1.0, 1.0, 1.0, -0.23685624780129297, -0.41943771557400883, -0.256936345541834))</td></tr><tr><td>235</td><td>List(0, 92, List(1, 2, 3, 4, 5, 6, 35, 53, 76, 79, 82, 85, 89, 90, 91), List(-0.07856539063107244, 0.005724215453194856, 1.0, 1.0, 1.0, 1.0, 1.0, 1.0, 1.0, 1.0, 1.0, 1.0, -0.23685624780129297, 3.003594130553569, 2.946621817249479))</td></tr><tr><td>304</td><td>List(0, 92, List(1, 2, 39, 64, 76, 79, 82, 83, 86, 89, 90, 91), List(0.5572546818679016, 0.6236459348878599, 1.0, 1.0, 1.0, 1.0, 1.0, 1.0, 1.0, -0.23685624780129297, -0.41943771557400883, -0.256936345541834))</td></tr><tr><td>307</td><td>List(0, 92, List(1, 2, 43, 48, 73, 76, 85, 88, 89, 90, 91), List(0.550561838999491, -0.6121975039814702, 1.0, 1.0, 1.0, 1.0, 1.0, 1.0, -0.23685624780129297, -0.41943771557400883, -0.256936345541834))</td></tr><tr><td>114</td><td>List(0, 92, List(1, 2, 3, 5, 6, 11, 35, 55, 76, 85, 88, 89, 90, 91), List(0.04859862386872202, 1.85948937375719, 1.0, 1.0, 1.0, 1.0, 1.0, 1.0, 1.0, 1.0, 1.0, 3.1490213720114504, 0.27586562817065546, -2.6685574782405754))</td></tr><tr><td>5</td><td>List(0, 92, List(1, 2, 5, 6, 8, 11, 12, 13, 14, 51, 74, 77, 80, 85, 89, 90, 91), List(-0.05179401915743141, 0.6236459348878599, 1.0, 1.0, 1.0, 1.0, 1.0, 1.0, 1.0, 1.0, 1.0, 1.0, 1.0, 1.0, -0.23685624780129297, -0.41943771557400883, -0.256936345541834))</td></tr><tr><td>1</td><td>List(0, 92, List(1, 2, 3, 4, 5, 6, 35, 54, 74, 77, 80, 85, 89, 90, 91), List(-1.0824918208926102, 0.005724215453194856, 1.0, 1.0, 1.0, 1.0, 1.0, 1.0, 1.0, 1.0, 1.0, 1.0, -0.23685624780129297, -0.41943771557400883, -0.256936345541834))</td></tr><tr><td>319</td><td>List(0, 92, List(1, 2, 39, 64, 76, 83, 86, 89, 90, 91), List(0.5572546818679016, -0.6121975039814702, 1.0, 1.0, 1.0, 1.0, 1.0, -0.23685624780129297, -0.41943771557400883, -0.256936345541834))</td></tr><tr><td>404</td><td>List(0, 92, List(1, 2, 35, 44, 76, 82, 85, 89, 90, 91), List(-0.05179401915743141, 0.6236459348878599, 1.0, 1.0, 1.0, 1.0, 1.0, -0.23685624780129297, -0.41943771557400883, -0.256936345541834))</td></tr><tr><td>115</td><td>List(0, 92, List(1, 2, 3, 5, 36, 55, 76, 79, 82, 85, 88, 89, 90, 91), List(-0.7009997773932263, -0.36502881620760397, 1.0, 1.0, 1.0, 1.0, 1.0, 1.0, 1.0, 1.0, 1.0, -0.23685624780129297, -0.41943771557400883, -0.256936345541834))</td></tr><tr><td>153</td><td>List(0, 92, List(1, 2, 3, 5, 6, 35, 74, 77, 80, 89, 90, 91), List(-0.08525823349948256, 0.6236459348878599, 1.0, 1.0, 1.0, 1.0, 1.0, 1.0, 1.0, -0.23685624780129297, 1.2326505712722875, 1.3973229704363603))</td></tr><tr><td>96</td><td>List(0, 92, List(1, 2, 4, 5, 7, 37, 45, 62, 85, 88, 89, 90, 91), List(0.2895409671314913, 0.6236459348878599, 1.0, 1.0, 1.0, 1.0, 1.0, 1.0, 1.0, 1.0, -0.23685624780129297, -0.41943771557400883, -0.256936345541834))</td></tr><tr><td>250</td><td>List(0, 92, List(1, 2, 3, 5, 6, 35, 52, 79, 85, 89, 90, 91), List(-0.6474570344459443, 0.6236459348878599, 1.0, 1.0, 1.0, 1.0, 1.0, 1.0, 1.0, -0.23685624780129297, -0.41943771557400883, -0.256936345541834))</td></tr><tr><td>377</td><td>List(0, 92, List(1, 2, 37, 44, 76, 79, 82, 85, 89, 90, 91), List(-0.7210783059984567, -1.8480409428508004, 1.0, 1.0, 1.0, 1.0, 1.0, 1.0, -0.23685624780129297, -0.41943771557400883, -0.256936345541834))</td></tr><tr><td>328</td><td>List(0, 92, List(1, 2, 40, 61, 83, 86, 89, 90, 91), List(-0.2124222479992776, 0.6236459348878599, 1.0, 1.0, 1.0, 1.0, -0.23685624780129297, -0.41943771557400883, -0.256936345541834))</td></tr><tr><td>185</td><td>List(0, 92, List(1, 2, 3, 4, 5, 6, 35, 49, 63, 76, 79, 82, 88, 89, 90, 91), List(0.2828481242630812, -1.8480409428508004, 1.0, 1.0, 1.0, 1.0, 1.0, 1.0, 1.0, 1.0, 1.0, 1.0, 1.0, -0.23685624780129297, -0.41943771557400883, -0.256936345541834))</td></tr><tr><td>349</td><td>List(0, 92, List(1, 2, 53, 79, 85, 89, 90, 91), List(1.2934673973930293, -0.6121975039814702, 1.0, 1.0, 1.0, -0.23685624780129297, -0.41943771557400883, -0.256936345541834))</td></tr><tr><td>375</td><td>List(0, 92, List(1, 2, 47, 79, 82, 85, 89, 90, 91), List(-0.39982184831476486, 0.6236459348878599, 1.0, 1.0, 1.0, 1.0, -0.23685624780129297, -0.41943771557400883, -0.256936345541834))</td></tr><tr><td>104</td><td>List(0, 92, List(1, 2, 3, 4, 5, 6, 11, 12, 19, 49, 76, 82, 85, 89, 90, 91), List(0.12221989542123501, 0.005724215453194856, 1.0, 1.0, 1.0, 1.0, 1.0, 1.0, 1.0, 1.0, 1.0, 1.0, 1.0, -0.23685624780129297, -0.41943771557400883, -0.256936345541834))</td></tr><tr><td>219</td><td>List(0, 92, List(1, 2, 6, 8, 11, 18, 46, 60, 76, 79, 82, 85, 89, 90, 91), List(0.2895409671314913, 0.6236459348878599, 1.0, 1.0, 1.0, 1.0, 1.0, 1.0, 1.0, 1.0, 1.0, 1.0, -0.23685624780129297, -0.41943771557400883, -0.256936345541834))</td></tr><tr><td>368</td><td>List(0, 92, List(1, 2, 35, 56, 70, 85, 89, 90, 91), List(0.5572546818679016, 0.6236459348878599, 1.0, 1.0, 1.0, 1.0, -0.23685624780129297, -0.41943771557400883, -0.256936345541834))</td></tr><tr><td>214</td><td>List(0, 92, List(1, 2, 4, 6, 7, 46, 60, 76, 85, 89, 90, 91), List(0.2895409671314913, -1.8480409428508004, 1.0, 1.0, 1.0, 1.0, 1.0, 1.0, 1.0, -0.23685624780129297, -0.41943771557400883, -0.256936345541834))</td></tr><tr><td>252</td><td>List(0, 92, List(1, 2, 3, 6, 8, 45, 76, 79, 82, 85, 88, 89, 90, 91), List(-0.3797433197095339, 0.6236459348878599, 1.0, 1.0, 1.0, 1.0, 1.0, 1.0, 1.0, 1.0, 1.0, -0.23685624780129297, 0.7453439542888475, 2.2102520943619477))</td></tr><tr><td>419</td><td>List(0, 92, List(1, 2, 69, 76, 83, 86, 89, 90, 91), List(-0.7143854631300466, 0.6236459348878599, 1.0, 1.0, 1.0, 1.0, -0.23685624780129297, -0.41943771557400883, -0.256936345541834))</td></tr><tr><td>10</td><td>List(0, 92, List(1, 2, 3, 5, 9, 11, 15, 40, 74, 77, 80, 85, 89, 90, 91), List(1.6281095408135418, -1.8480409428508004, 1.0, 1.0, 1.0, 1.0, 1.0, 1.0, 1.0, 1.0, 1.0, 1.0, -0.23685624780129297, 2.6113717315181173, 2.364605725487059))</td></tr><tr><td>120</td><td>List(0, 92, List(1, 2, 3, 4, 5, 36, 65, 75, 79, 82, 83, 86, 89, 90, 91), List(-0.5470643914197902, 0.6236459348878599, 1.0, 1.0, 1.0, 1.0, 1.0, 1.0, 1.0, 1.0, 1.0, 1.0, -0.23685624780129297, -0.41943771557400883, -0.256936345541834))</td></tr><tr><td>89</td><td>List(0, 92, List(1, 2, 35, 47, 66, 76, 85, 89, 90, 91), List(-0.07856539063107244, 0.6236459348878599, 1.0, 1.0, 1.0, 1.0, 1.0, -0.23685624780129297, -0.41943771557400883, -0.256936345541834))</td></tr><tr><td>361</td><td>List(0, 92, List(1, 2, 35, 79, 85, 88, 89, 90, 91), List(-0.39982184831476486, 0.6236459348878599, 1.0, 1.0, 1.0, 1.0, -0.23685624780129297, -0.41943771557400883, -0.256936345541834))</td></tr><tr><td>364</td><td>List(0, 92, List(1, 2, 35, 76, 79, 82, 83, 86, 89, 90, 91), List(-0.05179401915743141, 0.6236459348878599, 1.0, 1.0, 1.0, 1.0, 1.0, 1.0, -0.23685624780129297, -0.41943771557400883, -0.256936345541834))</td></tr><tr><td>356</td><td>List(0, 92, List(1, 2, 40, 66, 76, 83, 86, 89, 90, 91), List(0.9922894683145683, -0.6121975039814702, 1.0, 1.0, 1.0, 1.0, 1.0, -0.23685624780129297, -0.41943771557400883, -0.256936345541834))</td></tr><tr><td>403</td><td>List(0, 92, List(1, 2, 51, 76, 79, 82, 85, 89, 90, 91), List(0.9588252539725166, -0.6121975039814702, 1.0, 1.0, 1.0, 1.0, 1.0, -0.23685624780129297, -0.41943771557400883, -0.256936345541834))</td></tr><tr><td>128</td><td>List(0, 92, List(1, 2, 36, 49, 74, 77, 80, 85, 89, 90, 91), List(-0.5470643914197902, 1.241567654322525, 1.0, 1.0, 1.0, 1.0, 1.0, 1.0, 2.6959814087970697, 1.5476170432249987, 0.3732380791316211))</td></tr><tr><td>197</td><td>List(0, 92, List(1, 2, 3, 4, 9, 11, 18, 32, 40, 46, 60, 76, 79, 82, 85, 89, 90, 91), List(0.7915041822622603, 0.6236459348878599, 1.0, 1.0, 1.0, 1.0, 1.0, 1.0, 1.0, 1.0, 1.0, 1.0, 1.0, 1.0, 1.0, -0.23685624780129297, -0.41943771557400883, -0.256936345541834))</td></tr><tr><td>85</td><td>List(0, 92, List(1, 2, 3, 4, 5, 6, 35, 63, 76, 79, 82, 83, 86, 89, 90, 91), List(0.2828481242630812, -0.6121975039814702, 1.0, 1.0, 1.0, 1.0, 1.0, 1.0, 1.0, 1.0, 1.0, 1.0, 1.0, -0.23685624780129297, -0.41943771557400883, -0.256936345541834))</td></tr><tr><td>106</td><td>List(0, 92, List(0, 1, 2, 3, 18, 44, 67, 74, 77, 80, 85, 89, 90, 91), List(1.0, 3.1339991862058487, 0.6236459348878599, 1.0, 1.0, 1.0, 1.0, 1.0, 1.0, 1.0, 1.0, -0.23685624780129297, -0.41943771557400883, -0.256936345541834))</td></tr><tr><td>111</td><td>List(0, 92, List(1, 2, 51, 74, 77, 80, 85, 89, 90, 91), List(-0.0451011762890213, 0.005724215453194856, 1.0, 1.0, 1.0, 1.0, 1.0, -0.23685624780129297, -0.41943771557400883, -0.256936345541834))</td></tr><tr><td>332</td><td>List(0, 92, List(1, 2, 3, 5, 9, 11, 18, 40, 47, 76, 85, 89, 90, 91), List(0.7915041822622603, 0.005724215453194856, 1.0, 1.0, 1.0, 1.0, 1.0, 1.0, 1.0, 1.0, 1.0, 2.2548635498778036, -0.41943771557400883, -1.390921022207653))</td></tr><tr><td>301</td><td>List(0, 92, List(1, 2, 35, 45, 62, 79, 82, 85, 88, 89, 90, 91), List(-0.31281489102543164, 0.005724215453194856, 1.0, 1.0, 1.0, 1.0, 1.0, 1.0, 1.0, -0.23685624780129297, 1.3217920255985263, 1.555792698391475))</td></tr><tr><td>411</td><td>List(0, 92, List(1, 2, 45, 71, 79, 82, 85, 89, 90, 91), List(0.21591969557897833, 0.6236459348878599, 1.0, 1.0, 1.0, 1.0, 1.0, -0.23685624780129297, -0.41943771557400883, -0.256936345541834))</td></tr><tr><td>177</td><td>List(0, 92, List(1, 2, 36, 44, 67, 76, 79, 82, 85, 89, 90, 91), List(-0.0451011762890213, 0.6236459348878599, 1.0, 1.0, 1.0, 1.0, 1.0, 1.0, 1.0, -0.23685624780129297, -0.41943771557400883, -0.256936345541834))</td></tr><tr><td>179</td><td>List(0, 92, List(1, 2, 3, 4, 6, 35, 76, 79, 82, 84, 89, 90, 91), List(-0.5470643914197902, 0.6236459348878599, 1.0, 1.0, 1.0, 1.0, 1.0, 1.0, 1.0, 1.0, -0.23685624780129297, -0.41943771557400883, -0.256936345541834))</td></tr><tr><td>306</td><td>List(0, 92, List(0, 1, 2, 48, 73, 76, 79, 82, 85, 88, 89, 90, 91), List(1.0, 0.14899126689487605, 0.005724215453194856, 1.0, 1.0, 1.0, 1.0, 1.0, 1.0, 1.0, -0.23685624780129297, 1.3633913709507712, 2.1826742456009276))</td></tr><tr><td>48</td><td>List(0, 92, List(1, 2, 3, 5, 9, 11, 12, 40, 47, 66, 74, 77, 80, 85, 89, 90, 91), List(0.3899336101576453, -0.6121975039814702, 1.0, 1.0, 1.0, 1.0, 1.0, 1.0, 1.0, 1.0, 1.0, 1.0, 1.0, 1.0, -0.23685624780129297, -0.41943771557400883, -0.256936345541834))</td></tr><tr><td>67</td><td>List(0, 92, List(1, 2, 3, 4, 5, 6, 38, 48, 61, 74, 77, 80, 88, 89, 90, 91), List(-0.5470643914197902, 0.005724215453194856, 1.0, 1.0, 1.0, 1.0, 1.0, 1.0, 1.0, 1.0, 1.0, 1.0, 1.0, 2.862890868928684, -0.41943771557400883, -1.390921022207653))</td></tr><tr><td>224</td><td>List(0, 92, List(1, 2, 5, 7, 20, 21, 42, 50, 72, 76, 79, 82, 89, 90, 91), List(-0.41320753405158506, -0.6121975039814702, 1.0, 1.0, 1.0, 1.0, 1.0, 1.0, 1.0, 1.0, 1.0, 1.0, -0.23685624780129297, 4.13866198230768, 1.8447426958576836))</td></tr><tr><td>142</td><td>List(0, 92, List(1, 2, 5, 7, 37, 44, 67, 76, 79, 82, 85, 89, 90, 91), List(-0.4801359627356879, 1.241567654322525, 1.0, 1.0, 1.0, 1.0, 1.0, 1.0, 1.0, 1.0, 1.0, -0.23685624780129297, -0.41943771557400883, -0.256936345541834))</td></tr><tr><td>168</td><td>List(0, 92, List(1, 2, 3, 4, 5, 6, 38, 48, 61, 79, 82, 88, 89, 90, 91), List(-0.5470643914197902, 0.6236459348878599, 1.0, 1.0, 1.0, 1.0, 1.0, 1.0, 1.0, 1.0, 1.0, 1.0, -0.23685624780129297, -0.41943771557400883, -0.256936345541834))</td></tr><tr><td>254</td><td>List(0, 92, List(1, 2, 3, 6, 35, 45, 76, 85, 88, 89, 90, 91), List(-1.0490276065505593, -1.8480409428508004, 1.0, 1.0, 1.0, 1.0, 1.0, 1.0, 1.0, -0.23685624780129297, -0.41943771557400883, -0.256936345541834))</td></tr><tr><td>324</td><td>List(0, 92, List(1, 2, 35, 66, 74, 77, 80, 83, 86, 89, 90, 91), List(0.2895409671314913, 0.6236459348878599, 1.0, 1.0, 1.0, 1.0, 1.0, 1.0, 1.0, -0.23685624780129297, -0.41943771557400883, -0.256936345541834))</td></tr><tr><td>100</td><td>List(0, 92, List(1, 2, 3, 5, 6, 22, 50, 85, 89, 90, 91), List(0.6174902676835938, -0.6121975039814702, 1.0, 1.0, 1.0, 1.0, 1.0, 1.0, -0.23685624780129297, -0.41943771557400883, -0.256936345541834))</td></tr><tr><td>247</td><td>List(0, 92, List(1, 2, 3, 4, 5, 6, 18, 56, 70, 76, 79, 82, 85, 89, 90, 91), List(0.5572546818679016, -0.6121975039814702, 1.0, 1.0, 1.0, 1.0, 1.0, 1.0, 1.0, 1.0, 1.0, 1.0, 1.0, -0.23685624780129297, 2.1894355143739195, 3.1310229552336124))</td></tr><tr><td>105</td><td>List(0, 92, List(1, 2, 52, 74, 77, 80, 83, 86, 89, 90, 91), List(-0.3797433197095339, 1.85948937375719, 1.0, 1.0, 1.0, 1.0, 1.0, 1.0, -0.23685624780129297, -0.41943771557400883, -0.256936345541834))</td></tr><tr><td>131</td><td>List(0, 92, List(1, 2, 36, 76, 79, 82, 83, 86, 89, 90, 91), List(-1.6580763075758922, 0.6236459348878599, 1.0, 1.0, 1.0, 1.0, 1.0, 1.0, -0.23685624780129297, -0.41943771557400883, -0.256936345541834))</td></tr><tr><td>318</td><td>List(0, 92, List(1, 2, 39, 64, 79, 83, 86, 89, 90, 91), List(0.5572546818679016, -1.2301192234161353, 1.0, 1.0, 1.0, 1.0, 1.0, -0.23685624780129297, -0.41943771557400883, -0.256936345541834))</td></tr><tr><td>294</td><td>List(0, 92, List(1, 2, 36, 51, 76, 78, 81, 85, 89, 90, 91), List(-0.38643616257794405, -0.6121975039814702, 1.0, 1.0, 1.0, 1.0, 1.0, 1.0, -0.23685624780129297, -0.41943771557400883, -0.256936345541834))</td></tr><tr><td>108</td><td>List(0, 92, List(1, 2, 3, 4, 5, 6, 35, 55, 74, 77, 80, 88, 89, 90, 91), List(-0.3797433197095339, 1.85948937375719, 1.0, 1.0, 1.0, 1.0, 1.0, 1.0, 1.0, 1.0, 1.0, 1.0, -0.23685624780129297, -0.41943771557400883, -0.256936345541834))</td></tr><tr><td>218</td><td>List(0, 92, List(1, 2, 6, 8, 11, 18, 46, 60, 76, 79, 82, 85, 89, 90, 91), List(0.2895409671314913, -0.6121975039814702, 1.0, 1.0, 1.0, 1.0, 1.0, 1.0, 1.0, 1.0, 1.0, 1.0, -0.23685624780129297, -0.41943771557400883, -0.256936345541834))</td></tr><tr><td>333</td><td>List(0, 92, List(1, 2, 4, 5, 7, 37, 44, 76, 79, 82, 85, 89, 90, 91), List(-0.7210783059984567, 0.6236459348878599, 1.0, 1.0, 1.0, 1.0, 1.0, 1.0, 1.0, 1.0, 1.0, -0.23685624780129297, -0.41943771557400883, -0.256936345541834))</td></tr><tr><td>339</td><td>List(0, 92, List(1, 2, 3, 4, 6, 35, 49, 76, 82, 85, 88, 89, 90, 91), List(0.45686203884174764, 1.85948937375719, 1.0, 1.0, 1.0, 1.0, 1.0, 1.0, 1.0, 1.0, 1.0, -0.23685624780129297, -0.41943771557400883, -0.256936345541834))</td></tr><tr><td>44</td><td>List(0, 92, List(1, 2, 3, 4, 5, 6, 47, 66, 74, 77, 80, 85, 89, 90, 91), List(-0.07856539063107244, 0.005724215453194856, 1.0, 1.0, 1.0, 1.0, 1.0, 1.0, 1.0, 1.0, 1.0, 1.0, -0.23685624780129297, -0.41943771557400883, -0.256936345541834))</td></tr><tr><td>132</td><td>List(0, 92, List(1, 2, 74, 77, 80, 83, 86, 89, 90, 91), List(-2.7289311665215323, -0.6121975039814702, 1.0, 1.0, 1.0, 1.0, 1.0, -0.23685624780129297, -0.41943771557400883, -0.256936345541834))</td></tr><tr><td>309</td><td>List(0, 92, List(1, 2, 48, 73, 76, 79, 82, 85, 88, 89, 90, 91), List(0.2828481242630812, 1.85948937375719, 1.0, 1.0, 1.0, 1.0, 1.0, 1.0, 1.0, -0.23685624780129297, -0.41943771557400883, -0.256936345541834))</td></tr><tr><td>392</td><td>List(0, 92, List(1, 2, 4, 5, 7, 37, 44, 76, 85, 89, 90, 91), List(-0.7210783059984567, 0.005724215453194856, 1.0, 1.0, 1.0, 1.0, 1.0, 1.0, 1.0, -0.23685624780129297, -0.41943771557400883, -0.256936345541834))</td></tr><tr><td>123</td><td>List(0, 92, List(0, 1, 2, 31, 58, 76, 85, 89, 90, 91), List(1.0, 3.2678560435740533, 0.6236459348878599, 1.0, 1.0, 1.0, 1.0, -0.23685624780129297, 2.0765230055606834, 1.555792698391475))</td></tr><tr><td>127</td><td>List(0, 92, List(1, 2, 50, 76, 79, 82, 85, 89, 90, 91), List(-1.470676707260405, -1.2301192234161353, 1.0, 1.0, 1.0, 1.0, 1.0, -0.23685624780129297, -0.41943771557400883, -0.256936345541834))</td></tr><tr><td>345</td><td>List(0, 92, List(1, 2, 35, 76, 89, 90, 91), List(0.22261253844738904, -0.2414444723206714, 1.0, 1.0, -0.23685624780129297, -0.41943771557400883, -0.256936345541834))</td></tr><tr><td>210</td><td>List(0, 92, List(1, 2, 3, 4, 6, 46, 60, 76, 85, 89, 90, 91), List(0.2895409671314913, -1.2301192234161353, 1.0, 1.0, 1.0, 1.0, 1.0, 1.0, 1.0, -0.23685624780129297, 1.4168762435465145, 2.946621817249479))</td></tr><tr><td>205</td><td>List(0, 92, List(1, 2, 3, 4, 6, 9, 18, 32, 43, 46, 60, 76, 85, 89, 90, 91), List(0.7915041822622603, -3.0838843817201305, 1.0, 1.0, 1.0, 1.0, 1.0, 1.0, 1.0, 1.0, 1.0, 1.0, 1.0, -0.23685624780129297, -0.41943771557400883, -0.256936345541834))</td></tr><tr><td>225</td><td>List(0, 92, List(1, 2, 3, 6, 35, 50, 72, 76, 79, 82, 89, 90, 91), List(-0.05179401915743141, 0.6236459348878599, 1.0, 1.0, 1.0, 1.0, 1.0, 1.0, 1.0, 1.0, -0.23685624780129297, -0.41943771557400883, -0.256936345541834))</td></tr><tr><td>323</td><td>List(0, 92, List(1, 2, 35, 50, 76, 79, 82, 85, 88, 89, 90, 91), List(-0.4801359627356879, 0.005724215453194856, 1.0, 1.0, 1.0, 1.0, 1.0, 1.0, 1.0, -0.23685624780129297, -0.41943771557400883, -0.256936345541834))</td></tr><tr><td>352</td><td>List(0, 92, List(1, 2, 35, 47, 76, 79, 85, 89, 90, 91), List(0.08206283821077376, 0.005724215453194856, 1.0, 1.0, 1.0, 1.0, 1.0, -0.23685624780129297, -0.41943771557400883, -0.256936345541834))</td></tr><tr><td>220</td><td>List(0, 92, List(1, 2, 6, 8, 11, 18, 46, 60, 76, 79, 82, 85, 89, 90, 91), List(0.2895409671314913, 1.85948937375719, 1.0, 1.0, 1.0, 1.0, 1.0, 1.0, 1.0, 1.0, 1.0, 1.0, 1.8018235866634227, -0.0747574255125513, -2.672261965387578))</td></tr><tr><td>249</td><td>List(0, 92, List(1, 2, 3, 4, 5, 36, 74, 77, 80, 89, 90, 91), List(-0.31281489102543164, 0.6236459348878599, 1.0, 1.0, 1.0, 1.0, 1.0, 1.0, 1.0, -0.23685624780129297, -0.41943771557400883, -0.256936345541834))</td></tr><tr><td>381</td><td>List(0, 92, List(1, 2, 35, 45, 62, 85, 88, 89, 90, 91), List(-0.14549381931517533, 0.005724215453194856, 1.0, 1.0, 1.0, 1.0, 1.0, -0.23685624780129297, -0.41943771557400883, -0.256936345541834))</td></tr><tr><td>383</td><td>List(0, 92, List(0, 1, 2, 75, 82, 85, 88, 89, 90, 91), List(1.0, 2.9666781144955925, 0.005724215453194856, 1.0, 1.0, 1.0, 1.0, -0.23685624780129297, 0.8107143541280896, 1.3203519597153048))</td></tr><tr><td>61</td><td>List(0, 92, List(1, 2, 3, 6, 9, 11, 40, 45, 62, 74, 77, 80, 85, 88, 89, 90, 91), List(0.2560767527894402, 0.005724215453194856, 1.0, 1.0, 1.0, 1.0, 1.0, 1.0, 1.0, 1.0, 1.0, 1.0, 1.0, 1.0, 0.5142363227909706, 1.2623643893810335, 3.0849226707375785))</td></tr><tr><td>303</td><td>List(0, 92, List(1, 2, 64, 76, 79, 82, 83, 86, 89, 90, 91), List(0.9588252539725166, 0.5000615910009268, 1.0, 1.0, 1.0, 1.0, 1.0, 1.0, -0.23685624780129297, 2.028980896586689, 2.364605725487059))</td></tr><tr><td>379</td><td>List(0, 92, List(1, 2, 39, 64, 76, 79, 83, 86, 89, 90, 91), List(0.9588252539725166, 0.005724215453194856, 1.0, 1.0, 1.0, 1.0, 1.0, 1.0, -0.23685624780129297, -0.41943771557400883, -0.256936345541834))</td></tr><tr><td>192</td><td>List(0, 92, List(1, 2, 5, 7, 20, 21, 41, 54, 76, 82, 85, 89, 90, 91), List(-0.9218635920507641, -0.6121975039814702, 1.0, 1.0, 1.0, 1.0, 1.0, 1.0, 1.0, 1.0, 1.0, -0.23685624780129297, 2.647028313248613, 1.7710645626006303))</td></tr><tr><td>213</td><td>List(0, 92, List(1, 2, 4, 6, 7, 46, 60, 76, 85, 89, 90, 91), List(0.2895409671314913, 1.241567654322525, 1.0, 1.0, 1.0, 1.0, 1.0, 1.0, 1.0, -0.23685624780129297, -0.41943771557400883, -0.256936345541834))</td></tr><tr><td>337</td><td>List(0, 92, List(1, 2, 4, 5, 7, 42, 50, 74, 77, 80, 85, 89, 90, 91), List(-0.5470643914197902, 1.1179833104355925, 1.0, 1.0, 1.0, 1.0, 1.0, 1.0, 1.0, 1.0, 1.0, -0.23685624780129297, -0.41943771557400883, -0.256936345541834))</td></tr><tr><td>156</td><td>List(0, 92, List(1, 2, 3, 6, 35, 65, 76, 83, 86, 89, 90, 91), List(-0.0451011762890213, 0.005724215453194856, 1.0, 1.0, 1.0, 1.0, 1.0, 1.0, 1.0, -0.23685624780129297, -0.41943771557400883, -0.256936345541834))</td></tr><tr><td>160</td><td>List(0, 92, List(1, 2, 3, 4, 5, 6, 38, 48, 61, 79, 88, 89, 90, 91), List(-0.5470643914197902, 1.241567654322525, 1.0, 1.0, 1.0, 1.0, 1.0, 1.0, 1.0, 1.0, 1.0, -0.23685624780129297, -0.41943771557400883, -0.256936345541834))</td></tr><tr><td>283</td><td>List(0, 92, List(1, 2, 3, 5, 36, 56, 70, 76, 79, 82, 85, 89, 90, 91), List(-0.2124222479992776, -0.6121975039814702, 1.0, 1.0, 1.0, 1.0, 1.0, 1.0, 1.0, 1.0, 1.0, -0.23685624780129297, -0.41943771557400883, -0.256936345541834))</td></tr><tr><td>3</td><td>List(0, 92, List(1, 2, 3, 4, 5, 36, 54, 74, 77, 80, 85, 89, 90, 91), List(-1.2163486782608155, -1.8480409428508004, 1.0, 1.0, 1.0, 1.0, 1.0, 1.0, 1.0, 1.0, 1.0, 2.1356425069266507, 0.5314044639058739, -0.8871107702152891))</td></tr><tr><td>206</td><td>List(0, 92, List(1, 2, 6, 8, 11, 18, 46, 60, 76, 85, 89, 90, 91), List(0.2895409671314913, 0.37647724711399366, 1.0, 1.0, 1.0, 1.0, 1.0, 1.0, 1.0, 1.0, -0.23685624780129297, -0.41943771557400883, -0.256936345541834))</td></tr><tr><td>382</td><td>List(0, 92, List(1, 2, 35, 45, 62, 85, 88, 89, 90, 91), List(-0.14549381931517533, 0.005724215453194856, 1.0, 1.0, 1.0, 1.0, 1.0, -0.23685624780129297, -0.41943771557400883, -0.256936345541834))</td></tr><tr><td>37</td><td>List(0, 92, List(1, 2, 14, 17, 18, 27, 57, 68, 74, 77, 80, 85, 88, 89, 90, 91), List(1.6281095408135418, -0.6121975039814702, 1.0, 1.0, 1.0, 1.0, 1.0, 1.0, 1.0, 1.0, 1.0, 1.0, 1.0, -0.23685624780129297, -0.41943771557400883, -0.256936345541834))</td></tr><tr><td>101</td><td>List(0, 92, List(1, 2, 3, 6, 35, 50, 76, 79, 85, 89, 90, 91), List(-0.05179401915743141, -1.2301192234161353, 1.0, 1.0, 1.0, 1.0, 1.0, 1.0, 1.0, -0.23685624780129297, -0.41943771557400883, -0.256936345541834))</td></tr><tr><td>292</td><td>List(0, 92, List(1, 2, 53, 76, 79, 82, 85, 89, 90, 91), List(-0.0451011762890213, 0.005724215453194856, 1.0, 1.0, 1.0, 1.0, 1.0, -0.23685624780129297, -0.41943771557400883, -0.256936345541834))</td></tr><tr><td>83</td><td>List(0, 92, List(1, 2, 3, 4, 5, 6, 35, 63, 76, 83, 86, 89, 90, 91), List(0.2828481242630812, 0.6236459348878599, 1.0, 1.0, 1.0, 1.0, 1.0, 1.0, 1.0, 1.0, 1.0, -0.23685624780129297, -0.41943771557400883, -0.256936345541834))</td></tr><tr><td>362</td><td>List(0, 92, List(1, 2, 76, 82, 88, 89, 90, 91), List(0.1891483241053373, 0.005724215453194856, 1.0, 1.0, 1.0, -0.23685624780129297, -0.41943771557400883, -0.256936345541834))</td></tr><tr><td>12</td><td>List(0, 92, List(1, 2, 3, 4, 6, 35, 45, 71, 74, 77, 80, 85, 89, 90, 91), List(-0.5470643914197902, 0.005724215453194856, 1.0, 1.0, 1.0, 1.0, 1.0, 1.0, 1.0, 1.0, 1.0, 1.0, -0.23685624780129297, -0.41943771557400883, -0.256936345541834))</td></tr><tr><td>200</td><td>List(0, 92, List(1, 2, 3, 4, 6, 9, 18, 32, 43, 46, 60, 76, 85, 89, 90, 91), List(0.7915041822622603, 0.6236459348878599, 1.0, 1.0, 1.0, 1.0, 1.0, 1.0, 1.0, 1.0, 1.0, 1.0, 1.0, -0.23685624780129297, 4.001978419007446, 1.555792698391475))</td></tr><tr><td>295</td><td>List(0, 92, List(1, 2, 5, 8, 17, 20, 52, 76, 79, 82, 85, 89, 90, 91), List(-0.7210783059984567, 0.005724215453194856, 1.0, 1.0, 1.0, 1.0, 1.0, 1.0, 1.0, 1.0, 1.0, -0.23685624780129297, -0.41943771557400883, -0.256936345541834))</td></tr><tr><td>355</td><td>List(0, 92, List(1, 2, 35, 47, 76, 85, 89, 90, 91), List(-0.11202960497312359, 0.9943989665486588, 1.0, 1.0, 1.0, 1.0, -0.23685624780129297, -0.41943771557400883, -0.256936345541834))</td></tr><tr><td>141</td><td>List(0, 92, List(1, 2, 4, 5, 7, 12, 44, 67, 74, 77, 80, 85, 89, 90, 91), List(-0.7143854631300466, -0.6121975039814702, 1.0, 1.0, 1.0, 1.0, 1.0, 1.0, 1.0, 1.0, 1.0, 1.0, -0.23685624780129297, -0.41943771557400883, -0.256936345541834))</td></tr><tr><td>288</td><td>List(0, 92, List(1, 2, 3, 6, 35, 50, 72, 74, 77, 80, 89, 90, 91), List(-0.05179401915743141, 0.9943989665486588, 1.0, 1.0, 1.0, 1.0, 1.0, 1.0, 1.0, 1.0, -0.23685624780129297, 2.1240651145346776, 2.860595393502417))</td></tr><tr><td>55</td><td>List(0, 92, List(1, 2, 5, 8, 18, 26, 59, 74, 77, 80, 85, 88, 89, 90, 91), List(0.5907188962099528, -1.2301192234161353, 1.0, 1.0, 1.0, 1.0, 1.0, 1.0, 1.0, 1.0, 1.0, 1.0, -0.23685624780129297, -0.41943771557400883, -0.256936345541834))</td></tr><tr><td>373</td><td>List(0, 92, List(1, 2, 35, 76, 79, 82, 85, 89, 90, 91), List(-0.05179401915743141, 0.6236459348878599, 1.0, 1.0, 1.0, 1.0, 1.0, -0.23685624780129297, -0.41943771557400883, -0.256936345541834))</td></tr><tr><td>74</td><td>List(0, 92, List(1, 2, 3, 4, 5, 6, 11, 12, 18, 50, 74, 77, 80, 85, 88, 89, 90, 91), List(-1.0490276065505593, -0.6121975039814702, 1.0, 1.0, 1.0, 1.0, 1.0, 1.0, 1.0, 1.0, 1.0, 1.0, 1.0, 1.0, 1.0, -0.23685624780129297, -0.41943771557400883, -0.256936345541834))</td></tr><tr><td>280</td><td>List(0, 92, List(1, 2, 3, 4, 5, 6, 35, 57, 68, 74, 77, 80, 85, 88, 89, 90, 91), List(-0.5470643914197902, -0.6121975039814702, 1.0, 1.0, 1.0, 1.0, 1.0, 1.0, 1.0, 1.0, 1.0, 1.0, 1.0, 1.0, -0.23685624780129297, -0.41943771557400883, -0.256936345541834))</td></tr><tr><td>322</td><td>List(0, 92, List(1, 2, 37, 50, 76, 79, 82, 85, 88, 89, 90, 91), List(0.1891483241053373, 0.005724215453194856, 1.0, 1.0, 1.0, 1.0, 1.0, 1.0, 1.0, -0.23685624780129297, -0.41943771557400883, -0.256936345541834))</td></tr><tr><td>390</td><td>List(0, 92, List(1, 2, 3, 4, 5, 36, 45, 62, 85, 88, 89, 90, 91), List(0.08875568107918387, -0.6121975039814702, 1.0, 1.0, 1.0, 1.0, 1.0, 1.0, 1.0, 1.0, -0.23685624780129297, 1.3277347892202755, 2.263761353151986))</td></tr><tr><td>8</td><td>List(0, 92, List(0, 1, 2, 3, 4, 5, 6, 44, 67, 74, 77, 80, 85, 89, 90, 91), List(1.0, 1.4607884691032855, 0.005724215453194856, 1.0, 1.0, 1.0, 1.0, 1.0, 1.0, 1.0, 1.0, 1.0, 1.0, 3.602061335225832, -0.41943771557400883, -2.6644413814105725))</td></tr><tr><td>62</td><td>List(0, 92, List(1, 2, 4, 5, 8, 74, 77, 80, 85, 89, 90, 91), List(-0.31281489102543164, 0.005724215453194856, 1.0, 1.0, 1.0, 1.0, 1.0, 1.0, 1.0, -0.23685624780129297, 1.5179032251162523, 1.555792698391475))</td></tr><tr><td>182</td><td>List(0, 92, List(1, 2, 3, 4, 5, 36, 47, 76, 79, 82, 85, 89, 90, 91), List(-0.1187224478415343, 1.85948937375719, 1.0, 1.0, 1.0, 1.0, 1.0, 1.0, 1.0, 1.0, 1.0, -0.23685624780129297, -0.41943771557400883, -0.256936345541834))</td></tr><tr><td>334</td><td>List(0, 92, List(1, 2, 4, 5, 7, 37, 44, 76, 79, 82, 85, 89, 90, 91), List(-0.7210783059984567, 0.6236459348878599, 1.0, 1.0, 1.0, 1.0, 1.0, 1.0, 1.0, 1.0, 1.0, -0.23685624780129297, -0.41943771557400883, -0.256936345541834))</td></tr><tr><td>186</td><td>List(0, 92, List(1, 2, 3, 4, 5, 6, 35, 49, 63, 76, 82, 88, 89, 90, 91), List(0.2828481242630812, -1.2301192234161353, 1.0, 1.0, 1.0, 1.0, 1.0, 1.0, 1.0, 1.0, 1.0, 1.0, -0.23685624780129297, -0.41943771557400883, -0.256936345541834))</td></tr><tr><td>331</td><td>List(0, 92, List(0, 1, 2, 3, 6, 35, 47, 85, 89, 90, 91), List(1.0, 0.021827252395080984, 0.6236459348878599, 1.0, 1.0, 1.0, 1.0, 1.0, -0.23685624780129297, 1.1375663533242992, 1.7710645626006303))</td></tr><tr><td>171</td><td>List(0, 92, List(1, 2, 3, 4, 5, 6, 38, 48, 61, 76, 88, 89, 90, 91), List(-0.5470643914197902, 0.005724215453194856, 1.0, 1.0, 1.0, 1.0, 1.0, 1.0, 1.0, 1.0, 1.0, -0.23685624780129297, -0.41943771557400883, -0.256936345541834))</td></tr><tr><td>11</td><td>List(0, 92, List(0, 1, 2, 4, 7, 11, 12, 16, 45, 71, 74, 77, 80, 85, 89, 90, 91), List(1.0, -0.07856539063107244, -1.8480409428508004, 1.0, 1.0, 1.0, 1.0, 1.0, 1.0, 1.0, 1.0, 1.0, 1.0, 1.0, -0.23685624780129297, -0.41943771557400883, -0.256936345541834))</td></tr><tr><td>49</td><td>List(0, 92, List(1, 2, 47, 66, 74, 77, 80, 85, 89, 90, 91), List(0.15568410976328614, -0.6121975039814702, 1.0, 1.0, 1.0, 1.0, 1.0, 1.0, -0.23685624780129297, -0.41943771557400883, -0.256936345541834))</td></tr><tr><td>290</td><td>List(0, 92, List(0, 1, 2, 3, 4, 6, 35, 53, 76, 79, 82, 85, 89, 90, 91), List(1.0, -0.5470643914197902, -0.6121975039814702, 1.0, 1.0, 1.0, 1.0, 1.0, 1.0, 1.0, 1.0, 1.0, -0.23685624780129297, -0.41943771557400883, -0.256936345541834))</td></tr><tr><td>35</td><td>List(0, 92, List(1, 2, 4, 5, 6, 8, 57, 68, 74, 77, 80, 85, 88, 89, 90, 91), List(-0.5470643914197902, -0.6121975039814702, 1.0, 1.0, 1.0, 1.0, 1.0, 1.0, 1.0, 1.0, 1.0, 1.0, 1.0, -0.23685624780129297, -0.41943771557400883, -0.256936345541834))</td></tr><tr><td>371</td><td>List(0, 92, List(1, 2, 53, 76, 85, 89, 90, 91), List(12.002015986849432, 0.6236459348878599, 1.0, 1.0, 1.0, -0.23685624780129297, 1.0365393717545615, 0.723517919364874))</td></tr><tr><td>166</td><td>List(0, 92, List(1, 2, 3, 4, 5, 6, 48, 61, 76, 79, 82, 88, 89, 90, 91), List(-0.5470643914197902, 1.241567654322525, 1.0, 1.0, 1.0, 1.0, 1.0, 1.0, 1.0, 1.0, 1.0, 1.0, -0.23685624780129297, -0.41943771557400883, -0.256936345541834))</td></tr><tr><td>260</td><td>List(0, 92, List(1, 2, 44, 74, 77, 80, 85, 89, 90, 91), List(-1.3903625928394818, 0.6236459348878599, 1.0, 1.0, 1.0, 1.0, 1.0, -0.23685624780129297, 2.355832895782899, 3.1812393365596487))</td></tr><tr><td>80</td><td>List(0, 92, List(0, 1, 2, 3, 5, 6, 35, 45, 88, 89, 90, 91), List(1.0, -0.2124222479992776, -0.6121975039814702, 1.0, 1.0, 1.0, 1.0, 1.0, 1.0, -0.23685624780129297, 1.7615565336079722, 1.555792698391475))</td></tr><tr><td>321</td><td>List(0, 92, List(1, 2, 39, 64, 74, 77, 80, 83, 86, 89, 90, 91), List(0.5572546818679016, -0.6121975039814702, 1.0, 1.0, 1.0, 1.0, 1.0, 1.0, 1.0, -0.23685624780129297, -0.41943771557400883, -0.256936345541834))</td></tr><tr><td>327</td><td>List(0, 92, List(1, 2, 61, 76, 78, 82, 83, 86, 89, 90, 91), List(-1.5509908216813282, 0.6236459348878599, 1.0, 1.0, 1.0, 1.0, 1.0, 1.0, -0.23685624780129297, -0.41943771557400883, -0.256936345541834))</td></tr><tr><td>380</td><td>List(0, 92, List(1, 2, 39, 64, 76, 83, 86, 89, 90, 91), List(0.9588252539725166, 0.005724215453194856, 1.0, 1.0, 1.0, 1.0, 1.0, -0.23685624780129297, -0.41943771557400883, -0.256936345541834))</td></tr><tr><td>400</td><td>List(0, 92, List(0, 1, 2, 51, 76, 82, 85, 89, 90, 91), List(1.0, 0.9588252539725166, -0.36502881620760397, 1.0, 1.0, 1.0, 1.0, -0.23685624780129297, -0.41943771557400883, -0.256936345541834))</td></tr><tr><td>199</td><td>List(0, 92, List(1, 2, 3, 4, 6, 9, 18, 32, 43, 46, 60, 76, 85, 89, 90, 91), List(0.7915041822622603, -0.6121975039814702, 1.0, 1.0, 1.0, 1.0, 1.0, 1.0, 1.0, 1.0, 1.0, 1.0, 1.0, -0.23685624780129297, -0.41943771557400883, -0.256936345541834))</td></tr><tr><td>2</td><td>List(0, 92, List(1, 2, 4, 5, 7, 37, 54, 74, 77, 80, 85, 89, 90, 91), List(-1.4840623929972259, -2.4659626622854653, 1.0, 1.0, 1.0, 1.0, 1.0, 1.0, 1.0, 1.0, 1.0, -0.23685624780129297, -0.41943771557400883, -0.256936345541834))</td></tr><tr><td>269</td><td>List(0, 92, List(1, 2, 35, 50, 76, 79, 82, 85, 88, 89, 90, 91), List(0.2828481242630812, -1.8480409428508004, 1.0, 1.0, 1.0, 1.0, 1.0, 1.0, 1.0, -0.23685624780129297, 1.8090986425819664, 1.6315288800635295))</td></tr><tr><td>66</td><td>List(0, 92, List(0, 1, 2, 3, 4, 5, 6, 38, 48, 61, 74, 77, 80, 88, 89, 90, 91), List(1.0, -0.5470643914197902, 0.6236459348878599, 1.0, 1.0, 1.0, 1.0, 1.0, 1.0, 1.0, 1.0, 1.0, 1.0, 1.0, -0.23685624780129297, -0.41943771557400883, -0.256936345541834))</td></tr><tr><td>154</td><td>List(0, 92, List(1, 2, 3, 5, 6, 19, 74, 77, 80, 89, 90, 91), List(-0.08525823349948256, 0.3146850751705274, 1.0, 1.0, 1.0, 1.0, 1.0, 1.0, 1.0, -0.23685624780129297, -0.41943771557400883, -0.256936345541834))</td></tr><tr><td>265</td><td>List(0, 92, List(1, 2, 4, 7, 12, 41, 44, 74, 77, 80, 85, 89, 90, 91), List(0.0017487237898506558, 1.241567654322525, 1.0, 1.0, 1.0, 1.0, 1.0, 1.0, 1.0, 1.0, 1.0, -0.23685624780129297, -0.41943771557400883, -0.256936345541834))</td></tr><tr><td>162</td><td>List(0, 92, List(1, 2, 3, 4, 5, 6, 38, 48, 61, 88, 89, 90, 91), List(-0.5470643914197902, -0.6121975039814702, 1.0, 1.0, 1.0, 1.0, 1.0, 1.0, 1.0, 1.0, -0.23685624780129297, -0.41943771557400883, -0.256936345541834))</td></tr><tr><td>244</td><td>List(0, 92, List(1, 2, 4, 5, 7, 37, 45, 62, 74, 77, 80, 85, 88, 89, 90, 91), List(-0.31281489102543164, -0.6121975039814702, 1.0, 1.0, 1.0, 1.0, 1.0, 1.0, 1.0, 1.0, 1.0, 1.0, 1.0, -0.23685624780129297, -0.41943771557400883, -0.256936345541834))</td></tr><tr><td>344</td><td>List(0, 92, List(1, 2, 35, 45, 62, 85, 88, 89, 90, 91), List(-0.14549381931517533, 0.6236459348878599, 1.0, 1.0, 1.0, 1.0, 1.0, -0.23685624780129297, -0.41943771557400883, -0.256936345541834))</td></tr><tr><td>164</td><td>List(0, 92, List(1, 2, 5, 7, 37, 48, 61, 76, 79, 82, 88, 89, 90, 91), List(-1.0490276065505593, 1.241567654322525, 1.0, 1.0, 1.0, 1.0, 1.0, 1.0, 1.0, 1.0, 1.0, -0.23685624780129297, -0.41943771557400883, -0.256936345541834))</td></tr><tr><td>176</td><td>List(0, 92, List(1, 2, 42, 44, 67, 76, 79, 82, 85, 89, 90, 91), List(-0.5470643914197902, -1.8480409428508004, 1.0, 1.0, 1.0, 1.0, 1.0, 1.0, 1.0, -0.23685624780129297, -0.41943771557400883, -0.256936345541834))</td></tr><tr><td>360</td><td>List(0, 92, List(1, 2, 79, 82, 85, 88, 89, 90, 91), List(-1.008870549340098, 0.005724215453194856, 1.0, 1.0, 1.0, 1.0, -0.23685624780129297, -0.41943771557400883, -0.256936345541834))</td></tr><tr><td>134</td><td>List(0, 92, List(1, 2, 74, 77, 80, 83, 86, 89, 90, 91), List(0.0017487237898506558, 0.9943989665486588, 1.0, 1.0, 1.0, 1.0, 1.0, -0.23685624780129297, -0.41943771557400883, -0.256936345541834))</td></tr><tr><td>245</td><td>List(0, 92, List(1, 2, 4, 5, 7, 41, 44, 76, 79, 82, 85, 89, 90, 91), List(-0.7210783059984567, 0.6236459348878599, 1.0, 1.0, 1.0, 1.0, 1.0, 1.0, 1.0, 1.0, 1.0, -0.23685624780129297, -0.41943771557400883, -0.256936345541834))</td></tr><tr><td>329</td><td>List(0, 92, List(1, 2, 38, 61, 76, 83, 86, 89, 90, 91), List(-0.3797433197095339, 0.6236459348878599, 1.0, 1.0, 1.0, 1.0, 1.0, -0.23685624780129297, -0.41943771557400883, -0.256936345541834))</td></tr><tr><td>359</td><td>List(0, 92, List(1, 2, 36, 76, 79, 82, 85, 88, 89, 90, 91), List(-1.008870549340098, 0.6236459348878599, 1.0, 1.0, 1.0, 1.0, 1.0, 1.0, -0.23685624780129297, -0.41943771557400883, -0.256936345541834))</td></tr><tr><td>422</td><td>List(0, 92, List(1, 2, 69, 76, 79, 82, 83, 86, 89, 90, 91), List(-1.0490276065505593, 0.005724215453194856, 1.0, 1.0, 1.0, 1.0, 1.0, 1.0, 1.9329667339096908, 0.41849195509263776, -1.0826253696404302))</td></tr><tr><td>76</td><td>List(0, 92, List(1, 2, 5, 7, 20, 21, 51, 76, 82, 85, 89, 90, 91), List(1.2934673973930293, -1.8480409428508004, 1.0, 1.0, 1.0, 1.0, 1.0, 1.0, 1.0, 1.0, -0.23685624780129297, -0.41943771557400883, -0.256936345541834))</td></tr><tr><td>102</td><td>List(0, 92, List(1, 2, 3, 6, 35, 50, 76, 82, 85, 88, 89, 90, 91), List(-1.015563392208508, 0.005724215453194856, 1.0, 1.0, 1.0, 1.0, 1.0, 1.0, 1.0, 1.0, -0.23685624780129297, -0.41943771557400883, -0.256936345541834))</td></tr><tr><td>175</td><td>List(0, 92, List(1, 2, 3, 6, 15, 21, 40, 44, 67, 76, 79, 82, 85, 89, 90, 91), List(-0.0451011762890213, -1.2301192234161353, 1.0, 1.0, 1.0, 1.0, 1.0, 1.0, 1.0, 1.0, 1.0, 1.0, 1.0, -0.23685624780129297, -0.41943771557400883, -0.256936345541834))</td></tr><tr><td>233</td><td>List(0, 92, List(1, 2, 35, 64, 76, 83, 86, 89, 90, 91), List(0.5572546818679016, 0.005724215453194856, 1.0, 1.0, 1.0, 1.0, 1.0, -0.23685624780129297, 2.492516459083132, 3.147487342553624))</td></tr><tr><td>4</td><td>List(0, 92, List(0, 1, 2, 3, 4, 6, 35, 51, 74, 77, 80, 85, 89, 90, 91), List(1.0, -0.31950773389384174, 0.6236459348878599, 1.0, 1.0, 1.0, 1.0, 1.0, 1.0, 1.0, 1.0, 1.0, -0.23685624780129297, -0.41943771557400883, -0.256936345541834))</td></tr><tr><td>92</td><td>List(0, 92, List(1, 2, 3, 5, 6, 22, 58, 65, 76, 79, 82, 85, 88, 89, 90, 91), List(1.1261463256827728, 0.6236459348878599, 1.0, 1.0, 1.0, 1.0, 1.0, 1.0, 1.0, 1.0, 1.0, 1.0, 1.0, -0.23685624780129297, -0.41943771557400883, -0.256936345541834))</td></tr><tr><td>163</td><td>List(0, 92, List(1, 2, 3, 4, 5, 6, 38, 48, 61, 74, 77, 80, 88, 89, 90, 91), List(-0.5470643914197902, 0.6236459348878599, 1.0, 1.0, 1.0, 1.0, 1.0, 1.0, 1.0, 1.0, 1.0, 1.0, 1.0, -0.23685624780129297, -0.41943771557400883, -0.256936345541834))</td></tr><tr><td>230</td><td>List(0, 92, List(1, 2, 4, 7, 11, 12, 15, 33, 37, 51, 76, 85, 89, 90, 91), List(0.05529146673713272, 0.6236459348878599, 1.0, 1.0, 1.0, 1.0, 1.0, 1.0, 1.0, 1.0, 1.0, 1.0, -0.23685624780129297, -0.41943771557400883, -0.256936345541834))</td></tr><tr><td>391</td><td>List(0, 92, List(1, 2, 4, 5, 7, 37, 44, 76, 85, 89, 90, 91), List(-0.7210783059984567, -0.6121975039814702, 1.0, 1.0, 1.0, 1.0, 1.0, 1.0, 1.0, -0.23685624780129297, -0.41943771557400883, -0.256936345541834))</td></tr><tr><td>308</td><td>List(0, 92, List(1, 2, 35, 48, 73, 76, 85, 88, 89, 90, 91), List(0.2828481242630812, 0.2528929032270611, 1.0, 1.0, 1.0, 1.0, 1.0, 1.0, -0.23685624780129297, -0.41943771557400883, -0.256936345541834))</td></tr><tr><td>118</td><td>List(0, 92, List(0, 1, 2, 3, 4, 5, 6, 35, 54, 76, 89, 90, 91), List(1.0, -0.7210783059984567, 0.6236459348878599, 1.0, 1.0, 1.0, 1.0, 1.0, 1.0, 1.0, 1.5991478136464625, -0.41943771557400883, -1.1036174634734455))</td></tr><tr><td>13</td><td>List(0, 92, List(1, 2, 10, 17, 18, 45, 71, 74, 77, 80, 85, 89, 90, 91), List(-0.05179401915743141, -0.6121975039814702, 1.0, 1.0, 1.0, 1.0, 1.0, 1.0, 1.0, 1.0, 1.0, -0.23685624780129297, -0.41943771557400883, -0.256936345541834))</td></tr><tr><td>272</td><td>List(0, 92, List(1, 2, 35, 55, 76, 79, 82, 85, 89, 90, 91), List(-0.4533645912620469, 0.6236459348878599, 1.0, 1.0, 1.0, 1.0, 1.0, 1.0, -0.23685624780129297, -0.41943771557400883, -0.256936345541834))</td></tr><tr><td>305</td><td>List(0, 92, List(1, 2, 44, 76, 82, 85, 89, 90, 91), List(-1.3903625928394818, 0.005724215453194856, 1.0, 1.0, 1.0, 1.0, -0.23685624780129297, 1.5179032251162523, 1.555792698391475))</td></tr><tr><td>36</td><td>List(0, 92, List(1, 2, 3, 4, 6, 12, 26, 57, 68, 74, 77, 80, 85, 88, 89, 90, 91), List(-0.5470643914197902, 0.3146850751705274, 1.0, 1.0, 1.0, 1.0, 1.0, 1.0, 1.0, 1.0, 1.0, 1.0, 1.0, 1.0, -0.23685624780129297, -0.41943771557400883, -0.256936345541834))</td></tr><tr><td>75</td><td>List(0, 92, List(1, 2, 3, 4, 6, 35, 51, 76, 79, 82, 85, 89, 90, 91), List(1.2934673973930293, -1.8480409428508004, 1.0, 1.0, 1.0, 1.0, 1.0, 1.0, 1.0, 1.0, 1.0, 2.4933056357801098, -0.41943771557400883, -2.8541934452737094))</td></tr><tr><td>302</td><td>List(0, 92, List(1, 2, 45, 62, 76, 79, 82, 85, 88, 89, 90, 91), List(-0.31281489102543164, 0.005724215453194856, 1.0, 1.0, 1.0, 1.0, 1.0, 1.0, 1.0, -0.23685624780129297, -0.41943771557400883, -0.256936345541834))</td></tr><tr><td>78</td><td>List(0, 92, List(0, 1, 2, 3, 5, 6, 35, 52, 79, 88, 89, 90, 91), List(1.0, -0.1187224478415343, -0.6121975039814702, 1.0, 1.0, 1.0, 1.0, 1.0, 1.0, 1.0, -0.23685624780129297, -0.41943771557400883, -0.256936345541834))</td></tr><tr><td>314</td><td>List(0, 92, List(1, 2, 35, 49, 74, 77, 80, 84, 89, 90, 91), List(-0.14549381931517533, 0.005724215453194856, 1.0, 1.0, 1.0, 1.0, 1.0, 1.0, -0.23685624780129297, -0.41943771557400883, -0.256936345541834))</td></tr><tr><td>408</td><td>List(0, 92, List(1, 2, 45, 71, 76, 79, 82, 85, 89, 90, 91), List(1.9560588413656443, 0.6236459348878599, 1.0, 1.0, 1.0, 1.0, 1.0, 1.0, -0.23685624780129297, -0.41943771557400883, -0.256936345541834))</td></tr><tr><td>18</td><td>List(0, 92, List(1, 2, 3, 20, 21, 74, 77, 80, 85, 88, 89, 90, 91), List(-0.7210783059984567, -1.8480409428508004, 1.0, 1.0, 1.0, 1.0, 1.0, 1.0, 1.0, 1.0, -0.23685624780129297, -0.41943771557400883, -0.256936345541834))</td></tr><tr><td>125</td><td>List(0, 92, List(1, 2, 4, 6, 8, 14, 35, 44, 67, 74, 77, 80, 85, 89, 90, 91), List(0.2895409671314913, 0.6236459348878599, 1.0, 1.0, 1.0, 1.0, 1.0, 1.0, 1.0, 1.0, 1.0, 1.0, 1.0, -0.23685624780129297, -0.41943771557400883, -0.256936345541834))</td></tr><tr><td>140</td><td>List(0, 92, List(1, 2, 4, 5, 7, 12, 44, 67, 74, 77, 80, 85, 89, 90, 91), List(-0.7143854631300466, 0.6236459348878599, 1.0, 1.0, 1.0, 1.0, 1.0, 1.0, 1.0, 1.0, 1.0, 1.0, -0.23685624780129297, -0.41943771557400883, -0.256936345541834))</td></tr><tr><td>298</td><td>List(0, 92, List(1, 2, 3, 4, 6, 35, 76, 79, 82, 85, 89, 90, 91), List(0.45686203884174764, 0.6236459348878599, 1.0, 1.0, 1.0, 1.0, 1.0, 1.0, 1.0, 1.0, -0.23685624780129297, -0.41943771557400883, -0.256936345541834))</td></tr><tr><td>410</td><td>List(0, 92, List(1, 2, 42, 45, 71, 76, 85, 89, 90, 91), List(0.21591969557897833, 1.241567654322525, 1.0, 1.0, 1.0, 1.0, 1.0, -0.23685624780129297, -0.41943771557400883, -0.256936345541834))</td></tr><tr><td>289</td><td>List(0, 92, List(1, 2, 3, 6, 35, 50, 72, 74, 77, 80, 89, 90, 91), List(-0.05179401915743141, 0.6236459348878599, 1.0, 1.0, 1.0, 1.0, 1.0, 1.0, 1.0, 1.0, -0.23685624780129297, -0.41943771557400883, -0.256936345541834))</td></tr><tr><td>69</td><td>List(0, 92, List(1, 2, 4, 6, 7, 11, 25, 48, 61, 74, 77, 80, 88, 89, 90, 91), List(-0.3797433197095339, 1.85948937375719, 1.0, 1.0, 1.0, 1.0, 1.0, 1.0, 1.0, 1.0, 1.0, 1.0, 1.0, -0.23685624780129297, -0.41943771557400883, -0.256936345541834))</td></tr><tr><td>14</td><td>List(0, 92, List(1, 2, 3, 4, 6, 35, 45, 71, 74, 77, 80, 85, 89, 90, 91), List(-0.5470643914197902, -0.6121975039814702, 1.0, 1.0, 1.0, 1.0, 1.0, 1.0, 1.0, 1.0, 1.0, 1.0, 1.7541351694829614, -0.41943771557400883, -1.4753010072227137))</td></tr><tr><td>374</td><td>List(0, 92, List(1, 2, 76, 79, 85, 89, 90, 91), List(0.021827252395080984, -0.6121975039814702, 1.0, 1.0, 1.0, -0.23685624780129297, -0.41943771557400883, -0.256936345541834))</td></tr><tr><td>216</td><td>List(0, 92, List(1, 2, 4, 6, 8, 46, 60, 76, 79, 82, 85, 89, 90, 91), List(0.2895409671314913, -0.6121975039814702, 1.0, 1.0, 1.0, 1.0, 1.0, 1.0, 1.0, 1.0, 1.0, -0.23685624780129297, 1.5179032251162523, 1.555792698391475))</td></tr><tr><td>286</td><td>List(0, 92, List(1, 2, 35, 56, 70, 76, 79, 82, 85, 89, 90, 91), List(0.5572546818679016, 0.6236459348878599, 1.0, 1.0, 1.0, 1.0, 1.0, 1.0, 1.0, -0.23685624780129297, -0.41943771557400883, -0.256936345541834))</td></tr><tr><td>137</td><td>List(0, 92, List(1, 2, 3, 4, 5, 6, 44, 67, 85, 89, 90, 91), List(1.4607884691032855, 0.005724215453194856, 1.0, 1.0, 1.0, 1.0, 1.0, 1.0, 1.0, -0.23685624780129297, -0.41943771557400883, -0.256936345541834))</td></tr><tr><td>194</td><td>List(0, 92, List(0, 1, 2, 3, 4, 9, 11, 18, 32, 40, 46, 60, 76, 82, 85, 89, 90, 91), List(1.0, 0.7915041822622603, 0.6236459348878599, 1.0, 1.0, 1.0, 1.0, 1.0, 1.0, 1.0, 1.0, 1.0, 1.0, 1.0, 1.0, -0.23685624780129297, -0.41943771557400883, -0.256936345541834))</td></tr><tr><td>21</td><td>List(0, 92, List(1, 2, 3, 5, 6, 22, 58, 65, 74, 77, 80, 85, 88, 89, 90, 91), List(1.1261463256827728, 0.005724215453194856, 1.0, 1.0, 1.0, 1.0, 1.0, 1.0, 1.0, 1.0, 1.0, 1.0, 1.0, -0.23685624780129297, -0.41943771557400883, -0.256936345541834))</td></tr><tr><td>135</td><td>List(0, 92, List(1, 2, 74, 77, 80, 83, 86, 89, 90, 91), List(-0.7143854631300466, 1.85948937375719, 1.0, 1.0, 1.0, 1.0, 1.0, -0.23685624780129297, -0.41943771557400883, -0.256936345541834))</td></tr><tr><td>238</td><td>List(0, 92, List(1, 2, 7, 11, 12, 20, 21, 42, 79, 82, 85, 88, 89, 90, 91), List(-2.059646879680507, 1.241567654322525, 1.0, 1.0, 1.0, 1.0, 1.0, 1.0, 1.0, 1.0, 1.0, 1.0, 6.272612697331659, -0.41943771557400883, -1.6613485839388482))</td></tr><tr><td>59</td><td>List(0, 92, List(1, 2, 5, 7, 42, 45, 62, 74, 77, 80, 85, 88, 89, 90, 91), List(-0.31281489102543164, -0.6121975039814702, 1.0, 1.0, 1.0, 1.0, 1.0, 1.0, 1.0, 1.0, 1.0, 1.0, -0.23685624780129297, -0.41943771557400883, -0.256936345541834))</td></tr><tr><td>122</td><td>List(0, 92, List(1, 2, 6, 12, 65, 76, 79, 82, 83, 86, 89, 90, 91), List(-2.3875961802326096, -3.0838843817201305, 1.0, 1.0, 1.0, 1.0, 1.0, 1.0, 1.0, 1.0, -0.23685624780129297, -0.41943771557400883, -0.256936345541834))</td></tr><tr><td>129</td><td>List(0, 92, List(1, 2, 74, 77, 80, 83, 86, 89, 90, 91), List(-1.2163486782608155, 0.6236459348878599, 1.0, 1.0, 1.0, 1.0, 1.0, -0.23685624780129297, 1.1969939895417918, 2.315212563527023))</td></tr><tr><td>372</td><td>List(0, 92, List(1, 2, 35, 53, 76, 79, 82, 85, 89, 90, 91), List(-0.0451011762890213, 0.6236459348878599, 1.0, 1.0, 1.0, 1.0, 1.0, 1.0, -0.23685624780129297, -0.41943771557400883, -0.256936345541834))</td></tr><tr><td>335</td><td>List(0, 92, List(1, 2, 48, 73, 85, 88, 89, 90, 91), List(1.9627516842340544, -0.6121975039814702, 1.0, 1.0, 1.0, 1.0, -0.23685624780129297, -0.41943771557400883, -0.256936345541834))</td></tr><tr><td>310</td><td>List(0, 92, List(1, 2, 39, 64, 76, 83, 86, 89, 90, 91), List(0.5572546818679016, 0.005724215453194856, 1.0, 1.0, 1.0, 1.0, 1.0, -0.23685624780129297, -0.41943771557400883, -0.256936345541834))</td></tr><tr><td>313</td><td>List(0, 92, List(1, 2, 41, 44, 76, 79, 82, 85, 89, 90, 91), List(-0.05179401915743141, 0.005724215453194856, 1.0, 1.0, 1.0, 1.0, 1.0, 1.0, -0.23685624780129297, -0.41943771557400883, -0.256936345541834))</td></tr><tr><td>393</td><td>List(0, 92, List(1, 2, 4, 5, 7, 37, 44, 76, 85, 89, 90, 91), List(-0.7210783059984567, -1.8480409428508004, 1.0, 1.0, 1.0, 1.0, 1.0, 1.0, 1.0, -0.23685624780129297, -0.41943771557400883, -0.256936345541834))</td></tr><tr><td>15</td><td>List(0, 92, List(1, 2, 3, 4, 5, 6, 35, 49, 63, 74, 77, 80, 88, 89, 90, 91), List(0.2828481242630812, 0.6236459348878599, 1.0, 1.0, 1.0, 1.0, 1.0, 1.0, 1.0, 1.0, 1.0, 1.0, 1.0, -0.23685624780129297, 2.688627658600858, 1.84021498934468))</td></tr><tr><td>81</td><td>List(0, 92, List(1, 2, 5, 7, 20, 21, 45, 76, 79, 88, 89, 90, 91), List(-0.7210783059984567, -1.8480409428508004, 1.0, 1.0, 1.0, 1.0, 1.0, 1.0, 1.0, 1.0, -0.23685624780129297, 2.26669144145666, 1.8447426958576836))</td></tr><tr><td>165</td><td>List(0, 92, List(1, 2, 3, 4, 5, 6, 48, 61, 88, 89, 90, 91), List(-0.5470643914197902, -0.6121975039814702, 1.0, 1.0, 1.0, 1.0, 1.0, 1.0, 1.0, -0.23685624780129297, -0.41943771557400883, -0.256936345541834))</td></tr><tr><td>223</td><td>List(0, 92, List(1, 2, 76, 79, 82, 89, 90, 91), List(-1.3903625928394818, -1.2301192234161353, 1.0, 1.0, 1.0, 1.4799267706953094, 0.5967748637451159, 0.16578679889947123))</td></tr><tr><td>315</td><td>List(0, 92, List(1, 2, 35, 49, 74, 77, 80, 84, 89, 90, 91), List(-0.14549381931517533, 0.6236459348878599, 1.0, 1.0, 1.0, 1.0, 1.0, 1.0, -0.23685624780129297, -0.41943771557400883, -0.256936345541834))</td></tr><tr><td>180</td><td>List(0, 92, List(1, 2, 3, 4, 6, 35, 76, 79, 82, 85, 88, 89, 90, 91), List(-1.3903625928394818, 0.6236459348878599, 1.0, 1.0, 1.0, 1.0, 1.0, 1.0, 1.0, 1.0, 1.0, -0.23685624780129297, -0.41943771557400883, -0.256936345541834))</td></tr><tr><td>195</td><td>List(0, 92, List(1, 2, 3, 4, 9, 11, 18, 32, 40, 46, 60, 76, 85, 89, 90, 91), List(0.7915041822622603, -0.6121975039814702, 1.0, 1.0, 1.0, 1.0, 1.0, 1.0, 1.0, 1.0, 1.0, 1.0, 1.0, -0.23685624780129297, -0.41943771557400883, -0.256936345541834))</td></tr><tr><td>38</td><td>List(0, 92, List(1, 2, 3, 5, 6, 35, 74, 77, 80, 85, 89, 90, 91), List(0.5170976246574398, 0.6236459348878599, 1.0, 1.0, 1.0, 1.0, 1.0, 1.0, 1.0, 1.0, -0.23685624780129297, -0.41943771557400883, -0.256936345541834))</td></tr><tr><td>82</td><td>List(0, 92, List(1, 2, 3, 4, 5, 6, 35, 63, 76, 79, 82, 83, 86, 89, 90, 91), List(0.2828481242630812, 0.005724215453194856, 1.0, 1.0, 1.0, 1.0, 1.0, 1.0, 1.0, 1.0, 1.0, 1.0, 1.0, -0.23685624780129297, -0.41943771557400883, -0.256936345541834))</td></tr><tr><td>350</td><td>List(0, 92, List(1, 2, 3, 6, 35, 53, 79, 85, 89, 90, 91), List(-0.0451011762890213, 0.005724215453194856, 1.0, 1.0, 1.0, 1.0, 1.0, 1.0, -0.23685624780129297, -0.41943771557400883, -0.256936345541834))</td></tr><tr><td>97</td><td>List(0, 92, List(1, 2, 6, 28, 30, 45, 62, 79, 85, 88, 89, 90, 91), List(-0.5470643914197902, 0.005724215453194856, 1.0, 1.0, 1.0, 1.0, 1.0, 1.0, 1.0, 1.0, -0.23685624780129297, -0.41943771557400883, -0.256936345541834))</td></tr><tr><td>133</td><td>List(0, 92, List(1, 2, 40, 57, 68, 74, 77, 80, 85, 88, 89, 90, 91), List(-0.0451011762890213, -1.2301192234161353, 1.0, 1.0, 1.0, 1.0, 1.0, 1.0, 1.0, 1.0, -0.23685624780129297, -0.41943771557400883, -0.256936345541834))</td></tr><tr><td>351</td><td>List(0, 92, List(1, 2, 47, 76, 79, 82, 85, 89, 90, 91), List(-0.05179401915743141, 0.6236459348878599, 1.0, 1.0, 1.0, 1.0, 1.0, 5.15193489359082, -0.41943771557400883, -2.354499290111349))</td></tr><tr><td>30</td><td>List(0, 92, List(1, 2, 3, 4, 5, 36, 45, 62, 74, 77, 80, 85, 88, 89, 90, 91), List(-0.31281489102543164, 0.005724215453194856, 1.0, 1.0, 1.0, 1.0, 1.0, 1.0, 1.0, 1.0, 1.0, 1.0, 1.0, -0.23685624780129297, -0.41943771557400883, -0.256936345541834))</td></tr><tr><td>42</td><td>List(0, 92, List(0, 1, 2, 3, 6, 35, 50, 72, 74, 77, 80, 89, 90, 91), List(1.0, -0.05179401915743141, 0.6236459348878599, 1.0, 1.0, 1.0, 1.0, 1.0, 1.0, 1.0, 1.0, -0.23685624780129297, -0.41943771557400883, -0.256936345541834))</td></tr><tr><td>73</td><td>List(0, 92, List(1, 2, 3, 6, 35, 50, 76, 79, 82, 85, 88, 89, 90, 91), List(-0.7478496774720977, 0.005724215453194856, 1.0, 1.0, 1.0, 1.0, 1.0, 1.0, 1.0, 1.0, 1.0, -0.23685624780129297, 1.4406472980335117, 1.7710645626006303))</td></tr><tr><td>151</td><td>List(0, 92, List(1, 2, 4, 7, 11, 12, 41, 76, 79, 82, 85, 89, 90, 91), List(-0.14549381931517533, 0.6236459348878599, 1.0, 1.0, 1.0, 1.0, 1.0, 1.0, 1.0, 1.0, 1.0, -0.23685624780129297, -0.41943771557400883, -0.256936345541834))</td></tr><tr><td>401</td><td>List(0, 92, List(1, 2, 43, 51, 76, 85, 89, 90, 91), List(1.6281095408135418, -0.6121975039814702, 1.0, 1.0, 1.0, 1.0, 9.038540893798407, -0.41943771557400883, -2.489095656452446))</td></tr><tr><td>90</td><td>List(0, 92, List(1, 2, 3, 6, 35, 58, 65, 76, 85, 88, 89, 90, 91), List(-0.0451011762890213, 0.005724215453194856, 1.0, 1.0, 1.0, 1.0, 1.0, 1.0, 1.0, 1.0, -0.23685624780129297, -0.41943771557400883, -0.256936345541834))</td></tr><tr><td>159</td><td>List(0, 92, List(1, 2, 3, 4, 5, 6, 38, 48, 61, 79, 88, 89, 90, 91), List(-0.5470643914197902, -0.6121975039814702, 1.0, 1.0, 1.0, 1.0, 1.0, 1.0, 1.0, 1.0, 1.0, -0.23685624780129297, -0.41943771557400883, -0.256936345541834))</td></tr><tr><td>256</td><td>List(0, 92, List(1, 2, 3, 6, 35, 44, 76, 79, 82, 85, 89, 90, 91), List(-0.05179401915743141, 0.005724215453194856, 1.0, 1.0, 1.0, 1.0, 1.0, 1.0, 1.0, 1.0, -0.23685624780129297, 4.108948164198933, 1.776003878796634))</td></tr><tr><td>312</td><td>List(0, 92, List(1, 2, 44, 76, 79, 82, 85, 89, 90, 91), List(-0.7210783059984567, 1.241567654322525, 1.0, 1.0, 1.0, 1.0, 1.0, -0.23685624780129297, -0.41943771557400883, -0.256936345541834))</td></tr><tr><td>338</td><td>List(0, 92, List(1, 2, 35, 50, 74, 77, 80, 85, 89, 90, 91), List(-0.5470643914197902, -0.6121975039814702, 1.0, 1.0, 1.0, 1.0, 1.0, 1.0, -0.23685624780129297, -0.41943771557400883, -0.256936345541834))</td></tr><tr><td>297</td><td>List(0, 92, List(1, 2, 76, 79, 82, 85, 89, 90, 91), List(-1.0557204494189694, -0.6121975039814702, 1.0, 1.0, 1.0, 1.0, -0.23685624780129297, -0.41943771557400883, -0.256936345541834))</td></tr><tr><td>23</td><td>List(0, 92, List(1, 2, 3, 4, 5, 6, 35, 49, 63, 74, 77, 80, 88, 89, 90, 91), List(0.2828481242630812, -1.2301192234161353, 1.0, 1.0, 1.0, 1.0, 1.0, 1.0, 1.0, 1.0, 1.0, 1.0, 1.0, -0.23685624780129297, -0.41943771557400883, -0.256936345541834))</td></tr><tr><td>117</td><td>List(0, 92, List(1, 2, 4, 5, 7, 37, 76, 79, 82, 85, 89, 90, 91), List(-1.1159560352346614, -0.6121975039814702, 1.0, 1.0, 1.0, 1.0, 1.0, 1.0, 1.0, 1.0, -0.23685624780129297, -0.41943771557400883, -0.256936345541834))</td></tr><tr><td>291</td><td>List(0, 92, List(1, 2, 3, 5, 6, 9, 13, 14, 53, 76, 85, 89, 90, 91), List(0.12221989542123501, 0.6236459348878599, 1.0, 1.0, 1.0, 1.0, 1.0, 1.0, 1.0, 1.0, 1.0, -0.23685624780129297, -0.41943771557400883, -0.256936345541834))</td></tr><tr><td>121</td><td>List(0, 92, List(1, 2, 4, 9, 13, 18, 65, 76, 83, 86, 89, 90, 91), List(1.2600031830509775, 0.005724215453194856, 1.0, 1.0, 1.0, 1.0, 1.0, 1.0, 1.0, 1.0, -0.23685624780129297, -0.41943771557400883, -0.256936345541834))</td></tr><tr><td>46</td><td>List(0, 92, List(1, 2, 3, 4, 5, 36, 47, 66, 74, 77, 80, 85, 89, 90, 91), List(-0.3797433197095339, 0.005724215453194856, 1.0, 1.0, 1.0, 1.0, 1.0, 1.0, 1.0, 1.0, 1.0, 1.0, -0.23685624780129297, -0.41943771557400883, -0.256936345541834))</td></tr><tr><td>217</td><td>List(0, 92, List(1, 2, 6, 8, 11, 18, 46, 60, 74, 77, 80, 85, 89, 90, 91), List(0.2895409671314913, 1.85948937375719, 1.0, 1.0, 1.0, 1.0, 1.0, 1.0, 1.0, 1.0, 1.0, 1.0, -0.23685624780129297, -0.41943771557400883, -0.256936345541834))</td></tr><tr><td>284</td><td>List(0, 92, List(1, 2, 56, 70, 76, 79, 82, 85, 89, 90, 91), List(0.5572546818679016, 0.6236459348878599, 1.0, 1.0, 1.0, 1.0, 1.0, 1.0, -0.23685624780129297, -0.41943771557400883, -0.256936345541834))</td></tr><tr><td>358</td><td>List(0, 92, List(1, 2, 36, 76, 79, 82, 85, 88, 89, 90, 91), List(-1.008870549340098, -1.2301192234161353, 1.0, 1.0, 1.0, 1.0, 1.0, 1.0, -0.23685624780129297, -0.41943771557400883, -0.256936345541834))</td></tr><tr><td>409</td><td>List(0, 92, List(1, 2, 42, 45, 71, 79, 85, 89, 90, 91), List(0.21591969557897833, 0.6236459348878599, 1.0, 1.0, 1.0, 1.0, 1.0, -0.23685624780129297, -0.41943771557400883, -0.256936345541834))</td></tr><tr><td>20</td><td>List(0, 92, List(1, 2, 3, 4, 35, 49, 74, 77, 80, 84, 89, 90, 91), List(-0.4466717483936362, -1.2301192234161353, 1.0, 1.0, 1.0, 1.0, 1.0, 1.0, 1.0, 1.0, -0.23685624780129297, -0.41943771557400883, -0.256936345541834))</td></tr><tr><td>70</td><td>List(0, 92, List(1, 2, 3, 6, 48, 61, 74, 77, 80, 88, 89, 90, 91), List(-0.5470643914197902, -1.8480409428508004, 1.0, 1.0, 1.0, 1.0, 1.0, 1.0, 1.0, 1.0, -0.23685624780129297, -0.41943771557400883, -0.256936345541834))</td></tr><tr><td>300</td><td>List(0, 92, List(1, 2, 47, 79, 82, 88, 89, 90, 91), List(-0.05179401915743141, 0.2528929032270611, 1.0, 1.0, 1.0, 1.0, -0.23685624780129297, 2.450917113730887, 2.082241482948855))</td></tr><tr><td>99</td><td>List(0, 92, List(1, 2, 10, 13, 14, 20, 21, 45, 62, 85, 88, 89, 90, 91), List(-0.7143854631300466, -1.8480409428508004, 1.0, 1.0, 1.0, 1.0, 1.0, 1.0, 1.0, 1.0, 1.0, -0.23685624780129297, -0.41943771557400883, -0.256936345541834))</td></tr><tr><td>231</td><td>List(0, 92, List(1, 2, 41, 49, 63, 74, 77, 80, 88, 89, 90, 91), List(-0.05179401915743141, 0.6236459348878599, 1.0, 1.0, 1.0, 1.0, 1.0, 1.0, 1.0, -0.23685624780129297, -0.41943771557400883, -0.256936345541834))</td></tr><tr><td>387</td><td>List(0, 92, List(1, 2, 6, 12, 24, 28, 74, 77, 80, 89, 90, 91), List(-1.925790022312302, -0.6121975039814702, 1.0, 1.0, 1.0, 1.0, 1.0, 1.0, 1.0, 1.6349141265318083, -0.00938702567330934, -2.489095656452446))</td></tr><tr><td>86</td><td>List(0, 92, List(1, 2, 3, 4, 5, 6, 35, 63, 76, 83, 86, 89, 90, 91), List(0.2828481242630812, -3.0838843817201305, 1.0, 1.0, 1.0, 1.0, 1.0, 1.0, 1.0, 1.0, 1.0, -0.23685624780129297, -0.41943771557400883, -0.256936345541834))</td></tr><tr><td>109</td><td>List(0, 92, List(1, 2, 3, 4, 5, 13, 49, 74, 77, 80, 85, 89, 90, 91), List(0.6241831105520039, 0.6236459348878599, 1.0, 1.0, 1.0, 1.0, 1.0, 1.0, 1.0, 1.0, 1.0, 0.5142363227909706, -0.41943771557400883, -1.039406352925399))</td></tr><tr><td>354</td><td>List(0, 92, List(1, 2, 35, 50, 76, 79, 82, 85, 88, 89, 90, 91), List(0.550561838999491, 0.6236459348878599, 1.0, 1.0, 1.0, 1.0, 1.0, 1.0, 1.0, -0.23685624780129297, -0.41943771557400883, -0.256936345541834))</td></tr><tr><td>60</td><td>List(0, 92, List(1, 2, 3, 6, 18, 35, 45, 62, 74, 77, 80, 85, 88, 89, 90, 91), List(-0.31281489102543164, -0.6121975039814702, 1.0, 1.0, 1.0, 1.0, 1.0, 1.0, 1.0, 1.0, 1.0, 1.0, 1.0, -0.23685624780129297, -0.41943771557400883, -0.256936345541834))</td></tr><tr><td>189</td><td>List(0, 92, List(1, 2, 54, 76, 79, 82, 85, 89, 90, 91), List(-0.5470643914197902, 0.005724215453194856, 1.0, 1.0, 1.0, 1.0, 1.0, -0.23685624780129297, 2.0765230055606834, 1.555792698391475))</td></tr><tr><td>311</td><td>List(0, 92, List(1, 2, 39, 64, 76, 83, 86, 89, 90, 91), List(0.5572546818679016, -1.8480409428508004, 1.0, 1.0, 1.0, 1.0, 1.0, -0.23685624780129297, -0.41943771557400883, -0.256936345541834))</td></tr><tr><td>93</td><td>List(0, 92, List(1, 2, 3, 4, 6, 45, 62, 76, 85, 88, 89, 90, 91), List(-0.2793506766833799, 0.6236459348878599, 1.0, 1.0, 1.0, 1.0, 1.0, 1.0, 1.0, 1.0, 7.429056813957843, -0.41943771557400883, -2.9723254242947945))</td></tr><tr><td>40</td><td>List(0, 92, List(1, 2, 7, 20, 21, 23, 41, 63, 74, 77, 80, 83, 86, 89, 90, 91), List(-0.05179401915743141, 0.6236459348878599, 1.0, 1.0, 1.0, 1.0, 1.0, 1.0, 1.0, 1.0, 1.0, 1.0, 1.0, -0.23685624780129297, -0.41943771557400883, -0.256936345541834))</td></tr><tr><td>204</td><td>List(0, 92, List(1, 2, 3, 4, 6, 9, 18, 32, 43, 46, 60, 76, 85, 89, 90, 91), List(0.7915041822622603, -0.6121975039814702, 1.0, 1.0, 1.0, 1.0, 1.0, 1.0, 1.0, 1.0, 1.0, 1.0, 1.0, -0.23685624780129297, -0.41943771557400883, -0.256936345541834))</td></tr><tr><td>251</td><td>List(0, 92, List(1, 2, 3, 4, 5, 6, 35, 79, 82, 89, 90, 91), List(-0.5470643914197902, 0.6236459348878599, 1.0, 1.0, 1.0, 1.0, 1.0, 1.0, 1.0, -0.23685624780129297, -0.41943771557400883, -0.256936345541834))</td></tr><tr><td>259</td><td>List(0, 92, List(1, 2, 35, 45, 76, 79, 82, 85, 88, 89, 90, 91), List(-1.0490276065505593, -0.6121975039814702, 1.0, 1.0, 1.0, 1.0, 1.0, 1.0, 1.0, -0.23685624780129297, -0.41943771557400883, -0.256936345541834))</td></tr><tr><td>366</td><td>List(0, 92, List(1, 2, 39, 52, 79, 82, 89, 90, 91), List(0.9588252539725166, 0.6236459348878599, 1.0, 1.0, 1.0, 1.0, -0.23685624780129297, -0.41943771557400883, -0.256936345541834))</td></tr><tr><td>282</td><td>List(0, 92, List(1, 2, 3, 4, 5, 6, 9, 18, 56, 76, 89, 90, 91), List(2.297393827654567, -0.6121975039814702, 1.0, 1.0, 1.0, 1.0, 1.0, 1.0, 1.0, 1.0, 0.9911204945955824, 0.5135761730406262, 0.8601723341209725))</td></tr><tr><td>285</td><td>List(0, 92, List(1, 2, 35, 56, 70, 76, 79, 82, 85, 89, 90, 91), List(0.5572546818679016, 0.6236459348878599, 1.0, 1.0, 1.0, 1.0, 1.0, 1.0, 1.0, -0.23685624780129297, -0.41943771557400883, -0.256936345541834))</td></tr><tr><td>147</td><td>List(0, 92, List(1, 2, 3, 4, 5, 6, 35, 54, 76, 79, 82, 85, 89, 90, 91), List(-0.915170749182354, 0.005724215453194856, 1.0, 1.0, 1.0, 1.0, 1.0, 1.0, 1.0, 1.0, 1.0, 1.0, -0.23685624780129297, -0.41943771557400883, -0.256936345541834))</td></tr><tr><td>183</td><td>List(0, 92, List(1, 2, 4, 5, 7, 42, 52, 79, 82, 85, 89, 90, 91), List(-1.3903625928394818, 0.005724215453194856, 1.0, 1.0, 1.0, 1.0, 1.0, 1.0, 1.0, 1.0, -0.23685624780129297, -0.41943771557400883, -0.256936345541834))</td></tr><tr><td>240</td><td>List(0, 92, List(1, 2, 4, 5, 7, 37, 44, 76, 79, 82, 85, 89, 90, 91), List(-0.7210783059984567, -1.2301192234161353, 1.0, 1.0, 1.0, 1.0, 1.0, 1.0, 1.0, 1.0, 1.0, -0.23685624780129297, 3.2353619118017907, 1.7710645626006303))</td></tr><tr><td>263</td><td>List(0, 92, List(1, 2, 4, 5, 7, 37, 44, 76, 79, 82, 85, 89, 90, 91), List(-0.7478496774720977, -0.6121975039814702, 1.0, 1.0, 1.0, 1.0, 1.0, 1.0, 1.0, 1.0, 1.0, -0.23685624780129297, -0.41943771557400883, -0.256936345541834))</td></tr><tr><td>396</td><td>List(0, 92, List(1, 2, 7, 12, 19, 44, 76, 79, 82, 85, 89, 90, 91), List(-0.7210783059984567, 0.005724215453194856, 1.0, 1.0, 1.0, 1.0, 1.0, 1.0, 1.0, 1.0, -0.23685624780129297, -0.41943771557400883, -0.256936345541834))</td></tr><tr><td>16</td><td>List(0, 92, List(1, 2, 3, 4, 5, 9, 17, 40, 49, 63, 74, 77, 80, 88, 89, 90, 91), List(0.9521324111041064, -1.2301192234161353, 1.0, 1.0, 1.0, 1.0, 1.0, 1.0, 1.0, 1.0, 1.0, 1.0, 1.0, 1.0, -0.23685624780129297, -0.41943771557400883, -0.256936345541834))</td></tr><tr><td>64</td><td>List(0, 92, List(1, 2, 3, 4, 5, 36, 63, 74, 77, 80, 83, 86, 89, 90, 91), List(0.550561838999491, 0.005724215453194856, 1.0, 1.0, 1.0, 1.0, 1.0, 1.0, 1.0, 1.0, 1.0, 1.0, -0.23685624780129297, -0.41943771557400883, -0.256936345541834))</td></tr><tr><td>281</td><td>List(0, 92, List(1, 2, 57, 68, 76, 79, 82, 85, 88, 89, 90, 91), List(-0.5470643914197902, 0.6236459348878599, 1.0, 1.0, 1.0, 1.0, 1.0, 1.0, 1.0, -0.23685624780129297, -0.41943771557400883, -0.256936345541834))</td></tr><tr><td>336</td><td>List(0, 92, List(1, 2, 48, 73, 85, 88, 89, 90, 91), List(1.9627516842340544, 0.8708146226617262, 1.0, 1.0, 1.0, 1.0, -0.23685624780129297, -0.41943771557400883, -0.256936345541834))</td></tr><tr><td>91</td><td>List(0, 92, List(1, 2, 3, 5, 6, 22, 58, 65, 76, 79, 82, 85, 88, 89, 90, 91), List(1.1261463256827728, -0.6121975039814702, 1.0, 1.0, 1.0, 1.0, 1.0, 1.0, 1.0, 1.0, 1.0, 1.0, 1.0, -0.23685624780129297, -0.41943771557400883, -0.256936345541834))</td></tr><tr><td>152</td><td>List(0, 92, List(1, 2, 3, 4, 11, 12, 36, 76, 77, 80, 85, 89, 90, 91), List(-0.14549381931517533, 0.6236459348878599, 1.0, 1.0, 1.0, 1.0, 1.0, 1.0, 1.0, 1.0, 1.0, -0.23685624780129297, -0.41943771557400883, -0.256936345541834))</td></tr><tr><td>267</td><td>List(0, 92, List(1, 2, 6, 12, 44, 74, 77, 80, 85, 89, 90, 91), List(0.0017487237898506558, -0.6121975039814702, 1.0, 1.0, 1.0, 1.0, 1.0, 1.0, 1.0, -0.23685624780129297, -0.41943771557400883, -0.256936345541834))</td></tr><tr><td>317</td><td>List(0, 92, List(1, 2, 35, 47, 76, 85, 89, 90, 91), List(0.08206283821077376, 1.241567654322525, 1.0, 1.0, 1.0, 1.0, -0.23685624780129297, -0.41943771557400883, -0.256936345541834))</td></tr><tr><td>357</td><td>List(0, 92, List(1, 2, 35, 66, 76, 83, 86, 89, 90, 91), List(0.4903262531837988, -1.2301192234161353, 1.0, 1.0, 1.0, 1.0, 1.0, -0.23685624780129297, -0.41943771557400883, -0.256936345541834))</td></tr><tr><td>416</td><td>List(0, 92, List(1, 2, 41, 69, 76, 79, 82, 83, 86, 89, 90, 91), List(-0.7143854631300466, -0.6121975039814702, 1.0, 1.0, 1.0, 1.0, 1.0, 1.0, 1.0, -0.23685624780129297, -0.41943771557400883, -0.256936345541834))</td></tr><tr><td>261</td><td>List(0, 92, List(1, 2, 38, 48, 61, 88, 89, 90, 91), List(-0.07856539063107244, 0.6236459348878599, 1.0, 1.0, 1.0, 1.0, -0.23685624780129297, -0.41943771557400883, -0.256936345541834))</td></tr><tr><td>398</td><td>List(0, 92, List(1, 2, 37, 44, 76, 79, 82, 85, 89, 90, 91), List(-0.7210783059984567, -0.6121975039814702, 1.0, 1.0, 1.0, 1.0, 1.0, 1.0, -0.23685624780129297, 1.9041828605299547, 2.1826742456009276))</td></tr><tr><td>45</td><td>List(0, 92, List(1, 2, 3, 6, 15, 19, 29, 30, 47, 66, 74, 77, 80, 85, 89, 90, 91), List(-0.07856539063107244, 0.6236459348878599, 1.0, 1.0, 1.0, 1.0, 1.0, 1.0, 1.0, 1.0, 1.0, 1.0, 1.0, 1.0, -0.23685624780129297, -0.41943771557400883, -0.256936345541834))</td></tr><tr><td>47</td><td>List(0, 92, List(1, 2, 3, 4, 5, 6, 8, 47, 66, 74, 77, 80, 85, 89, 90, 91), List(-0.07856539063107244, 1.241567654322525, 1.0, 1.0, 1.0, 1.0, 1.0, 1.0, 1.0, 1.0, 1.0, 1.0, 1.0, -0.23685624780129297, -0.41943771557400883, -0.256936345541834))</td></tr><tr><td>53</td><td>List(0, 92, List(1, 2, 3, 4, 5, 6, 55, 74, 77, 80, 88, 89, 90, 91), List(1.9560588413656443, -0.6121975039814702, 1.0, 1.0, 1.0, 1.0, 1.0, 1.0, 1.0, 1.0, 1.0, -0.23685624780129297, 3.0986783485015574, 1.555792698391475))</td></tr><tr><td>148</td><td>List(0, 92, List(1, 2, 3, 4, 5, 36, 54, 76, 79, 82, 85, 89, 90, 91), List(-1.2163486782608155, 0.6236459348878599, 1.0, 1.0, 1.0, 1.0, 1.0, 1.0, 1.0, 1.0, 1.0, -0.23685624780129297, -0.41943771557400883, -0.256936345541834))</td></tr><tr><td>394</td><td>List(0, 92, List(1, 2, 3, 4, 5, 6, 35, 88, 89, 90, 91), List(1.286774554524619, 0.6236459348878599, 1.0, 1.0, 1.0, 1.0, 1.0, 1.0, -0.23685624780129297, -0.41943771557400883, -0.256936345541834))</td></tr><tr><td>169</td><td>List(0, 92, List(1, 2, 3, 4, 5, 6, 38, 48, 61, 79, 88, 89, 90, 91), List(-0.5470643914197902, 0.6236459348878599, 1.0, 1.0, 1.0, 1.0, 1.0, 1.0, 1.0, 1.0, 1.0, -0.23685624780129297, -0.41943771557400883, -0.256936345541834))</td></tr><tr><td>273</td><td>List(0, 92, List(1, 2, 55, 79, 85, 89, 90, 91), List(-0.4533645912620469, 0.9326067946051925, 1.0, 1.0, 1.0, -0.23685624780129297, -0.41943771557400883, -0.256936345541834))</td></tr><tr><td>24</td><td>List(0, 92, List(1, 2, 3, 4, 5, 6, 35, 49, 63, 74, 77, 80, 88, 89, 90, 91), List(0.2828481242630812, -1.2301192234161353, 1.0, 1.0, 1.0, 1.0, 1.0, 1.0, 1.0, 1.0, 1.0, 1.0, 1.0, -0.23685624780129297, -0.41943771557400883, -0.256936345541834))</td></tr><tr><td>340</td><td>List(0, 92, List(1, 2, 3, 4, 6, 35, 49, 76, 85, 88, 89, 90, 91), List(0.45686203884174764, -1.2301192234161353, 1.0, 1.0, 1.0, 1.0, 1.0, 1.0, 1.0, 1.0, -0.23685624780129297, -0.41943771557400883, -0.256936345541834))</td></tr><tr><td>211</td><td>List(0, 92, List(1, 2, 3, 4, 6, 46, 60, 76, 82, 85, 89, 90, 91), List(0.2895409671314913, 1.85948937375719, 1.0, 1.0, 1.0, 1.0, 1.0, 1.0, 1.0, 1.0, -0.23685624780129297, -0.41943771557400883, -0.256936345541834))</td></tr></tbody></table></div>"
      ]
     },
     "metadata": {},
     "output_type": "display_data"
    }
   ],
   "source": [
    "#Let's select only features:\n",
    "features = df.drop('id', 'good_grade').columns\n",
    "\n",
    "assembler = VectorAssembler(\n",
    "    inputCols= features,\n",
    "    outputCol='features')\n",
    "\n",
    "df = assembler.transform(df)\n",
    "display(df.select('id', 'features'))"
   ]
  },
  {
   "cell_type": "markdown",
   "metadata": {},
   "source": [
    "The `features` column has the form: [0, number of columns, [columns containing non null values], [values of those columns]]"
   ]
  },
  {
   "cell_type": "markdown",
   "metadata": {},
   "source": [
    "#### 5.1.2 Chi-Squared feature selection"
   ]
  },
  {
   "cell_type": "markdown",
   "metadata": {},
   "source": [
    "Let's keep about 50% of the features we have at our disposal. For this we can set the percentile option within the ChiSqSelector method instead of the numTopfeatures option."
   ]
  },
  {
   "cell_type": "code",
   "execution_count": 196,
   "metadata": {},
   "outputs": [
    {
     "data": {
      "text/html": [
       "<style scoped>\n",
       "  .table-result-container {\n",
       "    max-height: 300px;\n",
       "    overflow: auto;\n",
       "  }\n",
       "  table, th, td {\n",
       "    border: 1px solid black;\n",
       "    border-collapse: collapse;\n",
       "  }\n",
       "  th, td {\n",
       "    padding: 5px;\n",
       "  }\n",
       "  th {\n",
       "    text-align: left;\n",
       "  }\n",
       "</style><div class='table-result-container'><table class='table-result'><thead style='background-color: white'><tr><th>id</th><th>features</th><th>selectedFeatures</th><th>good_grade</th></tr></thead><tbody><tr><td>26</td><td>List(0, 92, List(1, 2, 3, 4, 5, 6, 12, 36, 51, 74, 77, 80, 88, 89, 90, 91), List(-0.0451011762890213, 0.005724215453194856, 1.0, 1.0, 1.0, 1.0, 1.0, 1.0, 1.0, 1.0, 1.0, 1.0, 1.0, -0.23685624780129297, 3.847466564841965, 2.315212563527023))</td><td>List(0, 46, List(0, 1, 2, 7, 45), List(-0.0451011762890213, 1.0, 1.0, 1.0, 1.0))</td><td>0</td></tr><tr><td>29</td><td>List(0, 92, List(1, 2, 3, 11, 12, 18, 25, 46, 74, 77, 80, 85, 89, 90, 91), List(-0.38643616257794405, 1.241567654322525, 1.0, 1.0, 1.0, 1.0, 1.0, 1.0, 1.0, 1.0, 1.0, 1.0, -0.23685624780129297, 1.4584755888987595, 0.6255548148108032))</td><td>List(0, 46, List(0, 1, 6, 7, 12, 23, 42), List(-0.38643616257794405, 1.0, 1.0, 1.0, 1.0, 1.0, 1.0))</td><td>0</td></tr><tr><td>65</td><td>List(0, 92, List(1, 2, 3, 4, 5, 36, 63, 74, 77, 80, 83, 86, 89, 90, 91), List(0.550561838999491, -1.8480409428508004, 1.0, 1.0, 1.0, 1.0, 1.0, 1.0, 1.0, 1.0, 1.0, 1.0, 1.5395372921708859, -0.41943771557400883, -1.209812761687522))</td><td>List(0, 46, List(0, 1, 2, 32, 41, 43), List(0.550561838999491, 1.0, 1.0, 1.0, 1.0, 1.0))</td><td>0</td></tr><tr><td>191</td><td>List(0, 92, List(0, 1, 2, 3, 6, 35, 54, 76, 79, 82, 85, 89, 90, 91), List(1.0, -0.7210783059984567, 0.6236459348878599, 1.0, 1.0, 1.0, 1.0, 1.0, 1.0, 1.0, 1.0, -0.23685624780129297, -0.41943771557400883, -0.256936345541834))</td><td>List(0, 46, List(0, 1, 18, 27, 40, 42), List(-0.7210783059984567, 1.0, 1.0, 1.0, 1.0, 1.0))</td><td>0</td></tr><tr><td>418</td><td>List(0, 92, List(1, 2, 41, 69, 76, 79, 82, 83, 86, 89, 90, 91), List(-0.7143854631300466, -3.0838843817201305, 1.0, 1.0, 1.0, 1.0, 1.0, 1.0, 1.0, -0.23685624780129297, -0.41943771557400883, -0.256936345541834))</td><td>List(0, 46, List(0, 36, 40, 41, 43), List(-0.7143854631300466, 1.0, 1.0, 1.0, 1.0))</td><td>0</td></tr></tbody></table></div>"
      ]
     },
     "metadata": {},
     "output_type": "display_data"
    }
   ],
   "source": [
    "selector = ChiSqSelector(selectorType = \"percentile\", percentile = 0.5, featuresCol=\"features\",\n",
    "                         outputCol=\"selectedFeatures\", labelCol=\"good_grade\")\n",
    "\n",
    "df = selector.fit(df).transform(df)\n",
    "display(df.select('id', 'features', 'selectedFeatures', 'good_grade').limit(5))"
   ]
  },
  {
   "cell_type": "markdown",
   "metadata": {},
   "source": [
    "Again, we can see Spark has its own way of treating sparse matrices, it does not store the zeros within the `features` and `selectedFeatures` columns."
   ]
  },
  {
   "cell_type": "code",
   "execution_count": 198,
   "metadata": {},
   "outputs": [
    {
     "data": {
      "text/html": [
       "<style scoped>\n",
       "  .ansiout {\n",
       "    display: block;\n",
       "    unicode-bidi: embed;\n",
       "    white-space: pre-wrap;\n",
       "    word-wrap: break-word;\n",
       "    word-break: break-all;\n",
       "    font-family: \"Source Code Pro\", \"Menlo\", monospace;;\n",
       "    font-size: 13px;\n",
       "    color: #555;\n",
       "    margin-left: 4px;\n",
       "    line-height: 19px;\n",
       "  }\n",
       "</style>\n",
       "<div class=\"ansiout\"><span class=\"ansi-red-fg\">---------------------------------------------------------------------------</span>\n",
       "<span class=\"ansi-red-fg\">Py4JJavaError</span>                             Traceback (most recent call last)\n",
       "<span class=\"ansi-green-fg\">/databricks/spark/python/pyspark/sql/utils.py</span> in <span class=\"ansi-cyan-fg\">deco</span><span class=\"ansi-blue-fg\">(*a, **kw)</span>\n",
       "<span class=\"ansi-green-intense-fg ansi-bold\">     62</span>         <span class=\"ansi-green-fg\">try</span><span class=\"ansi-blue-fg\">:</span>\n",
       "<span class=\"ansi-green-fg\">---&gt; 63</span><span class=\"ansi-red-fg\">             </span><span class=\"ansi-green-fg\">return</span> f<span class=\"ansi-blue-fg\">(</span><span class=\"ansi-blue-fg\">*</span>a<span class=\"ansi-blue-fg\">,</span> <span class=\"ansi-blue-fg\">**</span>kw<span class=\"ansi-blue-fg\">)</span>\n",
       "<span class=\"ansi-green-intense-fg ansi-bold\">     64</span>         <span class=\"ansi-green-fg\">except</span> py4j<span class=\"ansi-blue-fg\">.</span>protocol<span class=\"ansi-blue-fg\">.</span>Py4JJavaError <span class=\"ansi-green-fg\">as</span> e<span class=\"ansi-blue-fg\">:</span>\n",
       "\n",
       "<span class=\"ansi-green-fg\">/databricks/spark/python/lib/py4j-0.10.7-src.zip/py4j/protocol.py</span> in <span class=\"ansi-cyan-fg\">get_return_value</span><span class=\"ansi-blue-fg\">(answer, gateway_client, target_id, name)</span>\n",
       "<span class=\"ansi-green-intense-fg ansi-bold\">    327</span>                     <span class=\"ansi-blue-fg\">&#34;An error occurred while calling {0}{1}{2}.\\n&#34;</span><span class=\"ansi-blue-fg\">.</span>\n",
       "<span class=\"ansi-green-fg\">--&gt; 328</span><span class=\"ansi-red-fg\">                     format(target_id, &#34;.&#34;, name), value)\n",
       "</span><span class=\"ansi-green-intense-fg ansi-bold\">    329</span>             <span class=\"ansi-green-fg\">else</span><span class=\"ansi-blue-fg\">:</span>\n",
       "\n",
       "<span class=\"ansi-red-fg\">Py4JJavaError</span>: An error occurred while calling o4383.select.\n",
       ": org.apache.spark.sql.AnalysisException: cannot resolve &#39;`features`&#39; given input columns: [Pico, circum_50, Bacon, los_tacos, california_everything, volume_50, pos, Chips, volume_na, california_burritos, cancun_mexican_&amp;_seafood, Cheese, yelp_na, carmel_valley, downtown, carlsbad, carne_asada, pacific_beach, google_na, label, Pineapple, Sauce, taco_stand, length_25, Chicken, Ham, Lettuce, yelp_50, vallarta_express, Taquito, Egg, miramar, encinitas, Sushi, google_25, linda_vista, university_heights, Onion, Pork, Bell peper, al_pastor, north_park, Hunger, Salsa49, surfin_california, utc, valentines_mexican_food, Shrimp, lupe_s_taco_shop, valentine_s_mexican_food, volume_25, clairemont, Mushroom, Chile relleno, Lobster, california, circum_25, Carrots, surf_and_turf, Beef, carnitas, san_marcos, los_primos_mexican_food, local, rigoberto_s_taco_shop, compound, Guac, Avocado, Fish, lucha_libre_north_park, oceanside, id, Cabbage, el_zarape, lolita_s_taco_shop, hillcrest, google_50, neg, Corn, adobada, Rice, length_50, yelp_25, la_jolla, length_na, Beans, kearny_mesa, circum_na, Zucchini, Nopales, Tomato, Cilantro, Cost, tony_s_fresh_mexican_food];;\n",
       "&#39;Project [&#39;features, label#17197]\n",
       "+- Project [id#15860, Chips#15861, Cost#15862, Hunger#15863, Beef#15864, Pico#15865, Guac#15866, Cheese#15867, Pork#15868, Chicken#15869, Shrimp#15870, Fish#15871, Rice#15872, Beans#15873, Lettuce#15874, Tomato#15875, Bell peper#15876, Carrots#15877, Cabbage#15878, Sauce#15879, Salsa49#15880, Cilantro#15881, Onion#15882, Taquito#15883, ... 70 more fields]\n",
       "   +- Project [id#15860, Chips#15861, Cost#15862, Hunger#15863, Beef#15864, Pico#15865, Guac#15866, Cheese#15867, Pork#15868, Chicken#15869, Shrimp#15870, Fish#15871, Rice#15872, Beans#15873, Lettuce#15874, Tomato#15875, Bell peper#15876, Carrots#15877, Cabbage#15878, Sauce#15879, Salsa49#15880, Cilantro#15881, Onion#15882, Taquito#15883, ... 70 more fields]\n",
       "      +- Project [id#15860, Chips#15861, Cost#15862, Hunger#15863, Beef#15864, Pico#15865, Guac#15866, Cheese#15867, Pork#15868, Chicken#15869, Shrimp#15870, Fish#15871, Rice#15872, Beans#15873, Lettuce#15874, Tomato#15875, Bell peper#15876, Carrots#15877, Cabbage#15878, Sauce#15879, Salsa49#15880, Cilantro#15881, Onion#15882, Taquito#15883, ... 72 more fields]\n",
       "         +- Project [id#15860, Chips#15861, Cost#15862, Hunger#15863, Beef#15864, Pico#15865, Guac#15866, Cheese#15867, Pork#15868, Chicken#15869, Shrimp#15870, Fish#15871, Rice#15872, Beans#15873, Lettuce#15874, Tomato#15875, Bell peper#15876, Carrots#15877, Cabbage#15878, Sauce#15879, Salsa49#15880, Cilantro#15881, Onion#15882, Taquito#15883, ... 71 more fields]\n",
       "            +- Relation[id#15860,Chips#15861,Cost#15862,Hunger#15863,Beef#15864,Pico#15865,Guac#15866,Cheese#15867,Pork#15868,Chicken#15869,Shrimp#15870,Fish#15871,Rice#15872,Beans#15873,Lettuce#15874,Tomato#15875,Bell peper#15876,Carrots#15877,Cabbage#15878,Sauce#15879,Salsa49#15880,Cilantro#15881,Onion#15882,Taquito#15883,... 70 more fields] csv\n",
       "\n",
       "\tat org.apache.spark.sql.catalyst.analysis.package$AnalysisErrorAt.failAnalysis(package.scala:42)\n",
       "\tat org.apache.spark.sql.catalyst.analysis.CheckAnalysis$$anonfun$checkAnalysis$1$$anonfun$apply$3.applyOrElse(CheckAnalysis.scala:120)\n",
       "\tat org.apache.spark.sql.catalyst.analysis.CheckAnalysis$$anonfun$checkAnalysis$1$$anonfun$apply$3.applyOrElse(CheckAnalysis.scala:111)\n",
       "\tat org.apache.spark.sql.catalyst.trees.TreeNode$$anonfun$6.apply(TreeNode.scala:303)\n",
       "\tat org.apache.spark.sql.catalyst.trees.TreeNode$$anonfun$6.apply(TreeNode.scala:303)\n",
       "\tat org.apache.spark.sql.catalyst.trees.CurrentOrigin$.withOrigin(TreeNode.scala:76)\n",
       "\tat org.apache.spark.sql.catalyst.trees.TreeNode.transformUp(TreeNode.scala:302)\n",
       "\tat org.apache.spark.sql.catalyst.plans.QueryPlan$$anonfun$transformExpressionsUp$1.apply(QueryPlan.scala:94)\n",
       "\tat org.apache.spark.sql.catalyst.plans.QueryPlan$$anonfun$transformExpressionsUp$1.apply(QueryPlan.scala:94)\n",
       "\tat org.apache.spark.sql.catalyst.plans.QueryPlan$$anonfun$3.apply(QueryPlan.scala:106)\n",
       "\tat org.apache.spark.sql.catalyst.plans.QueryPlan$$anonfun$3.apply(QueryPlan.scala:106)\n",
       "\tat org.apache.spark.sql.catalyst.trees.CurrentOrigin$.withOrigin(TreeNode.scala:76)\n",
       "\tat org.apache.spark.sql.catalyst.plans.QueryPlan.transformExpression$1(QueryPlan.scala:105)\n",
       "\tat org.apache.spark.sql.catalyst.plans.QueryPlan.org$apache$spark$sql$catalyst$plans$QueryPlan$$recursiveTransform$1(QueryPlan.scala:117)\n",
       "\tat org.apache.spark.sql.catalyst.plans.QueryPlan$$anonfun$org$apache$spark$sql$catalyst$plans$QueryPlan$$recursiveTransform$1$2.apply(QueryPlan.scala:122)\n",
       "\tat scala.collection.TraversableLike$$anonfun$map$1.apply(TraversableLike.scala:234)\n",
       "\tat scala.collection.TraversableLike$$anonfun$map$1.apply(TraversableLike.scala:234)\n",
       "\tat scala.collection.mutable.ResizableArray$class.foreach(ResizableArray.scala:59)\n",
       "\tat scala.collection.mutable.ArrayBuffer.foreach(ArrayBuffer.scala:48)\n",
       "\tat scala.collection.TraversableLike$class.map(TraversableLike.scala:234)\n",
       "\tat scala.collection.AbstractTraversable.map(Traversable.scala:104)\n",
       "\tat org.apache.spark.sql.catalyst.plans.QueryPlan.org$apache$spark$sql$catalyst$plans$QueryPlan$$recursiveTransform$1(QueryPlan.scala:122)\n",
       "\tat org.apache.spark.sql.catalyst.plans.QueryPlan$$anonfun$4.apply(QueryPlan.scala:127)\n",
       "\tat org.apache.spark.sql.catalyst.trees.TreeNode.mapProductIterator(TreeNode.scala:207)\n",
       "\tat org.apache.spark.sql.catalyst.plans.QueryPlan.mapExpressions(QueryPlan.scala:127)\n",
       "\tat org.apache.spark.sql.catalyst.plans.QueryPlan.transformExpressionsUp(QueryPlan.scala:94)\n",
       "\tat org.apache.spark.sql.catalyst.analysis.CheckAnalysis$$anonfun$checkAnalysis$1.apply(CheckAnalysis.scala:111)\n",
       "\tat org.apache.spark.sql.catalyst.analysis.CheckAnalysis$$anonfun$checkAnalysis$1.apply(CheckAnalysis.scala:89)\n",
       "\tat org.apache.spark.sql.catalyst.trees.TreeNode.foreachUp(TreeNode.scala:147)\n",
       "\tat org.apache.spark.sql.catalyst.analysis.CheckAnalysis$class.checkAnalysis(CheckAnalysis.scala:89)\n",
       "\tat org.apache.spark.sql.catalyst.analysis.Analyzer.checkAnalysis(Analyzer.scala:103)\n",
       "\tat org.apache.spark.sql.catalyst.analysis.Analyzer$$anonfun$executeAndCheck$1.apply(Analyzer.scala:117)\n",
       "\tat org.apache.spark.sql.catalyst.analysis.Analyzer$$anonfun$executeAndCheck$1.apply(Analyzer.scala:114)\n",
       "\tat org.apache.spark.sql.catalyst.plans.logical.AnalysisHelper$.markInAnalyzer(AnalysisHelper.scala:201)\n",
       "\tat org.apache.spark.sql.catalyst.analysis.Analyzer.executeAndCheck(Analyzer.scala:114)\n",
       "\tat org.apache.spark.sql.execution.QueryExecution$$anonfun$analyzed$1.apply(QueryExecution.scala:86)\n",
       "\tat org.apache.spark.sql.execution.QueryExecution$$anonfun$analyzed$1.apply(QueryExecution.scala:83)\n",
       "\tat org.apache.spark.sql.catalyst.QueryPlanningTracker.measurePhase(QueryPlanningTracker.scala:111)\n",
       "\tat org.apache.spark.sql.execution.QueryExecution.analyzed$lzycompute(QueryExecution.scala:83)\n",
       "\tat org.apache.spark.sql.execution.QueryExecution.analyzed(QueryExecution.scala:83)\n",
       "\tat org.apache.spark.sql.execution.QueryExecution.assertAnalyzed(QueryExecution.scala:75)\n",
       "\tat org.apache.spark.sql.Dataset$.ofRows(Dataset.scala:81)\n",
       "\tat org.apache.spark.sql.Dataset.org$apache$spark$sql$Dataset$$withPlan(Dataset.scala:3534)\n",
       "\tat org.apache.spark.sql.Dataset.select(Dataset.scala:1362)\n",
       "\tat sun.reflect.GeneratedMethodAccessor538.invoke(Unknown Source)\n",
       "\tat sun.reflect.DelegatingMethodAccessorImpl.invoke(DelegatingMethodAccessorImpl.java:43)\n",
       "\tat java.lang.reflect.Method.invoke(Method.java:498)\n",
       "\tat py4j.reflection.MethodInvoker.invoke(MethodInvoker.java:244)\n",
       "\tat py4j.reflection.ReflectionEngine.invoke(ReflectionEngine.java:380)\n",
       "\tat py4j.Gateway.invoke(Gateway.java:295)\n",
       "\tat py4j.commands.AbstractCommand.invokeMethod(AbstractCommand.java:132)\n",
       "\tat py4j.commands.CallCommand.execute(CallCommand.java:79)\n",
       "\tat py4j.GatewayConnection.run(GatewayConnection.java:251)\n",
       "\tat java.lang.Thread.run(Thread.java:748)\n",
       "\n",
       "\n",
       "During handling of the above exception, another exception occurred:\n",
       "\n",
       "<span class=\"ansi-red-fg\">AnalysisException</span>                         Traceback (most recent call last)\n",
       "<span class=\"ansi-green-fg\">&lt;command-2427207629766038&gt;</span> in <span class=\"ansi-cyan-fg\">&lt;module&gt;</span>\n",
       "<span class=\"ansi-green-intense-fg ansi-bold\">      2</span>        <span class=\"ansi-blue-fg\">.</span>withColumnRenamed<span class=\"ansi-blue-fg\">(</span><span class=\"ansi-blue-fg\">&#39;scaledFeatures&#39;</span><span class=\"ansi-blue-fg\">,</span> <span class=\"ansi-blue-fg\">&#39;features&#39;</span><span class=\"ansi-blue-fg\">)</span><span class=\"ansi-red-fg\">\\</span>\n",
       "<span class=\"ansi-green-intense-fg ansi-bold\">      3</span>        <span class=\"ansi-blue-fg\">.</span>withColumnRenamed<span class=\"ansi-blue-fg\">(</span><span class=\"ansi-blue-fg\">&#39;good_grade&#39;</span><span class=\"ansi-blue-fg\">,</span> <span class=\"ansi-blue-fg\">&#39;label&#39;</span><span class=\"ansi-blue-fg\">)</span><span class=\"ansi-red-fg\">\\</span>\n",
       "<span class=\"ansi-green-fg\">----&gt; 4</span><span class=\"ansi-red-fg\">        </span><span class=\"ansi-blue-fg\">.</span>select<span class=\"ansi-blue-fg\">(</span><span class=\"ansi-blue-fg\">&#39;features&#39;</span><span class=\"ansi-blue-fg\">,</span> <span class=\"ansi-blue-fg\">&#39;label&#39;</span><span class=\"ansi-blue-fg\">)</span>\n",
       "\n",
       "<span class=\"ansi-green-fg\">/databricks/spark/python/pyspark/sql/dataframe.py</span> in <span class=\"ansi-cyan-fg\">select</span><span class=\"ansi-blue-fg\">(self, *cols)</span>\n",
       "<span class=\"ansi-green-intense-fg ansi-bold\">   1350</span>         <span class=\"ansi-blue-fg\">[</span>Row<span class=\"ansi-blue-fg\">(</span>name<span class=\"ansi-blue-fg\">=</span><span class=\"ansi-blue-fg\">u&#39;Alice&#39;</span><span class=\"ansi-blue-fg\">,</span> age<span class=\"ansi-blue-fg\">=</span><span class=\"ansi-cyan-fg\">12</span><span class=\"ansi-blue-fg\">)</span><span class=\"ansi-blue-fg\">,</span> Row<span class=\"ansi-blue-fg\">(</span>name<span class=\"ansi-blue-fg\">=</span><span class=\"ansi-blue-fg\">u&#39;Bob&#39;</span><span class=\"ansi-blue-fg\">,</span> age<span class=\"ansi-blue-fg\">=</span><span class=\"ansi-cyan-fg\">15</span><span class=\"ansi-blue-fg\">)</span><span class=\"ansi-blue-fg\">]</span>\n",
       "<span class=\"ansi-green-intense-fg ansi-bold\">   1351</span>         &#34;&#34;&#34;\n",
       "<span class=\"ansi-green-fg\">-&gt; 1352</span><span class=\"ansi-red-fg\">         </span>jdf <span class=\"ansi-blue-fg\">=</span> self<span class=\"ansi-blue-fg\">.</span>_jdf<span class=\"ansi-blue-fg\">.</span>select<span class=\"ansi-blue-fg\">(</span>self<span class=\"ansi-blue-fg\">.</span>_jcols<span class=\"ansi-blue-fg\">(</span><span class=\"ansi-blue-fg\">*</span>cols<span class=\"ansi-blue-fg\">)</span><span class=\"ansi-blue-fg\">)</span>\n",
       "<span class=\"ansi-green-intense-fg ansi-bold\">   1353</span>         <span class=\"ansi-green-fg\">return</span> DataFrame<span class=\"ansi-blue-fg\">(</span>jdf<span class=\"ansi-blue-fg\">,</span> self<span class=\"ansi-blue-fg\">.</span>sql_ctx<span class=\"ansi-blue-fg\">)</span>\n",
       "<span class=\"ansi-green-intense-fg ansi-bold\">   1354</span> \n",
       "\n",
       "<span class=\"ansi-green-fg\">/databricks/spark/python/lib/py4j-0.10.7-src.zip/py4j/java_gateway.py</span> in <span class=\"ansi-cyan-fg\">__call__</span><span class=\"ansi-blue-fg\">(self, *args)</span>\n",
       "<span class=\"ansi-green-intense-fg ansi-bold\">   1255</span>         answer <span class=\"ansi-blue-fg\">=</span> self<span class=\"ansi-blue-fg\">.</span>gateway_client<span class=\"ansi-blue-fg\">.</span>send_command<span class=\"ansi-blue-fg\">(</span>command<span class=\"ansi-blue-fg\">)</span>\n",
       "<span class=\"ansi-green-intense-fg ansi-bold\">   1256</span>         return_value = get_return_value(\n",
       "<span class=\"ansi-green-fg\">-&gt; 1257</span><span class=\"ansi-red-fg\">             answer, self.gateway_client, self.target_id, self.name)\n",
       "</span><span class=\"ansi-green-intense-fg ansi-bold\">   1258</span> \n",
       "<span class=\"ansi-green-intense-fg ansi-bold\">   1259</span>         <span class=\"ansi-green-fg\">for</span> temp_arg <span class=\"ansi-green-fg\">in</span> temp_args<span class=\"ansi-blue-fg\">:</span>\n",
       "\n",
       "<span class=\"ansi-green-fg\">/databricks/spark/python/pyspark/sql/utils.py</span> in <span class=\"ansi-cyan-fg\">deco</span><span class=\"ansi-blue-fg\">(*a, **kw)</span>\n",
       "<span class=\"ansi-green-intense-fg ansi-bold\">     67</span>                                              e.java_exception.getStackTrace()))\n",
       "<span class=\"ansi-green-intense-fg ansi-bold\">     68</span>             <span class=\"ansi-green-fg\">if</span> s<span class=\"ansi-blue-fg\">.</span>startswith<span class=\"ansi-blue-fg\">(</span><span class=\"ansi-blue-fg\">&#39;org.apache.spark.sql.AnalysisException: &#39;</span><span class=\"ansi-blue-fg\">)</span><span class=\"ansi-blue-fg\">:</span>\n",
       "<span class=\"ansi-green-fg\">---&gt; 69</span><span class=\"ansi-red-fg\">                 </span><span class=\"ansi-green-fg\">raise</span> AnalysisException<span class=\"ansi-blue-fg\">(</span>s<span class=\"ansi-blue-fg\">.</span>split<span class=\"ansi-blue-fg\">(</span><span class=\"ansi-blue-fg\">&#39;: &#39;</span><span class=\"ansi-blue-fg\">,</span> <span class=\"ansi-cyan-fg\">1</span><span class=\"ansi-blue-fg\">)</span><span class=\"ansi-blue-fg\">[</span><span class=\"ansi-cyan-fg\">1</span><span class=\"ansi-blue-fg\">]</span><span class=\"ansi-blue-fg\">,</span> stackTrace<span class=\"ansi-blue-fg\">)</span>\n",
       "<span class=\"ansi-green-intense-fg ansi-bold\">     70</span>             <span class=\"ansi-green-fg\">if</span> s<span class=\"ansi-blue-fg\">.</span>startswith<span class=\"ansi-blue-fg\">(</span><span class=\"ansi-blue-fg\">&#39;org.apache.spark.sql.catalyst.analysis&#39;</span><span class=\"ansi-blue-fg\">)</span><span class=\"ansi-blue-fg\">:</span>\n",
       "<span class=\"ansi-green-intense-fg ansi-bold\">     71</span>                 <span class=\"ansi-green-fg\">raise</span> AnalysisException<span class=\"ansi-blue-fg\">(</span>s<span class=\"ansi-blue-fg\">.</span>split<span class=\"ansi-blue-fg\">(</span><span class=\"ansi-blue-fg\">&#39;: &#39;</span><span class=\"ansi-blue-fg\">,</span> <span class=\"ansi-cyan-fg\">1</span><span class=\"ansi-blue-fg\">)</span><span class=\"ansi-blue-fg\">[</span><span class=\"ansi-cyan-fg\">1</span><span class=\"ansi-blue-fg\">]</span><span class=\"ansi-blue-fg\">,</span> stackTrace<span class=\"ansi-blue-fg\">)</span>\n",
       "\n",
       "<span class=\"ansi-red-fg\">AnalysisException</span>: &#34;cannot resolve &#39;`features`&#39; given input columns: [Pico, circum_50, Bacon, los_tacos, california_everything, volume_50, pos, Chips, volume_na, california_burritos, cancun_mexican_&amp;_seafood, Cheese, yelp_na, carmel_valley, downtown, carlsbad, carne_asada, pacific_beach, google_na, label, Pineapple, Sauce, taco_stand, length_25, Chicken, Ham, Lettuce, yelp_50, vallarta_express, Taquito, Egg, miramar, encinitas, Sushi, google_25, linda_vista, university_heights, Onion, Pork, Bell peper, al_pastor, north_park, Hunger, Salsa49, surfin_california, utc, valentines_mexican_food, Shrimp, lupe_s_taco_shop, valentine_s_mexican_food, volume_25, clairemont, Mushroom, Chile relleno, Lobster, california, circum_25, Carrots, surf_and_turf, Beef, carnitas, san_marcos, los_primos_mexican_food, local, rigoberto_s_taco_shop, compound, Guac, Avocado, Fish, lucha_libre_north_park, oceanside, id, Cabbage, el_zarape, lolita_s_taco_shop, hillcrest, google_50, neg, Corn, adobada, Rice, length_50, yelp_25, la_jolla, length_na, Beans, kearny_mesa, circum_na, Zucchini, Nopales, Tomato, Cilantro, Cost, tony_s_fresh_mexican_food];;\\n&#39;Project [&#39;features, label#17197]\\n+- Project [id#15860, Chips#15861, Cost#15862, Hunger#15863, Beef#15864, Pico#15865, Guac#15866, Cheese#15867, Pork#15868, Chicken#15869, Shrimp#15870, Fish#15871, Rice#15872, Beans#15873, Lettuce#15874, Tomato#15875, Bell peper#15876, Carrots#15877, Cabbage#15878, Sauce#15879, Salsa49#15880, Cilantro#15881, Onion#15882, Taquito#15883, ... 70 more fields]\\n   +- Project [id#15860, Chips#15861, Cost#15862, Hunger#15863, Beef#15864, Pico#15865, Guac#15866, Cheese#15867, Pork#15868, Chicken#15869, Shrimp#15870, Fish#15871, Rice#15872, Beans#15873, Lettuce#15874, Tomato#15875, Bell peper#15876, Carrots#15877, Cabbage#15878, Sauce#15879, Salsa49#15880, Cilantro#15881, Onion#15882, Taquito#15883, ... 70 more fields]\\n      +- Project [id#15860, Chips#15861, Cost#15862, Hunger#15863, Beef#15864, Pico#15865, Guac#15866, Cheese#15867, Pork#15868, Chicken#15869, Shrimp#15870, Fish#15871, Rice#15872, Beans#15873, Lettuce#15874, Tomato#15875, Bell peper#15876, Carrots#15877, Cabbage#15878, Sauce#15879, Salsa49#15880, Cilantro#15881, Onion#15882, Taquito#15883, ... 72 more fields]\\n         +- Project [id#15860, Chips#15861, Cost#15862, Hunger#15863, Beef#15864, Pico#15865, Guac#15866, Cheese#15867, Pork#15868, Chicken#15869, Shrimp#15870, Fish#15871, Rice#15872, Beans#15873, Lettuce#15874, Tomato#15875, Bell peper#15876, Carrots#15877, Cabbage#15878, Sauce#15879, Salsa49#15880, Cilantro#15881, Onion#15882, Taquito#15883, ... 71 more fields]\\n            +- Relation[id#15860,Chips#15861,Cost#15862,Hunger#15863,Beef#15864,Pico#15865,Guac#15866,Cheese#15867,Pork#15868,Chicken#15869,Shrimp#15870,Fish#15871,Rice#15872,Beans#15873,Lettuce#15874,Tomato#15875,Bell peper#15876,Carrots#15877,Cabbage#15878,Sauce#15879,Salsa49#15880,Cilantro#15881,Onion#15882,Taquito#15883,... 70 more fields] csv\\n&#34;</div>"
      ]
     },
     "metadata": {},
     "output_type": "display_data"
    }
   ],
   "source": [
    "df = df.drop('features', 'selectedFeatures')\\\n",
    "       .withColumnRenamed('scaledFeatures', 'features')\\\n",
    "       .withColumnRenamed('good_grade', 'label')\\\n",
    "       .select('features', 'label')"
   ]
  },
  {
   "cell_type": "markdown",
   "metadata": {},
   "source": [
    "Let's keep only columns we are interested in from now on: `id`, `scaledFeatures`, `good_grade`:"
   ]
  },
  {
   "cell_type": "code",
   "execution_count": 200,
   "metadata": {},
   "outputs": [
    {
     "data": {
      "text/html": [
       "<style scoped>\n",
       "  .ansiout {\n",
       "    display: block;\n",
       "    unicode-bidi: embed;\n",
       "    white-space: pre-wrap;\n",
       "    word-wrap: break-word;\n",
       "    word-break: break-all;\n",
       "    font-family: \"Source Code Pro\", \"Menlo\", monospace;;\n",
       "    font-size: 13px;\n",
       "    color: #555;\n",
       "    margin-left: 4px;\n",
       "    line-height: 19px;\n",
       "  }\n",
       "</style>\n",
       "<div class=\"ansiout\"><span class=\"ansi-red-fg\">---------------------------------------------------------------------------</span>\n",
       "<span class=\"ansi-red-fg\">Py4JJavaError</span>                             Traceback (most recent call last)\n",
       "<span class=\"ansi-green-fg\">/databricks/spark/python/pyspark/sql/utils.py</span> in <span class=\"ansi-cyan-fg\">deco</span><span class=\"ansi-blue-fg\">(*a, **kw)</span>\n",
       "<span class=\"ansi-green-intense-fg ansi-bold\">     62</span>         <span class=\"ansi-green-fg\">try</span><span class=\"ansi-blue-fg\">:</span>\n",
       "<span class=\"ansi-green-fg\">---&gt; 63</span><span class=\"ansi-red-fg\">             </span><span class=\"ansi-green-fg\">return</span> f<span class=\"ansi-blue-fg\">(</span><span class=\"ansi-blue-fg\">*</span>a<span class=\"ansi-blue-fg\">,</span> <span class=\"ansi-blue-fg\">**</span>kw<span class=\"ansi-blue-fg\">)</span>\n",
       "<span class=\"ansi-green-intense-fg ansi-bold\">     64</span>         <span class=\"ansi-green-fg\">except</span> py4j<span class=\"ansi-blue-fg\">.</span>protocol<span class=\"ansi-blue-fg\">.</span>Py4JJavaError <span class=\"ansi-green-fg\">as</span> e<span class=\"ansi-blue-fg\">:</span>\n",
       "\n",
       "<span class=\"ansi-green-fg\">/databricks/spark/python/lib/py4j-0.10.7-src.zip/py4j/protocol.py</span> in <span class=\"ansi-cyan-fg\">get_return_value</span><span class=\"ansi-blue-fg\">(answer, gateway_client, target_id, name)</span>\n",
       "<span class=\"ansi-green-intense-fg ansi-bold\">    327</span>                     <span class=\"ansi-blue-fg\">&#34;An error occurred while calling {0}{1}{2}.\\n&#34;</span><span class=\"ansi-blue-fg\">.</span>\n",
       "<span class=\"ansi-green-fg\">--&gt; 328</span><span class=\"ansi-red-fg\">                     format(target_id, &#34;.&#34;, name), value)\n",
       "</span><span class=\"ansi-green-intense-fg ansi-bold\">    329</span>             <span class=\"ansi-green-fg\">else</span><span class=\"ansi-blue-fg\">:</span>\n",
       "\n",
       "<span class=\"ansi-red-fg\">Py4JJavaError</span>: An error occurred while calling o1014.select.\n",
       ": org.apache.spark.sql.AnalysisException: cannot resolve &#39;`label`&#39; given input columns: [Lettuce, Carrots, vallarta_express, google_25, carnitas, Corn, yelp_50, Shrimp, google_na, circum_25, oceanside, miramar, google_50, length_25, Pineapple, california_everything, carmel_valley, good_grade, Rice, surf_and_turf, valentine_s_mexican_food, downtown, pos, Chile relleno, volume_25, utc, Fish, lolita_s_taco_shop, Onion, Taquito, volume_na, Pork, Bacon, selectedFeatures, carlsbad, local, san_marcos, pacific_beach, surfin_california, carne_asada, los_primos_mexican_food, features, Sushi, id, lucha_libre_north_park, california_burritos, Cabbage, Hunger, Chips, circum_na, university_heights, Zucchini, circum_50, north_park, length_50, hillcrest, los_tacos, al_pastor, Avocado, lupe_s_taco_shop, Nopales, Chicken, Lobster, Beef, Cilantro, Sauce, Mushroom, volume_50, valentines_mexican_food, tony_s_fresh_mexican_food, kearny_mesa, clairemont, neg, la_jolla, Tomato, Salsa49, Cost, Bell peper, encinitas, compound, rigoberto_s_taco_shop, Pico, el_zarape, yelp_25, linda_vista, california, length_na, cancun_mexican_&amp;_seafood, yelp_na, Egg, adobada, Ham, Guac, Beans, taco_stand, Cheese];;\n",
       "&#39;Project [features#2456, &#39;label]\n",
       "+- Project [id#1048, Chips#1049, Cost#1050, Hunger#1051, Beef#1052, Pico#1053, Guac#1054, Cheese#1055, Pork#1056, Chicken#1057, Shrimp#1058, Fish#1059, Rice#1060, Beans#1061, Lettuce#1062, Tomato#1063, Bell peper#1064, Carrots#1065, Cabbage#1066, Sauce#1067, Salsa49#1068, Cilantro#1069, Onion#1070, Taquito#1071, ... 72 more fields]\n",
       "   +- Project [id#1048, Chips#1049, Cost#1050, Hunger#1051, Beef#1052, Pico#1053, Guac#1054, Cheese#1055, Pork#1056, Chicken#1057, Shrimp#1058, Fish#1059, Rice#1060, Beans#1061, Lettuce#1062, Tomato#1063, Bell peper#1064, Carrots#1065, Cabbage#1066, Sauce#1067, Salsa49#1068, Cilantro#1069, Onion#1070, Taquito#1071, ... 71 more fields]\n",
       "      +- Relation[id#1048,Chips#1049,Cost#1050,Hunger#1051,Beef#1052,Pico#1053,Guac#1054,Cheese#1055,Pork#1056,Chicken#1057,Shrimp#1058,Fish#1059,Rice#1060,Beans#1061,Lettuce#1062,Tomato#1063,Bell peper#1064,Carrots#1065,Cabbage#1066,Sauce#1067,Salsa49#1068,Cilantro#1069,Onion#1070,Taquito#1071,... 70 more fields] csv\n",
       "\n",
       "\tat org.apache.spark.sql.catalyst.analysis.package$AnalysisErrorAt.failAnalysis(package.scala:42)\n",
       "\tat org.apache.spark.sql.catalyst.analysis.CheckAnalysis$$anonfun$checkAnalysis$1$$anonfun$apply$3.applyOrElse(CheckAnalysis.scala:120)\n",
       "\tat org.apache.spark.sql.catalyst.analysis.CheckAnalysis$$anonfun$checkAnalysis$1$$anonfun$apply$3.applyOrElse(CheckAnalysis.scala:111)\n",
       "\tat org.apache.spark.sql.catalyst.trees.TreeNode$$anonfun$6.apply(TreeNode.scala:303)\n",
       "\tat org.apache.spark.sql.catalyst.trees.TreeNode$$anonfun$6.apply(TreeNode.scala:303)\n",
       "\tat org.apache.spark.sql.catalyst.trees.CurrentOrigin$.withOrigin(TreeNode.scala:76)\n",
       "\tat org.apache.spark.sql.catalyst.trees.TreeNode.transformUp(TreeNode.scala:302)\n",
       "\tat org.apache.spark.sql.catalyst.plans.QueryPlan$$anonfun$transformExpressionsUp$1.apply(QueryPlan.scala:94)\n",
       "\tat org.apache.spark.sql.catalyst.plans.QueryPlan$$anonfun$transformExpressionsUp$1.apply(QueryPlan.scala:94)\n",
       "\tat org.apache.spark.sql.catalyst.plans.QueryPlan$$anonfun$3.apply(QueryPlan.scala:106)\n",
       "\tat org.apache.spark.sql.catalyst.plans.QueryPlan$$anonfun$3.apply(QueryPlan.scala:106)\n",
       "\tat org.apache.spark.sql.catalyst.trees.CurrentOrigin$.withOrigin(TreeNode.scala:76)\n",
       "\tat org.apache.spark.sql.catalyst.plans.QueryPlan.transformExpression$1(QueryPlan.scala:105)\n",
       "\tat org.apache.spark.sql.catalyst.plans.QueryPlan.org$apache$spark$sql$catalyst$plans$QueryPlan$$recursiveTransform$1(QueryPlan.scala:117)\n",
       "\tat org.apache.spark.sql.catalyst.plans.QueryPlan$$anonfun$org$apache$spark$sql$catalyst$plans$QueryPlan$$recursiveTransform$1$2.apply(QueryPlan.scala:122)\n",
       "\tat scala.collection.TraversableLike$$anonfun$map$1.apply(TraversableLike.scala:234)\n",
       "\tat scala.collection.TraversableLike$$anonfun$map$1.apply(TraversableLike.scala:234)\n",
       "\tat scala.collection.mutable.ResizableArray$class.foreach(ResizableArray.scala:59)\n",
       "\tat scala.collection.mutable.ArrayBuffer.foreach(ArrayBuffer.scala:48)\n",
       "\tat scala.collection.TraversableLike$class.map(TraversableLike.scala:234)\n",
       "\tat scala.collection.AbstractTraversable.map(Traversable.scala:104)\n",
       "\tat org.apache.spark.sql.catalyst.plans.QueryPlan.org$apache$spark$sql$catalyst$plans$QueryPlan$$recursiveTransform$1(QueryPlan.scala:122)\n",
       "\tat org.apache.spark.sql.catalyst.plans.QueryPlan$$anonfun$4.apply(QueryPlan.scala:127)\n",
       "\tat org.apache.spark.sql.catalyst.trees.TreeNode.mapProductIterator(TreeNode.scala:207)\n",
       "\tat org.apache.spark.sql.catalyst.plans.QueryPlan.mapExpressions(QueryPlan.scala:127)\n",
       "\tat org.apache.spark.sql.catalyst.plans.QueryPlan.transformExpressionsUp(QueryPlan.scala:94)\n",
       "\tat org.apache.spark.sql.catalyst.analysis.CheckAnalysis$$anonfun$checkAnalysis$1.apply(CheckAnalysis.scala:111)\n",
       "\tat org.apache.spark.sql.catalyst.analysis.CheckAnalysis$$anonfun$checkAnalysis$1.apply(CheckAnalysis.scala:89)\n",
       "\tat org.apache.spark.sql.catalyst.trees.TreeNode.foreachUp(TreeNode.scala:147)\n",
       "\tat org.apache.spark.sql.catalyst.analysis.CheckAnalysis$class.checkAnalysis(CheckAnalysis.scala:89)\n",
       "\tat org.apache.spark.sql.catalyst.analysis.Analyzer.checkAnalysis(Analyzer.scala:103)\n",
       "\tat org.apache.spark.sql.catalyst.analysis.Analyzer$$anonfun$executeAndCheck$1.apply(Analyzer.scala:117)\n",
       "\tat org.apache.spark.sql.catalyst.analysis.Analyzer$$anonfun$executeAndCheck$1.apply(Analyzer.scala:114)\n",
       "\tat org.apache.spark.sql.catalyst.plans.logical.AnalysisHelper$.markInAnalyzer(AnalysisHelper.scala:201)\n",
       "\tat org.apache.spark.sql.catalyst.analysis.Analyzer.executeAndCheck(Analyzer.scala:114)\n",
       "\tat org.apache.spark.sql.execution.QueryExecution$$anonfun$analyzed$1.apply(QueryExecution.scala:86)\n",
       "\tat org.apache.spark.sql.execution.QueryExecution$$anonfun$analyzed$1.apply(QueryExecution.scala:83)\n",
       "\tat org.apache.spark.sql.catalyst.QueryPlanningTracker.measurePhase(QueryPlanningTracker.scala:111)\n",
       "\tat org.apache.spark.sql.execution.QueryExecution.analyzed$lzycompute(QueryExecution.scala:83)\n",
       "\tat org.apache.spark.sql.execution.QueryExecution.analyzed(QueryExecution.scala:83)\n",
       "\tat org.apache.spark.sql.execution.QueryExecution.assertAnalyzed(QueryExecution.scala:75)\n",
       "\tat org.apache.spark.sql.Dataset$.ofRows(Dataset.scala:81)\n",
       "\tat org.apache.spark.sql.Dataset.org$apache$spark$sql$Dataset$$withPlan(Dataset.scala:3534)\n",
       "\tat org.apache.spark.sql.Dataset.select(Dataset.scala:1362)\n",
       "\tat sun.reflect.NativeMethodAccessorImpl.invoke0(Native Method)\n",
       "\tat sun.reflect.NativeMethodAccessorImpl.invoke(NativeMethodAccessorImpl.java:62)\n",
       "\tat sun.reflect.DelegatingMethodAccessorImpl.invoke(DelegatingMethodAccessorImpl.java:43)\n",
       "\tat java.lang.reflect.Method.invoke(Method.java:498)\n",
       "\tat py4j.reflection.MethodInvoker.invoke(MethodInvoker.java:244)\n",
       "\tat py4j.reflection.ReflectionEngine.invoke(ReflectionEngine.java:380)\n",
       "\tat py4j.Gateway.invoke(Gateway.java:295)\n",
       "\tat py4j.commands.AbstractCommand.invokeMethod(AbstractCommand.java:132)\n",
       "\tat py4j.commands.CallCommand.execute(CallCommand.java:79)\n",
       "\tat py4j.GatewayConnection.run(GatewayConnection.java:251)\n",
       "\tat java.lang.Thread.run(Thread.java:748)\n",
       "\n",
       "\n",
       "During handling of the above exception, another exception occurred:\n",
       "\n",
       "<span class=\"ansi-red-fg\">AnalysisException</span>                         Traceback (most recent call last)\n",
       "<span class=\"ansi-green-fg\">&lt;command-2427207629766040&gt;</span> in <span class=\"ansi-cyan-fg\">&lt;module&gt;</span>\n",
       "<span class=\"ansi-green-fg\">----&gt; 1</span><span class=\"ansi-red-fg\"> </span>df <span class=\"ansi-blue-fg\">=</span> df<span class=\"ansi-blue-fg\">.</span>select<span class=\"ansi-blue-fg\">(</span><span class=\"ansi-blue-fg\">&#39;features&#39;</span><span class=\"ansi-blue-fg\">,</span> <span class=\"ansi-blue-fg\">&#39;label&#39;</span><span class=\"ansi-blue-fg\">)</span>\n",
       "\n",
       "<span class=\"ansi-green-fg\">/databricks/spark/python/pyspark/sql/dataframe.py</span> in <span class=\"ansi-cyan-fg\">select</span><span class=\"ansi-blue-fg\">(self, *cols)</span>\n",
       "<span class=\"ansi-green-intense-fg ansi-bold\">   1350</span>         <span class=\"ansi-blue-fg\">[</span>Row<span class=\"ansi-blue-fg\">(</span>name<span class=\"ansi-blue-fg\">=</span><span class=\"ansi-blue-fg\">u&#39;Alice&#39;</span><span class=\"ansi-blue-fg\">,</span> age<span class=\"ansi-blue-fg\">=</span><span class=\"ansi-cyan-fg\">12</span><span class=\"ansi-blue-fg\">)</span><span class=\"ansi-blue-fg\">,</span> Row<span class=\"ansi-blue-fg\">(</span>name<span class=\"ansi-blue-fg\">=</span><span class=\"ansi-blue-fg\">u&#39;Bob&#39;</span><span class=\"ansi-blue-fg\">,</span> age<span class=\"ansi-blue-fg\">=</span><span class=\"ansi-cyan-fg\">15</span><span class=\"ansi-blue-fg\">)</span><span class=\"ansi-blue-fg\">]</span>\n",
       "<span class=\"ansi-green-intense-fg ansi-bold\">   1351</span>         &#34;&#34;&#34;\n",
       "<span class=\"ansi-green-fg\">-&gt; 1352</span><span class=\"ansi-red-fg\">         </span>jdf <span class=\"ansi-blue-fg\">=</span> self<span class=\"ansi-blue-fg\">.</span>_jdf<span class=\"ansi-blue-fg\">.</span>select<span class=\"ansi-blue-fg\">(</span>self<span class=\"ansi-blue-fg\">.</span>_jcols<span class=\"ansi-blue-fg\">(</span><span class=\"ansi-blue-fg\">*</span>cols<span class=\"ansi-blue-fg\">)</span><span class=\"ansi-blue-fg\">)</span>\n",
       "<span class=\"ansi-green-intense-fg ansi-bold\">   1353</span>         <span class=\"ansi-green-fg\">return</span> DataFrame<span class=\"ansi-blue-fg\">(</span>jdf<span class=\"ansi-blue-fg\">,</span> self<span class=\"ansi-blue-fg\">.</span>sql_ctx<span class=\"ansi-blue-fg\">)</span>\n",
       "<span class=\"ansi-green-intense-fg ansi-bold\">   1354</span> \n",
       "\n",
       "<span class=\"ansi-green-fg\">/databricks/spark/python/lib/py4j-0.10.7-src.zip/py4j/java_gateway.py</span> in <span class=\"ansi-cyan-fg\">__call__</span><span class=\"ansi-blue-fg\">(self, *args)</span>\n",
       "<span class=\"ansi-green-intense-fg ansi-bold\">   1255</span>         answer <span class=\"ansi-blue-fg\">=</span> self<span class=\"ansi-blue-fg\">.</span>gateway_client<span class=\"ansi-blue-fg\">.</span>send_command<span class=\"ansi-blue-fg\">(</span>command<span class=\"ansi-blue-fg\">)</span>\n",
       "<span class=\"ansi-green-intense-fg ansi-bold\">   1256</span>         return_value = get_return_value(\n",
       "<span class=\"ansi-green-fg\">-&gt; 1257</span><span class=\"ansi-red-fg\">             answer, self.gateway_client, self.target_id, self.name)\n",
       "</span><span class=\"ansi-green-intense-fg ansi-bold\">   1258</span> \n",
       "<span class=\"ansi-green-intense-fg ansi-bold\">   1259</span>         <span class=\"ansi-green-fg\">for</span> temp_arg <span class=\"ansi-green-fg\">in</span> temp_args<span class=\"ansi-blue-fg\">:</span>\n",
       "\n",
       "<span class=\"ansi-green-fg\">/databricks/spark/python/pyspark/sql/utils.py</span> in <span class=\"ansi-cyan-fg\">deco</span><span class=\"ansi-blue-fg\">(*a, **kw)</span>\n",
       "<span class=\"ansi-green-intense-fg ansi-bold\">     67</span>                                              e.java_exception.getStackTrace()))\n",
       "<span class=\"ansi-green-intense-fg ansi-bold\">     68</span>             <span class=\"ansi-green-fg\">if</span> s<span class=\"ansi-blue-fg\">.</span>startswith<span class=\"ansi-blue-fg\">(</span><span class=\"ansi-blue-fg\">&#39;org.apache.spark.sql.AnalysisException: &#39;</span><span class=\"ansi-blue-fg\">)</span><span class=\"ansi-blue-fg\">:</span>\n",
       "<span class=\"ansi-green-fg\">---&gt; 69</span><span class=\"ansi-red-fg\">                 </span><span class=\"ansi-green-fg\">raise</span> AnalysisException<span class=\"ansi-blue-fg\">(</span>s<span class=\"ansi-blue-fg\">.</span>split<span class=\"ansi-blue-fg\">(</span><span class=\"ansi-blue-fg\">&#39;: &#39;</span><span class=\"ansi-blue-fg\">,</span> <span class=\"ansi-cyan-fg\">1</span><span class=\"ansi-blue-fg\">)</span><span class=\"ansi-blue-fg\">[</span><span class=\"ansi-cyan-fg\">1</span><span class=\"ansi-blue-fg\">]</span><span class=\"ansi-blue-fg\">,</span> stackTrace<span class=\"ansi-blue-fg\">)</span>\n",
       "<span class=\"ansi-green-intense-fg ansi-bold\">     70</span>             <span class=\"ansi-green-fg\">if</span> s<span class=\"ansi-blue-fg\">.</span>startswith<span class=\"ansi-blue-fg\">(</span><span class=\"ansi-blue-fg\">&#39;org.apache.spark.sql.catalyst.analysis&#39;</span><span class=\"ansi-blue-fg\">)</span><span class=\"ansi-blue-fg\">:</span>\n",
       "<span class=\"ansi-green-intense-fg ansi-bold\">     71</span>                 <span class=\"ansi-green-fg\">raise</span> AnalysisException<span class=\"ansi-blue-fg\">(</span>s<span class=\"ansi-blue-fg\">.</span>split<span class=\"ansi-blue-fg\">(</span><span class=\"ansi-blue-fg\">&#39;: &#39;</span><span class=\"ansi-blue-fg\">,</span> <span class=\"ansi-cyan-fg\">1</span><span class=\"ansi-blue-fg\">)</span><span class=\"ansi-blue-fg\">[</span><span class=\"ansi-cyan-fg\">1</span><span class=\"ansi-blue-fg\">]</span><span class=\"ansi-blue-fg\">,</span> stackTrace<span class=\"ansi-blue-fg\">)</span>\n",
       "\n",
       "<span class=\"ansi-red-fg\">AnalysisException</span>: &#34;cannot resolve &#39;`label`&#39; given input columns: [Lettuce, Carrots, vallarta_express, google_25, carnitas, Corn, yelp_50, Shrimp, google_na, circum_25, oceanside, miramar, google_50, length_25, Pineapple, california_everything, carmel_valley, good_grade, Rice, surf_and_turf, valentine_s_mexican_food, downtown, pos, Chile relleno, volume_25, utc, Fish, lolita_s_taco_shop, Onion, Taquito, volume_na, Pork, Bacon, selectedFeatures, carlsbad, local, san_marcos, pacific_beach, surfin_california, carne_asada, los_primos_mexican_food, features, Sushi, id, lucha_libre_north_park, california_burritos, Cabbage, Hunger, Chips, circum_na, university_heights, Zucchini, circum_50, north_park, length_50, hillcrest, los_tacos, al_pastor, Avocado, lupe_s_taco_shop, Nopales, Chicken, Lobster, Beef, Cilantro, Sauce, Mushroom, volume_50, valentines_mexican_food, tony_s_fresh_mexican_food, kearny_mesa, clairemont, neg, la_jolla, Tomato, Salsa49, Cost, Bell peper, encinitas, compound, rigoberto_s_taco_shop, Pico, el_zarape, yelp_25, linda_vista, california, length_na, cancun_mexican_&amp;_seafood, yelp_na, Egg, adobada, Ham, Guac, Beans, taco_stand, Cheese];;\\n&#39;Project [features#2456, &#39;label]\\n+- Project [id#1048, Chips#1049, Cost#1050, Hunger#1051, Beef#1052, Pico#1053, Guac#1054, Cheese#1055, Pork#1056, Chicken#1057, Shrimp#1058, Fish#1059, Rice#1060, Beans#1061, Lettuce#1062, Tomato#1063, Bell peper#1064, Carrots#1065, Cabbage#1066, Sauce#1067, Salsa49#1068, Cilantro#1069, Onion#1070, Taquito#1071, ... 72 more fields]\\n   +- Project [id#1048, Chips#1049, Cost#1050, Hunger#1051, Beef#1052, Pico#1053, Guac#1054, Cheese#1055, Pork#1056, Chicken#1057, Shrimp#1058, Fish#1059, Rice#1060, Beans#1061, Lettuce#1062, Tomato#1063, Bell peper#1064, Carrots#1065, Cabbage#1066, Sauce#1067, Salsa49#1068, Cilantro#1069, Onion#1070, Taquito#1071, ... 71 more fields]\\n      +- Relation[id#1048,Chips#1049,Cost#1050,Hunger#1051,Beef#1052,Pico#1053,Guac#1054,Cheese#1055,Pork#1056,Chicken#1057,Shrimp#1058,Fish#1059,Rice#1060,Beans#1061,Lettuce#1062,Tomato#1063,Bell peper#1064,Carrots#1065,Cabbage#1066,Sauce#1067,Salsa49#1068,Cilantro#1069,Onion#1070,Taquito#1071,... 70 more fields] csv\\n&#34;</div>"
      ]
     },
     "metadata": {},
     "output_type": "display_data"
    }
   ],
   "source": [
    "df = df.select('features', 'label')"
   ]
  },
  {
   "cell_type": "markdown",
   "metadata": {},
   "source": [
    "### 5.2 Splitting the dataset"
   ]
  },
  {
   "cell_type": "markdown",
   "metadata": {},
   "source": [
    "We will split our dataset into a training set called `train` and a testing set called `test`, such that the model will be fitted on `train` which contains 80% of the individuals. The quality of our model will be measured on the test set (which contains the remaining 20% observations)."
   ]
  },
  {
   "cell_type": "code",
   "execution_count": 203,
   "metadata": {},
   "outputs": [
    {
     "data": {
      "text/html": [
       "<style scoped>\n",
       "  .ansiout {\n",
       "    display: block;\n",
       "    unicode-bidi: embed;\n",
       "    white-space: pre-wrap;\n",
       "    word-wrap: break-word;\n",
       "    word-break: break-all;\n",
       "    font-family: \"Source Code Pro\", \"Menlo\", monospace;;\n",
       "    font-size: 13px;\n",
       "    color: #555;\n",
       "    margin-left: 4px;\n",
       "    line-height: 19px;\n",
       "  }\n",
       "</style>\n",
       "<div class=\"ansiout\"></div>"
      ]
     },
     "metadata": {},
     "output_type": "display_data"
    }
   ],
   "source": [
    "train, test = df.randomSplit([0.8, 0.2], seed=12345) #we set a seed for the reproduction of our results"
   ]
  },
  {
   "cell_type": "markdown",
   "metadata": {},
   "source": [
    "Let's check the target variable is balanced across the variables:"
   ]
  },
  {
   "cell_type": "code",
   "execution_count": 205,
   "metadata": {},
   "outputs": [
    {
     "data": {
      "text/html": [
       "<style scoped>\n",
       "  .ansiout {\n",
       "    display: block;\n",
       "    unicode-bidi: embed;\n",
       "    white-space: pre-wrap;\n",
       "    word-wrap: break-word;\n",
       "    word-break: break-all;\n",
       "    font-family: \"Source Code Pro\", \"Menlo\", monospace;;\n",
       "    font-size: 13px;\n",
       "    color: #555;\n",
       "    margin-left: 4px;\n",
       "    line-height: 19px;\n",
       "  }\n",
       "</style>\n",
       "<div class=\"ansiout\"><span class=\"ansi-red-fg\">---------------------------------------------------------------------------</span>\n",
       "<span class=\"ansi-red-fg\">Py4JJavaError</span>                             Traceback (most recent call last)\n",
       "<span class=\"ansi-green-fg\">/databricks/spark/python/pyspark/sql/utils.py</span> in <span class=\"ansi-cyan-fg\">deco</span><span class=\"ansi-blue-fg\">(*a, **kw)</span>\n",
       "<span class=\"ansi-green-intense-fg ansi-bold\">     62</span>         <span class=\"ansi-green-fg\">try</span><span class=\"ansi-blue-fg\">:</span>\n",
       "<span class=\"ansi-green-fg\">---&gt; 63</span><span class=\"ansi-red-fg\">             </span><span class=\"ansi-green-fg\">return</span> f<span class=\"ansi-blue-fg\">(</span><span class=\"ansi-blue-fg\">*</span>a<span class=\"ansi-blue-fg\">,</span> <span class=\"ansi-blue-fg\">**</span>kw<span class=\"ansi-blue-fg\">)</span>\n",
       "<span class=\"ansi-green-intense-fg ansi-bold\">     64</span>         <span class=\"ansi-green-fg\">except</span> py4j<span class=\"ansi-blue-fg\">.</span>protocol<span class=\"ansi-blue-fg\">.</span>Py4JJavaError <span class=\"ansi-green-fg\">as</span> e<span class=\"ansi-blue-fg\">:</span>\n",
       "\n",
       "<span class=\"ansi-green-fg\">/databricks/spark/python/lib/py4j-0.10.7-src.zip/py4j/protocol.py</span> in <span class=\"ansi-cyan-fg\">get_return_value</span><span class=\"ansi-blue-fg\">(answer, gateway_client, target_id, name)</span>\n",
       "<span class=\"ansi-green-intense-fg ansi-bold\">    327</span>                     <span class=\"ansi-blue-fg\">&#34;An error occurred while calling {0}{1}{2}.\\n&#34;</span><span class=\"ansi-blue-fg\">.</span>\n",
       "<span class=\"ansi-green-fg\">--&gt; 328</span><span class=\"ansi-red-fg\">                     format(target_id, &#34;.&#34;, name), value)\n",
       "</span><span class=\"ansi-green-intense-fg ansi-bold\">    329</span>             <span class=\"ansi-green-fg\">else</span><span class=\"ansi-blue-fg\">:</span>\n",
       "\n",
       "<span class=\"ansi-red-fg\">Py4JJavaError</span>: An error occurred while calling o1680.select.\n",
       ": org.apache.spark.sql.AnalysisException: cannot resolve &#39;`label`&#39; given input columns: [carne_asada, Lettuce, Cost, Taquito, Mushroom, Fish, local, carlsbad, lolita_s_taco_shop, Ham, volume_na, Pineapple, los_tacos, kearny_mesa, Chicken, Beans, carnitas, adobada, google_na, google_25, clairemont, downtown, san_marcos, vallarta_express, Tomato, rigoberto_s_taco_shop, oceanside, hillcrest, Onion, Salsa49, volume_25, Cabbage, circum_na, length_50, google_50, Zucchini, university_heights, Avocado, Nopales, compound, Sushi, length_na, lucha_libre_north_park, valentine_s_mexican_food, Hunger, yelp_25, tony_s_fresh_mexican_food, cancun_mexican_&amp;_seafood, utc, Bell peper, id, al_pastor, Chile relleno, good_grade, length_25, encinitas, california_burritos, Cheese, california, Lobster, yelp_50, Beef, north_park, Egg, miramar, la_jolla, surf_and_turf, Shrimp, Pork, Corn, circum_25, surfin_california, Carrots, Cilantro, california_everything, pos, Chips, Guac, carmel_valley, yelp_na, el_zarape, Sauce, Rice, lupe_s_taco_shop, taco_stand, volume_50, linda_vista, Pico, circum_50, valentines_mexican_food, Bacon, pacific_beach, los_primos_mexican_food, neg];;\n",
       "&#39;Project [&#39;label]\n",
       "+- Sample 0.0, 0.8, false, 12345\n",
       "   +- Sort [id#3721 ASC NULLS FIRST, Chips#3722 ASC NULLS FIRST, Cost#3723 ASC NULLS FIRST, Hunger#3724 ASC NULLS FIRST, Beef#3725 ASC NULLS FIRST, Pico#3726 ASC NULLS FIRST, Guac#3727 ASC NULLS FIRST, Cheese#3728 ASC NULLS FIRST, Pork#3729 ASC NULLS FIRST, Chicken#3730 ASC NULLS FIRST, Shrimp#3731 ASC NULLS FIRST, Fish#3732 ASC NULLS FIRST, Rice#3733 ASC NULLS FIRST, Beans#3734 ASC NULLS FIRST, Lettuce#3735 ASC NULLS FIRST, Tomato#3736 ASC NULLS FIRST, Bell peper#3737 ASC NULLS FIRST, Carrots#3738 ASC NULLS FIRST, Cabbage#3739 ASC NULLS FIRST, Sauce#3740 ASC NULLS FIRST, Salsa49#3741 ASC NULLS FIRST, Cilantro#3742 ASC NULLS FIRST, Onion#3743 ASC NULLS FIRST, Taquito#3744 ASC NULLS FIRST, ... 70 more fields], false\n",
       "      +- Relation[id#3721,Chips#3722,Cost#3723,Hunger#3724,Beef#3725,Pico#3726,Guac#3727,Cheese#3728,Pork#3729,Chicken#3730,Shrimp#3731,Fish#3732,Rice#3733,Beans#3734,Lettuce#3735,Tomato#3736,Bell peper#3737,Carrots#3738,Cabbage#3739,Sauce#3740,Salsa49#3741,Cilantro#3742,Onion#3743,Taquito#3744,... 70 more fields] csv\n",
       "\n",
       "\tat org.apache.spark.sql.catalyst.analysis.package$AnalysisErrorAt.failAnalysis(package.scala:42)\n",
       "\tat org.apache.spark.sql.catalyst.analysis.CheckAnalysis$$anonfun$checkAnalysis$1$$anonfun$apply$3.applyOrElse(CheckAnalysis.scala:120)\n",
       "\tat org.apache.spark.sql.catalyst.analysis.CheckAnalysis$$anonfun$checkAnalysis$1$$anonfun$apply$3.applyOrElse(CheckAnalysis.scala:111)\n",
       "\tat org.apache.spark.sql.catalyst.trees.TreeNode$$anonfun$6.apply(TreeNode.scala:303)\n",
       "\tat org.apache.spark.sql.catalyst.trees.TreeNode$$anonfun$6.apply(TreeNode.scala:303)\n",
       "\tat org.apache.spark.sql.catalyst.trees.CurrentOrigin$.withOrigin(TreeNode.scala:76)\n",
       "\tat org.apache.spark.sql.catalyst.trees.TreeNode.transformUp(TreeNode.scala:302)\n",
       "\tat org.apache.spark.sql.catalyst.plans.QueryPlan$$anonfun$transformExpressionsUp$1.apply(QueryPlan.scala:94)\n",
       "\tat org.apache.spark.sql.catalyst.plans.QueryPlan$$anonfun$transformExpressionsUp$1.apply(QueryPlan.scala:94)\n",
       "\tat org.apache.spark.sql.catalyst.plans.QueryPlan$$anonfun$3.apply(QueryPlan.scala:106)\n",
       "\tat org.apache.spark.sql.catalyst.plans.QueryPlan$$anonfun$3.apply(QueryPlan.scala:106)\n",
       "\tat org.apache.spark.sql.catalyst.trees.CurrentOrigin$.withOrigin(TreeNode.scala:76)\n",
       "\tat org.apache.spark.sql.catalyst.plans.QueryPlan.transformExpression$1(QueryPlan.scala:105)\n",
       "\tat org.apache.spark.sql.catalyst.plans.QueryPlan.org$apache$spark$sql$catalyst$plans$QueryPlan$$recursiveTransform$1(QueryPlan.scala:117)\n",
       "\tat org.apache.spark.sql.catalyst.plans.QueryPlan$$anonfun$org$apache$spark$sql$catalyst$plans$QueryPlan$$recursiveTransform$1$2.apply(QueryPlan.scala:122)\n",
       "\tat scala.collection.TraversableLike$$anonfun$map$1.apply(TraversableLike.scala:234)\n",
       "\tat scala.collection.TraversableLike$$anonfun$map$1.apply(TraversableLike.scala:234)\n",
       "\tat scala.collection.mutable.ResizableArray$class.foreach(ResizableArray.scala:59)\n",
       "\tat scala.collection.mutable.ArrayBuffer.foreach(ArrayBuffer.scala:48)\n",
       "\tat scala.collection.TraversableLike$class.map(TraversableLike.scala:234)\n",
       "\tat scala.collection.AbstractTraversable.map(Traversable.scala:104)\n",
       "\tat org.apache.spark.sql.catalyst.plans.QueryPlan.org$apache$spark$sql$catalyst$plans$QueryPlan$$recursiveTransform$1(QueryPlan.scala:122)\n",
       "\tat org.apache.spark.sql.catalyst.plans.QueryPlan$$anonfun$4.apply(QueryPlan.scala:127)\n",
       "\tat org.apache.spark.sql.catalyst.trees.TreeNode.mapProductIterator(TreeNode.scala:207)\n",
       "\tat org.apache.spark.sql.catalyst.plans.QueryPlan.mapExpressions(QueryPlan.scala:127)\n",
       "\tat org.apache.spark.sql.catalyst.plans.QueryPlan.transformExpressionsUp(QueryPlan.scala:94)\n",
       "\tat org.apache.spark.sql.catalyst.analysis.CheckAnalysis$$anonfun$checkAnalysis$1.apply(CheckAnalysis.scala:111)\n",
       "\tat org.apache.spark.sql.catalyst.analysis.CheckAnalysis$$anonfun$checkAnalysis$1.apply(CheckAnalysis.scala:89)\n",
       "\tat org.apache.spark.sql.catalyst.trees.TreeNode.foreachUp(TreeNode.scala:147)\n",
       "\tat org.apache.spark.sql.catalyst.analysis.CheckAnalysis$class.checkAnalysis(CheckAnalysis.scala:89)\n",
       "\tat org.apache.spark.sql.catalyst.analysis.Analyzer.checkAnalysis(Analyzer.scala:103)\n",
       "\tat org.apache.spark.sql.catalyst.analysis.Analyzer$$anonfun$executeAndCheck$1.apply(Analyzer.scala:117)\n",
       "\tat org.apache.spark.sql.catalyst.analysis.Analyzer$$anonfun$executeAndCheck$1.apply(Analyzer.scala:114)\n",
       "\tat org.apache.spark.sql.catalyst.plans.logical.AnalysisHelper$.markInAnalyzer(AnalysisHelper.scala:201)\n",
       "\tat org.apache.spark.sql.catalyst.analysis.Analyzer.executeAndCheck(Analyzer.scala:114)\n",
       "\tat org.apache.spark.sql.execution.QueryExecution$$anonfun$analyzed$1.apply(QueryExecution.scala:86)\n",
       "\tat org.apache.spark.sql.execution.QueryExecution$$anonfun$analyzed$1.apply(QueryExecution.scala:83)\n",
       "\tat org.apache.spark.sql.catalyst.QueryPlanningTracker.measurePhase(QueryPlanningTracker.scala:111)\n",
       "\tat org.apache.spark.sql.execution.QueryExecution.analyzed$lzycompute(QueryExecution.scala:83)\n",
       "\tat org.apache.spark.sql.execution.QueryExecution.analyzed(QueryExecution.scala:83)\n",
       "\tat org.apache.spark.sql.execution.QueryExecution.assertAnalyzed(QueryExecution.scala:75)\n",
       "\tat org.apache.spark.sql.Dataset$.ofRows(Dataset.scala:81)\n",
       "\tat org.apache.spark.sql.Dataset.org$apache$spark$sql$Dataset$$withPlan(Dataset.scala:3534)\n",
       "\tat org.apache.spark.sql.Dataset.select(Dataset.scala:1362)\n",
       "\tat sun.reflect.NativeMethodAccessorImpl.invoke0(Native Method)\n",
       "\tat sun.reflect.NativeMethodAccessorImpl.invoke(NativeMethodAccessorImpl.java:62)\n",
       "\tat sun.reflect.DelegatingMethodAccessorImpl.invoke(DelegatingMethodAccessorImpl.java:43)\n",
       "\tat java.lang.reflect.Method.invoke(Method.java:498)\n",
       "\tat py4j.reflection.MethodInvoker.invoke(MethodInvoker.java:244)\n",
       "\tat py4j.reflection.ReflectionEngine.invoke(ReflectionEngine.java:380)\n",
       "\tat py4j.Gateway.invoke(Gateway.java:295)\n",
       "\tat py4j.commands.AbstractCommand.invokeMethod(AbstractCommand.java:132)\n",
       "\tat py4j.commands.CallCommand.execute(CallCommand.java:79)\n",
       "\tat py4j.GatewayConnection.run(GatewayConnection.java:251)\n",
       "\tat java.lang.Thread.run(Thread.java:748)\n",
       "\n",
       "\n",
       "During handling of the above exception, another exception occurred:\n",
       "\n",
       "<span class=\"ansi-red-fg\">AnalysisException</span>                         Traceback (most recent call last)\n",
       "<span class=\"ansi-green-fg\">&lt;command-2427207629766045&gt;</span> in <span class=\"ansi-cyan-fg\">&lt;module&gt;</span>\n",
       "<span class=\"ansi-green-intense-fg ansi-bold\">      7</span> \n",
       "<span class=\"ansi-green-intense-fg ansi-bold\">      8</span> print<span class=\"ansi-blue-fg\">(</span><span class=\"ansi-blue-fg\">&#39;\\n Train set:&#39;</span><span class=\"ansi-blue-fg\">)</span>\n",
       "<span class=\"ansi-green-fg\">----&gt; 9</span><span class=\"ansi-red-fg\"> </span>info_data<span class=\"ansi-blue-fg\">(</span>train<span class=\"ansi-blue-fg\">)</span>\n",
       "<span class=\"ansi-green-intense-fg ansi-bold\">     10</span> \n",
       "<span class=\"ansi-green-intense-fg ansi-bold\">     11</span> print<span class=\"ansi-blue-fg\">(</span><span class=\"ansi-blue-fg\">&#39;\\n Test set:&#39;</span><span class=\"ansi-blue-fg\">)</span>\n",
       "\n",
       "<span class=\"ansi-green-fg\">&lt;command-2427207629766045&gt;</span> in <span class=\"ansi-cyan-fg\">info_data</span><span class=\"ansi-blue-fg\">(data)</span>\n",
       "<span class=\"ansi-green-intense-fg ansi-bold\">      1</span> <span class=\"ansi-green-fg\">def</span> info_data<span class=\"ansi-blue-fg\">(</span>data<span class=\"ansi-blue-fg\">)</span><span class=\"ansi-blue-fg\">:</span>\n",
       "<span class=\"ansi-green-fg\">----&gt; 2</span><span class=\"ansi-red-fg\">   </span>size <span class=\"ansi-blue-fg\">=</span> float<span class=\"ansi-blue-fg\">(</span>data<span class=\"ansi-blue-fg\">.</span>select<span class=\"ansi-blue-fg\">(</span><span class=\"ansi-blue-fg\">&#39;label&#39;</span><span class=\"ansi-blue-fg\">)</span><span class=\"ansi-blue-fg\">.</span>count<span class=\"ansi-blue-fg\">(</span><span class=\"ansi-blue-fg\">)</span><span class=\"ansi-blue-fg\">)</span>\n",
       "<span class=\"ansi-green-intense-fg ansi-bold\">      3</span>   numPositives <span class=\"ansi-blue-fg\">=</span> data<span class=\"ansi-blue-fg\">.</span>select<span class=\"ansi-blue-fg\">(</span><span class=\"ansi-blue-fg\">&#39;label&#39;</span><span class=\"ansi-blue-fg\">)</span><span class=\"ansi-blue-fg\">.</span>where<span class=\"ansi-blue-fg\">(</span><span class=\"ansi-blue-fg\">&#39;label == 1&#39;</span><span class=\"ansi-blue-fg\">)</span><span class=\"ansi-blue-fg\">.</span>count<span class=\"ansi-blue-fg\">(</span><span class=\"ansi-blue-fg\">)</span>\n",
       "<span class=\"ansi-green-intense-fg ansi-bold\">      4</span>   prop_ones <span class=\"ansi-blue-fg\">=</span> <span class=\"ansi-blue-fg\">(</span>float<span class=\"ansi-blue-fg\">(</span>numPositives<span class=\"ansi-blue-fg\">)</span><span class=\"ansi-blue-fg\">/</span>float<span class=\"ansi-blue-fg\">(</span>size<span class=\"ansi-blue-fg\">)</span><span class=\"ansi-blue-fg\">)</span><span class=\"ansi-blue-fg\">*</span><span class=\"ansi-cyan-fg\">100</span>\n",
       "<span class=\"ansi-green-intense-fg ansi-bold\">      5</span>   print<span class=\"ansi-blue-fg\">(</span><span class=\"ansi-blue-fg\">f&#39;The number of ones are {numPositives}/{data.count()}&#39;</span><span class=\"ansi-blue-fg\">)</span>\n",
       "\n",
       "<span class=\"ansi-green-fg\">/databricks/spark/python/pyspark/sql/dataframe.py</span> in <span class=\"ansi-cyan-fg\">select</span><span class=\"ansi-blue-fg\">(self, *cols)</span>\n",
       "<span class=\"ansi-green-intense-fg ansi-bold\">   1350</span>         <span class=\"ansi-blue-fg\">[</span>Row<span class=\"ansi-blue-fg\">(</span>name<span class=\"ansi-blue-fg\">=</span><span class=\"ansi-blue-fg\">u&#39;Alice&#39;</span><span class=\"ansi-blue-fg\">,</span> age<span class=\"ansi-blue-fg\">=</span><span class=\"ansi-cyan-fg\">12</span><span class=\"ansi-blue-fg\">)</span><span class=\"ansi-blue-fg\">,</span> Row<span class=\"ansi-blue-fg\">(</span>name<span class=\"ansi-blue-fg\">=</span><span class=\"ansi-blue-fg\">u&#39;Bob&#39;</span><span class=\"ansi-blue-fg\">,</span> age<span class=\"ansi-blue-fg\">=</span><span class=\"ansi-cyan-fg\">15</span><span class=\"ansi-blue-fg\">)</span><span class=\"ansi-blue-fg\">]</span>\n",
       "<span class=\"ansi-green-intense-fg ansi-bold\">   1351</span>         &#34;&#34;&#34;\n",
       "<span class=\"ansi-green-fg\">-&gt; 1352</span><span class=\"ansi-red-fg\">         </span>jdf <span class=\"ansi-blue-fg\">=</span> self<span class=\"ansi-blue-fg\">.</span>_jdf<span class=\"ansi-blue-fg\">.</span>select<span class=\"ansi-blue-fg\">(</span>self<span class=\"ansi-blue-fg\">.</span>_jcols<span class=\"ansi-blue-fg\">(</span><span class=\"ansi-blue-fg\">*</span>cols<span class=\"ansi-blue-fg\">)</span><span class=\"ansi-blue-fg\">)</span>\n",
       "<span class=\"ansi-green-intense-fg ansi-bold\">   1353</span>         <span class=\"ansi-green-fg\">return</span> DataFrame<span class=\"ansi-blue-fg\">(</span>jdf<span class=\"ansi-blue-fg\">,</span> self<span class=\"ansi-blue-fg\">.</span>sql_ctx<span class=\"ansi-blue-fg\">)</span>\n",
       "<span class=\"ansi-green-intense-fg ansi-bold\">   1354</span> \n",
       "\n",
       "<span class=\"ansi-green-fg\">/databricks/spark/python/lib/py4j-0.10.7-src.zip/py4j/java_gateway.py</span> in <span class=\"ansi-cyan-fg\">__call__</span><span class=\"ansi-blue-fg\">(self, *args)</span>\n",
       "<span class=\"ansi-green-intense-fg ansi-bold\">   1255</span>         answer <span class=\"ansi-blue-fg\">=</span> self<span class=\"ansi-blue-fg\">.</span>gateway_client<span class=\"ansi-blue-fg\">.</span>send_command<span class=\"ansi-blue-fg\">(</span>command<span class=\"ansi-blue-fg\">)</span>\n",
       "<span class=\"ansi-green-intense-fg ansi-bold\">   1256</span>         return_value = get_return_value(\n",
       "<span class=\"ansi-green-fg\">-&gt; 1257</span><span class=\"ansi-red-fg\">             answer, self.gateway_client, self.target_id, self.name)\n",
       "</span><span class=\"ansi-green-intense-fg ansi-bold\">   1258</span> \n",
       "<span class=\"ansi-green-intense-fg ansi-bold\">   1259</span>         <span class=\"ansi-green-fg\">for</span> temp_arg <span class=\"ansi-green-fg\">in</span> temp_args<span class=\"ansi-blue-fg\">:</span>\n",
       "\n",
       "<span class=\"ansi-green-fg\">/databricks/spark/python/pyspark/sql/utils.py</span> in <span class=\"ansi-cyan-fg\">deco</span><span class=\"ansi-blue-fg\">(*a, **kw)</span>\n",
       "<span class=\"ansi-green-intense-fg ansi-bold\">     67</span>                                              e.java_exception.getStackTrace()))\n",
       "<span class=\"ansi-green-intense-fg ansi-bold\">     68</span>             <span class=\"ansi-green-fg\">if</span> s<span class=\"ansi-blue-fg\">.</span>startswith<span class=\"ansi-blue-fg\">(</span><span class=\"ansi-blue-fg\">&#39;org.apache.spark.sql.AnalysisException: &#39;</span><span class=\"ansi-blue-fg\">)</span><span class=\"ansi-blue-fg\">:</span>\n",
       "<span class=\"ansi-green-fg\">---&gt; 69</span><span class=\"ansi-red-fg\">                 </span><span class=\"ansi-green-fg\">raise</span> AnalysisException<span class=\"ansi-blue-fg\">(</span>s<span class=\"ansi-blue-fg\">.</span>split<span class=\"ansi-blue-fg\">(</span><span class=\"ansi-blue-fg\">&#39;: &#39;</span><span class=\"ansi-blue-fg\">,</span> <span class=\"ansi-cyan-fg\">1</span><span class=\"ansi-blue-fg\">)</span><span class=\"ansi-blue-fg\">[</span><span class=\"ansi-cyan-fg\">1</span><span class=\"ansi-blue-fg\">]</span><span class=\"ansi-blue-fg\">,</span> stackTrace<span class=\"ansi-blue-fg\">)</span>\n",
       "<span class=\"ansi-green-intense-fg ansi-bold\">     70</span>             <span class=\"ansi-green-fg\">if</span> s<span class=\"ansi-blue-fg\">.</span>startswith<span class=\"ansi-blue-fg\">(</span><span class=\"ansi-blue-fg\">&#39;org.apache.spark.sql.catalyst.analysis&#39;</span><span class=\"ansi-blue-fg\">)</span><span class=\"ansi-blue-fg\">:</span>\n",
       "<span class=\"ansi-green-intense-fg ansi-bold\">     71</span>                 <span class=\"ansi-green-fg\">raise</span> AnalysisException<span class=\"ansi-blue-fg\">(</span>s<span class=\"ansi-blue-fg\">.</span>split<span class=\"ansi-blue-fg\">(</span><span class=\"ansi-blue-fg\">&#39;: &#39;</span><span class=\"ansi-blue-fg\">,</span> <span class=\"ansi-cyan-fg\">1</span><span class=\"ansi-blue-fg\">)</span><span class=\"ansi-blue-fg\">[</span><span class=\"ansi-cyan-fg\">1</span><span class=\"ansi-blue-fg\">]</span><span class=\"ansi-blue-fg\">,</span> stackTrace<span class=\"ansi-blue-fg\">)</span>\n",
       "\n",
       "<span class=\"ansi-red-fg\">AnalysisException</span>: &#34;cannot resolve &#39;`label`&#39; given input columns: [carne_asada, Lettuce, Cost, Taquito, Mushroom, Fish, local, carlsbad, lolita_s_taco_shop, Ham, volume_na, Pineapple, los_tacos, kearny_mesa, Chicken, Beans, carnitas, adobada, google_na, google_25, clairemont, downtown, san_marcos, vallarta_express, Tomato, rigoberto_s_taco_shop, oceanside, hillcrest, Onion, Salsa49, volume_25, Cabbage, circum_na, length_50, google_50, Zucchini, university_heights, Avocado, Nopales, compound, Sushi, length_na, lucha_libre_north_park, valentine_s_mexican_food, Hunger, yelp_25, tony_s_fresh_mexican_food, cancun_mexican_&amp;_seafood, utc, Bell peper, id, al_pastor, Chile relleno, good_grade, length_25, encinitas, california_burritos, Cheese, california, Lobster, yelp_50, Beef, north_park, Egg, miramar, la_jolla, surf_and_turf, Shrimp, Pork, Corn, circum_25, surfin_california, Carrots, Cilantro, california_everything, pos, Chips, Guac, carmel_valley, yelp_na, el_zarape, Sauce, Rice, lupe_s_taco_shop, taco_stand, volume_50, linda_vista, Pico, circum_50, valentines_mexican_food, Bacon, pacific_beach, los_primos_mexican_food, neg];;\\n&#39;Project [&#39;label]\\n+- Sample 0.0, 0.8, false, 12345\\n   +- Sort [id#3721 ASC NULLS FIRST, Chips#3722 ASC NULLS FIRST, Cost#3723 ASC NULLS FIRST, Hunger#3724 ASC NULLS FIRST, Beef#3725 ASC NULLS FIRST, Pico#3726 ASC NULLS FIRST, Guac#3727 ASC NULLS FIRST, Cheese#3728 ASC NULLS FIRST, Pork#3729 ASC NULLS FIRST, Chicken#3730 ASC NULLS FIRST, Shrimp#3731 ASC NULLS FIRST, Fish#3732 ASC NULLS FIRST, Rice#3733 ASC NULLS FIRST, Beans#3734 ASC NULLS FIRST, Lettuce#3735 ASC NULLS FIRST, Tomato#3736 ASC NULLS FIRST, Bell peper#3737 ASC NULLS FIRST, Carrots#3738 ASC NULLS FIRST, Cabbage#3739 ASC NULLS FIRST, Sauce#3740 ASC NULLS FIRST, Salsa49#3741 ASC NULLS FIRST, Cilantro#3742 ASC NULLS FIRST, Onion#3743 ASC NULLS FIRST, Taquito#3744 ASC NULLS FIRST, ... 70 more fields], false\\n      +- Relation[id#3721,Chips#3722,Cost#3723,Hunger#3724,Beef#3725,Pico#3726,Guac#3727,Cheese#3728,Pork#3729,Chicken#3730,Shrimp#3731,Fish#3732,Rice#3733,Beans#3734,Lettuce#3735,Tomato#3736,Bell peper#3737,Carrots#3738,Cabbage#3739,Sauce#3740,Salsa49#3741,Cilantro#3742,Onion#3743,Taquito#3744,... 70 more fields] csv\\n&#34;</div>"
      ]
     },
     "metadata": {},
     "output_type": "display_data"
    }
   ],
   "source": [
    "def info_data(data):\n",
    "  size = float(data.select('label').count())\n",
    "  numPositives = data.select('label').where('label == 1').count()\n",
    "  prop_ones = (float(numPositives)/float(size))*100\n",
    "  print(f'The number of ones are {numPositives}/{data.count()}')\n",
    "  print(f'Percentage of ones are {np.round(prop_ones,2)}%')\n",
    "\n",
    "print('\\n Train set:')\n",
    "info_data(train)\n",
    "\n",
    "print('\\n Test set:')\n",
    "info_data(test)"
   ]
  },
  {
   "cell_type": "markdown",
   "metadata": {},
   "source": [
    "As the proportion of \\\\(goodgrade = 1\\\\) approximates 50% within the training set, we can assert that this one is pretty balance regarding the distribution of the target variable."
   ]
  },
  {
   "cell_type": "markdown",
   "metadata": {},
   "source": [
    "### 5.4 Logistic Regression Model"
   ]
  },
  {
   "cell_type": "markdown",
   "metadata": {},
   "source": [
    "Here is the loss function we aim to minimize in order to find the coefficients and predict as best as possible whether a customer likes the burrito or not:\n",
    "$$\n",
    "\\mathcal{L}(w;x,y) = \\mathrm{ln}(1+\\mathrm{exp}(-yw^Tx)) ~ , ~ y = goodgrade\n",
    "$$\n",
    "\n",
    "After minimization of the loss, we end up with the estimated weights:\n",
    "$$\\widehat{w}$$\n",
    "\n",
    "Then, we just need to set features values in order to predict a probability for an individual, applying the logistic function:\n",
    "\n",
    "$$\\forall i \\in \\\\{1,...,N\\\\} ~ , ~ f(\\widehat{w},x) = \\dfrac{1}{1+e^{-\\widehat{w}^Tx}}$$\n",
    "\n",
    "However, the aim is to predict either 1 (the customer likes the burrito) or 0 (the customer dislikes the burrito). Then we have to compare the predicted probability to a specific threshold in order to assign either 1 or 0:\n",
    "\n",
    "$$\\forall i \\in \\\\{1,...,N\\\\} ~ , ~ \\forall threshold \\in [0,1] ~, ~ \\widehat{goodgrade_i} = \\begin{cases} 1 ~ \\mathrm{if} ~ f(\\widehat{w}, x_i) > threshold \\cr\n",
    "0 ~ \\mathrm{otherwise} \\cr\n",
    "\\end{cases}$$"
   ]
  },
  {
   "cell_type": "markdown",
   "metadata": {},
   "source": [
    "#### 5.4.1 Fitting the model"
   ]
  },
  {
   "cell_type": "code",
   "execution_count": 210,
   "metadata": {},
   "outputs": [],
   "source": [
    "#Initialize the model,\n",
    "lr = LogisticRegression(labelCol='label', featuresCol='features', maxIter=50)\n",
    "\n",
    "#Fit on the train set:\n",
    "logit_model = lr.fit(train)\n",
    "\n",
    "# Extract the summary from the returned LogisticRegressionModel instance trained\n",
    "# in the earlier example\n",
    "#trainingSummary = logit_model.summary\n",
    "\n",
    "#Set the model threshold to maximize F-Measure\n",
    "fMeasure = trainingSummary.fMeasureByThreshold\n",
    "maxFMeasure = fMeasure.groupBy().max('F-Measure').select('max(F-Measure)').head()\n",
    "bestThreshold = fMeasure.where(fMeasure['F-Measure'] == maxFMeasure['max(F-Measure)']) \\\n",
    "    .select('threshold').head()['threshold']\n",
    "lr.setThreshold(bestThreshold)\n",
    "\n",
    "#Get predictions for both train and test sets:\n",
    "predict_train_logit = logit_model.transform(train)\n",
    "predict_test_logit = logit_model.transform(test)\n",
    "\n",
    "#Show up 10 first rows:\n",
    "predict_test_logit.select('label', 'prediction', 'probability').show(10)"
   ]
  },
  {
   "cell_type": "markdown",
   "metadata": {},
   "source": [
    "#### 5.4.2 Performance Evaluation"
   ]
  },
  {
   "cell_type": "markdown",
   "metadata": {},
   "source": [
    "To measure the performance we have to compute those metrics:\n",
    "\n",
    "-TP: customer who likes the burrito and who was predicted well\n",
    "\n",
    "-TN: customer who dislikes the burrito and who was predicted well\n",
    "\n",
    "-FP: customer who dislikes the burrito and who was predicted wrong\n",
    "\n",
    "-FN: customer who likes the burrito and who was predicted wrong\n",
    "\n",
    "-P = TP+FN :total number of positives\n",
    "\n",
    "-N = TN+FP :total number of negatives\n",
    "\n",
    "In order to get performance metrics about our predictions, we will store into a single **class** called `binary_metrics`, the following metrics:\n",
    "\n",
    "-accuracy = \\\\(\\dfrac{\\mathrm{TP+TN}}{\\mathrm{TP+TN+FP+FN}}\\\\)\n",
    "\n",
    "-precision = \\\\(\\dfrac{\\mathrm{TP}}{\\mathrm{TP+FP}}\\\\)\n",
    "\n",
    "-recall = \\\\(\\dfrac{\\mathrm{TP}}{\\mathrm{TP+FN}}\\\\)\n",
    "\n",
    "-F1 Score = \\\\(2 \\times \\dfrac{\\mathrm{precision} \\times \\mathrm{recall}}{\\mathrm{precision} + \\mathrm{recall}}\\\\)\n",
    " \n",
    "-AUC (Area Under the Curve) = \\\\(\\displaystyle \\int_0^1 \\dfrac{\\mathrm{TP}}{\\mathrm{P}} d(\\dfrac{\\mathrm{FP}}{\\mathrm{N}}) \\\\)"
   ]
  },
  {
   "cell_type": "code",
   "execution_count": 213,
   "metadata": {},
   "outputs": [],
   "source": [
    "class binary_metrics():\n",
    "  \n",
    "  def __init__(self, data):\n",
    "    #Store data into self:\n",
    "    self.data = data\n",
    "    \n",
    "    #Prediction metrics\n",
    "    self.predictionAndLabels = data.select('prediction', 'label').rdd.map(lambda x : (float(x[0]), float(x[1])))\n",
    "    self.metrics = MulticlassMetrics(self.predictionAndLabels)\n",
    "    \n",
    "    #ROC metrics:\n",
    "    self.scoreAndLabels = data.select('probability', 'label').rdd.map(lambda x : (float(x[0][1]), float(x[1])))\n",
    "    self.roc = BinaryClassificationMetrics(self.scoreAndLabels)\n",
    "    \n",
    "  def accuracy(self):\n",
    "    accuracy = self.predictionAndLabels.filter(lambda x: x[0] == x[1]).count()/self.predictionAndLabels.count()\n",
    "    return np.round(accuracy,2)\n",
    "  \n",
    "  def precision(self):\n",
    "    precision = self.metrics.precision(label = 1.0)\n",
    "    return np.round(precision,2)\n",
    "  \n",
    "  def recall(self):\n",
    "    recall = self.metrics.recall(label = 1.0)\n",
    "    return np.round(recall,2)\n",
    "  \n",
    "  def fmeasure(self):\n",
    "    fmeasure = self.metrics.fMeasure(label = 1.0)\n",
    "    return np.round(fmeasure,2)\n",
    "  \n",
    "  def confusion_matrix(self):\n",
    "    confusion = pd.DataFrame(self.metrics.confusionMatrix().toArray())\n",
    "    return confusion\n",
    "  \n",
    "  def AUC(self):\n",
    "    auc = self.roc.areaUnderROC\n",
    "    return np.round(auc,2)"
   ]
  },
  {
   "cell_type": "code",
   "execution_count": 214,
   "metadata": {},
   "outputs": [],
   "source": [
    "#Get results from the class for predictions from the test set:\n",
    "logit_test_results = binary_metrics(predict_test_logit)\n",
    "logit_train_results = binary_metrics(predict_train_logit)\n",
    "\n",
    "print('\\n Train set:')\n",
    "print('Confusion matrix: \\n')\n",
    "print(logit_train_results.confusion_matrix(), \"\\n\")\n",
    "\n",
    "print('Accuracy =',logit_train_results.accuracy())\n",
    "print('Precision =',logit_train_results.precision())\n",
    "print('Recall =',logit_train_results.recall())\n",
    "print('F1 Score =',logit_train_results.fmeasure())\n",
    "print('Area Under the Curve =',logit_train_results.AUC())\n",
    "\n",
    "\n",
    "print('\\n Test set:')\n",
    "print('Confusion matrix: \\n')\n",
    "print(logit_test_results.confusion_matrix(), \"\\n\")\n",
    "\n",
    "print('Accuracy =',logit_test_results.accuracy())\n",
    "print('Precision =',logit_test_results.precision())\n",
    "print('Recall =',logit_test_results.recall())\n",
    "print('F1 Score =',logit_test_results.fmeasure())\n",
    "print('Area Under the Curve =',logit_test_results.AUC())"
   ]
  },
  {
   "cell_type": "markdown",
   "metadata": {},
   "source": [
    "Let's compute try another logistic model with K-Fold Cross Validation:"
   ]
  },
  {
   "cell_type": "markdown",
   "metadata": {},
   "source": [
    "#### 5.4.3 K-Fold Cross Validation"
   ]
  },
  {
   "cell_type": "code",
   "execution_count": 217,
   "metadata": {},
   "outputs": [],
   "source": [
    "#Let's set the parameter grid for hyper-parameter optimization:\n",
    "paramGrid = ParamGridBuilder()\\\n",
    "    .addGrid(lr.aggregationDepth,[2,5,10])\\\n",
    "    .addGrid(lr.elasticNetParam,[0.5, 1.0])\\\n",
    "    .addGrid(lr.fitIntercept,[False, True])\\\n",
    "    .addGrid(lr.maxIter,[10, 50])\\\n",
    "    .addGrid(lr.regParam,[0, 0.5]) \\\n",
    "    .build()\n",
    "\n",
    "evaluator= BinaryClassificationEvaluator(rawPredictionCol= 'rawPrediction', labelCol='label')\n",
    "\n",
    "# Create 5-fold CrossValidator\n",
    "cv_logit = CrossValidator(estimator=lr, estimatorParamMaps=paramGrid, evaluator=evaluator, numFolds=4)\n",
    "\n",
    "# Run cross validations\n",
    "cvModel_logit = cv_logit.fit(train)\n",
    "\n",
    "# this will likely take a fair amount of time because of the amount of models that we're creating and testing\n",
    "predict_train_logit_k = cvModel_logit.transform(train)\n",
    "predict_test_logit_k = cvModel_logit.transform(test)\n",
    "print(\"The area under ROC for train set after CV  is {}\".format(evaluator.evaluate(predict_train_logit_k)))\n",
    "print(\"The area under ROC for test set after CV  is {}\".format(evaluator.evaluate(predict_test_logit_k)))"
   ]
  },
  {
   "cell_type": "markdown",
   "metadata": {},
   "source": [
    "Hyper-parameter optimization does not seem efficient as the AUC has not been affected."
   ]
  },
  {
   "cell_type": "markdown",
   "metadata": {},
   "source": [
    "### 5.5 Decision Tree classifier"
   ]
  },
  {
   "cell_type": "markdown",
   "metadata": {},
   "source": [
    "First we have to set the label and features indexers to set the data in a good format for the decision tree model:"
   ]
  },
  {
   "cell_type": "code",
   "execution_count": 221,
   "metadata": {},
   "outputs": [
    {
     "data": {
      "text/html": [
       "<style scoped>\n",
       "  .ansiout {\n",
       "    display: block;\n",
       "    unicode-bidi: embed;\n",
       "    white-space: pre-wrap;\n",
       "    word-wrap: break-word;\n",
       "    word-break: break-all;\n",
       "    font-family: \"Source Code Pro\", \"Menlo\", monospace;;\n",
       "    font-size: 13px;\n",
       "    color: #555;\n",
       "    margin-left: 4px;\n",
       "    line-height: 19px;\n",
       "  }\n",
       "</style>\n",
       "<div class=\"ansiout\"><span class=\"ansi-red-fg\">---------------------------------------------------------------------------</span>\n",
       "<span class=\"ansi-red-fg\">Py4JJavaError</span>                             Traceback (most recent call last)\n",
       "<span class=\"ansi-green-fg\">/databricks/spark/python/pyspark/sql/utils.py</span> in <span class=\"ansi-cyan-fg\">deco</span><span class=\"ansi-blue-fg\">(*a, **kw)</span>\n",
       "<span class=\"ansi-green-intense-fg ansi-bold\">     62</span>         <span class=\"ansi-green-fg\">try</span><span class=\"ansi-blue-fg\">:</span>\n",
       "<span class=\"ansi-green-fg\">---&gt; 63</span><span class=\"ansi-red-fg\">             </span><span class=\"ansi-green-fg\">return</span> f<span class=\"ansi-blue-fg\">(</span><span class=\"ansi-blue-fg\">*</span>a<span class=\"ansi-blue-fg\">,</span> <span class=\"ansi-blue-fg\">**</span>kw<span class=\"ansi-blue-fg\">)</span>\n",
       "<span class=\"ansi-green-intense-fg ansi-bold\">     64</span>         <span class=\"ansi-green-fg\">except</span> py4j<span class=\"ansi-blue-fg\">.</span>protocol<span class=\"ansi-blue-fg\">.</span>Py4JJavaError <span class=\"ansi-green-fg\">as</span> e<span class=\"ansi-blue-fg\">:</span>\n",
       "\n",
       "<span class=\"ansi-green-fg\">/databricks/spark/python/lib/py4j-0.10.7-src.zip/py4j/protocol.py</span> in <span class=\"ansi-cyan-fg\">get_return_value</span><span class=\"ansi-blue-fg\">(answer, gateway_client, target_id, name)</span>\n",
       "<span class=\"ansi-green-intense-fg ansi-bold\">    327</span>                     <span class=\"ansi-blue-fg\">&#34;An error occurred while calling {0}{1}{2}.\\n&#34;</span><span class=\"ansi-blue-fg\">.</span>\n",
       "<span class=\"ansi-green-fg\">--&gt; 328</span><span class=\"ansi-red-fg\">                     format(target_id, &#34;.&#34;, name), value)\n",
       "</span><span class=\"ansi-green-intense-fg ansi-bold\">    329</span>             <span class=\"ansi-green-fg\">else</span><span class=\"ansi-blue-fg\">:</span>\n",
       "\n",
       "<span class=\"ansi-red-fg\">Py4JJavaError</span>: An error occurred while calling o1546.fit.\n",
       ": java.lang.IllegalArgumentException: Field &#34;label&#34; does not exist.\n",
       "Available fields: id, Chips, Cost, Hunger, Beef, Pico, Guac, Cheese, Pork, Chicken, Shrimp, Fish, Rice, Beans, Lettuce, Tomato, Bell peper, Carrots, Cabbage, Sauce, Salsa49, Cilantro, Onion, Taquito, Pineapple, Ham, Chile relleno, Nopales, Lobster, Egg, Mushroom, Bacon, Sushi, Avocado, Corn, Zucchini, california, carne_asada, carnitas, california_everything, local, surf_and_turf, al_pastor, adobada, surfin_california, utc, miramar, north_park, clairemont, linda_vista, la_jolla, encinitas, carlsbad, oceanside, hillcrest, san_marcos, pacific_beach, downtown, university_heights, kearny_mesa, carmel_valley, lucha_libre_north_park, california_burritos, rigoberto_s_taco_shop, taco_stand, los_tacos, lolita_s_taco_shop, vallarta_express, los_primos_mexican_food, el_zarape, valentine_s_mexican_food, valentines_mexican_food, tony_s_fresh_mexican_food, cancun_mexican_&amp;_seafood, lupe_s_taco_shop, length_na, length_25, length_50, circum_na, circum_25, circum_50, volume_na, volume_25, volume_50, yelp_na, yelp_25, yelp_50, google_na, google_25, google_50, neg, pos, compound, good_grade, features, selectedFeatures\n",
       "\tat org.apache.spark.sql.types.StructType$$anonfun$apply$1.apply(StructType.scala:274)\n",
       "\tat org.apache.spark.sql.types.StructType$$anonfun$apply$1.apply(StructType.scala:274)\n",
       "\tat scala.collection.MapLike$class.getOrElse(MapLike.scala:128)\n",
       "\tat scala.collection.AbstractMap.getOrElse(Map.scala:59)\n",
       "\tat org.apache.spark.sql.types.StructType.apply(StructType.scala:273)\n",
       "\tat org.apache.spark.ml.feature.StringIndexerBase$class.validateAndTransformSchema(StringIndexer.scala:86)\n",
       "\tat org.apache.spark.ml.feature.StringIndexer.validateAndTransformSchema(StringIndexer.scala:110)\n",
       "\tat org.apache.spark.ml.feature.StringIndexer.transformSchema(StringIndexer.scala:153)\n",
       "\tat org.apache.spark.ml.PipelineStage.transformSchema(Pipeline.scala:74)\n",
       "\tat org.apache.spark.ml.feature.StringIndexer.fit(StringIndexer.scala:136)\n",
       "\tat sun.reflect.NativeMethodAccessorImpl.invoke0(Native Method)\n",
       "\tat sun.reflect.NativeMethodAccessorImpl.invoke(NativeMethodAccessorImpl.java:62)\n",
       "\tat sun.reflect.DelegatingMethodAccessorImpl.invoke(DelegatingMethodAccessorImpl.java:43)\n",
       "\tat java.lang.reflect.Method.invoke(Method.java:498)\n",
       "\tat py4j.reflection.MethodInvoker.invoke(MethodInvoker.java:244)\n",
       "\tat py4j.reflection.ReflectionEngine.invoke(ReflectionEngine.java:380)\n",
       "\tat py4j.Gateway.invoke(Gateway.java:295)\n",
       "\tat py4j.commands.AbstractCommand.invokeMethod(AbstractCommand.java:132)\n",
       "\tat py4j.commands.CallCommand.execute(CallCommand.java:79)\n",
       "\tat py4j.GatewayConnection.run(GatewayConnection.java:251)\n",
       "\tat java.lang.Thread.run(Thread.java:748)\n",
       "\n",
       "\n",
       "During handling of the above exception, another exception occurred:\n",
       "\n",
       "<span class=\"ansi-red-fg\">IllegalArgumentException</span>                  Traceback (most recent call last)\n",
       "<span class=\"ansi-green-fg\">&lt;command-2427207629766061&gt;</span> in <span class=\"ansi-cyan-fg\">&lt;module&gt;</span>\n",
       "<span class=\"ansi-green-intense-fg ansi-bold\">      1</span> <span class=\"ansi-red-fg\">#Label indexer:</span>\n",
       "<span class=\"ansi-green-fg\">----&gt; 2</span><span class=\"ansi-red-fg\"> </span>labelIndexer <span class=\"ansi-blue-fg\">=</span> StringIndexer<span class=\"ansi-blue-fg\">(</span>inputCol<span class=\"ansi-blue-fg\">=</span><span class=\"ansi-blue-fg\">&#34;label&#34;</span><span class=\"ansi-blue-fg\">,</span> outputCol<span class=\"ansi-blue-fg\">=</span><span class=\"ansi-blue-fg\">&#34;indexedLabel&#34;</span><span class=\"ansi-blue-fg\">)</span><span class=\"ansi-blue-fg\">.</span>fit<span class=\"ansi-blue-fg\">(</span>df<span class=\"ansi-blue-fg\">)</span>\n",
       "<span class=\"ansi-green-intense-fg ansi-bold\">      3</span> \n",
       "<span class=\"ansi-green-intense-fg ansi-bold\">      4</span> <span class=\"ansi-red-fg\">#Feature indexer (maxCategories = 2, such that every column with categories &gt; 2 will be treated as a continuous variable):</span>\n",
       "<span class=\"ansi-green-intense-fg ansi-bold\">      5</span> featureIndexer <span class=\"ansi-blue-fg\">=</span><span class=\"ansi-red-fg\">\\</span>\n",
       "\n",
       "<span class=\"ansi-green-fg\">/databricks/spark/python/pyspark/ml/base.py</span> in <span class=\"ansi-cyan-fg\">fit</span><span class=\"ansi-blue-fg\">(self, dataset, params)</span>\n",
       "<span class=\"ansi-green-intense-fg ansi-bold\">    130</span>                 <span class=\"ansi-green-fg\">return</span> self<span class=\"ansi-blue-fg\">.</span>copy<span class=\"ansi-blue-fg\">(</span>params<span class=\"ansi-blue-fg\">)</span><span class=\"ansi-blue-fg\">.</span>_fit<span class=\"ansi-blue-fg\">(</span>dataset<span class=\"ansi-blue-fg\">)</span>\n",
       "<span class=\"ansi-green-intense-fg ansi-bold\">    131</span>             <span class=\"ansi-green-fg\">else</span><span class=\"ansi-blue-fg\">:</span>\n",
       "<span class=\"ansi-green-fg\">--&gt; 132</span><span class=\"ansi-red-fg\">                 </span><span class=\"ansi-green-fg\">return</span> self<span class=\"ansi-blue-fg\">.</span>_fit<span class=\"ansi-blue-fg\">(</span>dataset<span class=\"ansi-blue-fg\">)</span>\n",
       "<span class=\"ansi-green-intense-fg ansi-bold\">    133</span>         <span class=\"ansi-green-fg\">else</span><span class=\"ansi-blue-fg\">:</span>\n",
       "<span class=\"ansi-green-intense-fg ansi-bold\">    134</span>             raise ValueError(&#34;Params must be either a param map or a list/tuple of param maps, &#34;\n",
       "\n",
       "<span class=\"ansi-green-fg\">/databricks/spark/python/pyspark/ml/wrapper.py</span> in <span class=\"ansi-cyan-fg\">_fit</span><span class=\"ansi-blue-fg\">(self, dataset)</span>\n",
       "<span class=\"ansi-green-intense-fg ansi-bold\">    293</span> \n",
       "<span class=\"ansi-green-intense-fg ansi-bold\">    294</span>     <span class=\"ansi-green-fg\">def</span> _fit<span class=\"ansi-blue-fg\">(</span>self<span class=\"ansi-blue-fg\">,</span> dataset<span class=\"ansi-blue-fg\">)</span><span class=\"ansi-blue-fg\">:</span>\n",
       "<span class=\"ansi-green-fg\">--&gt; 295</span><span class=\"ansi-red-fg\">         </span>java_model <span class=\"ansi-blue-fg\">=</span> self<span class=\"ansi-blue-fg\">.</span>_fit_java<span class=\"ansi-blue-fg\">(</span>dataset<span class=\"ansi-blue-fg\">)</span>\n",
       "<span class=\"ansi-green-intense-fg ansi-bold\">    296</span>         model <span class=\"ansi-blue-fg\">=</span> self<span class=\"ansi-blue-fg\">.</span>_create_model<span class=\"ansi-blue-fg\">(</span>java_model<span class=\"ansi-blue-fg\">)</span>\n",
       "<span class=\"ansi-green-intense-fg ansi-bold\">    297</span>         <span class=\"ansi-green-fg\">return</span> self<span class=\"ansi-blue-fg\">.</span>_copyValues<span class=\"ansi-blue-fg\">(</span>model<span class=\"ansi-blue-fg\">)</span>\n",
       "\n",
       "<span class=\"ansi-green-fg\">/databricks/spark/python/pyspark/ml/wrapper.py</span> in <span class=\"ansi-cyan-fg\">_fit_java</span><span class=\"ansi-blue-fg\">(self, dataset)</span>\n",
       "<span class=\"ansi-green-intense-fg ansi-bold\">    290</span>         &#34;&#34;&#34;\n",
       "<span class=\"ansi-green-intense-fg ansi-bold\">    291</span>         self<span class=\"ansi-blue-fg\">.</span>_transfer_params_to_java<span class=\"ansi-blue-fg\">(</span><span class=\"ansi-blue-fg\">)</span>\n",
       "<span class=\"ansi-green-fg\">--&gt; 292</span><span class=\"ansi-red-fg\">         </span><span class=\"ansi-green-fg\">return</span> self<span class=\"ansi-blue-fg\">.</span>_java_obj<span class=\"ansi-blue-fg\">.</span>fit<span class=\"ansi-blue-fg\">(</span>dataset<span class=\"ansi-blue-fg\">.</span>_jdf<span class=\"ansi-blue-fg\">)</span>\n",
       "<span class=\"ansi-green-intense-fg ansi-bold\">    293</span> \n",
       "<span class=\"ansi-green-intense-fg ansi-bold\">    294</span>     <span class=\"ansi-green-fg\">def</span> _fit<span class=\"ansi-blue-fg\">(</span>self<span class=\"ansi-blue-fg\">,</span> dataset<span class=\"ansi-blue-fg\">)</span><span class=\"ansi-blue-fg\">:</span>\n",
       "\n",
       "<span class=\"ansi-green-fg\">/databricks/spark/python/lib/py4j-0.10.7-src.zip/py4j/java_gateway.py</span> in <span class=\"ansi-cyan-fg\">__call__</span><span class=\"ansi-blue-fg\">(self, *args)</span>\n",
       "<span class=\"ansi-green-intense-fg ansi-bold\">   1255</span>         answer <span class=\"ansi-blue-fg\">=</span> self<span class=\"ansi-blue-fg\">.</span>gateway_client<span class=\"ansi-blue-fg\">.</span>send_command<span class=\"ansi-blue-fg\">(</span>command<span class=\"ansi-blue-fg\">)</span>\n",
       "<span class=\"ansi-green-intense-fg ansi-bold\">   1256</span>         return_value = get_return_value(\n",
       "<span class=\"ansi-green-fg\">-&gt; 1257</span><span class=\"ansi-red-fg\">             answer, self.gateway_client, self.target_id, self.name)\n",
       "</span><span class=\"ansi-green-intense-fg ansi-bold\">   1258</span> \n",
       "<span class=\"ansi-green-intense-fg ansi-bold\">   1259</span>         <span class=\"ansi-green-fg\">for</span> temp_arg <span class=\"ansi-green-fg\">in</span> temp_args<span class=\"ansi-blue-fg\">:</span>\n",
       "\n",
       "<span class=\"ansi-green-fg\">/databricks/spark/python/pyspark/sql/utils.py</span> in <span class=\"ansi-cyan-fg\">deco</span><span class=\"ansi-blue-fg\">(*a, **kw)</span>\n",
       "<span class=\"ansi-green-intense-fg ansi-bold\">     77</span>                 <span class=\"ansi-green-fg\">raise</span> QueryExecutionException<span class=\"ansi-blue-fg\">(</span>s<span class=\"ansi-blue-fg\">.</span>split<span class=\"ansi-blue-fg\">(</span><span class=\"ansi-blue-fg\">&#39;: &#39;</span><span class=\"ansi-blue-fg\">,</span> <span class=\"ansi-cyan-fg\">1</span><span class=\"ansi-blue-fg\">)</span><span class=\"ansi-blue-fg\">[</span><span class=\"ansi-cyan-fg\">1</span><span class=\"ansi-blue-fg\">]</span><span class=\"ansi-blue-fg\">,</span> stackTrace<span class=\"ansi-blue-fg\">)</span>\n",
       "<span class=\"ansi-green-intense-fg ansi-bold\">     78</span>             <span class=\"ansi-green-fg\">if</span> s<span class=\"ansi-blue-fg\">.</span>startswith<span class=\"ansi-blue-fg\">(</span><span class=\"ansi-blue-fg\">&#39;java.lang.IllegalArgumentException: &#39;</span><span class=\"ansi-blue-fg\">)</span><span class=\"ansi-blue-fg\">:</span>\n",
       "<span class=\"ansi-green-fg\">---&gt; 79</span><span class=\"ansi-red-fg\">                 </span><span class=\"ansi-green-fg\">raise</span> IllegalArgumentException<span class=\"ansi-blue-fg\">(</span>s<span class=\"ansi-blue-fg\">.</span>split<span class=\"ansi-blue-fg\">(</span><span class=\"ansi-blue-fg\">&#39;: &#39;</span><span class=\"ansi-blue-fg\">,</span> <span class=\"ansi-cyan-fg\">1</span><span class=\"ansi-blue-fg\">)</span><span class=\"ansi-blue-fg\">[</span><span class=\"ansi-cyan-fg\">1</span><span class=\"ansi-blue-fg\">]</span><span class=\"ansi-blue-fg\">,</span> stackTrace<span class=\"ansi-blue-fg\">)</span>\n",
       "<span class=\"ansi-green-intense-fg ansi-bold\">     80</span>             <span class=\"ansi-green-fg\">raise</span>\n",
       "<span class=\"ansi-green-intense-fg ansi-bold\">     81</span>     <span class=\"ansi-green-fg\">return</span> deco\n",
       "\n",
       "<span class=\"ansi-red-fg\">IllegalArgumentException</span>: &#39;Field &#34;label&#34; does not exist.\\nAvailable fields: id, Chips, Cost, Hunger, Beef, Pico, Guac, Cheese, Pork, Chicken, Shrimp, Fish, Rice, Beans, Lettuce, Tomato, Bell peper, Carrots, Cabbage, Sauce, Salsa49, Cilantro, Onion, Taquito, Pineapple, Ham, Chile relleno, Nopales, Lobster, Egg, Mushroom, Bacon, Sushi, Avocado, Corn, Zucchini, california, carne_asada, carnitas, california_everything, local, surf_and_turf, al_pastor, adobada, surfin_california, utc, miramar, north_park, clairemont, linda_vista, la_jolla, encinitas, carlsbad, oceanside, hillcrest, san_marcos, pacific_beach, downtown, university_heights, kearny_mesa, carmel_valley, lucha_libre_north_park, california_burritos, rigoberto_s_taco_shop, taco_stand, los_tacos, lolita_s_taco_shop, vallarta_express, los_primos_mexican_food, el_zarape, valentine_s_mexican_food, valentines_mexican_food, tony_s_fresh_mexican_food, cancun_mexican_&amp;_seafood, lupe_s_taco_shop, length_na, length_25, length_50, circum_na, circum_25, circum_50, volume_na, volume_25, volume_50, yelp_na, yelp_25, yelp_50, google_na, google_25, google_50, neg, pos, compound, good_grade, features, selectedFeatures&#39;</div>"
      ]
     },
     "metadata": {},
     "output_type": "display_data"
    }
   ],
   "source": [
    "#Label indexer:\n",
    "labelIndexer = StringIndexer(inputCol=\"label\", outputCol=\"indexedLabel\").fit(df)\n",
    "\n",
    "#Feature indexer (maxCategories = 2, such that every column with categories > 2 will be treated as a continuous variable):\n",
    "featureIndexer =\\\n",
    "    VectorIndexer(inputCol=\"features\", outputCol=\"indexedFeatures\", maxCategories=2).fit(df)"
   ]
  },
  {
   "cell_type": "code",
   "execution_count": 222,
   "metadata": {},
   "outputs": [],
   "source": [
    "# Train a DecisionTree model.\n",
    "dt = DecisionTreeClassifier(labelCol=\"indexedLabel\", featuresCol=\"indexedFeatures\")\n",
    "\n",
    "# Train model. This also runs the indexers.\n",
    "pipeline = Pipeline(stages=[labelIndexer, featureIndexer, dt])\n",
    "\n",
    "dt_model = pipeline.fit(train)\n",
    "\n",
    "# Make predictions:\n",
    "predict_train_dt = dt_model.transform(train)\n",
    "predict_test_dt = dt_model.transform(test)"
   ]
  },
  {
   "cell_type": "code",
   "execution_count": 223,
   "metadata": {},
   "outputs": [],
   "source": [
    "#Get results from the class for predictions from the test set:\n",
    "dt_test_results = binary_metrics(predict_test_dt)\n",
    "dt_train_results = binary_metrics(predict_train_dt)\n",
    "\n",
    "print('\\n Train set:')\n",
    "print('Confusion matrix: \\n')\n",
    "print(dt_train_results.confusion_matrix(), \"\\n\")\n",
    "\n",
    "print('Accuracy =',dt_train_results.accuracy())\n",
    "print('Precision =',dt_train_results.precision())\n",
    "print('Recall =',dt_train_results.recall())\n",
    "print('F1 Score =',dt_train_results.fmeasure())\n",
    "print('Area Under the Curve =',dt_train_results.AUC())\n",
    "\n",
    "\n",
    "print('\\n Test set:')\n",
    "print('Confusion matrix: \\n')\n",
    "print(dt_test_results.confusion_matrix(), \"\\n\")\n",
    "\n",
    "print('Accuracy =',dt_test_results.accuracy())\n",
    "print('Precision =',dt_test_results.precision())\n",
    "print('Recall =',dt_test_results.recall())\n",
    "print('F1 Score =',dt_test_results.fmeasure())\n",
    "print('Area Under the Curve =',dt_test_results.AUC())"
   ]
  },
  {
   "cell_type": "markdown",
   "metadata": {},
   "source": [
    "### 5.6 Random Forest classifier"
   ]
  },
  {
   "cell_type": "code",
   "execution_count": 225,
   "metadata": {},
   "outputs": [
    {
     "data": {
      "text/html": [
       "<style scoped>\n",
       "  .ansiout {\n",
       "    display: block;\n",
       "    unicode-bidi: embed;\n",
       "    white-space: pre-wrap;\n",
       "    word-wrap: break-word;\n",
       "    word-break: break-all;\n",
       "    font-family: \"Source Code Pro\", \"Menlo\", monospace;;\n",
       "    font-size: 13px;\n",
       "    color: #555;\n",
       "    margin-left: 4px;\n",
       "    line-height: 19px;\n",
       "  }\n",
       "</style>\n",
       "<div class=\"ansiout\"><span class=\"ansi-red-fg\">---------------------------------------------------------------------------</span>\n",
       "<span class=\"ansi-red-fg\">Py4JJavaError</span>                             Traceback (most recent call last)\n",
       "<span class=\"ansi-green-fg\">/databricks/spark/python/pyspark/sql/utils.py</span> in <span class=\"ansi-cyan-fg\">deco</span><span class=\"ansi-blue-fg\">(*a, **kw)</span>\n",
       "<span class=\"ansi-green-intense-fg ansi-bold\">     62</span>         <span class=\"ansi-green-fg\">try</span><span class=\"ansi-blue-fg\">:</span>\n",
       "<span class=\"ansi-green-fg\">---&gt; 63</span><span class=\"ansi-red-fg\">             </span><span class=\"ansi-green-fg\">return</span> f<span class=\"ansi-blue-fg\">(</span><span class=\"ansi-blue-fg\">*</span>a<span class=\"ansi-blue-fg\">,</span> <span class=\"ansi-blue-fg\">**</span>kw<span class=\"ansi-blue-fg\">)</span>\n",
       "<span class=\"ansi-green-intense-fg ansi-bold\">     64</span>         <span class=\"ansi-green-fg\">except</span> py4j<span class=\"ansi-blue-fg\">.</span>protocol<span class=\"ansi-blue-fg\">.</span>Py4JJavaError <span class=\"ansi-green-fg\">as</span> e<span class=\"ansi-blue-fg\">:</span>\n",
       "\n",
       "<span class=\"ansi-green-fg\">/databricks/spark/python/lib/py4j-0.10.7-src.zip/py4j/protocol.py</span> in <span class=\"ansi-cyan-fg\">get_return_value</span><span class=\"ansi-blue-fg\">(answer, gateway_client, target_id, name)</span>\n",
       "<span class=\"ansi-green-intense-fg ansi-bold\">    327</span>                     <span class=\"ansi-blue-fg\">&#34;An error occurred while calling {0}{1}{2}.\\n&#34;</span><span class=\"ansi-blue-fg\">.</span>\n",
       "<span class=\"ansi-green-fg\">--&gt; 328</span><span class=\"ansi-red-fg\">                     format(target_id, &#34;.&#34;, name), value)\n",
       "</span><span class=\"ansi-green-intense-fg ansi-bold\">    329</span>             <span class=\"ansi-green-fg\">else</span><span class=\"ansi-blue-fg\">:</span>\n",
       "\n",
       "<span class=\"ansi-red-fg\">Py4JJavaError</span>: An error occurred while calling o4624.fit.\n",
       ": java.lang.IllegalArgumentException: Field &#34;label&#34; does not exist.\n",
       "Available fields: id, Chips, Cost, Hunger, Beef, Pico, Guac, Cheese, Pork, Chicken, Shrimp, Fish, Rice, Beans, Lettuce, Tomato, Bell peper, Carrots, Cabbage, Sauce, Salsa49, Cilantro, Onion, Taquito, Pineapple, Ham, Chile relleno, Nopales, Lobster, Egg, Mushroom, Bacon, Sushi, Avocado, Corn, Zucchini, california, carne_asada, carnitas, california_everything, local, surf_and_turf, al_pastor, adobada, surfin_california, utc, miramar, north_park, clairemont, linda_vista, la_jolla, encinitas, carlsbad, oceanside, hillcrest, san_marcos, pacific_beach, downtown, university_heights, kearny_mesa, carmel_valley, lucha_libre_north_park, california_burritos, rigoberto_s_taco_shop, taco_stand, los_tacos, lolita_s_taco_shop, vallarta_express, los_primos_mexican_food, el_zarape, valentine_s_mexican_food, valentines_mexican_food, tony_s_fresh_mexican_food, cancun_mexican_&amp;_seafood, lupe_s_taco_shop, length_na, length_25, length_50, circum_na, circum_25, circum_50, volume_na, volume_25, volume_50, yelp_na, yelp_25, yelp_50, google_na, google_25, google_50, neg, pos, compound, good_grade\n",
       "\tat org.apache.spark.sql.types.StructType$$anonfun$apply$1.apply(StructType.scala:274)\n",
       "\tat org.apache.spark.sql.types.StructType$$anonfun$apply$1.apply(StructType.scala:274)\n",
       "\tat scala.collection.MapLike$class.getOrElse(MapLike.scala:128)\n",
       "\tat scala.collection.AbstractMap.getOrElse(Map.scala:59)\n",
       "\tat org.apache.spark.sql.types.StructType.apply(StructType.scala:273)\n",
       "\tat org.apache.spark.ml.feature.StringIndexerBase$class.validateAndTransformSchema(StringIndexer.scala:86)\n",
       "\tat org.apache.spark.ml.feature.StringIndexer.validateAndTransformSchema(StringIndexer.scala:110)\n",
       "\tat org.apache.spark.ml.feature.StringIndexer.transformSchema(StringIndexer.scala:153)\n",
       "\tat org.apache.spark.ml.PipelineStage.transformSchema(Pipeline.scala:74)\n",
       "\tat org.apache.spark.ml.feature.StringIndexer.fit(StringIndexer.scala:136)\n",
       "\tat sun.reflect.NativeMethodAccessorImpl.invoke0(Native Method)\n",
       "\tat sun.reflect.NativeMethodAccessorImpl.invoke(NativeMethodAccessorImpl.java:62)\n",
       "\tat sun.reflect.DelegatingMethodAccessorImpl.invoke(DelegatingMethodAccessorImpl.java:43)\n",
       "\tat java.lang.reflect.Method.invoke(Method.java:498)\n",
       "\tat py4j.reflection.MethodInvoker.invoke(MethodInvoker.java:244)\n",
       "\tat py4j.reflection.ReflectionEngine.invoke(ReflectionEngine.java:380)\n",
       "\tat py4j.Gateway.invoke(Gateway.java:295)\n",
       "\tat py4j.commands.AbstractCommand.invokeMethod(AbstractCommand.java:132)\n",
       "\tat py4j.commands.CallCommand.execute(CallCommand.java:79)\n",
       "\tat py4j.GatewayConnection.run(GatewayConnection.java:251)\n",
       "\tat java.lang.Thread.run(Thread.java:748)\n",
       "\n",
       "\n",
       "During handling of the above exception, another exception occurred:\n",
       "\n",
       "<span class=\"ansi-red-fg\">IllegalArgumentException</span>                  Traceback (most recent call last)\n",
       "<span class=\"ansi-green-fg\">&lt;command-2427207629766089&gt;</span> in <span class=\"ansi-cyan-fg\">&lt;module&gt;</span>\n",
       "<span class=\"ansi-green-intense-fg ansi-bold\">      1</span> <span class=\"ansi-red-fg\"># Index labels, adding metadata to the label column.</span>\n",
       "<span class=\"ansi-green-intense-fg ansi-bold\">      2</span> <span class=\"ansi-red-fg\"># Fit on whole dataset to include all labels in index.</span>\n",
       "<span class=\"ansi-green-fg\">----&gt; 3</span><span class=\"ansi-red-fg\"> </span>labelIndexer <span class=\"ansi-blue-fg\">=</span> StringIndexer<span class=\"ansi-blue-fg\">(</span>inputCol<span class=\"ansi-blue-fg\">=</span><span class=\"ansi-blue-fg\">&#34;label&#34;</span><span class=\"ansi-blue-fg\">,</span> outputCol<span class=\"ansi-blue-fg\">=</span><span class=\"ansi-blue-fg\">&#34;indexedLabel&#34;</span><span class=\"ansi-blue-fg\">)</span><span class=\"ansi-blue-fg\">.</span>fit<span class=\"ansi-blue-fg\">(</span>df<span class=\"ansi-blue-fg\">)</span>\n",
       "<span class=\"ansi-green-intense-fg ansi-bold\">      4</span> \n",
       "<span class=\"ansi-green-intense-fg ansi-bold\">      5</span> <span class=\"ansi-red-fg\"># Automatically identify categorical features, and index them.</span>\n",
       "\n",
       "<span class=\"ansi-green-fg\">/databricks/spark/python/pyspark/ml/base.py</span> in <span class=\"ansi-cyan-fg\">fit</span><span class=\"ansi-blue-fg\">(self, dataset, params)</span>\n",
       "<span class=\"ansi-green-intense-fg ansi-bold\">    130</span>                 <span class=\"ansi-green-fg\">return</span> self<span class=\"ansi-blue-fg\">.</span>copy<span class=\"ansi-blue-fg\">(</span>params<span class=\"ansi-blue-fg\">)</span><span class=\"ansi-blue-fg\">.</span>_fit<span class=\"ansi-blue-fg\">(</span>dataset<span class=\"ansi-blue-fg\">)</span>\n",
       "<span class=\"ansi-green-intense-fg ansi-bold\">    131</span>             <span class=\"ansi-green-fg\">else</span><span class=\"ansi-blue-fg\">:</span>\n",
       "<span class=\"ansi-green-fg\">--&gt; 132</span><span class=\"ansi-red-fg\">                 </span><span class=\"ansi-green-fg\">return</span> self<span class=\"ansi-blue-fg\">.</span>_fit<span class=\"ansi-blue-fg\">(</span>dataset<span class=\"ansi-blue-fg\">)</span>\n",
       "<span class=\"ansi-green-intense-fg ansi-bold\">    133</span>         <span class=\"ansi-green-fg\">else</span><span class=\"ansi-blue-fg\">:</span>\n",
       "<span class=\"ansi-green-intense-fg ansi-bold\">    134</span>             raise ValueError(&#34;Params must be either a param map or a list/tuple of param maps, &#34;\n",
       "\n",
       "<span class=\"ansi-green-fg\">/databricks/spark/python/pyspark/ml/wrapper.py</span> in <span class=\"ansi-cyan-fg\">_fit</span><span class=\"ansi-blue-fg\">(self, dataset)</span>\n",
       "<span class=\"ansi-green-intense-fg ansi-bold\">    293</span> \n",
       "<span class=\"ansi-green-intense-fg ansi-bold\">    294</span>     <span class=\"ansi-green-fg\">def</span> _fit<span class=\"ansi-blue-fg\">(</span>self<span class=\"ansi-blue-fg\">,</span> dataset<span class=\"ansi-blue-fg\">)</span><span class=\"ansi-blue-fg\">:</span>\n",
       "<span class=\"ansi-green-fg\">--&gt; 295</span><span class=\"ansi-red-fg\">         </span>java_model <span class=\"ansi-blue-fg\">=</span> self<span class=\"ansi-blue-fg\">.</span>_fit_java<span class=\"ansi-blue-fg\">(</span>dataset<span class=\"ansi-blue-fg\">)</span>\n",
       "<span class=\"ansi-green-intense-fg ansi-bold\">    296</span>         model <span class=\"ansi-blue-fg\">=</span> self<span class=\"ansi-blue-fg\">.</span>_create_model<span class=\"ansi-blue-fg\">(</span>java_model<span class=\"ansi-blue-fg\">)</span>\n",
       "<span class=\"ansi-green-intense-fg ansi-bold\">    297</span>         <span class=\"ansi-green-fg\">return</span> self<span class=\"ansi-blue-fg\">.</span>_copyValues<span class=\"ansi-blue-fg\">(</span>model<span class=\"ansi-blue-fg\">)</span>\n",
       "\n",
       "<span class=\"ansi-green-fg\">/databricks/spark/python/pyspark/ml/wrapper.py</span> in <span class=\"ansi-cyan-fg\">_fit_java</span><span class=\"ansi-blue-fg\">(self, dataset)</span>\n",
       "<span class=\"ansi-green-intense-fg ansi-bold\">    290</span>         &#34;&#34;&#34;\n",
       "<span class=\"ansi-green-intense-fg ansi-bold\">    291</span>         self<span class=\"ansi-blue-fg\">.</span>_transfer_params_to_java<span class=\"ansi-blue-fg\">(</span><span class=\"ansi-blue-fg\">)</span>\n",
       "<span class=\"ansi-green-fg\">--&gt; 292</span><span class=\"ansi-red-fg\">         </span><span class=\"ansi-green-fg\">return</span> self<span class=\"ansi-blue-fg\">.</span>_java_obj<span class=\"ansi-blue-fg\">.</span>fit<span class=\"ansi-blue-fg\">(</span>dataset<span class=\"ansi-blue-fg\">.</span>_jdf<span class=\"ansi-blue-fg\">)</span>\n",
       "<span class=\"ansi-green-intense-fg ansi-bold\">    293</span> \n",
       "<span class=\"ansi-green-intense-fg ansi-bold\">    294</span>     <span class=\"ansi-green-fg\">def</span> _fit<span class=\"ansi-blue-fg\">(</span>self<span class=\"ansi-blue-fg\">,</span> dataset<span class=\"ansi-blue-fg\">)</span><span class=\"ansi-blue-fg\">:</span>\n",
       "\n",
       "<span class=\"ansi-green-fg\">/databricks/spark/python/lib/py4j-0.10.7-src.zip/py4j/java_gateway.py</span> in <span class=\"ansi-cyan-fg\">__call__</span><span class=\"ansi-blue-fg\">(self, *args)</span>\n",
       "<span class=\"ansi-green-intense-fg ansi-bold\">   1255</span>         answer <span class=\"ansi-blue-fg\">=</span> self<span class=\"ansi-blue-fg\">.</span>gateway_client<span class=\"ansi-blue-fg\">.</span>send_command<span class=\"ansi-blue-fg\">(</span>command<span class=\"ansi-blue-fg\">)</span>\n",
       "<span class=\"ansi-green-intense-fg ansi-bold\">   1256</span>         return_value = get_return_value(\n",
       "<span class=\"ansi-green-fg\">-&gt; 1257</span><span class=\"ansi-red-fg\">             answer, self.gateway_client, self.target_id, self.name)\n",
       "</span><span class=\"ansi-green-intense-fg ansi-bold\">   1258</span> \n",
       "<span class=\"ansi-green-intense-fg ansi-bold\">   1259</span>         <span class=\"ansi-green-fg\">for</span> temp_arg <span class=\"ansi-green-fg\">in</span> temp_args<span class=\"ansi-blue-fg\">:</span>\n",
       "\n",
       "<span class=\"ansi-green-fg\">/databricks/spark/python/pyspark/sql/utils.py</span> in <span class=\"ansi-cyan-fg\">deco</span><span class=\"ansi-blue-fg\">(*a, **kw)</span>\n",
       "<span class=\"ansi-green-intense-fg ansi-bold\">     77</span>                 <span class=\"ansi-green-fg\">raise</span> QueryExecutionException<span class=\"ansi-blue-fg\">(</span>s<span class=\"ansi-blue-fg\">.</span>split<span class=\"ansi-blue-fg\">(</span><span class=\"ansi-blue-fg\">&#39;: &#39;</span><span class=\"ansi-blue-fg\">,</span> <span class=\"ansi-cyan-fg\">1</span><span class=\"ansi-blue-fg\">)</span><span class=\"ansi-blue-fg\">[</span><span class=\"ansi-cyan-fg\">1</span><span class=\"ansi-blue-fg\">]</span><span class=\"ansi-blue-fg\">,</span> stackTrace<span class=\"ansi-blue-fg\">)</span>\n",
       "<span class=\"ansi-green-intense-fg ansi-bold\">     78</span>             <span class=\"ansi-green-fg\">if</span> s<span class=\"ansi-blue-fg\">.</span>startswith<span class=\"ansi-blue-fg\">(</span><span class=\"ansi-blue-fg\">&#39;java.lang.IllegalArgumentException: &#39;</span><span class=\"ansi-blue-fg\">)</span><span class=\"ansi-blue-fg\">:</span>\n",
       "<span class=\"ansi-green-fg\">---&gt; 79</span><span class=\"ansi-red-fg\">                 </span><span class=\"ansi-green-fg\">raise</span> IllegalArgumentException<span class=\"ansi-blue-fg\">(</span>s<span class=\"ansi-blue-fg\">.</span>split<span class=\"ansi-blue-fg\">(</span><span class=\"ansi-blue-fg\">&#39;: &#39;</span><span class=\"ansi-blue-fg\">,</span> <span class=\"ansi-cyan-fg\">1</span><span class=\"ansi-blue-fg\">)</span><span class=\"ansi-blue-fg\">[</span><span class=\"ansi-cyan-fg\">1</span><span class=\"ansi-blue-fg\">]</span><span class=\"ansi-blue-fg\">,</span> stackTrace<span class=\"ansi-blue-fg\">)</span>\n",
       "<span class=\"ansi-green-intense-fg ansi-bold\">     80</span>             <span class=\"ansi-green-fg\">raise</span>\n",
       "<span class=\"ansi-green-intense-fg ansi-bold\">     81</span>     <span class=\"ansi-green-fg\">return</span> deco\n",
       "\n",
       "<span class=\"ansi-red-fg\">IllegalArgumentException</span>: &#39;Field &#34;label&#34; does not exist.\\nAvailable fields: id, Chips, Cost, Hunger, Beef, Pico, Guac, Cheese, Pork, Chicken, Shrimp, Fish, Rice, Beans, Lettuce, Tomato, Bell peper, Carrots, Cabbage, Sauce, Salsa49, Cilantro, Onion, Taquito, Pineapple, Ham, Chile relleno, Nopales, Lobster, Egg, Mushroom, Bacon, Sushi, Avocado, Corn, Zucchini, california, carne_asada, carnitas, california_everything, local, surf_and_turf, al_pastor, adobada, surfin_california, utc, miramar, north_park, clairemont, linda_vista, la_jolla, encinitas, carlsbad, oceanside, hillcrest, san_marcos, pacific_beach, downtown, university_heights, kearny_mesa, carmel_valley, lucha_libre_north_park, california_burritos, rigoberto_s_taco_shop, taco_stand, los_tacos, lolita_s_taco_shop, vallarta_express, los_primos_mexican_food, el_zarape, valentine_s_mexican_food, valentines_mexican_food, tony_s_fresh_mexican_food, cancun_mexican_&amp;_seafood, lupe_s_taco_shop, length_na, length_25, length_50, circum_na, circum_25, circum_50, volume_na, volume_25, volume_50, yelp_na, yelp_25, yelp_50, google_na, google_25, google_50, neg, pos, compound, good_grade&#39;</div>"
      ]
     },
     "metadata": {},
     "output_type": "display_data"
    }
   ],
   "source": [
    "# Index labels, adding metadata to the label column.\n",
    "# Fit on whole dataset to include all labels in index.\n",
    "labelIndexer = StringIndexer(inputCol=\"label\", outputCol=\"indexedLabel\").fit(df)\n",
    "\n",
    "# Automatically identify categorical features, and index them.\n",
    "# Set maxCategories so features with > 4 distinct values are treated as continuous.\n",
    "featureIndexer =\\\n",
    "    VectorIndexer(inputCol=\"features\", outputCol=\"indexedFeatures\", maxCategories=4).fit(df)\n",
    "\n",
    "# Train a RandomForest model.\n",
    "rf = RandomForestClassifier(labelCol=\"indexedLabel\", featuresCol=\"indexedFeatures\", numTrees=10)\n",
    "\n",
    "# Convert indexed labels back to original labels.\n",
    "labelConverter = IndexToString(inputCol=\"prediction\", outputCol=\"predictedLabel\",\n",
    "                               labels=labelIndexer.labels)\n",
    "\n",
    "# Chain indexers and forest in a Pipeline\n",
    "pipeline = Pipeline(stages=[labelIndexer, featureIndexer, rf, labelConverter])\n",
    "\n",
    "# Train model.  This also runs the indexers.\n",
    "rf_model = pipeline.fit(train)\n",
    "\n",
    "# Make predictions.\n",
    "predict_train_rf = rf_model.transform(train)\n",
    "predict_test_rf = rf_model.transform(test)"
   ]
  },
  {
   "cell_type": "code",
   "execution_count": 226,
   "metadata": {},
   "outputs": [],
   "source": [
    "#Get results from the class for predictions from the test set:\n",
    "rf_test_results = binary_metrics(predict_train_rf)\n",
    "rf_train_results = binary_metrics(predict_test_rf)\n",
    "\n",
    "print('\\n Train set:')\n",
    "print('Confusion matrix: \\n')\n",
    "print(rf_train_results.confusion_matrix(), \"\\n\")\n",
    "\n",
    "print('Accuracy =',rf_train_results.accuracy())\n",
    "print('Precision =',rf_train_results.precision())\n",
    "print('Recall =',rf_train_results.recall())\n",
    "print('F1 Score =',rf_train_results.fmeasure())\n",
    "print('Area Under the Curve =',rf_train_results.AUC())\n",
    "\n",
    "\n",
    "print('\\n Test set:')\n",
    "print('Confusion matrix: \\n')\n",
    "print(rf_test_results.confusion_matrix(), \"\\n\")\n",
    "\n",
    "print('Accuracy =',rf_test_results.accuracy())\n",
    "print('Precision =',rf_test_results.precision())\n",
    "print('Recall =',rf_test_results.recall())\n",
    "print('F1 Score =',rf_test_results.fmeasure())\n",
    "print('Area Under the Curve =',rf_test_results.AUC())"
   ]
  },
  {
   "cell_type": "markdown",
   "metadata": {},
   "source": [
    "### 5.7 Gradient-boosted tree classifier"
   ]
  },
  {
   "cell_type": "code",
   "execution_count": 228,
   "metadata": {},
   "outputs": [],
   "source": [
    "# Index labels, adding metadata to the label column.\n",
    "# Fit on whole dataset to include all labels in index.\n",
    "labelIndexer = StringIndexer(inputCol=\"label\", outputCol=\"indexedLabel\").fit(df)\n",
    "# Automatically identify categorical features, and index them.\n",
    "# Set maxCategories so features with > 4 distinct values are treated as continuous.\n",
    "featureIndexer =\\\n",
    "    VectorIndexer(inputCol=\"features\", outputCol=\"indexedFeatures\", maxCategories=4).fit(df)\n",
    "\n",
    "# Train a GBT model.\n",
    "gbt = GBTClassifier(labelCol=\"indexedLabel\", featuresCol=\"indexedFeatures\", maxIter=10)\n",
    "\n",
    "# Chain indexers and GBT in a Pipeline\n",
    "pipeline = Pipeline(stages=[labelIndexer, featureIndexer, gbt])\n",
    "\n",
    "# Train model.  This also runs the indexers.\n",
    "model = pipeline.fit(train)\n",
    "\n",
    "# Make predictions.\n",
    "predict_train_gbt = gbt_model.transform(train)\n",
    "predict_test_gbt = gbt_model.transform(test)\n",
    "\n",
    "\n",
    "gbtModel = model.stages[2]\n",
    "print(gbtModel)  # summary only"
   ]
  },
  {
   "cell_type": "code",
   "execution_count": 229,
   "metadata": {},
   "outputs": [],
   "source": [
    "#Get results from the class for predictions from the test set:\n",
    "gbt_test_results = binary_metrics(predict_train_gbt)\n",
    "gbt_train_results = binary_metrics(predict_test_gbt)\n",
    "\n",
    "print('\\n Train set:')\n",
    "print('Confusion matrix: \\n')\n",
    "print(gbt_train_results.confusion_matrix(), \"\\n\")\n",
    "\n",
    "print('Accuracy =',gbt_train_results.accuracy())\n",
    "print('Precision =',gbt_train_results.precision())\n",
    "print('Recall =',gbt_train_results.recall())\n",
    "print('F1 Score =',gbt_train_results.fmeasure())\n",
    "print('Area Under the Curve =',gbt_train_results.AUC())\n",
    "\n",
    "\n",
    "print('\\n Test set:')\n",
    "print('Confusion matrix: \\n')\n",
    "print(gbt_test_results.confusion_matrix(), \"\\n\")\n",
    "\n",
    "print('Accuracy =',gbt_test_results.accuracy())\n",
    "print('Precision =',gbt_test_results.precision())\n",
    "print('Recall =',gbt_test_results.recall())\n",
    "print('F1 Score =',gbt_test_results.fmeasure())\n",
    "print('Area Under the Curve =',gbt_test_results.AUC())"
   ]
  },
  {
   "cell_type": "markdown",
   "metadata": {},
   "source": [
    "### 6. Determining the best burrito"
   ]
  },
  {
   "cell_type": "code",
   "execution_count": 231,
   "metadata": {},
   "outputs": [],
   "source": [
    "df_path = '/FileStore/tables/df_withall.csv'\n",
    "\n",
    "#Loading the Burrito csv file\n",
    "df_withall = spark.read.format('csv').options(header='true', inferSchema='true').load(df_path)\n"
   ]
  },
  {
   "cell_type": "code",
   "execution_count": 232,
   "metadata": {},
   "outputs": [],
   "source": [
    "display(df_withall)"
   ]
  },
  {
   "cell_type": "markdown",
   "metadata": {},
   "source": [
    "Here as a grade depend to the reviewer that give it and his severerity, we decided to reshape it with the smooth average of the reviwer's grade. Here the aim is to take into account the average grade gave by the reviewer, but also to take into account the number of review that he gave. If the reviewer gave only 1 review of 2 the score of the review shouldn't be as important as one that gave 10 review of 2. Because for the one that gave only one review of 2 it can be that it was justified and a very bad burrito."
   ]
  },
  {
   "cell_type": "code",
   "execution_count": 234,
   "metadata": {},
   "outputs": [],
   "source": [
    "window_spec = Window.partitionBy('Reviewer')\n",
    "avg_grade = fn.mean('overall').over(window_spec)\n",
    "n = fn.count('id').over(window_spec)\n",
    "\n",
    "df_withall= df_withall.withColumn('avg_grade', avg_grade)\n",
    "df_withall= df_withall.withColumn('n', n)\n",
    "\n",
    "alpha = 5\n",
    "meanrevw = df_withall.agg({\"overall\" : 'avg'}).first()[0]\n",
    "smoothed = fn.udf(lambda x,n: (n*x + meanrevw*alpha)/(n + alpha))\n",
    "df_withall = df_withall.withColumn(\"avg_smooth\", smoothed(df_withall.avg_grade, df_withall.n))\n",
    "\n",
    "meanrevwr = df_withall.select('Reviewer', 'avg_smooth').distinct().agg(fn.mean('avg_smooth')).first()[0]\n",
    "centr = fn.udf(lambda x: x-meanrevw)\n",
    "df_withall = df_withall.withColumn(\"avg_grade_scaled\",centr(df_withall.avg_smooth))\n",
    "df_withall = df_withall.drop('avg_grade','n','avg_smooth')\n",
    "\n",
    "df_withall = df_withall.withColumn('score', df_withall.overall -df_withall.avg_grade_scaled)\n",
    "\n",
    "df_withall.select('id','Reviewer','score').show(5)\n"
   ]
  },
  {
   "cell_type": "code",
   "execution_count": 235,
   "metadata": {},
   "outputs": [],
   "source": [
    "compo = df_withall.columns[10:44]\n",
    "compo.append('id')\n",
    "compo.append('score')\n",
    "df_bis = df_withall.select(compo)\n",
    "display(df_bis)"
   ]
  },
  {
   "cell_type": "code",
   "execution_count": 236,
   "metadata": {},
   "outputs": [],
   "source": [
    "#Delete variables that do not give any informations\n",
    "to_drop = []\n",
    "for var in df_bis.columns:\n",
    "  if df_bis.agg({var : 'sum'}).first()[0]==0:\n",
    "    to_drop.append(var)\n",
    "print(to_drop)\n",
    "df_bis.drop('Queso')"
   ]
  },
  {
   "cell_type": "code",
   "execution_count": 237,
   "metadata": {},
   "outputs": [],
   "source": [
    "ingredient = df_bis.columns[0:33]\n",
    "for each in ingredient: \n",
    "  others = ingredient\n",
    "  others.remove(each)\n",
    "  for each2 in others:\n",
    "    interact = fn.when(df_bis[each]== 0, 0).when(df_bis[each2]== 0, 0).otherwise(1)\n",
    "    df_bis = df_bis.withColumn(str(each)+'_'+str(each2), interact)"
   ]
  },
  {
   "cell_type": "code",
   "execution_count": 238,
   "metadata": {},
   "outputs": [],
   "source": [
    "features = df_bis.drop('id', 'score').columns\n",
    "\n",
    "assembler = VectorAssembler(\n",
    "    inputCols= features,\n",
    "    outputCol='features')\n",
    "\n",
    "df_bis = assembler.transform(df_bis)\n",
    "display(df_bis.select('id', 'features'))\n"
   ]
  },
  {
   "cell_type": "markdown",
   "metadata": {},
   "source": [
    "We have still too much information regarding the ingredient and combinaison of ingredients. Here, we have more variables than observations. So we decided to keep only the correlated to score ones as only master ingredients are interesting for us."
   ]
  },
  {
   "cell_type": "code",
   "execution_count": 240,
   "metadata": {},
   "outputs": [],
   "source": [
    "selector = ChiSqSelector(selectorType = \"percentile\", percentile = 0.2, featuresCol=\"features\",\n",
    "                         outputCol=\"selectedFeatures\", labelCol=\"score\")\n",
    "\n",
    "df_bis = selector.fit(df_bis).transform(df_bis)\n",
    "display(df_bis.select('id', 'features', 'selectedFeatures', 'score').limit(5))"
   ]
  },
  {
   "cell_type": "code",
   "execution_count": 241,
   "metadata": {},
   "outputs": [],
   "source": [
    "lr = LinearRegression(labelCol='score', featuresCol='selectedFeatures', maxIter=50)\n",
    "\n",
    "#Fit on the train set:\n",
    "linear_model = lr.fit(df_bis)\n",
    "\n",
    "\n",
    "#Get predictions for both train and test sets:\n",
    "prediction = linear_model.transform(df_bis)\n",
    "\n",
    "#Show up 10 first rows:\n",
    "prediction.select('SelectedFeatures','prediction').show(10)"
   ]
  },
  {
   "cell_type": "code",
   "execution_count": 242,
   "metadata": {},
   "outputs": [],
   "source": [
    "print(linear_model.coefficients)\n",
    "print(linear_model.intercept)"
   ]
  },
  {
   "cell_type": "code",
   "execution_count": 243,
   "metadata": {},
   "outputs": [],
   "source": [
    "print(linear_model.explainParams)"
   ]
  },
  {
   "cell_type": "code",
   "execution_count": 244,
   "metadata": {},
   "outputs": [],
   "source": [
    "coef = np.array([i for i in linear_model.coefficients])\n",
    "coef_pos = np.where(coef > 0)\n",
    "coef_pos[0]"
   ]
  }
 ],
 "metadata": {
  "kernelspec": {
   "display_name": "Python 3",
   "language": "python",
   "name": "python3"
  },
  "language_info": {
   "codemirror_mode": {
    "name": "ipython",
    "version": 3
   },
   "file_extension": ".py",
   "mimetype": "text/x-python",
   "name": "python",
   "nbconvert_exporter": "python",
   "pygments_lexer": "ipython3",
   "version": "3.7.3"
  },
  "name": "tacos",
  "notebookId": 2427207629765840
 },
 "nbformat": 4,
 "nbformat_minor": 4
}
